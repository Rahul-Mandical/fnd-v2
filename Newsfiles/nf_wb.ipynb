{
  "nbformat": 4,
  "nbformat_minor": 0,
  "metadata": {
    "colab": {
      "name": "nf wb.ipynb",
      "provenance": [],
      "collapsed_sections": []
    },
    "kernelspec": {
      "name": "python3",
      "display_name": "Python 3"
    }
  },
  "cells": [
    {
      "cell_type": "code",
      "metadata": {
        "id": "8uQMnd8olqLH",
        "colab_type": "code",
        "outputId": "751bd935-5d2c-4d80-f1fb-aa8dd4a6e00b",
        "colab": {
          "base_uri": "https://localhost:8080/",
          "height": 34
        }
      },
      "source": [
        "\"\"\"\n",
        "TODO - Create a Deep Neural Network with Word Embeddings for Newsfiles.\n",
        " Warning : Uploading files take too long\n",
        "0 is false 1 is true\n",
        "\"\"\"\n"
      ],
      "execution_count": 0,
      "outputs": [
        {
          "output_type": "execute_result",
          "data": {
            "text/plain": [
              "'\\nTODO - Create a Deep Neural Network with Word Embeddings for Newsfiles.\\n Warning : Uploading files take too long\\n0 is false 1 is true\\n'"
            ]
          },
          "metadata": {
            "tags": []
          },
          "execution_count": 1
        }
      ]
    },
    {
      "cell_type": "code",
      "metadata": {
        "id": "1uha6wuAzZP_",
        "colab_type": "code",
        "colab": {}
      },
      "source": [
        ""
      ],
      "execution_count": 0,
      "outputs": []
    },
    {
      "cell_type": "code",
      "metadata": {
        "id": "xZjPND_0mHj4",
        "colab_type": "code",
        "colab": {}
      },
      "source": [
        "import pandas as pd\n",
        "import numpy as np\n"
      ],
      "execution_count": 0,
      "outputs": []
    },
    {
      "cell_type": "code",
      "metadata": {
        "id": "hinMmLEMmLg_",
        "colab_type": "code",
        "colab": {}
      },
      "source": [
        "#Reading and Preprocessing\n",
        "news_train=pd.read_csv('fulltrain.csv',names=['label','Statement'])\n",
        "news_test=pd.read_csv('newsfiles_test.csv',names=['label','Statement'])"
      ],
      "execution_count": 0,
      "outputs": []
    },
    {
      "cell_type": "code",
      "metadata": {
        "id": "PjdX3ErdpOC9",
        "colab_type": "code",
        "outputId": "0cb81e14-25ef-4efb-806d-90b818d26cbf",
        "colab": {
          "base_uri": "https://localhost:8080/",
          "height": 51
        }
      },
      "source": [
        "print(news_train.shape)\n",
        "print(news_test.shape)"
      ],
      "execution_count": 0,
      "outputs": [
        {
          "output_type": "stream",
          "text": [
            "(48854, 2)\n",
            "(3000, 2)\n"
          ],
          "name": "stdout"
        }
      ]
    },
    {
      "cell_type": "code",
      "metadata": {
        "id": "b8Ucv1y8pOFV",
        "colab_type": "code",
        "colab": {}
      },
      "source": [
        "#Ratings are as follows 1:\"Satire\",2:\"Hoax\",3:\"Propaganda\",4:\"Trusted\"\n",
        "#Change Hoax to False(0) and Trusted to True(1) and remove Satire and Propaganda\n",
        "\n",
        "def nf_ratechange(x):\n",
        "    h=0\n",
        "    for i in x.label:\n",
        "        if i==2:\n",
        "            x.at[h,'label']= 0\n",
        "            \n",
        "        elif i==4:\n",
        "            x.at[h,'label']= 1\n",
        "            \n",
        "        elif i==1 or i==3:\n",
        "            x.drop([h],inplace=True)\n",
        "        h=h+1"
      ],
      "execution_count": 0,
      "outputs": []
    },
    {
      "cell_type": "code",
      "metadata": {
        "id": "yn3d7czbpOHy",
        "colab_type": "code",
        "colab": {}
      },
      "source": [
        "#changing Ratings\n",
        "nf_ratechange(news_train)\n",
        "nf_ratechange(news_test)"
      ],
      "execution_count": 0,
      "outputs": []
    },
    {
      "cell_type": "code",
      "metadata": {
        "id": "JEXfkrn3pOKK",
        "colab_type": "code",
        "colab": {}
      },
      "source": [
        "news=pd.concat([news_train,news_test])"
      ],
      "execution_count": 0,
      "outputs": []
    },
    {
      "cell_type": "code",
      "metadata": {
        "id": "7UuvsGx6qzS7",
        "colab_type": "code",
        "outputId": "d26b37a4-9595-47d7-a46a-a254d5097730",
        "colab": {
          "base_uri": "https://localhost:8080/",
          "height": 153
        }
      },
      "source": [
        "print(news.shape)\n",
        "print(news.columns)\n",
        "print(news.head())"
      ],
      "execution_count": 0,
      "outputs": [
        {
          "output_type": "stream",
          "text": [
            "(18437, 2)\n",
            "Index(['label', 'Statement'], dtype='object')\n",
            "       label                                          Statement\n",
            "14047      0  Ralph Peters Is Suspended By Fox News After Ve...\n",
            "14048      0  Michelle Obama Picks A Fight With Donald, He F...\n",
            "14049      0  Analyst Observes Something VERY Off About Trum...\n",
            "14050      0  Marine Completely DESTROYS Michelle Obama To H...\n",
            "14051      0  Youll Never Believe The Excuse This Mother Gav...\n"
          ],
          "name": "stdout"
        }
      ]
    },
    {
      "cell_type": "code",
      "metadata": {
        "id": "Gy0Mg3F9uFKC",
        "colab_type": "code",
        "colab": {}
      },
      "source": [
        "nf_x=news.Statement\n",
        "nf_y=news.label"
      ],
      "execution_count": 0,
      "outputs": []
    },
    {
      "cell_type": "code",
      "metadata": {
        "id": "tnz62XmzpONK",
        "colab_type": "code",
        "colab": {}
      },
      "source": [
        "#Final Dataset : news"
      ],
      "execution_count": 0,
      "outputs": []
    },
    {
      "cell_type": "code",
      "metadata": {
        "id": "3Un-UKKupOPk",
        "colab_type": "code",
        "outputId": "d752bddd-2d5f-47b0-f1e8-a5de14748d20",
        "colab": {
          "base_uri": "https://localhost:8080/",
          "height": 34
        }
      },
      "source": [
        "\"\"\"\n",
        "Splitting the dataset 80 10 10\n",
        "\n",
        "\"\"\""
      ],
      "execution_count": 0,
      "outputs": [
        {
          "output_type": "execute_result",
          "data": {
            "text/plain": [
              "'\\nSplitting the dataset 80 10 10\\n\\n'"
            ]
          },
          "metadata": {
            "tags": []
          },
          "execution_count": 10
        }
      ]
    },
    {
      "cell_type": "code",
      "metadata": {
        "id": "btYrn2TEpORv",
        "colab_type": "code",
        "outputId": "90cbec4e-2901-4bc5-c77c-d1d1c864d3e6",
        "colab": {
          "base_uri": "https://localhost:8080/",
          "height": 119
        }
      },
      "source": [
        "#train test split to form test from news\n",
        "from sklearn.model_selection import train_test_split\n",
        "\n",
        "X_train_temp, nf_test_x, y_train_temp, nf_test_y = train_test_split(nf_x,nf_y,test_size=0.1,random_state=12)\n",
        "print(X_train_temp.size)\n",
        "print(nf_test_x.size)\n",
        "\n",
        "# nf_test_x : Final testing file with statements\n",
        "# nf_test_y : Final testing file with ratings\n",
        "\n",
        "nf_train_x, nf_dev_x, nf_train_y, nf_dev_y = train_test_split(X_train_temp,y_train_temp,test_size=1844,random_state=12)\n",
        "\n",
        "print(nf_train_x.size)\n",
        "print(nf_dev_x.size)\n",
        "\n",
        "# nf_train_x : Training file with statements\n",
        "# nf_train_y : Training file with ratings\n",
        "# nf_dev_x   : Development testing file with statements\n",
        "# nf_dev_y   : Development testing file with ratings\n",
        "print(type(nf_train_x))\n",
        "print(\"Final size of train/dev/test : \",nf_train_x.size,\"/\",nf_dev_x.size,\"/\",nf_test_x.size)\n",
        "\n"
      ],
      "execution_count": 0,
      "outputs": [
        {
          "output_type": "stream",
          "text": [
            "16593\n",
            "1844\n",
            "14749\n",
            "1844\n",
            "<class 'pandas.core.series.Series'>\n",
            "Final size of train/dev/test :  14749 / 1844 / 1844\n"
          ],
          "name": "stdout"
        }
      ]
    },
    {
      "cell_type": "code",
      "metadata": {
        "id": "-Y6yOt-hvnBA",
        "colab_type": "code",
        "outputId": "423a1fdb-24e6-4935-ed2b-fc45d9a06901",
        "colab": {
          "base_uri": "https://localhost:8080/",
          "height": 80
        }
      },
      "source": [
        "import tensorflow\n",
        "import pandas as pd\n",
        "import keras "
      ],
      "execution_count": 0,
      "outputs": [
        {
          "output_type": "display_data",
          "data": {
            "text/html": [
              "<p style=\"color: red;\">\n",
              "The default version of TensorFlow in Colab will soon switch to TensorFlow 2.x.<br>\n",
              "We recommend you <a href=\"https://www.tensorflow.org/guide/migrate\" target=\"_blank\">upgrade</a> now \n",
              "or ensure your notebook will continue to use TensorFlow 1.x via the <code>%tensorflow_version 1.x</code> magic:\n",
              "<a href=\"https://colab.research.google.com/notebooks/tensorflow_version.ipynb\" target=\"_blank\">more info</a>.</p>\n"
            ],
            "text/plain": [
              "<IPython.core.display.HTML object>"
            ]
          },
          "metadata": {
            "tags": []
          }
        },
        {
          "output_type": "stream",
          "text": [
            "Using TensorFlow backend.\n"
          ],
          "name": "stderr"
        }
      ]
    },
    {
      "cell_type": "code",
      "metadata": {
        "id": "01b5q0kfvtmx",
        "colab_type": "code",
        "colab": {}
      },
      "source": [
        "#word embedding \n",
        "from keras.preprocessing.text import Tokenizer\n",
        "\n",
        "tokenizer = Tokenizer()\n",
        "tokenizer.fit_on_texts(nf_train_x)\n",
        "\n",
        "em_nf_train_x = tokenizer.texts_to_sequences(nf_train_x)\n",
        "em_nf_dev_x = tokenizer.texts_to_sequences(nf_dev_x)\n",
        "em_nf_test_x = tokenizer.texts_to_sequences(nf_test_x)\n",
        "\n",
        "vocab_size = len(tokenizer.word_index) + 1  # Adding 1 because of reserved 0 index\n",
        "\n"
      ],
      "execution_count": 0,
      "outputs": []
    },
    {
      "cell_type": "code",
      "metadata": {
        "id": "kugl_P3IwhAa",
        "colab_type": "code",
        "outputId": "37ee801a-497d-4dd2-8f45-8b5ffdc34b38",
        "colab": {
          "base_uri": "https://localhost:8080/",
          "height": 51
        }
      },
      "source": [
        "#requires padding to keep consistent size\n",
        "\n",
        "from keras.preprocessing.sequence import pad_sequences\n",
        "\n",
        "maxlen =0\n",
        "for i in em_nf_train_x:\n",
        "    if(len(i)>maxlen):\n",
        "        maxlen=len(i)\n",
        "print(maxlen)\n",
        "\n",
        "\n",
        "em_nf_train_x = pad_sequences(em_nf_train_x, padding='post', maxlen=maxlen)\n",
        "em_nf_dev_x = pad_sequences(em_nf_dev_x, padding='post', maxlen=maxlen)\n",
        "em_nf_test_x = pad_sequences(em_nf_test_x, padding='post', maxlen=maxlen)\n",
        "\n",
        "print(em_nf_train_x[0, :])"
      ],
      "execution_count": 0,
      "outputs": [
        {
          "output_type": "stream",
          "text": [
            "4734\n",
            "[13762  8989  4890 ...     0     0     0]\n"
          ],
          "name": "stdout"
        }
      ]
    },
    {
      "cell_type": "code",
      "metadata": {
        "id": "kk0YjXARxE6g",
        "colab_type": "code",
        "colab": {}
      },
      "source": [
        "from keras.models import Sequential\n",
        "from keras import layers\n",
        "import time"
      ],
      "execution_count": 0,
      "outputs": []
    },
    {
      "cell_type": "code",
      "metadata": {
        "id": "A0tdKrDFxdnh",
        "colab_type": "code",
        "colab": {}
      },
      "source": [
        "#important for analysis\n",
        "\n",
        "import matplotlib.pyplot as plt\n",
        "plt.style.use('ggplot')\n",
        "\n",
        "def plot_history(history):\n",
        "    acc = history.history['acc']\n",
        "    val_acc = history.history['val_acc']\n",
        "    loss = history.history['loss']\n",
        "    val_loss = history.history['val_loss']\n",
        "    x = range(1, len(acc) + 1)\n",
        "\n",
        "    plt.figure(figsize=(12, 5))\n",
        "    plt.subplot(1, 2, 1)\n",
        "    plt.plot(x, acc, 'b', label='Training acc')\n",
        "    plt.plot(x, val_acc, 'r', label='Validation acc')\n",
        "    plt.title('Training and validation accuracy')\n",
        "    plt.legend()\n",
        "    plt.subplot(1, 2, 2)\n",
        "    plt.plot(x, loss, 'b', label='Training loss')\n",
        "    plt.plot(x, val_loss, 'r', label='Validation loss')\n",
        "    plt.title('Training and validation loss')\n",
        "    plt.legend()"
      ],
      "execution_count": 0,
      "outputs": []
    },
    {
      "cell_type": "code",
      "metadata": {
        "id": "gDbbQeEoxfRI",
        "colab_type": "code",
        "outputId": "81d16d57-a170-4955-e80b-f2c5e71e300c",
        "colab": {
          "base_uri": "https://localhost:8080/",
          "height": 34
        }
      },
      "source": [
        "\"\"\"\n",
        "Time to start Building models\n",
        "\"\"\"\n"
      ],
      "execution_count": 0,
      "outputs": [
        {
          "output_type": "execute_result",
          "data": {
            "text/plain": [
              "'\\nTime to start Building models\\n'"
            ]
          },
          "metadata": {
            "tags": []
          },
          "execution_count": 17
        }
      ]
    },
    {
      "cell_type": "code",
      "metadata": {
        "id": "vCpDgbdgxk5a",
        "colab_type": "code",
        "outputId": "16fa64f3-2924-4d81-8430-6f3e695a1309",
        "colab": {
          "base_uri": "https://localhost:8080/",
          "height": 323
        }
      },
      "source": [
        "#Model 1 \n",
        "embedding_dim = 50\n",
        "\n",
        "model1 = Sequential()\n",
        "model1.add(layers.Embedding(input_dim=vocab_size, \n",
        "                           output_dim=embedding_dim, \n",
        "                           input_length=maxlen))\n",
        "model1.add(layers.GlobalMaxPool1D())\n",
        "model1.add(layers.Dense(34, activation='relu'))\n",
        "model1.add(layers.Dense(23, activation='relu'))\n",
        "model1.add(layers.Dense(1, activation='sigmoid'))\n",
        "model1.compile(optimizer='adam',\n",
        "              loss='binary_crossentropy',\n",
        "              metrics=['accuracy'])\n",
        "model1.summary()"
      ],
      "execution_count": 0,
      "outputs": [
        {
          "output_type": "stream",
          "text": [
            "Model: \"sequential_5\"\n",
            "_________________________________________________________________\n",
            "Layer (type)                 Output Shape              Param #   \n",
            "=================================================================\n",
            "embedding_5 (Embedding)      (None, 4734, 50)          5227950   \n",
            "_________________________________________________________________\n",
            "global_max_pooling1d_5 (Glob (None, 50)                0         \n",
            "_________________________________________________________________\n",
            "dense_7 (Dense)              (None, 34)                1734      \n",
            "_________________________________________________________________\n",
            "dense_8 (Dense)              (None, 23)                805       \n",
            "_________________________________________________________________\n",
            "dense_9 (Dense)              (None, 1)                 24        \n",
            "=================================================================\n",
            "Total params: 5,230,513\n",
            "Trainable params: 5,230,513\n",
            "Non-trainable params: 0\n",
            "_________________________________________________________________\n"
          ],
          "name": "stdout"
        }
      ]
    },
    {
      "cell_type": "code",
      "metadata": {
        "id": "W11AWrc6y3PB",
        "colab_type": "code",
        "outputId": "0c891b54-73a7-4dfd-f641-0bb4e2312a0e",
        "colab": {
          "base_uri": "https://localhost:8080/",
          "height": 388
        }
      },
      "source": [
        "\n",
        "start=time.time()\n",
        "history1 = model1.fit(em_nf_train_x, nf_train_y,\n",
        "                    epochs=20,\n",
        "                    verbose=False,\n",
        "                    validation_data=(em_nf_dev_x, nf_dev_y),\n",
        "                    batch_size=10)\n",
        "loss, accuracy = model1.evaluate(em_nf_train_x, nf_train_y, verbose=False)\n",
        "\n",
        "\n",
        "print(\"Training Accuracy: {:.4f}\".format(accuracy))\n",
        "loss, accuracy = model1.evaluate(em_nf_dev_x, nf_dev_y, verbose=False)\n",
        "print(\"Testing Accuracy:  {:.4f}\".format(accuracy))\n",
        "\n",
        "\n",
        "stop=time.time()\n",
        "print('Time take',(start-stop)/60)\n",
        "plot_history(history1)\n",
        "\n"
      ],
      "execution_count": 0,
      "outputs": [
        {
          "output_type": "stream",
          "text": [
            "Training Accuracy: 1.0000\n",
            "Testing Accuracy:  0.9951\n",
            "Time take -50.921351007620494\n"
          ],
          "name": "stdout"
        },
        {
          "output_type": "display_data",
          "data": {
            "image/png": "[encoded data removed]",
            "text/plain": [
              "<Figure size 864x360 with 2 Axes>"
            ]
          },
          "metadata": {
            "tags": []
          }
        }
      ]
    },
    {
      "cell_type": "code",
      "metadata": {
        "id": "D4swrUiU7XVA",
        "colab_type": "code",
        "outputId": "83c08b52-21e4-4513-b2c4-9d10c1d1da50",
        "colab": {
          "base_uri": "https://localhost:8080/",
          "height": 340
        }
      },
      "source": [
        "#Model 2\n",
        "embedding_dim = 25\n",
        "h1=int(2/3*embedding_dim)\n",
        "h2=int(2/3*h1)\n",
        "print(h1,h2)\n",
        "\n",
        "model2 = Sequential()\n",
        "model2.add(layers.Embedding(input_dim=vocab_size, \n",
        "                           output_dim=embedding_dim, \n",
        "                           input_length=maxlen))\n",
        "model2.add(layers.GlobalMaxPool1D())\n",
        "model2.add(layers.Dense(h1, activation='relu'))\n",
        "model2.add(layers.Dense(h2, activation='relu'))\n",
        "model2.add(layers.se(1, actiDenvation='sigmoid'))\n",
        "model2.compile(optimizer='adam',\n",
        "              loss='binary_crossentropy',\n",
        "              metrics=['accuracy'])\n",
        "model2.summary()"
      ],
      "execution_count": 0,
      "outputs": [
        {
          "output_type": "stream",
          "text": [
            "16 10\n",
            "Model: \"sequential_6\"\n",
            "_________________________________________________________________\n",
            "Layer (type)                 Output Shape              Param #   \n",
            "=================================================================\n",
            "embedding_6 (Embedding)      (None, 4734, 25)          2613975   \n",
            "_________________________________________________________________\n",
            "global_max_pooling1d_6 (Glob (None, 25)                0         \n",
            "_________________________________________________________________\n",
            "dense_10 (Dense)             (None, 16)                416       \n",
            "_________________________________________________________________\n",
            "dense_11 (Dense)             (None, 10)                170       \n",
            "_________________________________________________________________\n",
            "dense_12 (Dense)             (None, 1)                 11        \n",
            "=================================================================\n",
            "Total params: 2,614,572\n",
            "Trainable params: 2,614,572\n",
            "Non-trainable params: 0\n",
            "_________________________________________________________________\n"
          ],
          "name": "stdout"
        }
      ]
    },
    {
      "cell_type": "code",
      "metadata": {
        "id": "j8pqy57F7o8Y",
        "colab_type": "code",
        "outputId": "5a58d949-5b5b-40c7-85d9-a6dcf023217f",
        "colab": {
          "base_uri": "https://localhost:8080/",
          "height": 388
        }
      },
      "source": [
        "\n",
        "start=time.time()\n",
        "history2 = model2.fit(em_nf_train_x, nf_train_y,\n",
        "                    epochs=20,\n",
        "                    verbose=False,\n",
        "                    validation_data=(em_nf_dev_x, nf_dev_y),\n",
        "                    batch_size=10)\n",
        "loss, accuracy = model2.evaluate(em_nf_train_x, nf_train_y, verbose=False)\n",
        "\n",
        "\n",
        "print(\"Training Accuracy: {:.4f}\".format(accuracy))\n",
        "loss, accuracy = model2.evaluate(em_nf_dev_x, nf_dev_y, verbose=False)\n",
        "print(\"Testing Accuracy:  {:.4f}\".format(accuracy))\n",
        "\n",
        "\n",
        "stop=time.time()\n",
        "print('Time take',(start-stop)/60)\n",
        "plot_history(history2)\n",
        "\n"
      ],
      "execution_count": 0,
      "outputs": [
        {
          "output_type": "stream",
          "text": [
            "Training Accuracy: 1.0000\n",
            "Testing Accuracy:  0.9946\n",
            "Time take -26.351127668221793\n"
          ],
          "name": "stdout"
        },
        {
          "output_type": "display_data",
          "data": {
            "image/png": "[encoded data removed]",
            "text/plain": [
              "<Figure size 864x360 with 2 Axes>"
            ]
          },
          "metadata": {
            "tags": []
          }
        }
      ]
    },
    {
      "cell_type": "markdown",
      "metadata": {
        "id": "5xCmWPYdOWxg",
        "colab_type": "text"
      },
      "source": [
        "2 Models great accuracy , we shall keep embed dim as 25 due to less time.\n",
        "Adding regularizers because of overfitting\n"
      ]
    },
    {
      "cell_type": "code",
      "metadata": {
        "id": "zcqe82rzO3nU",
        "colab_type": "code",
        "outputId": "7a4a7f19-68cb-459a-d54f-e57205f5f4ff",
        "colab": {
          "base_uri": "https://localhost:8080/",
          "height": 340
        }
      },
      "source": [
        "\n",
        "#working on kernel (weight) and bias regularizer for now\n",
        "#more aggresiive \n",
        "#Model 3\n",
        "embedding_dim = 25\n",
        "h1=int(2/3*embedding_dim)\n",
        "h2=int(2/3*h1)\n",
        "print(h1,h2)\n",
        "\n",
        "model3 = Sequential()\n",
        "model3.add(layers.Embedding(input_dim=vocab_size, \n",
        "                           output_dim=embedding_dim, \n",
        "                           input_length=maxlen))\n",
        "model3.add(layers.GlobalMaxPool1D())\n",
        "model3.add(layers.Dense(h1, activation='relu',kernel_regularizer=l2(0.01), bias_regularizer=l2(0.01)))\n",
        "model3.add(layers.Dense(h2, activation='relu',kernel_regularizer=l2(0.01), bias_regularizer=l2(0.01)))\n",
        "model3.add(layers.Dense(1, activation='sigmoid'))\n",
        "model3.compile(optimizer='adam',\n",
        "              loss='binary_crossentropy',\n",
        "              metrics=['accuracy'])\n",
        "model3.summary()"
      ],
      "execution_count": 0,
      "outputs": [
        {
          "output_type": "stream",
          "text": [
            "16 10\n",
            "Model: \"sequential_8\"\n",
            "_________________________________________________________________\n",
            "Layer (type)                 Output Shape              Param #   \n",
            "=================================================================\n",
            "embedding_8 (Embedding)      (None, 4734, 25)          2613975   \n",
            "_________________________________________________________________\n",
            "global_max_pooling1d_8 (Glob (None, 25)                0         \n",
            "_________________________________________________________________\n",
            "dense_13 (Dense)             (None, 16)                416       \n",
            "_________________________________________________________________\n",
            "dense_14 (Dense)             (None, 10)                170       \n",
            "_________________________________________________________________\n",
            "dense_15 (Dense)             (None, 1)                 11        \n",
            "=================================================================\n",
            "Total params: 2,614,572\n",
            "Trainable params: 2,614,572\n",
            "Non-trainable params: 0\n",
            "_________________________________________________________________\n"
          ],
          "name": "stdout"
        }
      ]
    },
    {
      "cell_type": "code",
      "metadata": {
        "id": "lJZsMB_iSAXn",
        "colab_type": "code",
        "outputId": "399fc7c0-d733-4d43-e411-26b94ed21c3c",
        "colab": {
          "base_uri": "https://localhost:8080/",
          "height": 388
        }
      },
      "source": [
        "\n",
        "start=time.time()\n",
        "history3 = model3.fit(em_nf_train_x, nf_train_y,\n",
        "                    epochs=20,\n",
        "                    verbose=False,\n",
        "                    validation_data=(em_nf_dev_x, nf_dev_y),\n",
        "                    batch_size=10)\n",
        "loss, accuracy = model3.evaluate(em_nf_train_x, nf_train_y, verbose=False)\n",
        "\n",
        "\n",
        "print(\"Training Accuracy: {:.4f}\".format(accuracy))\n",
        "loss, accuracy = model3.evaluate(em_nf_dev_x, nf_dev_y, verbose=False)\n",
        "print(\"Testing Accuracy:  {:.4f}\".format(accuracy))\n",
        "\n",
        "\n",
        "stop=time.time()\n",
        "print('Time take',(start-stop)/60)\n",
        "plot_history(history3)\n",
        "\n"
      ],
      "execution_count": 0,
      "outputs": [
        {
          "output_type": "stream",
          "text": [
            "Training Accuracy: 1.0000\n",
            "Testing Accuracy:  0.9967\n",
            "Time take -24.51870768070221\n"
          ],
          "name": "stdout"
        },
        {
          "output_type": "display_data",
          "data": {
            "image/png": "[encoded data removed]",
            "text/plain": [
              "<Figure size 864x360 with 2 Axes>"
            ]
          },
          "metadata": {
            "tags": []
          }
        }
      ]
    },
    {
      "cell_type": "code",
      "metadata": {
        "id": "svcSBD7MSGjA",
        "colab_type": "code",
        "outputId": "bac644b9-6f07-4051-f779-96c8bd0bc5a3",
        "colab": {
          "base_uri": "https://localhost:8080/",
          "height": 340
        }
      },
      "source": [
        "\n",
        "#working on kernel (weight) and bias regularizer for now\n",
        "#less aggresiive \n",
        "#Model 4\n",
        "embedding_dim = 25\n",
        "h1=int(2/3*embedding_dim)\n",
        "h2=int(2/3*h1)\n",
        "print(h1,h2)\n",
        "\n",
        "model4 = Sequential()\n",
        "model4.add(layers.Embedding(input_dim=vocab_size, \n",
        "                           output_dim=embedding_dim, \n",
        "                           input_length=maxlen))\n",
        "model4.add(layers.GlobalMaxPool1D())\n",
        "model4.add(layers.Dense(h1, activation='relu',kernel_regularizer=l2(0.001), bias_regularizer=l2(0.001)))\n",
        "model4.add(layers.Dense(h2, activation='relu',kernel_regularizer=l2(0.001), bias_regularizer=l2(0.001)))\n",
        "model4.add(layers.Dense(1, activation='sigmoid'))\n",
        "model4.compile(optimizer='adam',\n",
        "              loss='binary_crossentropy',\n",
        "              metrics=['accuracy'])\n",
        "model4.summary()"
      ],
      "execution_count": 0,
      "outputs": [
        {
          "output_type": "stream",
          "text": [
            "16 10\n",
            "Model: \"sequential_12\"\n",
            "_________________________________________________________________\n",
            "Layer (type)                 Output Shape              Param #   \n",
            "=================================================================\n",
            "embedding_12 (Embedding)     (None, 4734, 25)          2613975   \n",
            "_________________________________________________________________\n",
            "global_max_pooling1d_12 (Glo (None, 25)                0         \n",
            "_________________________________________________________________\n",
            "dense_22 (Dense)             (None, 16)                416       \n",
            "_________________________________________________________________\n",
            "dense_23 (Dense)             (None, 10)                170       \n",
            "_________________________________________________________________\n",
            "dense_24 (Dense)             (None, 1)                 11        \n",
            "=================================================================\n",
            "Total params: 2,614,572\n",
            "Trainable params: 2,614,572\n",
            "Non-trainable params: 0\n",
            "_________________________________________________________________\n"
          ],
          "name": "stdout"
        }
      ]
    },
    {
      "cell_type": "code",
      "metadata": {
        "id": "3-XvglgaSIWo",
        "colab_type": "code",
        "outputId": "04d453be-c33b-41cc-9fcd-b71029e8d5ee",
        "colab": {
          "base_uri": "https://localhost:8080/",
          "height": 388
        }
      },
      "source": [
        "\n",
        "start=time.time()\n",
        "history4 = model4.fit(em_nf_train_x, nf_train_y,\n",
        "                    epochs=20,\n",
        "                    verbose=False,\n",
        "                    validation_data=(em_nf_dev_x, nf_dev_y),\n",
        "                    batch_size=10)\n",
        "loss, accuracy = model4.evaluate(em_nf_train_x, nf_train_y, verbose=False)\n",
        "\n",
        "\n",
        "print(\"Training Accuracy: {:.4f}\".format(accuracy))\n",
        "loss, accuracy = model4.evaluate(em_nf_dev_x, nf_dev_y, verbose=False)\n",
        "print(\"Testing Accuracy:  {:.4f}\".format(accuracy))\n",
        "\n",
        "\n",
        "stop=time.time()\n",
        "print('Time take',(start-stop)/60)\n",
        "plot_history(history4)\n",
        "\n"
      ],
      "execution_count": 0,
      "outputs": [
        {
          "output_type": "stream",
          "text": [
            "Training Accuracy: 1.0000\n",
            "Testing Accuracy:  0.9951\n",
            "Time take -21.810198044776918\n"
          ],
          "name": "stdout"
        },
        {
          "output_type": "display_data",
          "data": {
            "image/png": "[encoded data removed]",
            "text/plain": [
              "<Figure size 864x360 with 2 Axes>"
            ]
          },
          "metadata": {
            "tags": []
          }
        }
      ]
    },
    {
      "cell_type": "code",
      "metadata": {
        "id": "3c29N4ZsYn9s",
        "colab_type": "code",
        "outputId": "73d31e63-c493-4fc1-b09f-5f3cb7a45f21",
        "colab": {
          "base_uri": "https://localhost:8080/",
          "height": 340
        }
      },
      "source": [
        "\n",
        "#activity regularizer\n",
        "#Model 5\n",
        "embedding_dim = 25\n",
        "h1=int(2/3*embedding_dim)\n",
        "h2=int(2/3*h1)\n",
        "print(h1,h2)\n",
        "\n",
        "model5 = Sequential()\n",
        "model5.add(layers.Embedding(input_dim=vocab_size, \n",
        "                           output_dim=embedding_dim, \n",
        "                           input_length=maxlen))\n",
        "model5.add(layers.GlobalMaxPool1D())\n",
        "model5.add(layers.Dense(h1, activation='relu',activity_regularizer=l2(0.001)))\n",
        "model5.add(layers.Dense(h2, activation='relu',activity_regularizer=l2(0.001)))\n",
        "model5.add(layers.Dense(1, activation='sigmoid'))\n",
        "model5.compile(optimizer='adam',\n",
        "              loss='binary_crossentropy',\n",
        "              metrics=['accuracy'])\n",
        "model5.summary()"
      ],
      "execution_count": 0,
      "outputs": [
        {
          "output_type": "stream",
          "text": [
            "16 10\n",
            "Model: \"sequential_14\"\n",
            "_________________________________________________________________\n",
            "Layer (type)                 Output Shape              Param #   \n",
            "=================================================================\n",
            "embedding_14 (Embedding)     (None, 4734, 25)          2613975   \n",
            "_________________________________________________________________\n",
            "global_max_pooling1d_14 (Glo (None, 25)                0         \n",
            "_________________________________________________________________\n",
            "dense_25 (Dense)             (None, 16)                416       \n",
            "_________________________________________________________________\n",
            "dense_26 (Dense)             (None, 10)                170       \n",
            "_________________________________________________________________\n",
            "dense_27 (Dense)             (None, 1)                 11        \n",
            "=================================================================\n",
            "Total params: 2,614,572\n",
            "Trainable params: 2,614,572\n",
            "Non-trainable params: 0\n",
            "_________________________________________________________________\n"
          ],
          "name": "stdout"
        }
      ]
    },
    {
      "cell_type": "code",
      "metadata": {
        "id": "47R2252hYyGy",
        "colab_type": "code",
        "outputId": "b58a1042-5d7e-45b3-ce9e-54da0505e0b4",
        "colab": {
          "base_uri": "https://localhost:8080/",
          "height": 388
        }
      },
      "source": [
        "\n",
        "start=time.time()\n",
        "history5 = model5.fit(em_nf_train_x, nf_train_y,\n",
        "                    epochs=20,\n",
        "                    verbose=False,\n",
        "                    validation_data=(em_nf_dev_x, nf_dev_y),\n",
        "                    batch_size=10)\n",
        "loss, accuracy = model5.evaluate(em_nf_train_x, nf_train_y, verbose=False)\n",
        "\n",
        "\n",
        "print(\"Training Accuracy: {:.4f}\".format(accuracy))\n",
        "loss, accuracy = model5.evaluate(em_nf_dev_x, nf_dev_y, verbose=False)\n",
        "print(\"Testing Accuracy:  {:.4f}\".format(accuracy))\n",
        "\n",
        "\n",
        "stop=time.time()\n",
        "print('Time take',(start-stop)/60)\n",
        "plot_history(history5)\n",
        "\n"
      ],
      "execution_count": 0,
      "outputs": [
        {
          "output_type": "stream",
          "text": [
            "Training Accuracy: 0.9995\n",
            "Testing Accuracy:  0.9794\n",
            "Time take -21.279477938016257\n"
          ],
          "name": "stdout"
        },
        {
          "output_type": "display_data",
          "data": {
            "image/png": "[encoded data removed]",
            "text/plain": [
              "<Figure size 864x360 with 2 Axes>"
            ]
          },
          "metadata": {
            "tags": []
          }
        }
      ]
    },
    {
      "cell_type": "code",
      "metadata": {
        "id": "2eUSkkcanyHR",
        "colab_type": "code",
        "outputId": "fe90f5d9-fee5-44c5-c662-ce55e891daad",
        "colab": {
          "base_uri": "https://localhost:8080/",
          "height": 340
        }
      },
      "source": [
        "\n",
        "#activity regularizer\n",
        "#super aggresive\n",
        "#Model 6\n",
        "embedding_dim = 25\n",
        "h1=int(2/3*embedding_dim)\n",
        "h2=int(2/3*h1)\n",
        "print(h1,h2)\n",
        "\n",
        "model6 = Sequential()\n",
        "model6.add(layers.Embedding(input_dim=vocab_size, \n",
        "                           output_dim=embedding_dim, \n",
        "                           input_length=maxlen))\n",
        "model6.add(layers.GlobalMaxPool1D())\n",
        "model6.add(layers.Dense(h1, activation='relu',activity_regularizer=l2(0.1)))\n",
        "model6.add(layers.Dense(h2, activation='relu',activity_regularizer=l2(0.1)))\n",
        "model6.add(layers.Dense(1, activation='sigmoid'))\n",
        "model6.compile(optimizer='adam',\n",
        "              loss='binary_crossentropy',\n",
        "              metrics=['accuracy'])\n",
        "model6.summary()"
      ],
      "execution_count": 0,
      "outputs": [
        {
          "output_type": "stream",
          "text": [
            "16 10\n",
            "Model: \"sequential_15\"\n",
            "_________________________________________________________________\n",
            "Layer (type)                 Output Shape              Param #   \n",
            "=================================================================\n",
            "embedding_15 (Embedding)     (None, 4734, 25)          2613975   \n",
            "_________________________________________________________________\n",
            "global_max_pooling1d_15 (Glo (None, 25)                0         \n",
            "_________________________________________________________________\n",
            "dense_28 (Dense)             (None, 16)                416       \n",
            "_________________________________________________________________\n",
            "dense_29 (Dense)             (None, 10)                170       \n",
            "_________________________________________________________________\n",
            "dense_30 (Dense)             (None, 1)                 11        \n",
            "=================================================================\n",
            "Total params: 2,614,572\n",
            "Trainable params: 2,614,572\n",
            "Non-trainable params: 0\n",
            "_________________________________________________________________\n"
          ],
          "name": "stdout"
        }
      ]
    },
    {
      "cell_type": "code",
      "metadata": {
        "id": "z9ppHt5Vn3tS",
        "colab_type": "code",
        "outputId": "b833e398-854a-46da-b8dd-5183c8f8a90e",
        "colab": {
          "base_uri": "https://localhost:8080/",
          "height": 388
        }
      },
      "source": [
        "\n",
        "start=time.time()\n",
        "history6 = model6.fit(em_nf_train_x, nf_train_y,\n",
        "                    epochs=20,\n",
        "                    verbose=False,\n",
        "                    validation_data=(em_nf_dev_x, nf_dev_y),\n",
        "                    batch_size=10)\n",
        "loss, accuracy = model6.evaluate(em_nf_train_x, nf_train_y, verbose=False)\n",
        "\n",
        "\n",
        "print(\"Training Accuracy: {:.4f}\".format(accuracy))\n",
        "loss, accuracy = model6.evaluate(em_nf_dev_x, nf_dev_y, verbose=False)\n",
        "print(\"Testing Accuracy:  {:.4f}\".format(accuracy))\n",
        "\n",
        "\n",
        "stop=time.time()\n",
        "print('Time take',(start-stop)/60)\n",
        "plot_history(history6)\n",
        "\n"
      ],
      "execution_count": 0,
      "outputs": [
        {
          "output_type": "stream",
          "text": [
            "Training Accuracy: 0.9998\n",
            "Testing Accuracy:  0.9837\n",
            "Time take -21.11475927432378\n"
          ],
          "name": "stdout"
        },
        {
          "output_type": "display_data",
          "data": {
            "image/png": "[encoded data removed]",
            "text/plain": [
              "<Figure size 864x360 with 2 Axes>"
            ]
          },
          "metadata": {
            "tags": []
          }
        }
      ]
    },
    {
      "cell_type": "code",
      "metadata": {
        "id": "OIXB9-9-nyNg",
        "colab_type": "code",
        "outputId": "03585517-e399-4ea2-ecf5-850b2af4bafe",
        "colab": {
          "base_uri": "https://localhost:8080/",
          "height": 340
        }
      },
      "source": [
        "\n",
        "#all regularizer\n",
        "#super aggresive\n",
        "#Model 7\n",
        "embedding_dim = 25\n",
        "h1=int(2/3*embedding_dim)\n",
        "h2=int(2/3*h1)\n",
        "print(h1,h2)\n",
        "\n",
        "model7 = Sequential()\n",
        "model7.add(layers.Embedding(input_dim=vocab_size, \n",
        "                           output_dim=embedding_dim, \n",
        "                           input_length=maxlen))\n",
        "model7.add(layers.GlobalMaxPool1D())\n",
        "model7.add(layers.Dense(h1, activation='relu',activity_regularizer=l2(0.1),kernel_regularizer=l2(0.01), bias_regularizer=l2(0.01)))\n",
        "model7.add(layers.Dense(h2, activation='relu',activity_regularizer=l2(0.1),kernel_regularizer=l2(0.01), bias_regularizer=l2(0.01)))\n",
        "model7.add(layers.Dense(1, activation='sigmoid'))\n",
        "model7.compile(optimizer='adam',\n",
        "              loss='binary_crossentropy',\n",
        "              metrics=['accuracy'])\n",
        "model7.summary()"
      ],
      "execution_count": 0,
      "outputs": [
        {
          "output_type": "stream",
          "text": [
            "16 10\n",
            "Model: \"sequential_17\"\n",
            "_________________________________________________________________\n",
            "Layer (type)                 Output Shape              Param #   \n",
            "=================================================================\n",
            "embedding_17 (Embedding)     (None, 4734, 25)          2613975   \n",
            "_________________________________________________________________\n",
            "global_max_pooling1d_17 (Glo (None, 25)                0         \n",
            "_________________________________________________________________\n",
            "dense_34 (Dense)             (None, 16)                416       \n",
            "_________________________________________________________________\n",
            "dense_35 (Dense)             (None, 10)                170       \n",
            "_________________________________________________________________\n",
            "dense_36 (Dense)             (None, 1)                 11        \n",
            "=================================================================\n",
            "Total params: 2,614,572\n",
            "Trainable params: 2,614,572\n",
            "Non-trainable params: 0\n",
            "_________________________________________________________________\n"
          ],
          "name": "stdout"
        }
      ]
    },
    {
      "cell_type": "code",
      "metadata": {
        "id": "I7fMeTXyxiHP",
        "colab_type": "code",
        "outputId": "56ea54e7-cd58-43b3-cce9-d7186a965de5",
        "colab": {
          "base_uri": "https://localhost:8080/",
          "height": 388
        }
      },
      "source": [
        "\n",
        "start=time.time()\n",
        "history7 = model7.fit(em_nf_train_x, nf_train_y,\n",
        "                    epochs=20,\n",
        "                    verbose=False,\n",
        "                    validation_data=(em_nf_dev_x, nf_dev_y),\n",
        "                    batch_size=10)\n",
        "loss, accuracy = model7.evaluate(em_nf_train_x, nf_train_y, verbose=False)\n",
        "\n",
        "\n",
        "print(\"Training Accuracy: {:.4f}\".format(accuracy))\n",
        "loss, accuracy = model7.evaluate(em_nf_dev_x, nf_dev_y, verbose=False)\n",
        "print(\"Testing Accuracy:  {:.4f}\".format(accuracy))\n",
        "\n",
        "\n",
        "stop=time.time()\n",
        "print('Time take',(start-stop)/60)\n",
        "plot_history(history7)\n",
        "\n"
      ],
      "execution_count": 0,
      "outputs": [
        {
          "output_type": "stream",
          "text": [
            "Training Accuracy: 1.0000\n",
            "Testing Accuracy:  0.9875\n",
            "Time take -21.96340678135554\n"
          ],
          "name": "stdout"
        },
        {
          "output_type": "display_data",
          "data": {
            "image/png": "[encoded data removed]",
            "text/plain": [
              "<Figure size 864x360 with 2 Axes>"
            ]
          },
          "metadata": {
            "tags": []
          }
        }
      ]
    },
    {
      "cell_type": "code",
      "metadata": {
        "id": "EBJ2ZJsh_Ak9",
        "colab_type": "code",
        "outputId": "21a4506b-8cb6-4c70-85c6-f50763f30750",
        "colab": {
          "base_uri": "https://localhost:8080/",
          "height": 408
        }
      },
      "source": [
        "\n",
        "#dropout regularizer\n",
        "#Model 8\n",
        "embedding_dim = 25\n",
        "h1=int(2/3*embedding_dim)\n",
        "h2=int(2/3*h1)\n",
        "print(h1,h2)\n",
        "\n",
        "model8 = Sequential()\n",
        "model8.add(layers.Embedding(input_dim=vocab_size, \n",
        "                           output_dim=embedding_dim, \n",
        "                           input_length=maxlen))\n",
        "model8.add(layers.GlobalMaxPool1D())\n",
        "model8.add(layers.Dense(h1, activation='relu'))\n",
        "model8.add(layers.Dropout(0.2))\n",
        "model8.add(layers.Dense(h2, activation='relu'))\n",
        "model8.add(layers.Dropout(0.2))\n",
        "model8.add(layers.Dense(1, activation='sigmoid'))\n",
        "model8.compile(optimizer='adam',\n",
        "              loss='binary_crossentropy',\n",
        "              metrics=['accuracy'])\n",
        "model8.summary()"
      ],
      "execution_count": 0,
      "outputs": [
        {
          "output_type": "stream",
          "text": [
            "16 10\n",
            "Model: \"sequential_28\"\n",
            "_________________________________________________________________\n",
            "Layer (type)                 Output Shape              Param #   \n",
            "=================================================================\n",
            "embedding_28 (Embedding)     (None, 4734, 25)          2613975   \n",
            "_________________________________________________________________\n",
            "global_max_pooling1d_28 (Glo (None, 25)                0         \n",
            "_________________________________________________________________\n",
            "dense_67 (Dense)             (None, 16)                416       \n",
            "_________________________________________________________________\n",
            "dropout_16 (Dropout)         (None, 16)                0         \n",
            "_________________________________________________________________\n",
            "dense_68 (Dense)             (None, 10)                170       \n",
            "_________________________________________________________________\n",
            "dropout_17 (Dropout)         (None, 10)                0         \n",
            "_________________________________________________________________\n",
            "dense_69 (Dense)             (None, 1)                 11        \n",
            "=================================================================\n",
            "Total params: 2,614,572\n",
            "Trainable params: 2,614,572\n",
            "Non-trainable params: 0\n",
            "_________________________________________________________________\n"
          ],
          "name": "stdout"
        }
      ]
    },
    {
      "cell_type": "code",
      "metadata": {
        "id": "Lunt3wd9CHTy",
        "colab_type": "code",
        "outputId": "581a43c6-8bf8-42c8-d2f1-14842e78bf95",
        "colab": {
          "base_uri": "https://localhost:8080/",
          "height": 388
        }
      },
      "source": [
        "\n",
        "start=time.time()\n",
        "history8 = model8.fit(em_nf_train_x, nf_train_y,\n",
        "                    epochs=20,\n",
        "                    verbose=False,\n",
        "                    validation_data=(em_nf_dev_x, nf_dev_y),\n",
        "                    batch_size=10)\n",
        "loss, accuracy = model8.evaluate(em_nf_train_x, nf_train_y, verbose=False)\n",
        "\n",
        "\n",
        "print(\"Training Accuracy: {:.4f}\".format(accuracy))\n",
        "loss, accuracy = model8.evaluate(em_nf_dev_x, nf_dev_y, verbose=False)\n",
        "print(\"Testing Accuracy:  {:.4f}\".format(accuracy))\n",
        "\n",
        "\n",
        "stop=time.time()\n",
        "print('Time take',(start-stop)/60)\n",
        "plot_history(history8)\n",
        "\n"
      ],
      "execution_count": 0,
      "outputs": [
        {
          "output_type": "stream",
          "text": [
            "Training Accuracy: 1.0000\n",
            "Testing Accuracy:  0.9951\n",
            "Time take -21.123333859443665\n"
          ],
          "name": "stdout"
        },
        {
          "output_type": "display_data",
          "data": {
            "image/png": "[encoded data removed]",
            "text/plain": [
              "<Figure size 864x360 with 2 Axes>"
            ]
          },
          "metadata": {
            "tags": []
          }
        }
      ]
    },
    {
      "cell_type": "code",
      "metadata": {
        "id": "pq5momTfCVza",
        "colab_type": "code",
        "outputId": "dac00884-8149-481e-a3f7-df0b5c8089f8",
        "colab": {
          "base_uri": "https://localhost:8080/",
          "height": 408
        }
      },
      "source": [
        "from keras.layers import Dropout\n",
        "from keras.regularizers import l2\n",
        "\n",
        "#all regularizer+dropout\n",
        "\n",
        "#Model 9\n",
        "embedding_dim = 25\n",
        "h1=int(2/3*embedding_dim)\n",
        "h2=int(2/3*h1)\n",
        "print(h1,h2)\n",
        "\n",
        "model9 = Sequential()\n",
        "model9.add(layers.Embedding(input_dim=vocab_size, \n",
        "                           output_dim=embedding_dim, \n",
        "                           input_length=maxlen))\n",
        "model9.add(layers.GlobalMaxPool1D())\n",
        "model9.add(layers.Dense(h1, activation='relu',activity_regularizer=l2(0.1),kernel_regularizer=l2(0.01), bias_regularizer=l2(0.01)))\n",
        "model9.add(layers.Dropout(0.2))\n",
        "model9.add(layers.Dense(h2, activation='relu',activity_regularizer=l2(0.1),kernel_regularizer=l2(0.01), bias_regularizer=l2(0.01)))\n",
        "model9.add(layers.Dropout(0.2))\n",
        "model9.add(layers.Dense(1, activation='sigmoid'))\n",
        "model9.compile(optimizer='adam',\n",
        "              loss='binary_crossentropy',\n",
        "              metrics=['accuracy'])\n",
        "model9.summary()"
      ],
      "execution_count": 0,
      "outputs": [
        {
          "output_type": "stream",
          "text": [
            "16 10\n",
            "Model: \"sequential_4\"\n",
            "_________________________________________________________________\n",
            "Layer (type)                 Output Shape              Param #   \n",
            "=================================================================\n",
            "embedding_4 (Embedding)      (None, 4734, 25)          2613975   \n",
            "_________________________________________________________________\n",
            "global_max_pooling1d_4 (Glob (None, 25)                0         \n",
            "_________________________________________________________________\n",
            "dense_10 (Dense)             (None, 16)                416       \n",
            "_________________________________________________________________\n",
            "dropout_7 (Dropout)          (None, 16)                0         \n",
            "_________________________________________________________________\n",
            "dense_11 (Dense)             (None, 10)                170       \n",
            "_________________________________________________________________\n",
            "dropout_8 (Dropout)          (None, 10)                0         \n",
            "_________________________________________________________________\n",
            "dense_12 (Dense)             (None, 1)                 11        \n",
            "=================================================================\n",
            "Total params: 2,614,572\n",
            "Trainable params: 2,614,572\n",
            "Non-trainable params: 0\n",
            "_________________________________________________________________\n"
          ],
          "name": "stdout"
        }
      ]
    },
    {
      "cell_type": "code",
      "metadata": {
        "id": "kyVCpSMOCdPV",
        "colab_type": "code",
        "outputId": "f049f9af-d06a-433d-a3b1-086b65835781",
        "colab": {
          "base_uri": "https://localhost:8080/",
          "height": 680
        }
      },
      "source": [
        "\n",
        "start=time.time()\n",
        "history9 = model9.fit(em_nf_train_x, nf_train_y,\n",
        "                    epochs=20,\n",
        "                    verbose=False,\n",
        "                    validation_data=(em_nf_dev_x, nf_dev_y),\n",
        "                    batch_size=10)\n",
        "loss, accuracy = model9.evaluate(em_nf_train_x, nf_train_y, verbose=False)\n",
        "\n",
        "\n",
        "print(\"Training Accuracy: {:.4f}\".format(accuracy))\n",
        "loss, accuracy = model9.evaluate(em_nf_dev_x, nf_dev_y, verbose=False)\n",
        "print(\"Testing Accuracy:  {:.4f}\".format(accuracy))\n",
        "\n",
        "\n",
        "stop=time.time()\n",
        "print('Time take',(start-stop)/60)\n",
        "plot_history(history9)\n",
        "\n"
      ],
      "execution_count": 0,
      "outputs": [
        {
          "output_type": "stream",
          "text": [
            "WARNING:tensorflow:From /usr/local/lib/python3.6/dist-packages/keras/backend/tensorflow_backend.py:1033: The name tf.assign_add is deprecated. Please use tf.compat.v1.assign_add instead.\n",
            "\n",
            "WARNING:tensorflow:From /usr/local/lib/python3.6/dist-packages/keras/backend/tensorflow_backend.py:1020: The name tf.assign is deprecated. Please use tf.compat.v1.assign instead.\n",
            "\n",
            "WARNING:tensorflow:From /usr/local/lib/python3.6/dist-packages/keras/backend/tensorflow_backend.py:3005: The name tf.Session is deprecated. Please use tf.compat.v1.Session instead.\n",
            "\n",
            "WARNING:tensorflow:From /usr/local/lib/python3.6/dist-packages/keras/backend/tensorflow_backend.py:190: The name tf.get_default_session is deprecated. Please use tf.compat.v1.get_default_session instead.\n",
            "\n",
            "WARNING:tensorflow:From /usr/local/lib/python3.6/dist-packages/keras/backend/tensorflow_backend.py:197: The name tf.ConfigProto is deprecated. Please use tf.compat.v1.ConfigProto instead.\n",
            "\n",
            "WARNING:tensorflow:From /usr/local/lib/python3.6/dist-packages/keras/backend/tensorflow_backend.py:207: The name tf.global_variables is deprecated. Please use tf.compat.v1.global_variables instead.\n",
            "\n",
            "WARNING:tensorflow:From /usr/local/lib/python3.6/dist-packages/keras/backend/tensorflow_backend.py:216: The name tf.is_variable_initialized is deprecated. Please use tf.compat.v1.is_variable_initialized instead.\n",
            "\n",
            "WARNING:tensorflow:From /usr/local/lib/python3.6/dist-packages/keras/backend/tensorflow_backend.py:223: The name tf.variables_initializer is deprecated. Please use tf.compat.v1.variables_initializer instead.\n",
            "\n",
            "Training Accuracy: 1.0000\n",
            "Testing Accuracy:  0.9919\n",
            "Time take -20.839740471045175\n"
          ],
          "name": "stdout"
        },
        {
          "output_type": "display_data",
          "data": {
            "image/png": "[encoded data removed]",
            "text/plain": [
              "<Figure size 864x360 with 2 Axes>"
            ]
          },
          "metadata": {
            "tags": []
          }
        }
      ]
    },
    {
      "cell_type": "code",
      "metadata": {
        "id": "oDF9NU-7NGav",
        "colab_type": "code",
        "outputId": "a26ecf4a-f984-449f-8c52-e1b93d4fba47",
        "colab": {
          "base_uri": "https://localhost:8080/",
          "height": 408
        }
      },
      "source": [
        "\n",
        "#all regularizer+dropout\n",
        "\n",
        "#Model 10\n",
        "embedding_dim = 25\n",
        "h1=int(2/3*embedding_dim)\n",
        "h2=int(2/3*h1)\n",
        "print(h1,h2)\n",
        "\n",
        "model10 = Sequential()\n",
        "model10.add(layers.Embedding(input_dim=vocab_size, \n",
        "                           output_dim=embedding_dim, \n",
        "                           input_length=maxlen))\n",
        "model10.add(layers.GlobalMaxPool1D())\n",
        "model10.add(layers.Dense(h1, activation='relu',activity_regularizer=l2(0.1),kernel_regularizer=l2(0.1), bias_regularizer=l2(0.1)))\n",
        "model10.add(layers.Dropout(0.3))\n",
        "model10.add(layers.Dense(h2, activation='relu',activity_regularizer=l2(0.1),kernel_regularizer=l2(0.1), bias_regularizer=l2(0.1)))\n",
        "model10.add(layers.Dropout(0.3))\n",
        "model10.add(layers.Dense(1, activation='sigmoid'))\n",
        "model10.compile(optimizer='adam',\n",
        "              loss='binary_crossentropy',\n",
        "              metrics=['accuracy'])\n",
        "model9.summary()"
      ],
      "execution_count": 0,
      "outputs": [
        {
          "output_type": "stream",
          "text": [
            "16 10\n",
            "Model: \"sequential_4\"\n",
            "_________________________________________________________________\n",
            "Layer (type)                 Output Shape              Param #   \n",
            "=================================================================\n",
            "embedding_4 (Embedding)      (None, 4734, 25)          2613975   \n",
            "_________________________________________________________________\n",
            "global_max_pooling1d_4 (Glob (None, 25)                0         \n",
            "_________________________________________________________________\n",
            "dense_10 (Dense)             (None, 16)                416       \n",
            "_________________________________________________________________\n",
            "dropout_7 (Dropout)          (None, 16)                0         \n",
            "_________________________________________________________________\n",
            "dense_11 (Dense)             (None, 10)                170       \n",
            "_________________________________________________________________\n",
            "dropout_8 (Dropout)          (None, 10)                0         \n",
            "_________________________________________________________________\n",
            "dense_12 (Dense)             (None, 1)                 11        \n",
            "=================================================================\n",
            "Total params: 2,614,572\n",
            "Trainable params: 2,614,572\n",
            "Non-trainable params: 0\n",
            "_________________________________________________________________\n"
          ],
          "name": "stdout"
        }
      ]
    },
    {
      "cell_type": "code",
      "metadata": {
        "id": "hZhdsVF1NNZ6",
        "colab_type": "code",
        "outputId": "0ff72678-fa94-4b07-e261-f83dd9c660ce",
        "colab": {
          "base_uri": "https://localhost:8080/",
          "height": 388
        }
      },
      "source": [
        "\n",
        "start=time.time()\n",
        "history10 = model10.fit(em_nf_train_x, nf_train_y,\n",
        "                    epochs=20,\n",
        "                    verbose=False,\n",
        "                    validation_data=(em_nf_dev_x, nf_dev_y),\n",
        "                    batch_size=10)\n",
        "loss, accuracy = model10.evaluate(em_nf_train_x, nf_train_y, verbose=False)\n",
        "\n",
        "\n",
        "print(\"Training Accuracy: {:.4f}\".format(accuracy))\n",
        "loss, accuracy = model10.evaluate(em_nf_dev_x, nf_dev_y, verbose=False)\n",
        "print(\"Testing Accuracy:  {:.4f}\".format(accuracy))\n",
        "\n",
        "\n",
        "stop=time.time()\n",
        "print('Time take',(start-stop)/60)\n",
        "plot_history(history10)\n",
        "\n"
      ],
      "execution_count": 0,
      "outputs": [
        {
          "output_type": "stream",
          "text": [
            "Training Accuracy: 0.5836\n",
            "Testing Accuracy:  0.5873\n",
            "Time take -21.338738254706065\n"
          ],
          "name": "stdout"
        },
        {
          "output_type": "display_data",
          "data": {
            "image/png": "[encoded data removed]",
            "text/plain": [
              "<Figure size 864x360 with 2 Axes>"
            ]
          },
          "metadata": {
            "tags": []
          }
        }
      ]
    },
    {
      "cell_type": "markdown",
      "metadata": {
        "id": "LOKAPwsZGCz1",
        "colab_type": "text"
      },
      "source": [
        "Best models to be used are 2,7 and 9. I feel there is a bit too much overfiting, tried balancing it with regularizers , unable to do it."
      ]
    },
    {
      "cell_type": "code",
      "metadata": {
        "id": "JYd_c66qPqRx",
        "colab_type": "code",
        "outputId": "b3f1b247-017e-46c2-da34-3079329cb0f5",
        "colab": {
          "base_uri": "https://localhost:8080/",
          "height": 34
        }
      },
      "source": [
        "\"\"\"\n",
        "Final models tested on test dataset :)\n",
        "\n",
        "\n",
        "\"\"\""
      ],
      "execution_count": 0,
      "outputs": [
        {
          "output_type": "execute_result",
          "data": {
            "text/plain": [
              "'\\nFinal models tested on test dataset :)\\n\\n\\n'"
            ]
          },
          "metadata": {
            "tags": []
          },
          "execution_count": 18
        }
      ]
    },
    {
      "cell_type": "code",
      "metadata": {
        "id": "_AptX5l0Pxpe",
        "colab_type": "code",
        "outputId": "814c569b-534b-48ad-c8cb-7d00e56cab84",
        "colab": {
          "base_uri": "https://localhost:8080/",
          "height": 459
        }
      },
      "source": [
        "#Model 2\n",
        "embedding_dim = 25\n",
        "h1=int(2/3*embedding_dim)\n",
        "h2=int(2/3*h1)\n",
        "print(h1,h2)\n",
        "\n",
        "model2 = Sequential()\n",
        "model2.add(layers.Embedding(input_dim=vocab_size, \n",
        "                           output_dim=embedding_dim, \n",
        "                           input_length=maxlen))\n",
        "model2.add(layers.GlobalMaxPool1D())\n",
        "model2.add(layers.Dense(h1, activation='relu'))\n",
        "model2.add(layers.Dense(h2, activation='relu'))\n",
        "model2.add(layers.Dense(1, activation='sigmoid'))\n",
        "model2.compile(optimizer='adam',\n",
        "              loss='binary_crossentropy',\n",
        "              metrics=['accuracy'])\n",
        "model2.summary()"
      ],
      "execution_count": 0,
      "outputs": [
        {
          "output_type": "stream",
          "text": [
            "16 10\n",
            "WARNING:tensorflow:From /usr/local/lib/python3.6/dist-packages/keras/optimizers.py:793: The name tf.train.Optimizer is deprecated. Please use tf.compat.v1.train.Optimizer instead.\n",
            "\n",
            "WARNING:tensorflow:From /usr/local/lib/python3.6/dist-packages/keras/backend/tensorflow_backend.py:3657: The name tf.log is deprecated. Please use tf.math.log instead.\n",
            "\n",
            "WARNING:tensorflow:From /usr/local/lib/python3.6/dist-packages/tensorflow_core/python/ops/nn_impl.py:183: where (from tensorflow.python.ops.array_ops) is deprecated and will be removed in a future version.\n",
            "Instructions for updating:\n",
            "Use tf.where in 2.0, which has the same broadcast rule as np.where\n",
            "Model: \"sequential_3\"\n",
            "_________________________________________________________________\n",
            "Layer (type)                 Output Shape              Param #   \n",
            "=================================================================\n",
            "embedding_3 (Embedding)      (None, 4734, 25)          2613975   \n",
            "_________________________________________________________________\n",
            "global_max_pooling1d_3 (Glob (None, 25)                0         \n",
            "_________________________________________________________________\n",
            "dense_5 (Dense)              (None, 16)                416       \n",
            "_________________________________________________________________\n",
            "dense_6 (Dense)              (None, 10)                170       \n",
            "_________________________________________________________________\n",
            "dense_7 (Dense)              (None, 1)                 11        \n",
            "=================================================================\n",
            "Total params: 2,614,572\n",
            "Trainable params: 2,614,572\n",
            "Non-trainable params: 0\n",
            "_________________________________________________________________\n"
          ],
          "name": "stdout"
        }
      ]
    },
    {
      "cell_type": "code",
      "metadata": {
        "id": "8vzSAXB89Syv",
        "colab_type": "code",
        "outputId": "a02d19d1-acff-4513-ac2a-78c96f47088a",
        "colab": {
          "base_uri": "https://localhost:8080/",
          "height": 422
        }
      },
      "source": [
        "\n",
        "start=time.time()\n",
        "history2t = model2.fit(em_nf_train_x, nf_train_y,\n",
        "                    epochs=20,\n",
        "                    verbose=False,\n",
        "                    validation_data=(em_nf_test_x, nf_test_y),\n",
        "                    batch_size=10)\n",
        "loss, accuracy = model2.evaluate(em_nf_train_x, nf_train_y, verbose=1)\n",
        "\n",
        "\n",
        "print(\"Training Accuracy: {:.4f}\".format(accuracy))\n",
        "loss, accuracy = model2.evaluate(em_nf_test_x, nf_test_y, verbose=1)\n",
        "print(\"Testing Accuracy:  {:.4f}\".format(accuracy))\n",
        "\n",
        "\n",
        "stop=time.time()\n",
        "print('Time take',(start-stop)/60)\n",
        "plot_history(history2t)\n",
        "\n"
      ],
      "execution_count": 0,
      "outputs": [
        {
          "output_type": "stream",
          "text": [
            "14749/14749 [==============================] - 3s 232us/step\n",
            "Training Accuracy: 1.0000\n",
            "1844/1844 [==============================] - 0s 238us/step\n",
            "Testing Accuracy:  0.9919\n",
            "Time take -21.303382178147633\n"
          ],
          "name": "stdout"
        },
        {
          "output_type": "display_data",
          "data": {
            "image/png": "[encoded data removed]",
            "text/plain": [
              "<Figure size 864x360 with 2 Axes>"
            ]
          },
          "metadata": {
            "tags": []
          }
        }
      ]
    },
    {
      "cell_type": "code",
      "metadata": {
        "id": "RvQkoCZs9kHK",
        "colab_type": "code",
        "outputId": "3851faa5-d2ed-462f-a88f-a6efac15708f",
        "colab": {
          "base_uri": "https://localhost:8080/",
          "height": 408
        }
      },
      "source": [
        "from keras.layers import Dropout\n",
        "from keras.regularizers import l2\n",
        "\n",
        "#all regularizer+dropout\n",
        "\n",
        "#Model 9\n",
        "embedding_dim = 25\n",
        "h1=int(2/3*embedding_dim)\n",
        "h2=int(2/3*h1)\n",
        "print(h1,h2)\n",
        "\n",
        "model9 = Sequential()\n",
        "model9.add(layers.Embedding(input_dim=vocab_size, \n",
        "                           output_dim=embedding_dim, \n",
        "                           input_length=maxlen))\n",
        "model9.add(layers.GlobalMaxPool1D())\n",
        "model9.add(layers.Dense(h1, activation='relu',activity_regularizer=l2(0.1),kernel_regularizer=l2(0.01), bias_regularizer=l2(0.01)))\n",
        "model9.add(layers.Dropout(0.2))\n",
        "model9.add(layers.Dense(h2, activation='relu',activity_regularizer=l2(0.1),kernel_regularizer=l2(0.01), bias_regularizer=l2(0.01)))\n",
        "model9.add(layers.Dropout(0.2))\n",
        "model9.add(layers.Dense(1, activation='sigmoid'))\n",
        "model9.compile(optimizer='adam',\n",
        "              loss='binary_crossentropy',\n",
        "              metrics=['accuracy'])\n",
        "model9.summary()"
      ],
      "execution_count": 0,
      "outputs": [
        {
          "output_type": "stream",
          "text": [
            "16 10\n",
            "Model: \"sequential_5\"\n",
            "_________________________________________________________________\n",
            "Layer (type)                 Output Shape              Param #   \n",
            "=================================================================\n",
            "embedding_5 (Embedding)      (None, 4734, 25)          2613975   \n",
            "_________________________________________________________________\n",
            "global_max_pooling1d_5 (Glob (None, 25)                0         \n",
            "_________________________________________________________________\n",
            "dense_11 (Dense)             (None, 16)                416       \n",
            "_________________________________________________________________\n",
            "dropout_3 (Dropout)          (None, 16)                0         \n",
            "_________________________________________________________________\n",
            "dense_12 (Dense)             (None, 10)                170       \n",
            "_________________________________________________________________\n",
            "dropout_4 (Dropout)          (None, 10)                0         \n",
            "_________________________________________________________________\n",
            "dense_13 (Dense)             (None, 1)                 11        \n",
            "=================================================================\n",
            "Total params: 2,614,572\n",
            "Trainable params: 2,614,572\n",
            "Non-trainable params: 0\n",
            "_________________________________________________________________\n"
          ],
          "name": "stdout"
        }
      ]
    },
    {
      "cell_type": "code",
      "metadata": {
        "id": "rg5ZMADd9kOY",
        "colab_type": "code",
        "outputId": "113806ff-3ebc-4dfd-9c7c-6b91d39bb7af",
        "colab": {
          "base_uri": "https://localhost:8080/",
          "height": 422
        }
      },
      "source": [
        "\n",
        "start=time.time()\n",
        "history9t = model9.fit(em_nf_train_x, nf_train_y,\n",
        "                    epochs=20,\n",
        "                    verbose=False,\n",
        "                    validation_data=(em_nf_test_x, nf_test_y),\n",
        "                    batch_size=10)\n",
        "loss, accuracy = model9.evaluate(em_nf_train_x, nf_train_y, verbose=1)\n",
        "\n",
        "\n",
        "print(\"Training Accuracy: {:.4f}\".format(accuracy))\n",
        "loss, accuracy = model9.evaluate(em_nf_test_x, nf_test_y, verbose=1)\n",
        "print(\"Testing Accuracy:  {:.4f}\".format(accuracy))\n",
        "\n",
        "\n",
        "stop=time.time()\n",
        "print('Time take',(start-stop)/60)\n",
        "plot_history(history9t)\n",
        "\n"
      ],
      "execution_count": 0,
      "outputs": [
        {
          "output_type": "stream",
          "text": [
            "14749/14749 [==============================] - 4s 241us/step\n",
            "Training Accuracy: 1.0000\n",
            "1844/1844 [==============================] - 0s 247us/step\n",
            "Testing Accuracy:  0.9892\n",
            "Time take -21.177581612269083\n"
          ],
          "name": "stdout"
        },
        {
          "output_type": "display_data",
          "data": {
            "image/png": "[encoded data removed]",
            "text/plain": [
              "<Figure size 864x360 with 2 Axes>"
            ]
          },
          "metadata": {
            "tags": []
          }
        }
      ]
    },
    {
      "cell_type": "code",
      "metadata": {
        "id": "1ZcUcFzoUidJ",
        "colab_type": "code",
        "colab": {}
      },
      "source": [
        ""
      ],
      "execution_count": 0,
      "outputs": []
    },
    {
      "cell_type": "code",
      "metadata": {
        "id": "poI0HPLE-AZh",
        "colab_type": "code",
        "outputId": "a1f98947-3a68-445e-fb84-b6681203f6e3",
        "colab": {
          "base_uri": "https://localhost:8080/",
          "height": 340
        }
      },
      "source": [
        "\n",
        "#all regularizer\n",
        "#super aggresive\n",
        "#Model 7\n",
        "embedding_dim = 25\n",
        "h1=int(2/3*embedding_dim)\n",
        "h2=int(2/3*h1)\n",
        "print(h1,h2)\n",
        "\n",
        "model7 = Sequential()\n",
        "model7.add(layers.Embedding(input_dim=vocab_size, \n",
        "                           output_dim=embedding_dim, \n",
        "                           input_length=maxlen))\n",
        "model7.add(layers.GlobalMaxPool1D())\n",
        "model7.add(layers.Dense(h1, activation='relu',activity_regularizer=l2(0.1),kernel_regularizer=l2(0.01), bias_regularizer=l2(0.01)))\n",
        "model7.add(layers.Dense(h2, activation='relu',activity_regularizer=l2(0.1),kernel_regularizer=l2(0.01), bias_regularizer=l2(0.01)))\n",
        "model7.add(layers.Dense(1, activation='sigmoid'))\n",
        "model7.compile(optimizer='adam',\n",
        "              loss='binary_crossentropy',\n",
        "              metrics=['accuracy'])\n",
        "model7.summary()"
      ],
      "execution_count": 0,
      "outputs": [
        {
          "output_type": "stream",
          "text": [
            "16 10\n",
            "Model: \"sequential_6\"\n",
            "_________________________________________________________________\n",
            "Layer (type)                 Output Shape              Param #   \n",
            "=================================================================\n",
            "embedding_6 (Embedding)      (None, 4734, 25)          2613975   \n",
            "_________________________________________________________________\n",
            "global_max_pooling1d_6 (Glob (None, 25)                0         \n",
            "_________________________________________________________________\n",
            "dense_14 (Dense)             (None, 16)                416       \n",
            "_________________________________________________________________\n",
            "dense_15 (Dense)             (None, 10)                170       \n",
            "_________________________________________________________________\n",
            "dense_16 (Dense)             (None, 1)                 11        \n",
            "=================================================================\n",
            "Total params: 2,614,572\n",
            "Trainable params: 2,614,572\n",
            "Non-trainable params: 0\n",
            "_________________________________________________________________\n"
          ],
          "name": "stdout"
        }
      ]
    },
    {
      "cell_type": "code",
      "metadata": {
        "id": "TAfTn6Zg-Ad6",
        "colab_type": "code",
        "outputId": "25aa0e20-77b6-431e-868d-71ae4979c9b3",
        "colab": {
          "base_uri": "https://localhost:8080/",
          "height": 422
        }
      },
      "source": [
        "\n",
        "start=time.time()\n",
        "history7t = model7.fit(em_nf_train_x, nf_train_y,\n",
        "                    epochs=20,\n",
        "                    verbose=False,\n",
        "                    validation_data=(em_nf_test_x, nf_test_y),\n",
        "                    batch_size=10)\n",
        "loss, accuracy = model7.evaluate(em_nf_train_x, nf_train_y, verbose=1)\n",
        "\n",
        "\n",
        "print(\"Training Accuracy: {:.4f}\".format(accuracy))\n",
        "loss, accuracy = model7.evaluate(em_nf_test_x, nf_test_y, verbose=1)\n",
        "print(\"Testing Accuracy:  {:.4f}\".format(accuracy))\n",
        "\n",
        "\n",
        "stop=time.time()\n",
        "print('Time take',(start-stop)/60)\n",
        "plot_history(history7t)\n",
        "\n"
      ],
      "execution_count": 0,
      "outputs": [
        {
          "output_type": "stream",
          "text": [
            "14749/14749 [==============================] - 3s 221us/step\n",
            "Training Accuracy: 0.9999\n",
            "1844/1844 [==============================] - 0s 226us/step\n",
            "Testing Accuracy:  0.9886\n",
            "Time take -21.323074348767598\n"
          ],
          "name": "stdout"
        },
        {
          "output_type": "display_data",
          "data": {
            "image/png": "[encoded data removed]",
            "text/plain": [
              "<Figure size 864x360 with 2 Axes>"
            ]
          },
          "metadata": {
            "tags": []
          }
        }
      ]
    },
    {
      "cell_type": "code",
      "metadata": {
        "id": "bt1ZKoQ7RG3C",
        "colab_type": "code",
        "colab": {}
      },
      "source": [
        ""
      ],
      "execution_count": 0,
      "outputs": []
    },
    {
      "cell_type": "markdown",
      "metadata": {
        "id": "XdqGfVGBUwd8",
        "colab_type": "text"
      },
      "source": [
        "Model 9 is the best generalized model\n"
      ]
    },
    {
      "cell_type": "code",
      "metadata": {
        "id": "DA7D7VyFiCt7",
        "colab_type": "code",
        "colab": {}
      },
      "source": [
        ""
      ],
      "execution_count": 0,
      "outputs": []
    },
    {
      "cell_type": "code",
      "metadata": {
        "id": "34HPpyxNiK_7",
        "colab_type": "code",
        "colab": {}
      },
      "source": [
        ""
      ],
      "execution_count": 0,
      "outputs": []
    },
    {
      "cell_type": "code",
      "metadata": {
        "id": "rdPNta3biRXe",
        "colab_type": "code",
        "colab": {}
      },
      "source": [
        ""
      ],
      "execution_count": 0,
      "outputs": []
    },
    {
      "cell_type": "code",
      "metadata": {
        "id": "Hhfms1hTigA9",
        "colab_type": "code",
        "colab": {}
      },
      "source": [
        ""
      ],
      "execution_count": 0,
      "outputs": []
    },
    {
      "cell_type": "code",
      "metadata": {
        "id": "rZlzeG9Iijac",
        "colab_type": "code",
        "colab": {}
      },
      "source": [
        ""
      ],
      "execution_count": 0,
      "outputs": []
    },
    {
      "cell_type": "code",
      "metadata": {
        "id": "q19MStmliuqc",
        "colab_type": "code",
        "colab": {}
      },
      "source": [
        ""
      ],
      "execution_count": 0,
      "outputs": []
    },
    {
      "cell_type": "code",
      "metadata": {
        "id": "B3xTbab_i707",
        "colab_type": "code",
        "colab": {}
      },
      "source": [
        ""
      ],
      "execution_count": 0,
      "outputs": []
    },
    {
      "cell_type": "code",
      "metadata": {
        "id": "pdfS_Pi5i9T-",
        "colab_type": "code",
        "colab": {}
      },
      "source": [
        ""
      ],
      "execution_count": 0,
      "outputs": []
    },
    {
      "cell_type": "code",
      "metadata": {
        "id": "hk5Lx9qBjL9f",
        "colab_type": "code",
        "colab": {}
      },
      "source": [
        ""
      ],
      "execution_count": 0,
      "outputs": []
    },
    {
      "cell_type": "code",
      "metadata": {
        "id": "G_WsFbmXjUPd",
        "colab_type": "code",
        "colab": {}
      },
      "source": [
        ""
      ],
      "execution_count": 0,
      "outputs": []
    },
    {
      "cell_type": "code",
      "metadata": {
        "id": "CUsnqAE6jam7",
        "colab_type": "code",
        "colab": {}
      },
      "source": [
        ""
      ],
      "execution_count": 0,
      "outputs": []
    },
    {
      "cell_type": "code",
      "metadata": {
        "id": "mMvXESMXjpQk",
        "colab_type": "code",
        "colab": {}
      },
      "source": [
        ""
      ],
      "execution_count": 0,
      "outputs": []
    },
    {
      "cell_type": "code",
      "metadata": {
        "id": "EHweMf9bjsp8",
        "colab_type": "code",
        "colab": {}
      },
      "source": [
        ""
      ],
      "execution_count": 0,
      "outputs": []
    },
    {
      "cell_type": "code",
      "metadata": {
        "id": "aT9uq1Yij359",
        "colab_type": "code",
        "colab": {}
      },
      "source": [
        ""
      ],
      "execution_count": 0,
      "outputs": []
    },
    {
      "cell_type": "code",
      "metadata": {
        "id": "KKsU0SsqkFEd",
        "colab_type": "code",
        "colab": {}
      },
      "source": [
        ""
      ],
      "execution_count": 0,
      "outputs": []
    },
    {
      "cell_type": "code",
      "metadata": {
        "id": "0Hh2WSEgkGjf",
        "colab_type": "code",
        "colab": {}
      },
      "source": [
        ""
      ],
      "execution_count": 0,
      "outputs": []
    },
    {
      "cell_type": "code",
      "metadata": {
        "id": "ph2Y8NhykVNA",
        "colab_type": "code",
        "colab": {}
      },
      "source": [
        ""
      ],
      "execution_count": 0,
      "outputs": []
    },
    {
      "cell_type": "code",
      "metadata": {
        "id": "IimWUkSPkdfA",
        "colab_type": "code",
        "colab": {}
      },
      "source": [
        ""
      ],
      "execution_count": 0,
      "outputs": []
    },
    {
      "cell_type": "code",
      "metadata": {
        "id": "xxTTFIUOkj2f",
        "colab_type": "code",
        "colab": {}
      },
      "source": [
        ""
      ],
      "execution_count": 0,
      "outputs": []
    },
    {
      "cell_type": "code",
      "metadata": {
        "id": "FGYfcZ-dkyf9",
        "colab_type": "code",
        "colab": {}
      },
      "source": [
        ""
      ],
      "execution_count": 0,
      "outputs": []
    },
    {
      "cell_type": "code",
      "metadata": {
        "id": "S8nfaCvnk15q",
        "colab_type": "code",
        "colab": {}
      },
      "source": [
        ""
      ],
      "execution_count": 0,
      "outputs": []
    },
    {
      "cell_type": "code",
      "metadata": {
        "id": "DNW9_XZolBJe",
        "colab_type": "code",
        "colab": {}
      },
      "source": [
        ""
      ],
      "execution_count": 0,
      "outputs": []
    },
    {
      "cell_type": "code",
      "metadata": {
        "id": "3hL13JpQlOT-",
        "colab_type": "code",
        "colab": {}
      },
      "source": [
        ""
      ],
      "execution_count": 0,
      "outputs": []
    },
    {
      "cell_type": "code",
      "metadata": {
        "id": "N6wqg9imlPy_",
        "colab_type": "code",
        "colab": {}
      },
      "source": [
        ""
      ],
      "execution_count": 0,
      "outputs": []
    },
    {
      "cell_type": "code",
      "metadata": {
        "id": "H_kJfgyzledH",
        "colab_type": "code",
        "colab": {}
      },
      "source": [
        ""
      ],
      "execution_count": 0,
      "outputs": []
    },
    {
      "cell_type": "code",
      "metadata": {
        "id": "GwtRi8ULlmui",
        "colab_type": "code",
        "colab": {}
      },
      "source": [
        ""
      ],
      "execution_count": 0,
      "outputs": []
    },
    {
      "cell_type": "code",
      "metadata": {
        "id": "7eGqkk7gltF-",
        "colab_type": "code",
        "colab": {}
      },
      "source": [
        ""
      ],
      "execution_count": 0,
      "outputs": []
    },
    {
      "cell_type": "code",
      "metadata": {
        "id": "htEKTdAgl7vh",
        "colab_type": "code",
        "colab": {}
      },
      "source": [
        ""
      ],
      "execution_count": 0,
      "outputs": []
    },
    {
      "cell_type": "code",
      "metadata": {
        "id": "4CN87O99l_JA",
        "colab_type": "code",
        "colab": {}
      },
      "source": [
        ""
      ],
      "execution_count": 0,
      "outputs": []
    },
    {
      "cell_type": "code",
      "metadata": {
        "id": "eb7demnpmKZB",
        "colab_type": "code",
        "colab": {}
      },
      "source": [
        ""
      ],
      "execution_count": 0,
      "outputs": []
    },
    {
      "cell_type": "code",
      "metadata": {
        "id": "SB9drDvXmXjf",
        "colab_type": "code",
        "colab": {}
      },
      "source": [
        ""
      ],
      "execution_count": 0,
      "outputs": []
    },
    {
      "cell_type": "code",
      "metadata": {
        "id": "V1Oq0nZWmZCg",
        "colab_type": "code",
        "colab": {}
      },
      "source": [
        ""
      ],
      "execution_count": 0,
      "outputs": []
    },
    {
      "cell_type": "code",
      "metadata": {
        "id": "r50bdwnOmnsB",
        "colab_type": "code",
        "colab": {}
      },
      "source": [
        ""
      ],
      "execution_count": 0,
      "outputs": []
    },
    {
      "cell_type": "code",
      "metadata": {
        "id": "VNllu_oImv9_",
        "colab_type": "code",
        "colab": {}
      },
      "source": [
        ""
      ],
      "execution_count": 0,
      "outputs": []
    },
    {
      "cell_type": "code",
      "metadata": {
        "id": "4L66VLoQm2Vh",
        "colab_type": "code",
        "colab": {}
      },
      "source": [
        ""
      ],
      "execution_count": 0,
      "outputs": []
    },
    {
      "cell_type": "code",
      "metadata": {
        "id": "k8i5gzyWnE-_",
        "colab_type": "code",
        "colab": {}
      },
      "source": [
        ""
      ],
      "execution_count": 0,
      "outputs": []
    },
    {
      "cell_type": "code",
      "metadata": {
        "id": "WRTS9HacnIYh",
        "colab_type": "code",
        "colab": {}
      },
      "source": [
        ""
      ],
      "execution_count": 0,
      "outputs": []
    },
    {
      "cell_type": "code",
      "metadata": {
        "id": "wgihLkjznTof",
        "colab_type": "code",
        "colab": {}
      },
      "source": [
        ""
      ],
      "execution_count": 0,
      "outputs": []
    },
    {
      "cell_type": "code",
      "metadata": {
        "id": "eSxYdu7Ingy_",
        "colab_type": "code",
        "colab": {}
      },
      "source": [
        ""
      ],
      "execution_count": 0,
      "outputs": []
    },
    {
      "cell_type": "code",
      "metadata": {
        "id": "R6OL20BAniR_",
        "colab_type": "code",
        "colab": {}
      },
      "source": [
        ""
      ],
      "execution_count": 0,
      "outputs": []
    },
    {
      "cell_type": "code",
      "metadata": {
        "id": "9Xsreo9mnw7h",
        "colab_type": "code",
        "colab": {}
      },
      "source": [
        ""
      ],
      "execution_count": 0,
      "outputs": []
    },
    {
      "cell_type": "code",
      "metadata": {
        "id": "tJjyqgSSn5Ng",
        "colab_type": "code",
        "colab": {}
      },
      "source": [
        ""
      ],
      "execution_count": 0,
      "outputs": []
    },
    {
      "cell_type": "code",
      "metadata": {
        "id": "U0WyQE_Sn_lB",
        "colab_type": "code",
        "colab": {}
      },
      "source": [
        ""
      ],
      "execution_count": 0,
      "outputs": []
    },
    {
      "cell_type": "code",
      "metadata": {
        "id": "rrTLsThUoOO4",
        "colab_type": "code",
        "colab": {}
      },
      "source": [
        ""
      ],
      "execution_count": 0,
      "outputs": []
    },
    {
      "cell_type": "code",
      "metadata": {
        "id": "VHgeLG5foRn_",
        "colab_type": "code",
        "colab": {}
      },
      "source": [
        ""
      ],
      "execution_count": 0,
      "outputs": []
    },
    {
      "cell_type": "code",
      "metadata": {
        "id": "HzZ3oTIloc4A",
        "colab_type": "code",
        "colab": {}
      },
      "source": [
        ""
      ],
      "execution_count": 0,
      "outputs": []
    },
    {
      "cell_type": "code",
      "metadata": {
        "id": "D_VNbdRboqCi",
        "colab_type": "code",
        "colab": {}
      },
      "source": [
        ""
      ],
      "execution_count": 0,
      "outputs": []
    },
    {
      "cell_type": "code",
      "metadata": {
        "id": "7fmLkLGKorhe",
        "colab_type": "code",
        "colab": {}
      },
      "source": [
        ""
      ],
      "execution_count": 0,
      "outputs": []
    },
    {
      "cell_type": "code",
      "metadata": {
        "id": "3SBhXpiWo6LC",
        "colab_type": "code",
        "colab": {}
      },
      "source": [
        ""
      ],
      "execution_count": 0,
      "outputs": []
    },
    {
      "cell_type": "code",
      "metadata": {
        "id": "EikkbgmspCc_",
        "colab_type": "code",
        "colab": {}
      },
      "source": [
        ""
      ],
      "execution_count": 0,
      "outputs": []
    },
    {
      "cell_type": "code",
      "metadata": {
        "id": "Q23ydyf5pI0f",
        "colab_type": "code",
        "colab": {}
      },
      "source": [
        ""
      ],
      "execution_count": 0,
      "outputs": []
    },
    {
      "cell_type": "code",
      "metadata": {
        "id": "ppa-FDLjpXd_",
        "colab_type": "code",
        "colab": {}
      },
      "source": [
        ""
      ],
      "execution_count": 0,
      "outputs": []
    },
    {
      "cell_type": "code",
      "metadata": {
        "id": "LDHtJRoapa3f",
        "colab_type": "code",
        "colab": {}
      },
      "source": [
        ""
      ],
      "execution_count": 0,
      "outputs": []
    },
    {
      "cell_type": "code",
      "metadata": {
        "id": "FLQpmIaypmHf",
        "colab_type": "code",
        "colab": {}
      },
      "source": [
        ""
      ],
      "execution_count": 0,
      "outputs": []
    },
    {
      "cell_type": "code",
      "metadata": {
        "id": "x-xNXW43pzR_",
        "colab_type": "code",
        "colab": {}
      },
      "source": [
        ""
      ],
      "execution_count": 0,
      "outputs": []
    },
    {
      "cell_type": "code",
      "metadata": {
        "id": "-5Bx5IC-p0w-",
        "colab_type": "code",
        "colab": {}
      },
      "source": [
        ""
      ],
      "execution_count": 0,
      "outputs": []
    },
    {
      "cell_type": "code",
      "metadata": {
        "id": "loDC4FEIqDai",
        "colab_type": "code",
        "colab": {}
      },
      "source": [
        ""
      ],
      "execution_count": 0,
      "outputs": []
    },
    {
      "cell_type": "code",
      "metadata": {
        "id": "CYvmeihZqLsf",
        "colab_type": "code",
        "colab": {}
      },
      "source": [
        ""
      ],
      "execution_count": 0,
      "outputs": []
    },
    {
      "cell_type": "code",
      "metadata": {
        "id": "jKvzhVpYqSD_",
        "colab_type": "code",
        "colab": {}
      },
      "source": [
        ""
      ],
      "execution_count": 0,
      "outputs": []
    },
    {
      "cell_type": "code",
      "metadata": {
        "id": "79yOBkupqgt6",
        "colab_type": "code",
        "colab": {}
      },
      "source": [
        ""
      ],
      "execution_count": 0,
      "outputs": []
    },
    {
      "cell_type": "code",
      "metadata": {
        "id": "yhjXPa2pqkHA",
        "colab_type": "code",
        "colab": {}
      },
      "source": [
        ""
      ],
      "execution_count": 0,
      "outputs": []
    },
    {
      "cell_type": "code",
      "metadata": {
        "id": "4IR9k6_AqvW_",
        "colab_type": "code",
        "colab": {}
      },
      "source": [
        ""
      ],
      "execution_count": 0,
      "outputs": []
    },
    {
      "cell_type": "code",
      "metadata": {
        "id": "tB4F2Qavq8hg",
        "colab_type": "code",
        "colab": {}
      },
      "source": [
        ""
      ],
      "execution_count": 0,
      "outputs": []
    },
    {
      "cell_type": "code",
      "metadata": {
        "id": "-JGgqMxGq-Ae",
        "colab_type": "code",
        "colab": {}
      },
      "source": [
        ""
      ],
      "execution_count": 0,
      "outputs": []
    },
    {
      "cell_type": "code",
      "metadata": {
        "id": "cke8LcRVrMqA",
        "colab_type": "code",
        "colab": {}
      },
      "source": [
        ""
      ],
      "execution_count": 0,
      "outputs": []
    },
    {
      "cell_type": "code",
      "metadata": {
        "id": "iIcrLDRjrU7_",
        "colab_type": "code",
        "colab": {}
      },
      "source": [
        ""
      ],
      "execution_count": 0,
      "outputs": []
    },
    {
      "cell_type": "code",
      "metadata": {
        "id": "v21ll_KerbTe",
        "colab_type": "code",
        "colab": {}
      },
      "source": [
        ""
      ],
      "execution_count": 0,
      "outputs": []
    },
    {
      "cell_type": "code",
      "metadata": {
        "id": "fuvSphJyrp8-",
        "colab_type": "code",
        "colab": {}
      },
      "source": [
        ""
      ],
      "execution_count": 0,
      "outputs": []
    },
    {
      "cell_type": "code",
      "metadata": {
        "id": "QQwPryVQrtWh",
        "colab_type": "code",
        "colab": {}
      },
      "source": [
        ""
      ],
      "execution_count": 0,
      "outputs": []
    },
    {
      "cell_type": "code",
      "metadata": {
        "id": "HRVL-7Bsr4mh",
        "colab_type": "code",
        "colab": {}
      },
      "source": [
        ""
      ],
      "execution_count": 0,
      "outputs": []
    },
    {
      "cell_type": "code",
      "metadata": {
        "id": "z9YOaa6msFxA",
        "colab_type": "code",
        "colab": {}
      },
      "source": [
        ""
      ],
      "execution_count": 0,
      "outputs": []
    },
    {
      "cell_type": "code",
      "metadata": {
        "id": "FhFMarOBsHQA",
        "colab_type": "code",
        "colab": {}
      },
      "source": [
        ""
      ],
      "execution_count": 0,
      "outputs": []
    },
    {
      "cell_type": "code",
      "metadata": {
        "id": "f15Ww0wEsV5f",
        "colab_type": "code",
        "colab": {}
      },
      "source": [
        ""
      ],
      "execution_count": 0,
      "outputs": []
    },
    {
      "cell_type": "code",
      "metadata": {
        "id": "ULlcMCnNseLe",
        "colab_type": "code",
        "colab": {}
      },
      "source": [
        ""
      ],
      "execution_count": 0,
      "outputs": []
    },
    {
      "cell_type": "code",
      "metadata": {
        "id": "B5vIHeeGskjC",
        "colab_type": "code",
        "colab": {}
      },
      "source": [
        ""
      ],
      "execution_count": 0,
      "outputs": []
    },
    {
      "cell_type": "code",
      "metadata": {
        "id": "jq7EOJbfszMg",
        "colab_type": "code",
        "colab": {}
      },
      "source": [
        ""
      ],
      "execution_count": 0,
      "outputs": []
    },
    {
      "cell_type": "code",
      "metadata": {
        "id": "wlwTS852s2l_",
        "colab_type": "code",
        "colab": {}
      },
      "source": [
        ""
      ],
      "execution_count": 0,
      "outputs": []
    },
    {
      "cell_type": "code",
      "metadata": {
        "id": "mcuWg6BetB2B",
        "colab_type": "code",
        "colab": {}
      },
      "source": [
        ""
      ],
      "execution_count": 0,
      "outputs": []
    },
    {
      "cell_type": "code",
      "metadata": {
        "id": "M95TORsitPAg",
        "colab_type": "code",
        "colab": {}
      },
      "source": [
        ""
      ],
      "execution_count": 0,
      "outputs": []
    },
    {
      "cell_type": "code",
      "metadata": {
        "id": "kJEe395-tQfh",
        "colab_type": "code",
        "colab": {}
      },
      "source": [
        ""
      ],
      "execution_count": 0,
      "outputs": []
    },
    {
      "cell_type": "code",
      "metadata": {
        "id": "hxWMvPmVtfJD",
        "colab_type": "code",
        "colab": {}
      },
      "source": [
        ""
      ],
      "execution_count": 0,
      "outputs": []
    },
    {
      "cell_type": "code",
      "metadata": {
        "id": "jh4ZWsoZtnbA",
        "colab_type": "code",
        "colab": {}
      },
      "source": [
        ""
      ],
      "execution_count": 0,
      "outputs": []
    },
    {
      "cell_type": "code",
      "metadata": {
        "id": "3AWU5Hcsttyj",
        "colab_type": "code",
        "colab": {}
      },
      "source": [
        ""
      ],
      "execution_count": 0,
      "outputs": []
    },
    {
      "cell_type": "code",
      "metadata": {
        "id": "5zUsP1gYt8cA",
        "colab_type": "code",
        "colab": {}
      },
      "source": [
        ""
      ],
      "execution_count": 0,
      "outputs": []
    },
    {
      "cell_type": "code",
      "metadata": {
        "id": "ZArb6EZ8t_1h",
        "colab_type": "code",
        "colab": {}
      },
      "source": [
        ""
      ],
      "execution_count": 0,
      "outputs": []
    },
    {
      "cell_type": "code",
      "metadata": {
        "id": "uCEz1suvuLFh",
        "colab_type": "code",
        "colab": {}
      },
      "source": [
        ""
      ],
      "execution_count": 0,
      "outputs": []
    },
    {
      "cell_type": "code",
      "metadata": {
        "id": "mp06gH1YuYQA",
        "colab_type": "code",
        "colab": {}
      },
      "source": [
        ""
      ],
      "execution_count": 0,
      "outputs": []
    },
    {
      "cell_type": "code",
      "metadata": {
        "id": "nNoI8XfSuZu_",
        "colab_type": "code",
        "colab": {}
      },
      "source": [
        ""
      ],
      "execution_count": 0,
      "outputs": []
    },
    {
      "cell_type": "code",
      "metadata": {
        "id": "5VonrEU-uoYh",
        "colab_type": "code",
        "colab": {}
      },
      "source": [
        ""
      ],
      "execution_count": 0,
      "outputs": []
    },
    {
      "cell_type": "code",
      "metadata": {
        "id": "qL9Qf7qeuwqg",
        "colab_type": "code",
        "colab": {}
      },
      "source": [
        ""
      ],
      "execution_count": 0,
      "outputs": []
    },
    {
      "cell_type": "code",
      "metadata": {
        "id": "luPs_uDGu3B-",
        "colab_type": "code",
        "colab": {}
      },
      "source": [
        ""
      ],
      "execution_count": 0,
      "outputs": []
    },
    {
      "cell_type": "code",
      "metadata": {
        "id": "KvWskcYBvFrh",
        "colab_type": "code",
        "colab": {}
      },
      "source": [
        ""
      ],
      "execution_count": 0,
      "outputs": []
    },
    {
      "cell_type": "code",
      "metadata": {
        "id": "i7OgPvouvJE_",
        "colab_type": "code",
        "colab": {}
      },
      "source": [
        ""
      ],
      "execution_count": 0,
      "outputs": []
    },
    {
      "cell_type": "code",
      "metadata": {
        "id": "7NqX3fFgvUVB",
        "colab_type": "code",
        "colab": {}
      },
      "source": [
        ""
      ],
      "execution_count": 0,
      "outputs": []
    },
    {
      "cell_type": "code",
      "metadata": {
        "id": "DVaXXe1fvhfg",
        "colab_type": "code",
        "colab": {}
      },
      "source": [
        ""
      ],
      "execution_count": 0,
      "outputs": []
    },
    {
      "cell_type": "code",
      "metadata": {
        "id": "g7Ql-orBvi-g",
        "colab_type": "code",
        "colab": {}
      },
      "source": [
        ""
      ],
      "execution_count": 0,
      "outputs": []
    },
    {
      "cell_type": "code",
      "metadata": {
        "id": "MnFHweZfvxn-",
        "colab_type": "code",
        "colab": {}
      },
      "source": [
        ""
      ],
      "execution_count": 0,
      "outputs": []
    },
    {
      "cell_type": "code",
      "metadata": {
        "id": "enxMgBOuv55_",
        "colab_type": "code",
        "colab": {}
      },
      "source": [
        ""
      ],
      "execution_count": 0,
      "outputs": []
    },
    {
      "cell_type": "code",
      "metadata": {
        "id": "ufV1k4eDwARe",
        "colab_type": "code",
        "colab": {}
      },
      "source": [
        ""
      ],
      "execution_count": 0,
      "outputs": []
    },
    {
      "cell_type": "code",
      "metadata": {
        "id": "Koa1LHXFwO7G",
        "colab_type": "code",
        "colab": {}
      },
      "source": [
        ""
      ],
      "execution_count": 0,
      "outputs": []
    },
    {
      "cell_type": "code",
      "metadata": {
        "id": "GLboxA3-wSUh",
        "colab_type": "code",
        "colab": {}
      },
      "source": [
        ""
      ],
      "execution_count": 0,
      "outputs": []
    },
    {
      "cell_type": "code",
      "metadata": {
        "id": "rYlhkMGcwdkf",
        "colab_type": "code",
        "colab": {}
      },
      "source": [
        ""
      ],
      "execution_count": 0,
      "outputs": []
    },
    {
      "cell_type": "code",
      "metadata": {
        "id": "RoufIrsEwqu_",
        "colab_type": "code",
        "colab": {}
      },
      "source": [
        ""
      ],
      "execution_count": 0,
      "outputs": []
    },
    {
      "cell_type": "code",
      "metadata": {
        "id": "9v5UOvDgwsN-",
        "colab_type": "code",
        "colab": {}
      },
      "source": [
        ""
      ],
      "execution_count": 0,
      "outputs": []
    },
    {
      "cell_type": "code",
      "metadata": {
        "id": "gu0mc2t3w63h",
        "colab_type": "code",
        "colab": {}
      },
      "source": [
        ""
      ],
      "execution_count": 0,
      "outputs": []
    },
    {
      "cell_type": "code",
      "metadata": {
        "id": "l7FQmLqFxDJf",
        "colab_type": "code",
        "colab": {}
      },
      "source": [
        ""
      ],
      "execution_count": 0,
      "outputs": []
    },
    {
      "cell_type": "code",
      "metadata": {
        "id": "deyU-BUsxJg_",
        "colab_type": "code",
        "colab": {}
      },
      "source": [
        ""
      ],
      "execution_count": 0,
      "outputs": []
    },
    {
      "cell_type": "code",
      "metadata": {
        "id": "9kswqYt0xYKe",
        "colab_type": "code",
        "colab": {}
      },
      "source": [
        ""
      ],
      "execution_count": 0,
      "outputs": []
    },
    {
      "cell_type": "code",
      "metadata": {
        "id": "t7lQUJJXxbj_",
        "colab_type": "code",
        "colab": {}
      },
      "source": [
        ""
      ],
      "execution_count": 0,
      "outputs": []
    },
    {
      "cell_type": "code",
      "metadata": {
        "id": "7opmS_GWxmz-",
        "colab_type": "code",
        "colab": {}
      },
      "source": [
        ""
      ],
      "execution_count": 0,
      "outputs": []
    },
    {
      "cell_type": "code",
      "metadata": {
        "id": "F5oJ1UOTxz-f",
        "colab_type": "code",
        "colab": {}
      },
      "source": [
        ""
      ],
      "execution_count": 0,
      "outputs": []
    },
    {
      "cell_type": "code",
      "metadata": {
        "id": "CfayfCLsx1df",
        "colab_type": "code",
        "colab": {}
      },
      "source": [
        ""
      ],
      "execution_count": 0,
      "outputs": []
    },
    {
      "cell_type": "code",
      "metadata": {
        "id": "OVGZM0BxyEG-",
        "colab_type": "code",
        "colab": {}
      },
      "source": [
        ""
      ],
      "execution_count": 0,
      "outputs": []
    },
    {
      "cell_type": "code",
      "metadata": {
        "id": "hjJiBzo6yMY-",
        "colab_type": "code",
        "colab": {}
      },
      "source": [
        ""
      ],
      "execution_count": 0,
      "outputs": []
    },
    {
      "cell_type": "code",
      "metadata": {
        "id": "FINHqTyaySwg",
        "colab_type": "code",
        "colab": {}
      },
      "source": [
        ""
      ],
      "execution_count": 0,
      "outputs": []
    },
    {
      "cell_type": "code",
      "metadata": {
        "id": "X5423DEOyhaC",
        "colab_type": "code",
        "colab": {}
      },
      "source": [
        ""
      ],
      "execution_count": 0,
      "outputs": []
    },
    {
      "cell_type": "code",
      "metadata": {
        "id": "P1fCbAXlykzf",
        "colab_type": "code",
        "colab": {}
      },
      "source": [
        ""
      ],
      "execution_count": 0,
      "outputs": []
    },
    {
      "cell_type": "code",
      "metadata": {
        "id": "5df7j_SIywDe",
        "colab_type": "code",
        "colab": {}
      },
      "source": [
        ""
      ],
      "execution_count": 0,
      "outputs": []
    },
    {
      "cell_type": "code",
      "metadata": {
        "id": "cu4TicIky9N-",
        "colab_type": "code",
        "colab": {}
      },
      "source": [
        ""
      ],
      "execution_count": 0,
      "outputs": []
    },
    {
      "cell_type": "code",
      "metadata": {
        "id": "QQaVikCXy-s-",
        "colab_type": "code",
        "colab": {}
      },
      "source": [
        ""
      ],
      "execution_count": 0,
      "outputs": []
    },
    {
      "cell_type": "code",
      "metadata": {
        "id": "ATTvixHXzNWe",
        "colab_type": "code",
        "colab": {}
      },
      "source": [
        ""
      ],
      "execution_count": 0,
      "outputs": []
    },
    {
      "cell_type": "code",
      "metadata": {
        "id": "D97p_TU2zVof",
        "colab_type": "code",
        "colab": {}
      },
      "source": [
        ""
      ],
      "execution_count": 0,
      "outputs": []
    },
    {
      "cell_type": "code",
      "metadata": {
        "id": "o4AAgwSezb_-",
        "colab_type": "code",
        "colab": {}
      },
      "source": [
        ""
      ],
      "execution_count": 0,
      "outputs": []
    },
    {
      "cell_type": "code",
      "metadata": {
        "id": "E8WKveLPzqpe",
        "colab_type": "code",
        "colab": {}
      },
      "source": [
        ""
      ],
      "execution_count": 0,
      "outputs": []
    },
    {
      "cell_type": "code",
      "metadata": {
        "id": "9seN0-R2zuC_",
        "colab_type": "code",
        "colab": {}
      },
      "source": [
        ""
      ],
      "execution_count": 0,
      "outputs": []
    },
    {
      "cell_type": "code",
      "metadata": {
        "id": "arnqX99Wz5S-",
        "colab_type": "code",
        "colab": {}
      },
      "source": [
        ""
      ],
      "execution_count": 0,
      "outputs": []
    },
    {
      "cell_type": "code",
      "metadata": {
        "id": "POw9ubic0Gdf",
        "colab_type": "code",
        "colab": {}
      },
      "source": [
        ""
      ],
      "execution_count": 0,
      "outputs": []
    },
    {
      "cell_type": "code",
      "metadata": {
        "id": "mx_p4r1y0H8f",
        "colab_type": "code",
        "colab": {}
      },
      "source": [
        ""
      ],
      "execution_count": 0,
      "outputs": []
    },
    {
      "cell_type": "code",
      "metadata": {
        "id": "BL5LzCLv0WmD",
        "colab_type": "code",
        "colab": {}
      },
      "source": [
        ""
      ],
      "execution_count": 0,
      "outputs": []
    },
    {
      "cell_type": "code",
      "metadata": {
        "id": "Yi9ET3ov0e3_",
        "colab_type": "code",
        "colab": {}
      },
      "source": [
        ""
      ],
      "execution_count": 0,
      "outputs": []
    },
    {
      "cell_type": "code",
      "metadata": {
        "id": "bgOhG1IV0lPe",
        "colab_type": "code",
        "colab": {}
      },
      "source": [
        ""
      ],
      "execution_count": 0,
      "outputs": []
    },
    {
      "cell_type": "code",
      "metadata": {
        "id": "_5OkkPdZ0z4-",
        "colab_type": "code",
        "colab": {}
      },
      "source": [
        ""
      ],
      "execution_count": 0,
      "outputs": []
    },
    {
      "cell_type": "code",
      "metadata": {
        "id": "ipcxGwr903Sf",
        "colab_type": "code",
        "colab": {}
      },
      "source": [
        ""
      ],
      "execution_count": 0,
      "outputs": []
    },
    {
      "cell_type": "code",
      "metadata": {
        "id": "IUSiP8aC1Cie",
        "colab_type": "code",
        "colab": {}
      },
      "source": [
        ""
      ],
      "execution_count": 0,
      "outputs": []
    },
    {
      "cell_type": "code",
      "metadata": {
        "id": "8bxodnVL1Ps_",
        "colab_type": "code",
        "colab": {}
      },
      "source": [
        ""
      ],
      "execution_count": 0,
      "outputs": []
    },
    {
      "cell_type": "code",
      "metadata": {
        "id": "HmTv30H-1RL_",
        "colab_type": "code",
        "colab": {}
      },
      "source": [
        ""
      ],
      "execution_count": 0,
      "outputs": []
    },
    {
      "cell_type": "code",
      "metadata": {
        "id": "3zTYQubr1f1k",
        "colab_type": "code",
        "colab": {}
      },
      "source": [
        ""
      ],
      "execution_count": 0,
      "outputs": []
    },
    {
      "cell_type": "code",
      "metadata": {
        "id": "OOa8AERx1oHf",
        "colab_type": "code",
        "colab": {}
      },
      "source": [
        ""
      ],
      "execution_count": 0,
      "outputs": []
    },
    {
      "cell_type": "code",
      "metadata": {
        "id": "VW-AjNoo1ufE",
        "colab_type": "code",
        "colab": {}
      },
      "source": [
        ""
      ],
      "execution_count": 0,
      "outputs": []
    },
    {
      "cell_type": "code",
      "metadata": {
        "id": "_LLXQZPh19If",
        "colab_type": "code",
        "colab": {}
      },
      "source": [
        ""
      ],
      "execution_count": 0,
      "outputs": []
    },
    {
      "cell_type": "code",
      "metadata": {
        "id": "5-0_B0my2Ah_",
        "colab_type": "code",
        "colab": {}
      },
      "source": [
        ""
      ],
      "execution_count": 0,
      "outputs": []
    },
    {
      "cell_type": "code",
      "metadata": {
        "id": "kEdKWH6m2Lx-",
        "colab_type": "code",
        "colab": {}
      },
      "source": [
        ""
      ],
      "execution_count": 0,
      "outputs": []
    },
    {
      "cell_type": "code",
      "metadata": {
        "id": "BCIr17Az2Y8f",
        "colab_type": "code",
        "colab": {}
      },
      "source": [
        ""
      ],
      "execution_count": 0,
      "outputs": []
    },
    {
      "cell_type": "code",
      "metadata": {
        "id": "vTEINooG2abf",
        "colab_type": "code",
        "colab": {}
      },
      "source": [
        ""
      ],
      "execution_count": 0,
      "outputs": []
    },
    {
      "cell_type": "code",
      "metadata": {
        "id": "uVvS3apF2pE-",
        "colab_type": "code",
        "colab": {}
      },
      "source": [
        ""
      ],
      "execution_count": 0,
      "outputs": []
    },
    {
      "cell_type": "code",
      "metadata": {
        "id": "gm97M8Kw2xW_",
        "colab_type": "code",
        "colab": {}
      },
      "source": [
        ""
      ],
      "execution_count": 0,
      "outputs": []
    },
    {
      "cell_type": "code",
      "metadata": {
        "id": "9oQ-PdK623ue",
        "colab_type": "code",
        "colab": {}
      },
      "source": [
        ""
      ],
      "execution_count": 0,
      "outputs": []
    },
    {
      "cell_type": "code",
      "metadata": {
        "id": "P-QxH6B13GX-",
        "colab_type": "code",
        "colab": {}
      },
      "source": [
        ""
      ],
      "execution_count": 0,
      "outputs": []
    },
    {
      "cell_type": "code",
      "metadata": {
        "id": "LOW1-Amt3Jxe",
        "colab_type": "code",
        "colab": {}
      },
      "source": [
        ""
      ],
      "execution_count": 0,
      "outputs": []
    },
    {
      "cell_type": "code",
      "metadata": {
        "id": "8slK8AFc3VBe",
        "colab_type": "code",
        "colab": {}
      },
      "source": [
        ""
      ],
      "execution_count": 0,
      "outputs": []
    },
    {
      "cell_type": "code",
      "metadata": {
        "id": "yHyyfvf63iL-",
        "colab_type": "code",
        "colab": {}
      },
      "source": [
        ""
      ],
      "execution_count": 0,
      "outputs": []
    },
    {
      "cell_type": "code",
      "metadata": {
        "id": "SIrEvcoL3jq-",
        "colab_type": "code",
        "colab": {}
      },
      "source": [
        ""
      ],
      "execution_count": 0,
      "outputs": []
    },
    {
      "cell_type": "code",
      "metadata": {
        "id": "0ACMszFi3yUf",
        "colab_type": "code",
        "colab": {}
      },
      "source": [
        ""
      ],
      "execution_count": 0,
      "outputs": []
    },
    {
      "cell_type": "code",
      "metadata": {
        "id": "3H1kS6iz36mf",
        "colab_type": "code",
        "colab": {}
      },
      "source": [
        ""
      ],
      "execution_count": 0,
      "outputs": []
    },
    {
      "cell_type": "code",
      "metadata": {
        "id": "wz6GYOup4A9_",
        "colab_type": "code",
        "colab": {}
      },
      "source": [
        ""
      ],
      "execution_count": 0,
      "outputs": []
    },
    {
      "cell_type": "code",
      "metadata": {
        "id": "9nHm7Sfw4Pnf",
        "colab_type": "code",
        "colab": {}
      },
      "source": [
        ""
      ],
      "execution_count": 0,
      "outputs": []
    },
    {
      "cell_type": "code",
      "metadata": {
        "id": "IEM_wBxQ4TA_",
        "colab_type": "code",
        "colab": {}
      },
      "source": [
        ""
      ],
      "execution_count": 0,
      "outputs": []
    },
    {
      "cell_type": "code",
      "metadata": {
        "id": "2qpaamJW4eQ-",
        "colab_type": "code",
        "colab": {}
      },
      "source": [
        ""
      ],
      "execution_count": 0,
      "outputs": []
    },
    {
      "cell_type": "code",
      "metadata": {
        "id": "HlXjqhIt4rbk",
        "colab_type": "code",
        "colab": {}
      },
      "source": [
        ""
      ],
      "execution_count": 0,
      "outputs": []
    },
    {
      "cell_type": "code",
      "metadata": {
        "id": "27I0IIJt4s6f",
        "colab_type": "code",
        "colab": {}
      },
      "source": [
        ""
      ],
      "execution_count": 0,
      "outputs": []
    },
    {
      "cell_type": "code",
      "metadata": {
        "id": "4ebJOTV547j-",
        "colab_type": "code",
        "colab": {}
      },
      "source": [
        ""
      ],
      "execution_count": 0,
      "outputs": []
    },
    {
      "cell_type": "code",
      "metadata": {
        "id": "bygEcqvt5D2A",
        "colab_type": "code",
        "colab": {}
      },
      "source": [
        ""
      ],
      "execution_count": 0,
      "outputs": []
    },
    {
      "cell_type": "code",
      "metadata": {
        "id": "0ML3FpmF5KNf",
        "colab_type": "code",
        "colab": {}
      },
      "source": [
        ""
      ],
      "execution_count": 0,
      "outputs": []
    },
    {
      "cell_type": "code",
      "metadata": {
        "id": "ZOnaftkb5Y2-",
        "colab_type": "code",
        "colab": {}
      },
      "source": [
        ""
      ],
      "execution_count": 0,
      "outputs": []
    },
    {
      "cell_type": "code",
      "metadata": {
        "id": "rykGQC8_5cQf",
        "colab_type": "code",
        "colab": {}
      },
      "source": [
        ""
      ],
      "execution_count": 0,
      "outputs": []
    },
    {
      "cell_type": "code",
      "metadata": {
        "id": "7jJPw9qi5nge",
        "colab_type": "code",
        "colab": {}
      },
      "source": [
        ""
      ],
      "execution_count": 0,
      "outputs": []
    },
    {
      "cell_type": "code",
      "metadata": {
        "id": "Lj8cVa3P50q_",
        "colab_type": "code",
        "colab": {}
      },
      "source": [
        ""
      ],
      "execution_count": 0,
      "outputs": []
    },
    {
      "cell_type": "code",
      "metadata": {
        "id": "1MHQ_Q8Z52J_",
        "colab_type": "code",
        "colab": {}
      },
      "source": [
        ""
      ],
      "execution_count": 0,
      "outputs": []
    },
    {
      "cell_type": "code",
      "metadata": {
        "id": "9Mbqf3-T6Eze",
        "colab_type": "code",
        "colab": {}
      },
      "source": [
        ""
      ],
      "execution_count": 0,
      "outputs": []
    },
    {
      "cell_type": "code",
      "metadata": {
        "id": "q1wT0U7g6NFg",
        "colab_type": "code",
        "colab": {}
      },
      "source": [
        ""
      ],
      "execution_count": 0,
      "outputs": []
    },
    {
      "cell_type": "code",
      "metadata": {
        "id": "whMzRUCu6Tc_",
        "colab_type": "code",
        "colab": {}
      },
      "source": [
        ""
      ],
      "execution_count": 0,
      "outputs": []
    },
    {
      "cell_type": "code",
      "metadata": {
        "id": "vwteBMTuU0gM",
        "colab_type": "code",
        "colab": {}
      },
      "source": [
        ""
      ],
      "execution_count": 0,
      "outputs": []
    }
  ]
}