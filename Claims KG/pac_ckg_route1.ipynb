{
 "cells": [
  {
   "cell_type": "code",
   "execution_count": 1,
   "metadata": {
    "scrolled": true
   },
   "outputs": [
    {
     "name": "stdout",
     "output_type": "stream",
     "text": [
      "importing Jupyter notebook from auto_naive.ipynb\n",
      "importing Jupyter notebook from auto_pac.ipynb\n"
     ]
    }
   ],
   "source": [
    "import numpy as np\n",
    "import import_ipynb\n",
    "import auto_naive as an\n",
    "import auto_pac as ap\n",
    "import pandas as pd\n",
    "#import dtale as d"
   ]
  },
  {
   "cell_type": "code",
   "execution_count": 2,
   "metadata": {},
   "outputs": [
    {
     "data": {
      "text/plain": [
       "Index(['text', 'ratingName', 'headline', 'keywords', 'source'], dtype='object')"
      ]
     },
     "execution_count": 2,
     "metadata": {},
     "output_type": "execute_result"
    }
   ],
   "source": [
    "data=pd.read_csv('ckg.csv')\n",
    "#data1=d.show(data)\n",
    "data.columns"
   ]
  },
  {
   "cell_type": "code",
   "execution_count": 3,
   "metadata": {},
   "outputs": [],
   "source": [
    "data.dropna(inplace=True)"
   ]
  },
  {
   "cell_type": "code",
   "execution_count": 4,
   "metadata": {},
   "outputs": [
    {
     "name": "stdout",
     "output_type": "stream",
     "text": [
      "Final size of train/test : 7468 / 1868\n",
      "train accuracy: 0.9989287627209427\n",
      "train confusion matrix\n",
      "[[5486    1]\n",
      " [   7 1974]]\n",
      "test accuracy: 0.7007494646680942\n",
      "test confusion matrix\n",
      "[[1130  285]\n",
      " [ 274  179]]\n"
     ]
    }
   ],
   "source": [
    "ap.pac_tfidf_model(data.text,data.ratingName)"
   ]
  },
  {
   "cell_type": "code",
   "execution_count": 5,
   "metadata": {},
   "outputs": [
    {
     "name": "stdout",
     "output_type": "stream",
     "text": [
      "Final size of train/test : 7468 / 1868\n",
      "Early Stopping is being used\n",
      "train accuracy: 0.9617032672737011\n",
      "train confusion matrix\n",
      "[[5376  111]\n",
      " [ 175 1806]]\n",
      "test accuracy: 0.7141327623126338\n",
      "test confusion matrix\n",
      "[[1162  253]\n",
      " [ 281  172]]\n"
     ]
    }
   ],
   "source": [
    "ap.pac_tfidf_model(data.text,data.ratingName,stop=True)"
   ]
  },
  {
   "cell_type": "code",
   "execution_count": 6,
   "metadata": {},
   "outputs": [
    {
     "name": "stdout",
     "output_type": "stream",
     "text": [
      "Final size of train/test : 7468 / 1868\n",
      "train accuracy: 0.998393144081414\n",
      "train confusion matrix\n",
      "[[5486    1]\n",
      " [  11 1970]]\n",
      "test accuracy: 0.7034261241970021\n",
      "test confusion matrix\n",
      "[[1137  278]\n",
      " [ 276  177]]\n"
     ]
    }
   ],
   "source": [
    "ap.pac_tfidf_model(data.headline,data.ratingName)"
   ]
  },
  {
   "cell_type": "code",
   "execution_count": 7,
   "metadata": {},
   "outputs": [
    {
     "name": "stdout",
     "output_type": "stream",
     "text": [
      "Final size of train/test : 7468 / 1868\n",
      "Early Stopping is being used\n",
      "train accuracy: 0.9630423138725228\n",
      "train confusion matrix\n",
      "[[5375  112]\n",
      " [ 164 1817]]\n",
      "test accuracy: 0.702355460385439\n",
      "test confusion matrix\n",
      "[[1136  279]\n",
      " [ 277  176]]\n"
     ]
    }
   ],
   "source": [
    "ap.pac_tfidf_model(data.headline,data.ratingName,stop=True)"
   ]
  },
  {
   "cell_type": "code",
   "execution_count": 8,
   "metadata": {},
   "outputs": [
    {
     "name": "stdout",
     "output_type": "stream",
     "text": [
      "Final size of train/test : 7468 / 1868\n",
      "train accuracy: 0.763122656668452\n",
      "train confusion matrix\n",
      "[[4755  732]\n",
      " [1037  944]]\n",
      "test accuracy: 0.6777301927194861\n",
      "test confusion matrix\n",
      "[[1138  277]\n",
      " [ 325  128]]\n"
     ]
    }
   ],
   "source": [
    "ap.pac_tfidf_model(data.keywords,data.ratingName)"
   ]
  },
  {
   "cell_type": "code",
   "execution_count": 9,
   "metadata": {},
   "outputs": [
    {
     "name": "stdout",
     "output_type": "stream",
     "text": [
      "Final size of train/test : 7468 / 1868\n",
      "Early Stopping is being used\n",
      "train accuracy: 0.737814675950723\n",
      "train confusion matrix\n",
      "[[4367 1120]\n",
      " [ 838 1143]]\n",
      "test accuracy: 0.6702355460385439\n",
      "test confusion matrix\n",
      "[[1058  357]\n",
      " [ 259  194]]\n"
     ]
    }
   ],
   "source": [
    "ap.pac_tfidf_model(data.keywords,data.ratingName,stop=True)"
   ]
  },
  {
   "cell_type": "code",
   "execution_count": 10,
   "metadata": {},
   "outputs": [
    {
     "name": "stdout",
     "output_type": "stream",
     "text": [
      "Final size of train/test : 7468 / 1868\n",
      "train accuracy: 0.7347348687734333\n",
      "train confusion matrix\n",
      "[[5487    0]\n",
      " [1981    0]]\n",
      "test accuracy: 0.7574946466809421\n",
      "test confusion matrix\n",
      "[[1415    0]\n",
      " [ 453    0]]\n"
     ]
    }
   ],
   "source": [
    "ap.pac_tfidf_model(data.source,data.ratingName)"
   ]
  },
  {
   "cell_type": "code",
   "execution_count": 11,
   "metadata": {},
   "outputs": [
    {
     "name": "stdout",
     "output_type": "stream",
     "text": [
      "Final size of train/test : 7468 / 1868\n",
      "Early Stopping is being used\n",
      "train accuracy: 0.56373861810391\n",
      "train confusion matrix\n",
      "[[3098 2389]\n",
      " [ 869 1112]]\n",
      "test accuracy: 0.5802997858672377\n",
      "test confusion matrix\n",
      "[[824 591]\n",
      " [193 260]]\n"
     ]
    }
   ],
   "source": [
    "ap.pac_tfidf_model(data.source,data.ratingName,stop=True)"
   ]
  },
  {
   "cell_type": "code",
   "execution_count": 3,
   "metadata": {},
   "outputs": [
    {
     "data": {
      "text/plain": [
       "0"
      ]
     },
     "execution_count": 3,
     "metadata": {},
     "output_type": "execute_result"
    }
   ],
   "source": [
    "a=np.array([])\n",
    "a.size"
   ]
  },
  {
   "cell_type": "code",
   "execution_count": 15,
   "metadata": {},
   "outputs": [],
   "source": [
    "def mult_tfidf(x1,x2,x3,x4,y,stop=False):\n",
    "    from sklearn.feature_extraction.text import TfidfVectorizer\n",
    "    train_x1,train_y1,test_x1,test_y1=an.split_data(x1,y)\n",
    "    train_x2,train_y2,test_x2,test_y2=an.split_data(x2,y)\n",
    "    train_x3,train_y3,test_x3,test_y3=an.split_data(x3,y)\n",
    "    train_x4,train_y4,test_x4,test_y4=an.split_data(x4,y)\n",
    "    \n",
    "    tfidf_vectorizer = TfidfVectorizer(stop_words='english',max_df=0.7)   # a TFIDF vectorize\n",
    "    \n",
    "    tfidf_train_x1 = pd.DataFrame(tfidf_vectorizer.fit_transform(train_x1).todense())  #fitting the training data\n",
    "    tfidf_test_x1 = pd.DataFrame(tfidf_vectorizer.transform(test_x1).todense())\n",
    "\n",
    "    tfidf_train_x2 = pd.DataFrame(tfidf_vectorizer.fit_transform(train_x2).todense())  #fitting the training data\n",
    "    tfidf_test_x2 = pd.DataFrame(tfidf_vectorizer.transform(test_x2).todense()) \n",
    "        \n",
    "    tfidf_train_x3 = pd.DataFrame(tfidf_vectorizer.fit_transform(train_x3).todense())  #fitting the training data\n",
    "    tfidf_test_x3 = pd.DataFrame(tfidf_vectorizer.transform(test_x3).todense())\n",
    "        \n",
    "    tfidf_train_x4 = pd.DataFrame(tfidf_vectorizer.fit_transform(train_x4).todense())  #fitting the training data\n",
    "    tfidf_test_x4 = pd.DataFrame(tfidf_vectorizer.transform(test_x4).todense())\n",
    "\n",
    "    \n",
    "    train=pd.concat([tfidf_train_x1,tfidf_train_x2,tfidf_train_x3,tfidf_train_x4],axis=1)\n",
    "    test=pd.concat([tfidf_test_x1,tfidf_test_x2,tfidf_test_x3,tfidf_test_x4],axis=1)\n",
    "        \n",
    "    ap.passive_aggressive(train,train_y4,test,test_y4,stop)\n"
   ]
  },
  {
   "cell_type": "code",
   "execution_count": 16,
   "metadata": {},
   "outputs": [
    {
     "name": "stdout",
     "output_type": "stream",
     "text": [
      "Splitting\n",
      "Final size of train/test : 7468 / 1868\n",
      "Splitting\n",
      "Final size of train/test : 7468 / 1868\n",
      "Splitting\n",
      "Final size of train/test : 7468 / 1868\n",
      "Splitting\n",
      "Final size of train/test : 7468 / 1868\n",
      "train accuracy: 0.9989287627209427\n",
      "train confusion matrix\n",
      "[[5481    6]\n",
      " [   2 1979]]\n",
      "test accuracy: 0.7376873661670236\n",
      "test confusion matrix\n",
      "[[1193  222]\n",
      " [ 268  185]]\n"
     ]
    }
   ],
   "source": [
    "mult_tfidf(data.text,data.headline,data.keywords,data.source,data.ratingName)"
   ]
  },
  {
   "cell_type": "code",
   "execution_count": 17,
   "metadata": {},
   "outputs": [
    {
     "name": "stdout",
     "output_type": "stream",
     "text": [
      "Splitting\n",
      "Final size of train/test : 7468 / 1868\n",
      "Splitting\n",
      "Final size of train/test : 7468 / 1868\n",
      "Splitting\n",
      "Final size of train/test : 7468 / 1868\n",
      "Splitting\n",
      "Final size of train/test : 7468 / 1868\n",
      "Early Stopping is being used\n",
      "train accuracy: 0.9732190680235672\n",
      "train confusion matrix\n",
      "[[5398   89]\n",
      " [ 111 1870]]\n",
      "test accuracy: 0.7355460385438972\n",
      "test confusion matrix\n",
      "[[1172  243]\n",
      " [ 251  202]]\n"
     ]
    }
   ],
   "source": [
    "mult_tfidf(data.text,data.headline,data.keywords,data.source,data.ratingName,stop=True)"
   ]
  }
 ],
 "metadata": {
  "kernelspec": {
   "display_name": "Python 3",
   "language": "python",
   "name": "python3"
  },
  "language_info": {
   "codemirror_mode": {
    "name": "ipython",
    "version": 3
   },
   "file_extension": ".py",
   "mimetype": "text/x-python",
   "name": "python",
   "nbconvert_exporter": "python",
   "pygments_lexer": "ipython3",
   "version": "3.7.4"
  }
 },
 "nbformat": 4,
 "nbformat_minor": 2
}
