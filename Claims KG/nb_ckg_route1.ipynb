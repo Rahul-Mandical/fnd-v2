{
 "cells": [
  {
   "cell_type": "code",
   "execution_count": 1,
   "metadata": {
    "scrolled": true
   },
   "outputs": [
    {
     "name": "stdout",
     "output_type": "stream",
     "text": [
      "importing Jupyter notebook from auto_naive.ipynb\n",
      "importing Jupyter notebook from auto_pac.ipynb\n"
     ]
    }
   ],
   "source": [
    "import numpy as np\n",
    "import import_ipynb\n",
    "import auto_naive as an\n",
    "import auto_pac as ap\n",
    "import pandas as pd\n",
    "import dtale as d"
   ]
  },
  {
   "cell_type": "code",
   "execution_count": 2,
   "metadata": {},
   "outputs": [
    {
     "data": {
      "text/plain": [
       "Index(['text', 'ratingName', 'headline', 'keywords', 'source'], dtype='object')"
      ]
     },
     "execution_count": 2,
     "metadata": {},
     "output_type": "execute_result"
    }
   ],
   "source": [
    "data=pd.read_csv('ckg.csv')\n",
    "data1=d.show(data)\n",
    "data.columns"
   ]
  },
  {
   "cell_type": "code",
   "execution_count": 3,
   "metadata": {},
   "outputs": [],
   "source": [
    "data.dropna(inplace=True)"
   ]
  },
  {
   "cell_type": "code",
   "execution_count": 11,
   "metadata": {},
   "outputs": [
    {
     "name": "stdout",
     "output_type": "stream",
     "text": [
      "Splitting\n",
      "Final size of train/test : 7468 / 1868\n",
      "train_x : (7468,)\n",
      "train_y : (7468,)\n",
      "test_x : (1868,)\n",
      "test_y : (1868,)\n",
      "Vectorizing\n",
      "test_x : (1868,)\n",
      "train_x : (7468,)\n",
      "tfidf_train_x :  (7468, 13975)\n",
      "tfidf_test_x :  (1868, 13975)\n",
      "model building\n",
      "begin grid\n"
     ]
    },
    {
     "name": "stderr",
     "output_type": "stream",
     "text": [
      "C:\\Users\\3 idiots\\Anaconda3\\lib\\site-packages\\sklearn\\model_selection\\_split.py:1978: FutureWarning:\n",
      "\n",
      "The default value of cv will change from 3 to 5 in version 0.22. Specify it explicitly to silence this warning.\n",
      "\n"
     ]
    },
    {
     "name": "stdout",
     "output_type": "stream",
     "text": [
      "grid score 0.7379485806106052\n",
      "grid alpha 0.47600000000000003\n",
      "Alpha: 0.476 test_Score: 0.76552 train_score: 0.84788\n",
      "training confusion matrix\n",
      "[[5476   11]\n",
      " [1125  856]]\n",
      "testing confusion matrix\n",
      "[[1394   21]\n",
      " [ 417   36]]\n",
      "------------------------------------------\n"
     ]
    }
   ],
   "source": [
    "an.navie_bayes_tfidf_model(data.text,data.ratingName)"
   ]
  },
  {
   "cell_type": "code",
   "execution_count": 12,
   "metadata": {},
   "outputs": [
    {
     "name": "stdout",
     "output_type": "stream",
     "text": [
      "Splitting\n",
      "Final size of train/test : 7468 / 1868\n",
      "train_x : (7468,)\n",
      "train_y : (7468,)\n",
      "test_x : (1868,)\n",
      "test_y : (1868,)\n",
      "Vectorizing\n",
      "test_x : (1868,)\n",
      "train_x : (7468,)\n",
      "tfidf_train_x :  (7468, 11242)\n",
      "tfidf_test_x :  (1868, 11242)\n",
      "model building\n",
      "begin grid\n"
     ]
    },
    {
     "name": "stderr",
     "output_type": "stream",
     "text": [
      "C:\\Users\\3 idiots\\Anaconda3\\lib\\site-packages\\sklearn\\model_selection\\_split.py:1978: FutureWarning:\n",
      "\n",
      "The default value of cv will change from 3 to 5 in version 0.22. Specify it explicitly to silence this warning.\n",
      "\n"
     ]
    },
    {
     "name": "stdout",
     "output_type": "stream",
     "text": [
      "grid score 0.7430369576861274\n",
      "grid alpha 0.552\n",
      "Alpha: 0.552 test_Score: 0.77355 train_score: 0.86476\n",
      "training confusion matrix\n",
      "[[5482    5]\n",
      " [1005  976]]\n",
      "testing confusion matrix\n",
      "[[1392   23]\n",
      " [ 400   53]]\n",
      "------------------------------------------\n"
     ]
    }
   ],
   "source": [
    "an.navie_bayes_tfidf_model(data.headline,data.ratingName)"
   ]
  },
  {
   "cell_type": "code",
   "execution_count": 14,
   "metadata": {},
   "outputs": [
    {
     "name": "stdout",
     "output_type": "stream",
     "text": [
      "Splitting\n",
      "Final size of train/test : 7468 / 1868\n",
      "train_x : (7468,)\n",
      "train_y : (7468,)\n",
      "test_x : (1868,)\n",
      "test_y : (1868,)\n",
      "Vectorizing\n",
      "test_x : (1868,)\n",
      "train_x : (7468,)\n",
      "tfidf_train_x :  (7468, 4)\n",
      "tfidf_test_x :  (1868, 4)\n",
      "model building\n",
      "begin grid\n"
     ]
    },
    {
     "name": "stderr",
     "output_type": "stream",
     "text": [
      "C:\\Users\\3 idiots\\Anaconda3\\lib\\site-packages\\sklearn\\model_selection\\_split.py:1978: FutureWarning:\n",
      "\n",
      "The default value of cv will change from 3 to 5 in version 0.22. Specify it explicitly to silence this warning.\n",
      "\n"
     ]
    },
    {
     "name": "stdout",
     "output_type": "stream",
     "text": [
      "grid score 0.7347348687734333\n",
      "grid alpha 0.001\n",
      "Alpha: 0.001 test_Score: 0.75428 train_score: 0.73514\n",
      "training confusion matrix\n",
      "[[5470   17]\n",
      " [1961   20]]\n",
      "testing confusion matrix\n",
      "[[1406    9]\n",
      " [ 450    3]]\n",
      "------------------------------------------\n"
     ]
    }
   ],
   "source": [
    "an.navie_bayes_tfidf_model(data.source,data.ratingName)"
   ]
  },
  {
   "cell_type": "code",
   "execution_count": 4,
   "metadata": {},
   "outputs": [
    {
     "name": "stdout",
     "output_type": "stream",
     "text": [
      "Splitting\n",
      "Final size of train/test : 7468 / 1868\n",
      "train_x : (7468,)\n",
      "train_y : (7468,)\n",
      "test_x : (1868,)\n",
      "test_y : (1868,)\n",
      "Vectorizing\n",
      "test_x : (1868,)\n",
      "train_x : (7468,)\n",
      "tfidf_train_x :  (7468, 3910)\n",
      "tfidf_test_x :  (1868, 3910)\n",
      "model building\n",
      "begin grid\n"
     ]
    },
    {
     "name": "stderr",
     "output_type": "stream",
     "text": [
      "C:\\Users\\3 idiots\\Anaconda3\\lib\\site-packages\\sklearn\\model_selection\\_split.py:1978: FutureWarning:\n",
      "\n",
      "The default value of cv will change from 3 to 5 in version 0.22. Specify it explicitly to silence this warning.\n",
      "\n"
     ]
    },
    {
     "name": "stdout",
     "output_type": "stream",
     "text": [
      "grid score 0.7333958221746116\n",
      "grid alpha 0.988\n",
      "Alpha: 0.988 test_Score: 0.74946 train_score: 0.76701\n",
      "training confusion matrix\n",
      "[[5445   42]\n",
      " [1698  283]]\n",
      "testing confusion matrix\n",
      "[[1380   35]\n",
      " [ 433   20]]\n",
      "------------------------------------------\n",
      "Exception occurred while processing request: '2'\n",
      "Traceback (most recent call last):\n",
      "  File \"C:\\Users\\3 idiots\\Anaconda3\\lib\\site-packages\\dtale\\views.py\", line 935, in get_data\n",
      "    data = DATA[data_id]\n",
      "KeyError: '2'\n"
     ]
    },
    {
     "name": "stderr",
     "output_type": "stream",
     "text": [
      "2020-02-26 20:08:22,794 - ERROR    - Exception occurred while processing request: '2'\n",
      "Traceback (most recent call last):\n",
      "  File \"C:\\Users\\3 idiots\\Anaconda3\\lib\\site-packages\\dtale\\views.py\", line 935, in get_data\n",
      "    data = DATA[data_id]\n",
      "KeyError: '2'\n"
     ]
    }
   ],
   "source": [
    "an.navie_bayes_tfidf_model(data.keywords,data.ratingName)"
   ]
  },
  {
   "cell_type": "code",
   "execution_count": 5,
   "metadata": {},
   "outputs": [],
   "source": [
    "def mult_tfidf(x1,x2,x3,x4,y):\n",
    "    from sklearn.feature_extraction.text import TfidfVectorizer\n",
    "    train_x1,train_y1,test_x1,test_y1=an.split_data(x1,y)\n",
    "    train_x2,train_y2,test_x2,test_y2=an.split_data(x2,y)\n",
    "    train_x3,train_y3,test_x3,test_y3=an.split_data(x3,y)\n",
    "    train_x4,train_y4,test_x4,test_y4=an.split_data(x4,y)\n",
    "    \n",
    "    tfidf_vectorizer = TfidfVectorizer(stop_words='english',max_df=0.7)   # a TFIDF vectorize\n",
    "    \n",
    "    tfidf_train_x1 = pd.DataFrame(tfidf_vectorizer.fit_transform(train_x1).todense())  #fitting the training data\n",
    "    tfidf_test_x1 = pd.DataFrame(tfidf_vectorizer.transform(test_x1).todense())\n",
    "\n",
    "    tfidf_train_x2 = pd.DataFrame(tfidf_vectorizer.fit_transform(train_x2).todense())  #fitting the training data\n",
    "    tfidf_test_x2 = pd.DataFrame(tfidf_vectorizer.transform(test_x2).todense()) \n",
    "        \n",
    "    tfidf_train_x3 = pd.DataFrame(tfidf_vectorizer.fit_transform(train_x3).todense())  #fitting the training data\n",
    "    tfidf_test_x3 = pd.DataFrame(tfidf_vectorizer.transform(test_x3).todense())\n",
    "        \n",
    "    tfidf_train_x4 = pd.DataFrame(tfidf_vectorizer.fit_transform(train_x4).todense())  #fitting the training data\n",
    "    tfidf_test_x4 = pd.DataFrame(tfidf_vectorizer.transform(test_x4).todense())\n",
    "\n",
    "    \n",
    "    train=pd.concat([tfidf_train_x1,tfidf_train_x2,tfidf_train_x3,tfidf_train_x4],axis=1)\n",
    "    test=pd.concat([tfidf_test_x1,tfidf_test_x2,tfidf_test_x3,tfidf_test_x4],axis=1)\n",
    "        \n",
    "    an.navie_bayes(train,train_y4,test,test_y4)\n"
   ]
  },
  {
   "cell_type": "code",
   "execution_count": 6,
   "metadata": {},
   "outputs": [
    {
     "data": {
      "text/plain": [
       "Index(['text', 'ratingName', 'headline', 'keywords', 'source'], dtype='object')"
      ]
     },
     "execution_count": 6,
     "metadata": {},
     "output_type": "execute_result"
    }
   ],
   "source": [
    "data.columns"
   ]
  },
  {
   "cell_type": "code",
   "execution_count": 7,
   "metadata": {},
   "outputs": [
    {
     "name": "stdout",
     "output_type": "stream",
     "text": [
      "Splitting\n",
      "Final size of train/test : 7468 / 1868\n",
      "Splitting\n",
      "Final size of train/test : 7468 / 1868\n",
      "Splitting\n",
      "Final size of train/test : 7468 / 1868\n",
      "Splitting\n",
      "Final size of train/test : 7468 / 1868\n",
      "model building\n",
      "begin grid\n"
     ]
    },
    {
     "name": "stderr",
     "output_type": "stream",
     "text": [
      "C:\\Users\\3 idiots\\Anaconda3\\lib\\site-packages\\sklearn\\model_selection\\_split.py:1978: FutureWarning:\n",
      "\n",
      "The default value of cv will change from 3 to 5 in version 0.22. Specify it explicitly to silence this warning.\n",
      "\n"
     ]
    },
    {
     "name": "stdout",
     "output_type": "stream",
     "text": [
      "Executing shutdown due to inactivity...\n"
     ]
    },
    {
     "name": "stderr",
     "output_type": "stream",
     "text": [
      "2020-02-26 14:51:45,908 - INFO     - Executing shutdown due to inactivity...\n"
     ]
    },
    {
     "name": "stdout",
     "output_type": "stream",
     "text": [
      "Executing shutdown...\n"
     ]
    },
    {
     "name": "stderr",
     "output_type": "stream",
     "text": [
      "2020-02-26 14:51:48,366 - INFO     - Executing shutdown...\n"
     ]
    },
    {
     "name": "stdout",
     "output_type": "stream",
     "text": [
      "grid score 0.7521424745581147\n",
      "grid alpha 0.6900000000000001\n",
      "Alpha: 0.690 test_Score: 0.77248 train_score: 0.89448\n",
      "training confusion matrix\n",
      "[[5404   83]\n",
      " [ 705 1276]]\n",
      "testing confusion matrix\n",
      "[[1352   63]\n",
      " [ 362   91]]\n",
      "------------------------------------------\n"
     ]
    }
   ],
   "source": [
    "mult_tfidf(data.text,data.headline,data.keywords,data.source,data.ratingName)"
   ]
  },
  {
   "cell_type": "code",
   "execution_count": null,
   "metadata": {},
   "outputs": [],
   "source": []
  }
 ],
 "metadata": {
  "kernelspec": {
   "display_name": "Python 3",
   "language": "python",
   "name": "python3"
  },
  "language_info": {
   "codemirror_mode": {
    "name": "ipython",
    "version": 3
   },
   "file_extension": ".py",
   "mimetype": "text/x-python",
   "name": "python",
   "nbconvert_exporter": "python",
   "pygments_lexer": "ipython3",
   "version": "3.7.4"
  }
 },
 "nbformat": 4,
 "nbformat_minor": 2
}
