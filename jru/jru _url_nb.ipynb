{
  "nbformat": 4,
  "nbformat_minor": 0,
  "metadata": {
    "colab": {
      "name": "urldataset_naive.ipynb",
      "provenance": [],
      "collapsed_sections": []
    },
    "kernelspec": {
      "name": "python3",
      "display_name": "Python 3"
    }
  },
  "cells": [
    {
      "cell_type": "code",
      "metadata": {
        "id": "IHjiEww-738r",
        "colab_type": "code",
        "outputId": "5b51ebfd-a038-4d06-c231-db0e3e9816cc",
        "colab": {
          "resources": {
            "http://localhost:8080/nbextensions/google.colab/files.js": {
              "data": "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",
              "ok": true,
              "headers": [
                [
                  "content-type",
                  "application/javascript"
                ]
              ],
              "status": 200,
              "status_text": ""
            }
          },
          "base_uri": "https://localhost:8080/",
          "height": 74
        }
      },
      "source": [
        "from google.colab import files \n",
        "uploaded = files.upload() "
      ],
      "execution_count": 1,
      "outputs": [
        {
          "output_type": "display_data",
          "data": {
            "text/html": [
              "\n",
              "     <input type=\"file\" id=\"files-14e75cfa-6d31-4e10-b690-8bbe1ed6cc66\" name=\"files[]\" multiple disabled />\n",
              "     <output id=\"result-14e75cfa-6d31-4e10-b690-8bbe1ed6cc66\">\n",
              "      Upload widget is only available when the cell has been executed in the\n",
              "      current browser session. Please rerun this cell to enable.\n",
              "      </output>\n",
              "      <script src=\"/nbextensions/google.colab/files.js\"></script> "
            ],
            "text/plain": [
              "<IPython.core.display.HTML object>"
            ]
          },
          "metadata": {
            "tags": []
          }
        },
        {
          "output_type": "stream",
          "text": [
            "Saving data.csv to data.csv\n"
          ],
          "name": "stdout"
        }
      ]
    },
    {
      "cell_type": "code",
      "metadata": {
        "id": "ekj10Rxx89pT",
        "colab_type": "code",
        "outputId": "cd8f6af1-0b6f-4013-cd36-a474c1caa0e7",
        "colab": {
          "base_uri": "https://localhost:8080/",
          "height": 170
        }
      },
      "source": [
        "import io \n",
        "import pandas as pd\n",
        "data = pd.read_csv(io.BytesIO(uploaded['data.csv'])) \n",
        "print(type(data))\n",
        "print(data.head())"
      ],
      "execution_count": 2,
      "outputs": [
        {
          "output_type": "stream",
          "text": [
            "<class 'pandas.core.frame.DataFrame'>\n",
            "                                                URLs  ... Label\n",
            "0  http://www.bbc.com/news/world-us-canada-414191...  ...     1\n",
            "1  https://www.reuters.com/article/us-filmfestiva...  ...     1\n",
            "2  https://www.nytimes.com/2017/10/09/us/politics...  ...     1\n",
            "3  https://www.reuters.com/article/us-mexico-oil-...  ...     1\n",
            "4  http://www.cnn.com/videos/cnnmoney/2017/10/08/...  ...     1\n",
            "\n",
            "[5 rows x 4 columns]\n"
          ],
          "name": "stdout"
        }
      ]
    },
    {
      "cell_type": "code",
      "metadata": {
        "id": "uZlnglTT9ENO",
        "colab_type": "code",
        "outputId": "666f1d41-5587-4d53-b7d6-c8200d0ff49b",
        "colab": {
          "base_uri": "https://localhost:8080/",
          "height": 391
        }
      },
      "source": [
        "url_data=data.dropna()\n",
        "url_data.head()"
      ],
      "execution_count": 3,
      "outputs": [
        {
          "output_type": "execute_result",
          "data": {
            "text/html": [
              "<div>\n",
              "<style scoped>\n",
              "    .dataframe tbody tr th:only-of-type {\n",
              "        vertical-align: middle;\n",
              "    }\n",
              "\n",
              "    .dataframe tbody tr th {\n",
              "        vertical-align: top;\n",
              "    }\n",
              "\n",
              "    .dataframe thead th {\n",
              "        text-align: right;\n",
              "    }\n",
              "</style>\n",
              "<table border=\"1\" class=\"dataframe\">\n",
              "  <thead>\n",
              "    <tr style=\"text-align: right;\">\n",
              "      <th></th>\n",
              "      <th>URLs</th>\n",
              "      <th>Headline</th>\n",
              "      <th>Body</th>\n",
              "      <th>Label</th>\n",
              "    </tr>\n",
              "  </thead>\n",
              "  <tbody>\n",
              "    <tr>\n",
              "      <th>0</th>\n",
              "      <td>http://www.bbc.com/news/world-us-canada-414191...</td>\n",
              "      <td>Four ways Bob Corker skewered Donald Trump</td>\n",
              "      <td>Image copyright Getty Images\\nOn Sunday mornin...</td>\n",
              "      <td>1</td>\n",
              "    </tr>\n",
              "    <tr>\n",
              "      <th>1</th>\n",
              "      <td>https://www.reuters.com/article/us-filmfestiva...</td>\n",
              "      <td>Linklater's war veteran comedy speaks to moder...</td>\n",
              "      <td>LONDON (Reuters) - “Last Flag Flying”, a comed...</td>\n",
              "      <td>1</td>\n",
              "    </tr>\n",
              "    <tr>\n",
              "      <th>2</th>\n",
              "      <td>https://www.nytimes.com/2017/10/09/us/politics...</td>\n",
              "      <td>Trump’s Fight With Corker Jeopardizes His Legi...</td>\n",
              "      <td>The feud broke into public view last week when...</td>\n",
              "      <td>1</td>\n",
              "    </tr>\n",
              "    <tr>\n",
              "      <th>3</th>\n",
              "      <td>https://www.reuters.com/article/us-mexico-oil-...</td>\n",
              "      <td>Egypt's Cheiron wins tie-up with Pemex for Mex...</td>\n",
              "      <td>MEXICO CITY (Reuters) - Egypt’s Cheiron Holdin...</td>\n",
              "      <td>1</td>\n",
              "    </tr>\n",
              "    <tr>\n",
              "      <th>4</th>\n",
              "      <td>http://www.cnn.com/videos/cnnmoney/2017/10/08/...</td>\n",
              "      <td>Jason Aldean opens 'SNL' with Vegas tribute</td>\n",
              "      <td>Country singer Jason Aldean, who was performin...</td>\n",
              "      <td>1</td>\n",
              "    </tr>\n",
              "  </tbody>\n",
              "</table>\n",
              "</div>"
            ],
            "text/plain": [
              "                                                URLs  ... Label\n",
              "0  http://www.bbc.com/news/world-us-canada-414191...  ...     1\n",
              "1  https://www.reuters.com/article/us-filmfestiva...  ...     1\n",
              "2  https://www.nytimes.com/2017/10/09/us/politics...  ...     1\n",
              "3  https://www.reuters.com/article/us-mexico-oil-...  ...     1\n",
              "4  http://www.cnn.com/videos/cnnmoney/2017/10/08/...  ...     1\n",
              "\n",
              "[5 rows x 4 columns]"
            ]
          },
          "metadata": {
            "tags": []
          },
          "execution_count": 3
        }
      ]
    },
    {
      "cell_type": "code",
      "metadata": {
        "id": "zIrkKH_79XK6",
        "colab_type": "code",
        "outputId": "fb8ca09c-50a7-4f8f-f46f-5b4b89c936ff",
        "colab": {
          "base_uri": "https://localhost:8080/",
          "height": 34
        }
      },
      "source": [
        "url_data.shape"
      ],
      "execution_count": 4,
      "outputs": [
        {
          "output_type": "execute_result",
          "data": {
            "text/plain": [
              "(3988, 4)"
            ]
          },
          "metadata": {
            "tags": []
          },
          "execution_count": 4
        }
      ]
    },
    {
      "cell_type": "code",
      "metadata": {
        "id": "J8wyiyZe-Buh",
        "colab_type": "code",
        "outputId": "9ffaad14-3002-4a7b-d9ac-ecfbcb5463f6",
        "colab": {
          "base_uri": "https://localhost:8080/",
          "height": 374
        }
      },
      "source": [
        "data_x=url_data.iloc[:,:-1]\n",
        "data_x.head()"
      ],
      "execution_count": 5,
      "outputs": [
        {
          "output_type": "execute_result",
          "data": {
            "text/html": [
              "<div>\n",
              "<style scoped>\n",
              "    .dataframe tbody tr th:only-of-type {\n",
              "        vertical-align: middle;\n",
              "    }\n",
              "\n",
              "    .dataframe tbody tr th {\n",
              "        vertical-align: top;\n",
              "    }\n",
              "\n",
              "    .dataframe thead th {\n",
              "        text-align: right;\n",
              "    }\n",
              "</style>\n",
              "<table border=\"1\" class=\"dataframe\">\n",
              "  <thead>\n",
              "    <tr style=\"text-align: right;\">\n",
              "      <th></th>\n",
              "      <th>URLs</th>\n",
              "      <th>Headline</th>\n",
              "      <th>Body</th>\n",
              "    </tr>\n",
              "  </thead>\n",
              "  <tbody>\n",
              "    <tr>\n",
              "      <th>0</th>\n",
              "      <td>http://www.bbc.com/news/world-us-canada-414191...</td>\n",
              "      <td>Four ways Bob Corker skewered Donald Trump</td>\n",
              "      <td>Image copyright Getty Images\\nOn Sunday mornin...</td>\n",
              "    </tr>\n",
              "    <tr>\n",
              "      <th>1</th>\n",
              "      <td>https://www.reuters.com/article/us-filmfestiva...</td>\n",
              "      <td>Linklater's war veteran comedy speaks to moder...</td>\n",
              "      <td>LONDON (Reuters) - “Last Flag Flying”, a comed...</td>\n",
              "    </tr>\n",
              "    <tr>\n",
              "      <th>2</th>\n",
              "      <td>https://www.nytimes.com/2017/10/09/us/politics...</td>\n",
              "      <td>Trump’s Fight With Corker Jeopardizes His Legi...</td>\n",
              "      <td>The feud broke into public view last week when...</td>\n",
              "    </tr>\n",
              "    <tr>\n",
              "      <th>3</th>\n",
              "      <td>https://www.reuters.com/article/us-mexico-oil-...</td>\n",
              "      <td>Egypt's Cheiron wins tie-up with Pemex for Mex...</td>\n",
              "      <td>MEXICO CITY (Reuters) - Egypt’s Cheiron Holdin...</td>\n",
              "    </tr>\n",
              "    <tr>\n",
              "      <th>4</th>\n",
              "      <td>http://www.cnn.com/videos/cnnmoney/2017/10/08/...</td>\n",
              "      <td>Jason Aldean opens 'SNL' with Vegas tribute</td>\n",
              "      <td>Country singer Jason Aldean, who was performin...</td>\n",
              "    </tr>\n",
              "  </tbody>\n",
              "</table>\n",
              "</div>"
            ],
            "text/plain": [
              "                                                URLs  ...                                               Body\n",
              "0  http://www.bbc.com/news/world-us-canada-414191...  ...  Image copyright Getty Images\\nOn Sunday mornin...\n",
              "1  https://www.reuters.com/article/us-filmfestiva...  ...  LONDON (Reuters) - “Last Flag Flying”, a comed...\n",
              "2  https://www.nytimes.com/2017/10/09/us/politics...  ...  The feud broke into public view last week when...\n",
              "3  https://www.reuters.com/article/us-mexico-oil-...  ...  MEXICO CITY (Reuters) - Egypt’s Cheiron Holdin...\n",
              "4  http://www.cnn.com/videos/cnnmoney/2017/10/08/...  ...  Country singer Jason Aldean, who was performin...\n",
              "\n",
              "[5 rows x 3 columns]"
            ]
          },
          "metadata": {
            "tags": []
          },
          "execution_count": 5
        }
      ]
    },
    {
      "cell_type": "code",
      "metadata": {
        "id": "BoPSNU3E-L-g",
        "colab_type": "code",
        "outputId": "693df5e9-ff15-46e6-e3b8-ba8aec34e558",
        "colab": {
          "base_uri": "https://localhost:8080/",
          "height": 204
        }
      },
      "source": [
        "data_y=url_data.iloc[:,3:]\n",
        "data_y.head()"
      ],
      "execution_count": 6,
      "outputs": [
        {
          "output_type": "execute_result",
          "data": {
            "text/html": [
              "<div>\n",
              "<style scoped>\n",
              "    .dataframe tbody tr th:only-of-type {\n",
              "        vertical-align: middle;\n",
              "    }\n",
              "\n",
              "    .dataframe tbody tr th {\n",
              "        vertical-align: top;\n",
              "    }\n",
              "\n",
              "    .dataframe thead th {\n",
              "        text-align: right;\n",
              "    }\n",
              "</style>\n",
              "<table border=\"1\" class=\"dataframe\">\n",
              "  <thead>\n",
              "    <tr style=\"text-align: right;\">\n",
              "      <th></th>\n",
              "      <th>Label</th>\n",
              "    </tr>\n",
              "  </thead>\n",
              "  <tbody>\n",
              "    <tr>\n",
              "      <th>0</th>\n",
              "      <td>1</td>\n",
              "    </tr>\n",
              "    <tr>\n",
              "      <th>1</th>\n",
              "      <td>1</td>\n",
              "    </tr>\n",
              "    <tr>\n",
              "      <th>2</th>\n",
              "      <td>1</td>\n",
              "    </tr>\n",
              "    <tr>\n",
              "      <th>3</th>\n",
              "      <td>1</td>\n",
              "    </tr>\n",
              "    <tr>\n",
              "      <th>4</th>\n",
              "      <td>1</td>\n",
              "    </tr>\n",
              "  </tbody>\n",
              "</table>\n",
              "</div>"
            ],
            "text/plain": [
              "   Label\n",
              "0      1\n",
              "1      1\n",
              "2      1\n",
              "3      1\n",
              "4      1"
            ]
          },
          "metadata": {
            "tags": []
          },
          "execution_count": 6
        }
      ]
    },
    {
      "cell_type": "code",
      "metadata": {
        "id": "A_sxMrUI-OhK",
        "colab_type": "code",
        "outputId": "ccfccf6e-8493-4284-8378-05bd4cade705",
        "colab": {
          "base_uri": "https://localhost:8080/",
          "height": 51
        }
      },
      "source": [
        "print(data_x.shape)\n",
        "print(data_y.shape)"
      ],
      "execution_count": 7,
      "outputs": [
        {
          "output_type": "stream",
          "text": [
            "(3988, 3)\n",
            "(3988, 1)\n"
          ],
          "name": "stdout"
        }
      ]
    },
    {
      "cell_type": "code",
      "metadata": {
        "id": "OGixo760-Y9s",
        "colab_type": "code",
        "colab": {}
      },
      "source": [
        "import numpy as np\n",
        "from sklearn.model_selection import train_test_split\n",
        "from sklearn.feature_extraction.text import CountVectorizer\n",
        "#from sklearn.feature_extraction.text import TfidfTransformer\n",
        "from sklearn.feature_extraction.text import TfidfVectorizer\n",
        "from sklearn.naive_bayes import MultinomialNB\n",
        "from sklearn import metrics\n",
        "from sklearn.metrics import confusion_matrix\n",
        "from matplotlib import pyplot as plt"
      ],
      "execution_count": 0,
      "outputs": []
    },
    {
      "cell_type": "code",
      "metadata": {
        "id": "cgpeC2M1_Oo9",
        "colab_type": "code",
        "colab": {}
      },
      "source": [
        "def split_data(x,y):\n",
        "    \n",
        "    \"\"\"\n",
        "    Reminder : Clean the set before sending here.\n",
        "    Input  : x=Attributes of the dataset, y=Target Attribute\n",
        "    Output : Split data of train test\n",
        "    \n",
        "    We are removing dev , as dev can be better used for the models that includes DNN, CNN and RNN\n",
        "    \n",
        "    \"\"\"\n",
        "    X=x\n",
        "    Y=y\n",
        "    \n",
        "    train_x,test_x,train_y,test_y = train_test_split(x,y,test_size=0.2,random_state=12)\n",
        "    \n",
        "    #train_x : Training data with attributes\n",
        "    #train_y : Training data with ratings\n",
        "    #test_x  : testing data with attributes\n",
        "    #test_y  : testing data with rating \n",
        "    \n",
        "    print(\"Final size of train/test :\",train_x.size,\"/\",test_x.size)\n",
        "    return train_x,train_y,test_x,test_y"
      ],
      "execution_count": 0,
      "outputs": []
    },
    {
      "cell_type": "code",
      "metadata": {
        "id": "OZp1xhkI_SWZ",
        "colab_type": "code",
        "colab": {}
      },
      "source": [
        "#navie_bayes\n",
        "from sklearn.model_selection import GridSearchCV\n",
        "def navie_bayes(train_x,train_y,test_x,test_y,itera=100):  #itera changed to 100\n",
        "   \n",
        "    print('model building')\n",
        "    NBG = MultinomialNB()\n",
        "    if itera == 100:\n",
        "        alphas=np.arange(0.001,1,0.001)\n",
        "    else:\n",
        "        alphas=np.arange(0.01,1,0.01)\n",
        "    print('begin grid')\n",
        "    grid = GridSearchCV(estimator=NBG, param_grid=dict(alpha=alphas))\n",
        "\n",
        "    grid.fit(train_x, train_y)\n",
        "    \n",
        "    #print(grid)\n",
        "    # summarize the results of the grid search\n",
        "    print(\"grid score\",grid.best_score_)\n",
        "    print(\"grid alpha\",grid.best_estimator_.alpha)\n",
        "    alpha=grid.best_estimator_.alpha\n",
        "    \n",
        "    NB = MultinomialNB(alpha = alpha )\n",
        "    NB.fit(train_x,train_y)  \n",
        "    predict_NB_train = NB.predict(train_x) \n",
        "    predict_NB_test = NB.predict(test_x) \n",
        "    score_train = metrics.accuracy_score(train_y, predict_NB_train) \n",
        "    score_test = metrics.accuracy_score(test_y, predict_NB_test)\n",
        "      \n",
        "    print(\"Alpha: {:.3f} test_Score: {:.5f} train_score: {:.5f}\".format(alpha,score_test,score_train))# checking tha accuracy \n",
        "       \n",
        "    #print(\"best accuracy with Alpha: {:.2f} Score: {:.5f}\".format(alpha_value, best_score))\n",
        "    cm_train= metrics.confusion_matrix(train_y, predict_NB_train)\n",
        "    print(\"training confusion matrix\")\n",
        "    print(cm_train)\n",
        "    cm_test = metrics.confusion_matrix(test_y, predict_NB_test)\n",
        "    print(\"testing confusion matrix\")\n",
        "    print(cm_test)\n",
        "    \n",
        "    print(\"------------------------------------------\")\n"
      ],
      "execution_count": 0,
      "outputs": []
    },
    {
      "cell_type": "code",
      "metadata": {
        "id": "FPK7CSUp_xuv",
        "colab_type": "code",
        "outputId": "00bbfea0-7a8e-40b4-ae10-2c9392d35333",
        "colab": {
          "base_uri": "https://localhost:8080/",
          "height": 34
        }
      },
      "source": [
        "import numpy as np\n",
        "a=np.array([])\n",
        "a.size"
      ],
      "execution_count": 11,
      "outputs": [
        {
          "output_type": "execute_result",
          "data": {
            "text/plain": [
              "0"
            ]
          },
          "metadata": {
            "tags": []
          },
          "execution_count": 11
        }
      ]
    },
    {
      "cell_type": "code",
      "metadata": {
        "id": "VliFg_m4_67I",
        "colab_type": "code",
        "colab": {}
      },
      "source": [
        "#mult_tfidf start \n",
        "def mult_tfidf(x1,y):\n",
        "    from sklearn.feature_extraction.text import TfidfVectorizer\n",
        "\n",
        "    #if x3.size==0:\n",
        "    train_x1,train_y1,test_x1,test_y1=split_data(x1,y)\n",
        "        #train_x2,train_y2,test_x2,test_y2=split_data(x2,y)\n",
        "\n",
        "\n",
        "\n",
        "    tfidf_vectorizer = TfidfVectorizer(stop_words='english',max_df=0.7,min_df=0.02)   # a TFIDF vectorizer\n",
        "    tfidf_train_x1 = pd.DataFrame(tfidf_vectorizer.fit_transform(train_x1).todense())  #fitting the training data\n",
        "    tfidf_test_x1 = pd.DataFrame(tfidf_vectorizer.transform(test_x1).todense())\n",
        "\n",
        "        #tfidf_train_x2 = pd.DataFrame(tfidf_vectorizer.fit_transform(train_x2).todense())  #fitting the training data\n",
        "        #tfidf_test_x2 = pd.DataFrame(tfidf_vectorizer.transform(test_x2).todense()) \n",
        "\n",
        "        #train=pd.concat([tfidf_train_x1,tfidf_train_x2],axis=1)\n",
        "        #test=pd.concat([tfidf_test_x1,tfidf_test_x2],axis=1)\n",
        "    print(tfidf_train_x1.shape)\n",
        "    print(tfidf_test_x1.shape)\n",
        "       # print(train_y2.shape)\n",
        "        #print(test_y2.shape)\n",
        "\n",
        "    navie_bayes(tfidf_train_x1,train_y1,tfidf_test_x1,test_y1)\n",
        "    \n",
        "    '''else:\n",
        "        train_x1,train_y1,test_x1,test_y1=an.split_data(x1,y)\n",
        "        train_x2,train_y2,test_x2,test_y2=an.split_data(x2,y)\n",
        "        train_x3,train_y3,test_x3,test_y3=an.split_data(x3,y)\n",
        "        \n",
        "        tfidf_vectorizer = TfidfVectorizer(stop_words='english',max_df=0.7,min_df=0.02)   # a TFIDF vectorizer\n",
        "        tfidf_train_x1 = pd.DataFrame(tfidf_vectorizer.fit_transform(train_x1).todense())  #fitting the training data\n",
        "        tfidf_test_x1 = pd.DataFrame(tfidf_vectorizer.transform(test_x1).todense())\n",
        "\n",
        "        tfidf_train_x2 = pd.DataFrame(tfidf_vectorizer.fit_transform(train_x2).todense())  #fitting the training data\n",
        "        tfidf_test_x2 = pd.DataFrame(tfidf_vectorizer.transform(test_x2).todense()) \n",
        "        \n",
        "        tfidf_train_x3 = pd.DataFrame(tfidf_vectorizer.fit_transform(train_x3).todense())  #fitting the training data\n",
        "        tfidf_test_x3 = pd.DataFrame(tfidf_vectorizer.transform(test_x3).todense())\n",
        "        \n",
        "        train=pd.concat([tfidf_train_x1,tfidf_train_x2,tfidf_train_x3],axis=1)\n",
        "        test=pd.concat([tfidf_test_x1,tfidf_test_x2,tfidf_test_x3],axis=1)\n",
        "        \n",
        "        navie_bayes(train,train_y2,test,test_y2)'''"
      ],
      "execution_count": 0,
      "outputs": []
    },
    {
      "cell_type": "code",
      "metadata": {
        "id": "E_62dt13jDpT",
        "colab_type": "code",
        "colab": {
          "base_uri": "https://localhost:8080/",
          "height": 272
        },
        "outputId": "4240001f-8fc8-4a97-9168-9551f7d078d9"
      },
      "source": [
        "mult_tfidf(x1=data_x.URLs,y=data_y.Label)  #single attr URL"
      ],
      "execution_count": 14,
      "outputs": [
        {
          "output_type": "stream",
          "text": [
            "Final size of train/test : 3190 / 798\n",
            "(3190, 46)\n",
            "(798, 46)\n",
            "model building\n",
            "begin grid\n",
            "grid score 0.9852664576802507\n",
            "grid alpha 0.001\n",
            "Alpha: 0.001 test_Score: 0.98371 train_score: 0.98527\n",
            "training confusion matrix\n",
            "[[1687    1]\n",
            " [  46 1456]]\n",
            "testing confusion matrix\n",
            "[[431   1]\n",
            " [ 12 354]]\n",
            "------------------------------------------\n"
          ],
          "name": "stdout"
        }
      ]
    },
    {
      "cell_type": "code",
      "metadata": {
        "id": "Kbpew0Zqj729",
        "colab_type": "code",
        "colab": {
          "base_uri": "https://localhost:8080/",
          "height": 272
        },
        "outputId": "25dc835c-2d7c-4cd2-ad3a-574e7c76c6be"
      },
      "source": [
        "mult_tfidf(x1=data_x.Headline,y=data_y.Label) #single attr headline"
      ],
      "execution_count": 15,
      "outputs": [
        {
          "output_type": "stream",
          "text": [
            "Final size of train/test : 3190 / 798\n",
            "(3190, 14)\n",
            "(798, 14)\n",
            "model building\n",
            "begin grid\n",
            "grid score 0.5501567398119123\n",
            "grid alpha 0.001\n",
            "Alpha: 0.001 test_Score: 0.55388 train_score: 0.55298\n",
            "training confusion matrix\n",
            "[[1431  257]\n",
            " [1169  333]]\n",
            "testing confusion matrix\n",
            "[[367  65]\n",
            " [291  75]]\n",
            "------------------------------------------\n"
          ],
          "name": "stdout"
        }
      ]
    },
    {
      "cell_type": "code",
      "metadata": {
        "id": "Pu-EAeNAkarm",
        "colab_type": "code",
        "colab": {
          "base_uri": "https://localhost:8080/",
          "height": 272
        },
        "outputId": "5eee2fe3-c68d-44f7-c1c2-50291063b548"
      },
      "source": [
        "mult_tfidf(x1=data_x.Body,y=data_y.Label)"
      ],
      "execution_count": 16,
      "outputs": [
        {
          "output_type": "stream",
          "text": [
            "Final size of train/test : 3190 / 798\n",
            "(3190, 1945)\n",
            "(798, 1945)\n",
            "model building\n",
            "begin grid\n",
            "grid score 0.925078369905956\n",
            "grid alpha 0.936\n",
            "Alpha: 0.936 test_Score: 0.88972 train_score: 0.93260\n",
            "training confusion matrix\n",
            "[[1509  179]\n",
            " [  36 1466]]\n",
            "testing confusion matrix\n",
            "[[361  71]\n",
            " [ 17 349]]\n",
            "------------------------------------------\n"
          ],
          "name": "stdout"
        }
      ]
    },
    {
      "cell_type": "code",
      "metadata": {
        "id": "KQRZFaSjmIC4",
        "colab_type": "code",
        "colab": {}
      },
      "source": [
        "mult_tfidf(x1=data_x.URLs,x2=data_x.Headline,y=data_y.Label,x3=data_x.Body)\n",
        "\n",
        "\"\"\"\n",
        "Final size of train/test : 3190 / 798\n",
        "Final size of train/test : 3190 / 798\n",
        "Final size of train/test : 3190 / 798\n",
        "model building\n",
        "begin grid\n",
        "grid score 0.9771159874608151\n",
        "grid alpha 0.668\n",
        "Alpha: 0.668 test_Score: 0.96867 train_score: 0.99530\n",
        "training confusion matrix\n",
        "[[1680    8]\n",
        " [   7 1495]]\n",
        "testing confusion matrix\n",
        "[[411  21]\n",
        " [  4 362]]\n",
        "--------------------\n",
        "\n",
        "\"\"\""
      ],
      "execution_count": 0,
      "outputs": []
    },
    {
      "cell_type": "code",
      "metadata": {
        "id": "_THj1VFHAj8W",
        "colab_type": "code",
        "outputId": "a6edfe1b-5ac3-4f6f-8b43-74250b3b8ccb",
        "colab": {
          "base_uri": "https://localhost:8080/",
          "height": 323
        }
      },
      "source": [
        "mult_tfidf(x1=data_x.URLs,x2=data_x.Headline,y=data_y.Label,x3=a)"
      ],
      "execution_count": 0,
      "outputs": [
        {
          "output_type": "stream",
          "text": [
            "Final size of train/test : 3190 / 798\n",
            "Final size of train/test : 3190 / 798\n",
            "(3190, 60)\n",
            "(798, 60)\n",
            "(3190,)\n",
            "(798,)\n",
            "model building\n",
            "begin grid\n",
            "grid score 0.9846394984326018\n",
            "grid alpha 0.001\n",
            "Alpha: 0.001 test_Score: 0.98246 train_score: 0.98527\n",
            "training confusion matrix\n",
            "[[1682    6]\n",
            " [  41 1461]]\n",
            "testing confusion matrix\n",
            "[[429   3]\n",
            " [ 11 355]]\n",
            "------------------------------------------\n"
          ],
          "name": "stdout"
        }
      ]
    },
    {
      "cell_type": "code",
      "metadata": {
        "id": "TPlmNI4PE_BX",
        "colab_type": "code",
        "outputId": "3e7aafd6-6aac-4d74-eaca-a74aacb8a706",
        "colab": {
          "base_uri": "https://localhost:8080/",
          "height": 323
        }
      },
      "source": [
        "mult_tfidf(x1=data_x.URLs,x2=data_x.Body,y=data_y.Label,x3=a)"
      ],
      "execution_count": 0,
      "outputs": [
        {
          "output_type": "stream",
          "text": [
            "Final size of train/test : 3190 / 798\n",
            "Final size of train/test : 3190 / 798\n",
            "(3190, 1991)\n",
            "(798, 1991)\n",
            "(3190,)\n",
            "(798,)\n",
            "model building\n",
            "begin grid\n",
            "grid score 0.9896551724137931\n",
            "grid alpha 0.001\n",
            "Alpha: 0.001 test_Score: 0.98496 train_score: 0.99216\n",
            "training confusion matrix\n",
            "[[1667   21]\n",
            " [   4 1498]]\n",
            "testing confusion matrix\n",
            "[[421  11]\n",
            " [  1 365]]\n",
            "------------------------------------------\n"
          ],
          "name": "stdout"
        }
      ]
    },
    {
      "cell_type": "code",
      "metadata": {
        "id": "5Gy0FHmvKO5g",
        "colab_type": "code",
        "outputId": "a82ae4ae-dcf6-4019-b6a4-67d5d854c82c",
        "colab": {
          "base_uri": "https://localhost:8080/",
          "height": 323
        }
      },
      "source": [
        "mult_tfidf(x1=data_x.Headline,x2=data_x.Body,y=data_y.Label,x3=a)"
      ],
      "execution_count": 0,
      "outputs": [
        {
          "output_type": "stream",
          "text": [
            "Final size of train/test : 3190 / 798\n",
            "Final size of train/test : 3190 / 798\n",
            "(3190, 1959)\n",
            "(798, 1959)\n",
            "(3190,)\n",
            "(798,)\n",
            "model building\n",
            "begin grid\n",
            "grid score 0.9109717868338558\n",
            "grid alpha 0.001\n",
            "Alpha: 0.001 test_Score: 0.88471 train_score: 0.92069\n",
            "training confusion matrix\n",
            "[[1471  217]\n",
            " [  36 1466]]\n",
            "testing confusion matrix\n",
            "[[354  78]\n",
            " [ 14 352]]\n",
            "------------------------------------------\n"
          ],
          "name": "stdout"
        }
      ]
    },
    {
      "cell_type": "code",
      "metadata": {
        "id": "s-ByDDLNCAVE",
        "colab_type": "code",
        "colab": {}
      },
      "source": [
        "#multi_hashv start \n",
        "def multi_hashv(x1,x2,y,x3=a):\n",
        "    from sklearn.feature_extraction.text import HashingVectorizer\n",
        "    # Not sure about this, collisions may occur as I forced absolute cause naivie bayes is a bitch and n_features over \n",
        "                                                                                        #2**15 causes memory error\n",
        "    \n",
        "    if x3.size==0:\n",
        "        train_x1,train_y1,test_x1,test_y1=split_data(x1,y)\n",
        "        train_x2,train_y2,test_x2,test_y2=split_data(x2,y)\n",
        "\n",
        "\n",
        "\n",
        "        hash_vectorizer = HashingVectorizer(stop_words='english',n_features = 2**8)   # a HASH vectorizer\n",
        "        hash_train_x1 = pd.DataFrame(np.absolute(hash_vectorizer.fit_transform(train_x1).todense()))  #fitting the training data\n",
        "        hash_test_x1 = pd.DataFrame(np.absolute(hash_vectorizer.transform(test_x1).todense()))\n",
        "\n",
        "        hash_train_x2 = pd.DataFrame(np.absolute(hash_vectorizer.fit_transform(train_x2).todense()))  #fitting the training data\n",
        "        hash_test_x2 = pd.DataFrame(np.absolute(hash_vectorizer.transform(test_x2).todense())) \n",
        "\n",
        "        train=pd.concat([hash_train_x1,hash_train_x2],axis=1)\n",
        "        test=pd.concat([hash_test_x1,hash_test_x2],axis=1)\n",
        "        print(train.shape)\n",
        "        print(test.shape)\n",
        "        print(train_y2.shape)\n",
        "        print(test_y2.shape)\n",
        "\n",
        "        navie_bayes(train,train_y2,test,test_y2,100)\n",
        "    \n",
        "    else:\n",
        "        train_x1,train_y1,test_x1,test_y1=split_data(x1,y)\n",
        "        train_x2,train_y2,test_x2,test_y2=split_data(x2,y)\n",
        "        train_x3,train_y3,test_x3,test_y3=split_data(x3,y)\n",
        "        \n",
        "        hash_vectorizer = HashingVectorizer(stop_words='english',n_features = 2**8)   # a HASH vectorizer\n",
        "        hash_train_x1 = pd.DataFrame(np.absolute(hash_vectorizer.fit_transform(train_x1).todense()) ) #fitting the training data\n",
        "        hash_test_x1 = pd.DataFrame(np.absolute(hash_vectorizer.transform(test_x1).todense()))\n",
        "\n",
        "        hash_train_x2 = pd.DataFrame(np.absolute(hash_vectorizer.fit_transform(train_x2).todense()) ) #fitting the training data\n",
        "        hash_test_x2 = pd.DataFrame(np.absolute(hash_vectorizer.transform(test_x2).todense()) )\n",
        "        \n",
        "        hash_train_x3 = pd.DataFrame(np.absolute(hash_vectorizer.fit_transform(train_x3).todense()))  #fitting the training data\n",
        "        hash_test_x3 = pd.DataFrame(np.absolute(hash_vectorizer.transform(test_x3).todense()))\n",
        "        \n",
        "        train=pd.concat([hash_train_x1,hash_train_x2,hash_train_x3],axis=1)\n",
        "        test=pd.concat([hash_test_x1,hash_test_x2,hash_test_x3],axis=1)\n",
        "        \n",
        "        navie_bayes(train,train_y2,test,test_y2,100)\n"
      ],
      "execution_count": 0,
      "outputs": []
    },
    {
      "cell_type": "code",
      "metadata": {
        "id": "BxAE1GqWmuts",
        "colab_type": "code",
        "colab": {}
      },
      "source": [
        "multi_hashv(x1=data_x.URLs,x2=data_x.Headline,y=data_y.Label,x3=data_x.Body)\n",
        "\"\"\"\n",
        "Final size of train/test : 3190 / 798\n",
        "Final size of train/test : 3190 / 798\n",
        "Final size of train/test : 3190 / 798\n",
        "model building\n",
        "begin grid\n",
        "grid score 0.9432601880877742\n",
        "grid alpha 0.553\n",
        "Alpha: 0.553 test_Score: 0.92481 train_score: 0.94796\n",
        "training confusion matrix\n",
        "[[1535  153]\n",
        " [  13 1489]]\n",
        "testing confusion matrix\n",
        "[[376  56]\n",
        " [  4 362]]\n",
        "\n",
        "\"\"\""
      ],
      "execution_count": 0,
      "outputs": []
    },
    {
      "cell_type": "code",
      "metadata": {
        "id": "blV7UPfGDMNw",
        "colab_type": "code",
        "outputId": "e3e38ae2-6a68-4936-d4fc-c7cb7f1c12c8",
        "colab": {
          "base_uri": "https://localhost:8080/",
          "height": 323
        }
      },
      "source": [
        "multi_hashv(x1=data_x.URLs,x2=data_x.Headline,y=data_y.Label,x3=a)"
      ],
      "execution_count": 0,
      "outputs": [
        {
          "output_type": "stream",
          "text": [
            "Final size of train/test : 3190 / 798\n",
            "Final size of train/test : 3190 / 798\n",
            "(3190, 512)\n",
            "(798, 512)\n",
            "(3190,)\n",
            "(798,)\n",
            "model building\n",
            "begin grid\n",
            "grid score 0.9510971786833856\n",
            "grid alpha 0.794\n",
            "Alpha: 0.794 test_Score: 0.94236 train_score: 0.96082\n",
            "training confusion matrix\n",
            "[[1599   89]\n",
            " [  36 1466]]\n",
            "testing confusion matrix\n",
            "[[396  36]\n",
            " [ 10 356]]\n",
            "------------------------------------------\n"
          ],
          "name": "stdout"
        }
      ]
    },
    {
      "cell_type": "code",
      "metadata": {
        "id": "VbxltRi1L2pL",
        "colab_type": "code",
        "outputId": "45e02eff-2348-4a7a-e690-56249e80377e",
        "colab": {
          "base_uri": "https://localhost:8080/",
          "height": 323
        }
      },
      "source": [
        "multi_hashv(x1=data_x.URLs,x2=data_x.Body,y=data_y.Label,x3=a)"
      ],
      "execution_count": 0,
      "outputs": [
        {
          "output_type": "stream",
          "text": [
            "Final size of train/test : 3190 / 798\n",
            "Final size of train/test : 3190 / 798\n",
            "(3190, 512)\n",
            "(798, 512)\n",
            "(3190,)\n",
            "(798,)\n",
            "model building\n",
            "begin grid\n",
            "grid score 0.95423197492163\n",
            "grid alpha 0.001\n",
            "Alpha: 0.001 test_Score: 0.94486 train_score: 0.95611\n",
            "training confusion matrix\n",
            "[[1559  129]\n",
            " [  11 1491]]\n",
            "testing confusion matrix\n",
            "[[390  42]\n",
            " [  2 364]]\n",
            "------------------------------------------\n"
          ],
          "name": "stdout"
        }
      ]
    },
    {
      "cell_type": "code",
      "metadata": {
        "id": "7qFzXKugMcpT",
        "colab_type": "code",
        "outputId": "045a4e96-6bc3-4f17-9e33-75434e0ec5a1",
        "colab": {
          "base_uri": "https://localhost:8080/",
          "height": 323
        }
      },
      "source": [
        "multi_hashv(x1=data_x.Headline,x2=data_x.Body,y=data_y.Label,x3=a)"
      ],
      "execution_count": 0,
      "outputs": [
        {
          "output_type": "stream",
          "text": [
            "Final size of train/test : 3190 / 798\n",
            "Final size of train/test : 3190 / 798\n",
            "(3190, 512)\n",
            "(798, 512)\n",
            "(3190,)\n",
            "(798,)\n",
            "model building\n",
            "begin grid\n",
            "grid score 0.8376175548589341\n",
            "grid alpha 0.443\n",
            "Alpha: 0.443 test_Score: 0.80702 train_score: 0.85893\n",
            "training confusion matrix\n",
            "[[1352  336]\n",
            " [ 114 1388]]\n",
            "testing confusion matrix\n",
            "[[321 111]\n",
            " [ 43 323]]\n",
            "------------------------------------------\n"
          ],
          "name": "stdout"
        }
      ]
    }
  ]
}