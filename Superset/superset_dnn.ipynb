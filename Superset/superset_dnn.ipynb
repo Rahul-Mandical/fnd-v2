{
 "cells": [
  {
   "cell_type": "code",
   "execution_count": 1,
   "metadata": {
    "colab": {},
    "colab_type": "code",
    "id": "d3GBE7YpAaau"
   },
   "outputs": [
    {
     "data": {
      "text/plain": [
       "'\\nTODO - BUild a model for Superset using DNN\\n'"
      ]
     },
     "execution_count": 1,
     "metadata": {},
     "output_type": "execute_result"
    }
   ],
   "source": [
    "\"\"\"\n",
    "TODO - BUild a model for Superset using DNN\n",
    "\"\"\"\n"
   ]
  },
  {
   "cell_type": "code",
   "execution_count": 2,
   "metadata": {
    "colab": {},
    "colab_type": "code",
    "id": "WpqEXj4XqKuF"
   },
   "outputs": [],
   "source": [
    "import pandas as pd\n",
    "import numpy as np"
   ]
  },
  {
   "cell_type": "markdown",
   "metadata": {
    "colab_type": "text",
    "id": "0a3NeDGXBqED"
   },
   "source": [
    "Uploading Dataset"
   ]
  },
  {
   "cell_type": "code",
   "execution_count": 3,
   "metadata": {
    "colab": {
     "base_uri": "https://localhost:8080/",
     "height": 136
    },
    "colab_type": "code",
    "id": "mL13y65zNyR5",
    "outputId": "b5d50eb1-b450-4279-bd88-6f0f0b6319b0"
   },
   "outputs": [],
   "source": [
    "super=pd.read_csv('datasets/superset.csv')"
   ]
  },
  {
   "cell_type": "code",
   "execution_count": 4,
   "metadata": {
    "colab": {
     "base_uri": "https://localhost:8080/",
     "height": 34
    },
    "colab_type": "code",
    "id": "m7FnRgA9Rrgw",
    "outputId": "7b5c1040-896b-4368-8150-9528f33e76c8"
   },
   "outputs": [
    {
     "data": {
      "text/plain": [
       "Index(['label', 'statement'], dtype='object')"
      ]
     },
     "execution_count": 4,
     "metadata": {},
     "output_type": "execute_result"
    }
   ],
   "source": [
    "super.columns"
   ]
  },
  {
   "cell_type": "code",
   "execution_count": 5,
   "metadata": {
    "colab": {},
    "colab_type": "code",
    "id": "fDjYD9X7R0Dh"
   },
   "outputs": [],
   "source": [
    "super_x=super.statement\n",
    "super_y=super.label"
   ]
  },
  {
   "cell_type": "code",
   "execution_count": 6,
   "metadata": {
    "colab": {
     "base_uri": "https://localhost:8080/",
     "height": 34
    },
    "colab_type": "code",
    "id": "BGQN_gSqR6KJ",
    "outputId": "8d40323a-34a8-46ed-aeac-b755448772d8"
   },
   "outputs": [
    {
     "data": {
      "text/plain": [
       "(233413,)"
      ]
     },
     "execution_count": 6,
     "metadata": {},
     "output_type": "execute_result"
    }
   ],
   "source": [
    "super_x.shape"
   ]
  },
  {
   "cell_type": "code",
   "execution_count": null,
   "metadata": {
    "colab": {},
    "colab_type": "code",
    "id": "vjJfUSo6SCtC"
   },
   "outputs": [],
   "source": []
  },
  {
   "cell_type": "markdown",
   "metadata": {
    "colab_type": "text",
    "id": "OO4MFTFnrffD"
   },
   "source": [
    "Train test Split\n"
   ]
  },
  {
   "cell_type": "code",
   "execution_count": 7,
   "metadata": {
    "colab": {
     "base_uri": "https://localhost:8080/",
     "height": 136
    },
    "colab_type": "code",
    "id": "IC7O_N1HN61g",
    "outputId": "c2394616-af3c-40ea-d8a6-f13401ebbd6d"
   },
   "outputs": [
    {
     "name": "stdout",
     "output_type": "stream",
     "text": [
      "(186730,)\n",
      "(46683,)\n",
      "(140047,)\n",
      "(46683,)\n",
      "<class 'pandas.core.series.Series'>\n",
      "(140047,)\n",
      "Final size of train/dev/test :  (140047,) / (46683,) / (46683,)\n"
     ]
    }
   ],
   "source": [
    "#train test split to form test from megaset\n",
    "from sklearn.model_selection import train_test_split\n",
    "\n",
    "X_train_temp, sup_test_x, y_train_temp, sup_test_y = train_test_split(super_x,super_y,test_size=0.2,random_state=12)\n",
    "print(X_train_temp.shape)\n",
    "print(sup_test_x.shape)\n",
    "\n",
    "# mega_test_x : Final testing file with statements\n",
    "# mega_test_y : Final testing file with ratings\n",
    "\n",
    "sup_train_x, sup_dev_x, sup_train_y, sup_dev_y = train_test_split(X_train_temp,y_train_temp,test_size=46683,random_state=12)\n",
    "\n",
    "print(sup_train_x.shape)\n",
    "print(sup_dev_x.shape)\n",
    "\n",
    "# mega_train_x : Training file with statements\n",
    "# mega_train_y : Training file with ratings\n",
    "# mega_dev_x   : Development testing file with statements\n",
    "# mega_dev_y   : Development testing file with ratings\n",
    "print(type(sup_train_x))\n",
    "print(sup_train_y.shape)\n",
    "print(\"Final size of train/dev/test : \",sup_train_x.shape,\"/\",sup_dev_x.shape,\"/\",sup_test_x.shape)"
   ]
  },
  {
   "cell_type": "code",
   "execution_count": 8,
   "metadata": {},
   "outputs": [],
   "source": [
    "#convert y from true -1 and false -0\n",
    "sup_train_y.replace({'true': 1, 'fake': 0},inplace=True)\n",
    "sup_test_y.replace({'true': 1, 'fake': 0},inplace=True)\n",
    "sup_dev_y.replace({'true': 1, 'fake': 0},inplace=True)\n"
   ]
  },
  {
   "cell_type": "code",
   "execution_count": 9,
   "metadata": {
    "colab": {
     "base_uri": "https://localhost:8080/",
     "height": 80
    },
    "colab_type": "code",
    "id": "8gKyOcVvOA7N",
    "outputId": "bf0a58d7-8f76-4bf6-bd78-11fcf543859d"
   },
   "outputs": [
    {
     "name": "stderr",
     "output_type": "stream",
     "text": [
      "Using TensorFlow backend.\n"
     ]
    }
   ],
   "source": [
    "import tensorflow\n",
    "import pandas as pd\n",
    "import keras\n",
    "from keras.preprocessing.text import Tokenizer\n",
    "from keras.preprocessing.sequence import pad_sequences\n",
    "import numpy as np\n",
    "from keras.models import Sequential\n",
    "from keras import layers\n",
    "import time\n",
    "from keras.models import load_model\n",
    "from keras.layers import Dropout\n",
    "from keras.regularizers import l2\n"
   ]
  },
  {
   "cell_type": "code",
   "execution_count": 12,
   "metadata": {},
   "outputs": [
    {
     "name": "stdout",
     "output_type": "stream",
     "text": [
      "vocab size  597387\n"
     ]
    }
   ],
   "source": [
    "tokenizer = Tokenizer()#this is the dictionary that is built , no memory error here\n",
    "tokenizer.fit_on_texts(sup_train_x)\n",
    "\n",
    "vocab_size = len(tokenizer.word_index) + 1  # Adding 1 because of reserved 0 index\n",
    "print('vocab size ',vocab_size)  \n",
    "    \n",
    "    \n"
   ]
  },
  {
   "cell_type": "markdown",
   "metadata": {
    "colab_type": "text",
    "id": "f71PV9EWsRKj"
   },
   "source": [
    "Tokenize and pad the attribute"
   ]
  },
  {
   "cell_type": "code",
   "execution_count": 10,
   "metadata": {
    "colab": {},
    "colab_type": "code",
    "id": "ViC25_QKOmyA"
   },
   "outputs": [],
   "source": [
    "def tokpad(train_x):\n",
    "    train_text = tokenizer.texts_to_sequences(train_x)\n",
    "    train_padtext = pad_sequences(train_text, padding='post', maxlen=144708)\n",
    "    return train_padtext"
   ]
  },
  {
   "cell_type": "code",
   "execution_count": 13,
   "metadata": {
    "colab": {},
    "colab_type": "code",
    "id": "ARFNcw-0PEE-"
   },
   "outputs": [
    {
     "name": "stdout",
     "output_type": "stream",
     "text": [
      "16 10\n",
      "Model: \"sequential_2\"\n",
      "_________________________________________________________________\n",
      "Layer (type)                 Output Shape              Param #   \n",
      "=================================================================\n",
      "embedding_1 (Embedding)      (None, 144708, 25)        14934675  \n",
      "_________________________________________________________________\n",
      "global_max_pooling1d_1 (Glob (None, 25)                0         \n",
      "_________________________________________________________________\n",
      "dense_1 (Dense)              (None, 16)                416       \n",
      "_________________________________________________________________\n",
      "dense_2 (Dense)              (None, 10)                170       \n",
      "_________________________________________________________________\n",
      "dense_3 (Dense)              (None, 1)                 11        \n",
      "=================================================================\n",
      "Total params: 14,935,272\n",
      "Trainable params: 14,935,272\n",
      "Non-trainable params: 0\n",
      "_________________________________________________________________\n"
     ]
    }
   ],
   "source": [
    "#Model 2\n",
    "embedding_dim = 25\n",
    "h1=int(2/3*embedding_dim)\n",
    "h2=int(2/3*h1)\n",
    "print(h1,h2)\n",
    "\n",
    "model2 = Sequential()\n",
    "model2.add(layers.Embedding(input_dim=vocab_size, \n",
    "                           output_dim=embedding_dim, \n",
    "                           input_length=144708))\n",
    "model2.add(layers.GlobalMaxPool1D())\n",
    "model2.add(layers.Dense(h1, activation='relu',kernel_regularizer=l2(0.01), bias_regularizer=l2(0.01)))\n",
    "model2.add(layers.Dense(h2, activation='relu',kernel_regularizer=l2(0.01), bias_regularizer=l2(0.01)))\n",
    "model2.add(layers.Dense(1, activation='sigmoid'))\n",
    "model2.compile(optimizer='adam',\n",
    "              loss='binary_crossentropy',\n",
    "              metrics=['accuracy'])\n",
    "model2.summary()"
   ]
  },
  {
   "cell_type": "code",
   "execution_count": 107,
   "metadata": {},
   "outputs": [
    {
     "data": {
      "text/plain": [
       "''"
      ]
     },
     "execution_count": 107,
     "metadata": {},
     "output_type": "execute_result"
    }
   ],
   "source": [
    "\"\"\"\"\"\"\"\"\"\n",
    "#run this to reset the model\n",
    "model2.save(\"model.h5\")\n",
    "model = load_model('model.h5')\n",
    "\n",
    "\"\"\"\"\"\"\"\"\""
   ]
  },
  {
   "cell_type": "code",
   "execution_count": 15,
   "metadata": {},
   "outputs": [],
   "source": [
    "def trainmodel(train_x,train_y):\n",
    "    print('loading model')\n",
    "    model=load_model('model.h5')\n",
    "    print('model loaded')\n",
    "    print('Running tokpad')\n",
    "    trainpad=tokpad(train_x)\n",
    "    print('Tokpad is done')\n",
    "    print('Start training')\n",
    "    \n",
    "    history = model.fit(trainpad,train_y,\n",
    "                    epochs=20,\n",
    "                    verbose=1,\n",
    "                    batch_size=10)\n",
    "    print('Fitting is done')\n",
    "    print('saving the model')\n",
    "    model.save(\"model.h5\")\n",
    "    print('model is saved')\n",
    "    print(\"Cleaning Ram\")\n",
    "    gc.collect()"
   ]
  },
  {
   "cell_type": "code",
   "execution_count": 98,
   "metadata": {
    "colab": {},
    "colab_type": "code",
    "id": "zg2OwJPjKz2R"
   },
   "outputs": [
    {
     "name": "stdout",
     "output_type": "stream",
     "text": [
      "loading model\n",
      "model loaded\n",
      "Running tokpad\n",
      "Tokpad is done\n",
      "Start training\n",
      "Epoch 1/25\n",
      "10000/10000 [==============================] - 504s 50ms/step - loss: 0.4488 - accuracy: 0.7578\n",
      "Epoch 2/25\n",
      "10000/10000 [==============================] - 503s 50ms/step - loss: 0.2507 - accuracy: 0.8935\n",
      "Epoch 3/25\n",
      "10000/10000 [==============================] - 502s 50ms/step - loss: 0.1759 - accuracy: 0.9328\n",
      "Epoch 4/25\n",
      "10000/10000 [==============================] - 501s 50ms/step - loss: 0.1269 - accuracy: 0.9502\n",
      "Epoch 5/25\n",
      "10000/10000 [==============================] - 501s 50ms/step - loss: 0.0950 - accuracy: 0.9664\n",
      "Epoch 6/25\n",
      "10000/10000 [==============================] - 501s 50ms/step - loss: 0.0747 - accuracy: 0.9739\n",
      "Epoch 7/25\n",
      "10000/10000 [==============================] - 501s 50ms/step - loss: 0.0606 - accuracy: 0.9778\n",
      "Epoch 8/25\n",
      "10000/10000 [==============================] - 501s 50ms/step - loss: 0.0497 - accuracy: 0.9828\n",
      "Epoch 9/25\n",
      "10000/10000 [==============================] - 502s 50ms/step - loss: 0.0400 - accuracy: 0.9857\n",
      "Epoch 10/25\n",
      "10000/10000 [==============================] - 502s 50ms/step - loss: 0.0337 - accuracy: 0.9887\n",
      "Epoch 11/25\n",
      "10000/10000 [==============================] - 502s 50ms/step - loss: 0.0277 - accuracy: 0.9914\n",
      "Epoch 12/25\n",
      "10000/10000 [==============================] - 502s 50ms/step - loss: 0.0241 - accuracy: 0.9916\n",
      "Epoch 13/25\n",
      "10000/10000 [==============================] - 503s 50ms/step - loss: 0.0175 - accuracy: 0.9948\n",
      "Epoch 14/25\n",
      "10000/10000 [==============================] - 502s 50ms/step - loss: 0.0163 - accuracy: 0.9953\n",
      "Epoch 15/25\n",
      "10000/10000 [==============================] - 502s 50ms/step - loss: 0.0148 - accuracy: 0.9956\n",
      "Epoch 16/25\n",
      "10000/10000 [==============================] - 502s 50ms/step - loss: 0.0114 - accuracy: 0.9964\n",
      "Epoch 17/25\n",
      "10000/10000 [==============================] - 502s 50ms/step - loss: 0.0109 - accuracy: 0.9974\n",
      "Epoch 18/25\n",
      "10000/10000 [==============================] - 529s 53ms/step - loss: 0.0086 - accuracy: 0.9978\n",
      "Epoch 19/25\n",
      "10000/10000 [==============================] - 530s 53ms/step - loss: 0.0071 - accuracy: 0.9987\n",
      "Epoch 20/25\n",
      "10000/10000 [==============================] - 548s 55ms/step - loss: 0.0087 - accuracy: 0.9973\n",
      "Epoch 21/25\n",
      "10000/10000 [==============================] - 542s 54ms/step - loss: 0.0052 - accuracy: 0.9986\n",
      "Epoch 22/25\n",
      "10000/10000 [==============================] - 551s 55ms/step - loss: 0.0042 - accuracy: 0.9993\n",
      "Epoch 23/25\n",
      "10000/10000 [==============================] - 506s 51ms/step - loss: 0.0035 - accuracy: 0.9991\n",
      "Epoch 24/25\n",
      "10000/10000 [==============================] - 502s 50ms/step - loss: 0.0032 - accuracy: 0.9990\n",
      "Epoch 25/25\n",
      "10000/10000 [==============================] - 502s 50ms/step - loss: 0.0034 - accuracy: 0.9992\n",
      "Fitting is done\n",
      "saving the model\n",
      "model is saved\n",
      "Cleaning Ram\n"
     ]
    }
   ],
   "source": [
    "#first 10 000 only\n",
    "trainmodel(sup_train_x[:10000],sup_train_y[:10000])"
   ]
  },
  {
   "cell_type": "code",
   "execution_count": 103,
   "metadata": {},
   "outputs": [],
   "source": [
    "#saving the weights\n",
    "temp_weights = [layer.get_weights() for layer in model.layers]\n",
    "#added the regularizers"
   ]
  },
  {
   "cell_type": "code",
   "execution_count": 111,
   "metadata": {},
   "outputs": [],
   "source": [
    "#setting the weights back\n",
    "for i in range(len(temp_weights)):\n",
    "    model.layers[i].set_weights(temp_weights[i])"
   ]
  },
  {
   "cell_type": "code",
   "execution_count": 117,
   "metadata": {},
   "outputs": [
    {
     "name": "stdout",
     "output_type": "stream",
     "text": [
      "loading model\n",
      "model loaded\n",
      "Running tokpad\n",
      "Tokpad is done\n",
      "Start training\n",
      "Epoch 1/20\n",
      "10000/10000 [==============================] - 494s 49ms/step - loss: 0.6157 - accuracy: 0.7135\n",
      "Epoch 2/20\n",
      "10000/10000 [==============================] - 506s 51ms/step - loss: 0.3804 - accuracy: 0.8698\n",
      "Epoch 3/20\n",
      "10000/10000 [==============================] - 512s 51ms/step - loss: 0.3088 - accuracy: 0.9112\n",
      "Epoch 4/20\n",
      "10000/10000 [==============================] - 501s 50ms/step - loss: 0.2575 - accuracy: 0.9336\n",
      "Epoch 5/20\n",
      "10000/10000 [==============================] - 500s 50ms/step - loss: 0.2198 - accuracy: 0.9497\n",
      "Epoch 6/20\n",
      "10000/10000 [==============================] - 502s 50ms/step - loss: 0.1906 - accuracy: 0.9603\n",
      "Epoch 7/20\n",
      "10000/10000 [==============================] - 501s 50ms/step - loss: 0.1686 - accuracy: 0.9655\n",
      "Epoch 8/20\n",
      "10000/10000 [==============================] - 501s 50ms/step - loss: 0.1505 - accuracy: 0.9711\n",
      "Epoch 9/20\n",
      "10000/10000 [==============================] - 501s 50ms/step - loss: 0.1357 - accuracy: 0.9762\n",
      "Epoch 10/20\n",
      "10000/10000 [==============================] - 501s 50ms/step - loss: 0.1234 - accuracy: 0.9791\n",
      "Epoch 11/20\n",
      "10000/10000 [==============================] - 501s 50ms/step - loss: 0.1104 - accuracy: 0.9836\n",
      "Epoch 12/20\n",
      "10000/10000 [==============================] - 564s 56ms/step - loss: 0.1006 - accuracy: 0.9867\n",
      "Epoch 13/20\n",
      "10000/10000 [==============================] - 598s 60ms/step - loss: 0.0933 - accuracy: 0.9873\n",
      "Epoch 14/20\n",
      "10000/10000 [==============================] - 604s 60ms/step - loss: 0.0837 - accuracy: 0.9904\n",
      "Epoch 15/20\n",
      "10000/10000 [==============================] - 609s 61ms/step - loss: 0.0764 - accuracy: 0.9931\n",
      "Epoch 16/20\n",
      "10000/10000 [==============================] - 572s 57ms/step - loss: 0.0705 - accuracy: 0.9942\n",
      "Epoch 17/20\n",
      "10000/10000 [==============================] - 522s 52ms/step - loss: 0.0653 - accuracy: 0.9945\n",
      "Epoch 18/20\n",
      "10000/10000 [==============================] - 523s 52ms/step - loss: 0.0595 - accuracy: 0.9958\n",
      "Epoch 19/20\n",
      "10000/10000 [==============================] - 532s 53ms/step - loss: 0.0569 - accuracy: 0.9958\n",
      "Epoch 20/20\n",
      "10000/10000 [==============================] - 538s 54ms/step - loss: 0.0527 - accuracy: 0.9968\n",
      "Fitting is done\n",
      "saving the model\n",
      "model is saved\n",
      "Cleaning Ram\n"
     ]
    }
   ],
   "source": [
    "#models back and updated\n",
    "#training the next 10000\n",
    "trainmodel(sup_train_x[10000:20000],sup_train_y[10000:20000])"
   ]
  },
  {
   "cell_type": "code",
   "execution_count": null,
   "metadata": {},
   "outputs": [
    {
     "name": "stdout",
     "output_type": "stream",
     "text": [
      "loading model\n",
      "model loaded\n",
      "Running tokpad\n",
      "Tokpad is done\n",
      "Start training\n",
      "Epoch 1/20\n",
      " 2010/10000 [=====>........................] - ETA: 7:02 - loss: 0.3647 - accuracy: 0.8532"
     ]
    }
   ],
   "source": [
    "trainmodel(sup_train_x[20000:30000],sup_train_y[20000:30000])"
   ]
  },
  {
   "cell_type": "code",
   "execution_count": null,
   "metadata": {},
   "outputs": [],
   "source": []
  }
 ],
 "metadata": {
  "colab": {
   "machine_shape": "hm",
   "name": "superset",
   "provenance": []
  },
  "kernelspec": {
   "display_name": "Python 3",
   "language": "python",
   "name": "python3"
  },
  "language_info": {
   "codemirror_mode": {
    "name": "ipython",
    "version": 3
   },
   "file_extension": ".py",
   "mimetype": "text/x-python",
   "name": "python",
   "nbconvert_exporter": "python",
   "pygments_lexer": "ipython3",
   "version": "3.7.4"
  }
 },
 "nbformat": 4,
 "nbformat_minor": 1
}
