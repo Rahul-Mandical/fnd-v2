{
 "cells": [
  {
   "cell_type": "code",
   "execution_count": 1,
   "metadata": {},
   "outputs": [],
   "source": [
    "import pandas as pd\n",
    "import numpy as np\n",
    "#import dtale as d\n",
    "import gc"
   ]
  },
  {
   "cell_type": "code",
   "execution_count": 2,
   "metadata": {},
   "outputs": [],
   "source": [
    "data=pd.read_csv('route1.csv')"
   ]
  },
  {
   "cell_type": "code",
   "execution_count": 3,
   "metadata": {},
   "outputs": [
    {
     "name": "stdout",
     "output_type": "stream",
     "text": [
      "Index(['domain', 'label', 'content', 'title'], dtype='object')\n"
     ]
    },
    {
     "data": {
      "text/plain": [
       "(152056, 4)"
      ]
     },
     "execution_count": 3,
     "metadata": {},
     "output_type": "execute_result"
    }
   ],
   "source": [
    "print(data.columns)\n",
    "data.shape"
   ]
  },
  {
   "cell_type": "code",
   "execution_count": 4,
   "metadata": {},
   "outputs": [],
   "source": [
    "data.dropna(inplace=True)"
   ]
  },
  {
   "cell_type": "code",
   "execution_count": 5,
   "metadata": {},
   "outputs": [
    {
     "data": {
      "text/plain": [
       "(152055, 4)"
      ]
     },
     "execution_count": 5,
     "metadata": {},
     "output_type": "execute_result"
    }
   ],
   "source": [
    "data.shape"
   ]
  },
  {
   "cell_type": "code",
   "execution_count": 6,
   "metadata": {},
   "outputs": [
    {
     "data": {
      "text/html": [
       "<div>\n",
       "<style scoped>\n",
       "    .dataframe tbody tr th:only-of-type {\n",
       "        vertical-align: middle;\n",
       "    }\n",
       "\n",
       "    .dataframe tbody tr th {\n",
       "        vertical-align: top;\n",
       "    }\n",
       "\n",
       "    .dataframe thead th {\n",
       "        text-align: right;\n",
       "    }\n",
       "</style>\n",
       "<table border=\"1\" class=\"dataframe\">\n",
       "  <thead>\n",
       "    <tr style=\"text-align: right;\">\n",
       "      <th></th>\n",
       "      <th>domain</th>\n",
       "      <th>label</th>\n",
       "      <th>content</th>\n",
       "      <th>title</th>\n",
       "    </tr>\n",
       "  </thead>\n",
       "  <tbody>\n",
       "    <tr>\n",
       "      <td>0</td>\n",
       "      <td>bipartisanreport.com</td>\n",
       "      <td>fake</td>\n",
       "      <td>The website from which you got to this page is...</td>\n",
       "      <td>Email Protection</td>\n",
       "    </tr>\n",
       "    <tr>\n",
       "      <td>1</td>\n",
       "      <td>bipartisanreport.com</td>\n",
       "      <td>fake</td>\n",
       "      <td>When the news broke that Stephanie Clifford, a...</td>\n",
       "      <td>‘Wall St Journal’ Rocks Trump With Friday Shad...</td>\n",
       "    </tr>\n",
       "    <tr>\n",
       "      <td>2</td>\n",
       "      <td>bipartisanreport.com</td>\n",
       "      <td>fake</td>\n",
       "      <td>President Trump’s year or so in office has bee...</td>\n",
       "      <td>John Kelly Is On His Way Out And Ivanka Trump ...</td>\n",
       "    </tr>\n",
       "    <tr>\n",
       "      <td>3</td>\n",
       "      <td>breaking911.com</td>\n",
       "      <td>fake</td>\n",
       "      <td>Baltimore — David Thornton was found guilty by...</td>\n",
       "      <td>Murderer on Parole Receives Maximum Sentence A...</td>\n",
       "    </tr>\n",
       "    <tr>\n",
       "      <td>4</td>\n",
       "      <td>bipartisanreport.com</td>\n",
       "      <td>fake</td>\n",
       "      <td>The federal government remained shut down goin...</td>\n",
       "      <td>NY Times Reveals Why Trump Is Refusing A DACA ...</td>\n",
       "    </tr>\n",
       "    <tr>\n",
       "      <td>...</td>\n",
       "      <td>...</td>\n",
       "      <td>...</td>\n",
       "      <td>...</td>\n",
       "      <td>...</td>\n",
       "    </tr>\n",
       "    <tr>\n",
       "      <td>152051</td>\n",
       "      <td>thefreepatriot.org</td>\n",
       "      <td>fake</td>\n",
       "      <td>President Donald Trump’s biggest enemies have ...</td>\n",
       "      <td>‘The Resistance’ Reduced to Yelling at Trump R...</td>\n",
       "    </tr>\n",
       "    <tr>\n",
       "      <td>152052</td>\n",
       "      <td>threepercenternation.com</td>\n",
       "      <td>fake</td>\n",
       "      <td>Democratic activist darling of the far left in...</td>\n",
       "      <td>Linda Sarsour: You Have No Right to Tell Us We...</td>\n",
       "    </tr>\n",
       "    <tr>\n",
       "      <td>152053</td>\n",
       "      <td>threepercenternation.com</td>\n",
       "      <td>fake</td>\n",
       "      <td>What would you do if you saw someone choking? ...</td>\n",
       "      <td>Officer Was In Distress, That’s When A Good Sa...</td>\n",
       "    </tr>\n",
       "    <tr>\n",
       "      <td>152054</td>\n",
       "      <td>thenet24h.com</td>\n",
       "      <td>fake</td>\n",
       "      <td>Hollywood Says Goodbye to Showbiz Legend, Best...</td>\n",
       "      <td>Hollywood Says Goodbye to Showbiz Legend, Best...</td>\n",
       "    </tr>\n",
       "    <tr>\n",
       "      <td>152055</td>\n",
       "      <td>theinternetpost.net</td>\n",
       "      <td>fake</td>\n",
       "      <td>One of the world’s most common food ingredient...</td>\n",
       "      <td>THE INTERNET POST</td>\n",
       "    </tr>\n",
       "  </tbody>\n",
       "</table>\n",
       "<p>152055 rows × 4 columns</p>\n",
       "</div>"
      ],
      "text/plain": [
       "                          domain label  \\\n",
       "0           bipartisanreport.com  fake   \n",
       "1           bipartisanreport.com  fake   \n",
       "2           bipartisanreport.com  fake   \n",
       "3                breaking911.com  fake   \n",
       "4           bipartisanreport.com  fake   \n",
       "...                          ...   ...   \n",
       "152051        thefreepatriot.org  fake   \n",
       "152052  threepercenternation.com  fake   \n",
       "152053  threepercenternation.com  fake   \n",
       "152054             thenet24h.com  fake   \n",
       "152055       theinternetpost.net  fake   \n",
       "\n",
       "                                                  content  \\\n",
       "0       The website from which you got to this page is...   \n",
       "1       When the news broke that Stephanie Clifford, a...   \n",
       "2       President Trump’s year or so in office has bee...   \n",
       "3       Baltimore — David Thornton was found guilty by...   \n",
       "4       The federal government remained shut down goin...   \n",
       "...                                                   ...   \n",
       "152051  President Donald Trump’s biggest enemies have ...   \n",
       "152052  Democratic activist darling of the far left in...   \n",
       "152053  What would you do if you saw someone choking? ...   \n",
       "152054  Hollywood Says Goodbye to Showbiz Legend, Best...   \n",
       "152055  One of the world’s most common food ingredient...   \n",
       "\n",
       "                                                    title  \n",
       "0                                        Email Protection  \n",
       "1       ‘Wall St Journal’ Rocks Trump With Friday Shad...  \n",
       "2       John Kelly Is On His Way Out And Ivanka Trump ...  \n",
       "3       Murderer on Parole Receives Maximum Sentence A...  \n",
       "4       NY Times Reveals Why Trump Is Refusing A DACA ...  \n",
       "...                                                   ...  \n",
       "152051  ‘The Resistance’ Reduced to Yelling at Trump R...  \n",
       "152052  Linda Sarsour: You Have No Right to Tell Us We...  \n",
       "152053  Officer Was In Distress, That’s When A Good Sa...  \n",
       "152054  Hollywood Says Goodbye to Showbiz Legend, Best...  \n",
       "152055                                  THE INTERNET POST  \n",
       "\n",
       "[152055 rows x 4 columns]"
      ]
     },
     "execution_count": 6,
     "metadata": {},
     "output_type": "execute_result"
    }
   ],
   "source": [
    "data\n"
   ]
  },
  {
   "cell_type": "code",
   "execution_count": 7,
   "metadata": {},
   "outputs": [],
   "source": [
    "data=data[['domain', 'content', 'title', 'label']]"
   ]
  },
  {
   "cell_type": "code",
   "execution_count": 8,
   "metadata": {},
   "outputs": [
    {
     "data": {
      "text/html": [
       "\n",
       "        <iframe\n",
       "            width=\"100%\"\n",
       "            height=\"350\"\n",
       "            src=\"http://DESKTOP-TTA620J:40000/dtale/iframe/1\"\n",
       "            frameborder=\"0\"\n",
       "            allowfullscreen\n",
       "        ></iframe>\n",
       "        "
      ],
      "text/plain": [
       "<IPython.lib.display.IFrame at 0x379b423c08>"
      ]
     },
     "metadata": {},
     "output_type": "display_data"
    },
    {
     "data": {
      "text/plain": []
     },
     "execution_count": 8,
     "metadata": {},
     "output_type": "execute_result"
    }
   ],
   "source": [
    "data1=d.show(data)\n",
    "data1"
   ]
  },
  {
   "cell_type": "code",
   "execution_count": 8,
   "metadata": {},
   "outputs": [
    {
     "data": {
      "text/html": [
       "<div>\n",
       "<style scoped>\n",
       "    .dataframe tbody tr th:only-of-type {\n",
       "        vertical-align: middle;\n",
       "    }\n",
       "\n",
       "    .dataframe tbody tr th {\n",
       "        vertical-align: top;\n",
       "    }\n",
       "\n",
       "    .dataframe thead th {\n",
       "        text-align: right;\n",
       "    }\n",
       "</style>\n",
       "<table border=\"1\" class=\"dataframe\">\n",
       "  <thead>\n",
       "    <tr style=\"text-align: right;\">\n",
       "      <th></th>\n",
       "      <th>domain</th>\n",
       "      <th>content</th>\n",
       "      <th>title</th>\n",
       "      <th>label</th>\n",
       "    </tr>\n",
       "  </thead>\n",
       "  <tbody>\n",
       "    <tr>\n",
       "      <td>0</td>\n",
       "      <td>bipartisanreport.com</td>\n",
       "      <td>The website from which you got to this page is...</td>\n",
       "      <td>Email Protection</td>\n",
       "      <td>fake</td>\n",
       "    </tr>\n",
       "    <tr>\n",
       "      <td>1</td>\n",
       "      <td>bipartisanreport.com</td>\n",
       "      <td>When the news broke that Stephanie Clifford, a...</td>\n",
       "      <td>‘Wall St Journal’ Rocks Trump With Friday Shad...</td>\n",
       "      <td>fake</td>\n",
       "    </tr>\n",
       "    <tr>\n",
       "      <td>2</td>\n",
       "      <td>bipartisanreport.com</td>\n",
       "      <td>President Trump’s year or so in office has bee...</td>\n",
       "      <td>John Kelly Is On His Way Out And Ivanka Trump ...</td>\n",
       "      <td>fake</td>\n",
       "    </tr>\n",
       "    <tr>\n",
       "      <td>3</td>\n",
       "      <td>breaking911.com</td>\n",
       "      <td>Baltimore — David Thornton was found guilty by...</td>\n",
       "      <td>Murderer on Parole Receives Maximum Sentence A...</td>\n",
       "      <td>fake</td>\n",
       "    </tr>\n",
       "    <tr>\n",
       "      <td>4</td>\n",
       "      <td>bipartisanreport.com</td>\n",
       "      <td>The federal government remained shut down goin...</td>\n",
       "      <td>NY Times Reveals Why Trump Is Refusing A DACA ...</td>\n",
       "      <td>fake</td>\n",
       "    </tr>\n",
       "    <tr>\n",
       "      <td>...</td>\n",
       "      <td>...</td>\n",
       "      <td>...</td>\n",
       "      <td>...</td>\n",
       "      <td>...</td>\n",
       "    </tr>\n",
       "    <tr>\n",
       "      <td>152051</td>\n",
       "      <td>thefreepatriot.org</td>\n",
       "      <td>President Donald Trump’s biggest enemies have ...</td>\n",
       "      <td>‘The Resistance’ Reduced to Yelling at Trump R...</td>\n",
       "      <td>fake</td>\n",
       "    </tr>\n",
       "    <tr>\n",
       "      <td>152052</td>\n",
       "      <td>threepercenternation.com</td>\n",
       "      <td>Democratic activist darling of the far left in...</td>\n",
       "      <td>Linda Sarsour: You Have No Right to Tell Us We...</td>\n",
       "      <td>fake</td>\n",
       "    </tr>\n",
       "    <tr>\n",
       "      <td>152053</td>\n",
       "      <td>threepercenternation.com</td>\n",
       "      <td>What would you do if you saw someone choking? ...</td>\n",
       "      <td>Officer Was In Distress, That’s When A Good Sa...</td>\n",
       "      <td>fake</td>\n",
       "    </tr>\n",
       "    <tr>\n",
       "      <td>152054</td>\n",
       "      <td>thenet24h.com</td>\n",
       "      <td>Hollywood Says Goodbye to Showbiz Legend, Best...</td>\n",
       "      <td>Hollywood Says Goodbye to Showbiz Legend, Best...</td>\n",
       "      <td>fake</td>\n",
       "    </tr>\n",
       "    <tr>\n",
       "      <td>152055</td>\n",
       "      <td>theinternetpost.net</td>\n",
       "      <td>One of the world’s most common food ingredient...</td>\n",
       "      <td>THE INTERNET POST</td>\n",
       "      <td>fake</td>\n",
       "    </tr>\n",
       "  </tbody>\n",
       "</table>\n",
       "<p>152055 rows × 4 columns</p>\n",
       "</div>"
      ],
      "text/plain": [
       "                          domain  \\\n",
       "0           bipartisanreport.com   \n",
       "1           bipartisanreport.com   \n",
       "2           bipartisanreport.com   \n",
       "3                breaking911.com   \n",
       "4           bipartisanreport.com   \n",
       "...                          ...   \n",
       "152051        thefreepatriot.org   \n",
       "152052  threepercenternation.com   \n",
       "152053  threepercenternation.com   \n",
       "152054             thenet24h.com   \n",
       "152055       theinternetpost.net   \n",
       "\n",
       "                                                  content  \\\n",
       "0       The website from which you got to this page is...   \n",
       "1       When the news broke that Stephanie Clifford, a...   \n",
       "2       President Trump’s year or so in office has bee...   \n",
       "3       Baltimore — David Thornton was found guilty by...   \n",
       "4       The federal government remained shut down goin...   \n",
       "...                                                   ...   \n",
       "152051  President Donald Trump’s biggest enemies have ...   \n",
       "152052  Democratic activist darling of the far left in...   \n",
       "152053  What would you do if you saw someone choking? ...   \n",
       "152054  Hollywood Says Goodbye to Showbiz Legend, Best...   \n",
       "152055  One of the world’s most common food ingredient...   \n",
       "\n",
       "                                                    title label  \n",
       "0                                        Email Protection  fake  \n",
       "1       ‘Wall St Journal’ Rocks Trump With Friday Shad...  fake  \n",
       "2       John Kelly Is On His Way Out And Ivanka Trump ...  fake  \n",
       "3       Murderer on Parole Receives Maximum Sentence A...  fake  \n",
       "4       NY Times Reveals Why Trump Is Refusing A DACA ...  fake  \n",
       "...                                                   ...   ...  \n",
       "152051  ‘The Resistance’ Reduced to Yelling at Trump R...  fake  \n",
       "152052  Linda Sarsour: You Have No Right to Tell Us We...  fake  \n",
       "152053  Officer Was In Distress, That’s When A Good Sa...  fake  \n",
       "152054  Hollywood Says Goodbye to Showbiz Legend, Best...  fake  \n",
       "152055                                  THE INTERNET POST  fake  \n",
       "\n",
       "[152055 rows x 4 columns]"
      ]
     },
     "execution_count": 8,
     "metadata": {},
     "output_type": "execute_result"
    }
   ],
   "source": [
    "data"
   ]
  },
  {
   "cell_type": "code",
   "execution_count": 9,
   "metadata": {},
   "outputs": [
    {
     "name": "stderr",
     "output_type": "stream",
     "text": [
      "C:\\Users\\shiva\\Anaconda3\\lib\\site-packages\\pandas\\core\\generic.py:6786: SettingWithCopyWarning: \n",
      "A value is trying to be set on a copy of a slice from a DataFrame\n",
      "\n",
      "See the caveats in the documentation: http://pandas.pydata.org/pandas-docs/stable/user_guide/indexing.html#returning-a-view-versus-a-copy\n",
      "  self._update_inplace(new_data)\n"
     ]
    }
   ],
   "source": [
    "data['label'].replace({'fake':0,'reliable':1,'clickbait':0},inplace=True)"
   ]
  },
  {
   "cell_type": "code",
   "execution_count": null,
   "metadata": {},
   "outputs": [],
   "source": []
  },
  {
   "cell_type": "code",
   "execution_count": 10,
   "metadata": {},
   "outputs": [
    {
     "data": {
      "text/plain": [
       "1    96024\n",
       "0    56031\n",
       "Name: label, dtype: int64"
      ]
     },
     "execution_count": 10,
     "metadata": {},
     "output_type": "execute_result"
    }
   ],
   "source": [
    "data['label'].value_counts()"
   ]
  },
  {
   "cell_type": "code",
   "execution_count": 11,
   "metadata": {},
   "outputs": [],
   "source": [
    "data_x=data.iloc[:,0:-1]\n",
    "data_y=data.iloc[:,-1]"
   ]
  },
  {
   "cell_type": "code",
   "execution_count": 12,
   "metadata": {},
   "outputs": [
    {
     "data": {
      "text/html": [
       "<div>\n",
       "<style scoped>\n",
       "    .dataframe tbody tr th:only-of-type {\n",
       "        vertical-align: middle;\n",
       "    }\n",
       "\n",
       "    .dataframe tbody tr th {\n",
       "        vertical-align: top;\n",
       "    }\n",
       "\n",
       "    .dataframe thead th {\n",
       "        text-align: right;\n",
       "    }\n",
       "</style>\n",
       "<table border=\"1\" class=\"dataframe\">\n",
       "  <thead>\n",
       "    <tr style=\"text-align: right;\">\n",
       "      <th></th>\n",
       "      <th>domain</th>\n",
       "      <th>content</th>\n",
       "      <th>title</th>\n",
       "    </tr>\n",
       "  </thead>\n",
       "  <tbody>\n",
       "    <tr>\n",
       "      <td>0</td>\n",
       "      <td>bipartisanreport.com</td>\n",
       "      <td>The website from which you got to this page is...</td>\n",
       "      <td>Email Protection</td>\n",
       "    </tr>\n",
       "    <tr>\n",
       "      <td>1</td>\n",
       "      <td>bipartisanreport.com</td>\n",
       "      <td>When the news broke that Stephanie Clifford, a...</td>\n",
       "      <td>‘Wall St Journal’ Rocks Trump With Friday Shad...</td>\n",
       "    </tr>\n",
       "    <tr>\n",
       "      <td>2</td>\n",
       "      <td>bipartisanreport.com</td>\n",
       "      <td>President Trump’s year or so in office has bee...</td>\n",
       "      <td>John Kelly Is On His Way Out And Ivanka Trump ...</td>\n",
       "    </tr>\n",
       "    <tr>\n",
       "      <td>3</td>\n",
       "      <td>breaking911.com</td>\n",
       "      <td>Baltimore — David Thornton was found guilty by...</td>\n",
       "      <td>Murderer on Parole Receives Maximum Sentence A...</td>\n",
       "    </tr>\n",
       "    <tr>\n",
       "      <td>4</td>\n",
       "      <td>bipartisanreport.com</td>\n",
       "      <td>The federal government remained shut down goin...</td>\n",
       "      <td>NY Times Reveals Why Trump Is Refusing A DACA ...</td>\n",
       "    </tr>\n",
       "    <tr>\n",
       "      <td>...</td>\n",
       "      <td>...</td>\n",
       "      <td>...</td>\n",
       "      <td>...</td>\n",
       "    </tr>\n",
       "    <tr>\n",
       "      <td>152051</td>\n",
       "      <td>thefreepatriot.org</td>\n",
       "      <td>President Donald Trump’s biggest enemies have ...</td>\n",
       "      <td>‘The Resistance’ Reduced to Yelling at Trump R...</td>\n",
       "    </tr>\n",
       "    <tr>\n",
       "      <td>152052</td>\n",
       "      <td>threepercenternation.com</td>\n",
       "      <td>Democratic activist darling of the far left in...</td>\n",
       "      <td>Linda Sarsour: You Have No Right to Tell Us We...</td>\n",
       "    </tr>\n",
       "    <tr>\n",
       "      <td>152053</td>\n",
       "      <td>threepercenternation.com</td>\n",
       "      <td>What would you do if you saw someone choking? ...</td>\n",
       "      <td>Officer Was In Distress, That’s When A Good Sa...</td>\n",
       "    </tr>\n",
       "    <tr>\n",
       "      <td>152054</td>\n",
       "      <td>thenet24h.com</td>\n",
       "      <td>Hollywood Says Goodbye to Showbiz Legend, Best...</td>\n",
       "      <td>Hollywood Says Goodbye to Showbiz Legend, Best...</td>\n",
       "    </tr>\n",
       "    <tr>\n",
       "      <td>152055</td>\n",
       "      <td>theinternetpost.net</td>\n",
       "      <td>One of the world’s most common food ingredient...</td>\n",
       "      <td>THE INTERNET POST</td>\n",
       "    </tr>\n",
       "  </tbody>\n",
       "</table>\n",
       "<p>152055 rows × 3 columns</p>\n",
       "</div>"
      ],
      "text/plain": [
       "                          domain  \\\n",
       "0           bipartisanreport.com   \n",
       "1           bipartisanreport.com   \n",
       "2           bipartisanreport.com   \n",
       "3                breaking911.com   \n",
       "4           bipartisanreport.com   \n",
       "...                          ...   \n",
       "152051        thefreepatriot.org   \n",
       "152052  threepercenternation.com   \n",
       "152053  threepercenternation.com   \n",
       "152054             thenet24h.com   \n",
       "152055       theinternetpost.net   \n",
       "\n",
       "                                                  content  \\\n",
       "0       The website from which you got to this page is...   \n",
       "1       When the news broke that Stephanie Clifford, a...   \n",
       "2       President Trump’s year or so in office has bee...   \n",
       "3       Baltimore — David Thornton was found guilty by...   \n",
       "4       The federal government remained shut down goin...   \n",
       "...                                                   ...   \n",
       "152051  President Donald Trump’s biggest enemies have ...   \n",
       "152052  Democratic activist darling of the far left in...   \n",
       "152053  What would you do if you saw someone choking? ...   \n",
       "152054  Hollywood Says Goodbye to Showbiz Legend, Best...   \n",
       "152055  One of the world’s most common food ingredient...   \n",
       "\n",
       "                                                    title  \n",
       "0                                        Email Protection  \n",
       "1       ‘Wall St Journal’ Rocks Trump With Friday Shad...  \n",
       "2       John Kelly Is On His Way Out And Ivanka Trump ...  \n",
       "3       Murderer on Parole Receives Maximum Sentence A...  \n",
       "4       NY Times Reveals Why Trump Is Refusing A DACA ...  \n",
       "...                                                   ...  \n",
       "152051  ‘The Resistance’ Reduced to Yelling at Trump R...  \n",
       "152052  Linda Sarsour: You Have No Right to Tell Us We...  \n",
       "152053  Officer Was In Distress, That’s When A Good Sa...  \n",
       "152054  Hollywood Says Goodbye to Showbiz Legend, Best...  \n",
       "152055                                  THE INTERNET POST  \n",
       "\n",
       "[152055 rows x 3 columns]"
      ]
     },
     "execution_count": 12,
     "metadata": {},
     "output_type": "execute_result"
    }
   ],
   "source": [
    "data_x"
   ]
  },
  {
   "cell_type": "code",
   "execution_count": 13,
   "metadata": {},
   "outputs": [
    {
     "name": "stdout",
     "output_type": "stream",
     "text": [
      "(121644, 3)\n",
      "(30411, 3)\n",
      "Final size of train/test :  (121644, 3) / (30411, 3)\n"
     ]
    }
   ],
   "source": [
    "from sklearn.model_selection import train_test_split\n",
    "\n",
    "data_train_x, data_test_x, data_train_y, data_test_y = train_test_split(data_x,data_y,test_size=0.2,random_state=12)\n",
    "print(data_train_x.shape)\n",
    "print(data_test_x.shape)\n",
    "\n",
    "# mega_test_x : Final testing file with statements\n",
    "# mega_test_y : Final testing file with ratings\n",
    "\n",
    "print(\"Final size of train/test : \",data_train_x.shape,\"/\",data_test_x.shape)"
   ]
  },
  {
   "cell_type": "code",
   "execution_count": 14,
   "metadata": {},
   "outputs": [
    {
     "name": "stderr",
     "output_type": "stream",
     "text": [
      "Using TensorFlow backend.\n"
     ]
    }
   ],
   "source": [
    "import tensorflow\n",
    "import pandas as pd\n",
    "import keras\n",
    "from keras.preprocessing.text import Tokenizer\n",
    "from keras.preprocessing.sequence import pad_sequences\n",
    "import numpy as np\n",
    "from keras.models import Model\n",
    "from keras import layers\n",
    "import time\n",
    "from keras.models import load_model\n",
    "from keras.layers import Dropout\n",
    "from keras.regularizers import l2\n"
   ]
  },
  {
   "cell_type": "code",
   "execution_count": 15,
   "metadata": {},
   "outputs": [],
   "source": [
    "#finding the vocab(dictionary) size\n",
    "\n",
    "def dic_size(data_train):\n",
    "    tokenizer = Tokenizer()#this is the dictionary that is built , no memory error here\n",
    "    tokenizer.fit_on_texts(data_train)\n",
    "    vocab_size = len(tokenizer.word_index) + 1  # Adding 1 because of reserved 0 index\n",
    "    print(vocab_size)\n",
    "    return vocab_size  "
   ]
  },
  {
   "cell_type": "code",
   "execution_count": 16,
   "metadata": {},
   "outputs": [
    {
     "data": {
      "text/plain": [
       "Index(['domain', 'content', 'title', 'label'], dtype='object')"
      ]
     },
     "execution_count": 16,
     "metadata": {},
     "output_type": "execute_result"
    }
   ],
   "source": [
    "data.columns"
   ]
  },
  {
   "cell_type": "code",
   "execution_count": 17,
   "metadata": {},
   "outputs": [
    {
     "name": "stdout",
     "output_type": "stream",
     "text": [
      "185\n",
      "576687\n",
      "76642\n",
      "vocab_size 576687\n"
     ]
    }
   ],
   "source": [
    "v1=dic_size(data_train_x.domain)\n",
    "v2=dic_size(data_train_x.content)\n",
    "v3=dic_size(data_train_x.title)\n",
    "\n",
    "vocab_size=max(v1,v2,v3)\n",
    "print('vocab_size',vocab_size)"
   ]
  },
  {
   "cell_type": "code",
   "execution_count": 18,
   "metadata": {},
   "outputs": [],
   "source": [
    "def max_len(data):\n",
    "    maxlen=0\n",
    "    for i in data:\n",
    "        if(len(i)>maxlen):\n",
    "            maxlen=len(i)\n",
    "    print(maxlen)\n",
    "    return maxlen"
   ]
  },
  {
   "cell_type": "code",
   "execution_count": null,
   "metadata": {},
   "outputs": [],
   "source": []
  },
  {
   "cell_type": "code",
   "execution_count": 19,
   "metadata": {},
   "outputs": [],
   "source": [
    "from keras.preprocessing.text import Tokenizer\n",
    "def tokenize(train_data,test_data):\n",
    "    tokenizer = Tokenizer()\n",
    "    tokenizer.fit_on_texts(train_data)\n",
    "    em_data_train = tokenizer.texts_to_sequences(train_data)\n",
    "    em_data_test= tokenizer.texts_to_sequences(test_data)\n",
    "    \n",
    "    return em_data_train,em_data_test\n"
   ]
  },
  {
   "cell_type": "code",
   "execution_count": 20,
   "metadata": {},
   "outputs": [],
   "source": [
    "from keras.preprocessing.sequence import pad_sequences\n",
    "\n",
    "def padding(token_train_data,token_test_data,maxlen):\n",
    "    em_data_train_pad= pad_sequences(token_train_data, padding='post', maxlen=maxlen)\n",
    "    em_data_test_pad= pad_sequences(token_test_data, padding='post', maxlen=maxlen)\n",
    "    return em_data_train_pad,em_data_test_pad"
   ]
  },
  {
   "cell_type": "code",
   "execution_count": 24,
   "metadata": {},
   "outputs": [],
   "source": [
    "em_data_train_domain,em_data_test_domain=tokenize(data_train_x.domain,data_test_x.domain)\n",
    "em_data_train_content,em_data_test_content=tokenize(data_train_x.content,data_test_x.content)\n",
    "em_data_train_title,em_data_test_title=tokenize(data_train_x.title,data_test_x.title)\n"
   ]
  },
  {
   "cell_type": "code",
   "execution_count": 25,
   "metadata": {},
   "outputs": [
    {
     "name": "stdout",
     "output_type": "stream",
     "text": [
      "4\n",
      "33402\n",
      "116\n",
      "maxlen 33402\n"
     ]
    }
   ],
   "source": [
    "m1=max_len(em_data_train_domain)\n",
    "m2=max_len(em_data_train_content)\n",
    "m3=max_len(em_data_train_title)\n",
    "\n",
    "maxlen=max(m1,m2,m3)\n",
    "print('maxlen',maxlen)"
   ]
  },
  {
   "cell_type": "code",
   "execution_count": 26,
   "metadata": {},
   "outputs": [],
   "source": [
    "import gc"
   ]
  },
  {
   "cell_type": "code",
   "execution_count": 27,
   "metadata": {},
   "outputs": [
    {
     "data": {
      "text/plain": [
       "60"
      ]
     },
     "execution_count": 27,
     "metadata": {},
     "output_type": "execute_result"
    }
   ],
   "source": [
    "gc.collect()"
   ]
  },
  {
   "cell_type": "code",
   "execution_count": null,
   "metadata": {},
   "outputs": [],
   "source": [
    "\n"
   ]
  },
  {
   "cell_type": "code",
   "execution_count": 28,
   "metadata": {},
   "outputs": [],
   "source": [
    "from keras.layers import Embedding\n",
    "from keras.layers import concatenate\n",
    "from keras.layers import Flatten\n",
    "from keras.layers import Input, Dense\n",
    "from keras.models import Model\n",
    "from keras.layers import GlobalMaxPool1D"
   ]
  },
  {
   "cell_type": "code",
   "execution_count": 28,
   "metadata": {},
   "outputs": [],
   "source": [
    "def trainmodel(train_domain,train_content,train_title,train_y):\n",
    "    print('loading model')\n",
    "    #model=load_model('model.h5')\n",
    "    print('model loaded')\n",
    "    print('Running tokpad')\n",
    "   \n",
    "    print('Tokpad is done')\n",
    "    print('Start training')\n",
    "    model.compile(optimizer='adam',loss='binary_crossentropy',metrics=['accuracy'])\n",
    "    h=model.fit({'domain_in': train_domain, 'content_in': train_content, 'title_in':train_title},{'op': train_y},epochs=10, batch_size=10)\n",
    "    print('Fitting is done')\n",
    "    print('saving the model')\n",
    "    model.save(\"model.h5\")\n",
    "    print('model is saved')\n",
    "    print(\"Cleaning Ram\")\n",
    "    gc.collect()"
   ]
  },
  {
   "cell_type": "code",
   "execution_count": 29,
   "metadata": {},
   "outputs": [],
   "source": [
    "def trainmodel1(train_domain,train_content,train_title,train_y):\n",
    "    print('loading model')\n",
    "    model=load_model('model.h5')\n",
    "    print('model loaded')\n",
    "    print('Running tokpad')\n",
    "   \n",
    "    print('Tokpad is done')\n",
    "    print('Start training')\n",
    "    model.compile(optimizer='adam',loss='binary_crossentropy',metrics=['accuracy'])\n",
    "    h=model.fit({'domain_in': train_domain, 'content_in': train_content, 'title_in':train_title},{'op': train_y},epochs=10, batch_size=10)\n",
    "    print('Fitting is done')\n",
    "    print('saving the model')\n",
    "    model.save(\"model.h5\")\n",
    "    print('model is saved')\n",
    "    print(\"Cleaning Ram\")\n",
    "    gc.collect()"
   ]
  },
  {
   "cell_type": "code",
   "execution_count": 30,
   "metadata": {},
   "outputs": [],
   "source": [
    "def modelconst():\n",
    "    embedding_dim = 25\n",
    "    h1=int(2/3*75)\n",
    "    h2=int(2/3*h1)\n",
    "    print(h1,h2)\n",
    "\n",
    "    domain_in = Input(shape=(4,), name='domain_in')\n",
    "    content_in = Input(shape=(33402,), name='content_in')\n",
    "    title_in = Input(shape=(116,), name='title_in')\n",
    "\n",
    "\n",
    "    domain_embed = Embedding(output_dim=embedding_dim, input_dim=576687, input_length=4)(domain_in)\n",
    "    content_embed = Embedding(output_dim=embedding_dim, input_dim=576687, input_length=33402)(content_in)\n",
    "    title_embed = Embedding(output_dim=embedding_dim, input_dim=576687, input_length=116)(title_in)\n",
    "\n",
    "    domain_pool = GlobalMaxPool1D()(domain_embed)\n",
    "    content_pool = GlobalMaxPool1D()(content_embed)\n",
    "    title_pool = GlobalMaxPool1D()(title_embed)\n",
    "\n",
    "    all_d = concatenate([domain_pool, content_pool,title_pool])\n",
    "\n",
    "    d1 = Dense(h1, activation='relu',kernel_regularizer=l2(0.01), bias_regularizer=l2(0.01))(all_d)\n",
    "    d2 = Dense(h2, activation='relu',kernel_regularizer=l2(0.01), bias_regularizer=l2(0.01))(d1)\n",
    "\n",
    "    op = Dense(1, activation='sigmoid', name='op')(d2)\n",
    "\n",
    "\n",
    "\n",
    "\n",
    "    model = Model(inputs=[domain_in,content_in,title_in], outputs=[op])\n",
    "\n",
    "    model.summary()"
   ]
  },
  {
   "cell_type": "code",
   "execution_count": 32,
   "metadata": {},
   "outputs": [],
   "source": [
    "#em_data_test_paddomain= pad_sequences(em_data_test_domain, padding='post', maxlen=4)"
   ]
  },
  {
   "cell_type": "code",
   "execution_count": 51,
   "metadata": {},
   "outputs": [
    {
     "data": {
      "text/plain": [
       "121644"
      ]
     },
     "execution_count": 51,
     "metadata": {},
     "output_type": "execute_result"
    }
   ],
   "source": [
    "em_data_test_paddomain.size"
   ]
  },
  {
   "cell_type": "code",
   "execution_count": 45,
   "metadata": {},
   "outputs": [],
   "source": []
  },
  {
   "cell_type": "code",
   "execution_count": 56,
   "metadata": {},
   "outputs": [
    {
     "data": {
      "text/plain": [
       "1000"
      ]
     },
     "execution_count": 56,
     "metadata": {},
     "output_type": "execute_result"
    }
   ],
   "source": []
  },
  {
   "cell_type": "code",
   "execution_count": null,
   "metadata": {},
   "outputs": [],
   "source": []
  },
  {
   "cell_type": "code",
   "execution_count": 53,
   "metadata": {},
   "outputs": [
    {
     "data": {
      "text/plain": [
       "33402000"
      ]
     },
     "execution_count": 53,
     "metadata": {},
     "output_type": "execute_result"
    }
   ],
   "source": [
    "em_data_test_padcontent.size"
   ]
  },
  {
   "cell_type": "code",
   "execution_count": 76,
   "metadata": {},
   "outputs": [],
   "source": [
    "em_data_train_paddomain,em_data_test_paddomain=padding(em_data_train_domain[0:1000],em_data_test_domain[0:30411],4)\n",
    "em_data_train_padcontent,em_data_test_padcontent=padding(em_data_train_content[0:1000],em_data_test_content[0:30411],33402)\n",
    "em_data_train_padtitle,em_data_test_padtitle=padding(em_data_train_title[0:1000],em_data_test_title[0:30411],116)"
   ]
  },
  {
   "cell_type": "code",
   "execution_count": 75,
   "metadata": {},
   "outputs": [
    {
     "data": {
      "text/plain": [
       "30000"
      ]
     },
     "execution_count": 75,
     "metadata": {},
     "output_type": "execute_result"
    }
   ],
   "source": [
    "len(em_data_test_padtitle)"
   ]
  },
  {
   "cell_type": "code",
   "execution_count": 39,
   "metadata": {},
   "outputs": [],
   "source": [
    "def traindata(em_data_train_domain,em_data_test_domain,em_data_train_content,em_data_test_content,em_data_train_title,em_data_test_title,data_train_y):\n",
    "    \n",
    "    em_data_train_paddomain,em_data_test_paddomain=padding(em_data_train_domain,em_data_test_domain,4)\n",
    "    em_data_train_padcontent,em_data_test_padcontent=padding(em_data_train_content,em_data_test_content,33402)\n",
    "    em_data_train_padtitle,em_data_test_padtitle=padding(em_data_train_title,em_data_test_title,116)\n",
    "    \n",
    "    \n",
    "    trainmodel(em_data_train_paddomain,em_data_train_padcontent,em_data_train_padtitle,data_train_y)\n",
    "\n",
    "    "
   ]
  },
  {
   "cell_type": "code",
   "execution_count": 53,
   "metadata": {
    "scrolled": true
   },
   "outputs": [
    {
     "name": "stdout",
     "output_type": "stream",
     "text": [
      "loading model\n",
      "model loaded\n",
      "Running tokpad\n",
      "Tokpad is done\n",
      "Start training\n"
     ]
    },
    {
     "name": "stderr",
     "output_type": "stream",
     "text": [
      "C:\\Users\\3 idiots\\Anaconda3\\lib\\site-packages\\tensorflow_core\\python\\framework\\indexed_slices.py:433: UserWarning:\n",
      "\n",
      "Converting sparse IndexedSlices to a dense Tensor of unknown shape. This may consume a large amount of memory.\n",
      "\n"
     ]
    },
    {
     "name": "stdout",
     "output_type": "stream",
     "text": [
      "Epoch 1/10\n",
      "10000/10000 [==============================] - 849s 85ms/step - loss: 0.2481 - accuracy: 0.9543\n",
      "Epoch 2/10\n",
      "10000/10000 [==============================] - 790s 79ms/step - loss: 0.0424 - accuracy: 0.9993\n",
      "Epoch 3/10\n",
      " 6280/10000 [=================>............] - ETA: 4:53 - loss: 0.0291 - accuracy: 0.9997Executing shutdown due to inactivity...\n"
     ]
    },
    {
     "name": "stderr",
     "output_type": "stream",
     "text": [
      "2020-03-12 16:19:07,004 - INFO     - Executing shutdown due to inactivity...\n"
     ]
    },
    {
     "name": "stdout",
     "output_type": "stream",
     "text": [
      " 6300/10000 [=================>............] - ETA: 4:51 - loss: 0.0290 - accuracy: 0.9997Executing shutdown...\n"
     ]
    },
    {
     "name": "stderr",
     "output_type": "stream",
     "text": [
      "2020-03-12 16:19:08,605 - INFO     - Executing shutdown...\n"
     ]
    },
    {
     "name": "stdout",
     "output_type": "stream",
     "text": [
      "10000/10000 [==============================] - 789s 79ms/step - loss: 0.0272 - accuracy: 0.9997\n",
      "Epoch 4/10\n",
      "10000/10000 [==============================] - 787s 79ms/step - loss: 0.0203 - accuracy: 1.0000\n",
      "Epoch 5/10\n",
      "10000/10000 [==============================] - 788s 79ms/step - loss: 0.0157 - accuracy: 0.9999\n",
      "Epoch 6/10\n",
      "10000/10000 [==============================] - 787s 79ms/step - loss: 0.0127 - accuracy: 1.0000\n",
      "Epoch 7/10\n",
      "10000/10000 [==============================] - 787s 79ms/step - loss: 0.0106 - accuracy: 0.9999\n",
      "Epoch 8/10\n",
      "10000/10000 [==============================] - 787s 79ms/step - loss: 0.0089 - accuracy: 1.0000\n",
      "Epoch 9/10\n",
      "10000/10000 [==============================] - 794s 79ms/step - loss: 0.0075 - accuracy: 1.0000\n",
      "Epoch 10/10\n",
      "10000/10000 [==============================] - 792s 79ms/step - loss: 0.0063 - accuracy: 1.0000\n",
      "Fitting is done\n",
      "saving the model\n",
      "model is saved\n",
      "Cleaning Ram\n"
     ]
    }
   ],
   "source": [
    "traindata(em_data_train_domain[:10000],em_data_test_domain[:10000],em_data_train_content[:10000],em_data_test_content[:10000],em_data_train_title[:10000],em_data_test_title[:10000],data_train_y[0:10000])"
   ]
  },
  {
   "cell_type": "code",
   "execution_count": 33,
   "metadata": {},
   "outputs": [],
   "source": [
    "def traindata1(em_data_train_domain,em_data_test_domain,em_data_train_content,em_data_test_content,em_data_train_title,em_data_test_title,data_train_y):\n",
    "    em_data_train_paddomain,em_data_test_paddomain=padding(em_data_train_domain,em_data_test_domain,4)\n",
    "    em_data_train_padcontent,em_data_test_padcontent=padding(em_data_train_content,em_data_test_content,33402)\n",
    "    em_data_train_padtitle,em_data_test_padtitle=padding(em_data_train_title,em_data_test_title,116)\n",
    "    \n",
    "    \n",
    "    \n",
    "    trainmodel1(em_data_train_paddomain,em_data_train_padcontent,em_data_train_padtitle,data_train_y)\n",
    "\n",
    "    \n",
    "\n"
   ]
  },
  {
   "cell_type": "code",
   "execution_count": 34,
   "metadata": {},
   "outputs": [],
   "source": [
    "def modelconst():\n",
    "    embedding_dim = 25\n",
    "    h1=int(2/3*75)\n",
    "    h2=int(2/3*h1)\n",
    "    print(h1,h2)\n",
    "\n",
    "    domain_in = Input(shape=(4,), name='domain_in')\n",
    "    content_in = Input(shape=(33402,), name='content_in')\n",
    "    title_in = Input(shape=(116,), name='title_in')\n",
    "\n",
    "\n",
    "    domain_embed = Embedding(output_dim=embedding_dim, input_dim=576687, input_length=4)(domain_in)\n",
    "    content_embed = Embedding(output_dim=embedding_dim, input_dim=576687, input_length=33402)(content_in)\n",
    "    title_embed = Embedding(output_dim=embedding_dim, input_dim=576687, input_length=116)(title_in)\n",
    "\n",
    "    domain_pool = GlobalMaxPool1D()(domain_embed)\n",
    "    content_pool = GlobalMaxPool1D()(content_embed)\n",
    "    title_pool = GlobalMaxPool1D()(title_embed)\n",
    "\n",
    "    all_d = concatenate([domain_pool, content_pool,title_pool])\n",
    "\n",
    "    d1 = Dense(h1, activation='relu',kernel_regularizer=l2(0.01), bias_regularizer=l2(0.01))(all_d)\n",
    "    d2 = Dense(h2, activation='relu',kernel_regularizer=l2(0.01), bias_regularizer=l2(0.01))(d1)\n",
    "\n",
    "    op = Dense(1, activation='sigmoid', name='op')(d2)\n",
    "\n",
    "\n",
    "\n",
    "\n",
    "    model = Model(inputs=[domain_in,content_in,title_in], outputs=[op])\n",
    "\n",
    "    model.summary()"
   ]
  },
  {
   "cell_type": "code",
   "execution_count": 57,
   "metadata": {},
   "outputs": [
    {
     "name": "stdout",
     "output_type": "stream",
     "text": [
      "50 33\n",
      "Model: \"model_7\"\n",
      "__________________________________________________________________________________________________\n",
      "Layer (type)                    Output Shape         Param #     Connected to                     \n",
      "==================================================================================================\n",
      "domain_in (InputLayer)          (None, 4)            0                                            \n",
      "__________________________________________________________________________________________________\n",
      "content_in (InputLayer)         (None, 33402)        0                                            \n",
      "__________________________________________________________________________________________________\n",
      "title_in (InputLayer)           (None, 116)          0                                            \n",
      "__________________________________________________________________________________________________\n",
      "embedding_19 (Embedding)        (None, 4, 25)        14417175    domain_in[0][0]                  \n",
      "__________________________________________________________________________________________________\n",
      "embedding_20 (Embedding)        (None, 33402, 25)    14417175    content_in[0][0]                 \n",
      "__________________________________________________________________________________________________\n",
      "embedding_21 (Embedding)        (None, 116, 25)      14417175    title_in[0][0]                   \n",
      "__________________________________________________________________________________________________\n",
      "global_max_pooling1d_19 (Global (None, 25)           0           embedding_19[0][0]               \n",
      "__________________________________________________________________________________________________\n",
      "global_max_pooling1d_20 (Global (None, 25)           0           embedding_20[0][0]               \n",
      "__________________________________________________________________________________________________\n",
      "global_max_pooling1d_21 (Global (None, 25)           0           embedding_21[0][0]               \n",
      "__________________________________________________________________________________________________\n",
      "concatenate_7 (Concatenate)     (None, 75)           0           global_max_pooling1d_19[0][0]    \n",
      "                                                                 global_max_pooling1d_20[0][0]    \n",
      "                                                                 global_max_pooling1d_21[0][0]    \n",
      "__________________________________________________________________________________________________\n",
      "dense_13 (Dense)                (None, 50)           3800        concatenate_7[0][0]              \n",
      "__________________________________________________________________________________________________\n",
      "dense_14 (Dense)                (None, 33)           1683        dense_13[0][0]                   \n",
      "__________________________________________________________________________________________________\n",
      "op (Dense)                      (None, 1)            34          dense_14[0][0]                   \n",
      "==================================================================================================\n",
      "Total params: 43,257,042\n",
      "Trainable params: 43,257,042\n",
      "Non-trainable params: 0\n",
      "__________________________________________________________________________________________________\n",
      "loading model\n"
     ]
    },
    {
     "name": "stderr",
     "output_type": "stream",
     "text": [
      "C:\\Users\\3 idiots\\Anaconda3\\lib\\site-packages\\tensorflow_core\\python\\framework\\indexed_slices.py:433: UserWarning:\n",
      "\n",
      "Converting sparse IndexedSlices to a dense Tensor of unknown shape. This may consume a large amount of memory.\n",
      "\n"
     ]
    },
    {
     "name": "stdout",
     "output_type": "stream",
     "text": [
      "model loaded\n",
      "Running tokpad\n",
      "Tokpad is done\n",
      "Start training\n",
      "Epoch 1/10\n",
      "10000/10000 [==============================] - 786s 79ms/step - loss: 0.0064 - accuracy: 0.9999\n",
      "Epoch 2/10\n",
      "10000/10000 [==============================] - 786s 79ms/step - loss: 0.0055 - accuracy: 0.9998\n",
      "Epoch 3/10\n",
      "10000/10000 [==============================] - 781s 78ms/step - loss: 0.0053 - accuracy: 0.9996\n",
      "Epoch 4/10\n",
      "10000/10000 [==============================] - 780s 78ms/step - loss: 0.0041 - accuracy: 1.0000\n",
      "Epoch 5/10\n",
      "10000/10000 [==============================] - 780s 78ms/step - loss: 0.0043 - accuracy: 0.9998\n",
      "Epoch 6/10\n",
      "10000/10000 [==============================] - 781s 78ms/step - loss: 0.0036 - accuracy: 1.0000\n",
      "Epoch 7/10\n",
      "10000/10000 [==============================] - 784s 78ms/step - loss: 0.0035 - accuracy: 0.9999\n",
      "Epoch 8/10\n",
      "10000/10000 [==============================] - 782s 78ms/step - loss: 0.0031 - accuracy: 1.0000\n",
      "Epoch 9/10\n",
      "10000/10000 [==============================] - 782s 78ms/step - loss: 0.0028 - accuracy: 1.0000\n",
      "Epoch 10/10\n",
      "10000/10000 [==============================] - 781s 78ms/step - loss: 0.0030 - accuracy: 0.9998\n",
      "Fitting is done\n",
      "saving the model\n",
      "model is saved\n",
      "Cleaning Ram\n"
     ]
    }
   ],
   "source": [
    "modelconst()\n",
    "traindata1(em_data_train_domain[10000:20000],em_data_test_domain[10000:20000],em_data_train_content[10000:20000],em_data_test_content[10000:20000],em_data_train_title[10000:20000],em_data_test_title[10000:20000],data_train_y[10000:20000])"
   ]
  },
  {
   "cell_type": "code",
   "execution_count": 58,
   "metadata": {},
   "outputs": [
    {
     "name": "stdout",
     "output_type": "stream",
     "text": [
      "50 33\n",
      "Model: \"model_8\"\n",
      "__________________________________________________________________________________________________\n",
      "Layer (type)                    Output Shape         Param #     Connected to                     \n",
      "==================================================================================================\n",
      "domain_in (InputLayer)          (None, 4)            0                                            \n",
      "__________________________________________________________________________________________________\n",
      "content_in (InputLayer)         (None, 33402)        0                                            \n",
      "__________________________________________________________________________________________________\n",
      "title_in (InputLayer)           (None, 116)          0                                            \n",
      "__________________________________________________________________________________________________\n",
      "embedding_22 (Embedding)        (None, 4, 25)        14417175    domain_in[0][0]                  \n",
      "__________________________________________________________________________________________________\n",
      "embedding_23 (Embedding)        (None, 33402, 25)    14417175    content_in[0][0]                 \n",
      "__________________________________________________________________________________________________\n",
      "embedding_24 (Embedding)        (None, 116, 25)      14417175    title_in[0][0]                   \n",
      "__________________________________________________________________________________________________\n",
      "global_max_pooling1d_22 (Global (None, 25)           0           embedding_22[0][0]               \n",
      "__________________________________________________________________________________________________\n",
      "global_max_pooling1d_23 (Global (None, 25)           0           embedding_23[0][0]               \n",
      "__________________________________________________________________________________________________\n",
      "global_max_pooling1d_24 (Global (None, 25)           0           embedding_24[0][0]               \n",
      "__________________________________________________________________________________________________\n",
      "concatenate_8 (Concatenate)     (None, 75)           0           global_max_pooling1d_22[0][0]    \n",
      "                                                                 global_max_pooling1d_23[0][0]    \n",
      "                                                                 global_max_pooling1d_24[0][0]    \n",
      "__________________________________________________________________________________________________\n",
      "dense_15 (Dense)                (None, 50)           3800        concatenate_8[0][0]              \n",
      "__________________________________________________________________________________________________\n",
      "dense_16 (Dense)                (None, 33)           1683        dense_15[0][0]                   \n",
      "__________________________________________________________________________________________________\n",
      "op (Dense)                      (None, 1)            34          dense_16[0][0]                   \n",
      "==================================================================================================\n",
      "Total params: 43,257,042\n",
      "Trainable params: 43,257,042\n",
      "Non-trainable params: 0\n",
      "__________________________________________________________________________________________________\n",
      "loading model\n",
      "model loaded\n",
      "Running tokpad\n",
      "Tokpad is done\n",
      "Start training\n",
      "Epoch 1/10\n",
      "10000/10000 [==============================] - 789s 79ms/step - loss: 0.0031 - accuracy: 0.9998\n",
      "Epoch 2/10\n",
      "10000/10000 [==============================] - 786s 79ms/step - loss: 0.0029 - accuracy: 0.9999\n",
      "Epoch 3/10\n",
      "10000/10000 [==============================] - 787s 79ms/step - loss: 0.0025 - accuracy: 1.0000\n",
      "Epoch 4/10\n",
      "10000/10000 [==============================] - 789s 79ms/step - loss: 0.0028 - accuracy: 0.9998\n",
      "Epoch 5/10\n",
      "10000/10000 [==============================] - 786s 79ms/step - loss: 0.0021 - accuracy: 1.0000\n",
      "Epoch 6/10\n",
      "10000/10000 [==============================] - 784s 78ms/step - loss: 0.0023 - accuracy: 1.0000\n",
      "Epoch 7/10\n",
      "10000/10000 [==============================] - 788s 79ms/step - loss: 0.0020 - accuracy: 1.0000\n",
      "Epoch 8/10\n",
      "10000/10000 [==============================] - 791s 79ms/step - loss: 0.0020 - accuracy: 1.0000\n",
      "Epoch 9/10\n",
      "10000/10000 [==============================] - 798s 80ms/step - loss: 0.0027 - accuracy: 0.9998\n",
      "Epoch 10/10\n",
      "10000/10000 [==============================] - 1020s 102ms/step - loss: 0.0017 - accuracy: 1.0000\n",
      "Fitting is done\n",
      "saving the model\n",
      "model is saved\n",
      "Cleaning Ram\n"
     ]
    }
   ],
   "source": [
    "modelconst()\n",
    "traindata1(em_data_train_domain[20000:30000],em_data_test_domain[20000:30000],em_data_train_content[20000:30000],em_data_test_content[20000:30000],em_data_train_title[20000:30000],em_data_test_title[20000:30000],data_train_y[20000:30000])"
   ]
  },
  {
   "cell_type": "code",
   "execution_count": 59,
   "metadata": {},
   "outputs": [
    {
     "name": "stdout",
     "output_type": "stream",
     "text": [
      "50 33\n",
      "Model: \"model_9\"\n",
      "__________________________________________________________________________________________________\n",
      "Layer (type)                    Output Shape         Param #     Connected to                     \n",
      "==================================================================================================\n",
      "domain_in (InputLayer)          (None, 4)            0                                            \n",
      "__________________________________________________________________________________________________\n",
      "content_in (InputLayer)         (None, 33402)        0                                            \n",
      "__________________________________________________________________________________________________\n",
      "title_in (InputLayer)           (None, 116)          0                                            \n",
      "__________________________________________________________________________________________________\n",
      "embedding_25 (Embedding)        (None, 4, 25)        14417175    domain_in[0][0]                  \n",
      "__________________________________________________________________________________________________\n",
      "embedding_26 (Embedding)        (None, 33402, 25)    14417175    content_in[0][0]                 \n",
      "__________________________________________________________________________________________________\n",
      "embedding_27 (Embedding)        (None, 116, 25)      14417175    title_in[0][0]                   \n",
      "__________________________________________________________________________________________________\n",
      "global_max_pooling1d_25 (Global (None, 25)           0           embedding_25[0][0]               \n",
      "__________________________________________________________________________________________________\n",
      "global_max_pooling1d_26 (Global (None, 25)           0           embedding_26[0][0]               \n",
      "__________________________________________________________________________________________________\n",
      "global_max_pooling1d_27 (Global (None, 25)           0           embedding_27[0][0]               \n",
      "__________________________________________________________________________________________________\n",
      "concatenate_9 (Concatenate)     (None, 75)           0           global_max_pooling1d_25[0][0]    \n",
      "                                                                 global_max_pooling1d_26[0][0]    \n",
      "                                                                 global_max_pooling1d_27[0][0]    \n",
      "__________________________________________________________________________________________________\n",
      "dense_17 (Dense)                (None, 50)           3800        concatenate_9[0][0]              \n",
      "__________________________________________________________________________________________________\n",
      "dense_18 (Dense)                (None, 33)           1683        dense_17[0][0]                   \n",
      "__________________________________________________________________________________________________\n",
      "op (Dense)                      (None, 1)            34          dense_18[0][0]                   \n",
      "==================================================================================================\n",
      "Total params: 43,257,042\n",
      "Trainable params: 43,257,042\n",
      "Non-trainable params: 0\n",
      "__________________________________________________________________________________________________\n",
      "loading model\n",
      "model loaded\n",
      "Running tokpad\n",
      "Tokpad is done\n",
      "Start training\n",
      "Epoch 1/10\n",
      "10000/10000 [==============================] - 891s 89ms/step - loss: 0.0019 - accuracy: 0.9999\n",
      "Epoch 2/10\n",
      "10000/10000 [==============================] - 781s 78ms/step - loss: 0.0025 - accuracy: 0.9998\n",
      "Epoch 3/10\n",
      "10000/10000 [==============================] - 779s 78ms/step - loss: 0.0025 - accuracy: 0.9998\n",
      "Epoch 4/10\n",
      "10000/10000 [==============================] - 780s 78ms/step - loss: 0.0015 - accuracy: 1.0000\n",
      "Epoch 5/10\n",
      "10000/10000 [==============================] - 781s 78ms/step - loss: 0.0018 - accuracy: 0.9999\n",
      "Epoch 6/10\n",
      "10000/10000 [==============================] - 780s 78ms/step - loss: 0.0015 - accuracy: 1.0000\n",
      "Epoch 7/10\n",
      "10000/10000 [==============================] - 780s 78ms/step - loss: 0.0014 - accuracy: 1.0000\n",
      "Epoch 8/10\n",
      "10000/10000 [==============================] - 781s 78ms/step - loss: 0.0019 - accuracy: 1.0000\n",
      "Epoch 9/10\n",
      "10000/10000 [==============================] - 783s 78ms/step - loss: 0.0017 - accuracy: 1.0000\n",
      "Epoch 10/10\n",
      "10000/10000 [==============================] - 781s 78ms/step - loss: 0.0012 - accuracy: 1.0000\n",
      "Fitting is done\n",
      "saving the model\n",
      "model is saved\n",
      "Cleaning Ram\n"
     ]
    }
   ],
   "source": [
    "modelconst()\n",
    "traindata1(em_data_train_domain[30000:40000],em_data_test_domain[30000:40000],em_data_train_content[30000:40000],em_data_test_content[30000:40000],em_data_train_title[30000:40000],em_data_test_title[30000:40000],data_train_y[30000:40000])"
   ]
  },
  {
   "cell_type": "code",
   "execution_count": 34,
   "metadata": {},
   "outputs": [
    {
     "name": "stdout",
     "output_type": "stream",
     "text": [
      "50 33\n",
      "Model: \"model_2\"\n",
      "__________________________________________________________________________________________________\n",
      "Layer (type)                    Output Shape         Param #     Connected to                     \n",
      "==================================================================================================\n",
      "domain_in (InputLayer)          (None, 4)            0                                            \n",
      "__________________________________________________________________________________________________\n",
      "content_in (InputLayer)         (None, 33402)        0                                            \n",
      "__________________________________________________________________________________________________\n",
      "title_in (InputLayer)           (None, 116)          0                                            \n",
      "__________________________________________________________________________________________________\n",
      "embedding_4 (Embedding)         (None, 4, 25)        14417175    domain_in[0][0]                  \n",
      "__________________________________________________________________________________________________\n",
      "embedding_5 (Embedding)         (None, 33402, 25)    14417175    content_in[0][0]                 \n",
      "__________________________________________________________________________________________________\n",
      "embedding_6 (Embedding)         (None, 116, 25)      14417175    title_in[0][0]                   \n",
      "__________________________________________________________________________________________________\n",
      "global_max_pooling1d_4 (GlobalM (None, 25)           0           embedding_4[0][0]                \n",
      "__________________________________________________________________________________________________\n",
      "global_max_pooling1d_5 (GlobalM (None, 25)           0           embedding_5[0][0]                \n",
      "__________________________________________________________________________________________________\n",
      "global_max_pooling1d_6 (GlobalM (None, 25)           0           embedding_6[0][0]                \n",
      "__________________________________________________________________________________________________\n",
      "concatenate_2 (Concatenate)     (None, 75)           0           global_max_pooling1d_4[0][0]     \n",
      "                                                                 global_max_pooling1d_5[0][0]     \n",
      "                                                                 global_max_pooling1d_6[0][0]     \n",
      "__________________________________________________________________________________________________\n",
      "dense_3 (Dense)                 (None, 50)           3800        concatenate_2[0][0]              \n",
      "__________________________________________________________________________________________________\n",
      "dense_4 (Dense)                 (None, 33)           1683        dense_3[0][0]                    \n",
      "__________________________________________________________________________________________________\n",
      "op (Dense)                      (None, 1)            34          dense_4[0][0]                    \n",
      "==================================================================================================\n",
      "Total params: 43,257,042\n",
      "Trainable params: 43,257,042\n",
      "Non-trainable params: 0\n",
      "__________________________________________________________________________________________________\n",
      "loading model\n"
     ]
    },
    {
     "name": "stderr",
     "output_type": "stream",
     "text": [
      "C:\\Users\\3 idiots\\Anaconda3\\lib\\site-packages\\tensorflow_core\\python\\framework\\indexed_slices.py:433: UserWarning:\n",
      "\n",
      "Converting sparse IndexedSlices to a dense Tensor of unknown shape. This may consume a large amount of memory.\n",
      "\n"
     ]
    },
    {
     "name": "stdout",
     "output_type": "stream",
     "text": [
      "model loaded\n",
      "Running tokpad\n",
      "Tokpad is done\n",
      "Start training\n",
      "Epoch 1/10\n",
      "10000/10000 [==============================] - 786s 79ms/step - loss: 0.0018 - accuracy: 0.9999\n",
      "Epoch 2/10\n",
      "10000/10000 [==============================] - 781s 78ms/step - loss: 0.0012 - accuracy: 1.0000\n",
      "Epoch 3/10\n",
      "10000/10000 [==============================] - 780s 78ms/step - loss: 0.0015 - accuracy: 1.0000\n",
      "Epoch 4/10\n",
      " 9220/10000 [==========================>...] - ETA: 1:00 - loss: 0.0023 - accuracy: 0.9999Executing shutdown due to inactivity...\n"
     ]
    },
    {
     "name": "stderr",
     "output_type": "stream",
     "text": [
      "2020-03-13 02:27:38,356 - INFO     - Executing shutdown due to inactivity...\n"
     ]
    },
    {
     "name": "stdout",
     "output_type": "stream",
     "text": [
      " 9230/10000 [==========================>...] - ETA: 1:00 - loss: 0.0023 - accuracy: 0.9999Executing shutdown...\n"
     ]
    },
    {
     "name": "stderr",
     "output_type": "stream",
     "text": [
      "2020-03-13 02:27:39,483 - INFO     - Executing shutdown...\n"
     ]
    },
    {
     "name": "stdout",
     "output_type": "stream",
     "text": [
      "10000/10000 [==============================] - 780s 78ms/step - loss: 0.0024 - accuracy: 0.9999\n",
      "Epoch 5/10\n",
      "10000/10000 [==============================] - 777s 78ms/step - loss: 0.0017 - accuracy: 1.0000\n",
      "Epoch 6/10\n",
      "10000/10000 [==============================] - 778s 78ms/step - loss: 0.0034 - accuracy: 0.9997\n",
      "Epoch 7/10\n",
      "10000/10000 [==============================] - 777s 78ms/step - loss: 0.0020 - accuracy: 1.0000\n",
      "Epoch 8/10\n",
      "10000/10000 [==============================] - 778s 78ms/step - loss: 0.0010 - accuracy: 1.0000\n",
      "Epoch 9/10\n",
      "10000/10000 [==============================] - 778s 78ms/step - loss: 0.0013 - accuracy: 1.0000\n",
      "Epoch 10/10\n",
      "10000/10000 [==============================] - 778s 78ms/step - loss: 0.0026 - accuracy: 0.9998\n",
      "Fitting is done\n",
      "saving the model\n",
      "model is saved\n",
      "Cleaning Ram\n"
     ]
    }
   ],
   "source": [
    "modelconst()\n",
    "traindata1(em_data_train_domain[40000:50000],em_data_test_domain[40000:50000],em_data_train_content[40000:50000],em_data_test_content[40000:50000],em_data_train_title[40000:50000],em_data_test_title[40000:50000],data_train_y[40000:50000])"
   ]
  },
  {
   "cell_type": "code",
   "execution_count": 35,
   "metadata": {},
   "outputs": [
    {
     "name": "stdout",
     "output_type": "stream",
     "text": [
      "50 33\n",
      "Model: \"model_1\"\n",
      "__________________________________________________________________________________________________\n",
      "Layer (type)                    Output Shape         Param #     Connected to                     \n",
      "==================================================================================================\n",
      "domain_in (InputLayer)          (None, 4)            0                                            \n",
      "__________________________________________________________________________________________________\n",
      "content_in (InputLayer)         (None, 33402)        0                                            \n",
      "__________________________________________________________________________________________________\n",
      "title_in (InputLayer)           (None, 116)          0                                            \n",
      "__________________________________________________________________________________________________\n",
      "embedding_1 (Embedding)         (None, 4, 25)        14417175    domain_in[0][0]                  \n",
      "__________________________________________________________________________________________________\n",
      "embedding_2 (Embedding)         (None, 33402, 25)    14417175    content_in[0][0]                 \n",
      "__________________________________________________________________________________________________\n",
      "embedding_3 (Embedding)         (None, 116, 25)      14417175    title_in[0][0]                   \n",
      "__________________________________________________________________________________________________\n",
      "global_max_pooling1d_1 (GlobalM (None, 25)           0           embedding_1[0][0]                \n",
      "__________________________________________________________________________________________________\n",
      "global_max_pooling1d_2 (GlobalM (None, 25)           0           embedding_2[0][0]                \n",
      "__________________________________________________________________________________________________\n",
      "global_max_pooling1d_3 (GlobalM (None, 25)           0           embedding_3[0][0]                \n",
      "__________________________________________________________________________________________________\n",
      "concatenate_1 (Concatenate)     (None, 75)           0           global_max_pooling1d_1[0][0]     \n",
      "                                                                 global_max_pooling1d_2[0][0]     \n",
      "                                                                 global_max_pooling1d_3[0][0]     \n",
      "__________________________________________________________________________________________________\n",
      "dense_1 (Dense)                 (None, 50)           3800        concatenate_1[0][0]              \n",
      "__________________________________________________________________________________________________\n",
      "dense_2 (Dense)                 (None, 33)           1683        dense_1[0][0]                    \n",
      "__________________________________________________________________________________________________\n",
      "op (Dense)                      (None, 1)            34          dense_2[0][0]                    \n",
      "==================================================================================================\n",
      "Total params: 43,257,042\n",
      "Trainable params: 43,257,042\n",
      "Non-trainable params: 0\n",
      "__________________________________________________________________________________________________\n",
      "loading model\n"
     ]
    },
    {
     "name": "stderr",
     "output_type": "stream",
     "text": [
      "C:\\Users\\shiva\\Anaconda3\\lib\\site-packages\\tensorflow_core\\python\\framework\\indexed_slices.py:424: UserWarning: Converting sparse IndexedSlices to a dense Tensor of unknown shape. This may consume a large amount of memory.\n",
      "  \"Converting sparse IndexedSlices to a dense Tensor of unknown shape. \"\n"
     ]
    },
    {
     "name": "stdout",
     "output_type": "stream",
     "text": [
      "model loaded\n",
      "Running tokpad\n",
      "Tokpad is done\n",
      "Start training\n",
      "Epoch 1/10\n",
      "10000/10000 [==============================] - 1248s 125ms/step - loss: 0.0017 - accuracy: 0.9998\n",
      "Epoch 2/10\n",
      "10000/10000 [==============================] - 1470s 147ms/step - loss: 9.7826e-04 - accuracy: 1.0000\n",
      "Epoch 3/10\n",
      "10000/10000 [==============================] - 1473s 147ms/step - loss: 0.0014 - accuracy: 0.9999\n",
      "Epoch 4/10\n",
      "10000/10000 [==============================] - 1419s 142ms/step - loss: 9.4704e-04 - accuracy: 1.0000\n",
      "Epoch 5/10\n",
      "10000/10000 [==============================] - 1353s 135ms/step - loss: 9.5142e-04 - accuracy: 1.0000\n",
      "Epoch 6/10\n",
      "10000/10000 [==============================] - 1362s 136ms/step - loss: 0.0016 - accuracy: 0.9998\n",
      "Epoch 7/10\n",
      "10000/10000 [==============================] - 1379s 138ms/step - loss: 0.0014 - accuracy: 1.0000\n",
      "Epoch 8/10\n",
      "10000/10000 [==============================] - 1351s 135ms/step - loss: 0.0013 - accuracy: 1.0000\n",
      "Epoch 9/10\n",
      "10000/10000 [==============================] - 1358s 136ms/step - loss: 0.0011 - accuracy: 1.0000\n",
      "Epoch 10/10\n",
      "10000/10000 [==============================] - 1360s 136ms/step - loss: 7.4479e-04 - accuracy: 1.0000\n",
      "Fitting is done\n",
      "saving the model\n",
      "model is saved\n",
      "Cleaning Ram\n"
     ]
    }
   ],
   "source": [
    "modelconst()\n",
    "traindata1(em_data_train_domain[50000:60000],em_data_test_domain[50000:60000],em_data_train_content[50000:60000],em_data_test_content[50000:60000],em_data_train_title[50000:60000],em_data_test_title[50000:60000],data_train_y[50000:60000])"
   ]
  },
  {
   "cell_type": "code",
   "execution_count": 36,
   "metadata": {},
   "outputs": [
    {
     "name": "stdout",
     "output_type": "stream",
     "text": [
      "50 33\n",
      "Model: \"model_2\"\n",
      "__________________________________________________________________________________________________\n",
      "Layer (type)                    Output Shape         Param #     Connected to                     \n",
      "==================================================================================================\n",
      "domain_in (InputLayer)          (None, 4)            0                                            \n",
      "__________________________________________________________________________________________________\n",
      "content_in (InputLayer)         (None, 33402)        0                                            \n",
      "__________________________________________________________________________________________________\n",
      "title_in (InputLayer)           (None, 116)          0                                            \n",
      "__________________________________________________________________________________________________\n",
      "embedding_4 (Embedding)         (None, 4, 25)        14417175    domain_in[0][0]                  \n",
      "__________________________________________________________________________________________________\n",
      "embedding_5 (Embedding)         (None, 33402, 25)    14417175    content_in[0][0]                 \n",
      "__________________________________________________________________________________________________\n",
      "embedding_6 (Embedding)         (None, 116, 25)      14417175    title_in[0][0]                   \n",
      "__________________________________________________________________________________________________\n",
      "global_max_pooling1d_4 (GlobalM (None, 25)           0           embedding_4[0][0]                \n",
      "__________________________________________________________________________________________________\n",
      "global_max_pooling1d_5 (GlobalM (None, 25)           0           embedding_5[0][0]                \n",
      "__________________________________________________________________________________________________\n",
      "global_max_pooling1d_6 (GlobalM (None, 25)           0           embedding_6[0][0]                \n",
      "__________________________________________________________________________________________________\n",
      "concatenate_2 (Concatenate)     (None, 75)           0           global_max_pooling1d_4[0][0]     \n",
      "                                                                 global_max_pooling1d_5[0][0]     \n",
      "                                                                 global_max_pooling1d_6[0][0]     \n",
      "__________________________________________________________________________________________________\n",
      "dense_3 (Dense)                 (None, 50)           3800        concatenate_2[0][0]              \n",
      "__________________________________________________________________________________________________\n",
      "dense_4 (Dense)                 (None, 33)           1683        dense_3[0][0]                    \n",
      "__________________________________________________________________________________________________\n",
      "op (Dense)                      (None, 1)            34          dense_4[0][0]                    \n",
      "==================================================================================================\n",
      "Total params: 43,257,042\n",
      "Trainable params: 43,257,042\n",
      "Non-trainable params: 0\n",
      "__________________________________________________________________________________________________\n",
      "loading model\n",
      "model loaded\n",
      "Running tokpad\n",
      "Tokpad is done\n",
      "Start training\n",
      "Epoch 1/10\n",
      "10000/10000 [==============================] - 1093s 109ms/step - loss: 0.0012 - accuracy: 1.0000\n",
      "Epoch 2/10\n",
      "10000/10000 [==============================] - 1124s 112ms/step - loss: 0.0013 - accuracy: 1.0000\n",
      "Epoch 3/10\n",
      "10000/10000 [==============================] - 1222s 122ms/step - loss: 0.0014 - accuracy: 1.0000\n",
      "Epoch 4/10\n",
      "10000/10000 [==============================] - 1179s 118ms/step - loss: 9.1964e-04 - accuracy: 1.0000\n",
      "Epoch 5/10\n",
      "10000/10000 [==============================] - 1276s 128ms/step - loss: 0.0017 - accuracy: 0.9999\n",
      "Epoch 6/10\n",
      "10000/10000 [==============================] - 1309s 131ms/step - loss: 0.0018 - accuracy: 1.0000\n",
      "Epoch 7/10\n",
      "10000/10000 [==============================] - 1304s 130ms/step - loss: 0.0010 - accuracy: 1.0000\n",
      "Epoch 8/10\n",
      "10000/10000 [==============================] - 1350s 135ms/step - loss: 7.5727e-04 - accuracy: 1.0000\n",
      "Epoch 9/10\n",
      "10000/10000 [==============================] - 1334s 133ms/step - loss: 0.0019 - accuracy: 0.9999\n",
      "Epoch 10/10\n",
      "10000/10000 [==============================] - 1355s 136ms/step - loss: 0.0013 - accuracy: 1.0000\n",
      "Fitting is done\n",
      "saving the model\n",
      "model is saved\n",
      "Cleaning Ram\n"
     ]
    }
   ],
   "source": [
    "modelconst()\n",
    "traindata1(em_data_train_domain[60000:70000],em_data_test_domain[60000:70000],em_data_train_content[60000:70000],em_data_test_content[60000:70000],em_data_train_title[60000:70000],em_data_test_title[60000:70000],data_train_y[60000:70000])"
   ]
  },
  {
   "cell_type": "code",
   "execution_count": 37,
   "metadata": {},
   "outputs": [
    {
     "name": "stdout",
     "output_type": "stream",
     "text": [
      "50 33\n",
      "Model: \"model_3\"\n",
      "__________________________________________________________________________________________________\n",
      "Layer (type)                    Output Shape         Param #     Connected to                     \n",
      "==================================================================================================\n",
      "domain_in (InputLayer)          (None, 4)            0                                            \n",
      "__________________________________________________________________________________________________\n",
      "content_in (InputLayer)         (None, 33402)        0                                            \n",
      "__________________________________________________________________________________________________\n",
      "title_in (InputLayer)           (None, 116)          0                                            \n",
      "__________________________________________________________________________________________________\n",
      "embedding_7 (Embedding)         (None, 4, 25)        14417175    domain_in[0][0]                  \n",
      "__________________________________________________________________________________________________\n",
      "embedding_8 (Embedding)         (None, 33402, 25)    14417175    content_in[0][0]                 \n",
      "__________________________________________________________________________________________________\n",
      "embedding_9 (Embedding)         (None, 116, 25)      14417175    title_in[0][0]                   \n",
      "__________________________________________________________________________________________________\n",
      "global_max_pooling1d_7 (GlobalM (None, 25)           0           embedding_7[0][0]                \n",
      "__________________________________________________________________________________________________\n",
      "global_max_pooling1d_8 (GlobalM (None, 25)           0           embedding_8[0][0]                \n",
      "__________________________________________________________________________________________________\n",
      "global_max_pooling1d_9 (GlobalM (None, 25)           0           embedding_9[0][0]                \n",
      "__________________________________________________________________________________________________\n",
      "concatenate_3 (Concatenate)     (None, 75)           0           global_max_pooling1d_7[0][0]     \n",
      "                                                                 global_max_pooling1d_8[0][0]     \n",
      "                                                                 global_max_pooling1d_9[0][0]     \n",
      "__________________________________________________________________________________________________\n",
      "dense_5 (Dense)                 (None, 50)           3800        concatenate_3[0][0]              \n",
      "__________________________________________________________________________________________________\n",
      "dense_6 (Dense)                 (None, 33)           1683        dense_5[0][0]                    \n",
      "__________________________________________________________________________________________________\n",
      "op (Dense)                      (None, 1)            34          dense_6[0][0]                    \n",
      "==================================================================================================\n",
      "Total params: 43,257,042\n",
      "Trainable params: 43,257,042\n",
      "Non-trainable params: 0\n",
      "__________________________________________________________________________________________________\n",
      "loading model\n",
      "model loaded\n",
      "Running tokpad\n",
      "Tokpad is done\n",
      "Start training\n",
      "Epoch 1/10\n",
      "10000/10000 [==============================] - 1094s 109ms/step - loss: 0.0021 - accuracy: 0.9998\n",
      "Epoch 2/10\n",
      "10000/10000 [==============================] - 1209s 121ms/step - loss: 0.0013 - accuracy: 1.0000\n",
      "Epoch 3/10\n",
      "10000/10000 [==============================] - 1248s 125ms/step - loss: 6.7166e-04 - accuracy: 1.0000\n",
      "Epoch 4/10\n",
      "10000/10000 [==============================] - 1238s 124ms/step - loss: 0.0017 - accuracy: 0.9999\n",
      "Epoch 5/10\n",
      "10000/10000 [==============================] - 1245s 124ms/step - loss: 8.8843e-04 - accuracy: 1.0000\n",
      "Epoch 6/10\n",
      "10000/10000 [==============================] - 1270s 127ms/step - loss: 0.0014 - accuracy: 0.9999\n",
      "Epoch 7/10\n",
      "10000/10000 [==============================] - 1232s 123ms/step - loss: 8.2582e-04 - accuracy: 1.0000\n",
      "Epoch 8/10\n",
      "10000/10000 [==============================] - 1214s 121ms/step - loss: 0.0012 - accuracy: 0.9999\n",
      "Epoch 9/10\n",
      "10000/10000 [==============================] - 1233s 123ms/step - loss: 6.2584e-04 - accuracy: 1.0000\n",
      "Epoch 10/10\n",
      "10000/10000 [==============================] - 1236s 124ms/step - loss: 7.7336e-04 - accuracy: 1.0000\n",
      "Fitting is done\n",
      "saving the model\n",
      "model is saved\n",
      "Cleaning Ram\n"
     ]
    }
   ],
   "source": [
    "modelconst()\n",
    "traindata1(em_data_train_domain[70000:80000],em_data_test_domain[70000:80000],em_data_train_content[70000:80000],em_data_test_content[70000:80000],em_data_train_title[70000:80000],em_data_test_title[70000:80000],data_train_y[70000:80000])"
   ]
  },
  {
   "cell_type": "code",
   "execution_count": 78,
   "metadata": {},
   "outputs": [
    {
     "name": "stdout",
     "output_type": "stream",
     "text": [
      "30411/30411 [==============================] - 138s 5ms/step\n"
     ]
    }
   ],
   "source": [
    "model2=load_model('model.h5')\n",
    "results = model2.evaluate(x={'domain_in': em_data_test_paddomain, 'content_in': em_data_test_padcontent, 'title_in':em_data_test_padtitle},y={'op': data_test_y}, batch_size=128)"
   ]
  },
  {
   "cell_type": "code",
   "execution_count": 79,
   "metadata": {},
   "outputs": [
    {
     "data": {
      "text/plain": [
       "[0.0012370557811943036, 1.0]"
      ]
     },
     "execution_count": 79,
     "metadata": {},
     "output_type": "execute_result"
    }
   ],
   "source": [
    "results"
   ]
  }
 ],
 "metadata": {
  "kernelspec": {
   "display_name": "Python 3",
   "language": "python",
   "name": "python3"
  },
  "language_info": {
   "codemirror_mode": {
    "name": "ipython",
    "version": 3
   },
   "file_extension": ".py",
   "mimetype": "text/x-python",
   "name": "python",
   "nbconvert_exporter": "python",
   "pygments_lexer": "ipython3",
   "version": "3.7.4"
  }
 },
 "nbformat": 4,
 "nbformat_minor": 2
}
