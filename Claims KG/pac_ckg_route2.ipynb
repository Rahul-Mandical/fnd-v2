{
  "nbformat": 4,
  "nbformat_minor": 0,
  "metadata": {
    "colab": {
      "name": "claim_pac.ipynb",
      "provenance": [],
      "machine_shape": "hm"
    },
    "kernelspec": {
      "name": "python3",
      "display_name": "Python 3"
    }
  },
  "cells": [
    {
      "cell_type": "code",
      "metadata": {
        "id": "42NWkjjZYSqM",
        "colab_type": "code",
        "colab": {
          "resources": {
            "http://localhost:8080/nbextensions/google.colab/files.js": {
              "data": "Ly8gQ29weXJpZ2h0IDIwMTcgR29vZ2xlIExMQwovLwovLyBMaWNlbnNlZCB1bmRlciB0aGUgQXBhY2hlIExpY2Vuc2UsIFZlcnNpb24gMi4wICh0aGUgIkxpY2Vuc2UiKTsKLy8geW91IG1heSBub3QgdXNlIHRoaXMgZmlsZSBleGNlcHQgaW4gY29tcGxpYW5jZSB3aXRoIHRoZSBMaWNlbnNlLgovLyBZb3UgbWF5IG9idGFpbiBhIGNvcHkgb2YgdGhlIExpY2Vuc2UgYXQKLy8KLy8gICAgICBodHRwOi8vd3d3LmFwYWNoZS5vcmcvbGljZW5zZXMvTElDRU5TRS0yLjAKLy8KLy8gVW5sZXNzIHJlcXVpcmVkIGJ5IGFwcGxpY2FibGUgbGF3IG9yIGFncmVlZCB0byBpbiB3cml0aW5nLCBzb2Z0d2FyZQovLyBkaXN0cmlidXRlZCB1bmRlciB0aGUgTGljZW5zZSBpcyBkaXN0cmlidXRlZCBvbiBhbiAiQVMgSVMiIEJBU0lTLAovLyBXSVRIT1VUIFdBUlJBTlRJRVMgT1IgQ09ORElUSU9OUyBPRiBBTlkgS0lORCwgZWl0aGVyIGV4cHJlc3Mgb3IgaW1wbGllZC4KLy8gU2VlIHRoZSBMaWNlbnNlIGZvciB0aGUgc3BlY2lmaWMgbGFuZ3VhZ2UgZ292ZXJuaW5nIHBlcm1pc3Npb25zIGFuZAovLyBsaW1pdGF0aW9ucyB1bmRlciB0aGUgTGljZW5zZS4KCi8qKgogKiBAZmlsZW92ZXJ2aWV3IEhlbHBlcnMgZm9yIGdvb2dsZS5jb2xhYiBQeXRob24gbW9kdWxlLgogKi8KKGZ1bmN0aW9uKHNjb3BlKSB7CmZ1bmN0aW9uIHNwYW4odGV4dCwgc3R5bGVBdHRyaWJ1dGVzID0ge30pIHsKICBjb25zdCBlbGVtZW50ID0gZG9jdW1lbnQuY3JlYXRlRWxlbWVudCgnc3BhbicpOwogIGVsZW1lbnQudGV4dENvbnRlbnQgPSB0ZXh0OwogIGZvciAoY29uc3Qga2V5IG9mIE9iamVjdC5rZXlzKHN0eWxlQXR0cmlidXRlcykpIHsKICAgIGVsZW1lbnQuc3R5bGVba2V5XSA9IHN0eWxlQXR0cmlidXRlc1trZXldOwogIH0KICByZXR1cm4gZWxlbWVudDsKfQoKLy8gTWF4IG51bWJlciBvZiBieXRlcyB3aGljaCB3aWxsIGJlIHVwbG9hZGVkIGF0IGEgdGltZS4KY29uc3QgTUFYX1BBWUxPQURfU0laRSA9IDEwMCAqIDEwMjQ7Ci8vIE1heCBhbW91bnQgb2YgdGltZSB0byBibG9jayB3YWl0aW5nIGZvciB0aGUgdXNlci4KY29uc3QgRklMRV9DSEFOR0VfVElNRU9VVF9NUyA9IDMwICogMTAwMDsKCmZ1bmN0aW9uIF91cGxvYWRGaWxlcyhpbnB1dElkLCBvdXRwdXRJZCkgewogIGNvbnN0IHN0ZXBzID0gdXBsb2FkRmlsZXNTdGVwKGlucHV0SWQsIG91dHB1dElkKTsKICBjb25zdCBvdXRwdXRFbGVtZW50ID0gZG9jdW1lbnQuZ2V0RWxlbWVudEJ5SWQob3V0cHV0SWQpOwogIC8vIENhY2hlIHN0ZXBzIG9uIHRoZSBvdXRwdXRFbGVtZW50IHRvIG1ha2UgaXQgYXZhaWxhYmxlIGZvciB0aGUgbmV4dCBjYWxsCiAgLy8gdG8gdXBsb2FkRmlsZXNDb250aW51ZSBmcm9tIFB5dGhvbi4KICBvdXRwdXRFbGVtZW50LnN0ZXBzID0gc3RlcHM7CgogIHJldHVybiBfdXBsb2FkRmlsZXNDb250aW51ZShvdXRwdXRJZCk7Cn0KCi8vIFRoaXMgaXMgcm91Z2hseSBhbiBhc3luYyBnZW5lcmF0b3IgKG5vdCBzdXBwb3J0ZWQgaW4gdGhlIGJyb3dzZXIgeWV0KSwKLy8gd2hlcmUgdGhlcmUgYXJlIG11bHRpcGxlIGFzeW5jaHJvbm91cyBzdGVwcyBhbmQgdGhlIFB5dGhvbiBzaWRlIGlzIGdvaW5nCi8vIHRvIHBvbGwgZm9yIGNvbXBsZXRpb24gb2YgZWFjaCBzdGVwLgovLyBUaGlzIHVzZXMgYSBQcm9taXNlIHRvIGJsb2NrIHRoZSBweXRob24gc2lkZSBvbiBjb21wbGV0aW9uIG9mIGVhY2ggc3RlcCwKLy8gdGhlbiBwYXNzZXMgdGhlIHJlc3VsdCBvZiB0aGUgcHJldmlvdXMgc3RlcCBhcyB0aGUgaW5wdXQgdG8gdGhlIG5leHQgc3RlcC4KZnVuY3Rpb24gX3VwbG9hZEZpbGVzQ29udGludWUob3V0cHV0SWQpIHsKICBjb25zdCBvdXRwdXRFbGVtZW50ID0gZG9jdW1lbnQuZ2V0RWxlbWVudEJ5SWQob3V0cHV0SWQpOwogIGNvbnN0IHN0ZXBzID0gb3V0cHV0RWxlbWVudC5zdGVwczsKCiAgY29uc3QgbmV4dCA9IHN0ZXBzLm5leHQob3V0cHV0RWxlbWVudC5sYXN0UHJvbWlzZVZhbHVlKTsKICByZXR1cm4gUHJvbWlzZS5yZXNvbHZlKG5leHQudmFsdWUucHJvbWlzZSkudGhlbigodmFsdWUpID0+IHsKICAgIC8vIENhY2hlIHRoZSBsYXN0IHByb21pc2UgdmFsdWUgdG8gbWFrZSBpdCBhdmFpbGFibGUgdG8gdGhlIG5leHQKICAgIC8vIHN0ZXAgb2YgdGhlIGdlbmVyYXRvci4KICAgIG91dHB1dEVsZW1lbnQubGFzdFByb21pc2VWYWx1ZSA9IHZhbHVlOwogICAgcmV0dXJuIG5leHQudmFsdWUucmVzcG9uc2U7CiAgfSk7Cn0KCi8qKgogKiBHZW5lcmF0b3IgZnVuY3Rpb24gd2hpY2ggaXMgY2FsbGVkIGJldHdlZW4gZWFjaCBhc3luYyBzdGVwIG9mIHRoZSB1cGxvYWQKICogcHJvY2Vzcy4KICogQHBhcmFtIHtzdHJpbmd9IGlucHV0SWQgRWxlbWVudCBJRCBvZiB0aGUgaW5wdXQgZmlsZSBwaWNrZXIgZWxlbWVudC4KICogQHBhcmFtIHtzdHJpbmd9IG91dHB1dElkIEVsZW1lbnQgSUQgb2YgdGhlIG91dHB1dCBkaXNwbGF5LgogKiBAcmV0dXJuIHshSXRlcmFibGU8IU9iamVjdD59IEl0ZXJhYmxlIG9mIG5leHQgc3RlcHMuCiAqLwpmdW5jdGlvbiogdXBsb2FkRmlsZXNTdGVwKGlucHV0SWQsIG91dHB1dElkKSB7CiAgY29uc3QgaW5wdXRFbGVtZW50ID0gZG9jdW1lbnQuZ2V0RWxlbWVudEJ5SWQoaW5wdXRJZCk7CiAgaW5wdXRFbGVtZW50LmRpc2FibGVkID0gZmFsc2U7CgogIGNvbnN0IG91dHB1dEVsZW1lbnQgPSBkb2N1bWVudC5nZXRFbGVtZW50QnlJZChvdXRwdXRJZCk7CiAgb3V0cHV0RWxlbWVudC5pbm5lckhUTUwgPSAnJzsKCiAgY29uc3QgcGlja2VkUHJvbWlzZSA9IG5ldyBQcm9taXNlKChyZXNvbHZlKSA9PiB7CiAgICBpbnB1dEVsZW1lbnQuYWRkRXZlbnRMaXN0ZW5lcignY2hhbmdlJywgKGUpID0+IHsKICAgICAgcmVzb2x2ZShlLnRhcmdldC5maWxlcyk7CiAgICB9KTsKICB9KTsKCiAgY29uc3QgY2FuY2VsID0gZG9jdW1lbnQuY3JlYXRlRWxlbWVudCgnYnV0dG9uJyk7CiAgaW5wdXRFbGVtZW50LnBhcmVudEVsZW1lbnQuYXBwZW5kQ2hpbGQoY2FuY2VsKTsKICBjYW5jZWwudGV4dENvbnRlbnQgPSAnQ2FuY2VsIHVwbG9hZCc7CiAgY29uc3QgY2FuY2VsUHJvbWlzZSA9IG5ldyBQcm9taXNlKChyZXNvbHZlKSA9PiB7CiAgICBjYW5jZWwub25jbGljayA9ICgpID0+IHsKICAgICAgcmVzb2x2ZShudWxsKTsKICAgIH07CiAgfSk7CgogIC8vIENhbmNlbCB1cGxvYWQgaWYgdXNlciBoYXNuJ3QgcGlja2VkIGFueXRoaW5nIGluIHRpbWVvdXQuCiAgY29uc3QgdGltZW91dFByb21pc2UgPSBuZXcgUHJvbWlzZSgocmVzb2x2ZSkgPT4gewogICAgc2V0VGltZW91dCgoKSA9PiB7CiAgICAgIHJlc29sdmUobnVsbCk7CiAgICB9LCBGSUxFX0NIQU5HRV9USU1FT1VUX01TKTsKICB9KTsKCiAgLy8gV2FpdCBmb3IgdGhlIHVzZXIgdG8gcGljayB0aGUgZmlsZXMuCiAgY29uc3QgZmlsZXMgPSB5aWVsZCB7CiAgICBwcm9taXNlOiBQcm9taXNlLnJhY2UoW3BpY2tlZFByb21pc2UsIHRpbWVvdXRQcm9taXNlLCBjYW5jZWxQcm9taXNlXSksCiAgICByZXNwb25zZTogewogICAgICBhY3Rpb246ICdzdGFydGluZycsCiAgICB9CiAgfTsKCiAgaWYgKCFmaWxlcykgewogICAgcmV0dXJuIHsKICAgICAgcmVzcG9uc2U6IHsKICAgICAgICBhY3Rpb246ICdjb21wbGV0ZScsCiAgICAgIH0KICAgIH07CiAgfQoKICBjYW5jZWwucmVtb3ZlKCk7CgogIC8vIERpc2FibGUgdGhlIGlucHV0IGVsZW1lbnQgc2luY2UgZnVydGhlciBwaWNrcyBhcmUgbm90IGFsbG93ZWQuCiAgaW5wdXRFbGVtZW50LmRpc2FibGVkID0gdHJ1ZTsKCiAgZm9yIChjb25zdCBmaWxlIG9mIGZpbGVzKSB7CiAgICBjb25zdCBsaSA9IGRvY3VtZW50LmNyZWF0ZUVsZW1lbnQoJ2xpJyk7CiAgICBsaS5hcHBlbmQoc3BhbihmaWxlLm5hbWUsIHtmb250V2VpZ2h0OiAnYm9sZCd9KSk7CiAgICBsaS5hcHBlbmQoc3BhbigKICAgICAgICBgKCR7ZmlsZS50eXBlIHx8ICduL2EnfSkgLSAke2ZpbGUuc2l6ZX0gYnl0ZXMsIGAgKwogICAgICAgIGBsYXN0IG1vZGlmaWVkOiAkewogICAgICAgICAgICBmaWxlLmxhc3RNb2RpZmllZERhdGUgPyBmaWxlLmxhc3RNb2RpZmllZERhdGUudG9Mb2NhbGVEYXRlU3RyaW5nKCkgOgogICAgICAgICAgICAgICAgICAgICAgICAgICAgICAgICAgICAnbi9hJ30gLSBgKSk7CiAgICBjb25zdCBwZXJjZW50ID0gc3BhbignMCUgZG9uZScpOwogICAgbGkuYXBwZW5kQ2hpbGQocGVyY2VudCk7CgogICAgb3V0cHV0RWxlbWVudC5hcHBlbmRDaGlsZChsaSk7CgogICAgY29uc3QgZmlsZURhdGFQcm9taXNlID0gbmV3IFByb21pc2UoKHJlc29sdmUpID0+IHsKICAgICAgY29uc3QgcmVhZGVyID0gbmV3IEZpbGVSZWFkZXIoKTsKICAgICAgcmVhZGVyLm9ubG9hZCA9IChlKSA9PiB7CiAgICAgICAgcmVzb2x2ZShlLnRhcmdldC5yZXN1bHQpOwogICAgICB9OwogICAgICByZWFkZXIucmVhZEFzQXJyYXlCdWZmZXIoZmlsZSk7CiAgICB9KTsKICAgIC8vIFdhaXQgZm9yIHRoZSBkYXRhIHRvIGJlIHJlYWR5LgogICAgbGV0IGZpbGVEYXRhID0geWllbGQgewogICAgICBwcm9taXNlOiBmaWxlRGF0YVByb21pc2UsCiAgICAgIHJlc3BvbnNlOiB7CiAgICAgICAgYWN0aW9uOiAnY29udGludWUnLAogICAgICB9CiAgICB9OwoKICAgIC8vIFVzZSBhIGNodW5rZWQgc2VuZGluZyB0byBhdm9pZCBtZXNzYWdlIHNpemUgbGltaXRzLiBTZWUgYi82MjExNTY2MC4KICAgIGxldCBwb3NpdGlvbiA9IDA7CiAgICB3aGlsZSAocG9zaXRpb24gPCBmaWxlRGF0YS5ieXRlTGVuZ3RoKSB7CiAgICAgIGNvbnN0IGxlbmd0aCA9IE1hdGgubWluKGZpbGVEYXRhLmJ5dGVMZW5ndGggLSBwb3NpdGlvbiwgTUFYX1BBWUxPQURfU0laRSk7CiAgICAgIGNvbnN0IGNodW5rID0gbmV3IFVpbnQ4QXJyYXkoZmlsZURhdGEsIHBvc2l0aW9uLCBsZW5ndGgpOwogICAgICBwb3NpdGlvbiArPSBsZW5ndGg7CgogICAgICBjb25zdCBiYXNlNjQgPSBidG9hKFN0cmluZy5mcm9tQ2hhckNvZGUuYXBwbHkobnVsbCwgY2h1bmspKTsKICAgICAgeWllbGQgewogICAgICAgIHJlc3BvbnNlOiB7CiAgICAgICAgICBhY3Rpb246ICdhcHBlbmQnLAogICAgICAgICAgZmlsZTogZmlsZS5uYW1lLAogICAgICAgICAgZGF0YTogYmFzZTY0LAogICAgICAgIH0sCiAgICAgIH07CiAgICAgIHBlcmNlbnQudGV4dENvbnRlbnQgPQogICAgICAgICAgYCR7TWF0aC5yb3VuZCgocG9zaXRpb24gLyBmaWxlRGF0YS5ieXRlTGVuZ3RoKSAqIDEwMCl9JSBkb25lYDsKICAgIH0KICB9CgogIC8vIEFsbCBkb25lLgogIHlpZWxkIHsKICAgIHJlc3BvbnNlOiB7CiAgICAgIGFjdGlvbjogJ2NvbXBsZXRlJywKICAgIH0KICB9Owp9CgpzY29wZS5nb29nbGUgPSBzY29wZS5nb29nbGUgfHwge307CnNjb3BlLmdvb2dsZS5jb2xhYiA9IHNjb3BlLmdvb2dsZS5jb2xhYiB8fCB7fTsKc2NvcGUuZ29vZ2xlLmNvbGFiLl9maWxlcyA9IHsKICBfdXBsb2FkRmlsZXMsCiAgX3VwbG9hZEZpbGVzQ29udGludWUsCn07Cn0pKHNlbGYpOwo=",
              "ok": true,
              "headers": [
                [
                  "content-type",
                  "application/javascript"
                ]
              ],
              "status": 200,
              "status_text": ""
            }
          },
          "base_uri": "https://localhost:8080/",
          "height": 74
        },
        "outputId": "02832e54-fab4-4bed-e320-7fb02110a6b3"
      },
      "source": [
        "from google.colab import files \n",
        "uploaded = files.upload() "
      ],
      "execution_count": 2,
      "outputs": [
        {
          "output_type": "display_data",
          "data": {
            "text/html": [
              "\n",
              "     <input type=\"file\" id=\"files-9fe01078-8a1e-45b9-bfd1-0e5017ff90dc\" name=\"files[]\" multiple disabled />\n",
              "     <output id=\"result-9fe01078-8a1e-45b9-bfd1-0e5017ff90dc\">\n",
              "      Upload widget is only available when the cell has been executed in the\n",
              "      current browser session. Please rerun this cell to enable.\n",
              "      </output>\n",
              "      <script src=\"/nbextensions/google.colab/files.js\"></script> "
            ],
            "text/plain": [
              "<IPython.core.display.HTML object>"
            ]
          },
          "metadata": {
            "tags": []
          }
        },
        {
          "output_type": "stream",
          "text": [
            "Saving claimskg_result.csv to claimskg_result.csv\n"
          ],
          "name": "stdout"
        }
      ]
    },
    {
      "cell_type": "code",
      "metadata": {
        "id": "vFW2dsiSZyhC",
        "colab_type": "code",
        "colab": {
          "base_uri": "https://localhost:8080/",
          "height": 170
        },
        "outputId": "168fe3a8-fc84-46d8-caa9-907172911ee8"
      },
      "source": [
        "import io \n",
        "import pandas as pd\n",
        "data = pd.read_csv(io.BytesIO(uploaded['claimskg_result.csv'])) \n",
        "print(type(data))\n",
        "print(data.head())"
      ],
      "execution_count": 3,
      "outputs": [
        {
          "output_type": "stream",
          "text": [
            "<class 'pandas.core.frame.DataFrame'>\n",
            "                                                  id  ... language\n",
            "0  http://data.gesis.org/claimskg/claim_review/b0...  ...  English\n",
            "1  http://data.gesis.org/claimskg/claim_review/03...  ...  English\n",
            "2  http://data.gesis.org/claimskg/claim_review/e1...  ...  English\n",
            "3  http://data.gesis.org/claimskg/claim_review/3c...  ...  English\n",
            "4  http://data.gesis.org/claimskg/claim_review/b4...  ...  English\n",
            "\n",
            "[5 rows x 14 columns]\n"
          ],
          "name": "stdout"
        }
      ]
    },
    {
      "cell_type": "code",
      "metadata": {
        "id": "-HyXrotNaE5j",
        "colab_type": "code",
        "colab": {}
      },
      "source": [
        "data.drop([\"id\",\"text\",\"date\",\"truthRating\",\"author\",\"headline\",\"keywords\",\"sourceURL\",\"link\",\"language\"],axis=1,inplace=True)"
      ],
      "execution_count": 0,
      "outputs": []
    },
    {
      "cell_type": "code",
      "metadata": {
        "id": "G2rXmDfFa3za",
        "colab_type": "code",
        "colab": {
          "base_uri": "https://localhost:8080/",
          "height": 68
        },
        "outputId": "2b20ce40-a3b3-47be-f16f-177179321502"
      },
      "source": [
        "data.columns"
      ],
      "execution_count": 5,
      "outputs": [
        {
          "output_type": "execute_result",
          "data": {
            "text/plain": [
              "Index(['ratingName', 'named_entities_claim', 'named_entities_article',\n",
              "       'source'],\n",
              "      dtype='object')"
            ]
          },
          "metadata": {
            "tags": []
          },
          "execution_count": 5
        }
      ]
    },
    {
      "cell_type": "code",
      "metadata": {
        "id": "V-TMx00Ua7s4",
        "colab_type": "code",
        "colab": {
          "base_uri": "https://localhost:8080/",
          "height": 34
        },
        "outputId": "28148033-26f6-4d84-e5bd-1073cddc425d"
      },
      "source": [
        "data.shape"
      ],
      "execution_count": 6,
      "outputs": [
        {
          "output_type": "execute_result",
          "data": {
            "text/plain": [
              "(10000, 4)"
            ]
          },
          "metadata": {
            "tags": []
          },
          "execution_count": 6
        }
      ]
    },
    {
      "cell_type": "code",
      "metadata": {
        "id": "IYbWwy0obAVS",
        "colab_type": "code",
        "colab": {
          "base_uri": "https://localhost:8080/",
          "height": 204
        },
        "outputId": "28e90e76-430c-4967-d90d-1a9482b8106c"
      },
      "source": [
        "clean_data=data.dropna()\n",
        "clean_data.head()"
      ],
      "execution_count": 7,
      "outputs": [
        {
          "output_type": "execute_result",
          "data": {
            "text/html": [
              "<div>\n",
              "<style scoped>\n",
              "    .dataframe tbody tr th:only-of-type {\n",
              "        vertical-align: middle;\n",
              "    }\n",
              "\n",
              "    .dataframe tbody tr th {\n",
              "        vertical-align: top;\n",
              "    }\n",
              "\n",
              "    .dataframe thead th {\n",
              "        text-align: right;\n",
              "    }\n",
              "</style>\n",
              "<table border=\"1\" class=\"dataframe\">\n",
              "  <thead>\n",
              "    <tr style=\"text-align: right;\">\n",
              "      <th></th>\n",
              "      <th>ratingName</th>\n",
              "      <th>named_entities_claim</th>\n",
              "      <th>named_entities_article</th>\n",
              "      <th>source</th>\n",
              "    </tr>\n",
              "  </thead>\n",
              "  <tbody>\n",
              "    <tr>\n",
              "      <th>0</th>\n",
              "      <td>False</td>\n",
              "      <td>Netflix,Netflix and Chill,Republican,Ted Cruz,...</td>\n",
              "      <td>Netflix and Chill,Ted Cruz</td>\n",
              "      <td>snopes</td>\n",
              "    </tr>\n",
              "    <tr>\n",
              "      <th>2</th>\n",
              "      <td>False</td>\n",
              "      <td>ABCNews.com,California Department of Public He...</td>\n",
              "      <td>California Department of Public Health,measles</td>\n",
              "      <td>snopes</td>\n",
              "    </tr>\n",
              "    <tr>\n",
              "      <th>3</th>\n",
              "      <td>False</td>\n",
              "      <td>2008.   Democratic presidential nominee,Alfred...</td>\n",
              "      <td>Michelle Obama,Waldorf-Astoria hotel,room service</td>\n",
              "      <td>snopes</td>\n",
              "    </tr>\n",
              "    <tr>\n",
              "      <th>4</th>\n",
              "      <td>True</td>\n",
              "      <td>Associated Press,Bonkers,Facebook,Herendeen,Ne...</td>\n",
              "      <td>Silly Bandz</td>\n",
              "      <td>snopes</td>\n",
              "    </tr>\n",
              "    <tr>\n",
              "      <th>5</th>\n",
              "      <td>False</td>\n",
              "      <td>Bay of Fundy,Brine Shrimp,Brine shrimp,Kittery...</td>\n",
              "      <td>brine shrimp,lobster,vagina</td>\n",
              "      <td>snopes</td>\n",
              "    </tr>\n",
              "  </tbody>\n",
              "</table>\n",
              "</div>"
            ],
            "text/plain": [
              "   ratingName  ...  source\n",
              "0       False  ...  snopes\n",
              "2       False  ...  snopes\n",
              "3       False  ...  snopes\n",
              "4        True  ...  snopes\n",
              "5       False  ...  snopes\n",
              "\n",
              "[5 rows x 4 columns]"
            ]
          },
          "metadata": {
            "tags": []
          },
          "execution_count": 7
        }
      ]
    },
    {
      "cell_type": "code",
      "metadata": {
        "id": "eOMtjOxJbFA2",
        "colab_type": "code",
        "colab": {
          "base_uri": "https://localhost:8080/",
          "height": 34
        },
        "outputId": "d4f8d603-8b6a-49a6-d397-de8f8c68898f"
      },
      "source": [
        "clean_data.shape"
      ],
      "execution_count": 8,
      "outputs": [
        {
          "output_type": "execute_result",
          "data": {
            "text/plain": [
              "(6656, 4)"
            ]
          },
          "metadata": {
            "tags": []
          },
          "execution_count": 8
        }
      ]
    },
    {
      "cell_type": "code",
      "metadata": {
        "id": "hFeqEw-IbJRu",
        "colab_type": "code",
        "colab": {
          "base_uri": "https://localhost:8080/",
          "height": 204
        },
        "outputId": "d8c5e542-eef7-491e-a14d-dc5e2a5da370"
      },
      "source": [
        "data_x=clean_data.iloc[:,1:]\n",
        "data_x.head()"
      ],
      "execution_count": 9,
      "outputs": [
        {
          "output_type": "execute_result",
          "data": {
            "text/html": [
              "<div>\n",
              "<style scoped>\n",
              "    .dataframe tbody tr th:only-of-type {\n",
              "        vertical-align: middle;\n",
              "    }\n",
              "\n",
              "    .dataframe tbody tr th {\n",
              "        vertical-align: top;\n",
              "    }\n",
              "\n",
              "    .dataframe thead th {\n",
              "        text-align: right;\n",
              "    }\n",
              "</style>\n",
              "<table border=\"1\" class=\"dataframe\">\n",
              "  <thead>\n",
              "    <tr style=\"text-align: right;\">\n",
              "      <th></th>\n",
              "      <th>named_entities_claim</th>\n",
              "      <th>named_entities_article</th>\n",
              "      <th>source</th>\n",
              "    </tr>\n",
              "  </thead>\n",
              "  <tbody>\n",
              "    <tr>\n",
              "      <th>0</th>\n",
              "      <td>Netflix,Netflix and Chill,Republican,Ted Cruz,...</td>\n",
              "      <td>Netflix and Chill,Ted Cruz</td>\n",
              "      <td>snopes</td>\n",
              "    </tr>\n",
              "    <tr>\n",
              "      <th>2</th>\n",
              "      <td>ABCNews.com,California Department of Public He...</td>\n",
              "      <td>California Department of Public Health,measles</td>\n",
              "      <td>snopes</td>\n",
              "    </tr>\n",
              "    <tr>\n",
              "      <th>3</th>\n",
              "      <td>2008.   Democratic presidential nominee,Alfred...</td>\n",
              "      <td>Michelle Obama,Waldorf-Astoria hotel,room service</td>\n",
              "      <td>snopes</td>\n",
              "    </tr>\n",
              "    <tr>\n",
              "      <th>4</th>\n",
              "      <td>Associated Press,Bonkers,Facebook,Herendeen,Ne...</td>\n",
              "      <td>Silly Bandz</td>\n",
              "      <td>snopes</td>\n",
              "    </tr>\n",
              "    <tr>\n",
              "      <th>5</th>\n",
              "      <td>Bay of Fundy,Brine Shrimp,Brine shrimp,Kittery...</td>\n",
              "      <td>brine shrimp,lobster,vagina</td>\n",
              "      <td>snopes</td>\n",
              "    </tr>\n",
              "  </tbody>\n",
              "</table>\n",
              "</div>"
            ],
            "text/plain": [
              "                                named_entities_claim  ...  source\n",
              "0  Netflix,Netflix and Chill,Republican,Ted Cruz,...  ...  snopes\n",
              "2  ABCNews.com,California Department of Public He...  ...  snopes\n",
              "3  2008.   Democratic presidential nominee,Alfred...  ...  snopes\n",
              "4  Associated Press,Bonkers,Facebook,Herendeen,Ne...  ...  snopes\n",
              "5  Bay of Fundy,Brine Shrimp,Brine shrimp,Kittery...  ...  snopes\n",
              "\n",
              "[5 rows x 3 columns]"
            ]
          },
          "metadata": {
            "tags": []
          },
          "execution_count": 9
        }
      ]
    },
    {
      "cell_type": "code",
      "metadata": {
        "id": "wnS4k8UEbM1D",
        "colab_type": "code",
        "colab": {
          "base_uri": "https://localhost:8080/",
          "height": 204
        },
        "outputId": "15cbb9c0-3726-41d0-fc2c-118304c8a7e7"
      },
      "source": [
        "data_y=clean_data.iloc[:,:1]\n",
        "data_y.head()"
      ],
      "execution_count": 10,
      "outputs": [
        {
          "output_type": "execute_result",
          "data": {
            "text/html": [
              "<div>\n",
              "<style scoped>\n",
              "    .dataframe tbody tr th:only-of-type {\n",
              "        vertical-align: middle;\n",
              "    }\n",
              "\n",
              "    .dataframe tbody tr th {\n",
              "        vertical-align: top;\n",
              "    }\n",
              "\n",
              "    .dataframe thead th {\n",
              "        text-align: right;\n",
              "    }\n",
              "</style>\n",
              "<table border=\"1\" class=\"dataframe\">\n",
              "  <thead>\n",
              "    <tr style=\"text-align: right;\">\n",
              "      <th></th>\n",
              "      <th>ratingName</th>\n",
              "    </tr>\n",
              "  </thead>\n",
              "  <tbody>\n",
              "    <tr>\n",
              "      <th>0</th>\n",
              "      <td>False</td>\n",
              "    </tr>\n",
              "    <tr>\n",
              "      <th>2</th>\n",
              "      <td>False</td>\n",
              "    </tr>\n",
              "    <tr>\n",
              "      <th>3</th>\n",
              "      <td>False</td>\n",
              "    </tr>\n",
              "    <tr>\n",
              "      <th>4</th>\n",
              "      <td>True</td>\n",
              "    </tr>\n",
              "    <tr>\n",
              "      <th>5</th>\n",
              "      <td>False</td>\n",
              "    </tr>\n",
              "  </tbody>\n",
              "</table>\n",
              "</div>"
            ],
            "text/plain": [
              "   ratingName\n",
              "0       False\n",
              "2       False\n",
              "3       False\n",
              "4        True\n",
              "5       False"
            ]
          },
          "metadata": {
            "tags": []
          },
          "execution_count": 10
        }
      ]
    },
    {
      "cell_type": "code",
      "metadata": {
        "id": "ploQwcSpbRnX",
        "colab_type": "code",
        "colab": {
          "base_uri": "https://localhost:8080/",
          "height": 51
        },
        "outputId": "ceb2eae1-469c-48e8-8417-9880dea4fbee"
      },
      "source": [
        "print(data_x.shape)\n",
        "print(data_y.shape)"
      ],
      "execution_count": 11,
      "outputs": [
        {
          "output_type": "stream",
          "text": [
            "(6656, 3)\n",
            "(6656, 1)\n"
          ],
          "name": "stdout"
        }
      ]
    },
    {
      "cell_type": "code",
      "metadata": {
        "id": "qoQA0cyHbV1p",
        "colab_type": "code",
        "colab": {}
      },
      "source": [
        "import numpy as np\n",
        "from sklearn.model_selection import train_test_split\n",
        "from sklearn.feature_extraction.text import CountVectorizer\n",
        "#from sklearn.feature_extraction.text import TfidfTransformer\n",
        "from sklearn.feature_extraction.text import TfidfVectorizer\n",
        "from sklearn import metrics\n",
        "from sklearn.metrics import confusion_matrix\n",
        "from matplotlib import pyplot as plt\n",
        "from sklearn.feature_extraction.text import HashingVectorizer\n",
        "from sklearn.linear_model import PassiveAggressiveClassifier"
      ],
      "execution_count": 0,
      "outputs": []
    },
    {
      "cell_type": "code",
      "metadata": {
        "id": "eTQWkJsQbo1_",
        "colab_type": "code",
        "colab": {}
      },
      "source": [
        "def split_data(x,y):\n",
        "    \n",
        "    \"\"\"\n",
        "    Reminder : Clean the set before sending here.\n",
        "    Input  : x=Attributes of the dataset, y=Target Attribute\n",
        "    Output : Split data of train test\n",
        "    \n",
        "    We are removing dev , as dev can be better used for the models that includes DNN, CNN and RNN\n",
        "    \n",
        "    \"\"\"\n",
        "    X=x\n",
        "    Y=y\n",
        "    \n",
        "    train_x,test_x,train_y,test_y = train_test_split(x,y,test_size=0.2,random_state=12)\n",
        "    \n",
        "    #train_x : Training data with attributes\n",
        "    #train_y : Training data with ratings\n",
        "    #test_x  : testing data with attributes\n",
        "    #test_y  : testing data with rating \n",
        "    \n",
        "    print(\"Final size of train/test :\",train_x.size,\"/\",test_x.size)\n",
        "    return train_x,train_y,test_x,test_y"
      ],
      "execution_count": 0,
      "outputs": []
    },
    {
      "cell_type": "code",
      "metadata": {
        "id": "8tBnaw5hbtcH",
        "colab_type": "code",
        "colab": {
          "base_uri": "https://localhost:8080/",
          "height": 34
        },
        "outputId": "23226dd8-fb4a-48c8-e232-7a1e84946071"
      },
      "source": [
        "import numpy as np\n",
        "a=np.array([])\n",
        "a.size"
      ],
      "execution_count": 14,
      "outputs": [
        {
          "output_type": "execute_result",
          "data": {
            "text/plain": [
              "0"
            ]
          },
          "metadata": {
            "tags": []
          },
          "execution_count": 14
        }
      ]
    },
    {
      "cell_type": "code",
      "metadata": {
        "id": "k8rZ_ZzCb2v_",
        "colab_type": "code",
        "colab": {}
      },
      "source": [
        "def passive_aggressive(train_x,train_y,test_x,test_y,stop=False):\n",
        "    \n",
        "    if stop==True:\n",
        "        print(\"Early Stopping is being used\")\n",
        "    \n",
        "    pac= PassiveAggressiveClassifier(early_stopping=stop)\n",
        "    pac.fit(train_x, train_y)\n",
        "    predicted_pac_train=pac.predict(train_x)\n",
        "    predicted_pac_test= pac.predict(test_x)\n",
        "    \n",
        "    score_train= metrics.accuracy_score(train_y, predicted_pac_train)\n",
        "    score_test=metrics.accuracy_score(test_y,predicted_pac_test)\n",
        "    \n",
        "    print(\"train accuracy:\",score_train)\n",
        "    cm_pac_train= metrics.confusion_matrix(train_y, predicted_pac_train)\n",
        "    print(\"train confusion matrix\")\n",
        "    print(cm_pac_train)\n",
        "    print(\"test accuracy:\",score_test)\n",
        "    cm_pac_test= metrics.confusion_matrix(test_y, predicted_pac_test)\n",
        "    print(\"test confusion matrix\")\n",
        "    print(cm_pac_test)"
      ],
      "execution_count": 0,
      "outputs": []
    },
    {
      "cell_type": "code",
      "metadata": {
        "id": "xxWNpEOOb_sc",
        "colab_type": "code",
        "colab": {}
      },
      "source": [
        "def mult_tfidf_pac(x1,x2,y,x3=a,stop=False):\n",
        "    from sklearn.feature_extraction.text import TfidfVectorizer\n",
        "\n",
        "    if x3.size==0:\n",
        "        train_x1,train_y1,test_x1,test_y1=split_data(x1,y)\n",
        "        train_x2,train_y2,test_x2,test_y2=split_data(x2,y)\n",
        "\n",
        "\n",
        "\n",
        "        tfidf_vectorizer = TfidfVectorizer(stop_words='english',max_df=0.7,min_df=0.02)   # a TFIDF vectorizer\n",
        "        tfidf_train_x1 = pd.DataFrame(tfidf_vectorizer.fit_transform(train_x1).todense())  #fitting the training data\n",
        "        tfidf_test_x1 = pd.DataFrame(tfidf_vectorizer.transform(test_x1).todense())\n",
        "\n",
        "        tfidf_train_x2 = pd.DataFrame(tfidf_vectorizer.fit_transform(train_x2).todense())  #fitting the training data\n",
        "        tfidf_test_x2 = pd.DataFrame(tfidf_vectorizer.transform(test_x2).todense()) \n",
        "\n",
        "        train=pd.concat([tfidf_train_x1,tfidf_train_x2],axis=1)\n",
        "        test=pd.concat([tfidf_test_x1,tfidf_test_x2],axis=1)\n",
        "        print(train.shape)\n",
        "        print(test.shape)\n",
        "        print(train_y2.shape)\n",
        "        print(test_y2.shape)\n",
        "\n",
        "        passive_aggressive(tfidf_train_x1,train_y1,tfidf_test_x1,test_y1)\n",
        "    \n",
        "    else:\n",
        "        train_x1,train_y1,test_x1,test_y1=split_data(x1,y)\n",
        "        train_x2,train_y2,test_x2,test_y2=split_data(x2,y)\n",
        "        train_x3,train_y3,test_x3,test_y3=split_data(x3,y)\n",
        "        \n",
        "        tfidf_vectorizer = TfidfVectorizer(stop_words='english',max_df=0.7,min_df=0.02)   # a TFIDF vectorizer\n",
        "        tfidf_train_x1 = pd.DataFrame(tfidf_vectorizer.fit_transform(train_x1).todense())  #fitting the training data\n",
        "        tfidf_test_x1 = pd.DataFrame(tfidf_vectorizer.transform(test_x1).todense())\n",
        "\n",
        "        tfidf_train_x2 = pd.DataFrame(tfidf_vectorizer.fit_transform(train_x2).todense())  #fitting the training data\n",
        "        tfidf_test_x2 = pd.DataFrame(tfidf_vectorizer.transform(test_x2).todense()) \n",
        "        \n",
        "        tfidf_train_x3 = pd.DataFrame(tfidf_vectorizer.fit_transform(train_x3).todense())  #fitting the training data\n",
        "        tfidf_test_x3 = pd.DataFrame(tfidf_vectorizer.transform(test_x3).todense())\n",
        "        \n",
        "        train=pd.concat([tfidf_train_x1,tfidf_train_x2,tfidf_train_x3],axis=1)\n",
        "        test=pd.concat([tfidf_test_x1,tfidf_test_x2,tfidf_test_x3],axis=1)\n",
        "        \n",
        "        passive_aggressive(train,train_y2,test,test_y2)"
      ],
      "execution_count": 0,
      "outputs": []
    },
    {
      "cell_type": "code",
      "metadata": {
        "id": "pLjp46awdBse",
        "colab_type": "code",
        "colab": {
          "base_uri": "https://localhost:8080/",
          "height": 204
        },
        "outputId": "564cf135-baf7-4dc0-9831-4e7ad4f6b2be"
      },
      "source": [
        "mult_tfidf_pac(x1=data_x.named_entities_article,y=data_y.ratingName,stop=True) #single attr named_entities_article with early stopping"
      ],
      "execution_count": 17,
      "outputs": [
        {
          "output_type": "stream",
          "text": [
            "Final size of train/test : 5324 / 1332\n",
            "(5324, 7)\n",
            "(1332, 7)\n",
            "train accuracy: 0.7667167543200601\n",
            "train confusion matrix\n",
            "[[4082    0]\n",
            " [1242    0]]\n",
            "test accuracy: 0.7672672672672672\n",
            "test confusion matrix\n",
            "[[1022    0]\n",
            " [ 310    0]]\n"
          ],
          "name": "stdout"
        }
      ]
    },
    {
      "cell_type": "code",
      "metadata": {
        "id": "qHUNxkScdg38",
        "colab_type": "code",
        "colab": {
          "base_uri": "https://localhost:8080/",
          "height": 204
        },
        "outputId": "d159c616-0516-4762-8acf-29a2e2081e67"
      },
      "source": [
        "mult_tfidf_pac(x1=data_x.named_entities_claim,y=data_y.ratingName,stop=True) #single attr n_e_claim with early stop"
      ],
      "execution_count": 18,
      "outputs": [
        {
          "output_type": "stream",
          "text": [
            "Final size of train/test : 5324 / 1332\n",
            "(5324, 153)\n",
            "(1332, 153)\n",
            "train accuracy: 0.7638993238166792\n",
            "train confusion matrix\n",
            "[[3949  133]\n",
            " [1124  118]]\n",
            "test accuracy: 0.7612612612612613\n",
            "test confusion matrix\n",
            "[[986  36]\n",
            " [282  28]]\n"
          ],
          "name": "stdout"
        }
      ]
    },
    {
      "cell_type": "code",
      "metadata": {
        "id": "vf9zIvuud4rf",
        "colab_type": "code",
        "colab": {
          "base_uri": "https://localhost:8080/",
          "height": 204
        },
        "outputId": "9bc062f4-8416-4214-9614-965de4db9869"
      },
      "source": [
        "mult_tfidf_pac(x1=data_x.source,y=data_y.ratingName,stop=True) #single attr source with early stop"
      ],
      "execution_count": 19,
      "outputs": [
        {
          "output_type": "stream",
          "text": [
            "Final size of train/test : 5324 / 1332\n",
            "(5324, 4)\n",
            "(1332, 4)\n",
            "train accuracy: 0.4154770848985725\n",
            "train confusion matrix\n",
            "[[1487 2595]\n",
            " [ 517  725]]\n",
            "test accuracy: 0.4084084084084084\n",
            "test confusion matrix\n",
            "[[374 648]\n",
            " [140 170]]\n"
          ],
          "name": "stdout"
        }
      ]
    },
    {
      "cell_type": "code",
      "metadata": {
        "id": "tncGBftIeJkD",
        "colab_type": "code",
        "colab": {
          "base_uri": "https://localhost:8080/",
          "height": 204
        },
        "outputId": "23c2d1fc-0947-4af9-ee2c-3fd8d59f8f9b"
      },
      "source": [
        "mult_tfidf_pac(x1=data_x.named_entities_article,y=data_y.ratingName,stop=False) #single attr n_e_ar without early stop"
      ],
      "execution_count": 20,
      "outputs": [
        {
          "output_type": "stream",
          "text": [
            "Final size of train/test : 5324 / 1332\n",
            "(5324, 7)\n",
            "(1332, 7)\n",
            "train accuracy: 0.7036063110443276\n",
            "train confusion matrix\n",
            "[[3661  421]\n",
            " [1157   85]]\n",
            "test accuracy: 0.704954954954955\n",
            "test confusion matrix\n",
            "[[914 108]\n",
            " [285  25]]\n"
          ],
          "name": "stdout"
        }
      ]
    },
    {
      "cell_type": "code",
      "metadata": {
        "id": "ki_v3AP8eSHh",
        "colab_type": "code",
        "colab": {
          "base_uri": "https://localhost:8080/",
          "height": 204
        },
        "outputId": "18b73c97-2f63-4de7-b3d4-79a493e88392"
      },
      "source": [
        "mult_tfidf_pac(x1=data_x.named_entities_claim,y=data_y.ratingName,stop=False) #single attr n_e_c without early stop"
      ],
      "execution_count": 21,
      "outputs": [
        {
          "output_type": "stream",
          "text": [
            "Final size of train/test : 5324 / 1332\n",
            "(5324, 153)\n",
            "(1332, 153)\n",
            "train accuracy: 0.768595041322314\n",
            "train confusion matrix\n",
            "[[4019   63]\n",
            " [1169   73]]\n",
            "test accuracy: 0.7612612612612613\n",
            "test confusion matrix\n",
            "[[1001   21]\n",
            " [ 297   13]]\n"
          ],
          "name": "stdout"
        }
      ]
    },
    {
      "cell_type": "code",
      "metadata": {
        "id": "aaGpAyKveo7F",
        "colab_type": "code",
        "colab": {
          "base_uri": "https://localhost:8080/",
          "height": 204
        },
        "outputId": "3e1f19c2-9e3e-416c-8731-2558545746a8"
      },
      "source": [
        "mult_tfidf_pac(x1=data_x.source,y=data_y.ratingName,stop=False) #single attr source without early stop"
      ],
      "execution_count": 22,
      "outputs": [
        {
          "output_type": "stream",
          "text": [
            "Final size of train/test : 5324 / 1332\n",
            "(5324, 4)\n",
            "(1332, 4)\n",
            "train accuracy: 0.7667167543200601\n",
            "train confusion matrix\n",
            "[[4082    0]\n",
            " [1242    0]]\n",
            "test accuracy: 0.7672672672672672\n",
            "test confusion matrix\n",
            "[[1022    0]\n",
            " [ 310    0]]\n"
          ],
          "name": "stdout"
        }
      ]
    },
    {
      "cell_type": "code",
      "metadata": {
        "id": "wyj4LCUnfKZg",
        "colab_type": "code",
        "colab": {
          "base_uri": "https://localhost:8080/",
          "height": 255
        },
        "outputId": "430aede6-1bd9-447b-f614-24a7ef08edcf"
      },
      "source": [
        "mult_tfidf_pac(x1=data_x.named_entities_article,x2=data_x.named_entities_claim,y=data_y.ratingName,x3=a,stop=True) #n_e_a + n_e_c with early stop"
      ],
      "execution_count": 24,
      "outputs": [
        {
          "output_type": "stream",
          "text": [
            "Final size of train/test : 5324 / 1332\n",
            "Final size of train/test : 5324 / 1332\n",
            "(5324, 160)\n",
            "(1332, 160)\n",
            "(5324,)\n",
            "(1332,)\n",
            "train accuracy: 0.7667167543200601\n",
            "train confusion matrix\n",
            "[[4082    0]\n",
            " [1242    0]]\n",
            "test accuracy: 0.7672672672672672\n",
            "test confusion matrix\n",
            "[[1022    0]\n",
            " [ 310    0]]\n"
          ],
          "name": "stdout"
        }
      ]
    },
    {
      "cell_type": "code",
      "metadata": {
        "id": "4DIP1pmkgBam",
        "colab_type": "code",
        "colab": {
          "base_uri": "https://localhost:8080/",
          "height": 255
        },
        "outputId": "0cea0341-4f43-40b2-a169-39172614839e"
      },
      "source": [
        "mult_tfidf_pac(x1=data_x.named_entities_article,x2=data_x.source,y=data_y.ratingName,x3=a,stop=True) #n_e_a + source with early stop"
      ],
      "execution_count": 25,
      "outputs": [
        {
          "output_type": "stream",
          "text": [
            "Final size of train/test : 5324 / 1332\n",
            "Final size of train/test : 5324 / 1332\n",
            "(5324, 11)\n",
            "(1332, 11)\n",
            "(5324,)\n",
            "(1332,)\n",
            "train accuracy: 0.7667167543200601\n",
            "train confusion matrix\n",
            "[[4082    0]\n",
            " [1242    0]]\n",
            "test accuracy: 0.7672672672672672\n",
            "test confusion matrix\n",
            "[[1022    0]\n",
            " [ 310    0]]\n"
          ],
          "name": "stdout"
        }
      ]
    },
    {
      "cell_type": "code",
      "metadata": {
        "id": "4advgCQmgQe5",
        "colab_type": "code",
        "colab": {
          "base_uri": "https://localhost:8080/",
          "height": 255
        },
        "outputId": "a0823dbf-b8ed-4181-9b02-5b7e63c0daf6"
      },
      "source": [
        "mult_tfidf_pac(x1=data_x.named_entities_claim,x2=data_x.source,y=data_y.ratingName,x3=a,stop=True) #n_e_c +s ource with early stop"
      ],
      "execution_count": 26,
      "outputs": [
        {
          "output_type": "stream",
          "text": [
            "Final size of train/test : 5324 / 1332\n",
            "Final size of train/test : 5324 / 1332\n",
            "(5324, 157)\n",
            "(1332, 157)\n",
            "(5324,)\n",
            "(1332,)\n",
            "train accuracy: 0.7436138241923366\n",
            "train confusion matrix\n",
            "[[3691  391]\n",
            " [ 974  268]]\n",
            "test accuracy: 0.7282282282282282\n",
            "test confusion matrix\n",
            "[[922 100]\n",
            " [262  48]]\n"
          ],
          "name": "stdout"
        }
      ]
    },
    {
      "cell_type": "code",
      "metadata": {
        "id": "siK3S8HNgZsz",
        "colab_type": "code",
        "colab": {
          "base_uri": "https://localhost:8080/",
          "height": 204
        },
        "outputId": "398e3319-394b-4314-dd3d-e5afd4c257ac"
      },
      "source": [
        "mult_tfidf_pac(x1=data_x.named_entities_article,x2=data_x.source,y=data_y.ratingName,x3=data_x.named_entities_claim,stop=True) #all 3 with early stop"
      ],
      "execution_count": 28,
      "outputs": [
        {
          "output_type": "stream",
          "text": [
            "Final size of train/test : 5324 / 1332\n",
            "Final size of train/test : 5324 / 1332\n",
            "Final size of train/test : 5324 / 1332\n",
            "train accuracy: 0.6604057099924868\n",
            "train confusion matrix\n",
            "[[2969 1113]\n",
            " [ 695  547]]\n",
            "test accuracy: 0.6486486486486487\n",
            "test confusion matrix\n",
            "[[735 287]\n",
            " [181 129]]\n"
          ],
          "name": "stdout"
        }
      ]
    },
    {
      "cell_type": "code",
      "metadata": {
        "id": "6fXjl_RrhHUS",
        "colab_type": "code",
        "colab": {
          "base_uri": "https://localhost:8080/",
          "height": 255
        },
        "outputId": "cec86525-954d-4895-e14c-8353eae658d6"
      },
      "source": [
        "mult_tfidf_pac(x1=data_x.named_entities_article,x2=data_x.named_entities_claim,y=data_y.ratingName,x3=a,stop=False) #n_e_a + n_e_c without early stop"
      ],
      "execution_count": 29,
      "outputs": [
        {
          "output_type": "stream",
          "text": [
            "Final size of train/test : 5324 / 1332\n",
            "Final size of train/test : 5324 / 1332\n",
            "(5324, 160)\n",
            "(1332, 160)\n",
            "(5324,)\n",
            "(1332,)\n",
            "train accuracy: 0.7601427498121713\n",
            "train confusion matrix\n",
            "[[4015   67]\n",
            " [1210   32]]\n",
            "test accuracy: 0.762012012012012\n",
            "test confusion matrix\n",
            "[[1008   14]\n",
            " [ 303    7]]\n"
          ],
          "name": "stdout"
        }
      ]
    },
    {
      "cell_type": "code",
      "metadata": {
        "id": "1fhffvyvhPyR",
        "colab_type": "code",
        "colab": {
          "base_uri": "https://localhost:8080/",
          "height": 255
        },
        "outputId": "5903c1a4-0e52-4159-de95-f1322aa14312"
      },
      "source": [
        "mult_tfidf_pac(x1=data_x.named_entities_article,x2=data_x.source,y=data_y.ratingName,x3=a,stop=False) #n_e_a + source without early stop"
      ],
      "execution_count": 30,
      "outputs": [
        {
          "output_type": "stream",
          "text": [
            "Final size of train/test : 5324 / 1332\n",
            "Final size of train/test : 5324 / 1332\n",
            "(5324, 11)\n",
            "(1332, 11)\n",
            "(5324,)\n",
            "(1332,)\n",
            "train accuracy: 0.7667167543200601\n",
            "train confusion matrix\n",
            "[[4082    0]\n",
            " [1242    0]]\n",
            "test accuracy: 0.7672672672672672\n",
            "test confusion matrix\n",
            "[[1022    0]\n",
            " [ 310    0]]\n"
          ],
          "name": "stdout"
        }
      ]
    },
    {
      "cell_type": "code",
      "metadata": {
        "id": "9wCv82uthgl8",
        "colab_type": "code",
        "colab": {
          "base_uri": "https://localhost:8080/",
          "height": 255
        },
        "outputId": "315db411-c537-40cf-ed51-58d9bb729b18"
      },
      "source": [
        "mult_tfidf_pac(x1=data_x.named_entities_claim,x2=data_x.source,y=data_y.ratingName,x3=a,stop=False) #n_e_c +s ource without early stop"
      ],
      "execution_count": 31,
      "outputs": [
        {
          "output_type": "stream",
          "text": [
            "Final size of train/test : 5324 / 1332\n",
            "Final size of train/test : 5324 / 1332\n",
            "(5324, 157)\n",
            "(1332, 157)\n",
            "(5324,)\n",
            "(1332,)\n",
            "train accuracy: 0.7351615326821939\n",
            "train confusion matrix\n",
            "[[3543  539]\n",
            " [ 871  371]]\n",
            "test accuracy: 0.7027027027027027\n",
            "test confusion matrix\n",
            "[[866 156]\n",
            " [240  70]]\n"
          ],
          "name": "stdout"
        }
      ]
    },
    {
      "cell_type": "code",
      "metadata": {
        "id": "yvhfwVhMh0mn",
        "colab_type": "code",
        "colab": {
          "base_uri": "https://localhost:8080/",
          "height": 204
        },
        "outputId": "cf15f7b8-2006-4fff-fd76-5151c3456082"
      },
      "source": [
        "mult_tfidf_pac(x1=data_x.named_entities_article,x2=data_x.source,y=data_y.ratingName,x3=data_x.named_entities_claim,stop=True) #all 3 with early stop"
      ],
      "execution_count": 32,
      "outputs": [
        {
          "output_type": "stream",
          "text": [
            "Final size of train/test : 5324 / 1332\n",
            "Final size of train/test : 5324 / 1332\n",
            "Final size of train/test : 5324 / 1332\n",
            "train accuracy: 0.7648384673178061\n",
            "train confusion matrix\n",
            "[[4019   63]\n",
            " [1189   53]]\n",
            "test accuracy: 0.7605105105105106\n",
            "test confusion matrix\n",
            "[[1008   14]\n",
            " [ 305    5]]\n"
          ],
          "name": "stdout"
        }
      ]
    }
  ]
}