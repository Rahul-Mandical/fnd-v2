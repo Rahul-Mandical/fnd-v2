{
  "nbformat": 4,
  "nbformat_minor": 0,
  "metadata": {
    "colab": {
      "name": "liar_cnn",
      "provenance": [],
      "collapsed_sections": [],
      "machine_shape": "hm"
    },
    "kernelspec": {
      "name": "python3",
      "display_name": "Python 3"
    }
  },
  "cells": [
    {
      "cell_type": "code",
      "metadata": {
        "id": "BkR4Z4AtZOI7",
        "colab_type": "code",
        "colab": {}
      },
      "source": [
        "a = [] #increses the resourse provided by colab \n",
        "while(1):\n",
        "    a.append('1')                                                                                 "
      ],
      "execution_count": null,
      "outputs": []
    },
    {
      "cell_type": "markdown",
      "metadata": {
        "id": "NZzzQfS-dXN-",
        "colab_type": "text"
      },
      "source": [
        "liar dataset (already preprocessed)\n",
        "1=true 0=false"
      ]
    },
    {
      "cell_type": "code",
      "metadata": {
        "id": "z70z70l8Z-fL",
        "colab_type": "code",
        "colab": {
          "resources": {
            "http://localhost:8080/nbextensions/google.colab/files.js": {
              "data": "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",
              "ok": true,
              "headers": [
                [
                  "content-type",
                  "application/javascript"
                ]
              ],
              "status": 200,
              "status_text": ""
            }
          },
          "base_uri": "https://localhost:8080/",
          "height": 74
        },
        "outputId": "b7b8577d-9c7c-433f-e7c1-404c72e8d54a"
      },
      "source": [
        "from google.colab import files \n",
        "uploaded = files.upload()"
      ],
      "execution_count": null,
      "outputs": [
        {
          "output_type": "display_data",
          "data": {
            "text/html": [
              "\n",
              "     <input type=\"file\" id=\"files-996a1bf0-3de6-4828-9c0a-79457fd573b1\" name=\"files[]\" multiple disabled />\n",
              "     <output id=\"result-996a1bf0-3de6-4828-9c0a-79457fd573b1\">\n",
              "      Upload widget is only available when the cell has been executed in the\n",
              "      current browser session. Please rerun this cell to enable.\n",
              "      </output>\n",
              "      <script src=\"/nbextensions/google.colab/files.js\"></script> "
            ],
            "text/plain": [
              "<IPython.core.display.HTML object>"
            ]
          },
          "metadata": {
            "tags": []
          }
        },
        {
          "output_type": "stream",
          "text": [
            "Saving liar_data.csv to liar_data.csv\n"
          ],
          "name": "stdout"
        }
      ]
    },
    {
      "cell_type": "code",
      "metadata": {
        "id": "spiRzMTbajF0",
        "colab_type": "code",
        "colab": {
          "base_uri": "https://localhost:8080/",
          "height": 170
        },
        "outputId": "4884d907-d7c9-472e-af0d-a57669c3b556"
      },
      "source": [
        "import io \n",
        "import pandas as pd\n",
        "data = pd.read_csv(io.BytesIO(uploaded['liar_data.csv'])) \n",
        "print(type(data))\n",
        "print(data.head())"
      ],
      "execution_count": null,
      "outputs": [
        {
          "output_type": "stream",
          "text": [
            "<class 'pandas.core.frame.DataFrame'>\n",
            "   label  ...                                   context\n",
            "0      0  ...                                  a mailer\n",
            "1      0  ...                           a floor speech.\n",
            "2      0  ...                                    Denver\n",
            "3      0  ...                 a an online opinion-piece\n",
            "4      0  ...  a Democratic debate in Philadelphia, Pa.\n",
            "\n",
            "[5 rows x 8 columns]\n"
          ],
          "name": "stdout"
        }
      ]
    },
    {
      "cell_type": "code",
      "metadata": {
        "id": "Y0SF6m67a6qb",
        "colab_type": "code",
        "colab": {
          "base_uri": "https://localhost:8080/",
          "height": 68
        },
        "outputId": "b6ed1c8e-b448-424c-e932-d212187684e3"
      },
      "source": [
        "data.columns\n"
      ],
      "execution_count": null,
      "outputs": [
        {
          "output_type": "execute_result",
          "data": {
            "text/plain": [
              "Index(['label', 'statement', 'subject', 'speaker', 'speaker_job_title',\n",
              "       'state_info', 'party', 'context'],\n",
              "      dtype='object')"
            ]
          },
          "metadata": {
            "tags": []
          },
          "execution_count": 5
        }
      ]
    },
    {
      "cell_type": "code",
      "metadata": {
        "id": "PLNEHzeabU5i",
        "colab_type": "code",
        "colab": {}
      },
      "source": [
        "data.dropna(inplace=True)"
      ],
      "execution_count": null,
      "outputs": []
    },
    {
      "cell_type": "code",
      "metadata": {
        "id": "0kOlBj3cbeVq",
        "colab_type": "code",
        "colab": {
          "base_uri": "https://localhost:8080/",
          "height": 34
        },
        "outputId": "81b6a032-2c4a-4c68-ab33-15721397770a"
      },
      "source": [
        "data.shape"
      ],
      "execution_count": null,
      "outputs": [
        {
          "output_type": "execute_result",
          "data": {
            "text/plain": [
              "(8438, 8)"
            ]
          },
          "metadata": {
            "tags": []
          },
          "execution_count": 7
        }
      ]
    },
    {
      "cell_type": "code",
      "metadata": {
        "id": "gg9Sd1agffKs",
        "colab_type": "code",
        "colab": {
          "base_uri": "https://localhost:8080/",
          "height": 34
        },
        "outputId": "8ef1d973-bcd6-425c-e9bf-ab6057fe9f31"
      },
      "source": [
        "\"\"\"\n",
        "data preprocessing done \n",
        "spiltting dataset as 90 10 10 \n",
        "\"\"\"\n",
        "\n"
      ],
      "execution_count": null,
      "outputs": [
        {
          "output_type": "execute_result",
          "data": {
            "text/plain": [
              "'\\ndata preprocessing done \\nspiltting dataset as 90 10 10 \\n'"
            ]
          },
          "metadata": {
            "tags": []
          },
          "execution_count": 8
        }
      ]
    },
    {
      "cell_type": "code",
      "metadata": {
        "id": "3Bmo0koQg9qj",
        "colab_type": "code",
        "colab": {
          "base_uri": "https://localhost:8080/",
          "height": 51
        },
        "outputId": "7a3f52e2-8aad-486b-aee4-e4f9f916e4c9"
      },
      "source": [
        "dataliar_y=data.label\n",
        "dataliar_x=data.drop(columns=['label'])\n",
        "print( dataliar_x.shape)\n",
        "print (dataliar_y.shape)"
      ],
      "execution_count": null,
      "outputs": [
        {
          "output_type": "stream",
          "text": [
            "(8438, 7)\n",
            "(8438,)\n"
          ],
          "name": "stdout"
        }
      ]
    },
    {
      "cell_type": "code",
      "metadata": {
        "id": "la4XTfmfbOj0",
        "colab_type": "code",
        "colab": {
          "base_uri": "https://localhost:8080/",
          "height": 136
        },
        "outputId": "ff032ead-4240-4f19-ece8-eac8e9f3b1d4"
      },
      "source": [
        "#train test split to form test from megaset\n",
        "from sklearn.model_selection import train_test_split\n",
        "\n",
        "X_train_temp, liar_test_x, y_train_temp, liar_test_y = train_test_split(dataliar_x,dataliar_y,test_size=0.1,random_state=12)\n",
        "print(X_train_temp.shape)\n",
        "print(liar_test_x.shape)\n",
        "\n",
        "# mega_test_x : Final testing file with statements\n",
        "# mega_test_y : Final testing file with ratings\n",
        "\n",
        "liar_train_x, liar_dev_x, liar_train_y, liar_dev_y = train_test_split(X_train_temp,y_train_temp,test_size=844,random_state=12)\n",
        "\n",
        "print(liar_train_x.shape)\n",
        "print(liar_dev_x.shape)\n",
        "\n",
        "# mega_train_x : Training file with statements\n",
        "# mega_train_y : Training file with ratings\n",
        "# mega_dev_x   : Development testing file with statements\n",
        "# mega_dev_y   : Development testing file with ratings\n",
        "print(type(liar_train_x))\n",
        "print(liar_train_y.shape)\n",
        "print(\"Final size of train/dev/test : \",liar_train_x.shape,\"/\",liar_dev_x.shape,\"/\",liar_test_x.shape)"
      ],
      "execution_count": null,
      "outputs": [
        {
          "output_type": "stream",
          "text": [
            "(7594, 7)\n",
            "(844, 7)\n",
            "(6750, 7)\n",
            "(844, 7)\n",
            "<class 'pandas.core.frame.DataFrame'>\n",
            "(6750,)\n",
            "Final size of train/dev/test :  (6750, 7) / (844, 7) / (844, 7)\n"
          ],
          "name": "stdout"
        }
      ]
    },
    {
      "cell_type": "code",
      "metadata": {
        "id": "uBBfJ3kikHib",
        "colab_type": "code",
        "colab": {}
      },
      "source": [
        "\"\"\"\n",
        "function to tokenize and pad\n",
        "\"\"\"\n",
        "import tensorflow\n",
        "import pandas as pd\n",
        "import keras\n",
        "from keras.preprocessing.text import Tokenizer\n",
        "from keras.preprocessing.sequence import pad_sequences\n",
        "import numpy as np"
      ],
      "execution_count": null,
      "outputs": []
    },
    {
      "cell_type": "code",
      "metadata": {
        "id": "dIONLHtQmazX",
        "colab_type": "code",
        "colab": {}
      },
      "source": [
        "def tokpad(train_x,dev_x):\n",
        "    tokenizer = Tokenizer()\n",
        "    tokenizer.fit_on_texts(train_x)\n",
        "\n",
        "\n",
        "    train_text = tokenizer.texts_to_sequences(train_x)\n",
        "    dev_text = tokenizer.texts_to_sequences(dev_x)\n",
        "\n",
        "    vocab_size = len(tokenizer.word_index) + 1  # Adding 1 because of reserved 0 index\n",
        "    print('vocab size ',vocab_size)\n",
        "\n",
        "    maxlen_text =0\n",
        "    for i in train_x:\n",
        "        if(len(i)>maxlen_text):\n",
        "            maxlen_text=len(i)\n",
        "    print('maxlen ',maxlen_text)\n",
        "\n",
        "    train_padtext = pad_sequences(train_text, padding='post', maxlen=maxlen_text)\n",
        "    dev_padtext = pad_sequences(dev_text, padding='post', maxlen=maxlen_text)\n",
        "\n",
        "    print('train')\n",
        "    print(train_padtext.shape)\n",
        "    print('dev')\n",
        "    print(dev_padtext.shape)\n",
        "    print(train_padtext[1, :])\n",
        "\n",
        "    return train_padtext,dev_padtext"
      ],
      "execution_count": null,
      "outputs": []
    },
    {
      "cell_type": "code",
      "metadata": {
        "id": "xZlymHzLmrWH",
        "colab_type": "code",
        "colab": {}
      },
      "source": [
        "\"\"\"\n",
        "Index(['label', 'statement', 'subject', 'speaker', 'speaker_job_title',\n",
        "       'state_info', 'party', 'context'],\n",
        "      dtype='object')\n",
        "  \"\"\""
      ],
      "execution_count": null,
      "outputs": []
    },
    {
      "cell_type": "code",
      "metadata": {
        "id": "_rH2ua2Um_z8",
        "colab_type": "code",
        "colab": {
          "base_uri": "https://localhost:8080/",
          "height": 323
        },
        "outputId": "e8094d11-c6c9-4fa5-f46a-cbf5bc4f0fd4"
      },
      "source": [
        "#passing subject attribute to tokpad\n",
        "train_padtext_sub,dev_padtext_sub=tokpad(liar_train_x.subject,liar_dev_x.subject)\n"
      ],
      "execution_count": null,
      "outputs": [
        {
          "output_type": "stream",
          "text": [
            "vocab size  178\n",
            "maxlen  203\n",
            "train\n",
            "(6750, 203)\n",
            "dev\n",
            "(844, 203)\n",
            "[109 110   0   0   0   0   0   0   0   0   0   0   0   0   0   0   0   0\n",
            "   0   0   0   0   0   0   0   0   0   0   0   0   0   0   0   0   0   0\n",
            "   0   0   0   0   0   0   0   0   0   0   0   0   0   0   0   0   0   0\n",
            "   0   0   0   0   0   0   0   0   0   0   0   0   0   0   0   0   0   0\n",
            "   0   0   0   0   0   0   0   0   0   0   0   0   0   0   0   0   0   0\n",
            "   0   0   0   0   0   0   0   0   0   0   0   0   0   0   0   0   0   0\n",
            "   0   0   0   0   0   0   0   0   0   0   0   0   0   0   0   0   0   0\n",
            "   0   0   0   0   0   0   0   0   0   0   0   0   0   0   0   0   0   0\n",
            "   0   0   0   0   0   0   0   0   0   0   0   0   0   0   0   0   0   0\n",
            "   0   0   0   0   0   0   0   0   0   0   0   0   0   0   0   0   0   0\n",
            "   0   0   0   0   0   0   0   0   0   0   0   0   0   0   0   0   0   0\n",
            "   0   0   0   0   0]\n"
          ],
          "name": "stdout"
        }
      ]
    },
    {
      "cell_type": "code",
      "metadata": {
        "id": "oeFnNx1EohxD",
        "colab_type": "code",
        "colab": {
          "base_uri": "https://localhost:8080/",
          "height": 136
        },
        "outputId": "847421a1-c4d1-4057-e650-252cd333d71d"
      },
      "source": [
        "#passing state attribute to tokpad\n",
        "train_padtext_state,dev_padtext_state=tokpad(liar_train_x.statement,liar_dev_x.statement)"
      ],
      "execution_count": null,
      "outputs": [
        {
          "output_type": "stream",
          "text": [
            "vocab size  9804\n",
            "maxlen  2099\n",
            "train\n",
            "(6750, 2099)\n",
            "dev\n",
            "(844, 2099)\n",
            "[  11 1307    1 ...    0    0    0]\n"
          ],
          "name": "stdout"
        }
      ]
    },
    {
      "cell_type": "code",
      "metadata": {
        "id": "SaYq36GuovBx",
        "colab_type": "code",
        "colab": {
          "base_uri": "https://localhost:8080/",
          "height": 170
        },
        "outputId": "86845dee-6dd6-47f3-c9ff-4efdf0e4e90c"
      },
      "source": [
        "#passing speaker attribute to tokpad\n",
        "train_padtext_spk,dev_padtext_spk=tokpad(liar_train_x.speaker,liar_dev_x.speaker)"
      ],
      "execution_count": null,
      "outputs": [
        {
          "output_type": "stream",
          "text": [
            "vocab size  2063\n",
            "maxlen  50\n",
            "train\n",
            "(6750, 50)\n",
            "dev\n",
            "(844, 50)\n",
            "[78 69  0  0  0  0  0  0  0  0  0  0  0  0  0  0  0  0  0  0  0  0  0  0\n",
            "  0  0  0  0  0  0  0  0  0  0  0  0  0  0  0  0  0  0  0  0  0  0  0  0\n",
            "  0  0]\n"
          ],
          "name": "stdout"
        }
      ]
    },
    {
      "cell_type": "code",
      "metadata": {
        "id": "v6kdASpWo96v",
        "colab_type": "code",
        "colab": {
          "base_uri": "https://localhost:8080/",
          "height": 204
        },
        "outputId": "56727a77-082b-4f56-9cfe-d3dcc0a7a87d"
      },
      "source": [
        "#passing speaker_job_title attribute to tokpad\n",
        "train_padtext_sjt,dev_padtext_sjt=tokpad(liar_train_x.speaker_job_title,liar_dev_x.speaker_job_title)"
      ],
      "execution_count": null,
      "outputs": [
        {
          "output_type": "stream",
          "text": [
            "vocab size  1046\n",
            "maxlen  100\n",
            "train\n",
            "(6750, 100)\n",
            "dev\n",
            "(844, 100)\n",
            "[24 47 25  0  0  0  0  0  0  0  0  0  0  0  0  0  0  0  0  0  0  0  0  0\n",
            "  0  0  0  0  0  0  0  0  0  0  0  0  0  0  0  0  0  0  0  0  0  0  0  0\n",
            "  0  0  0  0  0  0  0  0  0  0  0  0  0  0  0  0  0  0  0  0  0  0  0  0\n",
            "  0  0  0  0  0  0  0  0  0  0  0  0  0  0  0  0  0  0  0  0  0  0  0  0\n",
            "  0  0  0  0]\n"
          ],
          "name": "stdout"
        }
      ]
    },
    {
      "cell_type": "code",
      "metadata": {
        "id": "xt3YBdL4pQkj",
        "colab_type": "code",
        "colab": {
          "base_uri": "https://localhost:8080/",
          "height": 170
        },
        "outputId": "a9194f6f-567c-46e7-a796-8e1b854a343d"
      },
      "source": [
        "#passing state_info attribute to tokpad\n",
        "train_padtext_stinfo,dev_padtext_stinfo=tokpad(liar_train_x.state_info,liar_dev_x.state_info)"
      ],
      "execution_count": null,
      "outputs": [
        {
          "output_type": "stream",
          "text": [
            "vocab size  75\n",
            "maxlen  49\n",
            "train\n",
            "(6750, 49)\n",
            "dev\n",
            "(844, 49)\n",
            "[30  0  0  0  0  0  0  0  0  0  0  0  0  0  0  0  0  0  0  0  0  0  0  0\n",
            "  0  0  0  0  0  0  0  0  0  0  0  0  0  0  0  0  0  0  0  0  0  0  0  0\n",
            "  0]\n"
          ],
          "name": "stdout"
        }
      ]
    },
    {
      "cell_type": "code",
      "metadata": {
        "id": "i7jGeV2TpkUt",
        "colab_type": "code",
        "colab": {
          "base_uri": "https://localhost:8080/",
          "height": 136
        },
        "outputId": "bf9c9c9a-f2f7-437a-c022-973e636be560"
      },
      "source": [
        "#passing party attribute to tokpad\n",
        "train_padtext_pty,dev_padtext_pty=tokpad(liar_train_x.party,liar_dev_x.party)"
      ],
      "execution_count": null,
      "outputs": [
        {
          "output_type": "stream",
          "text": [
            "vocab size  29\n",
            "maxlen  28\n",
            "train\n",
            "(6750, 28)\n",
            "dev\n",
            "(844, 28)\n",
            "[2 0 0 0 0 0 0 0 0 0 0 0 0 0 0 0 0 0 0 0 0 0 0 0 0 0 0 0]\n"
          ],
          "name": "stdout"
        }
      ]
    },
    {
      "cell_type": "code",
      "metadata": {
        "id": "6M68iUY7p0Cj",
        "colab_type": "code",
        "colab": {
          "base_uri": "https://localhost:8080/",
          "height": 221
        },
        "outputId": "4d5caa7f-83fd-40ce-a88e-9bdf1df787a0"
      },
      "source": [
        "#passing context attribute to tokpad\n",
        "train_padtext_cnt,dev_padtext_cnt=tokpad(liar_train_x.context,liar_dev_x.context)"
      ],
      "execution_count": null,
      "outputs": [
        {
          "output_type": "stream",
          "text": [
            "vocab size  1958\n",
            "maxlen  100\n",
            "train\n",
            "(6750, 100)\n",
            "dev\n",
            "(844, 100)\n",
            "[303   0   0   0   0   0   0   0   0   0   0   0   0   0   0   0   0   0\n",
            "   0   0   0   0   0   0   0   0   0   0   0   0   0   0   0   0   0   0\n",
            "   0   0   0   0   0   0   0   0   0   0   0   0   0   0   0   0   0   0\n",
            "   0   0   0   0   0   0   0   0   0   0   0   0   0   0   0   0   0   0\n",
            "   0   0   0   0   0   0   0   0   0   0   0   0   0   0   0   0   0   0\n",
            "   0   0   0   0   0   0   0   0   0   0]\n"
          ],
          "name": "stdout"
        }
      ]
    },
    {
      "cell_type": "code",
      "metadata": {
        "id": "jzYMWoFbrjqt",
        "colab_type": "code",
        "colab": {}
      },
      "source": [
        "import matplotlib.pyplot as plt\n",
        "plt.style.use('ggplot')\n",
        "\n",
        "def plot_history(history):\n",
        "    acc = history.history['acc']\n",
        "    val_acc = history.history['val_acc']\n",
        "    loss = history.history['loss']\n",
        "    val_loss = history.history['val_loss']\n",
        "    x = range(1, len(acc) + 1)\n",
        "\n",
        "    plt.figure(figsize=(12, 5))\n",
        "    plt.subplot(1, 2, 1)\n",
        "    plt.plot(x, acc, 'b', label='Training acc')\n",
        "    plt.plot(x, val_acc, 'r', label='Validation acc')\n",
        "    plt.title('Training and validation accuracy')\n",
        "    plt.legend()\n",
        "    plt.subplot(1, 2, 2)\n",
        "    plt.plot(x, loss, 'b', label='Training loss')\n",
        "    plt.plot(x, val_loss, 'r', label='Validation loss')\n",
        "    plt.title('Training and validation loss')\n",
        "    plt.legend()"
      ],
      "execution_count": null,
      "outputs": []
    },
    {
      "cell_type": "code",
      "metadata": {
        "id": "-ufDxfgxvNZt",
        "colab_type": "code",
        "colab": {
          "base_uri": "https://localhost:8080/",
          "height": 1000
        },
        "outputId": "5c4da82f-a241-4094-9a7a-82d6cf6d2748"
      },
      "source": [
        "#with kernel and bias regularizer \n",
        "#more agressive\n",
        "#model1\n",
        "from keras.layers import Embedding\n",
        "from keras.layers import concatenate\n",
        "from keras.layers import GlobalMaxPool1D\n",
        "from keras.layers import Input, Dense\n",
        "from keras.models import Model\n",
        "from keras.regularizers import l2\n",
        "\n",
        "embedding_dim = 25\n",
        "h1=int(2/3*175)\n",
        "h2=int(2/3*h1)\n",
        "print(h1,h2)\n",
        "\n",
        "sjtitle_in = Input(shape=(100,), name='sjtitle_in')\n",
        "speaker_in = Input(shape=(50,), name='speaker_in')\n",
        "text_in = Input(shape=(2099,), name='text_in')\n",
        "subject_in = Input(shape=(203,), name='subject_in')\n",
        "state_in = Input(shape=(49,), name='state_in')\n",
        "party_in = Input(shape=(28,), name='party_in')\n",
        "context_in = Input(shape=(100,), name='context_in')\n",
        "\n",
        "#input dim = vocab size\n",
        "#input length = maxlen\n",
        "sjtitle_embed = Embedding(output_dim=embedding_dim, input_dim=1046, input_length=100)(sjtitle_in)\n",
        "speaker_embed = Embedding(output_dim=embedding_dim, input_dim=2063, input_length=50)(speaker_in)\n",
        "text_embed = Embedding(output_dim=embedding_dim, input_dim=9804, input_length=2099)(text_in)\n",
        "subject_embed = Embedding(output_dim=embedding_dim, input_dim=178, input_length=203)(subject_in)\n",
        "state_embed = Embedding(output_dim=embedding_dim, input_dim=75, input_length=49)(state_in)\n",
        "party_embed = Embedding(output_dim=embedding_dim, input_dim=29, input_length=28)(party_in)\n",
        "context_embed = Embedding(output_dim=embedding_dim, input_dim=1958, input_length=100)(context_in)\n",
        "\n",
        "\n",
        "\n",
        "sjtitle_pool = GlobalMaxPool1D()(sjtitle_embed)\n",
        "speaker_pool = GlobalMaxPool1D()(speaker_embed)\n",
        "text_pool = GlobalMaxPool1D()(text_embed)\n",
        "subject_pool = GlobalMaxPool1D()(subject_embed)\n",
        "state_pool = GlobalMaxPool1D()(state_embed)\n",
        "party_pool = GlobalMaxPool1D()(party_embed)\n",
        "context_pool = GlobalMaxPool1D()(context_embed)\n",
        "\n",
        "\n",
        "all_d = concatenate([sjtitle_pool, speaker_pool,text_pool,subject_pool,state_pool,party_pool,context_pool])\n",
        "\n",
        "d1 = Dense(h1, activation='relu',kernel_regularizer=l2(0.01), bias_regularizer=l2(0.01))(all_d)\n",
        "d2 = Dense(h2, activation='relu',kernel_regularizer=l2(0.01), bias_regularizer=l2(0.01))(d1)\n",
        "\n",
        "op = Dense(1, activation='sigmoid', name='op')(d2)\n",
        "\n",
        "\n",
        "\n",
        "\n",
        "model1 = Model(inputs=[sjtitle_in,speaker_in,text_in,subject_in,state_in,party_in,context_in], outputs=[op])\n",
        "\n",
        "model1.summary()"
      ],
      "execution_count": null,
      "outputs": [
        {
          "output_type": "stream",
          "text": [
            "116 77\n",
            "WARNING:tensorflow:From /usr/local/lib/python3.6/dist-packages/keras/backend/tensorflow_backend.py:541: The name tf.placeholder is deprecated. Please use tf.compat.v1.placeholder instead.\n",
            "\n",
            "WARNING:tensorflow:From /usr/local/lib/python3.6/dist-packages/keras/backend/tensorflow_backend.py:66: The name tf.get_default_graph is deprecated. Please use tf.compat.v1.get_default_graph instead.\n",
            "\n",
            "WARNING:tensorflow:From /usr/local/lib/python3.6/dist-packages/keras/backend/tensorflow_backend.py:4432: The name tf.random_uniform is deprecated. Please use tf.random.uniform instead.\n",
            "\n",
            "Model: \"model_1\"\n",
            "__________________________________________________________________________________________________\n",
            "Layer (type)                    Output Shape         Param #     Connected to                     \n",
            "==================================================================================================\n",
            "sjtitle_in (InputLayer)         (None, 100)          0                                            \n",
            "__________________________________________________________________________________________________\n",
            "speaker_in (InputLayer)         (None, 50)           0                                            \n",
            "__________________________________________________________________________________________________\n",
            "text_in (InputLayer)            (None, 2099)         0                                            \n",
            "__________________________________________________________________________________________________\n",
            "subject_in (InputLayer)         (None, 203)          0                                            \n",
            "__________________________________________________________________________________________________\n",
            "state_in (InputLayer)           (None, 49)           0                                            \n",
            "__________________________________________________________________________________________________\n",
            "party_in (InputLayer)           (None, 28)           0                                            \n",
            "__________________________________________________________________________________________________\n",
            "context_in (InputLayer)         (None, 100)          0                                            \n",
            "__________________________________________________________________________________________________\n",
            "embedding_1 (Embedding)         (None, 100, 25)      26150       sjtitle_in[0][0]                 \n",
            "__________________________________________________________________________________________________\n",
            "embedding_2 (Embedding)         (None, 50, 25)       51575       speaker_in[0][0]                 \n",
            "__________________________________________________________________________________________________\n",
            "embedding_3 (Embedding)         (None, 2099, 25)     245100      text_in[0][0]                    \n",
            "__________________________________________________________________________________________________\n",
            "embedding_4 (Embedding)         (None, 203, 25)      4450        subject_in[0][0]                 \n",
            "__________________________________________________________________________________________________\n",
            "embedding_5 (Embedding)         (None, 49, 25)       1875        state_in[0][0]                   \n",
            "__________________________________________________________________________________________________\n",
            "embedding_6 (Embedding)         (None, 28, 25)       725         party_in[0][0]                   \n",
            "__________________________________________________________________________________________________\n",
            "embedding_7 (Embedding)         (None, 100, 25)      48950       context_in[0][0]                 \n",
            "__________________________________________________________________________________________________\n",
            "global_max_pooling1d_1 (GlobalM (None, 25)           0           embedding_1[0][0]                \n",
            "__________________________________________________________________________________________________\n",
            "global_max_pooling1d_2 (GlobalM (None, 25)           0           embedding_2[0][0]                \n",
            "__________________________________________________________________________________________________\n",
            "global_max_pooling1d_3 (GlobalM (None, 25)           0           embedding_3[0][0]                \n",
            "__________________________________________________________________________________________________\n",
            "global_max_pooling1d_4 (GlobalM (None, 25)           0           embedding_4[0][0]                \n",
            "__________________________________________________________________________________________________\n",
            "global_max_pooling1d_5 (GlobalM (None, 25)           0           embedding_5[0][0]                \n",
            "__________________________________________________________________________________________________\n",
            "global_max_pooling1d_6 (GlobalM (None, 25)           0           embedding_6[0][0]                \n",
            "__________________________________________________________________________________________________\n",
            "global_max_pooling1d_7 (GlobalM (None, 25)           0           embedding_7[0][0]                \n",
            "__________________________________________________________________________________________________\n",
            "concatenate_1 (Concatenate)     (None, 175)          0           global_max_pooling1d_1[0][0]     \n",
            "                                                                 global_max_pooling1d_2[0][0]     \n",
            "                                                                 global_max_pooling1d_3[0][0]     \n",
            "                                                                 global_max_pooling1d_4[0][0]     \n",
            "                                                                 global_max_pooling1d_5[0][0]     \n",
            "                                                                 global_max_pooling1d_6[0][0]     \n",
            "                                                                 global_max_pooling1d_7[0][0]     \n",
            "__________________________________________________________________________________________________\n",
            "dense_1 (Dense)                 (None, 116)          20416       concatenate_1[0][0]              \n",
            "__________________________________________________________________________________________________\n",
            "dense_2 (Dense)                 (None, 77)           9009        dense_1[0][0]                    \n",
            "__________________________________________________________________________________________________\n",
            "op (Dense)                      (None, 1)            78          dense_2[0][0]                    \n",
            "==================================================================================================\n",
            "Total params: 408,328\n",
            "Trainable params: 408,328\n",
            "Non-trainable params: 0\n",
            "__________________________________________________________________________________________________\n"
          ],
          "name": "stdout"
        }
      ]
    },
    {
      "cell_type": "code",
      "metadata": {
        "id": "tZQ3-hPFwljA",
        "colab_type": "code",
        "colab": {
          "base_uri": "https://localhost:8080/",
          "height": 1000
        },
        "outputId": "17342cb9-1175-49c7-9c3a-218680b684ee"
      },
      "source": [
        "model1.compile(optimizer='adam',\n",
        "              loss='binary_crossentropy',metrics=['accuracy'])\n",
        "h=model1.fit({'sjtitle_in':train_padtext_sjt,'speaker_in':train_padtext_spk,'text_in':train_padtext_state,'subject_in':train_padtext_sub,'state_in':train_padtext_stinfo,'party_in':train_padtext_pty,'context_in':train_padtext_cnt},{'op': liar_train_y},\n",
        "          epochs=25, batch_size=32,validation_data=({'sjtitle_in':dev_padtext_sjt,'speaker_in':dev_padtext_spk,'text_in':dev_padtext_state,'subject_in':dev_padtext_sub,'state_in':dev_padtext_stinfo,'party_in':dev_padtext_pty,'context_in':dev_padtext_cnt},{'op': liar_dev_y}))\n",
        "plot_history(h)"
      ],
      "execution_count": null,
      "outputs": [
        {
          "output_type": "stream",
          "text": [
            "WARNING:tensorflow:From /usr/local/lib/python3.6/dist-packages/keras/optimizers.py:793: The name tf.train.Optimizer is deprecated. Please use tf.compat.v1.train.Optimizer instead.\n",
            "\n",
            "WARNING:tensorflow:From /usr/local/lib/python3.6/dist-packages/keras/backend/tensorflow_backend.py:3657: The name tf.log is deprecated. Please use tf.math.log instead.\n",
            "\n",
            "WARNING:tensorflow:From /usr/local/lib/python3.6/dist-packages/tensorflow_core/python/ops/nn_impl.py:183: where (from tensorflow.python.ops.array_ops) is deprecated and will be removed in a future version.\n",
            "Instructions for updating:\n",
            "Use tf.where in 2.0, which has the same broadcast rule as np.where\n",
            "WARNING:tensorflow:From /usr/local/lib/python3.6/dist-packages/keras/backend/tensorflow_backend.py:1033: The name tf.assign_add is deprecated. Please use tf.compat.v1.assign_add instead.\n",
            "\n",
            "WARNING:tensorflow:From /usr/local/lib/python3.6/dist-packages/keras/backend/tensorflow_backend.py:1020: The name tf.assign is deprecated. Please use tf.compat.v1.assign instead.\n",
            "\n",
            "WARNING:tensorflow:From /usr/local/lib/python3.6/dist-packages/keras/backend/tensorflow_backend.py:3005: The name tf.Session is deprecated. Please use tf.compat.v1.Session instead.\n",
            "\n",
            "Train on 6750 samples, validate on 844 samples\n",
            "Epoch 1/25\n",
            "WARNING:tensorflow:From /usr/local/lib/python3.6/dist-packages/keras/backend/tensorflow_backend.py:190: The name tf.get_default_session is deprecated. Please use tf.compat.v1.get_default_session instead.\n",
            "\n",
            "WARNING:tensorflow:From /usr/local/lib/python3.6/dist-packages/keras/backend/tensorflow_backend.py:197: The name tf.ConfigProto is deprecated. Please use tf.compat.v1.ConfigProto instead.\n",
            "\n",
            "WARNING:tensorflow:From /usr/local/lib/python3.6/dist-packages/keras/backend/tensorflow_backend.py:207: The name tf.global_variables is deprecated. Please use tf.compat.v1.global_variables instead.\n",
            "\n",
            "WARNING:tensorflow:From /usr/local/lib/python3.6/dist-packages/keras/backend/tensorflow_backend.py:216: The name tf.is_variable_initialized is deprecated. Please use tf.compat.v1.is_variable_initialized instead.\n",
            "\n",
            "WARNING:tensorflow:From /usr/local/lib/python3.6/dist-packages/keras/backend/tensorflow_backend.py:223: The name tf.variables_initializer is deprecated. Please use tf.compat.v1.variables_initializer instead.\n",
            "\n",
            "6750/6750 [==============================] - 5s 683us/step - loss: 1.1082 - acc: 0.7354 - val_loss: 0.5942 - val_acc: 0.7417\n",
            "Epoch 2/25\n",
            "6750/6750 [==============================] - 4s 550us/step - loss: 0.5856 - acc: 0.7369 - val_loss: 0.5791 - val_acc: 0.7417\n",
            "Epoch 3/25\n",
            "6750/6750 [==============================] - 4s 547us/step - loss: 0.5806 - acc: 0.7369 - val_loss: 0.5778 - val_acc: 0.7417\n",
            "Epoch 4/25\n",
            "6750/6750 [==============================] - 4s 555us/step - loss: 0.5716 - acc: 0.7369 - val_loss: 0.5948 - val_acc: 0.7417\n",
            "Epoch 5/25\n",
            "6750/6750 [==============================] - 4s 540us/step - loss: 0.5108 - acc: 0.7723 - val_loss: 0.6774 - val_acc: 0.6884\n",
            "Epoch 6/25\n",
            "6750/6750 [==============================] - 4s 520us/step - loss: 0.4082 - acc: 0.8643 - val_loss: 0.8081 - val_acc: 0.6540\n",
            "Epoch 7/25\n",
            "6750/6750 [==============================] - 4s 522us/step - loss: 0.3198 - acc: 0.9182 - val_loss: 0.9047 - val_acc: 0.6209\n",
            "Epoch 8/25\n",
            "6750/6750 [==============================] - 4s 522us/step - loss: 0.2476 - acc: 0.9517 - val_loss: 1.0326 - val_acc: 0.6374\n",
            "Epoch 9/25\n",
            "6750/6750 [==============================] - 4s 519us/step - loss: 0.1925 - acc: 0.9760 - val_loss: 1.1065 - val_acc: 0.6102\n",
            "Epoch 10/25\n",
            "6750/6750 [==============================] - 4s 523us/step - loss: 0.1544 - acc: 0.9913 - val_loss: 1.1856 - val_acc: 0.6493\n",
            "Epoch 11/25\n",
            "6750/6750 [==============================] - 3s 515us/step - loss: 0.1290 - acc: 0.9961 - val_loss: 1.2076 - val_acc: 0.6469\n",
            "Epoch 12/25\n",
            "6750/6750 [==============================] - 4s 521us/step - loss: 0.1112 - acc: 0.9976 - val_loss: 1.2097 - val_acc: 0.6351\n",
            "Epoch 13/25\n",
            "6750/6750 [==============================] - 4s 524us/step - loss: 0.0979 - acc: 0.9991 - val_loss: 1.2479 - val_acc: 0.6445\n",
            "Epoch 14/25\n",
            "6750/6750 [==============================] - 3s 517us/step - loss: 0.0871 - acc: 0.9993 - val_loss: 1.2318 - val_acc: 0.6327\n",
            "Epoch 15/25\n",
            "6750/6750 [==============================] - 4s 522us/step - loss: 0.0787 - acc: 0.9997 - val_loss: 1.2301 - val_acc: 0.6339\n",
            "Epoch 16/25\n",
            "6750/6750 [==============================] - 4s 526us/step - loss: 0.0723 - acc: 0.9997 - val_loss: 1.2514 - val_acc: 0.6327\n",
            "Epoch 17/25\n",
            "6750/6750 [==============================] - 3s 517us/step - loss: 0.0660 - acc: 0.9999 - val_loss: 1.2521 - val_acc: 0.6398\n",
            "Epoch 18/25\n",
            "6750/6750 [==============================] - 3s 517us/step - loss: 0.0612 - acc: 0.9997 - val_loss: 1.2712 - val_acc: 0.6469\n",
            "Epoch 19/25\n",
            "6750/6750 [==============================] - 4s 522us/step - loss: 0.0567 - acc: 0.9997 - val_loss: 1.2492 - val_acc: 0.6303\n",
            "Epoch 20/25\n",
            "6750/6750 [==============================] - 4s 521us/step - loss: 0.0533 - acc: 0.9997 - val_loss: 1.2879 - val_acc: 0.6469\n",
            "Epoch 21/25\n",
            "6750/6750 [==============================] - 4s 531us/step - loss: 0.0500 - acc: 0.9999 - val_loss: 1.2780 - val_acc: 0.6398\n",
            "Epoch 22/25\n",
            "6750/6750 [==============================] - 4s 522us/step - loss: 0.0471 - acc: 0.9999 - val_loss: 1.2472 - val_acc: 0.6327\n",
            "Epoch 23/25\n",
            "6750/6750 [==============================] - 3s 514us/step - loss: 0.0451 - acc: 0.9997 - val_loss: 1.2966 - val_acc: 0.6398\n",
            "Epoch 24/25\n",
            "6750/6750 [==============================] - 4s 519us/step - loss: 0.0422 - acc: 0.9999 - val_loss: 1.2797 - val_acc: 0.6457\n",
            "Epoch 25/25\n",
            "6750/6750 [==============================] - 3s 517us/step - loss: 0.0406 - acc: 0.9997 - val_loss: 1.3174 - val_acc: 0.6493\n"
          ],
          "name": "stdout"
        },
        {
          "output_type": "display_data",
          "data": {
            "image/png": "[encoded data removed]",
            "text/plain": [
              "<Figure size 864x360 with 2 Axes>"
            ]
          },
          "metadata": {
            "tags": []
          }
        }
      ]
    },
    {
      "cell_type": "code",
      "metadata": {
        "id": "22xxhqVA8LwJ",
        "colab_type": "code",
        "colab": {}
      },
      "source": [
        "#model"
      ],
      "execution_count": null,
      "outputs": []
    },
    {
      "cell_type": "code",
      "metadata": {
        "id": "2BlwrHg884SL",
        "colab_type": "code",
        "colab": {
          "base_uri": "https://localhost:8080/",
          "height": 1000
        },
        "outputId": "e5e547fc-c103-42fb-edaa-cd0e0b00f144"
      },
      "source": [
        "#with kernel and bias regularizer \n",
        "#less agressive\n",
        "#model2\n",
        "from keras.layers import Embedding\n",
        "from keras.layers import concatenate\n",
        "from keras.layers import GlobalMaxPool1D\n",
        "from keras.layers import Input, Dense\n",
        "from keras.models import Model\n",
        "from keras.regularizers import l2\n",
        "\n",
        "embedding_dim = 25\n",
        "h1=int(2/3*175)\n",
        "h2=int(2/3*h1)\n",
        "print(h1,h2)\n",
        "\n",
        "sjtitle_in = Input(shape=(100,), name='sjtitle_in')\n",
        "speaker_in = Input(shape=(50,), name='speaker_in')\n",
        "text_in = Input(shape=(2099,), name='text_in')\n",
        "subject_in = Input(shape=(203,), name='subject_in')\n",
        "state_in = Input(shape=(49,), name='state_in')\n",
        "party_in = Input(shape=(28,), name='party_in')\n",
        "context_in = Input(shape=(100,), name='context_in')\n",
        "\n",
        "#input dim = vocab size\n",
        "#input length = maxlen\n",
        "sjtitle_embed = Embedding(output_dim=embedding_dim, input_dim=1046, input_length=100)(sjtitle_in)\n",
        "speaker_embed = Embedding(output_dim=embedding_dim, input_dim=2063, input_length=50)(speaker_in)\n",
        "text_embed = Embedding(output_dim=embedding_dim, input_dim=9804, input_length=2099)(text_in)\n",
        "subject_embed = Embedding(output_dim=embedding_dim, input_dim=178, input_length=203)(subject_in)\n",
        "state_embed = Embedding(output_dim=embedding_dim, input_dim=75, input_length=49)(state_in)\n",
        "party_embed = Embedding(output_dim=embedding_dim, input_dim=29, input_length=28)(party_in)\n",
        "context_embed = Embedding(output_dim=embedding_dim, input_dim=1958, input_length=100)(context_in)\n",
        "\n",
        "\n",
        "\n",
        "sjtitle_pool = GlobalMaxPool1D()(sjtitle_embed)\n",
        "speaker_pool = GlobalMaxPool1D()(speaker_embed)\n",
        "text_pool = GlobalMaxPool1D()(text_embed)\n",
        "subject_pool = GlobalMaxPool1D()(subject_embed)\n",
        "state_pool = GlobalMaxPool1D()(state_embed)\n",
        "party_pool = GlobalMaxPool1D()(party_embed)\n",
        "context_pool = GlobalMaxPool1D()(context_embed)\n",
        "\n",
        "\n",
        "all_d = concatenate([sjtitle_pool, speaker_pool,text_pool,subject_pool,state_pool,party_pool,context_pool])\n",
        "\n",
        "d1 = Dense(h1, activation='relu',kernel_regularizer=l2(0.001), bias_regularizer=l2(0.001))(all_d)\n",
        "d2 = Dense(h2, activation='relu',kernel_regularizer=l2(0.001), bias_regularizer=l2(0.001))(d1)\n",
        "\n",
        "op = Dense(1, activation='sigmoid', name='op')(d2)\n",
        "\n",
        "\n",
        "\n",
        "\n",
        "model2 = Model(inputs=[sjtitle_in,speaker_in,text_in,subject_in,state_in,party_in,context_in], outputs=[op])\n",
        "\n",
        "model2.summary()"
      ],
      "execution_count": null,
      "outputs": [
        {
          "output_type": "stream",
          "text": [
            "116 77\n",
            "Model: \"model_4\"\n",
            "__________________________________________________________________________________________________\n",
            "Layer (type)                    Output Shape         Param #     Connected to                     \n",
            "==================================================================================================\n",
            "sjtitle_in (InputLayer)         (None, 100)          0                                            \n",
            "__________________________________________________________________________________________________\n",
            "speaker_in (InputLayer)         (None, 50)           0                                            \n",
            "__________________________________________________________________________________________________\n",
            "text_in (InputLayer)            (None, 2099)         0                                            \n",
            "__________________________________________________________________________________________________\n",
            "subject_in (InputLayer)         (None, 203)          0                                            \n",
            "__________________________________________________________________________________________________\n",
            "state_in (InputLayer)           (None, 49)           0                                            \n",
            "__________________________________________________________________________________________________\n",
            "party_in (InputLayer)           (None, 28)           0                                            \n",
            "__________________________________________________________________________________________________\n",
            "context_in (InputLayer)         (None, 100)          0                                            \n",
            "__________________________________________________________________________________________________\n",
            "embedding_29 (Embedding)        (None, 100, 25)      26150       sjtitle_in[0][0]                 \n",
            "__________________________________________________________________________________________________\n",
            "embedding_30 (Embedding)        (None, 50, 25)       51575       speaker_in[0][0]                 \n",
            "__________________________________________________________________________________________________\n",
            "embedding_31 (Embedding)        (None, 2099, 25)     245100      text_in[0][0]                    \n",
            "__________________________________________________________________________________________________\n",
            "embedding_32 (Embedding)        (None, 203, 25)      4450        subject_in[0][0]                 \n",
            "__________________________________________________________________________________________________\n",
            "embedding_33 (Embedding)        (None, 49, 25)       1875        state_in[0][0]                   \n",
            "__________________________________________________________________________________________________\n",
            "embedding_34 (Embedding)        (None, 28, 25)       725         party_in[0][0]                   \n",
            "__________________________________________________________________________________________________\n",
            "embedding_35 (Embedding)        (None, 100, 25)      48950       context_in[0][0]                 \n",
            "__________________________________________________________________________________________________\n",
            "global_max_pooling1d_29 (Global (None, 25)           0           embedding_29[0][0]               \n",
            "__________________________________________________________________________________________________\n",
            "global_max_pooling1d_30 (Global (None, 25)           0           embedding_30[0][0]               \n",
            "__________________________________________________________________________________________________\n",
            "global_max_pooling1d_31 (Global (None, 25)           0           embedding_31[0][0]               \n",
            "__________________________________________________________________________________________________\n",
            "global_max_pooling1d_32 (Global (None, 25)           0           embedding_32[0][0]               \n",
            "__________________________________________________________________________________________________\n",
            "global_max_pooling1d_33 (Global (None, 25)           0           embedding_33[0][0]               \n",
            "__________________________________________________________________________________________________\n",
            "global_max_pooling1d_34 (Global (None, 25)           0           embedding_34[0][0]               \n",
            "__________________________________________________________________________________________________\n",
            "global_max_pooling1d_35 (Global (None, 25)           0           embedding_35[0][0]               \n",
            "__________________________________________________________________________________________________\n",
            "concatenate_2 (Concatenate)     (None, 175)          0           global_max_pooling1d_29[0][0]    \n",
            "                                                                 global_max_pooling1d_30[0][0]    \n",
            "                                                                 global_max_pooling1d_31[0][0]    \n",
            "                                                                 global_max_pooling1d_32[0][0]    \n",
            "                                                                 global_max_pooling1d_33[0][0]    \n",
            "                                                                 global_max_pooling1d_34[0][0]    \n",
            "                                                                 global_max_pooling1d_35[0][0]    \n",
            "__________________________________________________________________________________________________\n",
            "dense_8 (Dense)                 (None, 116)          20416       concatenate_2[0][0]              \n",
            "__________________________________________________________________________________________________\n",
            "dense_9 (Dense)                 (None, 77)           9009        dense_8[0][0]                    \n",
            "__________________________________________________________________________________________________\n",
            "op (Dense)                      (None, 1)            78          dense_9[0][0]                    \n",
            "==================================================================================================\n",
            "Total params: 408,328\n",
            "Trainable params: 408,328\n",
            "Non-trainable params: 0\n",
            "__________________________________________________________________________________________________\n"
          ],
          "name": "stdout"
        }
      ]
    },
    {
      "cell_type": "code",
      "metadata": {
        "id": "8O2bw7bG9C5c",
        "colab_type": "code",
        "colab": {
          "base_uri": "https://localhost:8080/",
          "height": 1000
        },
        "outputId": "acdbb1de-e0ac-4440-de4a-e34a9ea0b9d3"
      },
      "source": [
        "model2.compile(optimizer='adam',\n",
        "              loss='binary_crossentropy',metrics=['accuracy'])\n",
        "h=model2.fit({'sjtitle_in':train_padtext_sjt,'speaker_in':train_padtext_spk,'text_in':train_padtext_state,'subject_in':train_padtext_sub,'state_in':train_padtext_stinfo,'party_in':train_padtext_pty,'context_in':train_padtext_cnt},{'op': liar_train_y},\n",
        "          epochs=25, batch_size=32,validation_data=({'sjtitle_in':dev_padtext_sjt,'speaker_in':dev_padtext_spk,'text_in':dev_padtext_state,'subject_in':dev_padtext_sub,'state_in':dev_padtext_stinfo,'party_in':dev_padtext_pty,'context_in':dev_padtext_cnt},{'op': liar_dev_y}))\n",
        "plot_history(h)"
      ],
      "execution_count": null,
      "outputs": [
        {
          "output_type": "stream",
          "text": [
            "Train on 6750 samples, validate on 844 samples\n",
            "Epoch 1/25\n",
            "6750/6750 [==============================] - 4s 651us/step - loss: 0.6635 - acc: 0.7367 - val_loss: 0.5935 - val_acc: 0.7417\n",
            "Epoch 2/25\n",
            "6750/6750 [==============================] - 4s 522us/step - loss: 0.5803 - acc: 0.7369 - val_loss: 0.5889 - val_acc: 0.7417\n",
            "Epoch 3/25\n",
            "6750/6750 [==============================] - 3s 515us/step - loss: 0.5310 - acc: 0.7476 - val_loss: 0.6255 - val_acc: 0.7346\n",
            "Epoch 4/25\n",
            "6750/6750 [==============================] - 4s 519us/step - loss: 0.4362 - acc: 0.8129 - val_loss: 0.7453 - val_acc: 0.6244\n",
            "Epoch 5/25\n",
            "6750/6750 [==============================] - 4s 522us/step - loss: 0.3317 - acc: 0.8764 - val_loss: 0.8931 - val_acc: 0.6469\n",
            "Epoch 6/25\n",
            "6750/6750 [==============================] - 4s 526us/step - loss: 0.2418 - acc: 0.9227 - val_loss: 1.0383 - val_acc: 0.6244\n",
            "Epoch 7/25\n",
            "6750/6750 [==============================] - 4s 522us/step - loss: 0.1722 - acc: 0.9547 - val_loss: 1.2612 - val_acc: 0.6031\n",
            "Epoch 8/25\n",
            "6750/6750 [==============================] - 4s 522us/step - loss: 0.1265 - acc: 0.9742 - val_loss: 1.4378 - val_acc: 0.6031\n",
            "Epoch 9/25\n",
            "6750/6750 [==============================] - 4s 524us/step - loss: 0.0993 - acc: 0.9871 - val_loss: 1.5536 - val_acc: 0.6066\n",
            "Epoch 10/25\n",
            "6750/6750 [==============================] - 4s 532us/step - loss: 0.0763 - acc: 0.9933 - val_loss: 1.6363 - val_acc: 0.6114\n",
            "Epoch 11/25\n",
            "6750/6750 [==============================] - 4s 533us/step - loss: 0.0665 - acc: 0.9960 - val_loss: 1.6819 - val_acc: 0.6209\n",
            "Epoch 12/25\n",
            "6750/6750 [==============================] - 4s 528us/step - loss: 0.0561 - acc: 0.9985 - val_loss: 1.7785 - val_acc: 0.6256\n",
            "Epoch 13/25\n",
            "6750/6750 [==============================] - 4s 526us/step - loss: 0.0487 - acc: 0.9991 - val_loss: 1.7673 - val_acc: 0.6363\n",
            "Epoch 14/25\n",
            "6750/6750 [==============================] - 4s 525us/step - loss: 0.0437 - acc: 0.9993 - val_loss: 1.7718 - val_acc: 0.6244\n",
            "Epoch 15/25\n",
            "6750/6750 [==============================] - 4s 528us/step - loss: 0.0399 - acc: 0.9997 - val_loss: 1.8002 - val_acc: 0.6197\n",
            "Epoch 16/25\n",
            "6750/6750 [==============================] - 4s 529us/step - loss: 0.0367 - acc: 0.9997 - val_loss: 1.7920 - val_acc: 0.6137\n",
            "Epoch 17/25\n",
            "6750/6750 [==============================] - 4s 530us/step - loss: 0.0345 - acc: 0.9994 - val_loss: 1.8393 - val_acc: 0.6327\n",
            "Epoch 18/25\n",
            "6750/6750 [==============================] - 4s 529us/step - loss: 0.0318 - acc: 0.9997 - val_loss: 1.8808 - val_acc: 0.6244\n",
            "Epoch 19/25\n",
            "6750/6750 [==============================] - 4s 531us/step - loss: 0.0298 - acc: 0.9996 - val_loss: 1.8741 - val_acc: 0.6220\n",
            "Epoch 20/25\n",
            "6750/6750 [==============================] - 4s 525us/step - loss: 0.0277 - acc: 0.9996 - val_loss: 1.8916 - val_acc: 0.6149\n",
            "Epoch 21/25\n",
            "6750/6750 [==============================] - 4s 524us/step - loss: 0.0260 - acc: 0.9996 - val_loss: 1.9172 - val_acc: 0.6031\n",
            "Epoch 22/25\n",
            "6750/6750 [==============================] - 4s 525us/step - loss: 0.0242 - acc: 0.9997 - val_loss: 1.8653 - val_acc: 0.6090\n",
            "Epoch 23/25\n",
            "6750/6750 [==============================] - 4s 523us/step - loss: 0.0225 - acc: 0.9997 - val_loss: 1.9124 - val_acc: 0.6256\n",
            "Epoch 24/25\n",
            "6750/6750 [==============================] - 4s 532us/step - loss: 0.0220 - acc: 0.9996 - val_loss: 1.9300 - val_acc: 0.6280\n",
            "Epoch 25/25\n",
            "6750/6750 [==============================] - 4s 526us/step - loss: 0.0207 - acc: 0.9997 - val_loss: 1.9140 - val_acc: 0.6043\n"
          ],
          "name": "stdout"
        },
        {
          "output_type": "display_data",
          "data": {
            "image/png": "[encoded data removed]",
            "text/plain": [
              "<Figure size 864x360 with 2 Axes>"
            ]
          },
          "metadata": {
            "tags": []
          }
        }
      ]
    },
    {
      "cell_type": "code",
      "metadata": {
        "id": "yavlZfzU-C_-",
        "colab_type": "code",
        "colab": {
          "base_uri": "https://localhost:8080/",
          "height": 1000
        },
        "outputId": "34b34bae-6ec6-4858-aec6-1b71a13bad3d"
      },
      "source": [
        "#activity regularizer\n",
        "#less agressive\n",
        "#model3\n",
        "from keras.layers import Embedding\n",
        "from keras.layers import concatenate\n",
        "from keras.layers import GlobalMaxPool1D\n",
        "from keras.layers import Input, Dense\n",
        "from keras.models import Model\n",
        "from keras.regularizers import l2\n",
        "\n",
        "embedding_dim = 25\n",
        "h1=int(2/3*175)\n",
        "h2=int(2/3*h1)\n",
        "print(h1,h2)\n",
        "\n",
        "sjtitle_in = Input(shape=(100,), name='sjtitle_in')\n",
        "speaker_in = Input(shape=(50,), name='speaker_in')\n",
        "text_in = Input(shape=(2099,), name='text_in')\n",
        "subject_in = Input(shape=(203,), name='subject_in')\n",
        "state_in = Input(shape=(49,), name='state_in')\n",
        "party_in = Input(shape=(28,), name='party_in')\n",
        "context_in = Input(shape=(100,), name='context_in')\n",
        "\n",
        "#input dim = vocab size\n",
        "#input length = maxlen\n",
        "sjtitle_embed = Embedding(output_dim=embedding_dim, input_dim=1046, input_length=100)(sjtitle_in)\n",
        "speaker_embed = Embedding(output_dim=embedding_dim, input_dim=2063, input_length=50)(speaker_in)\n",
        "text_embed = Embedding(output_dim=embedding_dim, input_dim=9804, input_length=2099)(text_in)\n",
        "subject_embed = Embedding(output_dim=embedding_dim, input_dim=178, input_length=203)(subject_in)\n",
        "state_embed = Embedding(output_dim=embedding_dim, input_dim=75, input_length=49)(state_in)\n",
        "party_embed = Embedding(output_dim=embedding_dim, input_dim=29, input_length=28)(party_in)\n",
        "context_embed = Embedding(output_dim=embedding_dim, input_dim=1958, input_length=100)(context_in)\n",
        "\n",
        "\n",
        "\n",
        "sjtitle_pool = GlobalMaxPool1D()(sjtitle_embed)\n",
        "speaker_pool = GlobalMaxPool1D()(speaker_embed)\n",
        "text_pool = GlobalMaxPool1D()(text_embed)\n",
        "subject_pool = GlobalMaxPool1D()(subject_embed)\n",
        "state_pool = GlobalMaxPool1D()(state_embed)\n",
        "party_pool = GlobalMaxPool1D()(party_embed)\n",
        "context_pool = GlobalMaxPool1D()(context_embed)\n",
        "\n",
        "\n",
        "all_d = concatenate([sjtitle_pool, speaker_pool,text_pool,subject_pool,state_pool,party_pool,context_pool])\n",
        "\n",
        "d1 = Dense(h1, activation='relu',activity_regularizer=l2(0.001))(all_d)\n",
        "d2 = Dense(h2, activation='relu',activity_regularizer=l2(0.001))(d1)\n",
        "\n",
        "op = Dense(1, activation='sigmoid', name='op')(d2)\n",
        "\n",
        "\n",
        "\n",
        "\n",
        "model3 = Model(inputs=[sjtitle_in,speaker_in,text_in,subject_in,state_in,party_in,context_in], outputs=[op])\n",
        "\n",
        "model3.summary()"
      ],
      "execution_count": null,
      "outputs": [
        {
          "output_type": "stream",
          "text": [
            "116 77\n",
            "Model: \"model_6\"\n",
            "__________________________________________________________________________________________________\n",
            "Layer (type)                    Output Shape         Param #     Connected to                     \n",
            "==================================================================================================\n",
            "sjtitle_in (InputLayer)         (None, 100)          0                                            \n",
            "__________________________________________________________________________________________________\n",
            "speaker_in (InputLayer)         (None, 50)           0                                            \n",
            "__________________________________________________________________________________________________\n",
            "text_in (InputLayer)            (None, 2099)         0                                            \n",
            "__________________________________________________________________________________________________\n",
            "subject_in (InputLayer)         (None, 203)          0                                            \n",
            "__________________________________________________________________________________________________\n",
            "state_in (InputLayer)           (None, 49)           0                                            \n",
            "__________________________________________________________________________________________________\n",
            "party_in (InputLayer)           (None, 28)           0                                            \n",
            "__________________________________________________________________________________________________\n",
            "context_in (InputLayer)         (None, 100)          0                                            \n",
            "__________________________________________________________________________________________________\n",
            "embedding_43 (Embedding)        (None, 100, 25)      26150       sjtitle_in[0][0]                 \n",
            "__________________________________________________________________________________________________\n",
            "embedding_44 (Embedding)        (None, 50, 25)       51575       speaker_in[0][0]                 \n",
            "__________________________________________________________________________________________________\n",
            "embedding_45 (Embedding)        (None, 2099, 25)     245100      text_in[0][0]                    \n",
            "__________________________________________________________________________________________________\n",
            "embedding_46 (Embedding)        (None, 203, 25)      4450        subject_in[0][0]                 \n",
            "__________________________________________________________________________________________________\n",
            "embedding_47 (Embedding)        (None, 49, 25)       1875        state_in[0][0]                   \n",
            "__________________________________________________________________________________________________\n",
            "embedding_48 (Embedding)        (None, 28, 25)       725         party_in[0][0]                   \n",
            "__________________________________________________________________________________________________\n",
            "embedding_49 (Embedding)        (None, 100, 25)      48950       context_in[0][0]                 \n",
            "__________________________________________________________________________________________________\n",
            "global_max_pooling1d_43 (Global (None, 25)           0           embedding_43[0][0]               \n",
            "__________________________________________________________________________________________________\n",
            "global_max_pooling1d_44 (Global (None, 25)           0           embedding_44[0][0]               \n",
            "__________________________________________________________________________________________________\n",
            "global_max_pooling1d_45 (Global (None, 25)           0           embedding_45[0][0]               \n",
            "__________________________________________________________________________________________________\n",
            "global_max_pooling1d_46 (Global (None, 25)           0           embedding_46[0][0]               \n",
            "__________________________________________________________________________________________________\n",
            "global_max_pooling1d_47 (Global (None, 25)           0           embedding_47[0][0]               \n",
            "__________________________________________________________________________________________________\n",
            "global_max_pooling1d_48 (Global (None, 25)           0           embedding_48[0][0]               \n",
            "__________________________________________________________________________________________________\n",
            "global_max_pooling1d_49 (Global (None, 25)           0           embedding_49[0][0]               \n",
            "__________________________________________________________________________________________________\n",
            "concatenate_4 (Concatenate)     (None, 175)          0           global_max_pooling1d_43[0][0]    \n",
            "                                                                 global_max_pooling1d_44[0][0]    \n",
            "                                                                 global_max_pooling1d_45[0][0]    \n",
            "                                                                 global_max_pooling1d_46[0][0]    \n",
            "                                                                 global_max_pooling1d_47[0][0]    \n",
            "                                                                 global_max_pooling1d_48[0][0]    \n",
            "                                                                 global_max_pooling1d_49[0][0]    \n",
            "__________________________________________________________________________________________________\n",
            "dense_12 (Dense)                (None, 116)          20416       concatenate_4[0][0]              \n",
            "__________________________________________________________________________________________________\n",
            "dense_13 (Dense)                (None, 77)           9009        dense_12[0][0]                   \n",
            "__________________________________________________________________________________________________\n",
            "op (Dense)                      (None, 1)            78          dense_13[0][0]                   \n",
            "==================================================================================================\n",
            "Total params: 408,328\n",
            "Trainable params: 408,328\n",
            "Non-trainable params: 0\n",
            "__________________________________________________________________________________________________\n"
          ],
          "name": "stdout"
        }
      ]
    },
    {
      "cell_type": "code",
      "metadata": {
        "id": "cC9lvATi-YLi",
        "colab_type": "code",
        "colab": {
          "base_uri": "https://localhost:8080/",
          "height": 1000
        },
        "outputId": "067debe9-3b23-4540-8071-8039284e24af"
      },
      "source": [
        "model3.compile(optimizer='adam',\n",
        "              loss='binary_crossentropy',metrics=['accuracy'])\n",
        "h=model3.fit({'sjtitle_in':train_padtext_sjt,'speaker_in':train_padtext_spk,'text_in':train_padtext_state,'subject_in':train_padtext_sub,'state_in':train_padtext_stinfo,'party_in':train_padtext_pty,'context_in':train_padtext_cnt},{'op': liar_train_y},\n",
        "          epochs=25, batch_size=32,validation_data=({'sjtitle_in':dev_padtext_sjt,'speaker_in':dev_padtext_spk,'text_in':dev_padtext_state,'subject_in':dev_padtext_sub,'state_in':dev_padtext_stinfo,'party_in':dev_padtext_pty,'context_in':dev_padtext_cnt},{'op': liar_dev_y}))\n",
        "plot_history(h)"
      ],
      "execution_count": null,
      "outputs": [
        {
          "output_type": "stream",
          "text": [
            "Train on 6750 samples, validate on 844 samples\n",
            "Epoch 1/25\n",
            "6750/6750 [==============================] - 4s 652us/step - loss: 0.5999 - acc: 0.7369 - val_loss: 0.5850 - val_acc: 0.7417\n",
            "Epoch 2/25\n",
            "6750/6750 [==============================] - 4s 520us/step - loss: 0.5573 - acc: 0.7369 - val_loss: 0.5969 - val_acc: 0.7417\n",
            "Epoch 3/25\n",
            "6750/6750 [==============================] - 4s 522us/step - loss: 0.4395 - acc: 0.8036 - val_loss: 0.6975 - val_acc: 0.6659\n",
            "Epoch 4/25\n",
            "6750/6750 [==============================] - 4s 521us/step - loss: 0.2925 - acc: 0.9050 - val_loss: 0.8362 - val_acc: 0.6185\n",
            "Epoch 5/25\n",
            "6750/6750 [==============================] - 4s 527us/step - loss: 0.1712 - acc: 0.9621 - val_loss: 1.0640 - val_acc: 0.6066\n",
            "Epoch 6/25\n",
            "6750/6750 [==============================] - 3s 518us/step - loss: 0.1023 - acc: 0.9883 - val_loss: 1.1841 - val_acc: 0.6090\n",
            "Epoch 7/25\n",
            "6750/6750 [==============================] - 3s 519us/step - loss: 0.0698 - acc: 0.9961 - val_loss: 1.2843 - val_acc: 0.6007\n",
            "Epoch 8/25\n",
            "6750/6750 [==============================] - 4s 522us/step - loss: 0.0527 - acc: 0.9990 - val_loss: 1.3319 - val_acc: 0.6090\n",
            "Epoch 9/25\n",
            "6750/6750 [==============================] - 4s 519us/step - loss: 0.0435 - acc: 0.9996 - val_loss: 1.3580 - val_acc: 0.5841\n",
            "Epoch 10/25\n",
            "6750/6750 [==============================] - 4s 519us/step - loss: 0.0378 - acc: 0.9999 - val_loss: 1.3881 - val_acc: 0.5900\n",
            "Epoch 11/25\n",
            "6750/6750 [==============================] - 4s 519us/step - loss: 0.0345 - acc: 0.9997 - val_loss: 1.4016 - val_acc: 0.5877\n",
            "Epoch 12/25\n",
            "6750/6750 [==============================] - 4s 519us/step - loss: 0.0313 - acc: 0.9999 - val_loss: 1.4434 - val_acc: 0.5806\n",
            "Epoch 13/25\n",
            "6750/6750 [==============================] - 3s 517us/step - loss: 0.0296 - acc: 0.9996 - val_loss: 1.4941 - val_acc: 0.5853\n",
            "Epoch 14/25\n",
            "6750/6750 [==============================] - 4s 531us/step - loss: 0.0274 - acc: 0.9999 - val_loss: 1.4750 - val_acc: 0.5545\n",
            "Epoch 15/25\n",
            "6750/6750 [==============================] - 4s 524us/step - loss: 0.0261 - acc: 0.9997 - val_loss: 1.4779 - val_acc: 0.5711\n",
            "Epoch 16/25\n",
            "6750/6750 [==============================] - 3s 517us/step - loss: 0.0247 - acc: 0.9997 - val_loss: 1.5337 - val_acc: 0.5948\n",
            "Epoch 17/25\n",
            "6750/6750 [==============================] - 4s 519us/step - loss: 0.0231 - acc: 0.9997 - val_loss: 1.5373 - val_acc: 0.5960\n",
            "Epoch 18/25\n",
            "6750/6750 [==============================] - 4s 522us/step - loss: 0.0214 - acc: 0.9999 - val_loss: 1.5598 - val_acc: 0.5912\n",
            "Epoch 19/25\n",
            "6750/6750 [==============================] - 3s 516us/step - loss: 0.0200 - acc: 0.9999 - val_loss: 1.5644 - val_acc: 0.5853\n",
            "Epoch 20/25\n",
            "6750/6750 [==============================] - 4s 521us/step - loss: 0.0190 - acc: 0.9999 - val_loss: 1.6154 - val_acc: 0.5900\n",
            "Epoch 21/25\n",
            "6750/6750 [==============================] - 3s 516us/step - loss: 0.0190 - acc: 0.9997 - val_loss: 1.6133 - val_acc: 0.5936\n",
            "Epoch 22/25\n",
            "6750/6750 [==============================] - 3s 518us/step - loss: 0.0179 - acc: 0.9997 - val_loss: 1.6417 - val_acc: 0.6149\n",
            "Epoch 23/25\n",
            "6750/6750 [==============================] - 4s 520us/step - loss: 0.0172 - acc: 0.9999 - val_loss: 1.7009 - val_acc: 0.6043\n",
            "Epoch 24/25\n",
            "6750/6750 [==============================] - 3s 517us/step - loss: 0.0409 - acc: 0.9916 - val_loss: 1.8006 - val_acc: 0.6126\n",
            "Epoch 25/25\n",
            "6750/6750 [==============================] - 4s 520us/step - loss: 0.0970 - acc: 0.9686 - val_loss: 1.8009 - val_acc: 0.5829\n"
          ],
          "name": "stdout"
        },
        {
          "output_type": "display_data",
          "data": {
            "image/png": "[encoded data removed]",
            "text/plain": [
              "<Figure size 864x360 with 2 Axes>"
            ]
          },
          "metadata": {
            "tags": []
          }
        }
      ]
    },
    {
      "cell_type": "code",
      "metadata": {
        "id": "gaGSYnXKEiGt",
        "colab_type": "code",
        "colab": {
          "base_uri": "https://localhost:8080/",
          "height": 1000
        },
        "outputId": "848c3574-ac9f-481b-e283-48c15fb89845"
      },
      "source": [
        "#all regularizer\n",
        "#super agressive\n",
        "#model4\n",
        "from keras.layers import Embedding\n",
        "from keras.layers import concatenate\n",
        "from keras.layers import GlobalMaxPool1D\n",
        "from keras.layers import Input, Dense\n",
        "from keras.models import Model\n",
        "from keras.regularizers import l2\n",
        "\n",
        "embedding_dim = 25\n",
        "h1=int(2/3*175)\n",
        "h2=int(2/3*h1)\n",
        "print(h1,h2)\n",
        "\n",
        "sjtitle_in = Input(shape=(100,), name='sjtitle_in')\n",
        "speaker_in = Input(shape=(50,), name='speaker_in')\n",
        "text_in = Input(shape=(2099,), name='text_in')\n",
        "subject_in = Input(shape=(203,), name='subject_in')\n",
        "state_in = Input(shape=(49,), name='state_in')\n",
        "party_in = Input(shape=(28,), name='party_in')\n",
        "context_in = Input(shape=(100,), name='context_in')\n",
        "\n",
        "#input dim = vocab size\n",
        "#input length = maxlen\n",
        "sjtitle_embed = Embedding(output_dim=embedding_dim, input_dim=1046, input_length=100)(sjtitle_in)\n",
        "speaker_embed = Embedding(output_dim=embedding_dim, input_dim=2063, input_length=50)(speaker_in)\n",
        "text_embed = Embedding(output_dim=embedding_dim, input_dim=9804, input_length=2099)(text_in)\n",
        "subject_embed = Embedding(output_dim=embedding_dim, input_dim=178, input_length=203)(subject_in)\n",
        "state_embed = Embedding(output_dim=embedding_dim, input_dim=75, input_length=49)(state_in)\n",
        "party_embed = Embedding(output_dim=embedding_dim, input_dim=29, input_length=28)(party_in)\n",
        "context_embed = Embedding(output_dim=embedding_dim, input_dim=1958, input_length=100)(context_in)\n",
        "\n",
        "\n",
        "\n",
        "sjtitle_pool = GlobalMaxPool1D()(sjtitle_embed)\n",
        "speaker_pool = GlobalMaxPool1D()(speaker_embed)\n",
        "text_pool = GlobalMaxPool1D()(text_embed)\n",
        "subject_pool = GlobalMaxPool1D()(subject_embed)\n",
        "state_pool = GlobalMaxPool1D()(state_embed)\n",
        "party_pool = GlobalMaxPool1D()(party_embed)\n",
        "context_pool = GlobalMaxPool1D()(context_embed)\n",
        "\n",
        "\n",
        "all_d = concatenate([sjtitle_pool, speaker_pool,text_pool,subject_pool,state_pool,party_pool,context_pool])\n",
        "\n",
        "d1 = Dense(h1, activation='relu',activity_regularizer=l2(0.1),kernel_regularizer=l2(0.01), bias_regularizer=l2(0.01))(all_d)\n",
        "d2 = Dense(h2, activation='relu',activity_regularizer=l2(0.1),kernel_regularizer=l2(0.01), bias_regularizer=l2(0.01))(d1)\n",
        "\n",
        "op = Dense(1, activation='sigmoid', name='op')(d2)\n",
        "\n",
        "\n",
        "\n",
        "\n",
        "model4 = Model(inputs=[sjtitle_in,speaker_in,text_in,subject_in,state_in,party_in,context_in], outputs=[op])\n",
        "\n",
        "model4.summary()"
      ],
      "execution_count": null,
      "outputs": [
        {
          "output_type": "stream",
          "text": [
            "116 77\n",
            "Model: \"model_16\"\n",
            "__________________________________________________________________________________________________\n",
            "Layer (type)                    Output Shape         Param #     Connected to                     \n",
            "==================================================================================================\n",
            "sjtitle_in (InputLayer)         (None, 100)          0                                            \n",
            "__________________________________________________________________________________________________\n",
            "speaker_in (InputLayer)         (None, 50)           0                                            \n",
            "__________________________________________________________________________________________________\n",
            "text_in (InputLayer)            (None, 2099)         0                                            \n",
            "__________________________________________________________________________________________________\n",
            "subject_in (InputLayer)         (None, 203)          0                                            \n",
            "__________________________________________________________________________________________________\n",
            "state_in (InputLayer)           (None, 49)           0                                            \n",
            "__________________________________________________________________________________________________\n",
            "party_in (InputLayer)           (None, 28)           0                                            \n",
            "__________________________________________________________________________________________________\n",
            "context_in (InputLayer)         (None, 100)          0                                            \n",
            "__________________________________________________________________________________________________\n",
            "embedding_106 (Embedding)       (None, 100, 25)      26150       sjtitle_in[0][0]                 \n",
            "__________________________________________________________________________________________________\n",
            "embedding_107 (Embedding)       (None, 50, 25)       51575       speaker_in[0][0]                 \n",
            "__________________________________________________________________________________________________\n",
            "embedding_108 (Embedding)       (None, 2099, 25)     245100      text_in[0][0]                    \n",
            "__________________________________________________________________________________________________\n",
            "embedding_109 (Embedding)       (None, 203, 25)      4450        subject_in[0][0]                 \n",
            "__________________________________________________________________________________________________\n",
            "embedding_110 (Embedding)       (None, 49, 25)       1875        state_in[0][0]                   \n",
            "__________________________________________________________________________________________________\n",
            "embedding_111 (Embedding)       (None, 28, 25)       725         party_in[0][0]                   \n",
            "__________________________________________________________________________________________________\n",
            "embedding_112 (Embedding)       (None, 100, 25)      48950       context_in[0][0]                 \n",
            "__________________________________________________________________________________________________\n",
            "global_max_pooling1d_106 (Globa (None, 25)           0           embedding_106[0][0]              \n",
            "__________________________________________________________________________________________________\n",
            "global_max_pooling1d_107 (Globa (None, 25)           0           embedding_107[0][0]              \n",
            "__________________________________________________________________________________________________\n",
            "global_max_pooling1d_108 (Globa (None, 25)           0           embedding_108[0][0]              \n",
            "__________________________________________________________________________________________________\n",
            "global_max_pooling1d_109 (Globa (None, 25)           0           embedding_109[0][0]              \n",
            "__________________________________________________________________________________________________\n",
            "global_max_pooling1d_110 (Globa (None, 25)           0           embedding_110[0][0]              \n",
            "__________________________________________________________________________________________________\n",
            "global_max_pooling1d_111 (Globa (None, 25)           0           embedding_111[0][0]              \n",
            "__________________________________________________________________________________________________\n",
            "global_max_pooling1d_112 (Globa (None, 25)           0           embedding_112[0][0]              \n",
            "__________________________________________________________________________________________________\n",
            "concatenate_16 (Concatenate)    (None, 175)          0           global_max_pooling1d_106[0][0]   \n",
            "                                                                 global_max_pooling1d_107[0][0]   \n",
            "                                                                 global_max_pooling1d_108[0][0]   \n",
            "                                                                 global_max_pooling1d_109[0][0]   \n",
            "                                                                 global_max_pooling1d_110[0][0]   \n",
            "                                                                 global_max_pooling1d_111[0][0]   \n",
            "                                                                 global_max_pooling1d_112[0][0]   \n",
            "__________________________________________________________________________________________________\n",
            "dense_31 (Dense)                (None, 116)          20416       concatenate_16[0][0]             \n",
            "__________________________________________________________________________________________________\n",
            "dense_32 (Dense)                (None, 77)           9009        dense_31[0][0]                   \n",
            "__________________________________________________________________________________________________\n",
            "op (Dense)                      (None, 1)            78          dense_32[0][0]                   \n",
            "==================================================================================================\n",
            "Total params: 408,328\n",
            "Trainable params: 408,328\n",
            "Non-trainable params: 0\n",
            "__________________________________________________________________________________________________\n"
          ],
          "name": "stdout"
        }
      ]
    },
    {
      "cell_type": "code",
      "metadata": {
        "id": "nCyNvQwhFGxA",
        "colab_type": "code",
        "colab": {}
      },
      "source": [
        ""
      ],
      "execution_count": null,
      "outputs": []
    },
    {
      "cell_type": "code",
      "metadata": {
        "id": "mrb0Yb06Ddhr",
        "colab_type": "code",
        "colab": {
          "base_uri": "https://localhost:8080/",
          "height": 1000
        },
        "outputId": "b4c9180a-a352-4940-bfea-7d33bbbaa32c"
      },
      "source": [
        "model4.compile(optimizer='adam',\n",
        "              loss='binary_crossentropy',metrics=['accuracy'])\n",
        "h=model4.fit({'sjtitle_in':train_padtext_sjt,'speaker_in':train_padtext_spk,'text_in':train_padtext_state,'subject_in':train_padtext_sub,'state_in':train_padtext_stinfo,'party_in':train_padtext_pty,'context_in':train_padtext_cnt},{'op': liar_train_y},\n",
        "          epochs=25, batch_size=32,validation_data=({'sjtitle_in':dev_padtext_sjt,'speaker_in':dev_padtext_spk,'text_in':dev_padtext_state,'subject_in':dev_padtext_sub,'state_in':dev_padtext_stinfo,'party_in':dev_padtext_pty,'context_in':dev_padtext_cnt},{'op': liar_dev_y}))\n",
        "plot_history(h)"
      ],
      "execution_count": null,
      "outputs": [
        {
          "output_type": "stream",
          "text": [
            "Train on 6750 samples, validate on 844 samples\n",
            "Epoch 1/25\n",
            "6750/6750 [==============================] - 7s 1ms/step - loss: 1.2293 - acc: 0.7299 - val_loss: 0.6660 - val_acc: 0.7417\n",
            "Epoch 2/25\n",
            "6750/6750 [==============================] - 4s 602us/step - loss: 0.6356 - acc: 0.7369 - val_loss: 0.6162 - val_acc: 0.7417\n",
            "Epoch 3/25\n",
            "6750/6750 [==============================] - 4s 597us/step - loss: 0.6093 - acc: 0.7369 - val_loss: 0.5989 - val_acc: 0.7417\n",
            "Epoch 4/25\n",
            "6750/6750 [==============================] - 4s 592us/step - loss: 0.5964 - acc: 0.7369 - val_loss: 0.5882 - val_acc: 0.7417\n",
            "Epoch 5/25\n",
            "6750/6750 [==============================] - 4s 590us/step - loss: 0.5887 - acc: 0.7369 - val_loss: 0.5823 - val_acc: 0.7417\n",
            "Epoch 6/25\n",
            "6750/6750 [==============================] - 4s 590us/step - loss: 0.5840 - acc: 0.7369 - val_loss: 0.5780 - val_acc: 0.7417\n",
            "Epoch 7/25\n",
            "6750/6750 [==============================] - 4s 588us/step - loss: 0.5816 - acc: 0.7369 - val_loss: 0.5779 - val_acc: 0.7417\n",
            "Epoch 8/25\n",
            "6750/6750 [==============================] - 4s 585us/step - loss: 0.5801 - acc: 0.7369 - val_loss: 0.5746 - val_acc: 0.7417\n",
            "Epoch 9/25\n",
            "6750/6750 [==============================] - 4s 585us/step - loss: 0.5780 - acc: 0.7369 - val_loss: 0.5730 - val_acc: 0.7417\n",
            "Epoch 10/25\n",
            "6750/6750 [==============================] - 4s 588us/step - loss: 0.5771 - acc: 0.7369 - val_loss: 0.5721 - val_acc: 0.7417\n",
            "Epoch 11/25\n",
            "6750/6750 [==============================] - 4s 596us/step - loss: 0.5766 - acc: 0.7369 - val_loss: 0.5718 - val_acc: 0.7417\n",
            "Epoch 12/25\n",
            "6750/6750 [==============================] - 4s 593us/step - loss: 0.5765 - acc: 0.7369 - val_loss: 0.5716 - val_acc: 0.7417\n",
            "Epoch 13/25\n",
            "6750/6750 [==============================] - 4s 595us/step - loss: 0.5764 - acc: 0.7369 - val_loss: 0.5714 - val_acc: 0.7417\n",
            "Epoch 14/25\n",
            "6750/6750 [==============================] - 4s 595us/step - loss: 0.5763 - acc: 0.7369 - val_loss: 0.5714 - val_acc: 0.7417\n",
            "Epoch 15/25\n",
            "6750/6750 [==============================] - 4s 592us/step - loss: 0.5763 - acc: 0.7369 - val_loss: 0.5714 - val_acc: 0.7417\n",
            "Epoch 16/25\n",
            "6750/6750 [==============================] - 4s 595us/step - loss: 0.5763 - acc: 0.7369 - val_loss: 0.5713 - val_acc: 0.7417\n",
            "Epoch 17/25\n",
            "6750/6750 [==============================] - 4s 593us/step - loss: 0.5763 - acc: 0.7369 - val_loss: 0.5714 - val_acc: 0.7417\n",
            "Epoch 18/25\n",
            "6750/6750 [==============================] - 4s 594us/step - loss: 0.5763 - acc: 0.7369 - val_loss: 0.5713 - val_acc: 0.7417\n",
            "Epoch 19/25\n",
            "6750/6750 [==============================] - 4s 598us/step - loss: 0.5763 - acc: 0.7369 - val_loss: 0.5713 - val_acc: 0.7417\n",
            "Epoch 20/25\n",
            "6750/6750 [==============================] - 4s 597us/step - loss: 0.5763 - acc: 0.7369 - val_loss: 0.5713 - val_acc: 0.7417\n",
            "Epoch 21/25\n",
            "6750/6750 [==============================] - 4s 603us/step - loss: 0.5763 - acc: 0.7369 - val_loss: 0.5713 - val_acc: 0.7417\n",
            "Epoch 22/25\n",
            "6750/6750 [==============================] - 4s 599us/step - loss: 0.5763 - acc: 0.7369 - val_loss: 0.5713 - val_acc: 0.7417\n",
            "Epoch 23/25\n",
            "6750/6750 [==============================] - 4s 595us/step - loss: 0.5763 - acc: 0.7369 - val_loss: 0.5713 - val_acc: 0.7417\n",
            "Epoch 24/25\n",
            "6750/6750 [==============================] - 4s 602us/step - loss: 0.5763 - acc: 0.7369 - val_loss: 0.5713 - val_acc: 0.7417\n",
            "Epoch 25/25\n",
            "6750/6750 [==============================] - 4s 594us/step - loss: 0.5763 - acc: 0.7369 - val_loss: 0.5713 - val_acc: 0.7417\n"
          ],
          "name": "stdout"
        },
        {
          "output_type": "display_data",
          "data": {
            "image/png": "[encoded data removed]",
            "text/plain": [
              "<Figure size 864x360 with 2 Axes>"
            ]
          },
          "metadata": {
            "tags": []
          }
        }
      ]
    },
    {
      "cell_type": "code",
      "metadata": {
        "id": "3IOxCYNpF3Si",
        "colab_type": "code",
        "colab": {
          "base_uri": "https://localhost:8080/",
          "height": 1000
        },
        "outputId": "b7b4c2f0-1e4a-45ef-b34e-37bff57cf589"
      },
      "source": [
        "#all regularizer\n",
        "#super agressive\n",
        "#model5\n",
        "from keras.layers import Embedding\n",
        "from keras.layers import concatenate\n",
        "from keras.layers import GlobalMaxPool1D\n",
        "from keras.layers import Input, Dense\n",
        "from keras.models import Model\n",
        "from keras.regularizers import l2\n",
        "\n",
        "embedding_dim = 25\n",
        "h1=int(2/3*175)\n",
        "h2=int(2/3*h1)\n",
        "print(h1,h2)\n",
        "\n",
        "sjtitle_in = Input(shape=(100,), name='sjtitle_in')\n",
        "speaker_in = Input(shape=(50,), name='speaker_in')\n",
        "text_in = Input(shape=(2099,), name='text_in')\n",
        "subject_in = Input(shape=(203,), name='subject_in')\n",
        "state_in = Input(shape=(49,), name='state_in')\n",
        "party_in = Input(shape=(28,), name='party_in')\n",
        "context_in = Input(shape=(100,), name='context_in')\n",
        "\n",
        "#input dim = vocab size\n",
        "#input length = maxlen\n",
        "sjtitle_embed = Embedding(output_dim=embedding_dim, input_dim=1046, input_length=100)(sjtitle_in)\n",
        "speaker_embed = Embedding(output_dim=embedding_dim, input_dim=2063, input_length=50)(speaker_in)\n",
        "text_embed = Embedding(output_dim=embedding_dim, input_dim=9804, input_length=2099)(text_in)\n",
        "subject_embed = Embedding(output_dim=embedding_dim, input_dim=178, input_length=203)(subject_in)\n",
        "state_embed = Embedding(output_dim=embedding_dim, input_dim=75, input_length=49)(state_in)\n",
        "party_embed = Embedding(output_dim=embedding_dim, input_dim=29, input_length=28)(party_in)\n",
        "context_embed = Embedding(output_dim=embedding_dim, input_dim=1958, input_length=100)(context_in)\n",
        "\n",
        "\n",
        "\n",
        "sjtitle_pool = GlobalMaxPool1D()(sjtitle_embed)\n",
        "speaker_pool = GlobalMaxPool1D()(speaker_embed)\n",
        "text_pool = GlobalMaxPool1D()(text_embed)\n",
        "subject_pool = GlobalMaxPool1D()(subject_embed)\n",
        "state_pool = GlobalMaxPool1D()(state_embed)\n",
        "party_pool = GlobalMaxPool1D()(party_embed)\n",
        "context_pool = GlobalMaxPool1D()(context_embed)\n",
        "\n",
        "\n",
        "all_d = concatenate([sjtitle_pool, speaker_pool,text_pool,subject_pool,state_pool,party_pool,context_pool])\n",
        "\n",
        "d1 = Dense(h1, activation='relu',activity_regularizer=l2(0.1),kernel_regularizer=l2(0.01), bias_regularizer=l2(0.01))(all_d)\n",
        "d2 = Dense(h2, activation='relu',activity_regularizer=l2(0.1),kernel_regularizer=l2(0.01), bias_regularizer=l2(0.01))(d1)\n",
        "\n",
        "op = Dense(1, activation='sigmoid', name='op')(d2)\n",
        "\n",
        "\n",
        "\n",
        "\n",
        "model5 = Model(inputs=[sjtitle_in,speaker_in,text_in,subject_in,state_in,party_in,context_in], outputs=[op])\n",
        "\n",
        "model5.summary()"
      ],
      "execution_count": null,
      "outputs": [
        {
          "output_type": "stream",
          "text": [
            "116 77\n",
            "Model: \"model_17\"\n",
            "__________________________________________________________________________________________________\n",
            "Layer (type)                    Output Shape         Param #     Connected to                     \n",
            "==================================================================================================\n",
            "sjtitle_in (InputLayer)         (None, 100)          0                                            \n",
            "__________________________________________________________________________________________________\n",
            "speaker_in (InputLayer)         (None, 50)           0                                            \n",
            "__________________________________________________________________________________________________\n",
            "text_in (InputLayer)            (None, 2099)         0                                            \n",
            "__________________________________________________________________________________________________\n",
            "subject_in (InputLayer)         (None, 203)          0                                            \n",
            "__________________________________________________________________________________________________\n",
            "state_in (InputLayer)           (None, 49)           0                                            \n",
            "__________________________________________________________________________________________________\n",
            "party_in (InputLayer)           (None, 28)           0                                            \n",
            "__________________________________________________________________________________________________\n",
            "context_in (InputLayer)         (None, 100)          0                                            \n",
            "__________________________________________________________________________________________________\n",
            "embedding_113 (Embedding)       (None, 100, 25)      26150       sjtitle_in[0][0]                 \n",
            "__________________________________________________________________________________________________\n",
            "embedding_114 (Embedding)       (None, 50, 25)       51575       speaker_in[0][0]                 \n",
            "__________________________________________________________________________________________________\n",
            "embedding_115 (Embedding)       (None, 2099, 25)     245100      text_in[0][0]                    \n",
            "__________________________________________________________________________________________________\n",
            "embedding_116 (Embedding)       (None, 203, 25)      4450        subject_in[0][0]                 \n",
            "__________________________________________________________________________________________________\n",
            "embedding_117 (Embedding)       (None, 49, 25)       1875        state_in[0][0]                   \n",
            "__________________________________________________________________________________________________\n",
            "embedding_118 (Embedding)       (None, 28, 25)       725         party_in[0][0]                   \n",
            "__________________________________________________________________________________________________\n",
            "embedding_119 (Embedding)       (None, 100, 25)      48950       context_in[0][0]                 \n",
            "__________________________________________________________________________________________________\n",
            "global_max_pooling1d_113 (Globa (None, 25)           0           embedding_113[0][0]              \n",
            "__________________________________________________________________________________________________\n",
            "global_max_pooling1d_114 (Globa (None, 25)           0           embedding_114[0][0]              \n",
            "__________________________________________________________________________________________________\n",
            "global_max_pooling1d_115 (Globa (None, 25)           0           embedding_115[0][0]              \n",
            "__________________________________________________________________________________________________\n",
            "global_max_pooling1d_116 (Globa (None, 25)           0           embedding_116[0][0]              \n",
            "__________________________________________________________________________________________________\n",
            "global_max_pooling1d_117 (Globa (None, 25)           0           embedding_117[0][0]              \n",
            "__________________________________________________________________________________________________\n",
            "global_max_pooling1d_118 (Globa (None, 25)           0           embedding_118[0][0]              \n",
            "__________________________________________________________________________________________________\n",
            "global_max_pooling1d_119 (Globa (None, 25)           0           embedding_119[0][0]              \n",
            "__________________________________________________________________________________________________\n",
            "concatenate_17 (Concatenate)    (None, 175)          0           global_max_pooling1d_113[0][0]   \n",
            "                                                                 global_max_pooling1d_114[0][0]   \n",
            "                                                                 global_max_pooling1d_115[0][0]   \n",
            "                                                                 global_max_pooling1d_116[0][0]   \n",
            "                                                                 global_max_pooling1d_117[0][0]   \n",
            "                                                                 global_max_pooling1d_118[0][0]   \n",
            "                                                                 global_max_pooling1d_119[0][0]   \n",
            "__________________________________________________________________________________________________\n",
            "dense_33 (Dense)                (None, 116)          20416       concatenate_17[0][0]             \n",
            "__________________________________________________________________________________________________\n",
            "dense_34 (Dense)                (None, 77)           9009        dense_33[0][0]                   \n",
            "__________________________________________________________________________________________________\n",
            "op (Dense)                      (None, 1)            78          dense_34[0][0]                   \n",
            "==================================================================================================\n",
            "Total params: 408,328\n",
            "Trainable params: 408,328\n",
            "Non-trainable params: 0\n",
            "__________________________________________________________________________________________________\n"
          ],
          "name": "stdout"
        }
      ]
    },
    {
      "cell_type": "code",
      "metadata": {
        "id": "Rnv0Re2nF96_",
        "colab_type": "code",
        "colab": {
          "base_uri": "https://localhost:8080/",
          "height": 1000
        },
        "outputId": "777866ca-bf46-4940-baa9-216e7d7b8ab9"
      },
      "source": [
        "model5.compile(optimizer='adam',\n",
        "              loss='binary_crossentropy',metrics=['accuracy'])\n",
        "h=model5.fit({'sjtitle_in':train_padtext_sjt,'speaker_in':train_padtext_spk,'text_in':train_padtext_state,'subject_in':train_padtext_sub,'state_in':train_padtext_stinfo,'party_in':train_padtext_pty,'context_in':train_padtext_cnt},{'op': liar_train_y},\n",
        "          epochs=50, batch_size=32,validation_data=({'sjtitle_in':dev_padtext_sjt,'speaker_in':dev_padtext_spk,'text_in':dev_padtext_state,'subject_in':dev_padtext_sub,'state_in':dev_padtext_stinfo,'party_in':dev_padtext_pty,'context_in':dev_padtext_cnt},{'op': liar_dev_y}))\n",
        "plot_history(h)"
      ],
      "execution_count": null,
      "outputs": [
        {
          "output_type": "stream",
          "text": [
            "Train on 6750 samples, validate on 844 samples\n",
            "Epoch 1/50\n",
            "6750/6750 [==============================] - 8s 1ms/step - loss: 1.2474 - acc: 0.7351 - val_loss: 0.6681 - val_acc: 0.7417\n",
            "Epoch 2/50\n",
            "6750/6750 [==============================] - 4s 600us/step - loss: 0.6356 - acc: 0.7369 - val_loss: 0.6159 - val_acc: 0.7417\n",
            "Epoch 3/50\n",
            "6750/6750 [==============================] - 4s 595us/step - loss: 0.6094 - acc: 0.7369 - val_loss: 0.5984 - val_acc: 0.7417\n",
            "Epoch 4/50\n",
            "6750/6750 [==============================] - 4s 595us/step - loss: 0.5964 - acc: 0.7369 - val_loss: 0.5886 - val_acc: 0.7417\n",
            "Epoch 5/50\n",
            "6750/6750 [==============================] - 4s 597us/step - loss: 0.5888 - acc: 0.7369 - val_loss: 0.5824 - val_acc: 0.7417\n",
            "Epoch 6/50\n",
            "6750/6750 [==============================] - 4s 606us/step - loss: 0.5840 - acc: 0.7369 - val_loss: 0.5781 - val_acc: 0.7417\n",
            "Epoch 7/50\n",
            "6750/6750 [==============================] - 4s 599us/step - loss: 0.5812 - acc: 0.7369 - val_loss: 0.5773 - val_acc: 0.7417\n",
            "Epoch 8/50\n",
            "6750/6750 [==============================] - 4s 589us/step - loss: 0.5800 - acc: 0.7369 - val_loss: 0.5747 - val_acc: 0.7417\n",
            "Epoch 9/50\n",
            "6750/6750 [==============================] - 4s 591us/step - loss: 0.5783 - acc: 0.7369 - val_loss: 0.5738 - val_acc: 0.7417\n",
            "Epoch 10/50\n",
            "6750/6750 [==============================] - 4s 597us/step - loss: 0.5775 - acc: 0.7369 - val_loss: 0.5725 - val_acc: 0.7417\n",
            "Epoch 11/50\n",
            "6750/6750 [==============================] - 4s 591us/step - loss: 0.5769 - acc: 0.7369 - val_loss: 0.5720 - val_acc: 0.7417\n",
            "Epoch 12/50\n",
            "6750/6750 [==============================] - 4s 593us/step - loss: 0.5765 - acc: 0.7369 - val_loss: 0.5717 - val_acc: 0.7417\n",
            "Epoch 13/50\n",
            "6750/6750 [==============================] - 4s 587us/step - loss: 0.5764 - acc: 0.7369 - val_loss: 0.5715 - val_acc: 0.7417\n",
            "Epoch 14/50\n",
            "6750/6750 [==============================] - 4s 586us/step - loss: 0.5764 - acc: 0.7369 - val_loss: 0.5714 - val_acc: 0.7417\n",
            "Epoch 15/50\n",
            "6750/6750 [==============================] - 4s 586us/step - loss: 0.5763 - acc: 0.7369 - val_loss: 0.5714 - val_acc: 0.7417\n",
            "Epoch 16/50\n",
            "6750/6750 [==============================] - 4s 588us/step - loss: 0.5763 - acc: 0.7369 - val_loss: 0.5714 - val_acc: 0.7417\n",
            "Epoch 17/50\n",
            "6750/6750 [==============================] - 4s 581us/step - loss: 0.5763 - acc: 0.7369 - val_loss: 0.5714 - val_acc: 0.7417\n",
            "Epoch 18/50\n",
            "6750/6750 [==============================] - 4s 583us/step - loss: 0.5763 - acc: 0.7369 - val_loss: 0.5713 - val_acc: 0.7417\n",
            "Epoch 19/50\n",
            "6750/6750 [==============================] - 4s 580us/step - loss: 0.5763 - acc: 0.7369 - val_loss: 0.5713 - val_acc: 0.7417\n",
            "Epoch 20/50\n",
            "6750/6750 [==============================] - 4s 580us/step - loss: 0.5763 - acc: 0.7369 - val_loss: 0.5713 - val_acc: 0.7417\n",
            "Epoch 21/50\n",
            "6750/6750 [==============================] - 4s 583us/step - loss: 0.5763 - acc: 0.7369 - val_loss: 0.5713 - val_acc: 0.7417\n",
            "Epoch 22/50\n",
            "6750/6750 [==============================] - 4s 581us/step - loss: 0.5763 - acc: 0.7369 - val_loss: 0.5713 - val_acc: 0.7417\n",
            "Epoch 23/50\n",
            "6750/6750 [==============================] - 4s 586us/step - loss: 0.5763 - acc: 0.7369 - val_loss: 0.5713 - val_acc: 0.7417\n",
            "Epoch 24/50\n",
            "6750/6750 [==============================] - 4s 585us/step - loss: 0.5763 - acc: 0.7369 - val_loss: 0.5713 - val_acc: 0.7417\n",
            "Epoch 25/50\n",
            "6750/6750 [==============================] - 4s 582us/step - loss: 0.5763 - acc: 0.7369 - val_loss: 0.5713 - val_acc: 0.7417\n",
            "Epoch 26/50\n",
            "6750/6750 [==============================] - 4s 587us/step - loss: 0.5763 - acc: 0.7369 - val_loss: 0.5713 - val_acc: 0.7417\n",
            "Epoch 27/50\n",
            "6750/6750 [==============================] - 4s 582us/step - loss: 0.5763 - acc: 0.7369 - val_loss: 0.5713 - val_acc: 0.7417\n",
            "Epoch 28/50\n",
            "6750/6750 [==============================] - 4s 585us/step - loss: 0.5763 - acc: 0.7369 - val_loss: 0.5713 - val_acc: 0.7417\n",
            "Epoch 29/50\n",
            "6750/6750 [==============================] - 4s 590us/step - loss: 0.5763 - acc: 0.7369 - val_loss: 0.5713 - val_acc: 0.7417\n",
            "Epoch 30/50\n",
            "6750/6750 [==============================] - 4s 600us/step - loss: 0.5763 - acc: 0.7369 - val_loss: 0.5713 - val_acc: 0.7417\n",
            "Epoch 31/50\n",
            "6750/6750 [==============================] - 4s 588us/step - loss: 0.5763 - acc: 0.7369 - val_loss: 0.5713 - val_acc: 0.7417\n",
            "Epoch 32/50\n",
            "6750/6750 [==============================] - 4s 590us/step - loss: 0.5763 - acc: 0.7369 - val_loss: 0.5713 - val_acc: 0.7417\n",
            "Epoch 33/50\n",
            "6750/6750 [==============================] - 4s 590us/step - loss: 0.5763 - acc: 0.7369 - val_loss: 0.5713 - val_acc: 0.7417\n",
            "Epoch 34/50\n",
            "6750/6750 [==============================] - 4s 588us/step - loss: 0.5763 - acc: 0.7369 - val_loss: 0.5713 - val_acc: 0.7417\n",
            "Epoch 35/50\n",
            "6750/6750 [==============================] - 4s 588us/step - loss: 0.5763 - acc: 0.7369 - val_loss: 0.5713 - val_acc: 0.7417\n",
            "Epoch 36/50\n",
            "6750/6750 [==============================] - 4s 595us/step - loss: 0.5763 - acc: 0.7369 - val_loss: 0.5713 - val_acc: 0.7417\n",
            "Epoch 37/50\n",
            "6750/6750 [==============================] - 4s 589us/step - loss: 0.5763 - acc: 0.7369 - val_loss: 0.5713 - val_acc: 0.7417\n",
            "Epoch 38/50\n",
            "6750/6750 [==============================] - 4s 590us/step - loss: 0.5763 - acc: 0.7369 - val_loss: 0.5713 - val_acc: 0.7417\n",
            "Epoch 39/50\n",
            "6750/6750 [==============================] - 4s 591us/step - loss: 0.5763 - acc: 0.7369 - val_loss: 0.5713 - val_acc: 0.7417\n",
            "Epoch 40/50\n",
            "6750/6750 [==============================] - 4s 599us/step - loss: 0.5763 - acc: 0.7369 - val_loss: 0.5713 - val_acc: 0.7417\n",
            "Epoch 41/50\n",
            "6750/6750 [==============================] - 4s 596us/step - loss: 0.5763 - acc: 0.7369 - val_loss: 0.5713 - val_acc: 0.7417\n",
            "Epoch 42/50\n",
            "6750/6750 [==============================] - 4s 626us/step - loss: 0.5763 - acc: 0.7369 - val_loss: 0.5714 - val_acc: 0.7417\n",
            "Epoch 43/50\n",
            "6750/6750 [==============================] - 4s 596us/step - loss: 0.5764 - acc: 0.7369 - val_loss: 0.5714 - val_acc: 0.7417\n",
            "Epoch 44/50\n",
            "6750/6750 [==============================] - 4s 594us/step - loss: 0.5763 - acc: 0.7369 - val_loss: 0.5713 - val_acc: 0.7417\n",
            "Epoch 45/50\n",
            "6750/6750 [==============================] - 4s 591us/step - loss: 0.5764 - acc: 0.7369 - val_loss: 0.5713 - val_acc: 0.7417\n",
            "Epoch 46/50\n",
            "6750/6750 [==============================] - 4s 590us/step - loss: 0.5763 - acc: 0.7369 - val_loss: 0.5713 - val_acc: 0.7417\n",
            "Epoch 47/50\n",
            "6750/6750 [==============================] - 4s 591us/step - loss: 0.5763 - acc: 0.7369 - val_loss: 0.5713 - val_acc: 0.7417\n",
            "Epoch 48/50\n",
            "6750/6750 [==============================] - 4s 588us/step - loss: 0.5763 - acc: 0.7369 - val_loss: 0.5713 - val_acc: 0.7417\n",
            "Epoch 49/50\n",
            "6750/6750 [==============================] - 4s 591us/step - loss: 0.5763 - acc: 0.7369 - val_loss: 0.5713 - val_acc: 0.7417\n",
            "Epoch 50/50\n",
            "6750/6750 [==============================] - 4s 587us/step - loss: 0.5763 - acc: 0.7369 - val_loss: 0.5713 - val_acc: 0.7417\n"
          ],
          "name": "stdout"
        },
        {
          "output_type": "display_data",
          "data": {
            "image/png": "[encoded data removed]",
            "text/plain": [
              "<Figure size 864x360 with 2 Axes>"
            ]
          },
          "metadata": {
            "tags": []
          }
        }
      ]
    },
    {
      "cell_type": "code",
      "metadata": {
        "id": "7fBchHCeH-u4",
        "colab_type": "code",
        "colab": {
          "base_uri": "https://localhost:8080/",
          "height": 1000
        },
        "outputId": "40e014f7-26cd-420c-b35b-ab8aceb316c6"
      },
      "source": [
        "#all regularizer\n",
        "#super agressive\n",
        "#model6\n",
        "from keras.layers import Embedding\n",
        "from keras.layers import concatenate\n",
        "from keras.layers import GlobalMaxPool1D\n",
        "from keras.layers import Input, Dense\n",
        "from keras.models import Model\n",
        "from keras.regularizers import l2\n",
        "\n",
        "embedding_dim = 25\n",
        "h1=int(2/3*175)\n",
        "h2=int(2/3*h1)\n",
        "print(h1,h2)\n",
        "\n",
        "sjtitle_in = Input(shape=(100,), name='sjtitle_in')\n",
        "speaker_in = Input(shape=(50,), name='speaker_in')\n",
        "text_in = Input(shape=(2099,), name='text_in')\n",
        "subject_in = Input(shape=(203,), name='subject_in')\n",
        "state_in = Input(shape=(49,), name='state_in')\n",
        "party_in = Input(shape=(28,), name='party_in')\n",
        "context_in = Input(shape=(100,), name='context_in')\n",
        "\n",
        "#input dim = vocab size\n",
        "#input length = maxlen\n",
        "sjtitle_embed = Embedding(output_dim=embedding_dim, input_dim=1046, input_length=100)(sjtitle_in)\n",
        "speaker_embed = Embedding(output_dim=embedding_dim, input_dim=2063, input_length=50)(speaker_in)\n",
        "text_embed = Embedding(output_dim=embedding_dim, input_dim=9804, input_length=2099)(text_in)\n",
        "subject_embed = Embedding(output_dim=embedding_dim, input_dim=178, input_length=203)(subject_in)\n",
        "state_embed = Embedding(output_dim=embedding_dim, input_dim=75, input_length=49)(state_in)\n",
        "party_embed = Embedding(output_dim=embedding_dim, input_dim=29, input_length=28)(party_in)\n",
        "context_embed = Embedding(output_dim=embedding_dim, input_dim=1958, input_length=100)(context_in)\n",
        "\n",
        "\n",
        "\n",
        "sjtitle_pool = GlobalMaxPool1D()(sjtitle_embed)\n",
        "speaker_pool = GlobalMaxPool1D()(speaker_embed)\n",
        "text_pool = GlobalMaxPool1D()(text_embed)\n",
        "subject_pool = GlobalMaxPool1D()(subject_embed)\n",
        "state_pool = GlobalMaxPool1D()(state_embed)\n",
        "party_pool = GlobalMaxPool1D()(party_embed)\n",
        "context_pool = GlobalMaxPool1D()(context_embed)\n",
        "\n",
        "\n",
        "all_d = concatenate([sjtitle_pool, speaker_pool,text_pool,subject_pool,state_pool,party_pool,context_pool])\n",
        "\n",
        "d1 = Dense(h1, activation='relu',activity_regularizer=l2(0.01),kernel_regularizer=l2(0.01), bias_regularizer=l2(0.01))(all_d)\n",
        "d2 = Dense(h2, activation='relu',activity_regularizer=l2(0.01),kernel_regularizer=l2(0.01), bias_regularizer=l2(0.01))(d1)\n",
        "\n",
        "op = Dense(1, activation='sigmoid', name='op')(d2)\n",
        "\n",
        "\n",
        "\n",
        "\n",
        "model6 = Model(inputs=[sjtitle_in,speaker_in,text_in,subject_in,state_in,party_in,context_in], outputs=[op])\n",
        "\n",
        "model6.summary()"
      ],
      "execution_count": null,
      "outputs": [
        {
          "output_type": "stream",
          "text": [
            "116 77\n",
            "Model: \"model_18\"\n",
            "__________________________________________________________________________________________________\n",
            "Layer (type)                    Output Shape         Param #     Connected to                     \n",
            "==================================================================================================\n",
            "sjtitle_in (InputLayer)         (None, 100)          0                                            \n",
            "__________________________________________________________________________________________________\n",
            "speaker_in (InputLayer)         (None, 50)           0                                            \n",
            "__________________________________________________________________________________________________\n",
            "text_in (InputLayer)            (None, 2099)         0                                            \n",
            "__________________________________________________________________________________________________\n",
            "subject_in (InputLayer)         (None, 203)          0                                            \n",
            "__________________________________________________________________________________________________\n",
            "state_in (InputLayer)           (None, 49)           0                                            \n",
            "__________________________________________________________________________________________________\n",
            "party_in (InputLayer)           (None, 28)           0                                            \n",
            "__________________________________________________________________________________________________\n",
            "context_in (InputLayer)         (None, 100)          0                                            \n",
            "__________________________________________________________________________________________________\n",
            "embedding_120 (Embedding)       (None, 100, 25)      26150       sjtitle_in[0][0]                 \n",
            "__________________________________________________________________________________________________\n",
            "embedding_121 (Embedding)       (None, 50, 25)       51575       speaker_in[0][0]                 \n",
            "__________________________________________________________________________________________________\n",
            "embedding_122 (Embedding)       (None, 2099, 25)     245100      text_in[0][0]                    \n",
            "__________________________________________________________________________________________________\n",
            "embedding_123 (Embedding)       (None, 203, 25)      4450        subject_in[0][0]                 \n",
            "__________________________________________________________________________________________________\n",
            "embedding_124 (Embedding)       (None, 49, 25)       1875        state_in[0][0]                   \n",
            "__________________________________________________________________________________________________\n",
            "embedding_125 (Embedding)       (None, 28, 25)       725         party_in[0][0]                   \n",
            "__________________________________________________________________________________________________\n",
            "embedding_126 (Embedding)       (None, 100, 25)      48950       context_in[0][0]                 \n",
            "__________________________________________________________________________________________________\n",
            "global_max_pooling1d_120 (Globa (None, 25)           0           embedding_120[0][0]              \n",
            "__________________________________________________________________________________________________\n",
            "global_max_pooling1d_121 (Globa (None, 25)           0           embedding_121[0][0]              \n",
            "__________________________________________________________________________________________________\n",
            "global_max_pooling1d_122 (Globa (None, 25)           0           embedding_122[0][0]              \n",
            "__________________________________________________________________________________________________\n",
            "global_max_pooling1d_123 (Globa (None, 25)           0           embedding_123[0][0]              \n",
            "__________________________________________________________________________________________________\n",
            "global_max_pooling1d_124 (Globa (None, 25)           0           embedding_124[0][0]              \n",
            "__________________________________________________________________________________________________\n",
            "global_max_pooling1d_125 (Globa (None, 25)           0           embedding_125[0][0]              \n",
            "__________________________________________________________________________________________________\n",
            "global_max_pooling1d_126 (Globa (None, 25)           0           embedding_126[0][0]              \n",
            "__________________________________________________________________________________________________\n",
            "concatenate_18 (Concatenate)    (None, 175)          0           global_max_pooling1d_120[0][0]   \n",
            "                                                                 global_max_pooling1d_121[0][0]   \n",
            "                                                                 global_max_pooling1d_122[0][0]   \n",
            "                                                                 global_max_pooling1d_123[0][0]   \n",
            "                                                                 global_max_pooling1d_124[0][0]   \n",
            "                                                                 global_max_pooling1d_125[0][0]   \n",
            "                                                                 global_max_pooling1d_126[0][0]   \n",
            "__________________________________________________________________________________________________\n",
            "dense_35 (Dense)                (None, 116)          20416       concatenate_18[0][0]             \n",
            "__________________________________________________________________________________________________\n",
            "dense_36 (Dense)                (None, 77)           9009        dense_35[0][0]                   \n",
            "__________________________________________________________________________________________________\n",
            "op (Dense)                      (None, 1)            78          dense_36[0][0]                   \n",
            "==================================================================================================\n",
            "Total params: 408,328\n",
            "Trainable params: 408,328\n",
            "Non-trainable params: 0\n",
            "__________________________________________________________________________________________________\n"
          ],
          "name": "stdout"
        }
      ]
    },
    {
      "cell_type": "code",
      "metadata": {
        "id": "2-QcEoRXIKKg",
        "colab_type": "code",
        "colab": {
          "base_uri": "https://localhost:8080/",
          "height": 1000
        },
        "outputId": "013a4c33-14ef-4127-d75b-ac2214c3e5f4"
      },
      "source": [
        "model6.compile(optimizer='adam',\n",
        "              loss='binary_crossentropy',metrics=['accuracy'])\n",
        "h=model6.fit({'sjtitle_in':train_padtext_sjt,'speaker_in':train_padtext_spk,'text_in':train_padtext_state,'subject_in':train_padtext_sub,'state_in':train_padtext_stinfo,'party_in':train_padtext_pty,'context_in':train_padtext_cnt},{'op': liar_train_y},\n",
        "          epochs=50, batch_size=32,validation_data=({'sjtitle_in':dev_padtext_sjt,'speaker_in':dev_padtext_spk,'text_in':dev_padtext_state,'subject_in':dev_padtext_sub,'state_in':dev_padtext_stinfo,'party_in':dev_padtext_pty,'context_in':dev_padtext_cnt},{'op': liar_dev_y}))\n",
        "plot_history(h)"
      ],
      "execution_count": null,
      "outputs": [
        {
          "output_type": "stream",
          "text": [
            "Train on 6750 samples, validate on 844 samples\n",
            "Epoch 1/50\n",
            "6750/6750 [==============================] - 8s 1ms/step - loss: 1.1509 - acc: 0.7317 - val_loss: 0.6204 - val_acc: 0.7417\n",
            "Epoch 2/50\n",
            "6750/6750 [==============================] - 4s 589us/step - loss: 0.6048 - acc: 0.7369 - val_loss: 0.5921 - val_acc: 0.7417\n",
            "Epoch 3/50\n",
            "6750/6750 [==============================] - 4s 591us/step - loss: 0.5927 - acc: 0.7369 - val_loss: 0.5872 - val_acc: 0.7417\n",
            "Epoch 4/50\n",
            "6750/6750 [==============================] - 4s 585us/step - loss: 0.5877 - acc: 0.7369 - val_loss: 0.5834 - val_acc: 0.7417\n",
            "Epoch 5/50\n",
            "6750/6750 [==============================] - 4s 597us/step - loss: 0.5848 - acc: 0.7369 - val_loss: 0.5797 - val_acc: 0.7417\n",
            "Epoch 6/50\n",
            "6750/6750 [==============================] - 4s 597us/step - loss: 0.5832 - acc: 0.7369 - val_loss: 0.5783 - val_acc: 0.7417\n",
            "Epoch 7/50\n",
            "6750/6750 [==============================] - 4s 596us/step - loss: 0.5820 - acc: 0.7369 - val_loss: 0.5764 - val_acc: 0.7417\n",
            "Epoch 8/50\n",
            "6750/6750 [==============================] - 4s 590us/step - loss: 0.5814 - acc: 0.7369 - val_loss: 0.5772 - val_acc: 0.7417\n",
            "Epoch 9/50\n",
            "6750/6750 [==============================] - 4s 603us/step - loss: 0.5801 - acc: 0.7369 - val_loss: 0.5752 - val_acc: 0.7417\n",
            "Epoch 10/50\n",
            "6750/6750 [==============================] - 4s 590us/step - loss: 0.5798 - acc: 0.7369 - val_loss: 0.5745 - val_acc: 0.7417\n",
            "Epoch 11/50\n",
            "6750/6750 [==============================] - 4s 587us/step - loss: 0.5791 - acc: 0.7369 - val_loss: 0.5740 - val_acc: 0.7417\n",
            "Epoch 12/50\n",
            "6750/6750 [==============================] - 4s 589us/step - loss: 0.5788 - acc: 0.7369 - val_loss: 0.5759 - val_acc: 0.7417\n",
            "Epoch 13/50\n",
            "6750/6750 [==============================] - 4s 605us/step - loss: 0.5784 - acc: 0.7369 - val_loss: 0.5735 - val_acc: 0.7417\n",
            "Epoch 14/50\n",
            "6750/6750 [==============================] - 4s 606us/step - loss: 0.5784 - acc: 0.7369 - val_loss: 0.5742 - val_acc: 0.7417\n",
            "Epoch 15/50\n",
            "6750/6750 [==============================] - 4s 597us/step - loss: 0.5780 - acc: 0.7369 - val_loss: 0.5726 - val_acc: 0.7417\n",
            "Epoch 16/50\n",
            "6750/6750 [==============================] - 4s 592us/step - loss: 0.5780 - acc: 0.7369 - val_loss: 0.5724 - val_acc: 0.7417\n",
            "Epoch 17/50\n",
            "6750/6750 [==============================] - 4s 593us/step - loss: 0.5780 - acc: 0.7369 - val_loss: 0.5725 - val_acc: 0.7417\n",
            "Epoch 18/50\n",
            "6750/6750 [==============================] - 4s 592us/step - loss: 0.5776 - acc: 0.7369 - val_loss: 0.5722 - val_acc: 0.7417\n",
            "Epoch 19/50\n",
            "6750/6750 [==============================] - 4s 594us/step - loss: 0.5775 - acc: 0.7369 - val_loss: 0.5722 - val_acc: 0.7417\n",
            "Epoch 20/50\n",
            "6750/6750 [==============================] - 4s 599us/step - loss: 0.5776 - acc: 0.7369 - val_loss: 0.5724 - val_acc: 0.7417\n",
            "Epoch 21/50\n",
            "6750/6750 [==============================] - 4s 593us/step - loss: 0.5779 - acc: 0.7369 - val_loss: 0.5724 - val_acc: 0.7417\n",
            "Epoch 22/50\n",
            "6750/6750 [==============================] - 4s 591us/step - loss: 0.5773 - acc: 0.7369 - val_loss: 0.5723 - val_acc: 0.7417\n",
            "Epoch 23/50\n",
            "6750/6750 [==============================] - 4s 586us/step - loss: 0.5772 - acc: 0.7369 - val_loss: 0.5717 - val_acc: 0.7417\n",
            "Epoch 24/50\n",
            "6750/6750 [==============================] - 4s 583us/step - loss: 0.5771 - acc: 0.7369 - val_loss: 0.5733 - val_acc: 0.7417\n",
            "Epoch 25/50\n",
            "6750/6750 [==============================] - 4s 587us/step - loss: 0.5777 - acc: 0.7369 - val_loss: 0.5725 - val_acc: 0.7417\n",
            "Epoch 26/50\n",
            "6750/6750 [==============================] - 4s 595us/step - loss: 0.5767 - acc: 0.7369 - val_loss: 0.5718 - val_acc: 0.7417\n",
            "Epoch 27/50\n",
            "6750/6750 [==============================] - 4s 598us/step - loss: 0.5765 - acc: 0.7369 - val_loss: 0.5716 - val_acc: 0.7417\n",
            "Epoch 28/50\n",
            "6750/6750 [==============================] - 4s 597us/step - loss: 0.5764 - acc: 0.7369 - val_loss: 0.5714 - val_acc: 0.7417\n",
            "Epoch 29/50\n",
            "6750/6750 [==============================] - 4s 597us/step - loss: 0.5764 - acc: 0.7369 - val_loss: 0.5714 - val_acc: 0.7417\n",
            "Epoch 30/50\n",
            "6750/6750 [==============================] - 4s 591us/step - loss: 0.5763 - acc: 0.7369 - val_loss: 0.5714 - val_acc: 0.7417\n",
            "Epoch 31/50\n",
            "6750/6750 [==============================] - 4s 594us/step - loss: 0.5763 - acc: 0.7369 - val_loss: 0.5714 - val_acc: 0.7417\n",
            "Epoch 32/50\n",
            "6750/6750 [==============================] - 4s 596us/step - loss: 0.5763 - acc: 0.7369 - val_loss: 0.5713 - val_acc: 0.7417\n",
            "Epoch 33/50\n",
            "6750/6750 [==============================] - 4s 599us/step - loss: 0.5763 - acc: 0.7369 - val_loss: 0.5713 - val_acc: 0.7417\n",
            "Epoch 34/50\n",
            "6750/6750 [==============================] - 4s 597us/step - loss: 0.5763 - acc: 0.7369 - val_loss: 0.5713 - val_acc: 0.7417\n",
            "Epoch 35/50\n",
            "6750/6750 [==============================] - 4s 632us/step - loss: 0.5763 - acc: 0.7369 - val_loss: 0.5713 - val_acc: 0.7417\n",
            "Epoch 36/50\n",
            "6750/6750 [==============================] - 4s 609us/step - loss: 0.5763 - acc: 0.7369 - val_loss: 0.5713 - val_acc: 0.7417\n",
            "Epoch 37/50\n",
            "6750/6750 [==============================] - 4s 598us/step - loss: 0.5763 - acc: 0.7369 - val_loss: 0.5713 - val_acc: 0.7417\n",
            "Epoch 38/50\n",
            "6750/6750 [==============================] - 4s 588us/step - loss: 0.5763 - acc: 0.7369 - val_loss: 0.5713 - val_acc: 0.7417\n",
            "Epoch 39/50\n",
            "6750/6750 [==============================] - 4s 588us/step - loss: 0.5763 - acc: 0.7369 - val_loss: 0.5713 - val_acc: 0.7417\n",
            "Epoch 40/50\n",
            "6750/6750 [==============================] - 4s 602us/step - loss: 0.5763 - acc: 0.7369 - val_loss: 0.5713 - val_acc: 0.7417\n",
            "Epoch 41/50\n",
            "6750/6750 [==============================] - 4s 597us/step - loss: 0.5763 - acc: 0.7369 - val_loss: 0.5713 - val_acc: 0.7417\n",
            "Epoch 42/50\n",
            "6750/6750 [==============================] - 4s 589us/step - loss: 0.5763 - acc: 0.7369 - val_loss: 0.5713 - val_acc: 0.7417\n",
            "Epoch 43/50\n",
            "6750/6750 [==============================] - 4s 588us/step - loss: 0.5763 - acc: 0.7369 - val_loss: 0.5713 - val_acc: 0.7417\n",
            "Epoch 44/50\n",
            "6750/6750 [==============================] - 4s 586us/step - loss: 0.5763 - acc: 0.7369 - val_loss: 0.5714 - val_acc: 0.7417\n",
            "Epoch 45/50\n",
            "6750/6750 [==============================] - 4s 586us/step - loss: 0.5763 - acc: 0.7369 - val_loss: 0.5713 - val_acc: 0.7417\n",
            "Epoch 46/50\n",
            "6750/6750 [==============================] - 4s 585us/step - loss: 0.5763 - acc: 0.7369 - val_loss: 0.5713 - val_acc: 0.7417\n",
            "Epoch 47/50\n",
            "6750/6750 [==============================] - 4s 591us/step - loss: 0.5763 - acc: 0.7369 - val_loss: 0.5713 - val_acc: 0.7417\n",
            "Epoch 48/50\n",
            "6750/6750 [==============================] - 4s 590us/step - loss: 0.5763 - acc: 0.7369 - val_loss: 0.5713 - val_acc: 0.7417\n",
            "Epoch 49/50\n",
            "6750/6750 [==============================] - 4s 588us/step - loss: 0.5763 - acc: 0.7369 - val_loss: 0.5713 - val_acc: 0.7417\n",
            "Epoch 50/50\n",
            "6750/6750 [==============================] - 4s 591us/step - loss: 0.5763 - acc: 0.7369 - val_loss: 0.5713 - val_acc: 0.7417\n"
          ],
          "name": "stdout"
        },
        {
          "output_type": "display_data",
          "data": {
            "image/png": "[encoded data removed]",
            "text/plain": [
              "<Figure size 864x360 with 2 Axes>"
            ]
          },
          "metadata": {
            "tags": []
          }
        }
      ]
    },
    {
      "cell_type": "code",
      "metadata": {
        "id": "PHy9vK_gJlR0",
        "colab_type": "code",
        "colab": {
          "base_uri": "https://localhost:8080/",
          "height": 1000
        },
        "outputId": "f50f8579-4235-4dcc-8e97-0aa1d9522907"
      },
      "source": [
        "#all regularizer\n",
        "#super agressive\n",
        "#model7\n",
        "from keras.layers import Embedding\n",
        "from keras.layers import concatenate\n",
        "from keras.layers import GlobalMaxPool1D\n",
        "from keras.layers import Input, Dense\n",
        "from keras.models import Model\n",
        "from keras.regularizers import l2\n",
        "\n",
        "embedding_dim = 25\n",
        "h1=int(2/3*175)\n",
        "h2=int(2/3*h1)\n",
        "print(h1,h2)\n",
        "\n",
        "sjtitle_in = Input(shape=(100,), name='sjtitle_in')\n",
        "speaker_in = Input(shape=(50,), name='speaker_in')\n",
        "text_in = Input(shape=(2099,), name='text_in')\n",
        "subject_in = Input(shape=(203,), name='subject_in')\n",
        "state_in = Input(shape=(49,), name='state_in')\n",
        "party_in = Input(shape=(28,), name='party_in')\n",
        "context_in = Input(shape=(100,), name='context_in')\n",
        "\n",
        "#input dim = vocab size\n",
        "#input length = maxlen\n",
        "sjtitle_embed = Embedding(output_dim=embedding_dim, input_dim=1046, input_length=100)(sjtitle_in)\n",
        "speaker_embed = Embedding(output_dim=embedding_dim, input_dim=2063, input_length=50)(speaker_in)\n",
        "text_embed = Embedding(output_dim=embedding_dim, input_dim=9804, input_length=2099)(text_in)\n",
        "subject_embed = Embedding(output_dim=embedding_dim, input_dim=178, input_length=203)(subject_in)\n",
        "state_embed = Embedding(output_dim=embedding_dim, input_dim=75, input_length=49)(state_in)\n",
        "party_embed = Embedding(output_dim=embedding_dim, input_dim=29, input_length=28)(party_in)\n",
        "context_embed = Embedding(output_dim=embedding_dim, input_dim=1958, input_length=100)(context_in)\n",
        "\n",
        "\n",
        "\n",
        "sjtitle_pool = GlobalMaxPool1D()(sjtitle_embed)\n",
        "speaker_pool = GlobalMaxPool1D()(speaker_embed)\n",
        "text_pool = GlobalMaxPool1D()(text_embed)\n",
        "subject_pool = GlobalMaxPool1D()(subject_embed)\n",
        "state_pool = GlobalMaxPool1D()(state_embed)\n",
        "party_pool = GlobalMaxPool1D()(party_embed)\n",
        "context_pool = GlobalMaxPool1D()(context_embed)\n",
        "\n",
        "\n",
        "all_d = concatenate([sjtitle_pool, speaker_pool,text_pool,subject_pool,state_pool,party_pool,context_pool])\n",
        "\n",
        "d1 = Dense(h1, activation='relu',activity_regularizer=l2(0.1),kernel_regularizer=l2(0.01), bias_regularizer=l2(0.01))(all_d)\n",
        "d2 = Dense(h2, activation='relu',activity_regularizer=l2(0.1),kernel_regularizer=l2(0.01), bias_regularizer=l2(0.01))(d1)\n",
        "\n",
        "op = Dense(1, activation='sigmoid', name='op')(d2)\n",
        "\n",
        "\n",
        "\n",
        "\n",
        "model7 = Model(inputs=[sjtitle_in,speaker_in,text_in,subject_in,state_in,party_in,context_in], outputs=[op])\n",
        "\n",
        "model7.summary()"
      ],
      "execution_count": null,
      "outputs": [
        {
          "output_type": "stream",
          "text": [
            "116 77\n",
            "Model: \"model_19\"\n",
            "__________________________________________________________________________________________________\n",
            "Layer (type)                    Output Shape         Param #     Connected to                     \n",
            "==================================================================================================\n",
            "sjtitle_in (InputLayer)         (None, 100)          0                                            \n",
            "__________________________________________________________________________________________________\n",
            "speaker_in (InputLayer)         (None, 50)           0                                            \n",
            "__________________________________________________________________________________________________\n",
            "text_in (InputLayer)            (None, 2099)         0                                            \n",
            "__________________________________________________________________________________________________\n",
            "subject_in (InputLayer)         (None, 203)          0                                            \n",
            "__________________________________________________________________________________________________\n",
            "state_in (InputLayer)           (None, 49)           0                                            \n",
            "__________________________________________________________________________________________________\n",
            "party_in (InputLayer)           (None, 28)           0                                            \n",
            "__________________________________________________________________________________________________\n",
            "context_in (InputLayer)         (None, 100)          0                                            \n",
            "__________________________________________________________________________________________________\n",
            "embedding_127 (Embedding)       (None, 100, 25)      26150       sjtitle_in[0][0]                 \n",
            "__________________________________________________________________________________________________\n",
            "embedding_128 (Embedding)       (None, 50, 25)       51575       speaker_in[0][0]                 \n",
            "__________________________________________________________________________________________________\n",
            "embedding_129 (Embedding)       (None, 2099, 25)     245100      text_in[0][0]                    \n",
            "__________________________________________________________________________________________________\n",
            "embedding_130 (Embedding)       (None, 203, 25)      4450        subject_in[0][0]                 \n",
            "__________________________________________________________________________________________________\n",
            "embedding_131 (Embedding)       (None, 49, 25)       1875        state_in[0][0]                   \n",
            "__________________________________________________________________________________________________\n",
            "embedding_132 (Embedding)       (None, 28, 25)       725         party_in[0][0]                   \n",
            "__________________________________________________________________________________________________\n",
            "embedding_133 (Embedding)       (None, 100, 25)      48950       context_in[0][0]                 \n",
            "__________________________________________________________________________________________________\n",
            "global_max_pooling1d_127 (Globa (None, 25)           0           embedding_127[0][0]              \n",
            "__________________________________________________________________________________________________\n",
            "global_max_pooling1d_128 (Globa (None, 25)           0           embedding_128[0][0]              \n",
            "__________________________________________________________________________________________________\n",
            "global_max_pooling1d_129 (Globa (None, 25)           0           embedding_129[0][0]              \n",
            "__________________________________________________________________________________________________\n",
            "global_max_pooling1d_130 (Globa (None, 25)           0           embedding_130[0][0]              \n",
            "__________________________________________________________________________________________________\n",
            "global_max_pooling1d_131 (Globa (None, 25)           0           embedding_131[0][0]              \n",
            "__________________________________________________________________________________________________\n",
            "global_max_pooling1d_132 (Globa (None, 25)           0           embedding_132[0][0]              \n",
            "__________________________________________________________________________________________________\n",
            "global_max_pooling1d_133 (Globa (None, 25)           0           embedding_133[0][0]              \n",
            "__________________________________________________________________________________________________\n",
            "concatenate_19 (Concatenate)    (None, 175)          0           global_max_pooling1d_127[0][0]   \n",
            "                                                                 global_max_pooling1d_128[0][0]   \n",
            "                                                                 global_max_pooling1d_129[0][0]   \n",
            "                                                                 global_max_pooling1d_130[0][0]   \n",
            "                                                                 global_max_pooling1d_131[0][0]   \n",
            "                                                                 global_max_pooling1d_132[0][0]   \n",
            "                                                                 global_max_pooling1d_133[0][0]   \n",
            "__________________________________________________________________________________________________\n",
            "dense_37 (Dense)                (None, 116)          20416       concatenate_19[0][0]             \n",
            "__________________________________________________________________________________________________\n",
            "dense_38 (Dense)                (None, 77)           9009        dense_37[0][0]                   \n",
            "__________________________________________________________________________________________________\n",
            "op (Dense)                      (None, 1)            78          dense_38[0][0]                   \n",
            "==================================================================================================\n",
            "Total params: 408,328\n",
            "Trainable params: 408,328\n",
            "Non-trainable params: 0\n",
            "__________________________________________________________________________________________________\n"
          ],
          "name": "stdout"
        }
      ]
    },
    {
      "cell_type": "code",
      "metadata": {
        "id": "0YNe9lgiJxIw",
        "colab_type": "code",
        "colab": {
          "base_uri": "https://localhost:8080/",
          "height": 1000
        },
        "outputId": "bb416ae3-985f-44e5-a3c1-48ecd51d4b17"
      },
      "source": [
        "model7.compile(optimizer='adam',\n",
        "              loss='binary_crossentropy',metrics=['accuracy'])\n",
        "h=model7.fit({'sjtitle_in':train_padtext_sjt,'speaker_in':train_padtext_spk,'text_in':train_padtext_state,'subject_in':train_padtext_sub,'state_in':train_padtext_stinfo,'party_in':train_padtext_pty,'context_in':train_padtext_cnt},{'op': liar_train_y},\n",
        "          epochs=100, batch_size=32,validation_data=({'sjtitle_in':dev_padtext_sjt,'speaker_in':dev_padtext_spk,'text_in':dev_padtext_state,'subject_in':dev_padtext_sub,'state_in':dev_padtext_stinfo,'party_in':dev_padtext_pty,'context_in':dev_padtext_cnt},{'op': liar_dev_y}))\n",
        "plot_history(h)"
      ],
      "execution_count": null,
      "outputs": [
        {
          "output_type": "stream",
          "text": [
            "Train on 6750 samples, validate on 844 samples\n",
            "Epoch 1/100\n",
            "6750/6750 [==============================] - 8s 1ms/step - loss: 1.2829 - acc: 0.7369 - val_loss: 0.6805 - val_acc: 0.7417\n",
            "Epoch 2/100\n",
            "6750/6750 [==============================] - 4s 634us/step - loss: 0.6403 - acc: 0.7369 - val_loss: 0.6174 - val_acc: 0.7417\n",
            "Epoch 3/100\n",
            "6750/6750 [==============================] - 4s 638us/step - loss: 0.6098 - acc: 0.7369 - val_loss: 0.5989 - val_acc: 0.7417\n",
            "Epoch 4/100\n",
            "6750/6750 [==============================] - 4s 616us/step - loss: 0.5965 - acc: 0.7369 - val_loss: 0.5886 - val_acc: 0.7417\n",
            "Epoch 5/100\n",
            "6750/6750 [==============================] - 4s 604us/step - loss: 0.5891 - acc: 0.7369 - val_loss: 0.5820 - val_acc: 0.7417\n",
            "Epoch 6/100\n",
            "6750/6750 [==============================] - 4s 601us/step - loss: 0.5841 - acc: 0.7369 - val_loss: 0.5783 - val_acc: 0.7417\n",
            "Epoch 7/100\n",
            "6750/6750 [==============================] - 4s 609us/step - loss: 0.5814 - acc: 0.7369 - val_loss: 0.5757 - val_acc: 0.7417\n",
            "Epoch 8/100\n",
            "6750/6750 [==============================] - 4s 600us/step - loss: 0.5795 - acc: 0.7369 - val_loss: 0.5741 - val_acc: 0.7417\n",
            "Epoch 9/100\n",
            "6750/6750 [==============================] - 4s 596us/step - loss: 0.5784 - acc: 0.7369 - val_loss: 0.5735 - val_acc: 0.7417\n",
            "Epoch 10/100\n",
            "6750/6750 [==============================] - 4s 598us/step - loss: 0.5774 - acc: 0.7369 - val_loss: 0.5725 - val_acc: 0.7417\n",
            "Epoch 11/100\n",
            "6750/6750 [==============================] - 4s 602us/step - loss: 0.5768 - acc: 0.7369 - val_loss: 0.5719 - val_acc: 0.7417\n",
            "Epoch 12/100\n",
            "6750/6750 [==============================] - 4s 596us/step - loss: 0.5765 - acc: 0.7369 - val_loss: 0.5716 - val_acc: 0.7417\n",
            "Epoch 13/100\n",
            "6750/6750 [==============================] - 4s 597us/step - loss: 0.5764 - acc: 0.7369 - val_loss: 0.5715 - val_acc: 0.7417\n",
            "Epoch 14/100\n",
            "6750/6750 [==============================] - 4s 601us/step - loss: 0.5764 - acc: 0.7369 - val_loss: 0.5714 - val_acc: 0.7417\n",
            "Epoch 15/100\n",
            "6750/6750 [==============================] - 4s 601us/step - loss: 0.5763 - acc: 0.7369 - val_loss: 0.5714 - val_acc: 0.7417\n",
            "Epoch 16/100\n",
            "6750/6750 [==============================] - 4s 607us/step - loss: 0.5763 - acc: 0.7369 - val_loss: 0.5714 - val_acc: 0.7417\n",
            "Epoch 17/100\n",
            "6750/6750 [==============================] - 4s 598us/step - loss: 0.5763 - acc: 0.7369 - val_loss: 0.5713 - val_acc: 0.7417\n",
            "Epoch 18/100\n",
            "6750/6750 [==============================] - 4s 594us/step - loss: 0.5763 - acc: 0.7369 - val_loss: 0.5713 - val_acc: 0.7417\n",
            "Epoch 19/100\n",
            "6750/6750 [==============================] - 4s 593us/step - loss: 0.5763 - acc: 0.7369 - val_loss: 0.5713 - val_acc: 0.7417\n",
            "Epoch 20/100\n",
            "6750/6750 [==============================] - 4s 595us/step - loss: 0.5763 - acc: 0.7369 - val_loss: 0.5713 - val_acc: 0.7417\n",
            "Epoch 21/100\n",
            "6750/6750 [==============================] - 4s 592us/step - loss: 0.5763 - acc: 0.7369 - val_loss: 0.5714 - val_acc: 0.7417\n",
            "Epoch 22/100\n",
            "6750/6750 [==============================] - 4s 597us/step - loss: 0.5763 - acc: 0.7369 - val_loss: 0.5713 - val_acc: 0.7417\n",
            "Epoch 23/100\n",
            "6750/6750 [==============================] - 4s 597us/step - loss: 0.5763 - acc: 0.7369 - val_loss: 0.5713 - val_acc: 0.7417\n",
            "Epoch 24/100\n",
            "6750/6750 [==============================] - 4s 600us/step - loss: 0.5763 - acc: 0.7369 - val_loss: 0.5713 - val_acc: 0.7417\n",
            "Epoch 25/100\n",
            "6750/6750 [==============================] - 4s 597us/step - loss: 0.5763 - acc: 0.7369 - val_loss: 0.5713 - val_acc: 0.7417\n",
            "Epoch 26/100\n",
            "6750/6750 [==============================] - 4s 603us/step - loss: 0.5763 - acc: 0.7369 - val_loss: 0.5713 - val_acc: 0.7417\n",
            "Epoch 27/100\n",
            "6750/6750 [==============================] - 4s 602us/step - loss: 0.5763 - acc: 0.7369 - val_loss: 0.5713 - val_acc: 0.7417\n",
            "Epoch 28/100\n",
            "6750/6750 [==============================] - 4s 600us/step - loss: 0.5763 - acc: 0.7369 - val_loss: 0.5713 - val_acc: 0.7417\n",
            "Epoch 29/100\n",
            "6750/6750 [==============================] - 4s 599us/step - loss: 0.5763 - acc: 0.7369 - val_loss: 0.5713 - val_acc: 0.7417\n",
            "Epoch 30/100\n",
            "6750/6750 [==============================] - 4s 596us/step - loss: 0.5763 - acc: 0.7369 - val_loss: 0.5713 - val_acc: 0.7417\n",
            "Epoch 31/100\n",
            "6750/6750 [==============================] - 4s 591us/step - loss: 0.5763 - acc: 0.7369 - val_loss: 0.5713 - val_acc: 0.7417\n",
            "Epoch 32/100\n",
            "6750/6750 [==============================] - 4s 596us/step - loss: 0.5763 - acc: 0.7369 - val_loss: 0.5713 - val_acc: 0.7417\n",
            "Epoch 33/100\n",
            "6750/6750 [==============================] - 4s 602us/step - loss: 0.5764 - acc: 0.7369 - val_loss: 0.5713 - val_acc: 0.7417\n",
            "Epoch 34/100\n",
            "6750/6750 [==============================] - 4s 607us/step - loss: 0.5763 - acc: 0.7369 - val_loss: 0.5713 - val_acc: 0.7417\n",
            "Epoch 35/100\n",
            "6750/6750 [==============================] - 4s 607us/step - loss: 0.5763 - acc: 0.7369 - val_loss: 0.5713 - val_acc: 0.7417\n",
            "Epoch 36/100\n",
            "6750/6750 [==============================] - 4s 609us/step - loss: 0.5763 - acc: 0.7369 - val_loss: 0.5713 - val_acc: 0.7417\n",
            "Epoch 37/100\n",
            "6750/6750 [==============================] - 4s 611us/step - loss: 0.5763 - acc: 0.7369 - val_loss: 0.5713 - val_acc: 0.7417\n",
            "Epoch 38/100\n",
            "6750/6750 [==============================] - 4s 607us/step - loss: 0.5763 - acc: 0.7369 - val_loss: 0.5713 - val_acc: 0.7417\n",
            "Epoch 39/100\n",
            "6750/6750 [==============================] - 4s 605us/step - loss: 0.5763 - acc: 0.7369 - val_loss: 0.5713 - val_acc: 0.7417\n",
            "Epoch 40/100\n",
            "6750/6750 [==============================] - 4s 609us/step - loss: 0.5763 - acc: 0.7369 - val_loss: 0.5713 - val_acc: 0.7417\n",
            "Epoch 41/100\n",
            "6750/6750 [==============================] - 4s 607us/step - loss: 0.5763 - acc: 0.7369 - val_loss: 0.5713 - val_acc: 0.7417\n",
            "Epoch 42/100\n",
            "6750/6750 [==============================] - 4s 599us/step - loss: 0.5763 - acc: 0.7369 - val_loss: 0.5713 - val_acc: 0.7417\n",
            "Epoch 43/100\n",
            "6750/6750 [==============================] - 4s 601us/step - loss: 0.5763 - acc: 0.7369 - val_loss: 0.5713 - val_acc: 0.7417\n",
            "Epoch 44/100\n",
            "6750/6750 [==============================] - 4s 603us/step - loss: 0.5764 - acc: 0.7369 - val_loss: 0.5713 - val_acc: 0.7417\n",
            "Epoch 45/100\n",
            "6750/6750 [==============================] - 4s 611us/step - loss: 0.5764 - acc: 0.7369 - val_loss: 0.5714 - val_acc: 0.7417\n",
            "Epoch 46/100\n",
            "6750/6750 [==============================] - 4s 603us/step - loss: 0.5763 - acc: 0.7369 - val_loss: 0.5713 - val_acc: 0.7417\n",
            "Epoch 47/100\n",
            "6750/6750 [==============================] - 4s 606us/step - loss: 0.5763 - acc: 0.7369 - val_loss: 0.5713 - val_acc: 0.7417\n",
            "Epoch 48/100\n",
            "6750/6750 [==============================] - 4s 607us/step - loss: 0.5763 - acc: 0.7369 - val_loss: 0.5714 - val_acc: 0.7417\n",
            "Epoch 49/100\n",
            "6750/6750 [==============================] - 4s 647us/step - loss: 0.5763 - acc: 0.7369 - val_loss: 0.5713 - val_acc: 0.7417\n",
            "Epoch 50/100\n",
            "6750/6750 [==============================] - 4s 635us/step - loss: 0.5763 - acc: 0.7369 - val_loss: 0.5713 - val_acc: 0.7417\n",
            "Epoch 51/100\n",
            "6750/6750 [==============================] - 4s 615us/step - loss: 0.5763 - acc: 0.7369 - val_loss: 0.5713 - val_acc: 0.7417\n",
            "Epoch 52/100\n",
            "6750/6750 [==============================] - 4s 607us/step - loss: 0.5763 - acc: 0.7369 - val_loss: 0.5713 - val_acc: 0.7417\n",
            "Epoch 53/100\n",
            "6750/6750 [==============================] - 4s 610us/step - loss: 0.5763 - acc: 0.7369 - val_loss: 0.5713 - val_acc: 0.7417\n",
            "Epoch 54/100\n",
            "6750/6750 [==============================] - 4s 616us/step - loss: 0.5763 - acc: 0.7369 - val_loss: 0.5713 - val_acc: 0.7417\n",
            "Epoch 55/100\n",
            "6750/6750 [==============================] - 4s 615us/step - loss: 0.5763 - acc: 0.7369 - val_loss: 0.5713 - val_acc: 0.7417\n",
            "Epoch 56/100\n",
            "6750/6750 [==============================] - 4s 620us/step - loss: 0.5763 - acc: 0.7369 - val_loss: 0.5713 - val_acc: 0.7417\n",
            "Epoch 57/100\n",
            "6750/6750 [==============================] - 4s 609us/step - loss: 0.5763 - acc: 0.7369 - val_loss: 0.5713 - val_acc: 0.7417\n",
            "Epoch 58/100\n",
            "6750/6750 [==============================] - 4s 615us/step - loss: 0.5763 - acc: 0.7369 - val_loss: 0.5713 - val_acc: 0.7417\n",
            "Epoch 59/100\n",
            "6750/6750 [==============================] - 4s 617us/step - loss: 0.5763 - acc: 0.7369 - val_loss: 0.5713 - val_acc: 0.7417\n",
            "Epoch 60/100\n",
            "6750/6750 [==============================] - 4s 611us/step - loss: 0.5763 - acc: 0.7369 - val_loss: 0.5715 - val_acc: 0.7417\n",
            "Epoch 61/100\n",
            "6750/6750 [==============================] - 4s 611us/step - loss: 0.5764 - acc: 0.7369 - val_loss: 0.5717 - val_acc: 0.7417\n",
            "Epoch 62/100\n",
            "6750/6750 [==============================] - 4s 613us/step - loss: 0.5765 - acc: 0.7369 - val_loss: 0.5714 - val_acc: 0.7417\n",
            "Epoch 63/100\n",
            "6750/6750 [==============================] - 4s 611us/step - loss: 0.5764 - acc: 0.7369 - val_loss: 0.5714 - val_acc: 0.7417\n",
            "Epoch 64/100\n",
            "6750/6750 [==============================] - 4s 612us/step - loss: 0.5763 - acc: 0.7369 - val_loss: 0.5714 - val_acc: 0.7417\n",
            "Epoch 65/100\n",
            "6750/6750 [==============================] - 4s 605us/step - loss: 0.5763 - acc: 0.7369 - val_loss: 0.5714 - val_acc: 0.7417\n",
            "Epoch 66/100\n",
            "6750/6750 [==============================] - 4s 609us/step - loss: 0.5764 - acc: 0.7369 - val_loss: 0.5714 - val_acc: 0.7417\n",
            "Epoch 67/100\n",
            "6750/6750 [==============================] - 4s 608us/step - loss: 0.5764 - acc: 0.7369 - val_loss: 0.5713 - val_acc: 0.7417\n",
            "Epoch 68/100\n",
            "6750/6750 [==============================] - 4s 600us/step - loss: 0.5764 - acc: 0.7369 - val_loss: 0.5713 - val_acc: 0.7417\n",
            "Epoch 69/100\n",
            "6750/6750 [==============================] - 4s 602us/step - loss: 0.5764 - acc: 0.7369 - val_loss: 0.5714 - val_acc: 0.7417\n",
            "Epoch 70/100\n",
            "6750/6750 [==============================] - 4s 607us/step - loss: 0.5767 - acc: 0.7369 - val_loss: 0.5715 - val_acc: 0.7417\n",
            "Epoch 71/100\n",
            "6750/6750 [==============================] - 4s 606us/step - loss: 0.5765 - acc: 0.7369 - val_loss: 0.5714 - val_acc: 0.7417\n",
            "Epoch 72/100\n",
            "6750/6750 [==============================] - 4s 598us/step - loss: 0.5764 - acc: 0.7369 - val_loss: 0.5714 - val_acc: 0.7417\n",
            "Epoch 73/100\n",
            "6750/6750 [==============================] - 4s 603us/step - loss: 0.5763 - acc: 0.7369 - val_loss: 0.5713 - val_acc: 0.7417\n",
            "Epoch 74/100\n",
            "6750/6750 [==============================] - 4s 601us/step - loss: 0.5764 - acc: 0.7369 - val_loss: 0.5714 - val_acc: 0.7417\n",
            "Epoch 75/100\n",
            "6750/6750 [==============================] - 4s 600us/step - loss: 0.5764 - acc: 0.7369 - val_loss: 0.5714 - val_acc: 0.7417\n",
            "Epoch 76/100\n",
            "6750/6750 [==============================] - 4s 603us/step - loss: 0.5764 - acc: 0.7369 - val_loss: 0.5714 - val_acc: 0.7417\n",
            "Epoch 77/100\n",
            "6750/6750 [==============================] - 4s 596us/step - loss: 0.5764 - acc: 0.7369 - val_loss: 0.5715 - val_acc: 0.7417\n",
            "Epoch 78/100\n",
            "6750/6750 [==============================] - 4s 631us/step - loss: 0.5764 - acc: 0.7369 - val_loss: 0.5714 - val_acc: 0.7417\n",
            "Epoch 79/100\n",
            "6750/6750 [==============================] - 4s 627us/step - loss: 0.5764 - acc: 0.7369 - val_loss: 0.5713 - val_acc: 0.7417\n",
            "Epoch 80/100\n",
            "6750/6750 [==============================] - 4s 616us/step - loss: 0.5764 - acc: 0.7369 - val_loss: 0.5714 - val_acc: 0.7417\n",
            "Epoch 81/100\n",
            "6750/6750 [==============================] - 4s 607us/step - loss: 0.5765 - acc: 0.7369 - val_loss: 0.5714 - val_acc: 0.7417\n",
            "Epoch 82/100\n",
            "6750/6750 [==============================] - 4s 599us/step - loss: 0.5764 - acc: 0.7369 - val_loss: 0.5713 - val_acc: 0.7417\n",
            "Epoch 83/100\n",
            "6750/6750 [==============================] - 4s 612us/step - loss: 0.5764 - acc: 0.7369 - val_loss: 0.5714 - val_acc: 0.7417\n",
            "Epoch 84/100\n",
            "6750/6750 [==============================] - 4s 615us/step - loss: 0.5764 - acc: 0.7369 - val_loss: 0.5714 - val_acc: 0.7417\n",
            "Epoch 85/100\n",
            "6750/6750 [==============================] - 4s 613us/step - loss: 0.5764 - acc: 0.7369 - val_loss: 0.5714 - val_acc: 0.7417\n",
            "Epoch 86/100\n",
            "6750/6750 [==============================] - 4s 606us/step - loss: 0.5764 - acc: 0.7369 - val_loss: 0.5714 - val_acc: 0.7417\n",
            "Epoch 87/100\n",
            "6750/6750 [==============================] - 4s 609us/step - loss: 0.5764 - acc: 0.7369 - val_loss: 0.5714 - val_acc: 0.7417\n",
            "Epoch 88/100\n",
            "6750/6750 [==============================] - 4s 612us/step - loss: 0.5765 - acc: 0.7369 - val_loss: 0.5716 - val_acc: 0.7417\n",
            "Epoch 89/100\n",
            "6750/6750 [==============================] - 4s 612us/step - loss: 0.5765 - acc: 0.7369 - val_loss: 0.5714 - val_acc: 0.7417\n",
            "Epoch 90/100\n",
            "6750/6750 [==============================] - 4s 603us/step - loss: 0.5764 - acc: 0.7369 - val_loss: 0.5714 - val_acc: 0.7417\n",
            "Epoch 91/100\n",
            "6750/6750 [==============================] - 4s 615us/step - loss: 0.5764 - acc: 0.7369 - val_loss: 0.5716 - val_acc: 0.7417\n",
            "Epoch 92/100\n",
            "6750/6750 [==============================] - 4s 609us/step - loss: 0.5775 - acc: 0.7369 - val_loss: 0.5733 - val_acc: 0.7417\n",
            "Epoch 93/100\n",
            "6750/6750 [==============================] - 4s 613us/step - loss: 0.5767 - acc: 0.7369 - val_loss: 0.5716 - val_acc: 0.7417\n",
            "Epoch 94/100\n",
            "6750/6750 [==============================] - 4s 604us/step - loss: 0.5764 - acc: 0.7369 - val_loss: 0.5717 - val_acc: 0.7417\n",
            "Epoch 95/100\n",
            "6750/6750 [==============================] - 4s 608us/step - loss: 0.5765 - acc: 0.7369 - val_loss: 0.5714 - val_acc: 0.7417\n",
            "Epoch 96/100\n",
            "6750/6750 [==============================] - 4s 611us/step - loss: 0.5764 - acc: 0.7369 - val_loss: 0.5715 - val_acc: 0.7417\n",
            "Epoch 97/100\n",
            "6750/6750 [==============================] - 4s 603us/step - loss: 0.5764 - acc: 0.7369 - val_loss: 0.5715 - val_acc: 0.7417\n",
            "Epoch 98/100\n",
            "6750/6750 [==============================] - 4s 607us/step - loss: 0.5764 - acc: 0.7369 - val_loss: 0.5714 - val_acc: 0.7417\n",
            "Epoch 99/100\n",
            "6750/6750 [==============================] - 4s 608us/step - loss: 0.5765 - acc: 0.7369 - val_loss: 0.5714 - val_acc: 0.7417\n",
            "Epoch 100/100\n",
            "6750/6750 [==============================] - 4s 607us/step - loss: 0.5764 - acc: 0.7369 - val_loss: 0.5715 - val_acc: 0.7417\n"
          ],
          "name": "stdout"
        },
        {
          "output_type": "display_data",
          "data": {
            "image/png": "[encoded data removed]",
            "text/plain": [
              "<Figure size 864x360 with 2 Axes>"
            ]
          },
          "metadata": {
            "tags": []
          }
        }
      ]
    },
    {
      "cell_type": "code",
      "metadata": {
        "id": "90ovj_IkLaOh",
        "colab_type": "code",
        "colab": {
          "base_uri": "https://localhost:8080/",
          "height": 1000
        },
        "outputId": "0768b559-409a-445b-c52c-215cb712300b"
      },
      "source": [
        "#all regularizer\n",
        "#super agressive\n",
        "#model8\n",
        "from keras.layers import Embedding\n",
        "from keras.layers import concatenate\n",
        "from keras.layers import GlobalMaxPool1D\n",
        "from keras.layers import Input, Dense\n",
        "from keras.models import Model\n",
        "from keras.regularizers import l2\n",
        "\n",
        "embedding_dim = 25\n",
        "h1=int(2/3*175)\n",
        "h2=int(2/3*h1)\n",
        "print(h1,h2)\n",
        "\n",
        "sjtitle_in = Input(shape=(100,), name='sjtitle_in')\n",
        "speaker_in = Input(shape=(50,), name='speaker_in')\n",
        "text_in = Input(shape=(2099,), name='text_in')\n",
        "subject_in = Input(shape=(203,), name='subject_in')\n",
        "state_in = Input(shape=(49,), name='state_in')\n",
        "party_in = Input(shape=(28,), name='party_in')\n",
        "context_in = Input(shape=(100,), name='context_in')\n",
        "\n",
        "#input dim = vocab size\n",
        "#input length = maxlen\n",
        "sjtitle_embed = Embedding(output_dim=embedding_dim, input_dim=1046, input_length=100)(sjtitle_in)\n",
        "speaker_embed = Embedding(output_dim=embedding_dim, input_dim=2063, input_length=50)(speaker_in)\n",
        "text_embed = Embedding(output_dim=embedding_dim, input_dim=9804, input_length=2099)(text_in)\n",
        "subject_embed = Embedding(output_dim=embedding_dim, input_dim=178, input_length=203)(subject_in)\n",
        "state_embed = Embedding(output_dim=embedding_dim, input_dim=75, input_length=49)(state_in)\n",
        "party_embed = Embedding(output_dim=embedding_dim, input_dim=29, input_length=28)(party_in)\n",
        "context_embed = Embedding(output_dim=embedding_dim, input_dim=1958, input_length=100)(context_in)\n",
        "\n",
        "\n",
        "\n",
        "sjtitle_pool = GlobalMaxPool1D()(sjtitle_embed)\n",
        "speaker_pool = GlobalMaxPool1D()(speaker_embed)\n",
        "text_pool = GlobalMaxPool1D()(text_embed)\n",
        "subject_pool = GlobalMaxPool1D()(subject_embed)\n",
        "state_pool = GlobalMaxPool1D()(state_embed)\n",
        "party_pool = GlobalMaxPool1D()(party_embed)\n",
        "context_pool = GlobalMaxPool1D()(context_embed)\n",
        "\n",
        "\n",
        "all_d = concatenate([sjtitle_pool, speaker_pool,text_pool,subject_pool,state_pool,party_pool,context_pool])\n",
        "\n",
        "d1 = Dense(h1, activation='relu',activity_regularizer=l2(0.01),kernel_regularizer=l2(0.01), bias_regularizer=l2(0.01))(all_d)\n",
        "d2 = Dense(h2, activation='relu',activity_regularizer=l2(0.01),kernel_regularizer=l2(0.01), bias_regularizer=l2(0.01))(d1)\n",
        "\n",
        "op = Dense(1, activation='sigmoid', name='op')(d2)\n",
        "\n",
        "\n",
        "\n",
        "\n",
        "model8 = Model(inputs=[sjtitle_in,speaker_in,text_in,subject_in,state_in,party_in,context_in], outputs=[op])\n",
        "\n",
        "model8.summary()"
      ],
      "execution_count": null,
      "outputs": [
        {
          "output_type": "stream",
          "text": [
            "116 77\n",
            "Model: \"model_20\"\n",
            "__________________________________________________________________________________________________\n",
            "Layer (type)                    Output Shape         Param #     Connected to                     \n",
            "==================================================================================================\n",
            "sjtitle_in (InputLayer)         (None, 100)          0                                            \n",
            "__________________________________________________________________________________________________\n",
            "speaker_in (InputLayer)         (None, 50)           0                                            \n",
            "__________________________________________________________________________________________________\n",
            "text_in (InputLayer)            (None, 2099)         0                                            \n",
            "__________________________________________________________________________________________________\n",
            "subject_in (InputLayer)         (None, 203)          0                                            \n",
            "__________________________________________________________________________________________________\n",
            "state_in (InputLayer)           (None, 49)           0                                            \n",
            "__________________________________________________________________________________________________\n",
            "party_in (InputLayer)           (None, 28)           0                                            \n",
            "__________________________________________________________________________________________________\n",
            "context_in (InputLayer)         (None, 100)          0                                            \n",
            "__________________________________________________________________________________________________\n",
            "embedding_134 (Embedding)       (None, 100, 25)      26150       sjtitle_in[0][0]                 \n",
            "__________________________________________________________________________________________________\n",
            "embedding_135 (Embedding)       (None, 50, 25)       51575       speaker_in[0][0]                 \n",
            "__________________________________________________________________________________________________\n",
            "embedding_136 (Embedding)       (None, 2099, 25)     245100      text_in[0][0]                    \n",
            "__________________________________________________________________________________________________\n",
            "embedding_137 (Embedding)       (None, 203, 25)      4450        subject_in[0][0]                 \n",
            "__________________________________________________________________________________________________\n",
            "embedding_138 (Embedding)       (None, 49, 25)       1875        state_in[0][0]                   \n",
            "__________________________________________________________________________________________________\n",
            "embedding_139 (Embedding)       (None, 28, 25)       725         party_in[0][0]                   \n",
            "__________________________________________________________________________________________________\n",
            "embedding_140 (Embedding)       (None, 100, 25)      48950       context_in[0][0]                 \n",
            "__________________________________________________________________________________________________\n",
            "global_max_pooling1d_134 (Globa (None, 25)           0           embedding_134[0][0]              \n",
            "__________________________________________________________________________________________________\n",
            "global_max_pooling1d_135 (Globa (None, 25)           0           embedding_135[0][0]              \n",
            "__________________________________________________________________________________________________\n",
            "global_max_pooling1d_136 (Globa (None, 25)           0           embedding_136[0][0]              \n",
            "__________________________________________________________________________________________________\n",
            "global_max_pooling1d_137 (Globa (None, 25)           0           embedding_137[0][0]              \n",
            "__________________________________________________________________________________________________\n",
            "global_max_pooling1d_138 (Globa (None, 25)           0           embedding_138[0][0]              \n",
            "__________________________________________________________________________________________________\n",
            "global_max_pooling1d_139 (Globa (None, 25)           0           embedding_139[0][0]              \n",
            "__________________________________________________________________________________________________\n",
            "global_max_pooling1d_140 (Globa (None, 25)           0           embedding_140[0][0]              \n",
            "__________________________________________________________________________________________________\n",
            "concatenate_20 (Concatenate)    (None, 175)          0           global_max_pooling1d_134[0][0]   \n",
            "                                                                 global_max_pooling1d_135[0][0]   \n",
            "                                                                 global_max_pooling1d_136[0][0]   \n",
            "                                                                 global_max_pooling1d_137[0][0]   \n",
            "                                                                 global_max_pooling1d_138[0][0]   \n",
            "                                                                 global_max_pooling1d_139[0][0]   \n",
            "                                                                 global_max_pooling1d_140[0][0]   \n",
            "__________________________________________________________________________________________________\n",
            "dense_39 (Dense)                (None, 116)          20416       concatenate_20[0][0]             \n",
            "__________________________________________________________________________________________________\n",
            "dense_40 (Dense)                (None, 77)           9009        dense_39[0][0]                   \n",
            "__________________________________________________________________________________________________\n",
            "op (Dense)                      (None, 1)            78          dense_40[0][0]                   \n",
            "==================================================================================================\n",
            "Total params: 408,328\n",
            "Trainable params: 408,328\n",
            "Non-trainable params: 0\n",
            "__________________________________________________________________________________________________\n"
          ],
          "name": "stdout"
        }
      ]
    },
    {
      "cell_type": "code",
      "metadata": {
        "id": "gVspVUWHJw0x",
        "colab_type": "code",
        "colab": {
          "base_uri": "https://localhost:8080/",
          "height": 1000
        },
        "outputId": "69375d51-f1a7-46b5-f7ea-df3a5f685af5"
      },
      "source": [
        "model8.compile(optimizer='adam',\n",
        "              loss='binary_crossentropy',metrics=['accuracy'])\n",
        "h=model8.fit({'sjtitle_in':train_padtext_sjt,'speaker_in':train_padtext_spk,'text_in':train_padtext_state,'subject_in':train_padtext_sub,'state_in':train_padtext_stinfo,'party_in':train_padtext_pty,'context_in':train_padtext_cnt},{'op': liar_train_y},\n",
        "          epochs=100, batch_size=32,validation_data=({'sjtitle_in':dev_padtext_sjt,'speaker_in':dev_padtext_spk,'text_in':dev_padtext_state,'subject_in':dev_padtext_sub,'state_in':dev_padtext_stinfo,'party_in':dev_padtext_pty,'context_in':dev_padtext_cnt},{'op': liar_dev_y}))\n",
        "plot_history(h)"
      ],
      "execution_count": null,
      "outputs": [
        {
          "output_type": "stream",
          "text": [
            "Train on 6750 samples, validate on 844 samples\n",
            "Epoch 1/100\n",
            "6750/6750 [==============================] - 8s 1ms/step - loss: 1.1416 - acc: 0.7356 - val_loss: 0.6194 - val_acc: 0.7417\n",
            "Epoch 2/100\n",
            "6750/6750 [==============================] - 4s 599us/step - loss: 0.6045 - acc: 0.7369 - val_loss: 0.5924 - val_acc: 0.7417\n",
            "Epoch 3/100\n",
            "6750/6750 [==============================] - 4s 603us/step - loss: 0.5928 - acc: 0.7369 - val_loss: 0.5851 - val_acc: 0.7417\n",
            "Epoch 4/100\n",
            "6750/6750 [==============================] - 4s 608us/step - loss: 0.5881 - acc: 0.7369 - val_loss: 0.5821 - val_acc: 0.7417\n",
            "Epoch 5/100\n",
            "6750/6750 [==============================] - 4s 607us/step - loss: 0.5852 - acc: 0.7369 - val_loss: 0.5790 - val_acc: 0.7417\n",
            "Epoch 6/100\n",
            "6750/6750 [==============================] - 4s 607us/step - loss: 0.5829 - acc: 0.7369 - val_loss: 0.5776 - val_acc: 0.7417\n",
            "Epoch 7/100\n",
            "6750/6750 [==============================] - 4s 624us/step - loss: 0.5821 - acc: 0.7369 - val_loss: 0.5762 - val_acc: 0.7417\n",
            "Epoch 8/100\n",
            "6750/6750 [==============================] - 4s 640us/step - loss: 0.5813 - acc: 0.7369 - val_loss: 0.5753 - val_acc: 0.7417\n",
            "Epoch 9/100\n",
            "6750/6750 [==============================] - 4s 610us/step - loss: 0.5805 - acc: 0.7369 - val_loss: 0.5747 - val_acc: 0.7417\n",
            "Epoch 10/100\n",
            "6750/6750 [==============================] - 4s 595us/step - loss: 0.5799 - acc: 0.7369 - val_loss: 0.5741 - val_acc: 0.7417\n",
            "Epoch 11/100\n",
            "6750/6750 [==============================] - 4s 604us/step - loss: 0.5791 - acc: 0.7369 - val_loss: 0.5737 - val_acc: 0.7417\n",
            "Epoch 12/100\n",
            "6750/6750 [==============================] - 4s 594us/step - loss: 0.5793 - acc: 0.7369 - val_loss: 0.5743 - val_acc: 0.7417\n",
            "Epoch 13/100\n",
            "6750/6750 [==============================] - 4s 599us/step - loss: 0.5784 - acc: 0.7369 - val_loss: 0.5739 - val_acc: 0.7417\n",
            "Epoch 14/100\n",
            "6750/6750 [==============================] - 4s 599us/step - loss: 0.5783 - acc: 0.7369 - val_loss: 0.5731 - val_acc: 0.7417\n",
            "Epoch 15/100\n",
            "6750/6750 [==============================] - 4s 595us/step - loss: 0.5780 - acc: 0.7369 - val_loss: 0.5732 - val_acc: 0.7417\n",
            "Epoch 16/100\n",
            "6750/6750 [==============================] - 4s 596us/step - loss: 0.5778 - acc: 0.7369 - val_loss: 0.5728 - val_acc: 0.7417\n",
            "Epoch 17/100\n",
            "6750/6750 [==============================] - 4s 602us/step - loss: 0.5777 - acc: 0.7369 - val_loss: 0.5724 - val_acc: 0.7417\n",
            "Epoch 18/100\n",
            "6750/6750 [==============================] - 4s 601us/step - loss: 0.5779 - acc: 0.7369 - val_loss: 0.5725 - val_acc: 0.7417\n",
            "Epoch 19/100\n",
            "6750/6750 [==============================] - 4s 605us/step - loss: 0.5777 - acc: 0.7369 - val_loss: 0.5731 - val_acc: 0.7417\n",
            "Epoch 20/100\n",
            "6750/6750 [==============================] - 4s 600us/step - loss: 0.5774 - acc: 0.7369 - val_loss: 0.5723 - val_acc: 0.7417\n",
            "Epoch 21/100\n",
            "6750/6750 [==============================] - 4s 600us/step - loss: 0.5777 - acc: 0.7369 - val_loss: 0.5721 - val_acc: 0.7417\n",
            "Epoch 22/100\n",
            "6750/6750 [==============================] - 4s 596us/step - loss: 0.5775 - acc: 0.7369 - val_loss: 0.5718 - val_acc: 0.7417\n",
            "Epoch 23/100\n",
            "6750/6750 [==============================] - 4s 599us/step - loss: 0.5773 - acc: 0.7369 - val_loss: 0.5724 - val_acc: 0.7417\n",
            "Epoch 24/100\n",
            "6750/6750 [==============================] - 4s 599us/step - loss: 0.5771 - acc: 0.7369 - val_loss: 0.5734 - val_acc: 0.7417\n",
            "Epoch 25/100\n",
            "6750/6750 [==============================] - 4s 599us/step - loss: 0.5776 - acc: 0.7369 - val_loss: 0.5717 - val_acc: 0.7417\n",
            "Epoch 26/100\n",
            "6750/6750 [==============================] - 4s 606us/step - loss: 0.5771 - acc: 0.7369 - val_loss: 0.5717 - val_acc: 0.7417\n",
            "Epoch 27/100\n",
            "6750/6750 [==============================] - 4s 591us/step - loss: 0.5765 - acc: 0.7369 - val_loss: 0.5729 - val_acc: 0.7417\n",
            "Epoch 28/100\n",
            "6750/6750 [==============================] - 4s 598us/step - loss: 0.5769 - acc: 0.7369 - val_loss: 0.5724 - val_acc: 0.7417\n",
            "Epoch 29/100\n",
            "6750/6750 [==============================] - 4s 599us/step - loss: 0.5770 - acc: 0.7369 - val_loss: 0.5717 - val_acc: 0.7417\n",
            "Epoch 30/100\n",
            "6750/6750 [==============================] - 4s 608us/step - loss: 0.5769 - acc: 0.7369 - val_loss: 0.5719 - val_acc: 0.7417\n",
            "Epoch 31/100\n",
            "6750/6750 [==============================] - 4s 604us/step - loss: 0.5767 - acc: 0.7369 - val_loss: 0.5720 - val_acc: 0.7417\n",
            "Epoch 32/100\n",
            "6750/6750 [==============================] - 4s 593us/step - loss: 0.5765 - acc: 0.7369 - val_loss: 0.5716 - val_acc: 0.7417\n",
            "Epoch 33/100\n",
            "6750/6750 [==============================] - 4s 597us/step - loss: 0.5764 - acc: 0.7369 - val_loss: 0.5715 - val_acc: 0.7417\n",
            "Epoch 34/100\n",
            "6750/6750 [==============================] - 4s 610us/step - loss: 0.5763 - acc: 0.7369 - val_loss: 0.5714 - val_acc: 0.7417\n",
            "Epoch 35/100\n",
            "6750/6750 [==============================] - 4s 609us/step - loss: 0.5763 - acc: 0.7369 - val_loss: 0.5714 - val_acc: 0.7417\n",
            "Epoch 36/100\n",
            "6750/6750 [==============================] - 4s 620us/step - loss: 0.5763 - acc: 0.7369 - val_loss: 0.5713 - val_acc: 0.7417\n",
            "Epoch 37/100\n",
            "6750/6750 [==============================] - 4s 624us/step - loss: 0.5763 - acc: 0.7369 - val_loss: 0.5713 - val_acc: 0.7417\n",
            "Epoch 38/100\n",
            "6750/6750 [==============================] - 4s 654us/step - loss: 0.5763 - acc: 0.7369 - val_loss: 0.5713 - val_acc: 0.7417\n",
            "Epoch 39/100\n",
            "6750/6750 [==============================] - 4s 644us/step - loss: 0.5763 - acc: 0.7369 - val_loss: 0.5713 - val_acc: 0.7417\n",
            "Epoch 40/100\n",
            "6750/6750 [==============================] - 4s 631us/step - loss: 0.5763 - acc: 0.7369 - val_loss: 0.5713 - val_acc: 0.7417\n",
            "Epoch 41/100\n",
            "6750/6750 [==============================] - 4s 622us/step - loss: 0.5763 - acc: 0.7369 - val_loss: 0.5713 - val_acc: 0.7417\n",
            "Epoch 42/100\n",
            "6750/6750 [==============================] - 4s 626us/step - loss: 0.5763 - acc: 0.7369 - val_loss: 0.5713 - val_acc: 0.7417\n",
            "Epoch 43/100\n",
            "6750/6750 [==============================] - 4s 620us/step - loss: 0.5763 - acc: 0.7369 - val_loss: 0.5713 - val_acc: 0.7417\n",
            "Epoch 44/100\n",
            "6750/6750 [==============================] - 4s 615us/step - loss: 0.5763 - acc: 0.7369 - val_loss: 0.5713 - val_acc: 0.7417\n",
            "Epoch 45/100\n",
            "6750/6750 [==============================] - 4s 616us/step - loss: 0.5763 - acc: 0.7369 - val_loss: 0.5713 - val_acc: 0.7417\n",
            "Epoch 46/100\n",
            "6750/6750 [==============================] - 4s 620us/step - loss: 0.5763 - acc: 0.7369 - val_loss: 0.5713 - val_acc: 0.7417\n",
            "Epoch 47/100\n",
            "6750/6750 [==============================] - 4s 618us/step - loss: 0.5763 - acc: 0.7369 - val_loss: 0.5713 - val_acc: 0.7417\n",
            "Epoch 48/100\n",
            "6750/6750 [==============================] - 4s 621us/step - loss: 0.5763 - acc: 0.7369 - val_loss: 0.5713 - val_acc: 0.7417\n",
            "Epoch 49/100\n",
            "6750/6750 [==============================] - 4s 622us/step - loss: 0.5763 - acc: 0.7369 - val_loss: 0.5713 - val_acc: 0.7417\n",
            "Epoch 50/100\n",
            "6750/6750 [==============================] - 4s 615us/step - loss: 0.5763 - acc: 0.7369 - val_loss: 0.5713 - val_acc: 0.7417\n",
            "Epoch 51/100\n",
            "6750/6750 [==============================] - 4s 616us/step - loss: 0.5763 - acc: 0.7369 - val_loss: 0.5713 - val_acc: 0.7417\n",
            "Epoch 52/100\n",
            "6750/6750 [==============================] - 4s 622us/step - loss: 0.5763 - acc: 0.7369 - val_loss: 0.5713 - val_acc: 0.7417\n",
            "Epoch 53/100\n",
            "6750/6750 [==============================] - 4s 618us/step - loss: 0.5764 - acc: 0.7369 - val_loss: 0.5713 - val_acc: 0.7417\n",
            "Epoch 54/100\n",
            "6750/6750 [==============================] - 4s 615us/step - loss: 0.5763 - acc: 0.7369 - val_loss: 0.5713 - val_acc: 0.7417\n",
            "Epoch 55/100\n",
            "6750/6750 [==============================] - 4s 614us/step - loss: 0.5763 - acc: 0.7369 - val_loss: 0.5713 - val_acc: 0.7417\n",
            "Epoch 56/100\n",
            "6750/6750 [==============================] - 4s 621us/step - loss: 0.5763 - acc: 0.7369 - val_loss: 0.5713 - val_acc: 0.7417\n",
            "Epoch 57/100\n",
            "6750/6750 [==============================] - 4s 616us/step - loss: 0.5763 - acc: 0.7369 - val_loss: 0.5713 - val_acc: 0.7417\n",
            "Epoch 58/100\n",
            "6750/6750 [==============================] - 4s 621us/step - loss: 0.5764 - acc: 0.7369 - val_loss: 0.5713 - val_acc: 0.7417\n",
            "Epoch 59/100\n",
            "6750/6750 [==============================] - 4s 618us/step - loss: 0.5763 - acc: 0.7369 - val_loss: 0.5713 - val_acc: 0.7417\n",
            "Epoch 60/100\n",
            "6750/6750 [==============================] - 4s 616us/step - loss: 0.5763 - acc: 0.7369 - val_loss: 0.5713 - val_acc: 0.7417\n",
            "Epoch 61/100\n",
            "6750/6750 [==============================] - 4s 615us/step - loss: 0.5763 - acc: 0.7369 - val_loss: 0.5713 - val_acc: 0.7417\n",
            "Epoch 62/100\n",
            "6750/6750 [==============================] - 4s 621us/step - loss: 0.5764 - acc: 0.7369 - val_loss: 0.5714 - val_acc: 0.7417\n",
            "Epoch 63/100\n",
            "6750/6750 [==============================] - 4s 618us/step - loss: 0.5763 - acc: 0.7369 - val_loss: 0.5713 - val_acc: 0.7417\n",
            "Epoch 64/100\n",
            "6750/6750 [==============================] - 4s 610us/step - loss: 0.5763 - acc: 0.7369 - val_loss: 0.5713 - val_acc: 0.7417\n",
            "Epoch 65/100\n",
            "6750/6750 [==============================] - 4s 611us/step - loss: 0.5763 - acc: 0.7369 - val_loss: 0.5713 - val_acc: 0.7417\n",
            "Epoch 66/100\n",
            "6750/6750 [==============================] - 4s 617us/step - loss: 0.5763 - acc: 0.7369 - val_loss: 0.5713 - val_acc: 0.7417\n",
            "Epoch 67/100\n",
            "6750/6750 [==============================] - 4s 618us/step - loss: 0.5763 - acc: 0.7369 - val_loss: 0.5713 - val_acc: 0.7417\n",
            "Epoch 68/100\n",
            "6750/6750 [==============================] - 4s 618us/step - loss: 0.5763 - acc: 0.7369 - val_loss: 0.5713 - val_acc: 0.7417\n",
            "Epoch 69/100\n",
            "6750/6750 [==============================] - 4s 618us/step - loss: 0.5763 - acc: 0.7369 - val_loss: 0.5713 - val_acc: 0.7417\n",
            "Epoch 70/100\n",
            "6750/6750 [==============================] - 4s 621us/step - loss: 0.5764 - acc: 0.7369 - val_loss: 0.5713 - val_acc: 0.7417\n",
            "Epoch 71/100\n",
            "6750/6750 [==============================] - 4s 619us/step - loss: 0.5763 - acc: 0.7369 - val_loss: 0.5713 - val_acc: 0.7417\n",
            "Epoch 72/100\n",
            "6750/6750 [==============================] - 4s 624us/step - loss: 0.5764 - acc: 0.7369 - val_loss: 0.5713 - val_acc: 0.7417\n",
            "Epoch 73/100\n",
            "6750/6750 [==============================] - 4s 626us/step - loss: 0.5764 - acc: 0.7369 - val_loss: 0.5713 - val_acc: 0.7417\n",
            "Epoch 74/100\n",
            "6750/6750 [==============================] - 4s 625us/step - loss: 0.5763 - acc: 0.7369 - val_loss: 0.5713 - val_acc: 0.7417\n",
            "Epoch 75/100\n",
            "6750/6750 [==============================] - 4s 617us/step - loss: 0.5763 - acc: 0.7369 - val_loss: 0.5713 - val_acc: 0.7417\n",
            "Epoch 76/100\n",
            "6750/6750 [==============================] - 4s 616us/step - loss: 0.5764 - acc: 0.7369 - val_loss: 0.5714 - val_acc: 0.7417\n",
            "Epoch 77/100\n",
            "6750/6750 [==============================] - 4s 616us/step - loss: 0.5764 - acc: 0.7369 - val_loss: 0.5713 - val_acc: 0.7417\n",
            "Epoch 78/100\n",
            "6750/6750 [==============================] - 4s 624us/step - loss: 0.5764 - acc: 0.7369 - val_loss: 0.5714 - val_acc: 0.7417\n",
            "Epoch 79/100\n",
            "6750/6750 [==============================] - 4s 609us/step - loss: 0.5763 - acc: 0.7369 - val_loss: 0.5713 - val_acc: 0.7417\n",
            "Epoch 80/100\n",
            "6750/6750 [==============================] - 4s 609us/step - loss: 0.5764 - acc: 0.7369 - val_loss: 0.5713 - val_acc: 0.7417\n",
            "Epoch 81/100\n",
            "6750/6750 [==============================] - 4s 641us/step - loss: 0.5763 - acc: 0.7369 - val_loss: 0.5713 - val_acc: 0.7417\n",
            "Epoch 82/100\n",
            "6750/6750 [==============================] - 4s 633us/step - loss: 0.5763 - acc: 0.7369 - val_loss: 0.5713 - val_acc: 0.7417\n",
            "Epoch 83/100\n",
            "6750/6750 [==============================] - 4s 599us/step - loss: 0.5763 - acc: 0.7369 - val_loss: 0.5714 - val_acc: 0.7417\n",
            "Epoch 84/100\n",
            "6750/6750 [==============================] - 4s 606us/step - loss: 0.5763 - acc: 0.7369 - val_loss: 0.5713 - val_acc: 0.7417\n",
            "Epoch 85/100\n",
            "6750/6750 [==============================] - 4s 606us/step - loss: 0.5763 - acc: 0.7369 - val_loss: 0.5713 - val_acc: 0.7417\n",
            "Epoch 86/100\n",
            "6750/6750 [==============================] - 4s 598us/step - loss: 0.5763 - acc: 0.7369 - val_loss: 0.5713 - val_acc: 0.7417\n",
            "Epoch 87/100\n",
            "6750/6750 [==============================] - 4s 599us/step - loss: 0.5763 - acc: 0.7369 - val_loss: 0.5713 - val_acc: 0.7417\n",
            "Epoch 88/100\n",
            "6750/6750 [==============================] - 4s 599us/step - loss: 0.5763 - acc: 0.7369 - val_loss: 0.5713 - val_acc: 0.7417\n",
            "Epoch 89/100\n",
            "6750/6750 [==============================] - 4s 600us/step - loss: 0.5763 - acc: 0.7369 - val_loss: 0.5713 - val_acc: 0.7417\n",
            "Epoch 90/100\n",
            "6750/6750 [==============================] - 4s 604us/step - loss: 0.5763 - acc: 0.7369 - val_loss: 0.5713 - val_acc: 0.7417\n",
            "Epoch 91/100\n",
            "6750/6750 [==============================] - 4s 601us/step - loss: 0.5764 - acc: 0.7369 - val_loss: 0.5715 - val_acc: 0.7417\n",
            "Epoch 92/100\n",
            "6750/6750 [==============================] - 4s 593us/step - loss: 0.5763 - acc: 0.7369 - val_loss: 0.5713 - val_acc: 0.7417\n",
            "Epoch 93/100\n",
            "6750/6750 [==============================] - 4s 596us/step - loss: 0.5763 - acc: 0.7369 - val_loss: 0.5713 - val_acc: 0.7417\n",
            "Epoch 94/100\n",
            "6750/6750 [==============================] - 4s 599us/step - loss: 0.5763 - acc: 0.7369 - val_loss: 0.5713 - val_acc: 0.7417\n",
            "Epoch 95/100\n",
            "6750/6750 [==============================] - 4s 598us/step - loss: 0.5763 - acc: 0.7369 - val_loss: 0.5713 - val_acc: 0.7417\n",
            "Epoch 96/100\n",
            "6750/6750 [==============================] - 4s 598us/step - loss: 0.5764 - acc: 0.7369 - val_loss: 0.5714 - val_acc: 0.7417\n",
            "Epoch 97/100\n",
            "6750/6750 [==============================] - 4s 598us/step - loss: 0.5763 - acc: 0.7369 - val_loss: 0.5713 - val_acc: 0.7417\n",
            "Epoch 98/100\n",
            "6750/6750 [==============================] - 4s 599us/step - loss: 0.5763 - acc: 0.7369 - val_loss: 0.5714 - val_acc: 0.7417\n",
            "Epoch 99/100\n",
            "6750/6750 [==============================] - 4s 597us/step - loss: 0.5764 - acc: 0.7369 - val_loss: 0.5714 - val_acc: 0.7417\n",
            "Epoch 100/100\n",
            "6750/6750 [==============================] - 4s 598us/step - loss: 0.5763 - acc: 0.7369 - val_loss: 0.5714 - val_acc: 0.7417\n"
          ],
          "name": "stdout"
        },
        {
          "output_type": "display_data",
          "data": {
            "image/png": "[encoded data removed]",
            "text/plain": [
              "<Figure size 864x360 with 2 Axes>"
            ]
          },
          "metadata": {
            "tags": []
          }
        }
      ]
    },
    {
      "cell_type": "code",
      "metadata": {
        "id": "Kk-Rax5kZLPX",
        "colab_type": "code",
        "colab": {
          "base_uri": "https://localhost:8080/",
          "height": 1000
        },
        "outputId": "a5fb4f5d-abf5-43aa-bea2-ad5fb2d8896d"
      },
      "source": [
        "#all regularizer\n",
        "#super agressive\n",
        "#model9\n",
        "from keras.layers import Embedding\n",
        "from keras.layers import concatenate\n",
        "from keras.layers import GlobalMaxPool1D\n",
        "from keras.layers import Input, Dense\n",
        "from keras.models import Model\n",
        "from keras.regularizers import l2\n",
        "\n",
        "embedding_dim = 25\n",
        "h1=int(2/3*175)\n",
        "h2=int(2/3*h1)\n",
        "print(h1,h2)\n",
        "\n",
        "sjtitle_in = Input(shape=(100,), name='sjtitle_in')\n",
        "speaker_in = Input(shape=(50,), name='speaker_in')\n",
        "text_in = Input(shape=(2099,), name='text_in')\n",
        "subject_in = Input(shape=(203,), name='subject_in')\n",
        "state_in = Input(shape=(49,), name='state_in')\n",
        "party_in = Input(shape=(28,), name='party_in')\n",
        "context_in = Input(shape=(100,), name='context_in')\n",
        "\n",
        "#input dim = vocab size\n",
        "#input length = maxlen\n",
        "sjtitle_embed = Embedding(output_dim=embedding_dim, input_dim=1046, input_length=100)(sjtitle_in)\n",
        "speaker_embed = Embedding(output_dim=embedding_dim, input_dim=2063, input_length=50)(speaker_in)\n",
        "text_embed = Embedding(output_dim=embedding_dim, input_dim=9804, input_length=2099)(text_in)\n",
        "subject_embed = Embedding(output_dim=embedding_dim, input_dim=178, input_length=203)(subject_in)\n",
        "state_embed = Embedding(output_dim=embedding_dim, input_dim=75, input_length=49)(state_in)\n",
        "party_embed = Embedding(output_dim=embedding_dim, input_dim=29, input_length=28)(party_in)\n",
        "context_embed = Embedding(output_dim=embedding_dim, input_dim=1958, input_length=100)(context_in)\n",
        "\n",
        "\n",
        "\n",
        "sjtitle_pool = GlobalMaxPool1D()(sjtitle_embed)\n",
        "speaker_pool = GlobalMaxPool1D()(speaker_embed)\n",
        "text_pool = GlobalMaxPool1D()(text_embed)\n",
        "subject_pool = GlobalMaxPool1D()(subject_embed)\n",
        "state_pool = GlobalMaxPool1D()(state_embed)\n",
        "party_pool = GlobalMaxPool1D()(party_embed)\n",
        "context_pool = GlobalMaxPool1D()(context_embed)\n",
        "\n",
        "\n",
        "all_d = concatenate([sjtitle_pool, speaker_pool,text_pool,subject_pool,state_pool,party_pool,context_pool])\n",
        "\n",
        "d1 = Dense(h1, activation='relu',activity_regularizer=l2(0.1),kernel_regularizer=l2(0.1), bias_regularizer=l2(0.1))(all_d)\n",
        "d2 = Dense(h2, activation='relu',activity_regularizer=l2(0.1),kernel_regularizer=l2(0.1), bias_regularizer=l2(0.1))(d1)\n",
        "\n",
        "op = Dense(1, activation='sigmoid', name='op')(d2)\n",
        "\n",
        "\n",
        "\n",
        "\n",
        "model9 = Model(inputs=[sjtitle_in,speaker_in,text_in,subject_in,state_in,party_in,context_in], outputs=[op])\n",
        "\n",
        "model9.summary()"
      ],
      "execution_count": null,
      "outputs": [
        {
          "output_type": "stream",
          "text": [
            "116 77\n",
            "Model: \"model_22\"\n",
            "__________________________________________________________________________________________________\n",
            "Layer (type)                    Output Shape         Param #     Connected to                     \n",
            "==================================================================================================\n",
            "sjtitle_in (InputLayer)         (None, 100)          0                                            \n",
            "__________________________________________________________________________________________________\n",
            "speaker_in (InputLayer)         (None, 50)           0                                            \n",
            "__________________________________________________________________________________________________\n",
            "text_in (InputLayer)            (None, 2099)         0                                            \n",
            "__________________________________________________________________________________________________\n",
            "subject_in (InputLayer)         (None, 203)          0                                            \n",
            "__________________________________________________________________________________________________\n",
            "state_in (InputLayer)           (None, 49)           0                                            \n",
            "__________________________________________________________________________________________________\n",
            "party_in (InputLayer)           (None, 28)           0                                            \n",
            "__________________________________________________________________________________________________\n",
            "context_in (InputLayer)         (None, 100)          0                                            \n",
            "__________________________________________________________________________________________________\n",
            "embedding_148 (Embedding)       (None, 100, 25)      26150       sjtitle_in[0][0]                 \n",
            "__________________________________________________________________________________________________\n",
            "embedding_149 (Embedding)       (None, 50, 25)       51575       speaker_in[0][0]                 \n",
            "__________________________________________________________________________________________________\n",
            "embedding_150 (Embedding)       (None, 2099, 25)     245100      text_in[0][0]                    \n",
            "__________________________________________________________________________________________________\n",
            "embedding_151 (Embedding)       (None, 203, 25)      4450        subject_in[0][0]                 \n",
            "__________________________________________________________________________________________________\n",
            "embedding_152 (Embedding)       (None, 49, 25)       1875        state_in[0][0]                   \n",
            "__________________________________________________________________________________________________\n",
            "embedding_153 (Embedding)       (None, 28, 25)       725         party_in[0][0]                   \n",
            "__________________________________________________________________________________________________\n",
            "embedding_154 (Embedding)       (None, 100, 25)      48950       context_in[0][0]                 \n",
            "__________________________________________________________________________________________________\n",
            "global_max_pooling1d_148 (Globa (None, 25)           0           embedding_148[0][0]              \n",
            "__________________________________________________________________________________________________\n",
            "global_max_pooling1d_149 (Globa (None, 25)           0           embedding_149[0][0]              \n",
            "__________________________________________________________________________________________________\n",
            "global_max_pooling1d_150 (Globa (None, 25)           0           embedding_150[0][0]              \n",
            "__________________________________________________________________________________________________\n",
            "global_max_pooling1d_151 (Globa (None, 25)           0           embedding_151[0][0]              \n",
            "__________________________________________________________________________________________________\n",
            "global_max_pooling1d_152 (Globa (None, 25)           0           embedding_152[0][0]              \n",
            "__________________________________________________________________________________________________\n",
            "global_max_pooling1d_153 (Globa (None, 25)           0           embedding_153[0][0]              \n",
            "__________________________________________________________________________________________________\n",
            "global_max_pooling1d_154 (Globa (None, 25)           0           embedding_154[0][0]              \n",
            "__________________________________________________________________________________________________\n",
            "concatenate_22 (Concatenate)    (None, 175)          0           global_max_pooling1d_148[0][0]   \n",
            "                                                                 global_max_pooling1d_149[0][0]   \n",
            "                                                                 global_max_pooling1d_150[0][0]   \n",
            "                                                                 global_max_pooling1d_151[0][0]   \n",
            "                                                                 global_max_pooling1d_152[0][0]   \n",
            "                                                                 global_max_pooling1d_153[0][0]   \n",
            "                                                                 global_max_pooling1d_154[0][0]   \n",
            "__________________________________________________________________________________________________\n",
            "dense_43 (Dense)                (None, 116)          20416       concatenate_22[0][0]             \n",
            "__________________________________________________________________________________________________\n",
            "dense_44 (Dense)                (None, 77)           9009        dense_43[0][0]                   \n",
            "__________________________________________________________________________________________________\n",
            "op (Dense)                      (None, 1)            78          dense_44[0][0]                   \n",
            "==================================================================================================\n",
            "Total params: 408,328\n",
            "Trainable params: 408,328\n",
            "Non-trainable params: 0\n",
            "__________________________________________________________________________________________________\n"
          ],
          "name": "stdout"
        }
      ]
    },
    {
      "cell_type": "code",
      "metadata": {
        "id": "n27saIo8Zfj5",
        "colab_type": "code",
        "colab": {
          "base_uri": "https://localhost:8080/",
          "height": 1000
        },
        "outputId": "87ec00f6-defa-4fd4-f62d-12398ae9b46e"
      },
      "source": [
        "model9.compile(optimizer='adam',\n",
        "              loss='binary_crossentropy',metrics=['accuracy'])\n",
        "h=model9.fit({'sjtitle_in':train_padtext_sjt,'speaker_in':train_padtext_spk,'text_in':train_padtext_state,'subject_in':train_padtext_sub,'state_in':train_padtext_stinfo,'party_in':train_padtext_pty,'context_in':train_padtext_cnt},{'op': liar_train_y},\n",
        "          epochs=25, batch_size=32,validation_data=({'sjtitle_in':dev_padtext_sjt,'speaker_in':dev_padtext_spk,'text_in':dev_padtext_state,'subject_in':dev_padtext_sub,'state_in':dev_padtext_stinfo,'party_in':dev_padtext_pty,'context_in':dev_padtext_cnt},{'op': liar_dev_y}))\n",
        "plot_history(h)"
      ],
      "execution_count": null,
      "outputs": [
        {
          "output_type": "stream",
          "text": [
            "Train on 6750 samples, validate on 844 samples\n",
            "Epoch 1/25\n",
            "6750/6750 [==============================] - 9s 1ms/step - loss: 5.7326 - acc: 0.7364 - val_loss: 0.7595 - val_acc: 0.7417\n",
            "Epoch 2/25\n",
            "6750/6750 [==============================] - 4s 621us/step - loss: 0.6462 - acc: 0.7369 - val_loss: 0.6122 - val_acc: 0.7417\n",
            "Epoch 3/25\n",
            "6750/6750 [==============================] - 4s 614us/step - loss: 0.6066 - acc: 0.7369 - val_loss: 0.5993 - val_acc: 0.7417\n",
            "Epoch 4/25\n",
            "6750/6750 [==============================] - 4s 613us/step - loss: 0.5954 - acc: 0.7369 - val_loss: 0.5873 - val_acc: 0.7417\n",
            "Epoch 5/25\n",
            "6750/6750 [==============================] - 4s 607us/step - loss: 0.5886 - acc: 0.7369 - val_loss: 0.5819 - val_acc: 0.7417\n",
            "Epoch 6/25\n",
            "6750/6750 [==============================] - 4s 605us/step - loss: 0.5845 - acc: 0.7369 - val_loss: 0.5782 - val_acc: 0.7417\n",
            "Epoch 7/25\n",
            "6750/6750 [==============================] - 4s 606us/step - loss: 0.5820 - acc: 0.7369 - val_loss: 0.5761 - val_acc: 0.7417\n",
            "Epoch 8/25\n",
            "6750/6750 [==============================] - 4s 606us/step - loss: 0.5806 - acc: 0.7369 - val_loss: 0.5772 - val_acc: 0.7417\n",
            "Epoch 9/25\n",
            "6750/6750 [==============================] - 4s 602us/step - loss: 0.5796 - acc: 0.7369 - val_loss: 0.5741 - val_acc: 0.7417\n",
            "Epoch 10/25\n",
            "6750/6750 [==============================] - 4s 607us/step - loss: 0.5778 - acc: 0.7369 - val_loss: 0.5727 - val_acc: 0.7417\n",
            "Epoch 11/25\n",
            "6750/6750 [==============================] - 4s 612us/step - loss: 0.5769 - acc: 0.7369 - val_loss: 0.5720 - val_acc: 0.7417\n",
            "Epoch 12/25\n",
            "6750/6750 [==============================] - 4s 603us/step - loss: 0.5766 - acc: 0.7369 - val_loss: 0.5717 - val_acc: 0.7417\n",
            "Epoch 13/25\n",
            "6750/6750 [==============================] - 4s 600us/step - loss: 0.5764 - acc: 0.7369 - val_loss: 0.5715 - val_acc: 0.7417\n",
            "Epoch 14/25\n",
            "6750/6750 [==============================] - 4s 605us/step - loss: 0.5764 - acc: 0.7369 - val_loss: 0.5714 - val_acc: 0.7417\n",
            "Epoch 15/25\n",
            "6750/6750 [==============================] - 4s 603us/step - loss: 0.5764 - acc: 0.7369 - val_loss: 0.5714 - val_acc: 0.7417\n",
            "Epoch 16/25\n",
            "6750/6750 [==============================] - 4s 607us/step - loss: 0.5763 - acc: 0.7369 - val_loss: 0.5714 - val_acc: 0.7417\n",
            "Epoch 17/25\n",
            "6750/6750 [==============================] - 4s 607us/step - loss: 0.5764 - acc: 0.7369 - val_loss: 0.5714 - val_acc: 0.7417\n",
            "Epoch 18/25\n",
            "6750/6750 [==============================] - 4s 603us/step - loss: 0.5763 - acc: 0.7369 - val_loss: 0.5713 - val_acc: 0.7417\n",
            "Epoch 19/25\n",
            "6750/6750 [==============================] - 4s 602us/step - loss: 0.5764 - acc: 0.7369 - val_loss: 0.5713 - val_acc: 0.7417\n",
            "Epoch 20/25\n",
            "6750/6750 [==============================] - 4s 606us/step - loss: 0.5763 - acc: 0.7369 - val_loss: 0.5713 - val_acc: 0.7417\n",
            "Epoch 21/25\n",
            "6750/6750 [==============================] - 4s 602us/step - loss: 0.5763 - acc: 0.7369 - val_loss: 0.5714 - val_acc: 0.7417\n",
            "Epoch 22/25\n",
            "6750/6750 [==============================] - 4s 601us/step - loss: 0.5764 - acc: 0.7369 - val_loss: 0.5713 - val_acc: 0.7417\n",
            "Epoch 23/25\n",
            "6750/6750 [==============================] - 4s 603us/step - loss: 0.5763 - acc: 0.7369 - val_loss: 0.5713 - val_acc: 0.7417\n",
            "Epoch 24/25\n",
            "6750/6750 [==============================] - 4s 605us/step - loss: 0.5763 - acc: 0.7369 - val_loss: 0.5714 - val_acc: 0.7417\n",
            "Epoch 25/25\n",
            "6750/6750 [==============================] - 4s 602us/step - loss: 0.5764 - acc: 0.7369 - val_loss: 0.5714 - val_acc: 0.7417\n"
          ],
          "name": "stdout"
        },
        {
          "output_type": "display_data",
          "data": {
            "image/png": "[encoded data removed]",
            "text/plain": [
              "<Figure size 864x360 with 2 Axes>"
            ]
          },
          "metadata": {
            "tags": []
          }
        }
      ]
    },
    {
      "cell_type": "code",
      "metadata": {
        "id": "GyzR4EQK8au_",
        "colab_type": "code",
        "colab": {
          "base_uri": "https://localhost:8080/",
          "height": 411
        },
        "outputId": "68f8d714-6e89-4712-e8f5-f769d941e0bb"
      },
      "source": [
        "#model10\n",
        "from keras.layers import Embedding\n",
        "from keras.layers import concatenate\n",
        "from keras.layers import Flatten\n",
        "from keras.layers import GlobalMaxPool1D\n",
        "from keras.layers import Input, Dense\n",
        "from keras.models import Model\n",
        "from keras.regularizers import l2\n",
        "from keras.layers import Dropout\n",
        "\n",
        "embedding_dim = 25\n",
        "h1=int(2/3*175)\n",
        "h2=int(2/3*h1)\n",
        "print(h1,h2)\n",
        "\n",
        "sjtitle_in = Input(shape=(100,), name='sjtitle_in')\n",
        "speaker_in = Input(shape=(50,), name='speaker_in')\n",
        "text_in = Input(shape=(2099,), name='text_in')\n",
        "subject_in = Input(shape=(203,), name='subject_in')\n",
        "state_in = Input(shape=(49,), name='state_in')\n",
        "party_in = Input(shape=(28,), name='party_in')\n",
        "context_in = Input(shape=(100,), name='context_in')\n",
        "\n",
        "#input dim = vocab size\n",
        "#input length = maxlen\n",
        "sjtitle_embed = Embedding(output_dim=embedding_dim, input_dim=1046, input_length=100)(sjtitle_in)\n",
        "speaker_embed = Embedding(output_dim=embedding_dim, input_dim=2063, input_length=50)(speaker_in)\n",
        "text_embed = Embedding(output_dim=embedding_dim, input_dim=9804, input_length=2099)(text_in)\n",
        "subject_embed = Embedding(output_dim=embedding_dim, input_dim=178, input_length=203)(subject_in)\n",
        "state_embed = Embedding(output_dim=embedding_dim, input_dim=75, input_length=49)(state_in)\n",
        "party_embed = Embedding(output_dim=embedding_dim, input_dim=29, input_length=28)(party_in)\n",
        "context_embed = Embedding(output_dim=embedding_dim, input_dim=1958, input_length=100)(context_in)\n",
        "\n",
        "\n",
        "\n",
        "sjtitle_pool = GlobalMaxPool1D()(sjtitle_embed)\n",
        "speaker_pool = GlobalMaxPool1D()(speaker_embed)\n",
        "text_pool = GlobalMaxPool1D()(text_embed)\n",
        "subject_pool = GlobalMaxPool1D()(subject_embed)\n",
        "state_pool = GlobalMaxPool1D()(state_embed)\n",
        "party_pool = GlobalMaxPool1D()(party_embed)\n",
        "context_pool = GlobalMaxPool1D()(context_embed)\n",
        "\n",
        "\n",
        "d1 = Dense(h1, activation='relu')(all_d)\n",
        "drop1= Dropout(0.2)(d1)\n",
        "d2 = Dense(h2, activation='relu')(drop1)\n",
        "drop2= Dropout(0.2)(d2)\n",
        "op = Dense(1, activation='sigmoid', name='op')(drop2)\n",
        "\n",
        "\n",
        "\n",
        "\n",
        "\n",
        "model10 = Model(inputs=[sjtitle_in,speaker_in,text_in,subject_in,state_in,party_in,context_in], outputs=[op])\n",
        "\n",
        "model10.summary()"
      ],
      "execution_count": null,
      "outputs": [
        {
          "output_type": "stream",
          "text": [
            "116 77\n"
          ],
          "name": "stdout"
        },
        {
          "output_type": "error",
          "ename": "ValueError",
          "evalue": "ignored",
          "traceback": [
            "\u001b[0;31m---------------------------------------------------------------------------\u001b[0m",
            "\u001b[0;31mValueError\u001b[0m                                Traceback (most recent call last)",
            "\u001b[0;32m<ipython-input-38-a2e005b51d34>\u001b[0m in \u001b[0;36m<module>\u001b[0;34m()\u001b[0m\n\u001b[1;32m     52\u001b[0m \u001b[0;34m\u001b[0m\u001b[0m\n\u001b[1;32m     53\u001b[0m \u001b[0;34m\u001b[0m\u001b[0m\n\u001b[0;32m---> 54\u001b[0;31m \u001b[0mmodel10\u001b[0m \u001b[0;34m=\u001b[0m \u001b[0mModel\u001b[0m\u001b[0;34m(\u001b[0m\u001b[0minputs\u001b[0m\u001b[0;34m=\u001b[0m\u001b[0;34m[\u001b[0m\u001b[0msjtitle_in\u001b[0m\u001b[0;34m,\u001b[0m\u001b[0mspeaker_in\u001b[0m\u001b[0;34m,\u001b[0m\u001b[0mtext_in\u001b[0m\u001b[0;34m,\u001b[0m\u001b[0msubject_in\u001b[0m\u001b[0;34m,\u001b[0m\u001b[0mstate_in\u001b[0m\u001b[0;34m,\u001b[0m\u001b[0mparty_in\u001b[0m\u001b[0;34m,\u001b[0m\u001b[0mcontext_in\u001b[0m\u001b[0;34m]\u001b[0m\u001b[0;34m,\u001b[0m \u001b[0moutputs\u001b[0m\u001b[0;34m=\u001b[0m\u001b[0;34m[\u001b[0m\u001b[0mop\u001b[0m\u001b[0;34m]\u001b[0m\u001b[0;34m)\u001b[0m\u001b[0;34m\u001b[0m\u001b[0;34m\u001b[0m\u001b[0m\n\u001b[0m\u001b[1;32m     55\u001b[0m \u001b[0;34m\u001b[0m\u001b[0m\n\u001b[1;32m     56\u001b[0m \u001b[0mmodel10\u001b[0m\u001b[0;34m.\u001b[0m\u001b[0msummary\u001b[0m\u001b[0;34m(\u001b[0m\u001b[0;34m)\u001b[0m\u001b[0;34m\u001b[0m\u001b[0;34m\u001b[0m\u001b[0m\n",
            "\u001b[0;32m/usr/local/lib/python3.6/dist-packages/keras/legacy/interfaces.py\u001b[0m in \u001b[0;36mwrapper\u001b[0;34m(*args, **kwargs)\u001b[0m\n\u001b[1;32m     89\u001b[0m                 warnings.warn('Update your `' + object_name + '` call to the ' +\n\u001b[1;32m     90\u001b[0m                               'Keras 2 API: ' + signature, stacklevel=2)\n\u001b[0;32m---> 91\u001b[0;31m             \u001b[0;32mreturn\u001b[0m \u001b[0mfunc\u001b[0m\u001b[0;34m(\u001b[0m\u001b[0;34m*\u001b[0m\u001b[0margs\u001b[0m\u001b[0;34m,\u001b[0m \u001b[0;34m**\u001b[0m\u001b[0mkwargs\u001b[0m\u001b[0;34m)\u001b[0m\u001b[0;34m\u001b[0m\u001b[0;34m\u001b[0m\u001b[0m\n\u001b[0m\u001b[1;32m     92\u001b[0m         \u001b[0mwrapper\u001b[0m\u001b[0;34m.\u001b[0m\u001b[0m_original_function\u001b[0m \u001b[0;34m=\u001b[0m \u001b[0mfunc\u001b[0m\u001b[0;34m\u001b[0m\u001b[0;34m\u001b[0m\u001b[0m\n\u001b[1;32m     93\u001b[0m         \u001b[0;32mreturn\u001b[0m \u001b[0mwrapper\u001b[0m\u001b[0;34m\u001b[0m\u001b[0;34m\u001b[0m\u001b[0m\n",
            "\u001b[0;32m/usr/local/lib/python3.6/dist-packages/keras/engine/network.py\u001b[0m in \u001b[0;36m__init__\u001b[0;34m(self, *args, **kwargs)\u001b[0m\n\u001b[1;32m     92\u001b[0m                 'inputs' in kwargs and 'outputs' in kwargs):\n\u001b[1;32m     93\u001b[0m             \u001b[0;31m# Graph network\u001b[0m\u001b[0;34m\u001b[0m\u001b[0;34m\u001b[0m\u001b[0;34m\u001b[0m\u001b[0m\n\u001b[0;32m---> 94\u001b[0;31m             \u001b[0mself\u001b[0m\u001b[0;34m.\u001b[0m\u001b[0m_init_graph_network\u001b[0m\u001b[0;34m(\u001b[0m\u001b[0;34m*\u001b[0m\u001b[0margs\u001b[0m\u001b[0;34m,\u001b[0m \u001b[0;34m**\u001b[0m\u001b[0mkwargs\u001b[0m\u001b[0;34m)\u001b[0m\u001b[0;34m\u001b[0m\u001b[0;34m\u001b[0m\u001b[0m\n\u001b[0m\u001b[1;32m     95\u001b[0m         \u001b[0;32melse\u001b[0m\u001b[0;34m:\u001b[0m\u001b[0;34m\u001b[0m\u001b[0;34m\u001b[0m\u001b[0m\n\u001b[1;32m     96\u001b[0m             \u001b[0;31m# Subclassed network\u001b[0m\u001b[0;34m\u001b[0m\u001b[0;34m\u001b[0m\u001b[0;34m\u001b[0m\u001b[0m\n",
            "\u001b[0;32m/usr/local/lib/python3.6/dist-packages/keras/engine/network.py\u001b[0m in \u001b[0;36m_init_graph_network\u001b[0;34m(self, inputs, outputs, name, **kwargs)\u001b[0m\n\u001b[1;32m    235\u001b[0m         \u001b[0;31m# Keep track of the network's nodes and layers.\u001b[0m\u001b[0;34m\u001b[0m\u001b[0;34m\u001b[0m\u001b[0;34m\u001b[0m\u001b[0m\n\u001b[1;32m    236\u001b[0m         nodes, nodes_by_depth, layers, layers_by_depth = _map_graph_network(\n\u001b[0;32m--> 237\u001b[0;31m             self.inputs, self.outputs)\n\u001b[0m\u001b[1;32m    238\u001b[0m         \u001b[0mself\u001b[0m\u001b[0;34m.\u001b[0m\u001b[0m_network_nodes\u001b[0m \u001b[0;34m=\u001b[0m \u001b[0mnodes\u001b[0m\u001b[0;34m\u001b[0m\u001b[0;34m\u001b[0m\u001b[0m\n\u001b[1;32m    239\u001b[0m         \u001b[0mself\u001b[0m\u001b[0;34m.\u001b[0m\u001b[0m_nodes_by_depth\u001b[0m \u001b[0;34m=\u001b[0m \u001b[0mnodes_by_depth\u001b[0m\u001b[0;34m\u001b[0m\u001b[0;34m\u001b[0m\u001b[0m\n",
            "\u001b[0;32m/usr/local/lib/python3.6/dist-packages/keras/engine/network.py\u001b[0m in \u001b[0;36m_map_graph_network\u001b[0;34m(inputs, outputs)\u001b[0m\n\u001b[1;32m   1496\u001b[0m                                          \u001b[0;34m'The following previous layers '\u001b[0m\u001b[0;34m\u001b[0m\u001b[0;34m\u001b[0m\u001b[0m\n\u001b[1;32m   1497\u001b[0m                                          \u001b[0;34m'were accessed without issue: '\u001b[0m \u001b[0;34m+\u001b[0m\u001b[0;34m\u001b[0m\u001b[0;34m\u001b[0m\u001b[0m\n\u001b[0;32m-> 1498\u001b[0;31m                                          str(layers_with_complete_input))\n\u001b[0m\u001b[1;32m   1499\u001b[0m                 \u001b[0;32mfor\u001b[0m \u001b[0mx\u001b[0m \u001b[0;32min\u001b[0m \u001b[0mnode\u001b[0m\u001b[0;34m.\u001b[0m\u001b[0moutput_tensors\u001b[0m\u001b[0;34m:\u001b[0m\u001b[0;34m\u001b[0m\u001b[0;34m\u001b[0m\u001b[0m\n\u001b[1;32m   1500\u001b[0m                     \u001b[0mcomputable_tensors\u001b[0m\u001b[0;34m.\u001b[0m\u001b[0mappend\u001b[0m\u001b[0;34m(\u001b[0m\u001b[0mx\u001b[0m\u001b[0;34m)\u001b[0m\u001b[0;34m\u001b[0m\u001b[0;34m\u001b[0m\u001b[0m\n",
            "\u001b[0;31mValueError\u001b[0m: Graph disconnected: cannot obtain value for tensor Tensor(\"context_in_6:0\", shape=(?, 100), dtype=float32) at layer \"context_in\". The following previous layers were accessed without issue: []"
          ]
        }
      ]
    },
    {
      "cell_type": "code",
      "metadata": {
        "id": "q9F9EGtuOi-a",
        "colab_type": "code",
        "colab": {}
      },
      "source": [
        "import tensorflow\n",
        "import pandas as pd\n",
        "import keras \n",
        "import numpy as np"
      ],
      "execution_count": null,
      "outputs": []
    },
    {
      "cell_type": "code",
      "metadata": {
        "id": "XRCkklmcPX_X",
        "colab_type": "code",
        "colab": {}
      },
      "source": [
        "#use this tokenizer for data sent\n",
        "from keras.preprocessing.text import Tokenizer\n",
        "def tokenize(train_data,dev_data):\n",
        "  tokenizer = Tokenizer()\n",
        "  tokenizer.fit_on_texts(train_data)\n",
        "\n",
        "\n",
        "  em_data_train = tokenizer.texts_to_sequences(train_data)\n",
        "  em_data_dev= tokenizer.texts_to_sequences(dev_data)\n",
        "\n",
        "  #em_data_train=emeded training data\n",
        "  #em_data_dev=emeded dev data\n",
        "\n",
        "  vocab_size = len(tokenizer.word_index) + 1  # Adding 1 because of reserved 0 index\n",
        "  print(vocab_size)\n",
        "\n",
        "\n",
        "  return em_data_train,em_data_dev,vocab_size"
      ],
      "execution_count": null,
      "outputs": []
    },
    {
      "cell_type": "code",
      "metadata": {
        "id": "mKaAI1-tQYJv",
        "colab_type": "code",
        "colab": {}
      },
      "source": [
        "from keras.preprocessing.sequence import pad_sequences\n",
        "\n",
        "def padding(token_train_data,token_dev_data):\n",
        "  maxlen=0\n",
        "  for i in token_train_data:\n",
        "    if(len(i)>maxlen):\n",
        "        maxlen=len(i)\n",
        "  print(maxlen)\n",
        "\n",
        "\n",
        "  em_data_train_pad= pad_sequences(token_train_data, padding='post', maxlen=maxlen)\n",
        "  em_data_dev_pad= pad_sequences(token_dev_data, padding='post', maxlen=maxlen)\n",
        "\n",
        "  return em_data_train_pad,em_data_dev_pad,maxlen"
      ],
      "execution_count": null,
      "outputs": []
    },
    {
      "cell_type": "code",
      "metadata": {
        "id": "7_deuvUEQRnz",
        "colab_type": "code",
        "colab": {}
      },
      "source": [
        "import matplotlib.pyplot as plt\n",
        "plt.style.use('ggplot')\n",
        "\n",
        "def plot_history(history):\n",
        "    acc = history.history['acc']\n",
        "    val_acc = history.history['val_acc']\n",
        "    loss = history.history['loss']\n",
        "    val_loss = history.history['val_loss']\n",
        "    x = range(1, len(acc) + 1)\n",
        "\n",
        "    plt.figure(figsize=(12, 5))\n",
        "    plt.subplot(1, 2, 1)\n",
        "    plt.plot(x, acc, 'b', label='Training acc')\n",
        "    plt.plot(x, val_acc, 'r', label='Validation acc')\n",
        "    plt.title('Training and validation accuracy')\n",
        "    plt.legend()\n",
        "    plt.subplot(1, 2, 2)\n",
        "    plt.plot(x, loss, 'b', label='Training loss')\n",
        "    plt.plot(x, val_loss, 'r', label='Validation loss')\n",
        "    plt.title('Training and validation loss')\n",
        "    plt.legend()"
      ],
      "execution_count": null,
      "outputs": []
    },
    {
      "cell_type": "code",
      "metadata": {
        "id": "AOGQkgqlQqIs",
        "colab_type": "code",
        "colab": {
          "base_uri": "https://localhost:8080/",
          "height": 136
        },
        "outputId": "3445dbef-39ea-4059-a07b-5e4dc21226c9"
      },
      "source": [
        "em_data_train_statement,em_data_dev_statement,statement_vocabsize=tokenize(liar_train_x.statement,liar_dev_x.statement)\n",
        "em_data_train_subject,em_data_dev_subject,subject_vocabsize=tokenize(liar_train_x.subject,liar_dev_x.subject)\n",
        "em_data_train_speaker,em_data_dev_speaker,speaker_vocabsize=tokenize(liar_train_x.speaker,liar_dev_x.speaker)\n",
        "em_data_train_speaker_job_title,em_data_dev_speaker_job_title,speaker_job_title_vocabsize=tokenize(liar_train_x.speaker_job_title,liar_dev_x.speaker_job_title)\n",
        "em_data_train_state_info,em_data_dev_state_info,state_info_vocabsize=tokenize(liar_train_x.state_info,liar_dev_x.state_info)\n",
        "em_data_train_party,em_data_dev_party,party_vocabsize=tokenize(liar_train_x.party,liar_dev_x.party)\n",
        "em_data_train_context,em_data_dev_context,context_vocabsize=tokenize(liar_train_x.context,liar_dev_x.context)"
      ],
      "execution_count": null,
      "outputs": [
        {
          "output_type": "stream",
          "text": [
            "9804\n",
            "178\n",
            "2063\n",
            "1046\n",
            "75\n",
            "29\n",
            "1958\n"
          ],
          "name": "stdout"
        }
      ]
    },
    {
      "cell_type": "code",
      "metadata": {
        "id": "WfFWiGzNX50O",
        "colab_type": "code",
        "colab": {
          "base_uri": "https://localhost:8080/",
          "height": 136
        },
        "outputId": "c994e7b3-2553-4def-ef46-a91eb1675f7e"
      },
      "source": [
        "em_data_train_padstatement,em_data_dev_padstatement,statement_maxlen=padding(em_data_train_statement,em_data_dev_statement)\n",
        "em_data_train_padsubject,em_data_dev_padsubject,subject_maxlen=padding(em_data_train_subject,em_data_dev_subject)\n",
        "em_data_train_padspeaker,em_data_dev_padspeaker,speaker_maxlen=padding(em_data_train_speaker,em_data_dev_speaker)\n",
        "em_data_train_padspeaker_job_title,em_data_dev_padspeaker_job_title,speaker_job_title_maxlen=padding(em_data_train_speaker_job_title,em_data_dev_speaker_job_title)\n",
        "em_data_train_padstate_info,em_data_dev_padstate_info,state_info_maxlen=padding(em_data_train_state_info,em_data_dev_state_info)\n",
        "em_data_train_padparty,em_data_dev_padparty,party_maxlen=padding(em_data_train_party,em_data_dev_party)\n",
        "em_data_train_padcontext,em_data_dev_padcontext,context_maxlen=padding(em_data_train_context,em_data_dev_context)"
      ],
      "execution_count": null,
      "outputs": [
        {
          "output_type": "stream",
          "text": [
            "360\n",
            "27\n",
            "7\n",
            "15\n",
            "7\n",
            "5\n",
            "18\n"
          ],
          "name": "stdout"
        }
      ]
    },
    {
      "cell_type": "code",
      "metadata": {
        "id": "v573cPfQ3ww4",
        "colab_type": "code",
        "colab": {
          "base_uri": "https://localhost:8080/",
          "height": 323
        },
        "outputId": "16fe8391-3d33-49dc-c71f-76ef9691c7e0"
      },
      "source": [
        "#passing subject attribute to tokpad\n",
        "train_padtext_sub,test_padtext_sub=tokpad(liar_train_x.subject,liar_test_x.subject)"
      ],
      "execution_count": null,
      "outputs": [
        {
          "output_type": "stream",
          "text": [
            "vocab size  178\n",
            "maxlen  203\n",
            "train\n",
            "(6750, 203)\n",
            "dev\n",
            "(844, 203)\n",
            "[109 110   0   0   0   0   0   0   0   0   0   0   0   0   0   0   0   0\n",
            "   0   0   0   0   0   0   0   0   0   0   0   0   0   0   0   0   0   0\n",
            "   0   0   0   0   0   0   0   0   0   0   0   0   0   0   0   0   0   0\n",
            "   0   0   0   0   0   0   0   0   0   0   0   0   0   0   0   0   0   0\n",
            "   0   0   0   0   0   0   0   0   0   0   0   0   0   0   0   0   0   0\n",
            "   0   0   0   0   0   0   0   0   0   0   0   0   0   0   0   0   0   0\n",
            "   0   0   0   0   0   0   0   0   0   0   0   0   0   0   0   0   0   0\n",
            "   0   0   0   0   0   0   0   0   0   0   0   0   0   0   0   0   0   0\n",
            "   0   0   0   0   0   0   0   0   0   0   0   0   0   0   0   0   0   0\n",
            "   0   0   0   0   0   0   0   0   0   0   0   0   0   0   0   0   0   0\n",
            "   0   0   0   0   0   0   0   0   0   0   0   0   0   0   0   0   0   0\n",
            "   0   0   0   0   0]\n"
          ],
          "name": "stdout"
        }
      ]
    },
    {
      "cell_type": "code",
      "metadata": {
        "id": "G7iImEKs32vn",
        "colab_type": "code",
        "colab": {
          "base_uri": "https://localhost:8080/",
          "height": 136
        },
        "outputId": "d974c1a4-eafb-4551-8dd1-cc140f8f163b"
      },
      "source": [
        "#passing state attribute to tokpad\n",
        "train_padtext_state,test_padtext_state=tokpad(liar_train_x.statement,liar_test_x.statement)"
      ],
      "execution_count": null,
      "outputs": [
        {
          "output_type": "stream",
          "text": [
            "vocab size  9804\n",
            "maxlen  2099\n",
            "train\n",
            "(6750, 2099)\n",
            "dev\n",
            "(844, 2099)\n",
            "[  11 1307    1 ...    0    0    0]\n"
          ],
          "name": "stdout"
        }
      ]
    },
    {
      "cell_type": "code",
      "metadata": {
        "id": "1YMs9sAj4Ao7",
        "colab_type": "code",
        "colab": {
          "base_uri": "https://localhost:8080/",
          "height": 170
        },
        "outputId": "b216bcd5-48ce-4f71-cc89-614dfcbe09c7"
      },
      "source": [
        "#passing speaker attribute to tokpad\n",
        "train_padtext_spk,test_padtext_spk=tokpad(liar_train_x.speaker,liar_test_x.speaker)"
      ],
      "execution_count": null,
      "outputs": [
        {
          "output_type": "stream",
          "text": [
            "vocab size  2063\n",
            "maxlen  50\n",
            "train\n",
            "(6750, 50)\n",
            "dev\n",
            "(844, 50)\n",
            "[78 69  0  0  0  0  0  0  0  0  0  0  0  0  0  0  0  0  0  0  0  0  0  0\n",
            "  0  0  0  0  0  0  0  0  0  0  0  0  0  0  0  0  0  0  0  0  0  0  0  0\n",
            "  0  0]\n"
          ],
          "name": "stdout"
        }
      ]
    },
    {
      "cell_type": "code",
      "metadata": {
        "id": "teniHkXv4KO2",
        "colab_type": "code",
        "colab": {
          "base_uri": "https://localhost:8080/",
          "height": 204
        },
        "outputId": "f68cb6f2-ad79-49d6-c8c4-c45e3bce443d"
      },
      "source": [
        "#passing speaker_job_title attribute to tokpad\n",
        "train_padtext_sjt,test_padtext_sjt=tokpad(liar_train_x.speaker_job_title,liar_test_x.speaker_job_title)"
      ],
      "execution_count": null,
      "outputs": [
        {
          "output_type": "stream",
          "text": [
            "vocab size  1046\n",
            "maxlen  100\n",
            "train\n",
            "(6750, 100)\n",
            "dev\n",
            "(844, 100)\n",
            "[24 47 25  0  0  0  0  0  0  0  0  0  0  0  0  0  0  0  0  0  0  0  0  0\n",
            "  0  0  0  0  0  0  0  0  0  0  0  0  0  0  0  0  0  0  0  0  0  0  0  0\n",
            "  0  0  0  0  0  0  0  0  0  0  0  0  0  0  0  0  0  0  0  0  0  0  0  0\n",
            "  0  0  0  0  0  0  0  0  0  0  0  0  0  0  0  0  0  0  0  0  0  0  0  0\n",
            "  0  0  0  0]\n"
          ],
          "name": "stdout"
        }
      ]
    },
    {
      "cell_type": "code",
      "metadata": {
        "id": "oczBBWQJ4TPA",
        "colab_type": "code",
        "colab": {
          "base_uri": "https://localhost:8080/",
          "height": 170
        },
        "outputId": "a93bc5e8-f982-4eae-aed8-c59e8a422bbd"
      },
      "source": [
        "#passing state_info attribute to tokpad\n",
        "train_padtext_stinfo,test_padtext_stinfo=tokpad(liar_train_x.state_info,liar_test_x.state_info)"
      ],
      "execution_count": null,
      "outputs": [
        {
          "output_type": "stream",
          "text": [
            "vocab size  75\n",
            "maxlen  49\n",
            "train\n",
            "(6750, 49)\n",
            "dev\n",
            "(844, 49)\n",
            "[30  0  0  0  0  0  0  0  0  0  0  0  0  0  0  0  0  0  0  0  0  0  0  0\n",
            "  0  0  0  0  0  0  0  0  0  0  0  0  0  0  0  0  0  0  0  0  0  0  0  0\n",
            "  0]\n"
          ],
          "name": "stdout"
        }
      ]
    },
    {
      "cell_type": "code",
      "metadata": {
        "id": "d3KdNVxc4dnG",
        "colab_type": "code",
        "colab": {
          "base_uri": "https://localhost:8080/",
          "height": 136
        },
        "outputId": "f67c5d02-a46f-4813-a7a8-66cab1907667"
      },
      "source": [
        "#passing party attribute to tokpad\n",
        "train_padtext_pty,test_padtext_pty=tokpad(liar_train_x.party,liar_test_x.party)"
      ],
      "execution_count": null,
      "outputs": [
        {
          "output_type": "stream",
          "text": [
            "vocab size  29\n",
            "maxlen  28\n",
            "train\n",
            "(6750, 28)\n",
            "dev\n",
            "(844, 28)\n",
            "[2 0 0 0 0 0 0 0 0 0 0 0 0 0 0 0 0 0 0 0 0 0 0 0 0 0 0 0]\n"
          ],
          "name": "stdout"
        }
      ]
    },
    {
      "cell_type": "code",
      "metadata": {
        "id": "02qukFmC4oDW",
        "colab_type": "code",
        "colab": {
          "base_uri": "https://localhost:8080/",
          "height": 221
        },
        "outputId": "2e4cf5e4-073d-44b7-ef4c-7eca7bd22e3a"
      },
      "source": [
        "#passing context attribute to tokpad\n",
        "train_padtext_cnt,test_padtext_cnt=tokpad(liar_train_x.context,liar_test_x.context)"
      ],
      "execution_count": null,
      "outputs": [
        {
          "output_type": "stream",
          "text": [
            "vocab size  1958\n",
            "maxlen  100\n",
            "train\n",
            "(6750, 100)\n",
            "dev\n",
            "(844, 100)\n",
            "[303   0   0   0   0   0   0   0   0   0   0   0   0   0   0   0   0   0\n",
            "   0   0   0   0   0   0   0   0   0   0   0   0   0   0   0   0   0   0\n",
            "   0   0   0   0   0   0   0   0   0   0   0   0   0   0   0   0   0   0\n",
            "   0   0   0   0   0   0   0   0   0   0   0   0   0   0   0   0   0   0\n",
            "   0   0   0   0   0   0   0   0   0   0   0   0   0   0   0   0   0   0\n",
            "   0   0   0   0   0   0   0   0   0   0]\n"
          ],
          "name": "stdout"
        }
      ]
    },
    {
      "cell_type": "code",
      "metadata": {
        "id": "a6-iVjos5A7d",
        "colab_type": "code",
        "colab": {
          "base_uri": "https://localhost:8080/",
          "height": 1000
        },
        "outputId": "b17d8f9b-69fb-4d6f-ffee-8856664e78fb"
      },
      "source": [
        "#test data model accuracy\n",
        "model.compile(optimizer='adam',\n",
        "              loss='binary_crossentropy',metrics=['accuracy'])\n",
        "h=model.fit({'sjtitle_in':train_padtext_sjt,'speaker_in':train_padtext_spk,'text_in':train_padtext_state,'subject_in':train_padtext_sub,'state_in':train_padtext_stinfo,'party_in':train_padtext_pty,'context_in':train_padtext_cnt},{'op': liar_train_y},\n",
        "          epochs=25, batch_size=32,validation_data=({'sjtitle_in':test_padtext_sjt,'speaker_in':test_padtext_spk,'text_in':test_padtext_state,'subject_in':test_padtext_sub,'state_in':test_padtext_stinfo,'party_in':test_padtext_pty,'context_in':test_padtext_cnt},{'op': liar_test_y}))\n",
        "plot_history(h)"
      ],
      "execution_count": null,
      "outputs": [
        {
          "output_type": "stream",
          "text": [
            "Train on 6750 samples, validate on 844 samples\n",
            "Epoch 1/25\n",
            "6750/6750 [==============================] - 4s 642us/step - loss: 0.0040 - acc: 0.9988 - val_loss: 3.2658 - val_acc: 0.6801\n",
            "Epoch 2/25\n",
            "6750/6750 [==============================] - 4s 554us/step - loss: 0.0036 - acc: 0.9988 - val_loss: 3.2584 - val_acc: 0.6742\n",
            "Epoch 3/25\n",
            "6750/6750 [==============================] - 4s 562us/step - loss: 0.0040 - acc: 0.9982 - val_loss: 3.4202 - val_acc: 0.6137\n",
            "Epoch 4/25\n",
            "6750/6750 [==============================] - 4s 561us/step - loss: 0.0026 - acc: 0.9988 - val_loss: 3.3132 - val_acc: 0.6268\n",
            "Epoch 5/25\n",
            "6750/6750 [==============================] - 4s 565us/step - loss: 0.0014 - acc: 0.9993 - val_loss: 3.4289 - val_acc: 0.6114\n",
            "Epoch 6/25\n",
            "6750/6750 [==============================] - 4s 565us/step - loss: 7.6297e-04 - acc: 0.9997 - val_loss: 3.3467 - val_acc: 0.6481\n",
            "Epoch 7/25\n",
            "6750/6750 [==============================] - 4s 563us/step - loss: 7.6358e-04 - acc: 0.9996 - val_loss: 3.4074 - val_acc: 0.6149\n",
            "Epoch 8/25\n",
            "6750/6750 [==============================] - 4s 564us/step - loss: 0.0014 - acc: 0.9991 - val_loss: 3.3030 - val_acc: 0.6718\n",
            "Epoch 9/25\n",
            "6750/6750 [==============================] - 4s 565us/step - loss: 3.1336e-04 - acc: 0.9997 - val_loss: 3.3906 - val_acc: 0.6268\n",
            "Epoch 10/25\n",
            "6750/6750 [==============================] - 4s 560us/step - loss: 2.5474e-04 - acc: 0.9999 - val_loss: 3.4151 - val_acc: 0.6256\n",
            "Epoch 11/25\n",
            "6750/6750 [==============================] - 4s 558us/step - loss: 3.4113e-04 - acc: 0.9997 - val_loss: 3.3230 - val_acc: 0.6386\n",
            "Epoch 12/25\n",
            "6750/6750 [==============================] - 4s 562us/step - loss: 2.1713e-04 - acc: 0.9997 - val_loss: 3.3421 - val_acc: 0.6374\n",
            "Epoch 13/25\n",
            "6750/6750 [==============================] - 4s 561us/step - loss: 2.1366e-04 - acc: 0.9999 - val_loss: 3.3597 - val_acc: 0.6374\n",
            "Epoch 14/25\n",
            "6750/6750 [==============================] - 4s 561us/step - loss: 2.1271e-04 - acc: 0.9997 - val_loss: 3.3767 - val_acc: 0.6363\n",
            "Epoch 15/25\n",
            "6750/6750 [==============================] - 4s 561us/step - loss: 2.1194e-04 - acc: 0.9997 - val_loss: 3.3893 - val_acc: 0.6327\n",
            "Epoch 16/25\n",
            "6750/6750 [==============================] - 4s 563us/step - loss: 2.1110e-04 - acc: 0.9999 - val_loss: 3.4048 - val_acc: 0.6339\n",
            "Epoch 17/25\n",
            "6750/6750 [==============================] - 4s 563us/step - loss: 2.1017e-04 - acc: 0.9999 - val_loss: 3.4167 - val_acc: 0.6327\n",
            "Epoch 18/25\n",
            "6750/6750 [==============================] - 4s 558us/step - loss: 2.3440e-04 - acc: 0.9999 - val_loss: 3.3733 - val_acc: 0.6445\n",
            "Epoch 19/25\n",
            "6750/6750 [==============================] - 4s 562us/step - loss: 2.9671e-04 - acc: 0.9997 - val_loss: 3.3326 - val_acc: 0.6339\n",
            "Epoch 20/25\n",
            "6750/6750 [==============================] - 4s 559us/step - loss: 2.1278e-04 - acc: 0.9997 - val_loss: 3.3677 - val_acc: 0.6351\n",
            "Epoch 21/25\n",
            "6750/6750 [==============================] - 4s 553us/step - loss: 2.1116e-04 - acc: 0.9997 - val_loss: 3.3880 - val_acc: 0.6363\n",
            "Epoch 22/25\n",
            "6750/6750 [==============================] - 4s 558us/step - loss: 2.0964e-04 - acc: 0.9999 - val_loss: 3.4165 - val_acc: 0.6374\n",
            "Epoch 23/25\n",
            "6750/6750 [==============================] - 4s 556us/step - loss: 2.0994e-04 - acc: 0.9999 - val_loss: 3.4328 - val_acc: 0.6374\n",
            "Epoch 24/25\n",
            "6750/6750 [==============================] - 4s 558us/step - loss: 2.0926e-04 - acc: 0.9997 - val_loss: 3.4461 - val_acc: 0.6398\n",
            "Epoch 25/25\n",
            "6750/6750 [==============================] - 4s 560us/step - loss: 2.0892e-04 - acc: 0.9999 - val_loss: 3.4608 - val_acc: 0.6398\n"
          ],
          "name": "stdout"
        },
        {
          "output_type": "display_data",
          "data": {
            "image/png": "[encoded data removed]",
            "text/plain": [
              "<Figure size 864x360 with 2 Axes>"
            ]
          },
          "metadata": {
            "tags": []
          }
        }
      ]
    }
  ]
}