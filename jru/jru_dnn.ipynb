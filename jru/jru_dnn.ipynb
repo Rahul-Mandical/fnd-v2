{
  "nbformat": 4,
  "nbformat_minor": 0,
  "metadata": {
    "colab": {
      "name": "jru_dnn.ipynb",
      "provenance": [],
      "collapsed_sections": []
    },
    "kernelspec": {
      "name": "python3",
      "display_name": "Python 3"
    }
  },
  "cells": [
    {
      "cell_type": "code",
      "metadata": {
        "id": "s25dpRKKY7-9",
        "colab_type": "code",
        "colab": {
          "resources": {
            "http://localhost:8080/nbextensions/google.colab/files.js": {
              "data": "Ly8gQ29weXJpZ2h0IDIwMTcgR29vZ2xlIExMQwovLwovLyBMaWNlbnNlZCB1bmRlciB0aGUgQXBhY2hlIExpY2Vuc2UsIFZlcnNpb24gMi4wICh0aGUgIkxpY2Vuc2UiKTsKLy8geW91IG1heSBub3QgdXNlIHRoaXMgZmlsZSBleGNlcHQgaW4gY29tcGxpYW5jZSB3aXRoIHRoZSBMaWNlbnNlLgovLyBZb3UgbWF5IG9idGFpbiBhIGNvcHkgb2YgdGhlIExpY2Vuc2UgYXQKLy8KLy8gICAgICBodHRwOi8vd3d3LmFwYWNoZS5vcmcvbGljZW5zZXMvTElDRU5TRS0yLjAKLy8KLy8gVW5sZXNzIHJlcXVpcmVkIGJ5IGFwcGxpY2FibGUgbGF3IG9yIGFncmVlZCB0byBpbiB3cml0aW5nLCBzb2Z0d2FyZQovLyBkaXN0cmlidXRlZCB1bmRlciB0aGUgTGljZW5zZSBpcyBkaXN0cmlidXRlZCBvbiBhbiAiQVMgSVMiIEJBU0lTLAovLyBXSVRIT1VUIFdBUlJBTlRJRVMgT1IgQ09ORElUSU9OUyBPRiBBTlkgS0lORCwgZWl0aGVyIGV4cHJlc3Mgb3IgaW1wbGllZC4KLy8gU2VlIHRoZSBMaWNlbnNlIGZvciB0aGUgc3BlY2lmaWMgbGFuZ3VhZ2UgZ292ZXJuaW5nIHBlcm1pc3Npb25zIGFuZAovLyBsaW1pdGF0aW9ucyB1bmRlciB0aGUgTGljZW5zZS4KCi8qKgogKiBAZmlsZW92ZXJ2aWV3IEhlbHBlcnMgZm9yIGdvb2dsZS5jb2xhYiBQeXRob24gbW9kdWxlLgogKi8KKGZ1bmN0aW9uKHNjb3BlKSB7CmZ1bmN0aW9uIHNwYW4odGV4dCwgc3R5bGVBdHRyaWJ1dGVzID0ge30pIHsKICBjb25zdCBlbGVtZW50ID0gZG9jdW1lbnQuY3JlYXRlRWxlbWVudCgnc3BhbicpOwogIGVsZW1lbnQudGV4dENvbnRlbnQgPSB0ZXh0OwogIGZvciAoY29uc3Qga2V5IG9mIE9iamVjdC5rZXlzKHN0eWxlQXR0cmlidXRlcykpIHsKICAgIGVsZW1lbnQuc3R5bGVba2V5XSA9IHN0eWxlQXR0cmlidXRlc1trZXldOwogIH0KICByZXR1cm4gZWxlbWVudDsKfQoKLy8gTWF4IG51bWJlciBvZiBieXRlcyB3aGljaCB3aWxsIGJlIHVwbG9hZGVkIGF0IGEgdGltZS4KY29uc3QgTUFYX1BBWUxPQURfU0laRSA9IDEwMCAqIDEwMjQ7CgpmdW5jdGlvbiBfdXBsb2FkRmlsZXMoaW5wdXRJZCwgb3V0cHV0SWQpIHsKICBjb25zdCBzdGVwcyA9IHVwbG9hZEZpbGVzU3RlcChpbnB1dElkLCBvdXRwdXRJZCk7CiAgY29uc3Qgb3V0cHV0RWxlbWVudCA9IGRvY3VtZW50LmdldEVsZW1lbnRCeUlkKG91dHB1dElkKTsKICAvLyBDYWNoZSBzdGVwcyBvbiB0aGUgb3V0cHV0RWxlbWVudCB0byBtYWtlIGl0IGF2YWlsYWJsZSBmb3IgdGhlIG5leHQgY2FsbAogIC8vIHRvIHVwbG9hZEZpbGVzQ29udGludWUgZnJvbSBQeXRob24uCiAgb3V0cHV0RWxlbWVudC5zdGVwcyA9IHN0ZXBzOwoKICByZXR1cm4gX3VwbG9hZEZpbGVzQ29udGludWUob3V0cHV0SWQpOwp9CgovLyBUaGlzIGlzIHJvdWdobHkgYW4gYXN5bmMgZ2VuZXJhdG9yIChub3Qgc3VwcG9ydGVkIGluIHRoZSBicm93c2VyIHlldCksCi8vIHdoZXJlIHRoZXJlIGFyZSBtdWx0aXBsZSBhc3luY2hyb25vdXMgc3RlcHMgYW5kIHRoZSBQeXRob24gc2lkZSBpcyBnb2luZwovLyB0byBwb2xsIGZvciBjb21wbGV0aW9uIG9mIGVhY2ggc3RlcC4KLy8gVGhpcyB1c2VzIGEgUHJvbWlzZSB0byBibG9jayB0aGUgcHl0aG9uIHNpZGUgb24gY29tcGxldGlvbiBvZiBlYWNoIHN0ZXAsCi8vIHRoZW4gcGFzc2VzIHRoZSByZXN1bHQgb2YgdGhlIHByZXZpb3VzIHN0ZXAgYXMgdGhlIGlucHV0IHRvIHRoZSBuZXh0IHN0ZXAuCmZ1bmN0aW9uIF91cGxvYWRGaWxlc0NvbnRpbnVlKG91dHB1dElkKSB7CiAgY29uc3Qgb3V0cHV0RWxlbWVudCA9IGRvY3VtZW50LmdldEVsZW1lbnRCeUlkKG91dHB1dElkKTsKICBjb25zdCBzdGVwcyA9IG91dHB1dEVsZW1lbnQuc3RlcHM7CgogIGNvbnN0IG5leHQgPSBzdGVwcy5uZXh0KG91dHB1dEVsZW1lbnQubGFzdFByb21pc2VWYWx1ZSk7CiAgcmV0dXJuIFByb21pc2UucmVzb2x2ZShuZXh0LnZhbHVlLnByb21pc2UpLnRoZW4oKHZhbHVlKSA9PiB7CiAgICAvLyBDYWNoZSB0aGUgbGFzdCBwcm9taXNlIHZhbHVlIHRvIG1ha2UgaXQgYXZhaWxhYmxlIHRvIHRoZSBuZXh0CiAgICAvLyBzdGVwIG9mIHRoZSBnZW5lcmF0b3IuCiAgICBvdXRwdXRFbGVtZW50Lmxhc3RQcm9taXNlVmFsdWUgPSB2YWx1ZTsKICAgIHJldHVybiBuZXh0LnZhbHVlLnJlc3BvbnNlOwogIH0pOwp9CgovKioKICogR2VuZXJhdG9yIGZ1bmN0aW9uIHdoaWNoIGlzIGNhbGxlZCBiZXR3ZWVuIGVhY2ggYXN5bmMgc3RlcCBvZiB0aGUgdXBsb2FkCiAqIHByb2Nlc3MuCiAqIEBwYXJhbSB7c3RyaW5nfSBpbnB1dElkIEVsZW1lbnQgSUQgb2YgdGhlIGlucHV0IGZpbGUgcGlja2VyIGVsZW1lbnQuCiAqIEBwYXJhbSB7c3RyaW5nfSBvdXRwdXRJZCBFbGVtZW50IElEIG9mIHRoZSBvdXRwdXQgZGlzcGxheS4KICogQHJldHVybiB7IUl0ZXJhYmxlPCFPYmplY3Q+fSBJdGVyYWJsZSBvZiBuZXh0IHN0ZXBzLgogKi8KZnVuY3Rpb24qIHVwbG9hZEZpbGVzU3RlcChpbnB1dElkLCBvdXRwdXRJZCkgewogIGNvbnN0IGlucHV0RWxlbWVudCA9IGRvY3VtZW50LmdldEVsZW1lbnRCeUlkKGlucHV0SWQpOwogIGlucHV0RWxlbWVudC5kaXNhYmxlZCA9IGZhbHNlOwoKICBjb25zdCBvdXRwdXRFbGVtZW50ID0gZG9jdW1lbnQuZ2V0RWxlbWVudEJ5SWQob3V0cHV0SWQpOwogIG91dHB1dEVsZW1lbnQuaW5uZXJIVE1MID0gJyc7CgogIGNvbnN0IHBpY2tlZFByb21pc2UgPSBuZXcgUHJvbWlzZSgocmVzb2x2ZSkgPT4gewogICAgaW5wdXRFbGVtZW50LmFkZEV2ZW50TGlzdGVuZXIoJ2NoYW5nZScsIChlKSA9PiB7CiAgICAgIHJlc29sdmUoZS50YXJnZXQuZmlsZXMpOwogICAgfSk7CiAgfSk7CgogIGNvbnN0IGNhbmNlbCA9IGRvY3VtZW50LmNyZWF0ZUVsZW1lbnQoJ2J1dHRvbicpOwogIGlucHV0RWxlbWVudC5wYXJlbnRFbGVtZW50LmFwcGVuZENoaWxkKGNhbmNlbCk7CiAgY2FuY2VsLnRleHRDb250ZW50ID0gJ0NhbmNlbCB1cGxvYWQnOwogIGNvbnN0IGNhbmNlbFByb21pc2UgPSBuZXcgUHJvbWlzZSgocmVzb2x2ZSkgPT4gewogICAgY2FuY2VsLm9uY2xpY2sgPSAoKSA9PiB7CiAgICAgIHJlc29sdmUobnVsbCk7CiAgICB9OwogIH0pOwoKICAvLyBXYWl0IGZvciB0aGUgdXNlciB0byBwaWNrIHRoZSBmaWxlcy4KICBjb25zdCBmaWxlcyA9IHlpZWxkIHsKICAgIHByb21pc2U6IFByb21pc2UucmFjZShbcGlja2VkUHJvbWlzZSwgY2FuY2VsUHJvbWlzZV0pLAogICAgcmVzcG9uc2U6IHsKICAgICAgYWN0aW9uOiAnc3RhcnRpbmcnLAogICAgfQogIH07CgogIGNhbmNlbC5yZW1vdmUoKTsKCiAgLy8gRGlzYWJsZSB0aGUgaW5wdXQgZWxlbWVudCBzaW5jZSBmdXJ0aGVyIHBpY2tzIGFyZSBub3QgYWxsb3dlZC4KICBpbnB1dEVsZW1lbnQuZGlzYWJsZWQgPSB0cnVlOwoKICBpZiAoIWZpbGVzKSB7CiAgICByZXR1cm4gewogICAgICByZXNwb25zZTogewogICAgICAgIGFjdGlvbjogJ2NvbXBsZXRlJywKICAgICAgfQogICAgfTsKICB9CgogIGZvciAoY29uc3QgZmlsZSBvZiBmaWxlcykgewogICAgY29uc3QgbGkgPSBkb2N1bWVudC5jcmVhdGVFbGVtZW50KCdsaScpOwogICAgbGkuYXBwZW5kKHNwYW4oZmlsZS5uYW1lLCB7Zm9udFdlaWdodDogJ2JvbGQnfSkpOwogICAgbGkuYXBwZW5kKHNwYW4oCiAgICAgICAgYCgke2ZpbGUudHlwZSB8fCAnbi9hJ30pIC0gJHtmaWxlLnNpemV9IGJ5dGVzLCBgICsKICAgICAgICBgbGFzdCBtb2RpZmllZDogJHsKICAgICAgICAgICAgZmlsZS5sYXN0TW9kaWZpZWREYXRlID8gZmlsZS5sYXN0TW9kaWZpZWREYXRlLnRvTG9jYWxlRGF0ZVN0cmluZygpIDoKICAgICAgICAgICAgICAgICAgICAgICAgICAgICAgICAgICAgJ24vYSd9IC0gYCkpOwogICAgY29uc3QgcGVyY2VudCA9IHNwYW4oJzAlIGRvbmUnKTsKICAgIGxpLmFwcGVuZENoaWxkKHBlcmNlbnQpOwoKICAgIG91dHB1dEVsZW1lbnQuYXBwZW5kQ2hpbGQobGkpOwoKICAgIGNvbnN0IGZpbGVEYXRhUHJvbWlzZSA9IG5ldyBQcm9taXNlKChyZXNvbHZlKSA9PiB7CiAgICAgIGNvbnN0IHJlYWRlciA9IG5ldyBGaWxlUmVhZGVyKCk7CiAgICAgIHJlYWRlci5vbmxvYWQgPSAoZSkgPT4gewogICAgICAgIHJlc29sdmUoZS50YXJnZXQucmVzdWx0KTsKICAgICAgfTsKICAgICAgcmVhZGVyLnJlYWRBc0FycmF5QnVmZmVyKGZpbGUpOwogICAgfSk7CiAgICAvLyBXYWl0IGZvciB0aGUgZGF0YSB0byBiZSByZWFkeS4KICAgIGxldCBmaWxlRGF0YSA9IHlpZWxkIHsKICAgICAgcHJvbWlzZTogZmlsZURhdGFQcm9taXNlLAogICAgICByZXNwb25zZTogewogICAgICAgIGFjdGlvbjogJ2NvbnRpbnVlJywKICAgICAgfQogICAgfTsKCiAgICAvLyBVc2UgYSBjaHVua2VkIHNlbmRpbmcgdG8gYXZvaWQgbWVzc2FnZSBzaXplIGxpbWl0cy4gU2VlIGIvNjIxMTU2NjAuCiAgICBsZXQgcG9zaXRpb24gPSAwOwogICAgd2hpbGUgKHBvc2l0aW9uIDwgZmlsZURhdGEuYnl0ZUxlbmd0aCkgewogICAgICBjb25zdCBsZW5ndGggPSBNYXRoLm1pbihmaWxlRGF0YS5ieXRlTGVuZ3RoIC0gcG9zaXRpb24sIE1BWF9QQVlMT0FEX1NJWkUpOwogICAgICBjb25zdCBjaHVuayA9IG5ldyBVaW50OEFycmF5KGZpbGVEYXRhLCBwb3NpdGlvbiwgbGVuZ3RoKTsKICAgICAgcG9zaXRpb24gKz0gbGVuZ3RoOwoKICAgICAgY29uc3QgYmFzZTY0ID0gYnRvYShTdHJpbmcuZnJvbUNoYXJDb2RlLmFwcGx5KG51bGwsIGNodW5rKSk7CiAgICAgIHlpZWxkIHsKICAgICAgICByZXNwb25zZTogewogICAgICAgICAgYWN0aW9uOiAnYXBwZW5kJywKICAgICAgICAgIGZpbGU6IGZpbGUubmFtZSwKICAgICAgICAgIGRhdGE6IGJhc2U2NCwKICAgICAgICB9LAogICAgICB9OwogICAgICBwZXJjZW50LnRleHRDb250ZW50ID0KICAgICAgICAgIGAke01hdGgucm91bmQoKHBvc2l0aW9uIC8gZmlsZURhdGEuYnl0ZUxlbmd0aCkgKiAxMDApfSUgZG9uZWA7CiAgICB9CiAgfQoKICAvLyBBbGwgZG9uZS4KICB5aWVsZCB7CiAgICByZXNwb25zZTogewogICAgICBhY3Rpb246ICdjb21wbGV0ZScsCiAgICB9CiAgfTsKfQoKc2NvcGUuZ29vZ2xlID0gc2NvcGUuZ29vZ2xlIHx8IHt9OwpzY29wZS5nb29nbGUuY29sYWIgPSBzY29wZS5nb29nbGUuY29sYWIgfHwge307CnNjb3BlLmdvb2dsZS5jb2xhYi5fZmlsZXMgPSB7CiAgX3VwbG9hZEZpbGVzLAogIF91cGxvYWRGaWxlc0NvbnRpbnVlLAp9Owp9KShzZWxmKTsK",
              "ok": true,
              "headers": [
                [
                  "content-type",
                  "application/javascript"
                ]
              ],
              "status": 200,
              "status_text": ""
            }
          },
          "base_uri": "https://localhost:8080/",
          "height": 72
        },
        "outputId": "28d71d13-4550-48ee-bb32-54a673027e89"
      },
      "source": [
        "from google.colab import files \n",
        "uploaded = files.upload() "
      ],
      "execution_count": 1,
      "outputs": [
        {
          "output_type": "display_data",
          "data": {
            "text/html": [
              "\n",
              "     <input type=\"file\" id=\"files-27611bdf-4abd-4e0a-90e8-7926bf70b1db\" name=\"files[]\" multiple disabled\n",
              "        style=\"border:none\" />\n",
              "     <output id=\"result-27611bdf-4abd-4e0a-90e8-7926bf70b1db\">\n",
              "      Upload widget is only available when the cell has been executed in the\n",
              "      current browser session. Please rerun this cell to enable.\n",
              "      </output>\n",
              "      <script src=\"/nbextensions/google.colab/files.js\"></script> "
            ],
            "text/plain": [
              "<IPython.core.display.HTML object>"
            ]
          },
          "metadata": {
            "tags": []
          }
        },
        {
          "output_type": "stream",
          "text": [
            "Saving data.csv to data.csv\n"
          ],
          "name": "stdout"
        }
      ]
    },
    {
      "cell_type": "code",
      "metadata": {
        "id": "Ii7vC2QGaL39",
        "colab_type": "code",
        "colab": {
          "base_uri": "https://localhost:8080/",
          "height": 272
        },
        "outputId": "d2417ad9-e215-4a3e-bdbe-5a8a48c64611"
      },
      "source": [
        "import io \n",
        "import pandas as pd\n",
        "data = pd.read_csv(io.BytesIO(uploaded['data.csv'])) \n",
        "print(type(data))\n",
        "print(data.head)"
      ],
      "execution_count": 2,
      "outputs": [
        {
          "output_type": "stream",
          "text": [
            "<class 'pandas.core.frame.DataFrame'>\n",
            "<bound method NDFrame.head of                                                    URLs  ... Label\n",
            "0     http://www.bbc.com/news/world-us-canada-414191...  ...     1\n",
            "1     https://www.reuters.com/article/us-filmfestiva...  ...     1\n",
            "2     https://www.nytimes.com/2017/10/09/us/politics...  ...     1\n",
            "3     https://www.reuters.com/article/us-mexico-oil-...  ...     1\n",
            "4     http://www.cnn.com/videos/cnnmoney/2017/10/08/...  ...     1\n",
            "...                                                 ...  ...   ...\n",
            "4004  http://beforeitsnews.com/sports/2017/09/trends...  ...     0\n",
            "4005  http://beforeitsnews.com/u-s-politics/2017/10/...  ...     0\n",
            "4006  https://www.activistpost.com/2017/09/ron-paul-...  ...     0\n",
            "4007  https://www.reuters.com/article/us-china-pharm...  ...     1\n",
            "4008  http://beforeitsnews.com/u-s-politics/2017/10/...  ...     0\n",
            "\n",
            "[4009 rows x 4 columns]>\n"
          ],
          "name": "stdout"
        }
      ]
    },
    {
      "cell_type": "code",
      "metadata": {
        "id": "U5h9fSZGakeb",
        "colab_type": "code",
        "colab": {
          "base_uri": "https://localhost:8080/",
          "height": 204
        },
        "outputId": "4f974f7b-112a-471e-9ff6-8e225be89ce6"
      },
      "source": [
        "url_data=data.dropna()\n",
        "url_data.head()"
      ],
      "execution_count": 3,
      "outputs": [
        {
          "output_type": "execute_result",
          "data": {
            "text/html": [
              "<div>\n",
              "<style scoped>\n",
              "    .dataframe tbody tr th:only-of-type {\n",
              "        vertical-align: middle;\n",
              "    }\n",
              "\n",
              "    .dataframe tbody tr th {\n",
              "        vertical-align: top;\n",
              "    }\n",
              "\n",
              "    .dataframe thead th {\n",
              "        text-align: right;\n",
              "    }\n",
              "</style>\n",
              "<table border=\"1\" class=\"dataframe\">\n",
              "  <thead>\n",
              "    <tr style=\"text-align: right;\">\n",
              "      <th></th>\n",
              "      <th>URLs</th>\n",
              "      <th>Headline</th>\n",
              "      <th>Body</th>\n",
              "      <th>Label</th>\n",
              "    </tr>\n",
              "  </thead>\n",
              "  <tbody>\n",
              "    <tr>\n",
              "      <th>0</th>\n",
              "      <td>http://www.bbc.com/news/world-us-canada-414191...</td>\n",
              "      <td>Four ways Bob Corker skewered Donald Trump</td>\n",
              "      <td>Image copyright Getty Images\\nOn Sunday mornin...</td>\n",
              "      <td>1</td>\n",
              "    </tr>\n",
              "    <tr>\n",
              "      <th>1</th>\n",
              "      <td>https://www.reuters.com/article/us-filmfestiva...</td>\n",
              "      <td>Linklater's war veteran comedy speaks to moder...</td>\n",
              "      <td>LONDON (Reuters) - “Last Flag Flying”, a comed...</td>\n",
              "      <td>1</td>\n",
              "    </tr>\n",
              "    <tr>\n",
              "      <th>2</th>\n",
              "      <td>https://www.nytimes.com/2017/10/09/us/politics...</td>\n",
              "      <td>Trump’s Fight With Corker Jeopardizes His Legi...</td>\n",
              "      <td>The feud broke into public view last week when...</td>\n",
              "      <td>1</td>\n",
              "    </tr>\n",
              "    <tr>\n",
              "      <th>3</th>\n",
              "      <td>https://www.reuters.com/article/us-mexico-oil-...</td>\n",
              "      <td>Egypt's Cheiron wins tie-up with Pemex for Mex...</td>\n",
              "      <td>MEXICO CITY (Reuters) - Egypt’s Cheiron Holdin...</td>\n",
              "      <td>1</td>\n",
              "    </tr>\n",
              "    <tr>\n",
              "      <th>4</th>\n",
              "      <td>http://www.cnn.com/videos/cnnmoney/2017/10/08/...</td>\n",
              "      <td>Jason Aldean opens 'SNL' with Vegas tribute</td>\n",
              "      <td>Country singer Jason Aldean, who was performin...</td>\n",
              "      <td>1</td>\n",
              "    </tr>\n",
              "  </tbody>\n",
              "</table>\n",
              "</div>"
            ],
            "text/plain": [
              "                                                URLs  ... Label\n",
              "0  http://www.bbc.com/news/world-us-canada-414191...  ...     1\n",
              "1  https://www.reuters.com/article/us-filmfestiva...  ...     1\n",
              "2  https://www.nytimes.com/2017/10/09/us/politics...  ...     1\n",
              "3  https://www.reuters.com/article/us-mexico-oil-...  ...     1\n",
              "4  http://www.cnn.com/videos/cnnmoney/2017/10/08/...  ...     1\n",
              "\n",
              "[5 rows x 4 columns]"
            ]
          },
          "metadata": {
            "tags": []
          },
          "execution_count": 3
        }
      ]
    },
    {
      "cell_type": "code",
      "metadata": {
        "id": "1_s-KUrpatl9",
        "colab_type": "code",
        "colab": {
          "base_uri": "https://localhost:8080/",
          "height": 34
        },
        "outputId": "6f40a925-08c1-461f-bf95-fea7998c877a"
      },
      "source": [
        "url_data.shape"
      ],
      "execution_count": 4,
      "outputs": [
        {
          "output_type": "execute_result",
          "data": {
            "text/plain": [
              "(3988, 4)"
            ]
          },
          "metadata": {
            "tags": []
          },
          "execution_count": 4
        }
      ]
    },
    {
      "cell_type": "code",
      "metadata": {
        "id": "jInlSH8saxLC",
        "colab_type": "code",
        "colab": {
          "base_uri": "https://localhost:8080/",
          "height": 204
        },
        "outputId": "69721b47-49f6-4b97-f6b9-9638df4bf8dd"
      },
      "source": [
        "data_x=url_data.iloc[:,:-1]\n",
        "data_x.head()"
      ],
      "execution_count": 5,
      "outputs": [
        {
          "output_type": "execute_result",
          "data": {
            "text/html": [
              "<div>\n",
              "<style scoped>\n",
              "    .dataframe tbody tr th:only-of-type {\n",
              "        vertical-align: middle;\n",
              "    }\n",
              "\n",
              "    .dataframe tbody tr th {\n",
              "        vertical-align: top;\n",
              "    }\n",
              "\n",
              "    .dataframe thead th {\n",
              "        text-align: right;\n",
              "    }\n",
              "</style>\n",
              "<table border=\"1\" class=\"dataframe\">\n",
              "  <thead>\n",
              "    <tr style=\"text-align: right;\">\n",
              "      <th></th>\n",
              "      <th>URLs</th>\n",
              "      <th>Headline</th>\n",
              "      <th>Body</th>\n",
              "    </tr>\n",
              "  </thead>\n",
              "  <tbody>\n",
              "    <tr>\n",
              "      <th>0</th>\n",
              "      <td>http://www.bbc.com/news/world-us-canada-414191...</td>\n",
              "      <td>Four ways Bob Corker skewered Donald Trump</td>\n",
              "      <td>Image copyright Getty Images\\nOn Sunday mornin...</td>\n",
              "    </tr>\n",
              "    <tr>\n",
              "      <th>1</th>\n",
              "      <td>https://www.reuters.com/article/us-filmfestiva...</td>\n",
              "      <td>Linklater's war veteran comedy speaks to moder...</td>\n",
              "      <td>LONDON (Reuters) - “Last Flag Flying”, a comed...</td>\n",
              "    </tr>\n",
              "    <tr>\n",
              "      <th>2</th>\n",
              "      <td>https://www.nytimes.com/2017/10/09/us/politics...</td>\n",
              "      <td>Trump’s Fight With Corker Jeopardizes His Legi...</td>\n",
              "      <td>The feud broke into public view last week when...</td>\n",
              "    </tr>\n",
              "    <tr>\n",
              "      <th>3</th>\n",
              "      <td>https://www.reuters.com/article/us-mexico-oil-...</td>\n",
              "      <td>Egypt's Cheiron wins tie-up with Pemex for Mex...</td>\n",
              "      <td>MEXICO CITY (Reuters) - Egypt’s Cheiron Holdin...</td>\n",
              "    </tr>\n",
              "    <tr>\n",
              "      <th>4</th>\n",
              "      <td>http://www.cnn.com/videos/cnnmoney/2017/10/08/...</td>\n",
              "      <td>Jason Aldean opens 'SNL' with Vegas tribute</td>\n",
              "      <td>Country singer Jason Aldean, who was performin...</td>\n",
              "    </tr>\n",
              "  </tbody>\n",
              "</table>\n",
              "</div>"
            ],
            "text/plain": [
              "                                                URLs  ...                                               Body\n",
              "0  http://www.bbc.com/news/world-us-canada-414191...  ...  Image copyright Getty Images\\nOn Sunday mornin...\n",
              "1  https://www.reuters.com/article/us-filmfestiva...  ...  LONDON (Reuters) - “Last Flag Flying”, a comed...\n",
              "2  https://www.nytimes.com/2017/10/09/us/politics...  ...  The feud broke into public view last week when...\n",
              "3  https://www.reuters.com/article/us-mexico-oil-...  ...  MEXICO CITY (Reuters) - Egypt’s Cheiron Holdin...\n",
              "4  http://www.cnn.com/videos/cnnmoney/2017/10/08/...  ...  Country singer Jason Aldean, who was performin...\n",
              "\n",
              "[5 rows x 3 columns]"
            ]
          },
          "metadata": {
            "tags": []
          },
          "execution_count": 5
        }
      ]
    },
    {
      "cell_type": "code",
      "metadata": {
        "id": "-v6asxcMa5sa",
        "colab_type": "code",
        "colab": {
          "base_uri": "https://localhost:8080/",
          "height": 204
        },
        "outputId": "160291f2-0877-4ce4-d5af-e6d7b9b51c85"
      },
      "source": [
        "data_y=url_data.iloc[:,3:]\n",
        "data_y.head()"
      ],
      "execution_count": 6,
      "outputs": [
        {
          "output_type": "execute_result",
          "data": {
            "text/html": [
              "<div>\n",
              "<style scoped>\n",
              "    .dataframe tbody tr th:only-of-type {\n",
              "        vertical-align: middle;\n",
              "    }\n",
              "\n",
              "    .dataframe tbody tr th {\n",
              "        vertical-align: top;\n",
              "    }\n",
              "\n",
              "    .dataframe thead th {\n",
              "        text-align: right;\n",
              "    }\n",
              "</style>\n",
              "<table border=\"1\" class=\"dataframe\">\n",
              "  <thead>\n",
              "    <tr style=\"text-align: right;\">\n",
              "      <th></th>\n",
              "      <th>Label</th>\n",
              "    </tr>\n",
              "  </thead>\n",
              "  <tbody>\n",
              "    <tr>\n",
              "      <th>0</th>\n",
              "      <td>1</td>\n",
              "    </tr>\n",
              "    <tr>\n",
              "      <th>1</th>\n",
              "      <td>1</td>\n",
              "    </tr>\n",
              "    <tr>\n",
              "      <th>2</th>\n",
              "      <td>1</td>\n",
              "    </tr>\n",
              "    <tr>\n",
              "      <th>3</th>\n",
              "      <td>1</td>\n",
              "    </tr>\n",
              "    <tr>\n",
              "      <th>4</th>\n",
              "      <td>1</td>\n",
              "    </tr>\n",
              "  </tbody>\n",
              "</table>\n",
              "</div>"
            ],
            "text/plain": [
              "   Label\n",
              "0      1\n",
              "1      1\n",
              "2      1\n",
              "3      1\n",
              "4      1"
            ]
          },
          "metadata": {
            "tags": []
          },
          "execution_count": 6
        }
      ]
    },
    {
      "cell_type": "code",
      "metadata": {
        "id": "j9eWE7uBa_sb",
        "colab_type": "code",
        "colab": {
          "base_uri": "https://localhost:8080/",
          "height": 51
        },
        "outputId": "5d11db12-61ad-4179-8d4f-419517ec8ca0"
      },
      "source": [
        "print(data_x.shape)\n",
        "print(data_y.shape)"
      ],
      "execution_count": 7,
      "outputs": [
        {
          "output_type": "stream",
          "text": [
            "(3988, 3)\n",
            "(3988, 1)\n"
          ],
          "name": "stdout"
        }
      ]
    },
    {
      "cell_type": "code",
      "metadata": {
        "id": "3Y5Y2L6UkhXZ",
        "colab_type": "code",
        "colab": {
          "base_uri": "https://localhost:8080/",
          "height": 136
        },
        "outputId": "8ee30abc-9da4-4a0d-bd78-b4c1950acac8"
      },
      "source": [
        "#train test split to form test from megaset\n",
        "from sklearn.model_selection import train_test_split\n",
        "\n",
        "X_train_temp, jru_test_x, y_train_temp, jru_test_y = train_test_split(data_x,data_y,test_size=0.1,random_state=12)\n",
        "print(X_train_temp.shape)\n",
        "print(jru_test_x.shape)\n",
        "\n",
        "# mega_test_x : Final testing file with statements\n",
        "# mega_test_y : Final testing file with ratings\n",
        "\n",
        "jru_train_x, jru_dev_x, jru_train_y, jru_dev_y = train_test_split(X_train_temp,y_train_temp,test_size=399,random_state=12)\n",
        "\n",
        "print(jru_train_x.shape)\n",
        "print(jru_dev_x.shape)\n",
        "\n",
        "# mega_train_x : Training file with statements\n",
        "# mega_train_y : Training file with ratings\n",
        "# mega_dev_x   : Development testing file with statements\n",
        "# mega_dev_y   : Development testing file with ratings\n",
        "print(type(jru_train_x))\n",
        "print(jru_train_y.shape)\n",
        "print(\"Final size of train/dev/test : \",jru_train_x.shape,\"/\",jru_dev_x.shape,\"/\",jru_test_x.shape)\n"
      ],
      "execution_count": 9,
      "outputs": [
        {
          "output_type": "stream",
          "text": [
            "(3589, 3)\n",
            "(399, 3)\n",
            "(3190, 3)\n",
            "(399, 3)\n",
            "<class 'pandas.core.frame.DataFrame'>\n",
            "(3190, 1)\n",
            "Final size of train/dev/test :  (3190, 3) / (399, 3) / (399, 3)\n"
          ],
          "name": "stdout"
        }
      ]
    },
    {
      "cell_type": "code",
      "metadata": {
        "id": "TO6pncZrlZs9",
        "colab_type": "code",
        "colab": {
          "base_uri": "https://localhost:8080/",
          "height": 34
        },
        "outputId": "a4eaaf66-0d92-4b9f-ff6e-4bb357bc4d41"
      },
      "source": [
        "jru_train_x.columns"
      ],
      "execution_count": 10,
      "outputs": [
        {
          "output_type": "execute_result",
          "data": {
            "text/plain": [
              "Index(['URLs', 'Headline', 'Body'], dtype='object')"
            ]
          },
          "metadata": {
            "tags": []
          },
          "execution_count": 10
        }
      ]
    },
    {
      "cell_type": "code",
      "metadata": {
        "id": "1XaaTT_blguS",
        "colab_type": "code",
        "colab": {
          "base_uri": "https://localhost:8080/",
          "height": 34
        },
        "outputId": "f2e04e17-da1b-4c2b-c516-ad6b4b5de0c5"
      },
      "source": [
        "jru_train_y.columns"
      ],
      "execution_count": 11,
      "outputs": [
        {
          "output_type": "execute_result",
          "data": {
            "text/plain": [
              "Index(['Label'], dtype='object')"
            ]
          },
          "metadata": {
            "tags": []
          },
          "execution_count": 11
        }
      ]
    },
    {
      "cell_type": "code",
      "metadata": {
        "id": "_1ePTB-Gl1BW",
        "colab_type": "code",
        "colab": {
          "base_uri": "https://localhost:8080/",
          "height": 204
        },
        "outputId": "42c8bb45-3b62-4892-d62f-6f4e4f499bbf"
      },
      "source": [
        "jru_train_x.head()"
      ],
      "execution_count": 12,
      "outputs": [
        {
          "output_type": "execute_result",
          "data": {
            "text/html": [
              "<div>\n",
              "<style scoped>\n",
              "    .dataframe tbody tr th:only-of-type {\n",
              "        vertical-align: middle;\n",
              "    }\n",
              "\n",
              "    .dataframe tbody tr th {\n",
              "        vertical-align: top;\n",
              "    }\n",
              "\n",
              "    .dataframe thead th {\n",
              "        text-align: right;\n",
              "    }\n",
              "</style>\n",
              "<table border=\"1\" class=\"dataframe\">\n",
              "  <thead>\n",
              "    <tr style=\"text-align: right;\">\n",
              "      <th></th>\n",
              "      <th>URLs</th>\n",
              "      <th>Headline</th>\n",
              "      <th>Body</th>\n",
              "    </tr>\n",
              "  </thead>\n",
              "  <tbody>\n",
              "    <tr>\n",
              "      <th>3452</th>\n",
              "      <td>https://www.reuters.com/article/us-asahi-group...</td>\n",
              "      <td>Asahi considering selling stake in Tsingtao Br...</td>\n",
              "      <td>FILE PHOTO: A pint of Asahi lager beer is seen...</td>\n",
              "    </tr>\n",
              "    <tr>\n",
              "      <th>3032</th>\n",
              "      <td>http://beforeitsnews.com/entertainment/2017/09...</td>\n",
              "      <td>Ashley J Announces her New Empowering and Ener...</td>\n",
              "      <td>Ashley J Announces her New Empowering and Ener...</td>\n",
              "    </tr>\n",
              "    <tr>\n",
              "      <th>1508</th>\n",
              "      <td>http://beforeitsnews.com/sports/2017/09/podcas...</td>\n",
              "      <td>Podcast - @Hokiesmash_ASD &amp; @TalkinACCSports r...</td>\n",
              "      <td>Podcast – @Hokiesmash_ASD &amp; @TalkinACCSports r...</td>\n",
              "    </tr>\n",
              "    <tr>\n",
              "      <th>3514</th>\n",
              "      <td>http://beforeitsnews.com/sports/2017/09/jetnat...</td>\n",
              "      <td>JetNation Tuesday Tidbits; Jets Maye Have Some...</td>\n",
              "      <td>JetNation Tuesday Tidbits; Jets Maye Have Some...</td>\n",
              "    </tr>\n",
              "    <tr>\n",
              "      <th>716</th>\n",
              "      <td>https://www.reuters.com/article/us-congo-elect...</td>\n",
              "      <td>No Congo election until mid-2019, vote commiss...</td>\n",
              "      <td>KINSHASA (Reuters) - An election to replace Co...</td>\n",
              "    </tr>\n",
              "  </tbody>\n",
              "</table>\n",
              "</div>"
            ],
            "text/plain": [
              "                                                   URLs  ...                                               Body\n",
              "3452  https://www.reuters.com/article/us-asahi-group...  ...  FILE PHOTO: A pint of Asahi lager beer is seen...\n",
              "3032  http://beforeitsnews.com/entertainment/2017/09...  ...  Ashley J Announces her New Empowering and Ener...\n",
              "1508  http://beforeitsnews.com/sports/2017/09/podcas...  ...  Podcast – @Hokiesmash_ASD & @TalkinACCSports r...\n",
              "3514  http://beforeitsnews.com/sports/2017/09/jetnat...  ...  JetNation Tuesday Tidbits; Jets Maye Have Some...\n",
              "716   https://www.reuters.com/article/us-congo-elect...  ...  KINSHASA (Reuters) - An election to replace Co...\n",
              "\n",
              "[5 rows x 3 columns]"
            ]
          },
          "metadata": {
            "tags": []
          },
          "execution_count": 12
        }
      ]
    },
    {
      "cell_type": "code",
      "metadata": {
        "id": "ga7DA7llmDWL",
        "colab_type": "code",
        "colab": {
          "base_uri": "https://localhost:8080/",
          "height": 34
        },
        "outputId": "0bcd85ff-b6a2-46fb-8f9e-4111e4326366"
      },
      "source": [
        "import tensorflow\n",
        "import pandas as pd\n",
        "import keras"
      ],
      "execution_count": 14,
      "outputs": [
        {
          "output_type": "stream",
          "text": [
            "Using TensorFlow backend.\n"
          ],
          "name": "stderr"
        }
      ]
    },
    {
      "cell_type": "code",
      "metadata": {
        "id": "N8kh8nohmLxm",
        "colab_type": "code",
        "colab": {
          "base_uri": "https://localhost:8080/",
          "height": 122
        },
        "outputId": "32638812-532a-481f-cc9c-96ba7ba71bdb"
      },
      "source": [
        "#tokenizing body attr\n",
        "from keras.preprocessing.text import Tokenizer\n",
        "\n",
        "tokenizer1 = Tokenizer()\n",
        "tokenizer1.fit_on_texts(jru_train_x.Body)\n",
        "\n",
        "\n",
        "em_jru_train_text = tokenizer1.texts_to_sequences(jru_train_x.Body)\n",
        "em_jru_test_text=tokenizer1.texts_to_sequences(jru_test_x.Body)\n",
        "em_jru_dev_text = tokenizer1.texts_to_sequences(jru_dev_x.Body)\n",
        "\n",
        "vocab_size = len(tokenizer1.word_index) + 1  # Adding 1 because of reserved 0 index\n",
        "print(vocab_size)\n",
        "#print(kag_train_x.title[2])\n",
        "print(len(em_jru_train_text))\n",
        "print(em_jru_train_text[3])\n",
        "print(len(em_jru_test_text))\n",
        "print(em_jru_test_text[3])"
      ],
      "execution_count": 16,
      "outputs": [
        {
          "output_type": "stream",
          "text": [
            "51220\n",
            "3190\n",
            "[2421, 304, 11943, 340, 6193, 23, 263, 11, 659, 12865, 4, 380, 144, 19, 112, 10, 227, 315, 69, 58, 521, 67, 104, 73, 5, 309, 1613, 2506, 3, 662, 2, 1056, 1022, 8, 5370, 626, 2, 383, 478, 152, 29, 1268, 68, 2, 336, 1100, 6, 14055, 51, 74, 126, 198, 27, 1, 142, 4, 1, 6379, 1350, 8224, 23, 42, 2304, 2290, 141, 58, 198, 681, 6, 899, 7850, 2894, 2035, 524, 5, 5371, 139, 88, 41, 3, 5107, 849, 19, 5372, 8, 2189, 1350, 2800, 6193, 672, 519, 2800, 6193, 475, 2762, 899, 1380, 93, 3233, 13, 1095, 1507, 354, 8, 1, 117, 10447, 24517, 1380, 107, 1340, 735, 14056, 524, 340, 97, 5107, 1614, 340, 5107, 10448, 237, 438, 90, 15, 155, 15, 340, 348, 4780, 1, 142, 4, 1090, 4598, 13, 24, 17438, 4886, 3006, 60, 1, 270, 58, 198, 3760, 121, 189, 187, 578, 1413, 2, 15556, 91, 121, 1350, 357, 105, 5517, 4509, 24, 1259, 28, 876, 4, 121, 243, 7280, 127, 7, 276, 68, 910, 31, 23, 2, 5669, 69, 1912, 2, 3693, 1323, 3, 1, 833, 4, 1, 926, 295, 9, 28, 2696, 976, 8, 252, 61, 109, 29, 23, 42, 219, 1894, 1096, 27, 1, 2045, 131, 564, 2107, 3694, 108, 1549, 2107, 6573, 2, 558, 187, 8, 296, 1296, 122, 7551, 8974, 33, 36, 74, 41, 2422, 980, 300, 78, 13, 24, 44, 117, 56, 9, 85, 80, 752, 123, 348, 33, 52, 3234, 19, 3326, 77, 93, 1, 1279, 154, 95, 65, 2, 2622, 1, 279, 2305, 17439, 33, 34, 22, 9893, 6, 2, 1, 2190, 3695, 4, 2622, 38, 492, 78, 74, 432, 5, 238, 19, 270, 252, 12, 1, 227, 7, 65, 113, 4, 1, 6379, 407, 196, 2144, 43, 8, 181, 1895, 4, 1, 493, 149, 5, 268, 16, 81, 375, 168, 56, 2801, 9421, 4991, 111, 38, 68, 3, 6380, 9894, 1389, 2, 142, 157, 6, 20, 260, 152, 29, 5, 172, 268, 9, 786, 7036, 33, 671, 9421, 5, 1097, 1724, 19, 128, 117, 2, 1663, 472, 9421, 379, 286, 589, 926, 3696, 4781, 1339, 278, 70, 213, 16, 6194, 8, 252, 926, 3696, 4781, 1339, 475, 5, 805, 4, 6194, 93, 1, 1508, 3, 56, 1221, 5826, 56, 13, 109, 160, 5, 1413, 25, 68, 2, 68, 14, 806, 2321, 15, 1, 2423, 106, 11180, 207, 76, 5670, 15, 5, 12866, 3, 1040, 6, 20, 41, 117, 43, 4, 1, 4425, 9, 1, 11180, 15557, 235, 161, 235, 9, 1, 331, 88, 6, 5, 2458, 527, 2507, 1811, 3279, 857, 6, 28, 2290, 782, 3, 719, 2, 23, 1996, 40, 125, 13, 222, 128, 82, 117, 1, 276, 790, 22, 18, 9, 20563, 14057, 33, 475, 157, 6, 1, 4887, 27, 24, 1796, 139, 51, 1959, 4279, 3154, 3, 2107, 6573, 6, 105, 2, 105, 366, 14, 1133, 100, 111, 2535, 9, 1, 340, 245, 15, 30, 3377, 2, 149, 8, 1350, 17440, 11181, 3693, 4782, 51, 28, 2696, 782, 93, 1, 1508, 296, 3591, 2650, 107, 2650, 9, 566, 9895, 1518, 3, 20, 1911, 6, 1280, 12867, 2347, 109, 22, 3592, 40, 1, 828, 354, 228, 87, 291, 294, 20564, 77, 156, 3435, 31, 52, 1248, 19, 11, 80, 1614, 340, 348, 8, 1, 2108, 745, 949, 599, 37, 594, 4, 8, 262, 153, 151, 167, 2421, 92, 90, 639, 713, 2421, 304, 11943, 340, 6193, 23, 263, 11, 659, 12865]\n",
            "399\n",
            "[8272, 24, 330, 42, 5, 302, 4, 2025, 50, 3, 29, 74, 9, 3775, 3, 506, 27, 4697, 271, 39, 1910, 790, 100, 484, 4, 123, 6432, 1424, 4, 4697, 30, 330, 1556, 2, 941, 43, 5, 4675, 3, 740, 820, 10, 74, 41, 38, 152, 5, 224, 4, 5, 3495, 1262, 33, 12, 6, 1, 2309, 8272, 127, 5, 3906, 1292, 6, 482, 1, 221, 6830, 5, 169, 706, 8, 20, 698, 2, 761, 3952, 2, 160, 14, 44, 25, 20, 3978, 152, 5, 8272, 156, 708, 168, 97, 2, 377, 71, 8, 191, 708, 168, 97, 2, 64, 412, 3045, 496, 8, 262, 31, 281, 57, 64, 2169, 1306, 4, 2538, 33, 447, 1712, 2514, 3866, 2231, 2426, 17, 1843, 6, 7463, 39, 161, 172, 3128, 2, 9251, 3, 2859, 66, 703, 791, 1319, 770, 1237, 1387, 792, 6, 890, 1347, 59, 421, 29, 2, 11566, 53, 31, 160, 99, 55, 699, 84, 1832, 2628, 1430, 6, 1, 71, 199, 160, 67, 869, 19, 9267, 34, 2832, 770, 1237, 8692, 6, 66, 1228, 39, 161, 2350, 2, 2402, 1654, 1945, 791, 2401, 2293, 1943, 1988, 95, 19, 1184, 115, 119, 662, 21, 849, 17, 119, 345, 181, 119, 345, 3, 1, 1467, 512, 860, 46, 1, 662, 21, 1947, 109, 518, 2149, 53, 380, 708, 8, 115, 662, 70, 4, 1, 119, 31, 21, 2351, 2, 109, 22, 1761, 119, 419, 81, 633, 402, 168, 2, 591, 99, 31, 52, 244, 119, 345, 2, 748, 1554, 2, 69, 119, 37, 315, 19, 592, 2, 69, 512, 202, 802, 71, 16, 2152, 119, 345, 221, 739, 119, 87, 1923, 221, 739, 119, 656, 1043, 695, 1, 896, 4, 119, 7, 806, 6, 81, 1713, 234, 56, 31, 48, 64, 2, 1034, 7, 119, 345, 330, 1816, 221, 739, 119, 8, 19, 625, 1344, 4, 54, 512, 31, 21, 8, 655, 1, 649, 820, 591, 38]\n"
          ],
          "name": "stdout"
        }
      ]
    },
    {
      "cell_type": "code",
      "metadata": {
        "id": "U8DR5T4lmxEO",
        "colab_type": "code",
        "colab": {
          "base_uri": "https://localhost:8080/",
          "height": 187
        },
        "outputId": "854063fe-7ba0-4521-d96c-3a5055225c63"
      },
      "source": [
        "#padding body attr\n",
        "from keras.preprocessing.sequence import pad_sequences\n",
        "import numpy as np\n",
        "maxlen_text =0\n",
        "for i in em_jru_train_text:\n",
        "    if(len(i)>maxlen_text):\n",
        "        maxlen_text=len(i)\n",
        "print(maxlen_text)\n",
        "\n",
        "#t=np.asarray(em_kag_train_X)\n",
        "\n",
        "em_jru_train_padtext = pad_sequences(em_jru_train_text, padding='post', maxlen=maxlen_text)\n",
        "em_jru_test_padtext = pad_sequences(em_jru_test_text, padding='post', maxlen=maxlen_text)\n",
        "em_jru_dev_padtext = pad_sequences(em_jru_dev_text, padding='post', maxlen=maxlen_text)\n",
        "\n",
        "print('train')\n",
        "print(len(em_jru_train_padtext))\n",
        "print(em_jru_train_padtext.shape)\n",
        "print('test')\n",
        "print(len(em_jru_test_padtext))\n",
        "print(em_jru_test_padtext.shape)\n",
        "print('dev')\n",
        "print(len(em_jru_dev_padtext))\n",
        "print(em_jru_dev_padtext.shape)"
      ],
      "execution_count": 17,
      "outputs": [
        {
          "output_type": "stream",
          "text": [
            "5653\n",
            "train\n",
            "3190\n",
            "(3190, 5653)\n",
            "test\n",
            "399\n",
            "(399, 5653)\n",
            "dev\n",
            "399\n",
            "(399, 5653)\n"
          ],
          "name": "stdout"
        }
      ]
    },
    {
      "cell_type": "code",
      "metadata": {
        "id": "OGOSXczPnfag",
        "colab_type": "code",
        "colab": {
          "base_uri": "https://localhost:8080/",
          "height": 85
        },
        "outputId": "4b4306b8-fada-4bdb-96eb-c9a38de2b9f2"
      },
      "source": [
        "#tokenizing headline attr\n",
        "from keras.preprocessing.text import Tokenizer\n",
        "\n",
        "tokenizer2 = Tokenizer()\n",
        "tokenizer2.fit_on_texts(jru_train_x.Headline)\n",
        "\n",
        "\n",
        "em_jru_train_headline = tokenizer2.texts_to_sequences(jru_train_x.Headline)\n",
        "em_jru_test_headline = tokenizer2.texts_to_sequences(jru_test_x.Headline)\n",
        "em_jru_dev_headline = tokenizer2.texts_to_sequences(jru_dev_x.Headline)\n",
        "\n",
        "vocab_size = len(tokenizer2.word_index) + 1  # Adding 1 because of reserved 0 index\n",
        "print(vocab_size)\n",
        "#print(kag_train_x.title[2])\n",
        "print(len(em_jru_train_headline))\n",
        "print(em_jru_train_headline[3])\n",
        "print(len(em_jru_test_headline))"
      ],
      "execution_count": 19,
      "outputs": [
        {
          "output_type": "stream",
          "text": [
            "7161\n",
            "3190\n",
            "[725, 295, 1806, 80, 2441, 89, 1344, 10, 529, 2442]\n",
            "399\n"
          ],
          "name": "stdout"
        }
      ]
    },
    {
      "cell_type": "code",
      "metadata": {
        "id": "uatHoR3PoWWH",
        "colab_type": "code",
        "colab": {
          "base_uri": "https://localhost:8080/",
          "height": 170
        },
        "outputId": "184ce697-d34c-47a9-e1ef-b3b74f0c0f3b"
      },
      "source": [
        "#padding headline attr\n",
        "from keras.preprocessing.sequence import pad_sequences\n",
        "import numpy as np\n",
        "maxlen_title =0\n",
        "for i in em_jru_train_headline:\n",
        "    if(len(i)>maxlen_title):\n",
        "        maxlen_title=len(i)\n",
        "print(maxlen_title)\n",
        "\n",
        "\n",
        "\n",
        "#t=np.asarray(em_kag_train_X)\n",
        "\n",
        "em_jru_train_padhead = pad_sequences(em_jru_train_headline, padding='post', maxlen=maxlen_title)\n",
        "em_jru_test_padhead = pad_sequences(em_jru_test_headline, padding='post', maxlen=maxlen_title)\n",
        "em_jru_dev_padhead = pad_sequences(em_jru_dev_headline, padding='post', maxlen=maxlen_title)\n",
        "\n",
        "print('train')\n",
        "print(len(em_jru_train_padhead))\n",
        "print(em_jru_train_padhead.shape)\n",
        "print('test')\n",
        "print(len(em_jru_test_padhead))\n",
        "print('dev')\n",
        "print(len(em_jru_dev_padhead))\n",
        "print(em_jru_dev_padhead.shape)\n"
      ],
      "execution_count": 21,
      "outputs": [
        {
          "output_type": "stream",
          "text": [
            "110\n",
            "train\n",
            "3190\n",
            "(3190, 110)\n",
            "test\n",
            "399\n",
            "dev\n",
            "399\n",
            "(399, 110)\n"
          ],
          "name": "stdout"
        }
      ]
    },
    {
      "cell_type": "code",
      "metadata": {
        "id": "9ZPkMjaxpESe",
        "colab_type": "code",
        "colab": {
          "base_uri": "https://localhost:8080/",
          "height": 85
        },
        "outputId": "31956718-d33f-44a9-e1fd-9ee14b4803b5"
      },
      "source": [
        "#tokenizing url attr\n",
        "from keras.preprocessing.text import Tokenizer\n",
        "\n",
        "tokenizer3 = Tokenizer()\n",
        "tokenizer3.fit_on_texts(jru_train_x.URLs)\n",
        "\n",
        "\n",
        "em_jru_train_url = tokenizer3.texts_to_sequences(jru_train_x.URLs)\n",
        "em_jru_test_url = tokenizer3.texts_to_sequences(jru_test_x.URLs)\n",
        "em_jru_dev_url = tokenizer3.texts_to_sequences(jru_dev_x.URLs)\n",
        "\n",
        "vocab_size = len(tokenizer3.word_index) + 1  # Adding 1 because of reserved 0 index\n",
        "print(vocab_size)\n",
        "#print(kag_train_x.title[2])\n",
        "print(len(em_jru_train_url))\n",
        "print(em_jru_train_url[3])\n",
        "print(em_jru_test_url[3])"
      ],
      "execution_count": 22,
      "outputs": [
        {
          "output_type": "stream",
          "text": [
            "7936\n",
            "3190\n",
            "[3, 6, 1, 13, 2, 10, 753, 414, 1866, 110, 2508, 275, 1395, 42, 754, 2509, 2510, 9]\n",
            "[3, 53, 1, 218, 1092, 32, 66, 5494, 35, 124, 690, 219, 386, 147, 1797, 980, 166, 2593, 21, 20, 5946]\n"
          ],
          "name": "stdout"
        }
      ]
    },
    {
      "cell_type": "code",
      "metadata": {
        "id": "n1vQrzYxpqlf",
        "colab_type": "code",
        "colab": {
          "base_uri": "https://localhost:8080/",
          "height": 255
        },
        "outputId": "d316643b-bfe4-4542-dd54-62bf833b871d"
      },
      "source": [
        "#padding url attr\n",
        "from keras.preprocessing.sequence import pad_sequences\n",
        "import numpy as np\n",
        "maxlen_aut =0\n",
        "for i in em_jru_train_url:\n",
        "    if(len(i)>maxlen_aut):\n",
        "        maxlen_aut=len(i)\n",
        "print(maxlen_aut)\n",
        "\n",
        "\n",
        "#t=np.asarray(em_kag_train_X)\n",
        "\n",
        "em_jru_train_padurl = pad_sequences(em_jru_train_url, padding='post', maxlen=maxlen_aut)\n",
        "em_jru_test_padurl = pad_sequences(em_jru_test_url, padding='post', maxlen=maxlen_aut)\n",
        "em_jru_dev_padurl = pad_sequences(em_jru_dev_url, padding='post', maxlen=maxlen_aut)\n",
        "\n",
        "print('train')\n",
        "print(len(em_jru_train_padurl))\n",
        "print(em_jru_train_padurl.shape)\n",
        "print('test')\n",
        "print(len(em_jru_test_padurl))\n",
        "print(em_jru_test_padurl[2,:])\n",
        "print('dev')\n",
        "print(len(em_jru_dev_padurl))\n",
        "print(em_jru_dev_padurl.shape)"
      ],
      "execution_count": 24,
      "outputs": [
        {
          "output_type": "stream",
          "text": [
            "65\n",
            "train\n",
            "3190\n",
            "(3190, 65)\n",
            "test\n",
            "399\n",
            "[   3    6    1   14   15   11    2    5   90   91   84  206   26  493\n",
            "  278    5    2 2015    7    0    0    0    0    0    0    0    0    0\n",
            "    0    0    0    0    0    0    0    0    0    0    0    0    0    0\n",
            "    0    0    0    0    0    0    0    0    0    0    0    0    0    0\n",
            "    0    0    0    0    0    0    0    0    0]\n",
            "dev\n",
            "399\n",
            "(399, 65)\n"
          ],
          "name": "stdout"
        }
      ]
    },
    {
      "cell_type": "code",
      "metadata": {
        "id": "n47aLInGqc3L",
        "colab_type": "code",
        "colab": {}
      },
      "source": [
        "import matplotlib.pyplot as plt\n",
        "plt.style.use('ggplot')\n",
        "\n",
        "def plot_history(history):\n",
        "    acc = history.history['accuracy']\n",
        "    val_acc = history.history['val_accuracy']\n",
        "    loss = history.history['loss']\n",
        "    val_loss = history.history['val_loss']\n",
        "    x = range(1, len(acc) + 1)\n",
        "\n",
        "    plt.figure(figsize=(12, 5))\n",
        "    plt.subplot(1, 2, 1)\n",
        "    plt.plot(x, acc, 'b', label='Training acc')\n",
        "    plt.plot(x, val_acc, 'r', label='Validation acc')\n",
        "    plt.title('Training and validation accuracy')\n",
        "    plt.legend()\n",
        "    plt.subplot(1, 2, 2)\n",
        "    plt.plot(x, loss, 'b', label='Training loss')\n",
        "    plt.plot(x, val_loss, 'r', label='Validation loss')\n",
        "    plt.title('Training and validation loss')\n",
        "    plt.legend()"
      ],
      "execution_count": 28,
      "outputs": []
    },
    {
      "cell_type": "code",
      "metadata": {
        "id": "TWE0kOD1qic6",
        "colab_type": "code",
        "colab": {
          "base_uri": "https://localhost:8080/",
          "height": 646
        },
        "outputId": "e5d30409-68b0-4095-ea77-370a1b897da8"
      },
      "source": [
        "#with kernel and bias regularizer \n",
        "#more agressive\n",
        "#model 1\n",
        "#applied for test data also (best among other models)\n",
        "from keras.layers import Embedding\n",
        "from keras.layers import concatenate\n",
        "from keras.layers import Flatten\n",
        "from keras.layers import Input, Dense\n",
        "from keras.models import Model\n",
        "from keras.layers import GlobalMaxPool1D\n",
        "from keras.regularizers import l2\n",
        "\n",
        "embedding_dim = 25\n",
        "h1=int(2/3*75)\n",
        "h2=int(2/3*h1)\n",
        "print(h1,h2)\n",
        "\n",
        "url_in = Input(shape=(65,), name='url_in')\n",
        "head_in = Input(shape=(110,), name='head_in')\n",
        "body_in = Input(shape=(5653,), name='body_in')\n",
        "\n",
        "url_embed = Embedding(output_dim=embedding_dim, input_dim=51220, input_length=65)(url_in)\n",
        "head_embed = Embedding(output_dim=embedding_dim, input_dim=51220, input_length=110)(head_in)\n",
        "body_embed = Embedding(output_dim=embedding_dim, input_dim=51220, input_length=5653)(body_in)\n",
        "\n",
        "url_pool = GlobalMaxPool1D()(url_embed)\n",
        "head_pool = GlobalMaxPool1D()(head_embed)\n",
        "body_pool = GlobalMaxPool1D()(body_embed)\n",
        "\n",
        "all_d = concatenate([url_pool, head_pool,body_pool])\n",
        "\n",
        "d1 = Dense(h1, activation='relu',kernel_regularizer=l2(0.01), bias_regularizer=l2(0.01))(all_d)\n",
        "d2 = Dense(h2, activation='relu',kernel_regularizer=l2(0.01), bias_regularizer=l2(0.01))(d1)\n",
        "\n",
        "op = Dense(1, activation='sigmoid', name='op')(d2)\n",
        "\n",
        "\n",
        "\n",
        "\n",
        "model = Model(inputs=[url_in,head_in,body_in], outputs=[op])\n",
        "\n",
        "model.summary()"
      ],
      "execution_count": 26,
      "outputs": [
        {
          "output_type": "stream",
          "text": [
            "50 33\n",
            "Model: \"model_1\"\n",
            "__________________________________________________________________________________________________\n",
            "Layer (type)                    Output Shape         Param #     Connected to                     \n",
            "==================================================================================================\n",
            "url_in (InputLayer)             (None, 65)           0                                            \n",
            "__________________________________________________________________________________________________\n",
            "head_in (InputLayer)            (None, 110)          0                                            \n",
            "__________________________________________________________________________________________________\n",
            "body_in (InputLayer)            (None, 5653)         0                                            \n",
            "__________________________________________________________________________________________________\n",
            "embedding_1 (Embedding)         (None, 65, 25)       1280500     url_in[0][0]                     \n",
            "__________________________________________________________________________________________________\n",
            "embedding_2 (Embedding)         (None, 110, 25)      1280500     head_in[0][0]                    \n",
            "__________________________________________________________________________________________________\n",
            "embedding_3 (Embedding)         (None, 5653, 25)     1280500     body_in[0][0]                    \n",
            "__________________________________________________________________________________________________\n",
            "global_max_pooling1d_1 (GlobalM (None, 25)           0           embedding_1[0][0]                \n",
            "__________________________________________________________________________________________________\n",
            "global_max_pooling1d_2 (GlobalM (None, 25)           0           embedding_2[0][0]                \n",
            "__________________________________________________________________________________________________\n",
            "global_max_pooling1d_3 (GlobalM (None, 25)           0           embedding_3[0][0]                \n",
            "__________________________________________________________________________________________________\n",
            "concatenate_1 (Concatenate)     (None, 75)           0           global_max_pooling1d_1[0][0]     \n",
            "                                                                 global_max_pooling1d_2[0][0]     \n",
            "                                                                 global_max_pooling1d_3[0][0]     \n",
            "__________________________________________________________________________________________________\n",
            "dense_1 (Dense)                 (None, 50)           3800        concatenate_1[0][0]              \n",
            "__________________________________________________________________________________________________\n",
            "dense_2 (Dense)                 (None, 33)           1683        dense_1[0][0]                    \n",
            "__________________________________________________________________________________________________\n",
            "op (Dense)                      (None, 1)            34          dense_2[0][0]                    \n",
            "==================================================================================================\n",
            "Total params: 3,847,017\n",
            "Trainable params: 3,847,017\n",
            "Non-trainable params: 0\n",
            "__________________________________________________________________________________________________\n"
          ],
          "name": "stdout"
        }
      ]
    },
    {
      "cell_type": "code",
      "metadata": {
        "id": "ozj45iR-tkbH",
        "colab_type": "code",
        "colab": {
          "base_uri": "https://localhost:8080/",
          "height": 578
        },
        "outputId": "5440f120-43e1-4cf8-85be-337702c0804d"
      },
      "source": [
        "model.compile(optimizer='adam',\n",
        "              loss='binary_crossentropy',metrics=['accuracy'])\n",
        "h=model.fit({'url_in': em_jru_train_padurl, 'head_in': em_jru_train_padhead, 'body_in':em_jru_train_padtext},{'op': jru_train_y},\n",
        "          epochs=5, batch_size=32,validation_data=({'url_in': em_jru_test_padurl, 'head_in': em_jru_test_padhead, 'body_in':em_jru_test_padtext},{'op': jru_test_y}))\n",
        "plot_history(h)"
      ],
      "execution_count": 31,
      "outputs": [
        {
          "output_type": "stream",
          "text": [
            "/usr/local/lib/python3.6/dist-packages/tensorflow/python/framework/indexed_slices.py:434: UserWarning: Converting sparse IndexedSlices to a dense Tensor of unknown shape. This may consume a large amount of memory.\n",
            "  \"Converting sparse IndexedSlices to a dense Tensor of unknown shape. \"\n"
          ],
          "name": "stderr"
        },
        {
          "output_type": "stream",
          "text": [
            "Train on 3190 samples, validate on 399 samples\n",
            "Epoch 1/5\n",
            "3190/3190 [==============================] - 7s 2ms/step - loss: 0.0132 - accuracy: 1.0000 - val_loss: 0.0145 - val_accuracy: 1.0000\n",
            "Epoch 2/5\n",
            "3190/3190 [==============================] - 7s 2ms/step - loss: 0.0119 - accuracy: 1.0000 - val_loss: 0.0135 - val_accuracy: 1.0000\n",
            "Epoch 3/5\n",
            "3190/3190 [==============================] - 7s 2ms/step - loss: 0.0109 - accuracy: 1.0000 - val_loss: 0.0123 - val_accuracy: 1.0000\n",
            "Epoch 4/5\n",
            "3190/3190 [==============================] - 7s 2ms/step - loss: 0.0102 - accuracy: 1.0000 - val_loss: 0.0117 - val_accuracy: 1.0000\n",
            "Epoch 5/5\n",
            "3190/3190 [==============================] - 7s 2ms/step - loss: 0.0095 - accuracy: 1.0000 - val_loss: 0.0111 - val_accuracy: 1.0000\n"
          ],
          "name": "stdout"
        },
        {
          "output_type": "display_data",
          "data": {
            "image/png": "[encoded data removed]",
            "text/plain": [
              "<Figure size 864x360 with 2 Axes>"
            ]
          },
          "metadata": {
            "tags": []
          }
        }
      ]
    }
  ]
}