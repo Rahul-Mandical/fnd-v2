{
 "cells": [
  {
   "cell_type": "code",
   "execution_count": 1,
   "metadata": {},
   "outputs": [
    {
     "data": {
      "text/plain": [
       "'\\nTODO - Naive Bayes and pac on newsfiles datasets\\n\\n'"
      ]
     },
     "execution_count": 1,
     "metadata": {},
     "output_type": "execute_result"
    }
   ],
   "source": [
    "\"\"\"\n",
    "TODO - Naive Bayes and pac on newsfiles datasets\n",
    "\n",
    "\"\"\""
   ]
  },
  {
   "cell_type": "code",
   "execution_count": 2,
   "metadata": {},
   "outputs": [
    {
     "name": "stdout",
     "output_type": "stream",
     "text": [
      "importing Jupyter notebook from auto_naive.ipynb\n",
      "importing Jupyter notebook from auto_pac.ipynb\n"
     ]
    }
   ],
   "source": [
    "import pandas as pd\n",
    "import numpy as np\n",
    "import import_ipynb\n",
    "import auto_naive as an\n",
    "import auto_pac as ap"
   ]
  },
  {
   "cell_type": "code",
   "execution_count": 3,
   "metadata": {},
   "outputs": [],
   "source": [
    "news_train=pd.read_csv('datasets/newsfiles/fulltrain.csv',names=['label','Statement'])\n",
    "news_test=pd.read_csv('datasets/newsfiles/newsfiles_test.csv',names=['label','Statement'])"
   ]
  },
  {
   "cell_type": "code",
   "execution_count": 4,
   "metadata": {},
   "outputs": [
    {
     "name": "stdout",
     "output_type": "stream",
     "text": [
      "(48854, 2)\n",
      "(3000, 2)\n"
     ]
    }
   ],
   "source": [
    "print(news_train.shape)\n",
    "print(news_test.shape)"
   ]
  },
  {
   "cell_type": "code",
   "execution_count": 5,
   "metadata": {},
   "outputs": [],
   "source": [
    "#Ratings are as follows 1:\"Satire\",2:\"Hoax\",3:\"Propaganda\",4:\"Trusted\"\n",
    "#Change Hoax to False(0) and Trusted to True(1) and remove Satire and Propaganda\n",
    "\n",
    "def nf_ratechange(x):\n",
    "    h=0\n",
    "    for i in x.label:\n",
    "        if i==2:\n",
    "            x.at[h,'label']= 0\n",
    "            \n",
    "        elif i==4:\n",
    "            x.at[h,'label']= 1\n",
    "            \n",
    "        elif i==1 or i==3:\n",
    "            x.drop([h],inplace=True)\n",
    "        h=h+1"
   ]
  },
  {
   "cell_type": "code",
   "execution_count": 6,
   "metadata": {},
   "outputs": [],
   "source": [
    "nf_ratechange(news_train)"
   ]
  },
  {
   "cell_type": "code",
   "execution_count": 7,
   "metadata": {},
   "outputs": [],
   "source": [
    "nf_ratechange(news_test)"
   ]
  },
  {
   "cell_type": "code",
   "execution_count": 8,
   "metadata": {},
   "outputs": [
    {
     "name": "stdout",
     "output_type": "stream",
     "text": [
      "(16937, 2)\n",
      "(1500, 2)\n"
     ]
    }
   ],
   "source": [
    "print(news_train.shape)\n",
    "print(news_test.shape)"
   ]
  },
  {
   "cell_type": "code",
   "execution_count": 9,
   "metadata": {},
   "outputs": [],
   "source": [
    "news=pd.concat([news_train,news_test])"
   ]
  },
  {
   "cell_type": "code",
   "execution_count": 10,
   "metadata": {},
   "outputs": [
    {
     "data": {
      "text/plain": [
       "(18437, 2)"
      ]
     },
     "execution_count": 10,
     "metadata": {},
     "output_type": "execute_result"
    }
   ],
   "source": [
    "news.shape"
   ]
  },
  {
   "cell_type": "code",
   "execution_count": 11,
   "metadata": {},
   "outputs": [],
   "source": [
    "news_x=news.Statement\n",
    "news_y=news.label"
   ]
  },
  {
   "cell_type": "code",
   "execution_count": 12,
   "metadata": {},
   "outputs": [
    {
     "name": "stdout",
     "output_type": "stream",
     "text": [
      "(18437,) (18437,)\n"
     ]
    }
   ],
   "source": [
    "print(news_x.shape,news_y.shape)"
   ]
  },
  {
   "cell_type": "code",
   "execution_count": 13,
   "metadata": {},
   "outputs": [
    {
     "name": "stdout",
     "output_type": "stream",
     "text": [
      "Splitting\n",
      "Final size of train/test : 14749 / 3688\n",
      "train_x : (14749,)\n",
      "train_y : (14749,)\n",
      "test_x : (3688,)\n",
      "test_y : (3688,)\n",
      "Vectorizing\n",
      "test_x : (3688,)\n",
      "train_x : (14749,)\n",
      "tfidf_train_x :  (14749, 87642)\n",
      "tfidf_test_x :  (3688, 87642)\n",
      "model building\n",
      "begin grid\n"
     ]
    },
    {
     "name": "stderr",
     "output_type": "stream",
     "text": [
      "C:\\Users\\Rahul\\Anaconda3\\lib\\site-packages\\sklearn\\model_selection\\_split.py:1978: FutureWarning: The default value of cv will change from 3 to 5 in version 0.22. Specify it explicitly to silence this warning.\n",
      "  warnings.warn(CV_WARNING, FutureWarning)\n"
     ]
    },
    {
     "name": "stdout",
     "output_type": "stream",
     "text": [
      "grid score 0.9747779510475286\n",
      "grid alpha 0.005\n",
      "Alpha: 0.005 test_Score: 0.97804 train_score: 0.99654\n",
      "training confusion matrix\n",
      "[[6095   14]\n",
      " [  37 8603]]\n",
      "testing confusion matrix\n",
      "[[1527   56]\n",
      " [  25 2080]]\n",
      "------------------------------------------\n"
     ]
    }
   ],
   "source": [
    "an.navie_bayes_tfidf_model(news_x,news_y)"
   ]
  },
  {
   "cell_type": "code",
   "execution_count": 14,
   "metadata": {},
   "outputs": [
    {
     "name": "stdout",
     "output_type": "stream",
     "text": [
      "Splitting\n",
      "Final size of train/test : 14749 / 3688\n",
      "Vectorizing\n",
      "model building\n",
      "begin grid\n"
     ]
    },
    {
     "name": "stderr",
     "output_type": "stream",
     "text": [
      "C:\\Users\\Rahul\\Anaconda3\\lib\\site-packages\\sklearn\\model_selection\\_split.py:1978: FutureWarning: The default value of cv will change from 3 to 5 in version 0.22. Specify it explicitly to silence this warning.\n",
      "  warnings.warn(CV_WARNING, FutureWarning)\n"
     ]
    },
    {
     "name": "stdout",
     "output_type": "stream",
     "text": [
      "grid score 0.9791172282866635\n",
      "grid alpha 0.002\n",
      "Alpha: 0.002 test_Score: 0.98238 train_score: 0.99505\n",
      "training confusion matrix\n",
      "[[6068   41]\n",
      " [  32 8608]]\n",
      "testing confusion matrix\n",
      "[[1531   52]\n",
      " [  13 2092]]\n",
      "------------------------------------------\n"
     ]
    }
   ],
   "source": [
    "an.navie_bayes_hash_model(news_x,news_y)"
   ]
  },
  {
   "cell_type": "code",
   "execution_count": 15,
   "metadata": {},
   "outputs": [
    {
     "name": "stdout",
     "output_type": "stream",
     "text": [
      "Final size of train/test : 14749 / 3688\n",
      "train accuracy: 1.0\n",
      "train confusion matrix\n",
      "[[6109    0]\n",
      " [   0 8640]]\n",
      "test accuracy: 0.9902386117136659\n",
      "test confusion matrix\n",
      "[[1557   26]\n",
      " [  10 2095]]\n"
     ]
    }
   ],
   "source": [
    "ap.pac_tfidf_model(news_x,news_y,stop=False)"
   ]
  },
  {
   "cell_type": "code",
   "execution_count": 16,
   "metadata": {},
   "outputs": [
    {
     "name": "stdout",
     "output_type": "stream",
     "text": [
      "Final size of train/test : 14749 / 3688\n",
      "train accuracy: 1.0\n",
      "train confusion matrix\n",
      "[[6109    0]\n",
      " [   0 8640]]\n",
      "test accuracy: 0.9886117136659436\n",
      "test confusion matrix\n",
      "[[1557   26]\n",
      " [  16 2089]]\n"
     ]
    }
   ],
   "source": [
    "ap.pac_hash_model(news_x,news_y,stop=False)"
   ]
  },
  {
   "cell_type": "code",
   "execution_count": 17,
   "metadata": {},
   "outputs": [
    {
     "name": "stdout",
     "output_type": "stream",
     "text": [
      "Final size of train/test : 14749 / 3688\n",
      "Early Stopping is being used\n",
      "train accuracy: 0.9989151806902162\n",
      "train confusion matrix\n",
      "[[6102    7]\n",
      " [   9 8631]]\n",
      "test accuracy: 0.9902386117136659\n",
      "test confusion matrix\n",
      "[[1557   26]\n",
      " [  10 2095]]\n"
     ]
    }
   ],
   "source": [
    "ap.pac_tfidf_model(news_x,news_y,stop=True)"
   ]
  },
  {
   "cell_type": "code",
   "execution_count": 18,
   "metadata": {},
   "outputs": [
    {
     "name": "stdout",
     "output_type": "stream",
     "text": [
      "Final size of train/test : 14749 / 3688\n",
      "Early Stopping is being used\n",
      "train accuracy: 0.9987795782764933\n",
      "train confusion matrix\n",
      "[[6099   10]\n",
      " [   8 8632]]\n",
      "test accuracy: 0.988882863340564\n",
      "test confusion matrix\n",
      "[[1557   26]\n",
      " [  15 2090]]\n"
     ]
    }
   ],
   "source": [
    "ap.pac_hash_model(news_x,news_y,stop=True)"
   ]
  }
 ],
 "metadata": {
  "kernelspec": {
   "display_name": "Python 3",
   "language": "python",
   "name": "python3"
  },
  "language_info": {
   "codemirror_mode": {
    "name": "ipython",
    "version": 3
   },
   "file_extension": ".py",
   "mimetype": "text/x-python",
   "name": "python",
   "nbconvert_exporter": "python",
   "pygments_lexer": "ipython3",
   "version": "3.7.4"
  }
 },
 "nbformat": 4,
 "nbformat_minor": 2
}
