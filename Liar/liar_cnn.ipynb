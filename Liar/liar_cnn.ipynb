{
 "cells": [
  {
   "cell_type": "code",
   "execution_count": 5,
   "metadata": {
    "colab": {
     "base_uri": "https://localhost:8080/",
     "height": 170
    },
    "colab_type": "code",
    "id": "spiRzMTbajF0",
    "outputId": "4884d907-d7c9-472e-af0d-a57669c3b556"
   },
   "outputs": [
    {
     "name": "stdout",
     "output_type": "stream",
     "text": [
      "<class 'pandas.core.frame.DataFrame'>\n",
      "   label                                          statement  \\\n",
      "0      0  Says the Annies List political group supports ...   \n",
      "1      0  When did the decline of coal start? It started...   \n",
      "2      0  Hillary Clinton agrees with John McCain \"by vo...   \n",
      "3      0  The Chicago Bears have had more starting quart...   \n",
      "4      0  I'm the only person on this stage who has work...   \n",
      "\n",
      "                              subject         speaker  \\\n",
      "0                            abortion    dwayne-bohac   \n",
      "1  energy,history,job-accomplishments  scott-surovell   \n",
      "2                      foreign-policy    barack-obama   \n",
      "3                           education       robin-vos   \n",
      "4                              ethics    barack-obama   \n",
      "\n",
      "            speaker_job_title state_info       party  \\\n",
      "0        State representative      Texas  republican   \n",
      "1              State delegate   Virginia    democrat   \n",
      "2                   President   Illinois    democrat   \n",
      "3  Wisconsin Assembly speaker  Wisconsin  republican   \n",
      "4                   President   Illinois    democrat   \n",
      "\n",
      "                                    context  \n",
      "0                                  a mailer  \n",
      "1                           a floor speech.  \n",
      "2                                    Denver  \n",
      "3                 a an online opinion-piece  \n",
      "4  a Democratic debate in Philadelphia, Pa.  \n"
     ]
    }
   ],
   "source": [
    "import io \n",
    "import pandas as pd\n",
    "data=pd.read_csv('liar_data.csv')\n",
    "\n",
    "print(type(data))\n",
    "print(data.head())"
   ]
  },
  {
   "cell_type": "code",
   "execution_count": null,
   "metadata": {},
   "outputs": [],
   "source": []
  },
  {
   "cell_type": "code",
   "execution_count": 6,
   "metadata": {},
   "outputs": [
    {
     "data": {
      "text/html": [
       "<div>\n",
       "<style scoped>\n",
       "    .dataframe tbody tr th:only-of-type {\n",
       "        vertical-align: middle;\n",
       "    }\n",
       "\n",
       "    .dataframe tbody tr th {\n",
       "        vertical-align: top;\n",
       "    }\n",
       "\n",
       "    .dataframe thead th {\n",
       "        text-align: right;\n",
       "    }\n",
       "</style>\n",
       "<table border=\"1\" class=\"dataframe\">\n",
       "  <thead>\n",
       "    <tr style=\"text-align: right;\">\n",
       "      <th></th>\n",
       "      <th>label</th>\n",
       "      <th>statement</th>\n",
       "      <th>subject</th>\n",
       "      <th>speaker</th>\n",
       "      <th>speaker_job_title</th>\n",
       "      <th>state_info</th>\n",
       "      <th>party</th>\n",
       "      <th>context</th>\n",
       "    </tr>\n",
       "  </thead>\n",
       "  <tbody>\n",
       "    <tr>\n",
       "      <td>0</td>\n",
       "      <td>0</td>\n",
       "      <td>Says the Annies List political group supports ...</td>\n",
       "      <td>abortion</td>\n",
       "      <td>dwayne-bohac</td>\n",
       "      <td>State representative</td>\n",
       "      <td>Texas</td>\n",
       "      <td>republican</td>\n",
       "      <td>a mailer</td>\n",
       "    </tr>\n",
       "    <tr>\n",
       "      <td>1</td>\n",
       "      <td>0</td>\n",
       "      <td>When did the decline of coal start? It started...</td>\n",
       "      <td>energy,history,job-accomplishments</td>\n",
       "      <td>scott-surovell</td>\n",
       "      <td>State delegate</td>\n",
       "      <td>Virginia</td>\n",
       "      <td>democrat</td>\n",
       "      <td>a floor speech.</td>\n",
       "    </tr>\n",
       "    <tr>\n",
       "      <td>2</td>\n",
       "      <td>0</td>\n",
       "      <td>Hillary Clinton agrees with John McCain \"by vo...</td>\n",
       "      <td>foreign-policy</td>\n",
       "      <td>barack-obama</td>\n",
       "      <td>President</td>\n",
       "      <td>Illinois</td>\n",
       "      <td>democrat</td>\n",
       "      <td>Denver</td>\n",
       "    </tr>\n",
       "    <tr>\n",
       "      <td>3</td>\n",
       "      <td>0</td>\n",
       "      <td>The Chicago Bears have had more starting quart...</td>\n",
       "      <td>education</td>\n",
       "      <td>robin-vos</td>\n",
       "      <td>Wisconsin Assembly speaker</td>\n",
       "      <td>Wisconsin</td>\n",
       "      <td>republican</td>\n",
       "      <td>a an online opinion-piece</td>\n",
       "    </tr>\n",
       "    <tr>\n",
       "      <td>4</td>\n",
       "      <td>0</td>\n",
       "      <td>I'm the only person on this stage who has work...</td>\n",
       "      <td>ethics</td>\n",
       "      <td>barack-obama</td>\n",
       "      <td>President</td>\n",
       "      <td>Illinois</td>\n",
       "      <td>democrat</td>\n",
       "      <td>a Democratic debate in Philadelphia, Pa.</td>\n",
       "    </tr>\n",
       "    <tr>\n",
       "      <td>...</td>\n",
       "      <td>...</td>\n",
       "      <td>...</td>\n",
       "      <td>...</td>\n",
       "      <td>...</td>\n",
       "      <td>...</td>\n",
       "      <td>...</td>\n",
       "      <td>...</td>\n",
       "      <td>...</td>\n",
       "    </tr>\n",
       "    <tr>\n",
       "      <td>8433</td>\n",
       "      <td>1</td>\n",
       "      <td>Says U.S. Rep. Charles Bass wants to privatize...</td>\n",
       "      <td>social-security</td>\n",
       "      <td>ann-mclane-kuster</td>\n",
       "      <td>Attorney</td>\n",
       "      <td>New Hampshire</td>\n",
       "      <td>democrat</td>\n",
       "      <td>an ad, “Janice,” released September 6, 2012</td>\n",
       "    </tr>\n",
       "    <tr>\n",
       "      <td>8434</td>\n",
       "      <td>0</td>\n",
       "      <td>In the past two years, Democrats have spent mo...</td>\n",
       "      <td>federal-budget,history</td>\n",
       "      <td>eric-cantor</td>\n",
       "      <td>House Majority Leader</td>\n",
       "      <td>Virginia</td>\n",
       "      <td>republican</td>\n",
       "      <td>an interview on Comedy Central's Daily Show wi...</td>\n",
       "    </tr>\n",
       "    <tr>\n",
       "      <td>8435</td>\n",
       "      <td>0</td>\n",
       "      <td>For the first time in more than a decade, impo...</td>\n",
       "      <td>energy,oil-spill,trade</td>\n",
       "      <td>barack-obama</td>\n",
       "      <td>President</td>\n",
       "      <td>Illinois</td>\n",
       "      <td>democrat</td>\n",
       "      <td>a press conference</td>\n",
       "    </tr>\n",
       "    <tr>\n",
       "      <td>8436</td>\n",
       "      <td>0</td>\n",
       "      <td>Says Donald Trump has bankrupted his companies...</td>\n",
       "      <td>candidates-biography</td>\n",
       "      <td>hillary-clinton</td>\n",
       "      <td>Presidential candidate</td>\n",
       "      <td>New York</td>\n",
       "      <td>democrat</td>\n",
       "      <td>a speech on the economy</td>\n",
       "    </tr>\n",
       "    <tr>\n",
       "      <td>8437</td>\n",
       "      <td>1</td>\n",
       "      <td>No one claims the report vindicating New Jerse...</td>\n",
       "      <td>candidates-biography,infrastructure</td>\n",
       "      <td>rudy-giuliani</td>\n",
       "      <td>Attorney</td>\n",
       "      <td>New York</td>\n",
       "      <td>republican</td>\n",
       "      <td>comments on NBC's \"Meet the Press\"</td>\n",
       "    </tr>\n",
       "  </tbody>\n",
       "</table>\n",
       "<p>8438 rows × 8 columns</p>\n",
       "</div>"
      ],
      "text/plain": [
       "      label                                          statement  \\\n",
       "0         0  Says the Annies List political group supports ...   \n",
       "1         0  When did the decline of coal start? It started...   \n",
       "2         0  Hillary Clinton agrees with John McCain \"by vo...   \n",
       "3         0  The Chicago Bears have had more starting quart...   \n",
       "4         0  I'm the only person on this stage who has work...   \n",
       "...     ...                                                ...   \n",
       "8433      1  Says U.S. Rep. Charles Bass wants to privatize...   \n",
       "8434      0  In the past two years, Democrats have spent mo...   \n",
       "8435      0  For the first time in more than a decade, impo...   \n",
       "8436      0  Says Donald Trump has bankrupted his companies...   \n",
       "8437      1  No one claims the report vindicating New Jerse...   \n",
       "\n",
       "                                  subject            speaker  \\\n",
       "0                                abortion       dwayne-bohac   \n",
       "1      energy,history,job-accomplishments     scott-surovell   \n",
       "2                          foreign-policy       barack-obama   \n",
       "3                               education          robin-vos   \n",
       "4                                  ethics       barack-obama   \n",
       "...                                   ...                ...   \n",
       "8433                      social-security  ann-mclane-kuster   \n",
       "8434               federal-budget,history        eric-cantor   \n",
       "8435               energy,oil-spill,trade       barack-obama   \n",
       "8436                 candidates-biography    hillary-clinton   \n",
       "8437  candidates-biography,infrastructure      rudy-giuliani   \n",
       "\n",
       "               speaker_job_title     state_info       party  \\\n",
       "0           State representative          Texas  republican   \n",
       "1                 State delegate       Virginia    democrat   \n",
       "2                      President       Illinois    democrat   \n",
       "3     Wisconsin Assembly speaker      Wisconsin  republican   \n",
       "4                      President       Illinois    democrat   \n",
       "...                          ...            ...         ...   \n",
       "8433                    Attorney  New Hampshire    democrat   \n",
       "8434       House Majority Leader       Virginia  republican   \n",
       "8435                   President       Illinois    democrat   \n",
       "8436      Presidential candidate       New York    democrat   \n",
       "8437                    Attorney       New York  republican   \n",
       "\n",
       "                                                context  \n",
       "0                                              a mailer  \n",
       "1                                       a floor speech.  \n",
       "2                                                Denver  \n",
       "3                             a an online opinion-piece  \n",
       "4              a Democratic debate in Philadelphia, Pa.  \n",
       "...                                                 ...  \n",
       "8433        an ad, “Janice,” released September 6, 2012  \n",
       "8434  an interview on Comedy Central's Daily Show wi...  \n",
       "8435                                 a press conference  \n",
       "8436                            a speech on the economy  \n",
       "8437                 comments on NBC's \"Meet the Press\"  \n",
       "\n",
       "[8438 rows x 8 columns]"
      ]
     },
     "execution_count": 6,
     "metadata": {},
     "output_type": "execute_result"
    }
   ],
   "source": [
    "data"
   ]
  },
  {
   "cell_type": "code",
   "execution_count": 7,
   "metadata": {
    "colab": {
     "base_uri": "https://localhost:8080/",
     "height": 68
    },
    "colab_type": "code",
    "id": "Y0SF6m67a6qb",
    "outputId": "b6ed1c8e-b448-424c-e932-d212187684e3"
   },
   "outputs": [
    {
     "data": {
      "text/plain": [
       "Index(['label', 'statement', 'subject', 'speaker', 'speaker_job_title',\n",
       "       'state_info', 'party', 'context'],\n",
       "      dtype='object')"
      ]
     },
     "execution_count": 7,
     "metadata": {},
     "output_type": "execute_result"
    }
   ],
   "source": [
    "data.columns\n"
   ]
  },
  {
   "cell_type": "code",
   "execution_count": 8,
   "metadata": {
    "colab": {},
    "colab_type": "code",
    "id": "PLNEHzeabU5i"
   },
   "outputs": [],
   "source": [
    "data.dropna(inplace=True)"
   ]
  },
  {
   "cell_type": "code",
   "execution_count": 9,
   "metadata": {
    "colab": {
     "base_uri": "https://localhost:8080/",
     "height": 34
    },
    "colab_type": "code",
    "id": "0kOlBj3cbeVq",
    "outputId": "81b6a032-2c4a-4c68-ab33-15721397770a"
   },
   "outputs": [
    {
     "data": {
      "text/plain": [
       "(8438, 8)"
      ]
     },
     "execution_count": 9,
     "metadata": {},
     "output_type": "execute_result"
    }
   ],
   "source": [
    "data.shape"
   ]
  },
  {
   "cell_type": "code",
   "execution_count": 10,
   "metadata": {
    "colab": {
     "base_uri": "https://localhost:8080/",
     "height": 34
    },
    "colab_type": "code",
    "id": "gg9Sd1agffKs",
    "outputId": "8ef1d973-bcd6-425c-e9bf-ab6057fe9f31"
   },
   "outputs": [
    {
     "data": {
      "text/plain": [
       "'\\ndata preprocessing done \\nspiltting dataset as 90 10 10 \\n'"
      ]
     },
     "execution_count": 10,
     "metadata": {},
     "output_type": "execute_result"
    }
   ],
   "source": [
    "\"\"\"\n",
    "data preprocessing done \n",
    "spiltting dataset as 90 10 10 \n",
    "\"\"\"\n",
    "\n"
   ]
  },
  {
   "cell_type": "code",
   "execution_count": 11,
   "metadata": {
    "colab": {
     "base_uri": "https://localhost:8080/",
     "height": 51
    },
    "colab_type": "code",
    "id": "3Bmo0koQg9qj",
    "outputId": "7a3f52e2-8aad-486b-aee4-e4f9f916e4c9"
   },
   "outputs": [
    {
     "name": "stdout",
     "output_type": "stream",
     "text": [
      "(8438, 7)\n",
      "(8438,)\n"
     ]
    }
   ],
   "source": [
    "dataliar_y=data.label\n",
    "dataliar_x=data.drop(columns=['label'])\n",
    "print( dataliar_x.shape)\n",
    "print (dataliar_y.shape)"
   ]
  },
  {
   "cell_type": "code",
   "execution_count": 12,
   "metadata": {
    "colab": {
     "base_uri": "https://localhost:8080/",
     "height": 136
    },
    "colab_type": "code",
    "id": "la4XTfmfbOj0",
    "outputId": "ff032ead-4240-4f19-ece8-eac8e9f3b1d4"
   },
   "outputs": [
    {
     "name": "stdout",
     "output_type": "stream",
     "text": [
      "(7594, 7)\n",
      "(844, 7)\n",
      "(6750, 7)\n",
      "(844, 7)\n",
      "<class 'pandas.core.frame.DataFrame'>\n",
      "(6750,)\n",
      "Final size of train/dev/test :  (6750, 7) / (844, 7) / (844, 7)\n"
     ]
    }
   ],
   "source": [
    "#train test split to form test from megaset\n",
    "from sklearn.model_selection import train_test_split\n",
    "\n",
    "X_train_temp, liar_test_x, y_train_temp, liar_test_y = train_test_split(dataliar_x,dataliar_y,test_size=0.1,random_state=12)\n",
    "print(X_train_temp.shape)\n",
    "print(liar_test_x.shape)\n",
    "\n",
    "# mega_test_x : Final testing file with statements\n",
    "# mega_test_y : Final testing file with ratings\n",
    "\n",
    "liar_train_x, liar_dev_x, liar_train_y, liar_dev_y = train_test_split(X_train_temp,y_train_temp,test_size=844,random_state=12)\n",
    "\n",
    "print(liar_train_x.shape)\n",
    "print(liar_dev_x.shape)\n",
    "\n",
    "# mega_train_x : Training file with statements\n",
    "# mega_train_y : Training file with ratings\n",
    "# mega_dev_x   : Development testing file with statements\n",
    "# mega_dev_y   : Development testing file with ratings\n",
    "print(type(liar_train_x))\n",
    "print(liar_train_y.shape)\n",
    "print(\"Final size of train/dev/test : \",liar_train_x.shape,\"/\",liar_dev_x.shape,\"/\",liar_test_x.shape)"
   ]
  },
  {
   "cell_type": "code",
   "execution_count": 13,
   "metadata": {
    "colab": {},
    "colab_type": "code",
    "id": "uBBfJ3kikHib"
   },
   "outputs": [
    {
     "name": "stderr",
     "output_type": "stream",
     "text": [
      "Using TensorFlow backend.\n"
     ]
    }
   ],
   "source": [
    "\"\"\"\n",
    "function to tokenize and pad\n",
    "\"\"\"\n",
    "import tensorflow\n",
    "import pandas as pd\n",
    "import keras\n",
    "from keras.preprocessing.text import Tokenizer\n",
    "from keras.preprocessing.sequence import pad_sequences\n",
    "import numpy as np"
   ]
  },
  {
   "cell_type": "code",
   "execution_count": 14,
   "metadata": {
    "colab": {},
    "colab_type": "code",
    "id": "dIONLHtQmazX"
   },
   "outputs": [],
   "source": [
    "def tokpad(train_x,dev_x):\n",
    "    tokenizer = Tokenizer()\n",
    "    tokenizer.fit_on_texts(train_x)\n",
    "\n",
    "\n",
    "    train_text = tokenizer.texts_to_sequences(train_x)\n",
    "    dev_text = tokenizer.texts_to_sequences(dev_x)\n",
    "\n",
    "    vocab_size = len(tokenizer.word_index) + 1  # Adding 1 because of reserved 0 index\n",
    "    print('vocab size ',vocab_size)\n",
    "\n",
    "    maxlen_text =0\n",
    "    for i in train_x:\n",
    "        if(len(i)>maxlen_text):\n",
    "            maxlen_text=len(i)\n",
    "    print('maxlen ',maxlen_text)\n",
    "\n",
    "    train_padtext = pad_sequences(train_text, padding='post', maxlen=maxlen_text)\n",
    "    dev_padtext = pad_sequences(dev_text, padding='post', maxlen=maxlen_text)\n",
    "\n",
    "    print('train')\n",
    "    print(train_padtext.shape)\n",
    "    print('dev')\n",
    "    print(dev_padtext.shape)\n",
    "    print(train_padtext[1, :])\n",
    "\n",
    "    return train_padtext,dev_padtext"
   ]
  },
  {
   "cell_type": "code",
   "execution_count": 15,
   "metadata": {
    "colab": {},
    "colab_type": "code",
    "id": "xZlymHzLmrWH"
   },
   "outputs": [
    {
     "data": {
      "text/plain": [
       "\"\\nIndex(['label', 'statement', 'subject', 'speaker', 'speaker_job_title',\\n       'state_info', 'party', 'context'],\\n      dtype='object')\\n  \""
      ]
     },
     "execution_count": 15,
     "metadata": {},
     "output_type": "execute_result"
    }
   ],
   "source": [
    "\"\"\"\n",
    "Index(['label', 'statement', 'subject', 'speaker', 'speaker_job_title',\n",
    "       'state_info', 'party', 'context'],\n",
    "      dtype='object')\n",
    "  \"\"\""
   ]
  },
  {
   "cell_type": "code",
   "execution_count": 16,
   "metadata": {
    "colab": {
     "base_uri": "https://localhost:8080/",
     "height": 323
    },
    "colab_type": "code",
    "id": "_rH2ua2Um_z8",
    "outputId": "e8094d11-c6c9-4fa5-f46a-cbf5bc4f0fd4"
   },
   "outputs": [
    {
     "name": "stdout",
     "output_type": "stream",
     "text": [
      "vocab size  178\n",
      "maxlen  203\n",
      "train\n",
      "(6750, 203)\n",
      "dev\n",
      "(844, 203)\n",
      "[109 110   0   0   0   0   0   0   0   0   0   0   0   0   0   0   0   0\n",
      "   0   0   0   0   0   0   0   0   0   0   0   0   0   0   0   0   0   0\n",
      "   0   0   0   0   0   0   0   0   0   0   0   0   0   0   0   0   0   0\n",
      "   0   0   0   0   0   0   0   0   0   0   0   0   0   0   0   0   0   0\n",
      "   0   0   0   0   0   0   0   0   0   0   0   0   0   0   0   0   0   0\n",
      "   0   0   0   0   0   0   0   0   0   0   0   0   0   0   0   0   0   0\n",
      "   0   0   0   0   0   0   0   0   0   0   0   0   0   0   0   0   0   0\n",
      "   0   0   0   0   0   0   0   0   0   0   0   0   0   0   0   0   0   0\n",
      "   0   0   0   0   0   0   0   0   0   0   0   0   0   0   0   0   0   0\n",
      "   0   0   0   0   0   0   0   0   0   0   0   0   0   0   0   0   0   0\n",
      "   0   0   0   0   0   0   0   0   0   0   0   0   0   0   0   0   0   0\n",
      "   0   0   0   0   0]\n"
     ]
    }
   ],
   "source": [
    "#passing subject attribute to tokpad\n",
    "train_padtext_sub,dev_padtext_sub=tokpad(liar_train_x.subject,liar_dev_x.subject)\n"
   ]
  },
  {
   "cell_type": "code",
   "execution_count": 17,
   "metadata": {
    "colab": {
     "base_uri": "https://localhost:8080/",
     "height": 136
    },
    "colab_type": "code",
    "id": "oeFnNx1EohxD",
    "outputId": "847421a1-c4d1-4057-e650-252cd333d71d"
   },
   "outputs": [
    {
     "name": "stdout",
     "output_type": "stream",
     "text": [
      "vocab size  9804\n",
      "maxlen  2099\n",
      "train\n",
      "(6750, 2099)\n",
      "dev\n",
      "(844, 2099)\n",
      "[  11 1307    1 ...    0    0    0]\n"
     ]
    }
   ],
   "source": [
    "#passing state attribute to tokpad\n",
    "train_padtext_state,dev_padtext_state=tokpad(liar_train_x.statement,liar_dev_x.statement)"
   ]
  },
  {
   "cell_type": "code",
   "execution_count": 18,
   "metadata": {
    "colab": {
     "base_uri": "https://localhost:8080/",
     "height": 170
    },
    "colab_type": "code",
    "id": "SaYq36GuovBx",
    "outputId": "86845dee-6dd6-47f3-c9ff-4efdf0e4e90c"
   },
   "outputs": [
    {
     "name": "stdout",
     "output_type": "stream",
     "text": [
      "vocab size  2063\n",
      "maxlen  50\n",
      "train\n",
      "(6750, 50)\n",
      "dev\n",
      "(844, 50)\n",
      "[78 69  0  0  0  0  0  0  0  0  0  0  0  0  0  0  0  0  0  0  0  0  0  0\n",
      "  0  0  0  0  0  0  0  0  0  0  0  0  0  0  0  0  0  0  0  0  0  0  0  0\n",
      "  0  0]\n"
     ]
    }
   ],
   "source": [
    "#passing speaker attribute to tokpad\n",
    "train_padtext_spk,dev_padtext_spk=tokpad(liar_train_x.speaker,liar_dev_x.speaker)"
   ]
  },
  {
   "cell_type": "code",
   "execution_count": 19,
   "metadata": {
    "colab": {
     "base_uri": "https://localhost:8080/",
     "height": 204
    },
    "colab_type": "code",
    "id": "v6kdASpWo96v",
    "outputId": "56727a77-082b-4f56-9cfe-d3dcc0a7a87d"
   },
   "outputs": [
    {
     "name": "stdout",
     "output_type": "stream",
     "text": [
      "vocab size  1046\n",
      "maxlen  100\n",
      "train\n",
      "(6750, 100)\n",
      "dev\n",
      "(844, 100)\n",
      "[24 47 25  0  0  0  0  0  0  0  0  0  0  0  0  0  0  0  0  0  0  0  0  0\n",
      "  0  0  0  0  0  0  0  0  0  0  0  0  0  0  0  0  0  0  0  0  0  0  0  0\n",
      "  0  0  0  0  0  0  0  0  0  0  0  0  0  0  0  0  0  0  0  0  0  0  0  0\n",
      "  0  0  0  0  0  0  0  0  0  0  0  0  0  0  0  0  0  0  0  0  0  0  0  0\n",
      "  0  0  0  0]\n"
     ]
    }
   ],
   "source": [
    "#passing speaker_job_title attribute to tokpad\n",
    "train_padtext_sjt,dev_padtext_sjt=tokpad(liar_train_x.speaker_job_title,liar_dev_x.speaker_job_title)"
   ]
  },
  {
   "cell_type": "code",
   "execution_count": 20,
   "metadata": {
    "colab": {
     "base_uri": "https://localhost:8080/",
     "height": 170
    },
    "colab_type": "code",
    "id": "xt3YBdL4pQkj",
    "outputId": "a9194f6f-567c-46e7-a796-8e1b854a343d"
   },
   "outputs": [
    {
     "name": "stdout",
     "output_type": "stream",
     "text": [
      "vocab size  75\n",
      "maxlen  49\n",
      "train\n",
      "(6750, 49)\n",
      "dev\n",
      "(844, 49)\n",
      "[30  0  0  0  0  0  0  0  0  0  0  0  0  0  0  0  0  0  0  0  0  0  0  0\n",
      "  0  0  0  0  0  0  0  0  0  0  0  0  0  0  0  0  0  0  0  0  0  0  0  0\n",
      "  0]\n"
     ]
    }
   ],
   "source": [
    "#passing state_info attribute to tokpad\n",
    "train_padtext_stinfo,dev_padtext_stinfo=tokpad(liar_train_x.state_info,liar_dev_x.state_info)"
   ]
  },
  {
   "cell_type": "code",
   "execution_count": 21,
   "metadata": {
    "colab": {
     "base_uri": "https://localhost:8080/",
     "height": 136
    },
    "colab_type": "code",
    "id": "i7jGeV2TpkUt",
    "outputId": "bf9c9c9a-f2f7-437a-c022-973e636be560"
   },
   "outputs": [
    {
     "name": "stdout",
     "output_type": "stream",
     "text": [
      "vocab size  29\n",
      "maxlen  28\n",
      "train\n",
      "(6750, 28)\n",
      "dev\n",
      "(844, 28)\n",
      "[2 0 0 0 0 0 0 0 0 0 0 0 0 0 0 0 0 0 0 0 0 0 0 0 0 0 0 0]\n"
     ]
    }
   ],
   "source": [
    "#passing party attribute to tokpad\n",
    "train_padtext_pty,dev_padtext_pty=tokpad(liar_train_x.party,liar_dev_x.party)"
   ]
  },
  {
   "cell_type": "code",
   "execution_count": 22,
   "metadata": {
    "colab": {
     "base_uri": "https://localhost:8080/",
     "height": 221
    },
    "colab_type": "code",
    "id": "6M68iUY7p0Cj",
    "outputId": "4d5caa7f-83fd-40ce-a88e-9bdf1df787a0"
   },
   "outputs": [
    {
     "name": "stdout",
     "output_type": "stream",
     "text": [
      "vocab size  1958\n",
      "maxlen  100\n",
      "train\n",
      "(6750, 100)\n",
      "dev\n",
      "(844, 100)\n",
      "[303   0   0   0   0   0   0   0   0   0   0   0   0   0   0   0   0   0\n",
      "   0   0   0   0   0   0   0   0   0   0   0   0   0   0   0   0   0   0\n",
      "   0   0   0   0   0   0   0   0   0   0   0   0   0   0   0   0   0   0\n",
      "   0   0   0   0   0   0   0   0   0   0   0   0   0   0   0   0   0   0\n",
      "   0   0   0   0   0   0   0   0   0   0   0   0   0   0   0   0   0   0\n",
      "   0   0   0   0   0   0   0   0   0   0]\n"
     ]
    }
   ],
   "source": [
    "#passing context attribute to tokpad\n",
    "train_padtext_cnt,dev_padtext_cnt=tokpad(liar_train_x.context,liar_dev_x.context)"
   ]
  },
  {
   "cell_type": "code",
   "execution_count": 23,
   "metadata": {
    "colab": {},
    "colab_type": "code",
    "id": "jzYMWoFbrjqt"
   },
   "outputs": [],
   "source": [
    "import matplotlib.pyplot as plt\n",
    "plt.style.use('ggplot')\n",
    "\n",
    "def plot_history(history):\n",
    "    acc = history.history['acc']\n",
    "    val_acc = history.history['val_acc']\n",
    "    loss = history.history['loss']\n",
    "    val_loss = history.history['val_loss']\n",
    "    x = range(1, len(acc) + 1)\n",
    "\n",
    "    plt.figure(figsize=(12, 5))\n",
    "    plt.subplot(1, 2, 1)\n",
    "    plt.plot(x, acc, 'b', label='Training acc')\n",
    "    plt.plot(x, val_acc, 'r', label='Validation acc')\n",
    "    plt.title('Training and validation accuracy')\n",
    "    plt.legend()\n",
    "    plt.subplot(1, 2, 2)\n",
    "    plt.plot(x, loss, 'b', label='Training loss')\n",
    "    plt.plot(x, val_loss, 'r', label='Validation loss')\n",
    "    plt.title('Training and validation loss')\n",
    "    plt.legend()"
   ]
  },
  {
   "cell_type": "code",
   "execution_count": 36,
   "metadata": {
    "colab": {
     "base_uri": "https://localhost:8080/",
     "height": 1000
    },
    "colab_type": "code",
    "id": "-ufDxfgxvNZt",
    "outputId": "5c4da82f-a241-4094-9a7a-82d6cf6d2748"
   },
   "outputs": [
    {
     "name": "stdout",
     "output_type": "stream",
     "text": [
      "116 77\n",
      "Model: \"model_8\"\n",
      "__________________________________________________________________________________________________\n",
      "Layer (type)                    Output Shape         Param #     Connected to                     \n",
      "==================================================================================================\n",
      "sjtitle_in (InputLayer)         (None, 100)          0                                            \n",
      "__________________________________________________________________________________________________\n",
      "speaker_in (InputLayer)         (None, 50)           0                                            \n",
      "__________________________________________________________________________________________________\n",
      "text_in (InputLayer)            (None, 2099)         0                                            \n",
      "__________________________________________________________________________________________________\n",
      "subject_in (InputLayer)         (None, 203)          0                                            \n",
      "__________________________________________________________________________________________________\n",
      "state_in (InputLayer)           (None, 49)           0                                            \n",
      "__________________________________________________________________________________________________\n",
      "party_in (InputLayer)           (None, 28)           0                                            \n",
      "__________________________________________________________________________________________________\n",
      "context_in (InputLayer)         (None, 100)          0                                            \n",
      "__________________________________________________________________________________________________\n",
      "embedding_57 (Embedding)        (None, 100, 25)      26150       sjtitle_in[0][0]                 \n",
      "__________________________________________________________________________________________________\n",
      "embedding_58 (Embedding)        (None, 50, 25)       51575       speaker_in[0][0]                 \n",
      "__________________________________________________________________________________________________\n",
      "embedding_59 (Embedding)        (None, 2099, 25)     245100      text_in[0][0]                    \n",
      "__________________________________________________________________________________________________\n",
      "embedding_60 (Embedding)        (None, 203, 25)      4450        subject_in[0][0]                 \n",
      "__________________________________________________________________________________________________\n",
      "embedding_61 (Embedding)        (None, 49, 25)       1875        state_in[0][0]                   \n",
      "__________________________________________________________________________________________________\n",
      "embedding_62 (Embedding)        (None, 28, 25)       725         party_in[0][0]                   \n",
      "__________________________________________________________________________________________________\n",
      "embedding_63 (Embedding)        (None, 100, 25)      48950       context_in[0][0]                 \n",
      "__________________________________________________________________________________________________\n",
      "conv1d_43 (Conv1D)              (None, 98, 116)      8816        embedding_57[0][0]               \n",
      "__________________________________________________________________________________________________\n",
      "conv1d_44 (Conv1D)              (None, 48, 116)      8816        embedding_58[0][0]               \n",
      "__________________________________________________________________________________________________\n",
      "conv1d_45 (Conv1D)              (None, 2097, 116)    8816        embedding_59[0][0]               \n",
      "__________________________________________________________________________________________________\n",
      "conv1d_46 (Conv1D)              (None, 201, 116)     8816        embedding_60[0][0]               \n",
      "__________________________________________________________________________________________________\n",
      "conv1d_47 (Conv1D)              (None, 47, 116)      8816        embedding_61[0][0]               \n",
      "__________________________________________________________________________________________________\n",
      "conv1d_48 (Conv1D)              (None, 26, 116)      8816        embedding_62[0][0]               \n",
      "__________________________________________________________________________________________________\n",
      "conv1d_49 (Conv1D)              (None, 98, 116)      8816        embedding_63[0][0]               \n",
      "__________________________________________________________________________________________________\n",
      "global_max_pooling1d_50 (Global (None, 116)          0           conv1d_43[0][0]                  \n",
      "__________________________________________________________________________________________________\n",
      "global_max_pooling1d_51 (Global (None, 116)          0           conv1d_44[0][0]                  \n",
      "__________________________________________________________________________________________________\n",
      "global_max_pooling1d_52 (Global (None, 116)          0           conv1d_45[0][0]                  \n",
      "__________________________________________________________________________________________________\n",
      "global_max_pooling1d_53 (Global (None, 116)          0           conv1d_46[0][0]                  \n",
      "__________________________________________________________________________________________________\n",
      "global_max_pooling1d_54 (Global (None, 116)          0           conv1d_47[0][0]                  \n",
      "__________________________________________________________________________________________________\n",
      "global_max_pooling1d_55 (Global (None, 116)          0           conv1d_48[0][0]                  \n",
      "__________________________________________________________________________________________________\n",
      "global_max_pooling1d_56 (Global (None, 116)          0           conv1d_49[0][0]                  \n",
      "__________________________________________________________________________________________________\n",
      "concatenate_8 (Concatenate)     (None, 812)          0           global_max_pooling1d_50[0][0]    \n",
      "                                                                 global_max_pooling1d_51[0][0]    \n",
      "                                                                 global_max_pooling1d_52[0][0]    \n",
      "                                                                 global_max_pooling1d_53[0][0]    \n",
      "                                                                 global_max_pooling1d_54[0][0]    \n",
      "                                                                 global_max_pooling1d_55[0][0]    \n",
      "                                                                 global_max_pooling1d_56[0][0]    \n",
      "__________________________________________________________________________________________________\n",
      "dense_11 (Dense)                (None, 116)          94308       concatenate_8[0][0]              \n",
      "__________________________________________________________________________________________________\n",
      "dropout_11 (Dropout)            (None, 116)          0           dense_11[0][0]                   \n",
      "__________________________________________________________________________________________________\n",
      "op (Dense)                      (None, 1)            117         dropout_11[0][0]                 \n",
      "==================================================================================================\n",
      "Total params: 534,962\n",
      "Trainable params: 534,962\n",
      "Non-trainable params: 0\n",
      "__________________________________________________________________________________________________\n"
     ]
    }
   ],
   "source": [
    "#with kernel and bias regularizer \n",
    "#more agressive\n",
    "#model1\n",
    "from keras.layers import Embedding\n",
    "from keras.layers import concatenate\n",
    "from keras.layers import GlobalMaxPool1D\n",
    "from keras.layers import Input, Dense,Dropout\n",
    "from keras.models import Model\n",
    "from keras.regularizers import l2\n",
    "from keras.layers.convolutional import Conv1D    \n",
    "\n",
    "\n",
    "embedding_dim = 25\n",
    "h1=int(2/3*175)\n",
    "h2=int(2/3*h1)\n",
    "print(h1,h2)\n",
    "\n",
    "sjtitle_in = Input(shape=(100,), name='sjtitle_in')\n",
    "speaker_in = Input(shape=(50,), name='speaker_in')\n",
    "text_in = Input(shape=(2099,), name='text_in')\n",
    "subject_in = Input(shape=(203,), name='subject_in')\n",
    "state_in = Input(shape=(49,), name='state_in')\n",
    "party_in = Input(shape=(28,), name='party_in')\n",
    "context_in = Input(shape=(100,), name='context_in')\n",
    "\n",
    "#input dim = vocab size\n",
    "#input length = maxlen\n",
    "sjtitle_embed = Embedding(output_dim=embedding_dim, input_dim=1046, input_length=100)(sjtitle_in)\n",
    "speaker_embed = Embedding(output_dim=embedding_dim, input_dim=2063, input_length=50)(speaker_in)\n",
    "text_embed = Embedding(output_dim=embedding_dim, input_dim=9804, input_length=2099)(text_in)\n",
    "subject_embed = Embedding(output_dim=embedding_dim, input_dim=178, input_length=203)(subject_in)\n",
    "state_embed = Embedding(output_dim=embedding_dim, input_dim=75, input_length=49)(state_in)\n",
    "party_embed = Embedding(output_dim=embedding_dim, input_dim=29, input_length=28)(party_in)\n",
    "context_embed = Embedding(output_dim=embedding_dim, input_dim=1958, input_length=100)(context_in)\n",
    "\n",
    "\n",
    "\n",
    "sjt=Conv1D(h1,kernel_size=(3) ,activation='relu')(sjtitle_embed)\n",
    "spe=Conv1D(h1,kernel_size=(3) ,activation='relu')(speaker_embed)\n",
    "text=Conv1D(h1,kernel_size=(3) ,activation='relu')(text_embed)\n",
    "sub=Conv1D(h1,kernel_size=(3) ,activation='relu')(subject_embed)\n",
    "sta=Conv1D(h1,kernel_size=(3) ,activation='relu')(state_embed)\n",
    "par=Conv1D(h1,kernel_size=(3) ,activation='relu')(party_embed)\n",
    "con=Conv1D(h1,kernel_size=(3) ,activation='relu')(context_embed)\n",
    "\n",
    "\n",
    "\n",
    "\n",
    "\n",
    "sjtitle_pool = GlobalMaxPool1D()(sjt)\n",
    "speaker_pool = GlobalMaxPool1D()(spe)\n",
    "text_pool = GlobalMaxPool1D()(text)\n",
    "subject_pool = GlobalMaxPool1D()(sub)\n",
    "state_pool = GlobalMaxPool1D()(sta)\n",
    "party_pool = GlobalMaxPool1D()(par)\n",
    "context_pool = GlobalMaxPool1D()(con)\n",
    "\n",
    "\n",
    "all_d = concatenate([sjtitle_pool, speaker_pool,text_pool,subject_pool,state_pool,party_pool,context_pool])\n",
    "\n",
    "d1 = Dense(h1, activation='relu',kernel_regularizer=l2(0.1), bias_regularizer=l2(0.1),activity_regularizer=l2(0.1))(all_d)\n",
    "drop1=Dropout(0.3)(d1)\n",
    "\n",
    "op = Dense(1, activation='sigmoid', name='op')(drop1)\n",
    "\n",
    "\n",
    "\n",
    "\n",
    "model1 = Model(inputs=[sjtitle_in,speaker_in,text_in,subject_in,state_in,party_in,context_in], outputs=[op])\n",
    "\n",
    "model1.summary()"
   ]
  },
  {
   "cell_type": "code",
   "execution_count": 37,
   "metadata": {
    "colab": {
     "base_uri": "https://localhost:8080/",
     "height": 1000
    },
    "colab_type": "code",
    "id": "tZQ3-hPFwljA",
    "outputId": "17342cb9-1175-49c7-9c3a-218680b684ee"
   },
   "outputs": [
    {
     "name": "stderr",
     "output_type": "stream",
     "text": [
      "C:\\Users\\Rahul\\Anaconda3\\lib\\site-packages\\tensorflow_core\\python\\framework\\indexed_slices.py:424: UserWarning: Converting sparse IndexedSlices to a dense Tensor of unknown shape. This may consume a large amount of memory.\n",
      "  \"Converting sparse IndexedSlices to a dense Tensor of unknown shape. \"\n"
     ]
    },
    {
     "name": "stdout",
     "output_type": "stream",
     "text": [
      "Train on 6750 samples, validate on 844 samples\n",
      "Epoch 1/20\n",
      "6750/6750 [==============================] - 23s 3ms/step - loss: 1.7435 - acc: 0.7360 - val_loss: 0.6123 - val_acc: 0.7417\n",
      "Epoch 2/20\n",
      "6750/6750 [==============================] - 23s 3ms/step - loss: 0.6057 - acc: 0.7369 - val_loss: 0.6035 - val_acc: 0.7417\n",
      "Epoch 3/20\n",
      "6750/6750 [==============================] - 23s 3ms/step - loss: 0.5870 - acc: 0.7369 - val_loss: 0.5920 - val_acc: 0.7417\n",
      "Epoch 4/20\n",
      "6750/6750 [==============================] - 23s 3ms/step - loss: 0.5495 - acc: 0.7369 - val_loss: 0.6309 - val_acc: 0.7417\n",
      "Epoch 5/20\n",
      "6750/6750 [==============================] - 23s 3ms/step - loss: 0.4595 - acc: 0.8316 - val_loss: 0.7452 - val_acc: 0.6149\n",
      "Epoch 6/20\n",
      "6750/6750 [==============================] - 23s 3ms/step - loss: 0.3376 - acc: 0.9430 - val_loss: 0.8016 - val_acc: 0.6469\n",
      "Epoch 7/20\n",
      "6750/6750 [==============================] - 23s 3ms/step - loss: 0.2482 - acc: 0.9809 - val_loss: 0.8871 - val_acc: 0.6173\n",
      "Epoch 8/20\n",
      "6750/6750 [==============================] - 23s 3ms/step - loss: 0.1962 - acc: 0.9930 - val_loss: 0.9028 - val_acc: 0.6102\n",
      "Epoch 9/20\n",
      "6750/6750 [==============================] - 23s 3ms/step - loss: 0.1617 - acc: 0.9975 - val_loss: 0.9090 - val_acc: 0.6363\n",
      "Epoch 10/20\n",
      "6750/6750 [==============================] - 23s 3ms/step - loss: 0.1411 - acc: 0.9975 - val_loss: 0.9435 - val_acc: 0.6173\n",
      "Epoch 11/20\n",
      "6750/6750 [==============================] - 23s 3ms/step - loss: 0.1228 - acc: 0.9993 - val_loss: 1.0028 - val_acc: 0.6161\n",
      "Epoch 12/20\n",
      "6750/6750 [==============================] - 23s 3ms/step - loss: 0.1097 - acc: 0.9988 - val_loss: 0.9922 - val_acc: 0.6315\n",
      "Epoch 13/20\n",
      "6750/6750 [==============================] - 23s 3ms/step - loss: 0.1005 - acc: 0.9993 - val_loss: 1.0175 - val_acc: 0.6197\n",
      "Epoch 14/20\n",
      "6750/6750 [==============================] - 23s 3ms/step - loss: 0.0914 - acc: 0.9990 - val_loss: 1.0337 - val_acc: 0.6303\n",
      "Epoch 15/20\n",
      "6750/6750 [==============================] - 23s 3ms/step - loss: 0.0838 - acc: 0.9996 - val_loss: 1.0859 - val_acc: 0.6256\n",
      "Epoch 16/20\n",
      "6750/6750 [==============================] - 23s 3ms/step - loss: 0.0781 - acc: 0.9994 - val_loss: 1.1335 - val_acc: 0.6055\n",
      "Epoch 17/20\n",
      "6750/6750 [==============================] - 24s 3ms/step - loss: 0.0722 - acc: 0.9996 - val_loss: 1.1114 - val_acc: 0.6327\n",
      "Epoch 18/20\n",
      "6750/6750 [==============================] - 23s 3ms/step - loss: 0.0697 - acc: 0.9991 - val_loss: 1.1821 - val_acc: 0.6363\n",
      "Epoch 19/20\n",
      "6750/6750 [==============================] - 23s 3ms/step - loss: 0.0674 - acc: 0.9994 - val_loss: 1.2495 - val_acc: 0.6019\n",
      "Epoch 20/20\n",
      "6750/6750 [==============================] - 23s 3ms/step - loss: 0.0618 - acc: 0.9999 - val_loss: 1.3773 - val_acc: 0.6291\n"
     ]
    },
    {
     "data": {
      "image/png": "[encoded data removed]",
      "text/plain": [
       "<Figure size 864x360 with 2 Axes>"
      ]
     },
     "metadata": {
      "needs_background": "light"
     },
     "output_type": "display_data"
    }
   ],
   "source": [
    "model1.compile(optimizer='adam',\n",
    "              loss='binary_crossentropy',metrics=['acc'])\n",
    "h=model1.fit({'sjtitle_in':train_padtext_sjt,'speaker_in':train_padtext_spk,'text_in':train_padtext_state,'subject_in':train_padtext_sub,'state_in':train_padtext_stinfo,'party_in':train_padtext_pty,'context_in':train_padtext_cnt},{'op': liar_train_y},\n",
    "          epochs=20, batch_size=16,validation_data=({'sjtitle_in':dev_padtext_sjt,'speaker_in':dev_padtext_spk,'text_in':dev_padtext_state,'subject_in':dev_padtext_sub,'state_in':dev_padtext_stinfo,'party_in':dev_padtext_pty,'context_in':dev_padtext_cnt},{'op': liar_dev_y}))\n",
    "plot_history(h)"
   ]
  },
  {
   "cell_type": "code",
   "execution_count": null,
   "metadata": {},
   "outputs": [],
   "source": [
    "#reducing the accuracy by increasing regularizers lead to the same accuracy as that of DNN"
   ]
  }
 ],
 "metadata": {
  "colab": {
   "collapsed_sections": [],
   "machine_shape": "hm",
   "name": "liar_dnn",
   "provenance": []
  },
  "kernelspec": {
   "display_name": "Python 3",
   "language": "python",
   "name": "python3"
  },
  "language_info": {
   "codemirror_mode": {
    "name": "ipython",
    "version": 3
   },
   "file_extension": ".py",
   "mimetype": "text/x-python",
   "name": "python",
   "nbconvert_exporter": "python",
   "pygments_lexer": "ipython3",
   "version": "3.7.4"
  }
 },
 "nbformat": 4,
 "nbformat_minor": 1
}
