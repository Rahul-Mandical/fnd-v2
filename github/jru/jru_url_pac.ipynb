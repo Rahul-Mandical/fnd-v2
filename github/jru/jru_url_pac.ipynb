{
  "nbformat": 4,
  "nbformat_minor": 0,
  "metadata": {
    "colab": {
      "name": "url_data_pac.ipynb",
      "provenance": [],
      "collapsed_sections": []
    },
    "kernelspec": {
      "name": "python3",
      "display_name": "Python 3"
    }
  },
  "cells": [
    {
      "cell_type": "code",
      "metadata": {
        "id": "0w1nY0ekMSa4",
        "colab_type": "code",
        "outputId": "5869b70b-7e5d-4bb0-e300-4d3a4f6b3855",
        "colab": {
          "resources": {
            "http://localhost:8080/nbextensions/google.colab/files.js": {
              "data": "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",
              "ok": true,
              "headers": [
                [
                  "content-type",
                  "application/javascript"
                ]
              ],
              "status": 200,
              "status_text": ""
            }
          },
          "base_uri": "https://localhost:8080/",
          "height": 74
        }
      },
      "source": [
        "from google.colab import files \n",
        "uploaded = files.upload() \n"
      ],
      "execution_count": 1,
      "outputs": [
        {
          "output_type": "display_data",
          "data": {
            "text/html": [
              "\n",
              "     <input type=\"file\" id=\"files-71b3b79d-79cf-42b2-bd6d-fe42d9a7f71b\" name=\"files[]\" multiple disabled />\n",
              "     <output id=\"result-71b3b79d-79cf-42b2-bd6d-fe42d9a7f71b\">\n",
              "      Upload widget is only available when the cell has been executed in the\n",
              "      current browser session. Please rerun this cell to enable.\n",
              "      </output>\n",
              "      <script src=\"/nbextensions/google.colab/files.js\"></script> "
            ],
            "text/plain": [
              "<IPython.core.display.HTML object>"
            ]
          },
          "metadata": {
            "tags": []
          }
        },
        {
          "output_type": "stream",
          "text": [
            "Saving data.csv to data.csv\n"
          ],
          "name": "stdout"
        }
      ]
    },
    {
      "cell_type": "code",
      "metadata": {
        "id": "Mty0GfzZNCgm",
        "colab_type": "code",
        "outputId": "3f3e4265-abd8-4ca3-f159-550bfb21f280",
        "colab": {
          "base_uri": "https://localhost:8080/",
          "height": 170
        }
      },
      "source": [
        "import io \n",
        "import pandas as pd\n",
        "data = pd.read_csv(io.BytesIO(uploaded['data.csv'])) \n",
        "print(type(data))\n",
        "print(data.head())"
      ],
      "execution_count": 2,
      "outputs": [
        {
          "output_type": "stream",
          "text": [
            "<class 'pandas.core.frame.DataFrame'>\n",
            "                                                URLs  ... Label\n",
            "0  http://www.bbc.com/news/world-us-canada-414191...  ...     1\n",
            "1  https://www.reuters.com/article/us-filmfestiva...  ...     1\n",
            "2  https://www.nytimes.com/2017/10/09/us/politics...  ...     1\n",
            "3  https://www.reuters.com/article/us-mexico-oil-...  ...     1\n",
            "4  http://www.cnn.com/videos/cnnmoney/2017/10/08/...  ...     1\n",
            "\n",
            "[5 rows x 4 columns]\n"
          ],
          "name": "stdout"
        }
      ]
    },
    {
      "cell_type": "code",
      "metadata": {
        "id": "-Pm9eZADOG8F",
        "colab_type": "code",
        "outputId": "c5745b32-50f1-480a-9419-69e8fa81d223",
        "colab": {
          "base_uri": "https://localhost:8080/",
          "height": 204
        }
      },
      "source": [
        "url_data=data.dropna()\n",
        "url_data.head()"
      ],
      "execution_count": 3,
      "outputs": [
        {
          "output_type": "execute_result",
          "data": {
            "text/html": [
              "<div>\n",
              "<style scoped>\n",
              "    .dataframe tbody tr th:only-of-type {\n",
              "        vertical-align: middle;\n",
              "    }\n",
              "\n",
              "    .dataframe tbody tr th {\n",
              "        vertical-align: top;\n",
              "    }\n",
              "\n",
              "    .dataframe thead th {\n",
              "        text-align: right;\n",
              "    }\n",
              "</style>\n",
              "<table border=\"1\" class=\"dataframe\">\n",
              "  <thead>\n",
              "    <tr style=\"text-align: right;\">\n",
              "      <th></th>\n",
              "      <th>URLs</th>\n",
              "      <th>Headline</th>\n",
              "      <th>Body</th>\n",
              "      <th>Label</th>\n",
              "    </tr>\n",
              "  </thead>\n",
              "  <tbody>\n",
              "    <tr>\n",
              "      <th>0</th>\n",
              "      <td>http://www.bbc.com/news/world-us-canada-414191...</td>\n",
              "      <td>Four ways Bob Corker skewered Donald Trump</td>\n",
              "      <td>Image copyright Getty Images\\nOn Sunday mornin...</td>\n",
              "      <td>1</td>\n",
              "    </tr>\n",
              "    <tr>\n",
              "      <th>1</th>\n",
              "      <td>https://www.reuters.com/article/us-filmfestiva...</td>\n",
              "      <td>Linklater's war veteran comedy speaks to moder...</td>\n",
              "      <td>LONDON (Reuters) - “Last Flag Flying”, a comed...</td>\n",
              "      <td>1</td>\n",
              "    </tr>\n",
              "    <tr>\n",
              "      <th>2</th>\n",
              "      <td>https://www.nytimes.com/2017/10/09/us/politics...</td>\n",
              "      <td>Trump’s Fight With Corker Jeopardizes His Legi...</td>\n",
              "      <td>The feud broke into public view last week when...</td>\n",
              "      <td>1</td>\n",
              "    </tr>\n",
              "    <tr>\n",
              "      <th>3</th>\n",
              "      <td>https://www.reuters.com/article/us-mexico-oil-...</td>\n",
              "      <td>Egypt's Cheiron wins tie-up with Pemex for Mex...</td>\n",
              "      <td>MEXICO CITY (Reuters) - Egypt’s Cheiron Holdin...</td>\n",
              "      <td>1</td>\n",
              "    </tr>\n",
              "    <tr>\n",
              "      <th>4</th>\n",
              "      <td>http://www.cnn.com/videos/cnnmoney/2017/10/08/...</td>\n",
              "      <td>Jason Aldean opens 'SNL' with Vegas tribute</td>\n",
              "      <td>Country singer Jason Aldean, who was performin...</td>\n",
              "      <td>1</td>\n",
              "    </tr>\n",
              "  </tbody>\n",
              "</table>\n",
              "</div>"
            ],
            "text/plain": [
              "                                                URLs  ... Label\n",
              "0  http://www.bbc.com/news/world-us-canada-414191...  ...     1\n",
              "1  https://www.reuters.com/article/us-filmfestiva...  ...     1\n",
              "2  https://www.nytimes.com/2017/10/09/us/politics...  ...     1\n",
              "3  https://www.reuters.com/article/us-mexico-oil-...  ...     1\n",
              "4  http://www.cnn.com/videos/cnnmoney/2017/10/08/...  ...     1\n",
              "\n",
              "[5 rows x 4 columns]"
            ]
          },
          "metadata": {
            "tags": []
          },
          "execution_count": 3
        }
      ]
    },
    {
      "cell_type": "code",
      "metadata": {
        "id": "nJKHP4NfOL7l",
        "colab_type": "code",
        "outputId": "b86cea3b-a22e-49f4-9199-3e3c11e6870f",
        "colab": {
          "base_uri": "https://localhost:8080/",
          "height": 34
        }
      },
      "source": [
        "url_data.shape"
      ],
      "execution_count": 4,
      "outputs": [
        {
          "output_type": "execute_result",
          "data": {
            "text/plain": [
              "(3988, 4)"
            ]
          },
          "metadata": {
            "tags": []
          },
          "execution_count": 4
        }
      ]
    },
    {
      "cell_type": "code",
      "metadata": {
        "id": "C1k-dnx_OYl5",
        "colab_type": "code",
        "outputId": "98ca881a-0140-4af5-8395-76e5cde406b9",
        "colab": {
          "base_uri": "https://localhost:8080/",
          "height": 204
        }
      },
      "source": [
        "data_x=url_data.iloc[:,:-1]\n",
        "data_x.head()"
      ],
      "execution_count": 5,
      "outputs": [
        {
          "output_type": "execute_result",
          "data": {
            "text/html": [
              "<div>\n",
              "<style scoped>\n",
              "    .dataframe tbody tr th:only-of-type {\n",
              "        vertical-align: middle;\n",
              "    }\n",
              "\n",
              "    .dataframe tbody tr th {\n",
              "        vertical-align: top;\n",
              "    }\n",
              "\n",
              "    .dataframe thead th {\n",
              "        text-align: right;\n",
              "    }\n",
              "</style>\n",
              "<table border=\"1\" class=\"dataframe\">\n",
              "  <thead>\n",
              "    <tr style=\"text-align: right;\">\n",
              "      <th></th>\n",
              "      <th>URLs</th>\n",
              "      <th>Headline</th>\n",
              "      <th>Body</th>\n",
              "    </tr>\n",
              "  </thead>\n",
              "  <tbody>\n",
              "    <tr>\n",
              "      <th>0</th>\n",
              "      <td>http://www.bbc.com/news/world-us-canada-414191...</td>\n",
              "      <td>Four ways Bob Corker skewered Donald Trump</td>\n",
              "      <td>Image copyright Getty Images\\nOn Sunday mornin...</td>\n",
              "    </tr>\n",
              "    <tr>\n",
              "      <th>1</th>\n",
              "      <td>https://www.reuters.com/article/us-filmfestiva...</td>\n",
              "      <td>Linklater's war veteran comedy speaks to moder...</td>\n",
              "      <td>LONDON (Reuters) - “Last Flag Flying”, a comed...</td>\n",
              "    </tr>\n",
              "    <tr>\n",
              "      <th>2</th>\n",
              "      <td>https://www.nytimes.com/2017/10/09/us/politics...</td>\n",
              "      <td>Trump’s Fight With Corker Jeopardizes His Legi...</td>\n",
              "      <td>The feud broke into public view last week when...</td>\n",
              "    </tr>\n",
              "    <tr>\n",
              "      <th>3</th>\n",
              "      <td>https://www.reuters.com/article/us-mexico-oil-...</td>\n",
              "      <td>Egypt's Cheiron wins tie-up with Pemex for Mex...</td>\n",
              "      <td>MEXICO CITY (Reuters) - Egypt’s Cheiron Holdin...</td>\n",
              "    </tr>\n",
              "    <tr>\n",
              "      <th>4</th>\n",
              "      <td>http://www.cnn.com/videos/cnnmoney/2017/10/08/...</td>\n",
              "      <td>Jason Aldean opens 'SNL' with Vegas tribute</td>\n",
              "      <td>Country singer Jason Aldean, who was performin...</td>\n",
              "    </tr>\n",
              "  </tbody>\n",
              "</table>\n",
              "</div>"
            ],
            "text/plain": [
              "                                                URLs  ...                                               Body\n",
              "0  http://www.bbc.com/news/world-us-canada-414191...  ...  Image copyright Getty Images\\nOn Sunday mornin...\n",
              "1  https://www.reuters.com/article/us-filmfestiva...  ...  LONDON (Reuters) - “Last Flag Flying”, a comed...\n",
              "2  https://www.nytimes.com/2017/10/09/us/politics...  ...  The feud broke into public view last week when...\n",
              "3  https://www.reuters.com/article/us-mexico-oil-...  ...  MEXICO CITY (Reuters) - Egypt’s Cheiron Holdin...\n",
              "4  http://www.cnn.com/videos/cnnmoney/2017/10/08/...  ...  Country singer Jason Aldean, who was performin...\n",
              "\n",
              "[5 rows x 3 columns]"
            ]
          },
          "metadata": {
            "tags": []
          },
          "execution_count": 5
        }
      ]
    },
    {
      "cell_type": "code",
      "metadata": {
        "id": "4cH792JpOgPL",
        "colab_type": "code",
        "outputId": "5cf8d0d6-630b-4865-a3aa-f41f50bc999b",
        "colab": {
          "base_uri": "https://localhost:8080/",
          "height": 204
        }
      },
      "source": [
        "data_y=url_data.iloc[:,3:]\n",
        "data_y.head()"
      ],
      "execution_count": 6,
      "outputs": [
        {
          "output_type": "execute_result",
          "data": {
            "text/html": [
              "<div>\n",
              "<style scoped>\n",
              "    .dataframe tbody tr th:only-of-type {\n",
              "        vertical-align: middle;\n",
              "    }\n",
              "\n",
              "    .dataframe tbody tr th {\n",
              "        vertical-align: top;\n",
              "    }\n",
              "\n",
              "    .dataframe thead th {\n",
              "        text-align: right;\n",
              "    }\n",
              "</style>\n",
              "<table border=\"1\" class=\"dataframe\">\n",
              "  <thead>\n",
              "    <tr style=\"text-align: right;\">\n",
              "      <th></th>\n",
              "      <th>Label</th>\n",
              "    </tr>\n",
              "  </thead>\n",
              "  <tbody>\n",
              "    <tr>\n",
              "      <th>0</th>\n",
              "      <td>1</td>\n",
              "    </tr>\n",
              "    <tr>\n",
              "      <th>1</th>\n",
              "      <td>1</td>\n",
              "    </tr>\n",
              "    <tr>\n",
              "      <th>2</th>\n",
              "      <td>1</td>\n",
              "    </tr>\n",
              "    <tr>\n",
              "      <th>3</th>\n",
              "      <td>1</td>\n",
              "    </tr>\n",
              "    <tr>\n",
              "      <th>4</th>\n",
              "      <td>1</td>\n",
              "    </tr>\n",
              "  </tbody>\n",
              "</table>\n",
              "</div>"
            ],
            "text/plain": [
              "   Label\n",
              "0      1\n",
              "1      1\n",
              "2      1\n",
              "3      1\n",
              "4      1"
            ]
          },
          "metadata": {
            "tags": []
          },
          "execution_count": 6
        }
      ]
    },
    {
      "cell_type": "code",
      "metadata": {
        "id": "4Oo1L_1hOlAh",
        "colab_type": "code",
        "outputId": "a8b0b0cb-c4a5-44df-8e0a-9a67d7097045",
        "colab": {
          "base_uri": "https://localhost:8080/",
          "height": 51
        }
      },
      "source": [
        "print(data_x.shape)\n",
        "print(data_y.shape)"
      ],
      "execution_count": 7,
      "outputs": [
        {
          "output_type": "stream",
          "text": [
            "(3988, 3)\n",
            "(3988, 1)\n"
          ],
          "name": "stdout"
        }
      ]
    },
    {
      "cell_type": "code",
      "metadata": {
        "id": "BrUH3RG5OrJR",
        "colab_type": "code",
        "colab": {}
      },
      "source": [
        "import numpy as np\n",
        "from sklearn.model_selection import train_test_split\n",
        "from sklearn.feature_extraction.text import CountVectorizer\n",
        "#from sklearn.feature_extraction.text import TfidfTransformer\n",
        "from sklearn.feature_extraction.text import TfidfVectorizer\n",
        "from sklearn import metrics\n",
        "from sklearn.metrics import confusion_matrix\n",
        "from matplotlib import pyplot as plt\n",
        "from sklearn.feature_extraction.text import HashingVectorizer\n",
        "from sklearn.linear_model import PassiveAggressiveClassifier"
      ],
      "execution_count": 0,
      "outputs": []
    },
    {
      "cell_type": "code",
      "metadata": {
        "id": "bUoSOPfqO1Iw",
        "colab_type": "code",
        "colab": {}
      },
      "source": [
        "def split_data(x,y):\n",
        "    \n",
        "    \"\"\"\n",
        "    Reminder : Clean the set before sending here.\n",
        "    Input  : x=Attributes of the dataset, y=Target Attribute\n",
        "    Output : Split data of train test\n",
        "    \n",
        "    We are removing dev , as dev can be better used for the models that includes DNN, CNN and RNN\n",
        "    \n",
        "    \"\"\"\n",
        "    X=x\n",
        "    Y=y\n",
        "    \n",
        "    train_x,test_x,train_y,test_y = train_test_split(x,y,test_size=0.2,random_state=12)\n",
        "    \n",
        "    #train_x : Training data with attributes\n",
        "    #train_y : Training data with ratings\n",
        "    #test_x  : testing data with attributes\n",
        "    #test_y  : testing data with rating \n",
        "    \n",
        "    print(\"Final size of train/test :\",train_x.size,\"/\",test_x.size)\n",
        "    return train_x,train_y,test_x,test_y"
      ],
      "execution_count": 0,
      "outputs": []
    },
    {
      "cell_type": "code",
      "metadata": {
        "id": "DtkVlaM-QW3f",
        "colab_type": "code",
        "outputId": "c62731fe-eca6-4227-c7d5-2ee75af9869f",
        "colab": {
          "base_uri": "https://localhost:8080/",
          "height": 34
        }
      },
      "source": [
        "import numpy as np\n",
        "a=np.array([])\n",
        "a.size"
      ],
      "execution_count": 10,
      "outputs": [
        {
          "output_type": "execute_result",
          "data": {
            "text/plain": [
              "0"
            ]
          },
          "metadata": {
            "tags": []
          },
          "execution_count": 10
        }
      ]
    },
    {
      "cell_type": "code",
      "metadata": {
        "id": "YcQbnSdmO3Bw",
        "colab_type": "code",
        "colab": {}
      },
      "source": [
        "def passive_aggressive(train_x,train_y,test_x,test_y,stop=False):\n",
        "    \n",
        "    if stop==True:\n",
        "        print(\"Early Stopping is being used\")\n",
        "    \n",
        "    pac= PassiveAggressiveClassifier(early_stopping=stop)\n",
        "    pac.fit(train_x, train_y)\n",
        "    predicted_pac_train=pac.predict(train_x)\n",
        "    predicted_pac_test= pac.predict(test_x)\n",
        "    \n",
        "    score_train= metrics.accuracy_score(train_y, predicted_pac_train)\n",
        "    score_test=metrics.accuracy_score(test_y,predicted_pac_test)\n",
        "    \n",
        "    print(\"train accuracy:\",score_train)\n",
        "    cm_pac_train= metrics.confusion_matrix(train_y, predicted_pac_train)\n",
        "    print(\"train confusion matrix\")\n",
        "    print(cm_pac_train)\n",
        "    print(\"test accuracy:\",score_test)\n",
        "    cm_pac_test= metrics.confusion_matrix(test_y, predicted_pac_test)\n",
        "    print(\"test confusion matrix\")\n",
        "    print(cm_pac_test)"
      ],
      "execution_count": 0,
      "outputs": []
    },
    {
      "cell_type": "code",
      "metadata": {
        "id": "nWBAC6ufPCTC",
        "colab_type": "code",
        "colab": {}
      },
      "source": [
        "def mult_tfidf_pac(x1,y,stop=False):\n",
        "    from sklearn.feature_extraction.text import TfidfVectorizer\n",
        "\n",
        "    #if x3.size==0:\n",
        "    train_x1,train_y1,test_x1,test_y1=split_data(x1,y)\n",
        "        #train_x2,train_y2,test_x2,test_y2=split_data(x2,y)\n",
        "\n",
        "\n",
        "\n",
        "    tfidf_vectorizer = TfidfVectorizer(stop_words='english',max_df=0.7,min_df=0.02)   # a TFIDF vectorizer\n",
        "    tfidf_train_x1 = pd.DataFrame(tfidf_vectorizer.fit_transform(train_x1).todense())  #fitting the training data\n",
        "    tfidf_test_x1 = pd.DataFrame(tfidf_vectorizer.transform(test_x1).todense())\n",
        "\n",
        "        #tfidf_train_x2 = pd.DataFrame(tfidf_vectorizer.fit_transform(train_x2).todense())  #fitting the training data\n",
        "        #tfidf_test_x2 = pd.DataFrame(tfidf_vectorizer.transform(test_x2).todense()) \n",
        "\n",
        "        #train=pd.concat([tfidf_train_x1,tfidf_train_x2],axis=1)\n",
        "        #test=pd.concat([tfidf_test_x1,tfidf_test_x2],axis=1)\n",
        "    print(tfidf_train_x1.shape)\n",
        "    print(tfidf_test_x1.shape)\n",
        "    #    print(train_y2.shape)\n",
        "     #   print(test_y2.shape)\n",
        "\n",
        "    passive_aggressive(tfidf_train_x1,train_y1,tfidf_test_x1,test_y1)\n",
        "    \n",
        "    '''else:\n",
        "        train_x1,train_y1,test_x1,test_y1=an.split_data(x1,y)\n",
        "        train_x2,train_y2,test_x2,test_y2=an.split_data(x2,y)\n",
        "        train_x3,train_y3,test_x3,test_y3=an.split_data(x3,y)\n",
        "        \n",
        "        tfidf_vectorizer = TfidfVectorizer(stop_words='english',max_df=0.7,min_df=0.02)   # a TFIDF vectorizer\n",
        "        tfidf_train_x1 = pd.DataFrame(tfidf_vectorizer.fit_transform(train_x1).todense())  #fitting the training data\n",
        "        tfidf_test_x1 = pd.DataFrame(tfidf_vectorizer.transform(test_x1).todense())\n",
        "\n",
        "        tfidf_train_x2 = pd.DataFrame(tfidf_vectorizer.fit_transform(train_x2).todense())  #fitting the training data\n",
        "        tfidf_test_x2 = pd.DataFrame(tfidf_vectorizer.transform(test_x2).todense()) \n",
        "        \n",
        "        tfidf_train_x3 = pd.DataFrame(tfidf_vectorizer.fit_transform(train_x3).todense())  #fitting the training data\n",
        "        tfidf_test_x3 = pd.DataFrame(tfidf_vectorizer.transform(test_x3).todense())\n",
        "        \n",
        "        train=pd.concat([tfidf_train_x1,tfidf_train_x2,tfidf_train_x3],axis=1)\n",
        "        test=pd.concat([tfidf_test_x1,tfidf_test_x2,tfidf_test_x3],axis=1)\n",
        "        \n",
        "        passive_aggressive(train,train_y2,test,test_y2)'''"
      ],
      "execution_count": 0,
      "outputs": []
    },
    {
      "cell_type": "code",
      "metadata": {
        "id": "ms0f9pu8c0Sb",
        "colab_type": "code",
        "colab": {
          "base_uri": "https://localhost:8080/",
          "height": 204
        },
        "outputId": "45fdbf28-5ea9-4d4f-844f-b987bd7556b7"
      },
      "source": [
        "mult_tfidf_pac(x1=data_x.URLs,y=data_y.Label,stop=True)"
      ],
      "execution_count": 13,
      "outputs": [
        {
          "output_type": "stream",
          "text": [
            "Final size of train/test : 3190 / 798\n",
            "(3190, 46)\n",
            "(798, 46)\n",
            "train accuracy: 1.0\n",
            "train confusion matrix\n",
            "[[1688    0]\n",
            " [   0 1502]]\n",
            "test accuracy: 1.0\n",
            "test confusion matrix\n",
            "[[432   0]\n",
            " [  0 366]]\n"
          ],
          "name": "stdout"
        }
      ]
    },
    {
      "cell_type": "code",
      "metadata": {
        "id": "YiVuI8gvdr-c",
        "colab_type": "code",
        "colab": {
          "base_uri": "https://localhost:8080/",
          "height": 204
        },
        "outputId": "75d08212-e439-48de-e8b1-2b9ad05fe701"
      },
      "source": [
        "mult_tfidf_pac(x1=data_x.Headline,y=data_y.Label,stop=True)"
      ],
      "execution_count": 14,
      "outputs": [
        {
          "output_type": "stream",
          "text": [
            "Final size of train/test : 3190 / 798\n",
            "(3190, 14)\n",
            "(798, 14)\n",
            "train accuracy: 0.5529780564263322\n",
            "train confusion matrix\n",
            "[[1577  111]\n",
            " [1315  187]]\n",
            "test accuracy: 0.5614035087719298\n",
            "test confusion matrix\n",
            "[[405  27]\n",
            " [323  43]]\n"
          ],
          "name": "stdout"
        }
      ]
    },
    {
      "cell_type": "code",
      "metadata": {
        "id": "iYGh-egKeAmr",
        "colab_type": "code",
        "colab": {
          "base_uri": "https://localhost:8080/",
          "height": 204
        },
        "outputId": "ba98fcd2-3b5b-46a3-b67c-078edfbcd03e"
      },
      "source": [
        "mult_tfidf_pac(x1=data_x.Body,y=data_y.Label,stop=True)"
      ],
      "execution_count": 15,
      "outputs": [
        {
          "output_type": "stream",
          "text": [
            "Final size of train/test : 3190 / 798\n",
            "(3190, 1945)\n",
            "(798, 1945)\n",
            "train accuracy: 1.0\n",
            "train confusion matrix\n",
            "[[1688    0]\n",
            " [   0 1502]]\n",
            "test accuracy: 0.9824561403508771\n",
            "test confusion matrix\n",
            "[[419  13]\n",
            " [  1 365]]\n"
          ],
          "name": "stdout"
        }
      ]
    },
    {
      "cell_type": "code",
      "metadata": {
        "id": "f4GUxG0qeQpG",
        "colab_type": "code",
        "colab": {
          "base_uri": "https://localhost:8080/",
          "height": 204
        },
        "outputId": "5245e0c1-c8a3-4c6a-9048-6499bd1f3645"
      },
      "source": [
        "mult_tfidf_pac(x1=data_x.URLs,y=data_y.Label,stop=False)"
      ],
      "execution_count": 16,
      "outputs": [
        {
          "output_type": "stream",
          "text": [
            "Final size of train/test : 3190 / 798\n",
            "(3190, 46)\n",
            "(798, 46)\n",
            "train accuracy: 1.0\n",
            "train confusion matrix\n",
            "[[1688    0]\n",
            " [   0 1502]]\n",
            "test accuracy: 1.0\n",
            "test confusion matrix\n",
            "[[432   0]\n",
            " [  0 366]]\n"
          ],
          "name": "stdout"
        }
      ]
    },
    {
      "cell_type": "code",
      "metadata": {
        "id": "RaIjb5nyegel",
        "colab_type": "code",
        "colab": {
          "base_uri": "https://localhost:8080/",
          "height": 204
        },
        "outputId": "eb614ed3-3aa9-4d47-bba2-d7f6235e2b3b"
      },
      "source": [
        "mult_tfidf_pac(x1=data_x.Headline,y=data_y.Label,stop=False)"
      ],
      "execution_count": 18,
      "outputs": [
        {
          "output_type": "stream",
          "text": [
            "Final size of train/test : 3190 / 798\n",
            "(3190, 14)\n",
            "(798, 14)\n",
            "train accuracy: 0.5551724137931034\n",
            "train confusion matrix\n",
            "[[1509  179]\n",
            " [1240  262]]\n",
            "test accuracy: 0.5476190476190477\n",
            "test confusion matrix\n",
            "[[387  45]\n",
            " [316  50]]\n"
          ],
          "name": "stdout"
        }
      ]
    },
    {
      "cell_type": "code",
      "metadata": {
        "id": "yDTvjZmSewRX",
        "colab_type": "code",
        "colab": {
          "base_uri": "https://localhost:8080/",
          "height": 204
        },
        "outputId": "fc96044c-3cfa-40b8-e7d0-79ab422de6b2"
      },
      "source": [
        "mult_tfidf_pac(x1=data_x.Body,y=data_y.Label,stop=False)"
      ],
      "execution_count": 19,
      "outputs": [
        {
          "output_type": "stream",
          "text": [
            "Final size of train/test : 3190 / 798\n",
            "(3190, 1945)\n",
            "(798, 1945)\n",
            "train accuracy: 1.0\n",
            "train confusion matrix\n",
            "[[1688    0]\n",
            " [   0 1502]]\n",
            "test accuracy: 0.981203007518797\n",
            "test confusion matrix\n",
            "[[419  13]\n",
            " [  2 364]]\n"
          ],
          "name": "stdout"
        }
      ]
    },
    {
      "cell_type": "code",
      "metadata": {
        "id": "Ex0uIZUCp5H5",
        "colab_type": "code",
        "colab": {}
      },
      "source": [
        "#tfidf_pac start \n",
        "\" \" \" mult_tfidf_pac(x1=data_x.URLs,x2=data_x.Headline,y=data_y.Label,x3=data_x.Body,stop=True) #early stopping true\n",
        "Final size of train/test : 3190 / 798\n",
        "Final size of train/test : 3190 / 798\n",
        "Final size of train/test : 3190 / 798\n",
        "Early Stopping is being used\n",
        "train accuracy: 1.0\n",
        "train confusion matrix\n",
        "[[1688    0]\n",
        " [   0 1502]]\n",
        "test accuracy: 0.9987468671679198\n",
        "test confusion matrix\n",
        "[[432   0]\n",
        " [  1 365]]"
      ],
      "execution_count": 0,
      "outputs": []
    },
    {
      "cell_type": "code",
      "metadata": {
        "id": "nE5J6BIMqBM5",
        "colab_type": "code",
        "colab": {}
      },
      "source": [
        "\" \" \" mult_tfidf_pac(x1=data_x.URLs,x2=data_x.Headline,y=data_y.Label,x3=data_x.Body) #early stopping false\n",
        "Final size of train/test : 3190 / 798\n",
        "Final size of train/test : 3190 / 798\n",
        "Final size of train/test : 3190 / 798\n",
        "train accuracy: 1.0\n",
        "train confusion matrix\n",
        "[[1688    0]\n",
        " [   0 1502]]\n",
        "test accuracy: 0.9987468671679198\n",
        "test confusion matrix\n",
        "[[432   0]\n",
        " [  1 365]]"
      ],
      "execution_count": 0,
      "outputs": []
    },
    {
      "cell_type": "code",
      "metadata": {
        "id": "r2jzd9AXPWY5",
        "colab_type": "code",
        "outputId": "7f80ab2b-ee43-4c3d-fac1-56e901dea655",
        "colab": {
          "base_uri": "https://localhost:8080/",
          "height": 255
        }
      },
      "source": [
        "mult_tfidf_pac(x1=data_x.URLs,x2=data_x.Headline,y=data_y.Label,x3=a,stop=True) #early stopping true"
      ],
      "execution_count": 0,
      "outputs": [
        {
          "output_type": "stream",
          "text": [
            "Final size of train/test : 3190 / 798\n",
            "Final size of train/test : 3190 / 798\n",
            "(3190, 60)\n",
            "(798, 60)\n",
            "(3190,)\n",
            "(798,)\n",
            "train accuracy: 1.0\n",
            "train confusion matrix\n",
            "[[1688    0]\n",
            " [   0 1502]]\n",
            "test accuracy: 1.0\n",
            "test confusion matrix\n",
            "[[432   0]\n",
            " [  0 366]]\n"
          ],
          "name": "stdout"
        }
      ]
    },
    {
      "cell_type": "code",
      "metadata": {
        "id": "dxenasQbS_6g",
        "colab_type": "code",
        "outputId": "3a87031e-f3c4-40a2-ef59-e86e08185096",
        "colab": {
          "base_uri": "https://localhost:8080/",
          "height": 255
        }
      },
      "source": [
        "mult_tfidf_pac(x1=data_x.URLs,x2=data_x.Headline,y=data_y.Label,x3=a)#early stopping false"
      ],
      "execution_count": 0,
      "outputs": [
        {
          "output_type": "stream",
          "text": [
            "Final size of train/test : 3190 / 798\n",
            "Final size of train/test : 3190 / 798\n",
            "(3190, 60)\n",
            "(798, 60)\n",
            "(3190,)\n",
            "(798,)\n",
            "train accuracy: 1.0\n",
            "train confusion matrix\n",
            "[[1688    0]\n",
            " [   0 1502]]\n",
            "test accuracy: 0.9987468671679198\n",
            "test confusion matrix\n",
            "[[432   0]\n",
            " [  1 365]]\n"
          ],
          "name": "stdout"
        }
      ]
    },
    {
      "cell_type": "code",
      "metadata": {
        "id": "GAvdGhaTSlv8",
        "colab_type": "code",
        "outputId": "6c38b574-6efa-4dfe-899a-63b2baaa6c7a",
        "colab": {
          "base_uri": "https://localhost:8080/",
          "height": 255
        }
      },
      "source": [
        "mult_tfidf_pac(x1=data_x.URLs,x2=data_x.Body,y=data_y.Label,x3=a,stop=True) #early stopping true"
      ],
      "execution_count": 0,
      "outputs": [
        {
          "output_type": "stream",
          "text": [
            "Final size of train/test : 3190 / 798\n",
            "Final size of train/test : 3190 / 798\n",
            "(3190, 1991)\n",
            "(798, 1991)\n",
            "(3190,)\n",
            "(798,)\n",
            "train accuracy: 1.0\n",
            "train confusion matrix\n",
            "[[1688    0]\n",
            " [   0 1502]]\n",
            "test accuracy: 1.0\n",
            "test confusion matrix\n",
            "[[432   0]\n",
            " [  0 366]]\n"
          ],
          "name": "stdout"
        }
      ]
    },
    {
      "cell_type": "code",
      "metadata": {
        "id": "UoR2sAGJTZ_f",
        "colab_type": "code",
        "outputId": "8cb06d4c-d4ef-4231-e18c-227084110ab2",
        "colab": {
          "base_uri": "https://localhost:8080/",
          "height": 255
        }
      },
      "source": [
        "mult_tfidf_pac(x1=data_x.URLs,x2=data_x.Headline,y=data_y.Label,x3=a)#early stoping false"
      ],
      "execution_count": 0,
      "outputs": [
        {
          "output_type": "stream",
          "text": [
            "Final size of train/test : 3190 / 798\n",
            "Final size of train/test : 3190 / 798\n",
            "(3190, 60)\n",
            "(798, 60)\n",
            "(3190,)\n",
            "(798,)\n",
            "train accuracy: 1.0\n",
            "train confusion matrix\n",
            "[[1688    0]\n",
            " [   0 1502]]\n",
            "test accuracy: 0.9987468671679198\n",
            "test confusion matrix\n",
            "[[432   0]\n",
            " [  1 365]]\n"
          ],
          "name": "stdout"
        }
      ]
    },
    {
      "cell_type": "code",
      "metadata": {
        "id": "9ZpnmGfUTg3Y",
        "colab_type": "code",
        "outputId": "8c90f496-92b1-46c5-d163-cd34c6d7ab78",
        "colab": {
          "base_uri": "https://localhost:8080/",
          "height": 255
        }
      },
      "source": [
        "mult_tfidf_pac(x1=data_x.URLs,x2=data_x.Body,y=data_y.Label,x3=a) #early stopping false"
      ],
      "execution_count": 0,
      "outputs": [
        {
          "output_type": "stream",
          "text": [
            "Final size of train/test : 3190 / 798\n",
            "Final size of train/test : 3190 / 798\n",
            "(3190, 1991)\n",
            "(798, 1991)\n",
            "(3190,)\n",
            "(798,)\n",
            "train accuracy: 1.0\n",
            "train confusion matrix\n",
            "[[1688    0]\n",
            " [   0 1502]]\n",
            "test accuracy: 1.0\n",
            "test confusion matrix\n",
            "[[432   0]\n",
            " [  0 366]]\n"
          ],
          "name": "stdout"
        }
      ]
    },
    {
      "cell_type": "code",
      "metadata": {
        "id": "Y8mQKuzvUDLx",
        "colab_type": "code",
        "outputId": "16f1424d-390f-4c49-d8f2-d92aff3bfa89",
        "colab": {
          "base_uri": "https://localhost:8080/",
          "height": 255
        }
      },
      "source": [
        "mult_tfidf_pac(x1=data_x.Body,x2=data_x.Headline,y=data_y.Label,x3=a,stop=True) #early stopping true"
      ],
      "execution_count": 0,
      "outputs": [
        {
          "output_type": "stream",
          "text": [
            "Final size of train/test : 3190 / 798\n",
            "Final size of train/test : 3190 / 798\n",
            "(3190, 1959)\n",
            "(798, 1959)\n",
            "(3190,)\n",
            "(798,)\n",
            "train accuracy: 1.0\n",
            "train confusion matrix\n",
            "[[1688    0]\n",
            " [   0 1502]]\n",
            "test accuracy: 0.9849624060150376\n",
            "test confusion matrix\n",
            "[[423   9]\n",
            " [  3 363]]\n"
          ],
          "name": "stdout"
        }
      ]
    },
    {
      "cell_type": "code",
      "metadata": {
        "id": "3T7TDOIjUP9E",
        "colab_type": "code",
        "outputId": "0b9791dc-8e0f-4418-e1cd-fe12c5591fe0",
        "colab": {
          "base_uri": "https://localhost:8080/",
          "height": 255
        }
      },
      "source": [
        "mult_tfidf_pac(x1=data_x.Body,x2=data_x.Headline,y=data_y.Label,x3=a)"
      ],
      "execution_count": 0,
      "outputs": [
        {
          "output_type": "stream",
          "text": [
            "Final size of train/test : 3190 / 798\n",
            "Final size of train/test : 3190 / 798\n",
            "(3190, 1959)\n",
            "(798, 1959)\n",
            "(3190,)\n",
            "(798,)\n",
            "train accuracy: 1.0\n",
            "train confusion matrix\n",
            "[[1688    0]\n",
            " [   0 1502]]\n",
            "test accuracy: 0.9799498746867168\n",
            "test confusion matrix\n",
            "[[419  13]\n",
            " [  3 363]]\n"
          ],
          "name": "stdout"
        }
      ]
    },
    {
      "cell_type": "code",
      "metadata": {
        "id": "yl9tvENfUnZN",
        "colab_type": "code",
        "colab": {}
      },
      "source": [
        "#hashv start \n",
        "def multi_hashv_pac(x1,x2,y,x3=a,stop=False):\n",
        "    from sklearn.feature_extraction.text import HashingVectorizer\n",
        "    # Not sure about this, collisions may occur as I forced absolute cause naivie bayes is a bitch and n_features over \n",
        "                                                                                        #2**15 causes memory error\n",
        "    \n",
        "    if x3.size==0:\n",
        "        train_x1,train_y1,test_x1,test_y1=split_data(x1,y)\n",
        "        train_x2,train_y2,test_x2,test_y2=split_data(x2,y)\n",
        "\n",
        "\n",
        "\n",
        "        hash_vectorizer = HashingVectorizer(stop_words='english',n_features = 2**8)   # a HASH vectorizer\n",
        "        hash_train_x1 = pd.DataFrame(np.absolute(hash_vectorizer.fit_transform(train_x1).todense()))  #fitting the training data\n",
        "        hash_test_x1 = pd.DataFrame(np.absolute(hash_vectorizer.transform(test_x1).todense()))\n",
        "\n",
        "        hash_train_x2 = pd.DataFrame(np.absolute(hash_vectorizer.fit_transform(train_x2).todense()))  #fitting the training data\n",
        "        hash_test_x2 = pd.DataFrame(np.absolute(hash_vectorizer.transform(test_x2).todense())) \n",
        "\n",
        "        train=pd.concat([hash_train_x1,hash_train_x2],axis=1)\n",
        "        test=pd.concat([hash_test_x1,hash_test_x2],axis=1)\n",
        "        print(train.shape)\n",
        "        print(test.shape)\n",
        "        print(train_y2.shape)\n",
        "        print(test_y2.shape)\n",
        "\n",
        "        passive_aggressive(train,train_y2,test,test_y2,stop)\n",
        "    \n",
        "    else:\n",
        "        train_x1,train_y1,test_x1,test_y1=split_data(x1,y)\n",
        "        train_x2,train_y2,test_x2,test_y2=split_data(x2,y)\n",
        "        train_x3,train_y3,test_x3,test_y3=split_data(x3,y)\n",
        "        \n",
        "        hash_vectorizer = HashingVectorizer(stop_words='english',n_features = 2**8)   # a HASH vectorizer\n",
        "        hash_train_x1 = pd.DataFrame(np.absolute(hash_vectorizer.fit_transform(train_x1).todense()) ) #fitting the training data\n",
        "        hash_test_x1 = pd.DataFrame(np.absolute(hash_vectorizer.transform(test_x1).todense()))\n",
        "\n",
        "        hash_train_x2 = pd.DataFrame(np.absolute(hash_vectorizer.fit_transform(train_x2).todense()) ) #fitting the training data\n",
        "        hash_test_x2 = pd.DataFrame(np.absolute(hash_vectorizer.transform(test_x2).todense()) )\n",
        "        \n",
        "        hash_train_x3 = pd.DataFrame(np.absolute(hash_vectorizer.fit_transform(train_x3).todense()))  #fitting the training data\n",
        "        hash_test_x3 = pd.DataFrame(np.absolute(hash_vectorizer.transform(test_x3).todense()))\n",
        "        \n",
        "        train=pd.concat([hash_train_x1,hash_train_x2,hash_train_x3],axis=1)\n",
        "        test=pd.concat([hash_test_x1,hash_test_x2,hash_test_x3],axis=1)\n",
        "        \n",
        "        passive_aggressiv(train,train_y2,test,test_y2,stop)"
      ],
      "execution_count": 0,
      "outputs": []
    },
    {
      "cell_type": "code",
      "metadata": {
        "id": "AZepp0fhqJkR",
        "colab_type": "code",
        "colab": {}
      },
      "source": [
        "\" \" \" multi_hashv_pac(x1=data_x.URLs,x2=data_x.Headline,y=data_y.Label,x3=data_x.Body) #early stopping false\n",
        "Final size of train/test : 3190 / 798\n",
        "Final size of train/test : 3190 / 798\n",
        "Final size of train/test : 3190 / 798\n",
        "train accuracy: 1.0\n",
        "train confusion matrix\n",
        "[[1688    0]\n",
        " [   0 1502]]\n",
        "test accuracy: 0.9974937343358395\n",
        "test confusion matrix\n",
        "[[431   1]\n",
        " [  1 365]]"
      ],
      "execution_count": 0,
      "outputs": []
    },
    {
      "cell_type": "code",
      "metadata": {
        "id": "1d8x2FFrqP8G",
        "colab_type": "code",
        "colab": {}
      },
      "source": [
        "\" \" \" multi_hashv_pac(x1=data_x.URLs,x2=data_x.Headline,y=data_y.Label,x3=data_x.Body,stop=True) #early stopping true\n",
        "Final size of train/test : 3190 / 798\n",
        "Final size of train/test : 3190 / 798\n",
        "Final size of train/test : 3190 / 798\n",
        "Early Stopping is being used\n",
        "train accuracy: 0.9993730407523511\n",
        "train confusion matrix\n",
        "[[1686    2]\n",
        " [   0 1502]]\n",
        "test accuracy: 0.9962406015037594\n",
        "test confusion matrix\n",
        "[[430   2]\n",
        " [  1 365]]"
      ],
      "execution_count": 0,
      "outputs": []
    },
    {
      "cell_type": "code",
      "metadata": {
        "id": "PyPEtHi2U9Kc",
        "colab_type": "code",
        "outputId": "1e028ca4-ce18-4633-e984-5776b52d026b",
        "colab": {
          "base_uri": "https://localhost:8080/",
          "height": 272
        }
      },
      "source": [
        "multi_hashv_pac(x1=data_x.URLs,x2=data_x.Headline,y=data_y.Label,x3=a,stop=True) #early stopping true"
      ],
      "execution_count": 0,
      "outputs": [
        {
          "output_type": "stream",
          "text": [
            "Final size of train/test : 3190 / 798\n",
            "Final size of train/test : 3190 / 798\n",
            "(3190, 512)\n",
            "(798, 512)\n",
            "(3190,)\n",
            "(798,)\n",
            "Early Stopping is being used\n",
            "train accuracy: 0.9987460815047022\n",
            "train confusion matrix\n",
            "[[1685    3]\n",
            " [   1 1501]]\n",
            "test accuracy: 0.993734335839599\n",
            "test confusion matrix\n",
            "[[428   4]\n",
            " [  1 365]]\n"
          ],
          "name": "stdout"
        }
      ]
    },
    {
      "cell_type": "code",
      "metadata": {
        "id": "S3Exx_7aWzMm",
        "colab_type": "code",
        "outputId": "ba3e92ba-781d-4c3f-e589-91878003a61d",
        "colab": {
          "base_uri": "https://localhost:8080/",
          "height": 255
        }
      },
      "source": [
        "multi_hashv_pac(x1=data_x.URLs,x2=data_x.Headline,y=data_y.Label,x3=a)"
      ],
      "execution_count": 0,
      "outputs": [
        {
          "output_type": "stream",
          "text": [
            "Final size of train/test : 3190 / 798\n",
            "Final size of train/test : 3190 / 798\n",
            "(3190, 512)\n",
            "(798, 512)\n",
            "(3190,)\n",
            "(798,)\n",
            "train accuracy: 1.0\n",
            "train confusion matrix\n",
            "[[1688    0]\n",
            " [   0 1502]]\n",
            "test accuracy: 0.9949874686716792\n",
            "test confusion matrix\n",
            "[[429   3]\n",
            " [  1 365]]\n"
          ],
          "name": "stdout"
        }
      ]
    },
    {
      "cell_type": "code",
      "metadata": {
        "id": "EZZzp23-W61X",
        "colab_type": "code",
        "outputId": "2a0b13ee-25fc-40e1-cab1-414eb064740c",
        "colab": {
          "base_uri": "https://localhost:8080/",
          "height": 272
        }
      },
      "source": [
        "multi_hashv_pac(x1=data_x.URLs,x2=data_x.Body,y=data_y.Label,x3=a,stop=True)"
      ],
      "execution_count": 0,
      "outputs": [
        {
          "output_type": "stream",
          "text": [
            "Final size of train/test : 3190 / 798\n",
            "Final size of train/test : 3190 / 798\n",
            "(3190, 512)\n",
            "(798, 512)\n",
            "(3190,)\n",
            "(798,)\n",
            "Early Stopping is being used\n",
            "train accuracy: 1.0\n",
            "train confusion matrix\n",
            "[[1688    0]\n",
            " [   0 1502]]\n",
            "test accuracy: 0.9987468671679198\n",
            "test confusion matrix\n",
            "[[432   0]\n",
            " [  1 365]]\n"
          ],
          "name": "stdout"
        }
      ]
    },
    {
      "cell_type": "code",
      "metadata": {
        "id": "U1JC2TMqXIKZ",
        "colab_type": "code",
        "outputId": "886deefc-6bd2-4463-903a-64b08abe8b1d",
        "colab": {
          "base_uri": "https://localhost:8080/",
          "height": 255
        }
      },
      "source": [
        "multi_hashv_pac(x1=data_x.URLs,x2=data_x.Body,y=data_y.Label,x3=a)"
      ],
      "execution_count": 0,
      "outputs": [
        {
          "output_type": "stream",
          "text": [
            "Final size of train/test : 3190 / 798\n",
            "Final size of train/test : 3190 / 798\n",
            "(3190, 512)\n",
            "(798, 512)\n",
            "(3190,)\n",
            "(798,)\n",
            "train accuracy: 1.0\n",
            "train confusion matrix\n",
            "[[1688    0]\n",
            " [   0 1502]]\n",
            "test accuracy: 0.9987468671679198\n",
            "test confusion matrix\n",
            "[[432   0]\n",
            " [  1 365]]\n"
          ],
          "name": "stdout"
        }
      ]
    },
    {
      "cell_type": "code",
      "metadata": {
        "id": "Y1G6QOlNXQIB",
        "colab_type": "code",
        "outputId": "3acca688-3079-4916-b7c4-67e875467034",
        "colab": {
          "base_uri": "https://localhost:8080/",
          "height": 272
        }
      },
      "source": [
        "multi_hashv_pac(x1=data_x.Body,x2=data_x.Headline,y=data_y.Label,x3=a,stop=True)"
      ],
      "execution_count": 0,
      "outputs": [
        {
          "output_type": "stream",
          "text": [
            "Final size of train/test : 3190 / 798\n",
            "Final size of train/test : 3190 / 798\n",
            "(3190, 512)\n",
            "(798, 512)\n",
            "(3190,)\n",
            "(798,)\n",
            "Early Stopping is being used\n",
            "train accuracy: 0.9197492163009404\n",
            "train confusion matrix\n",
            "[[1447  241]\n",
            " [  15 1487]]\n",
            "test accuracy: 0.8596491228070176\n",
            "test confusion matrix\n",
            "[[342  90]\n",
            " [ 22 344]]\n"
          ],
          "name": "stdout"
        }
      ]
    },
    {
      "cell_type": "code",
      "metadata": {
        "id": "_llqFHwfXtFb",
        "colab_type": "code",
        "outputId": "9d4e199d-295f-49a0-9dc9-820135ce469e",
        "colab": {
          "base_uri": "https://localhost:8080/",
          "height": 255
        }
      },
      "source": [
        "multi_hashv_pac(x1=data_x.Body,x2=data_x.Headline,y=data_y.Label,x3=a)"
      ],
      "execution_count": 0,
      "outputs": [
        {
          "output_type": "stream",
          "text": [
            "Final size of train/test : 3190 / 798\n",
            "Final size of train/test : 3190 / 798\n",
            "(3190, 512)\n",
            "(798, 512)\n",
            "(3190,)\n",
            "(798,)\n",
            "train accuracy: 0.9689655172413794\n",
            "train confusion matrix\n",
            "[[1602   86]\n",
            " [  13 1489]]\n",
            "test accuracy: 0.8922305764411027\n",
            "test confusion matrix\n",
            "[[385  47]\n",
            " [ 39 327]]\n"
          ],
          "name": "stdout"
        }
      ]
    }
  ]
}