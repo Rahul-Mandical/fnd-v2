{
 "cells": [
  {
   "cell_type": "code",
   "execution_count": 12,
   "metadata": {
    "scrolled": true
   },
   "outputs": [],
   "source": [
    "import numpy as np\n",
    "import import_ipynb\n",
    "import auto_naive as an\n",
    "import auto_pac as ap\n",
    "import pandas as pd\n"
   ]
  },
  {
   "cell_type": "code",
   "execution_count": 13,
   "metadata": {},
   "outputs": [
    {
     "data": {
      "text/html": [
       "<div>\n",
       "<style scoped>\n",
       "    .dataframe tbody tr th:only-of-type {\n",
       "        vertical-align: middle;\n",
       "    }\n",
       "\n",
       "    .dataframe tbody tr th {\n",
       "        vertical-align: top;\n",
       "    }\n",
       "\n",
       "    .dataframe thead th {\n",
       "        text-align: right;\n",
       "    }\n",
       "</style>\n",
       "<table border=\"1\" class=\"dataframe\">\n",
       "  <thead>\n",
       "    <tr style=\"text-align: right;\">\n",
       "      <th></th>\n",
       "      <th>label</th>\n",
       "      <th>statement</th>\n",
       "      <th>subject</th>\n",
       "      <th>speaker</th>\n",
       "      <th>speaker_job_title</th>\n",
       "      <th>state_info</th>\n",
       "      <th>party</th>\n",
       "      <th>context</th>\n",
       "    </tr>\n",
       "  </thead>\n",
       "  <tbody>\n",
       "    <tr>\n",
       "      <td>0</td>\n",
       "      <td>0</td>\n",
       "      <td>Says the Annies List political group supports ...</td>\n",
       "      <td>abortion</td>\n",
       "      <td>dwayne-bohac</td>\n",
       "      <td>State representative</td>\n",
       "      <td>Texas</td>\n",
       "      <td>republican</td>\n",
       "      <td>a mailer</td>\n",
       "    </tr>\n",
       "    <tr>\n",
       "      <td>1</td>\n",
       "      <td>0</td>\n",
       "      <td>When did the decline of coal start? It started...</td>\n",
       "      <td>energy,history,job-accomplishments</td>\n",
       "      <td>scott-surovell</td>\n",
       "      <td>State delegate</td>\n",
       "      <td>Virginia</td>\n",
       "      <td>democrat</td>\n",
       "      <td>a floor speech.</td>\n",
       "    </tr>\n",
       "    <tr>\n",
       "      <td>2</td>\n",
       "      <td>0</td>\n",
       "      <td>Hillary Clinton agrees with John McCain \"by vo...</td>\n",
       "      <td>foreign-policy</td>\n",
       "      <td>barack-obama</td>\n",
       "      <td>President</td>\n",
       "      <td>Illinois</td>\n",
       "      <td>democrat</td>\n",
       "      <td>Denver</td>\n",
       "    </tr>\n",
       "    <tr>\n",
       "      <td>3</td>\n",
       "      <td>0</td>\n",
       "      <td>The Chicago Bears have had more starting quart...</td>\n",
       "      <td>education</td>\n",
       "      <td>robin-vos</td>\n",
       "      <td>Wisconsin Assembly speaker</td>\n",
       "      <td>Wisconsin</td>\n",
       "      <td>republican</td>\n",
       "      <td>a an online opinion-piece</td>\n",
       "    </tr>\n",
       "    <tr>\n",
       "      <td>4</td>\n",
       "      <td>0</td>\n",
       "      <td>I'm the only person on this stage who has work...</td>\n",
       "      <td>ethics</td>\n",
       "      <td>barack-obama</td>\n",
       "      <td>President</td>\n",
       "      <td>Illinois</td>\n",
       "      <td>democrat</td>\n",
       "      <td>a Democratic debate in Philadelphia, Pa.</td>\n",
       "    </tr>\n",
       "    <tr>\n",
       "      <td>...</td>\n",
       "      <td>...</td>\n",
       "      <td>...</td>\n",
       "      <td>...</td>\n",
       "      <td>...</td>\n",
       "      <td>...</td>\n",
       "      <td>...</td>\n",
       "      <td>...</td>\n",
       "      <td>...</td>\n",
       "    </tr>\n",
       "    <tr>\n",
       "      <td>8433</td>\n",
       "      <td>1</td>\n",
       "      <td>Says U.S. Rep. Charles Bass wants to privatize...</td>\n",
       "      <td>social-security</td>\n",
       "      <td>ann-mclane-kuster</td>\n",
       "      <td>Attorney</td>\n",
       "      <td>New Hampshire</td>\n",
       "      <td>democrat</td>\n",
       "      <td>an ad, “Janice,” released September 6, 2012</td>\n",
       "    </tr>\n",
       "    <tr>\n",
       "      <td>8434</td>\n",
       "      <td>0</td>\n",
       "      <td>In the past two years, Democrats have spent mo...</td>\n",
       "      <td>federal-budget,history</td>\n",
       "      <td>eric-cantor</td>\n",
       "      <td>House Majority Leader</td>\n",
       "      <td>Virginia</td>\n",
       "      <td>republican</td>\n",
       "      <td>an interview on Comedy Central's Daily Show wi...</td>\n",
       "    </tr>\n",
       "    <tr>\n",
       "      <td>8435</td>\n",
       "      <td>0</td>\n",
       "      <td>For the first time in more than a decade, impo...</td>\n",
       "      <td>energy,oil-spill,trade</td>\n",
       "      <td>barack-obama</td>\n",
       "      <td>President</td>\n",
       "      <td>Illinois</td>\n",
       "      <td>democrat</td>\n",
       "      <td>a press conference</td>\n",
       "    </tr>\n",
       "    <tr>\n",
       "      <td>8436</td>\n",
       "      <td>0</td>\n",
       "      <td>Says Donald Trump has bankrupted his companies...</td>\n",
       "      <td>candidates-biography</td>\n",
       "      <td>hillary-clinton</td>\n",
       "      <td>Presidential candidate</td>\n",
       "      <td>New York</td>\n",
       "      <td>democrat</td>\n",
       "      <td>a speech on the economy</td>\n",
       "    </tr>\n",
       "    <tr>\n",
       "      <td>8437</td>\n",
       "      <td>1</td>\n",
       "      <td>No one claims the report vindicating New Jerse...</td>\n",
       "      <td>candidates-biography,infrastructure</td>\n",
       "      <td>rudy-giuliani</td>\n",
       "      <td>Attorney</td>\n",
       "      <td>New York</td>\n",
       "      <td>republican</td>\n",
       "      <td>comments on NBC's \"Meet the Press\"</td>\n",
       "    </tr>\n",
       "  </tbody>\n",
       "</table>\n",
       "<p>8438 rows × 8 columns</p>\n",
       "</div>"
      ],
      "text/plain": [
       "      label                                          statement  \\\n",
       "0         0  Says the Annies List political group supports ...   \n",
       "1         0  When did the decline of coal start? It started...   \n",
       "2         0  Hillary Clinton agrees with John McCain \"by vo...   \n",
       "3         0  The Chicago Bears have had more starting quart...   \n",
       "4         0  I'm the only person on this stage who has work...   \n",
       "...     ...                                                ...   \n",
       "8433      1  Says U.S. Rep. Charles Bass wants to privatize...   \n",
       "8434      0  In the past two years, Democrats have spent mo...   \n",
       "8435      0  For the first time in more than a decade, impo...   \n",
       "8436      0  Says Donald Trump has bankrupted his companies...   \n",
       "8437      1  No one claims the report vindicating New Jerse...   \n",
       "\n",
       "                                  subject            speaker  \\\n",
       "0                                abortion       dwayne-bohac   \n",
       "1      energy,history,job-accomplishments     scott-surovell   \n",
       "2                          foreign-policy       barack-obama   \n",
       "3                               education          robin-vos   \n",
       "4                                  ethics       barack-obama   \n",
       "...                                   ...                ...   \n",
       "8433                      social-security  ann-mclane-kuster   \n",
       "8434               federal-budget,history        eric-cantor   \n",
       "8435               energy,oil-spill,trade       barack-obama   \n",
       "8436                 candidates-biography    hillary-clinton   \n",
       "8437  candidates-biography,infrastructure      rudy-giuliani   \n",
       "\n",
       "               speaker_job_title     state_info       party  \\\n",
       "0           State representative          Texas  republican   \n",
       "1                 State delegate       Virginia    democrat   \n",
       "2                      President       Illinois    democrat   \n",
       "3     Wisconsin Assembly speaker      Wisconsin  republican   \n",
       "4                      President       Illinois    democrat   \n",
       "...                          ...            ...         ...   \n",
       "8433                    Attorney  New Hampshire    democrat   \n",
       "8434       House Majority Leader       Virginia  republican   \n",
       "8435                   President       Illinois    democrat   \n",
       "8436      Presidential candidate       New York    democrat   \n",
       "8437                    Attorney       New York  republican   \n",
       "\n",
       "                                                context  \n",
       "0                                              a mailer  \n",
       "1                                       a floor speech.  \n",
       "2                                                Denver  \n",
       "3                             a an online opinion-piece  \n",
       "4              a Democratic debate in Philadelphia, Pa.  \n",
       "...                                                 ...  \n",
       "8433        an ad, “Janice,” released September 6, 2012  \n",
       "8434  an interview on Comedy Central's Daily Show wi...  \n",
       "8435                                 a press conference  \n",
       "8436                            a speech on the economy  \n",
       "8437                 comments on NBC's \"Meet the Press\"  \n",
       "\n",
       "[8438 rows x 8 columns]"
      ]
     },
     "execution_count": 13,
     "metadata": {},
     "output_type": "execute_result"
    }
   ],
   "source": [
    "data=pd.read_csv('liar_data.csv')\n",
    "\n",
    "data"
   ]
  },
  {
   "cell_type": "code",
   "execution_count": 14,
   "metadata": {},
   "outputs": [
    {
     "data": {
      "text/plain": [
       "label                0.0\n",
       "statement            0.0\n",
       "subject              0.0\n",
       "speaker              0.0\n",
       "speaker_job_title    0.0\n",
       "state_info           0.0\n",
       "party                0.0\n",
       "context              0.0\n",
       "dtype: float64"
      ]
     },
     "execution_count": 14,
     "metadata": {},
     "output_type": "execute_result"
    }
   ],
   "source": [
    "data.isna().sum()/(len(data))*100"
   ]
  },
  {
   "cell_type": "code",
   "execution_count": 15,
   "metadata": {},
   "outputs": [
    {
     "data": {
      "text/html": [
       "<div>\n",
       "<style scoped>\n",
       "    .dataframe tbody tr th:only-of-type {\n",
       "        vertical-align: middle;\n",
       "    }\n",
       "\n",
       "    .dataframe tbody tr th {\n",
       "        vertical-align: top;\n",
       "    }\n",
       "\n",
       "    .dataframe thead th {\n",
       "        text-align: right;\n",
       "    }\n",
       "</style>\n",
       "<table border=\"1\" class=\"dataframe\">\n",
       "  <thead>\n",
       "    <tr style=\"text-align: right;\">\n",
       "      <th></th>\n",
       "      <th>label</th>\n",
       "      <th>statement</th>\n",
       "      <th>subject</th>\n",
       "      <th>speaker</th>\n",
       "      <th>speaker_job_title</th>\n",
       "      <th>state_info</th>\n",
       "      <th>party</th>\n",
       "      <th>context</th>\n",
       "    </tr>\n",
       "  </thead>\n",
       "  <tbody>\n",
       "    <tr>\n",
       "      <td>0</td>\n",
       "      <td>0</td>\n",
       "      <td>Says the Annies List political group supports ...</td>\n",
       "      <td>abortion</td>\n",
       "      <td>dwayne-bohac</td>\n",
       "      <td>State representative</td>\n",
       "      <td>Texas</td>\n",
       "      <td>republican</td>\n",
       "      <td>a mailer</td>\n",
       "    </tr>\n",
       "    <tr>\n",
       "      <td>1</td>\n",
       "      <td>0</td>\n",
       "      <td>When did the decline of coal start? It started...</td>\n",
       "      <td>energy,history,job-accomplishments</td>\n",
       "      <td>scott-surovell</td>\n",
       "      <td>State delegate</td>\n",
       "      <td>Virginia</td>\n",
       "      <td>democrat</td>\n",
       "      <td>a floor speech.</td>\n",
       "    </tr>\n",
       "    <tr>\n",
       "      <td>2</td>\n",
       "      <td>0</td>\n",
       "      <td>Hillary Clinton agrees with John McCain \"by vo...</td>\n",
       "      <td>foreign-policy</td>\n",
       "      <td>barack-obama</td>\n",
       "      <td>President</td>\n",
       "      <td>Illinois</td>\n",
       "      <td>democrat</td>\n",
       "      <td>Denver</td>\n",
       "    </tr>\n",
       "    <tr>\n",
       "      <td>3</td>\n",
       "      <td>0</td>\n",
       "      <td>The Chicago Bears have had more starting quart...</td>\n",
       "      <td>education</td>\n",
       "      <td>robin-vos</td>\n",
       "      <td>Wisconsin Assembly speaker</td>\n",
       "      <td>Wisconsin</td>\n",
       "      <td>republican</td>\n",
       "      <td>a an online opinion-piece</td>\n",
       "    </tr>\n",
       "    <tr>\n",
       "      <td>4</td>\n",
       "      <td>0</td>\n",
       "      <td>I'm the only person on this stage who has work...</td>\n",
       "      <td>ethics</td>\n",
       "      <td>barack-obama</td>\n",
       "      <td>President</td>\n",
       "      <td>Illinois</td>\n",
       "      <td>democrat</td>\n",
       "      <td>a Democratic debate in Philadelphia, Pa.</td>\n",
       "    </tr>\n",
       "    <tr>\n",
       "      <td>...</td>\n",
       "      <td>...</td>\n",
       "      <td>...</td>\n",
       "      <td>...</td>\n",
       "      <td>...</td>\n",
       "      <td>...</td>\n",
       "      <td>...</td>\n",
       "      <td>...</td>\n",
       "      <td>...</td>\n",
       "    </tr>\n",
       "    <tr>\n",
       "      <td>8433</td>\n",
       "      <td>1</td>\n",
       "      <td>Says U.S. Rep. Charles Bass wants to privatize...</td>\n",
       "      <td>social-security</td>\n",
       "      <td>ann-mclane-kuster</td>\n",
       "      <td>Attorney</td>\n",
       "      <td>New Hampshire</td>\n",
       "      <td>democrat</td>\n",
       "      <td>an ad, “Janice,” released September 6, 2012</td>\n",
       "    </tr>\n",
       "    <tr>\n",
       "      <td>8434</td>\n",
       "      <td>0</td>\n",
       "      <td>In the past two years, Democrats have spent mo...</td>\n",
       "      <td>federal-budget,history</td>\n",
       "      <td>eric-cantor</td>\n",
       "      <td>House Majority Leader</td>\n",
       "      <td>Virginia</td>\n",
       "      <td>republican</td>\n",
       "      <td>an interview on Comedy Central's Daily Show wi...</td>\n",
       "    </tr>\n",
       "    <tr>\n",
       "      <td>8435</td>\n",
       "      <td>0</td>\n",
       "      <td>For the first time in more than a decade, impo...</td>\n",
       "      <td>energy,oil-spill,trade</td>\n",
       "      <td>barack-obama</td>\n",
       "      <td>President</td>\n",
       "      <td>Illinois</td>\n",
       "      <td>democrat</td>\n",
       "      <td>a press conference</td>\n",
       "    </tr>\n",
       "    <tr>\n",
       "      <td>8436</td>\n",
       "      <td>0</td>\n",
       "      <td>Says Donald Trump has bankrupted his companies...</td>\n",
       "      <td>candidates-biography</td>\n",
       "      <td>hillary-clinton</td>\n",
       "      <td>Presidential candidate</td>\n",
       "      <td>New York</td>\n",
       "      <td>democrat</td>\n",
       "      <td>a speech on the economy</td>\n",
       "    </tr>\n",
       "    <tr>\n",
       "      <td>8437</td>\n",
       "      <td>1</td>\n",
       "      <td>No one claims the report vindicating New Jerse...</td>\n",
       "      <td>candidates-biography,infrastructure</td>\n",
       "      <td>rudy-giuliani</td>\n",
       "      <td>Attorney</td>\n",
       "      <td>New York</td>\n",
       "      <td>republican</td>\n",
       "      <td>comments on NBC's \"Meet the Press\"</td>\n",
       "    </tr>\n",
       "  </tbody>\n",
       "</table>\n",
       "<p>8438 rows × 8 columns</p>\n",
       "</div>"
      ],
      "text/plain": [
       "      label                                          statement  \\\n",
       "0         0  Says the Annies List political group supports ...   \n",
       "1         0  When did the decline of coal start? It started...   \n",
       "2         0  Hillary Clinton agrees with John McCain \"by vo...   \n",
       "3         0  The Chicago Bears have had more starting quart...   \n",
       "4         0  I'm the only person on this stage who has work...   \n",
       "...     ...                                                ...   \n",
       "8433      1  Says U.S. Rep. Charles Bass wants to privatize...   \n",
       "8434      0  In the past two years, Democrats have spent mo...   \n",
       "8435      0  For the first time in more than a decade, impo...   \n",
       "8436      0  Says Donald Trump has bankrupted his companies...   \n",
       "8437      1  No one claims the report vindicating New Jerse...   \n",
       "\n",
       "                                  subject            speaker  \\\n",
       "0                                abortion       dwayne-bohac   \n",
       "1      energy,history,job-accomplishments     scott-surovell   \n",
       "2                          foreign-policy       barack-obama   \n",
       "3                               education          robin-vos   \n",
       "4                                  ethics       barack-obama   \n",
       "...                                   ...                ...   \n",
       "8433                      social-security  ann-mclane-kuster   \n",
       "8434               federal-budget,history        eric-cantor   \n",
       "8435               energy,oil-spill,trade       barack-obama   \n",
       "8436                 candidates-biography    hillary-clinton   \n",
       "8437  candidates-biography,infrastructure      rudy-giuliani   \n",
       "\n",
       "               speaker_job_title     state_info       party  \\\n",
       "0           State representative          Texas  republican   \n",
       "1                 State delegate       Virginia    democrat   \n",
       "2                      President       Illinois    democrat   \n",
       "3     Wisconsin Assembly speaker      Wisconsin  republican   \n",
       "4                      President       Illinois    democrat   \n",
       "...                          ...            ...         ...   \n",
       "8433                    Attorney  New Hampshire    democrat   \n",
       "8434       House Majority Leader       Virginia  republican   \n",
       "8435                   President       Illinois    democrat   \n",
       "8436      Presidential candidate       New York    democrat   \n",
       "8437                    Attorney       New York  republican   \n",
       "\n",
       "                                                context  \n",
       "0                                              a mailer  \n",
       "1                                       a floor speech.  \n",
       "2                                                Denver  \n",
       "3                             a an online opinion-piece  \n",
       "4              a Democratic debate in Philadelphia, Pa.  \n",
       "...                                                 ...  \n",
       "8433        an ad, “Janice,” released September 6, 2012  \n",
       "8434  an interview on Comedy Central's Daily Show wi...  \n",
       "8435                                 a press conference  \n",
       "8436                            a speech on the economy  \n",
       "8437                 comments on NBC's \"Meet the Press\"  \n",
       "\n",
       "[8438 rows x 8 columns]"
      ]
     },
     "execution_count": 15,
     "metadata": {},
     "output_type": "execute_result"
    }
   ],
   "source": [
    "data"
   ]
  },
  {
   "cell_type": "code",
   "execution_count": null,
   "metadata": {},
   "outputs": [],
   "source": []
  },
  {
   "cell_type": "code",
   "execution_count": 16,
   "metadata": {},
   "outputs": [
    {
     "name": "stdout",
     "output_type": "stream",
     "text": [
      "Splitting\n",
      "Final size of train/test : 6750 / 1688\n",
      "train_x : (6750,)\n",
      "train_y : (6750,)\n",
      "test_x : (1688,)\n",
      "test_y : (1688,)\n",
      "Vectorizing\n",
      "test_x : (1688,)\n",
      "train_x : (6750,)\n",
      "tfidf_train_x :  (6750, 9277)\n",
      "tfidf_test_x :  (1688, 9277)\n",
      "model building\n",
      "begin grid\n"
     ]
    },
    {
     "name": "stderr",
     "output_type": "stream",
     "text": [
      "C:\\Users\\shiva\\Anaconda3\\lib\\site-packages\\sklearn\\model_selection\\_split.py:1978: FutureWarning: The default value of cv will change from 3 to 5 in version 0.22. Specify it explicitly to silence this warning.\n",
      "  warnings.warn(CV_WARNING, FutureWarning)\n"
     ]
    },
    {
     "name": "stdout",
     "output_type": "stream",
     "text": [
      "grid score 0.7401481481481481\n",
      "grid alpha 0.9480000000000001\n",
      "Alpha: 0.948 test_Score: 0.71979 train_score: 0.75674\n",
      "training confusion matrix\n",
      "[[4994    0]\n",
      " [1642  114]]\n",
      "testing confusion matrix\n",
      "[[1214    3]\n",
      " [ 470    1]]\n",
      "------------------------------------------\n"
     ]
    }
   ],
   "source": [
    "#tfidf model building\n",
    "an.navie_bayes_tfidf_model(data.statement,data.label)"
   ]
  },
  {
   "cell_type": "code",
   "execution_count": 17,
   "metadata": {},
   "outputs": [
    {
     "name": "stdout",
     "output_type": "stream",
     "text": [
      "Splitting\n",
      "Final size of train/test : 6750 / 1688\n",
      "train_x : (6750,)\n",
      "train_y : (6750,)\n",
      "test_x : (1688,)\n",
      "test_y : (1688,)\n",
      "Vectorizing\n",
      "test_x : (1688,)\n",
      "train_x : (6750,)\n",
      "tfidf_train_x :  (6750, 174)\n",
      "tfidf_test_x :  (1688, 174)\n",
      "model building\n",
      "begin grid\n"
     ]
    },
    {
     "name": "stderr",
     "output_type": "stream",
     "text": [
      "C:\\Users\\shiva\\Anaconda3\\lib\\site-packages\\sklearn\\model_selection\\_split.py:1978: FutureWarning: The default value of cv will change from 3 to 5 in version 0.22. Specify it explicitly to silence this warning.\n",
      "  warnings.warn(CV_WARNING, FutureWarning)\n"
     ]
    },
    {
     "name": "stdout",
     "output_type": "stream",
     "text": [
      "grid score 0.737037037037037\n",
      "grid alpha 0.5710000000000001\n",
      "Alpha: 0.571 test_Score: 0.72097 train_score: 0.74000\n",
      "training confusion matrix\n",
      "[[4993    1]\n",
      " [1754    2]]\n",
      "testing confusion matrix\n",
      "[[1217    0]\n",
      " [ 471    0]]\n",
      "------------------------------------------\n"
     ]
    }
   ],
   "source": [
    "\n",
    "an.navie_bayes_tfidf_model(data.subject,data.label)"
   ]
  },
  {
   "cell_type": "code",
   "execution_count": 18,
   "metadata": {},
   "outputs": [
    {
     "name": "stdout",
     "output_type": "stream",
     "text": [
      "Splitting\n",
      "Final size of train/test : 6750 / 1688\n",
      "train_x : (6750,)\n",
      "train_y : (6750,)\n",
      "test_x : (1688,)\n",
      "test_y : (1688,)\n",
      "Vectorizing\n",
      "test_x : (1688,)\n",
      "train_x : (6750,)\n",
      "tfidf_train_x :  (6750, 2049)\n",
      "tfidf_test_x :  (1688, 2049)\n",
      "model building\n",
      "begin grid\n"
     ]
    },
    {
     "name": "stderr",
     "output_type": "stream",
     "text": [
      "C:\\Users\\shiva\\Anaconda3\\lib\\site-packages\\sklearn\\model_selection\\_split.py:1978: FutureWarning: The default value of cv will change from 3 to 5 in version 0.22. Specify it explicitly to silence this warning.\n",
      "  warnings.warn(CV_WARNING, FutureWarning)\n"
     ]
    },
    {
     "name": "stdout",
     "output_type": "stream",
     "text": [
      "grid score 0.7282962962962963\n",
      "grid alpha 0.999\n",
      "Alpha: 0.999 test_Score: 0.71505 train_score: 0.77052\n",
      "training confusion matrix\n",
      "[[4964   30]\n",
      " [1519  237]]\n",
      "testing confusion matrix\n",
      "[[1188   29]\n",
      " [ 452   19]]\n",
      "------------------------------------------\n"
     ]
    }
   ],
   "source": [
    "an.navie_bayes_tfidf_model(data.speaker,data.label)"
   ]
  },
  {
   "cell_type": "code",
   "execution_count": 29,
   "metadata": {},
   "outputs": [
    {
     "name": "stdout",
     "output_type": "stream",
     "text": [
      "Splitting\n",
      "Final size of train/test : 6750 / 1688\n",
      "train_x : (6750,)\n",
      "train_y : (6750,)\n",
      "test_x : (1688,)\n",
      "test_y : (1688,)\n",
      "Vectorizing\n",
      "test_x : (1688,)\n",
      "train_x : (6750,)\n",
      "tfidf_train_x :  (6750, 979)\n",
      "tfidf_test_x :  (1688, 979)\n",
      "model building\n",
      "begin grid\n"
     ]
    },
    {
     "name": "stderr",
     "output_type": "stream",
     "text": [
      "C:\\Users\\shiva\\Anaconda3\\lib\\site-packages\\sklearn\\model_selection\\_split.py:1978: FutureWarning: The default value of cv will change from 3 to 5 in version 0.22. Specify it explicitly to silence this warning.\n",
      "  warnings.warn(CV_WARNING, FutureWarning)\n"
     ]
    },
    {
     "name": "stdout",
     "output_type": "stream",
     "text": [
      "grid score 0.7294814814814815\n",
      "grid alpha 0.9520000000000001\n",
      "Alpha: 0.952 test_Score: 0.71445 train_score: 0.75156\n",
      "training confusion matrix\n",
      "[[4966   28]\n",
      " [1649  107]]\n",
      "testing confusion matrix\n",
      "[[1199   18]\n",
      " [ 464    7]]\n",
      "------------------------------------------\n"
     ]
    }
   ],
   "source": [
    "an.navie_bayes_tfidf_model(data.speaker_job_title,data.label)"
   ]
  },
  {
   "cell_type": "code",
   "execution_count": 19,
   "metadata": {},
   "outputs": [
    {
     "name": "stdout",
     "output_type": "stream",
     "text": [
      "Splitting\n",
      "Final size of train/test : 6750 / 1688\n",
      "train_x : (6750,)\n",
      "train_y : (6750,)\n",
      "test_x : (1688,)\n",
      "test_y : (1688,)\n",
      "Vectorizing\n",
      "test_x : (1688,)\n",
      "train_x : (6750,)\n",
      "tfidf_train_x :  (6750, 69)\n",
      "tfidf_test_x :  (1688, 69)\n",
      "model building\n",
      "begin grid\n"
     ]
    },
    {
     "name": "stderr",
     "output_type": "stream",
     "text": [
      "C:\\Users\\shiva\\Anaconda3\\lib\\site-packages\\sklearn\\model_selection\\_split.py:1978: FutureWarning: The default value of cv will change from 3 to 5 in version 0.22. Specify it explicitly to silence this warning.\n",
      "  warnings.warn(CV_WARNING, FutureWarning)\n"
     ]
    },
    {
     "name": "stdout",
     "output_type": "stream",
     "text": [
      "grid score 0.7386666666666667\n",
      "grid alpha 0.021\n",
      "Alpha: 0.021 test_Score: 0.72097 train_score: 0.74059\n",
      "training confusion matrix\n",
      "[[4993    1]\n",
      " [1750    6]]\n",
      "testing confusion matrix\n",
      "[[1217    0]\n",
      " [ 471    0]]\n",
      "------------------------------------------\n"
     ]
    }
   ],
   "source": [
    "an.navie_bayes_tfidf_model(data.state_info,data.label)"
   ]
  },
  {
   "cell_type": "code",
   "execution_count": null,
   "metadata": {},
   "outputs": [],
   "source": []
  },
  {
   "cell_type": "code",
   "execution_count": 9,
   "metadata": {},
   "outputs": [
    {
     "name": "stdout",
     "output_type": "stream",
     "text": [
      "Splitting\n",
      "Final size of train/test : 10232 / 2559\n",
      "train_x : (10232,)\n",
      "train_y : (10232,)\n",
      "test_x : (2559,)\n",
      "test_y : (2559,)\n",
      "Vectorizing\n",
      "test_x : (2559,)\n",
      "train_x : (10232,)\n",
      "tfidf_train_x :  (10232, 34)\n",
      "tfidf_test_x :  (2559, 34)\n",
      "model building\n",
      "begin grid\n"
     ]
    },
    {
     "name": "stderr",
     "output_type": "stream",
     "text": [
      "C:\\Users\\shiva\\Anaconda3\\lib\\site-packages\\sklearn\\model_selection\\_split.py:1978: FutureWarning: The default value of cv will change from 3 to 5 in version 0.22. Specify it explicitly to silence this warning.\n",
      "  warnings.warn(CV_WARNING, FutureWarning)\n"
     ]
    },
    {
     "name": "stdout",
     "output_type": "stream",
     "text": [
      "grid score 0.7359265050820953\n",
      "grid alpha 0.441\n",
      "Alpha: 0.441 test_Score: 0.72567 train_score: 0.73632\n",
      "training confusion matrix\n",
      "[[7532    1]\n",
      " [2697    2]]\n",
      "testing confusion matrix\n",
      "[[1857    0]\n",
      " [ 702    0]]\n",
      "------------------------------------------\n"
     ]
    }
   ],
   "source": [
    "an.navie_bayes_tfidf_model(data.party,data.label)"
   ]
  },
  {
   "cell_type": "code",
   "execution_count": 21,
   "metadata": {},
   "outputs": [
    {
     "name": "stdout",
     "output_type": "stream",
     "text": [
      "Splitting\n",
      "Final size of train/test : 6750 / 1688\n",
      "train_x : (6750,)\n",
      "train_y : (6750,)\n",
      "test_x : (1688,)\n",
      "test_y : (1688,)\n",
      "Vectorizing\n",
      "test_x : (1688,)\n",
      "train_x : (6750,)\n",
      "tfidf_train_x :  (6750, 1691)\n",
      "tfidf_test_x :  (1688, 1691)\n",
      "model building\n",
      "begin grid\n"
     ]
    },
    {
     "name": "stderr",
     "output_type": "stream",
     "text": [
      "C:\\Users\\shiva\\Anaconda3\\lib\\site-packages\\sklearn\\model_selection\\_split.py:1978: FutureWarning: The default value of cv will change from 3 to 5 in version 0.22. Specify it explicitly to silence this warning.\n",
      "  warnings.warn(CV_WARNING, FutureWarning)\n"
     ]
    },
    {
     "name": "stdout",
     "output_type": "stream",
     "text": [
      "grid score 0.7300740740740741\n",
      "grid alpha 0.987\n",
      "Alpha: 0.987 test_Score: 0.71209 train_score: 0.75896\n",
      "training confusion matrix\n",
      "[[4971   23]\n",
      " [1604  152]]\n",
      "testing confusion matrix\n",
      "[[1197   20]\n",
      " [ 466    5]]\n",
      "------------------------------------------\n"
     ]
    }
   ],
   "source": [
    "an.navie_bayes_tfidf_model(data.context,data.label)"
   ]
  },
  {
   "cell_type": "code",
   "execution_count": 22,
   "metadata": {},
   "outputs": [
    {
     "name": "stdout",
     "output_type": "stream",
     "text": [
      "Splitting\n",
      "Final size of train/test : 6750 / 1688\n",
      "Vectorizing\n",
      "model building\n",
      "begin grid\n"
     ]
    },
    {
     "name": "stderr",
     "output_type": "stream",
     "text": [
      "C:\\Users\\shiva\\Anaconda3\\lib\\site-packages\\sklearn\\model_selection\\_split.py:1978: FutureWarning: The default value of cv will change from 3 to 5 in version 0.22. Specify it explicitly to silence this warning.\n",
      "  warnings.warn(CV_WARNING, FutureWarning)\n"
     ]
    },
    {
     "name": "stdout",
     "output_type": "stream",
     "text": [
      "grid score 0.7401481481481481\n",
      "grid alpha 0.075\n",
      "Alpha: 0.075 test_Score: 0.72156 train_score: 0.74667\n",
      "training confusion matrix\n",
      "[[4994    0]\n",
      " [1710   46]]\n",
      "testing confusion matrix\n",
      "[[1217    0]\n",
      " [ 470    1]]\n",
      "------------------------------------------\n"
     ]
    }
   ],
   "source": [
    "#hashing model\n",
    "an.navie_bayes_hash_model(data.statement,data.label)\n"
   ]
  },
  {
   "cell_type": "code",
   "execution_count": 23,
   "metadata": {},
   "outputs": [
    {
     "name": "stdout",
     "output_type": "stream",
     "text": [
      "Splitting\n",
      "Final size of train/test : 6750 / 1688\n",
      "Vectorizing\n",
      "model building\n",
      "begin grid\n"
     ]
    },
    {
     "name": "stderr",
     "output_type": "stream",
     "text": [
      "C:\\Users\\shiva\\Anaconda3\\lib\\site-packages\\sklearn\\model_selection\\_split.py:1978: FutureWarning: The default value of cv will change from 3 to 5 in version 0.22. Specify it explicitly to silence this warning.\n",
      "  warnings.warn(CV_WARNING, FutureWarning)\n"
     ]
    },
    {
     "name": "stdout",
     "output_type": "stream",
     "text": [
      "grid score 0.7398518518518519\n",
      "grid alpha 0.004\n",
      "Alpha: 0.004 test_Score: 0.72097 train_score: 0.74000\n",
      "training confusion matrix\n",
      "[[4994    0]\n",
      " [1755    1]]\n",
      "testing confusion matrix\n",
      "[[1217    0]\n",
      " [ 471    0]]\n",
      "------------------------------------------\n"
     ]
    }
   ],
   "source": [
    "an.navie_bayes_hash_model(data.subject,data.label)"
   ]
  },
  {
   "cell_type": "code",
   "execution_count": 24,
   "metadata": {},
   "outputs": [
    {
     "name": "stdout",
     "output_type": "stream",
     "text": [
      "Splitting\n",
      "Final size of train/test : 6750 / 1688\n",
      "Vectorizing\n",
      "model building\n",
      "begin grid\n"
     ]
    },
    {
     "name": "stderr",
     "output_type": "stream",
     "text": [
      "C:\\Users\\shiva\\Anaconda3\\lib\\site-packages\\sklearn\\model_selection\\_split.py:1978: FutureWarning: The default value of cv will change from 3 to 5 in version 0.22. Specify it explicitly to silence this warning.\n",
      "  warnings.warn(CV_WARNING, FutureWarning)\n"
     ]
    },
    {
     "name": "stdout",
     "output_type": "stream",
     "text": [
      "grid score 0.7388148148148148\n",
      "grid alpha 0.844\n",
      "Alpha: 0.844 test_Score: 0.71860 train_score: 0.74252\n",
      "training confusion matrix\n",
      "[[4994    0]\n",
      " [1738   18]]\n",
      "testing confusion matrix\n",
      "[[1213    4]\n",
      " [ 471    0]]\n",
      "------------------------------------------\n"
     ]
    }
   ],
   "source": [
    "an.navie_bayes_hash_model(data.speaker,data.label)"
   ]
  },
  {
   "cell_type": "code",
   "execution_count": 25,
   "metadata": {},
   "outputs": [
    {
     "name": "stdout",
     "output_type": "stream",
     "text": [
      "Splitting\n",
      "Final size of train/test : 6750 / 1688\n",
      "Vectorizing\n",
      "model building\n",
      "begin grid\n"
     ]
    },
    {
     "name": "stderr",
     "output_type": "stream",
     "text": [
      "C:\\Users\\shiva\\Anaconda3\\lib\\site-packages\\sklearn\\model_selection\\_split.py:1978: FutureWarning: The default value of cv will change from 3 to 5 in version 0.22. Specify it explicitly to silence this warning.\n",
      "  warnings.warn(CV_WARNING, FutureWarning)\n"
     ]
    },
    {
     "name": "stdout",
     "output_type": "stream",
     "text": [
      "grid score 0.7388148148148148\n",
      "grid alpha 0.652\n",
      "Alpha: 0.652 test_Score: 0.72097 train_score: 0.74044\n",
      "training confusion matrix\n",
      "[[4994    0]\n",
      " [1752    4]]\n",
      "testing confusion matrix\n",
      "[[1217    0]\n",
      " [ 471    0]]\n",
      "------------------------------------------\n"
     ]
    }
   ],
   "source": [
    "an.navie_bayes_hash_model(data.speaker_job_title,data.label)"
   ]
  },
  {
   "cell_type": "code",
   "execution_count": 26,
   "metadata": {},
   "outputs": [
    {
     "name": "stdout",
     "output_type": "stream",
     "text": [
      "Splitting\n",
      "Final size of train/test : 6750 / 1688\n",
      "Vectorizing\n",
      "model building\n",
      "begin grid\n"
     ]
    },
    {
     "name": "stderr",
     "output_type": "stream",
     "text": [
      "C:\\Users\\shiva\\Anaconda3\\lib\\site-packages\\sklearn\\model_selection\\_split.py:1978: FutureWarning: The default value of cv will change from 3 to 5 in version 0.22. Specify it explicitly to silence this warning.\n",
      "  warnings.warn(CV_WARNING, FutureWarning)\n"
     ]
    },
    {
     "name": "stdout",
     "output_type": "stream",
     "text": [
      "grid score 0.7397037037037038\n",
      "grid alpha 0.547\n",
      "Alpha: 0.547 test_Score: 0.72097 train_score: 0.74030\n",
      "training confusion matrix\n",
      "[[4994    0]\n",
      " [1753    3]]\n",
      "testing confusion matrix\n",
      "[[1217    0]\n",
      " [ 471    0]]\n",
      "------------------------------------------\n"
     ]
    }
   ],
   "source": [
    "an.navie_bayes_hash_model(data.state_info,data.label)"
   ]
  },
  {
   "cell_type": "code",
   "execution_count": 27,
   "metadata": {},
   "outputs": [
    {
     "name": "stdout",
     "output_type": "stream",
     "text": [
      "Splitting\n",
      "Final size of train/test : 6750 / 1688\n",
      "Vectorizing\n",
      "model building\n",
      "begin grid\n"
     ]
    },
    {
     "name": "stderr",
     "output_type": "stream",
     "text": [
      "C:\\Users\\shiva\\Anaconda3\\lib\\site-packages\\sklearn\\model_selection\\_split.py:1978: FutureWarning: The default value of cv will change from 3 to 5 in version 0.22. Specify it explicitly to silence this warning.\n",
      "  warnings.warn(CV_WARNING, FutureWarning)\n"
     ]
    },
    {
     "name": "stdout",
     "output_type": "stream",
     "text": [
      "grid score 0.7398518518518519\n",
      "grid alpha 0.003\n",
      "Alpha: 0.003 test_Score: 0.72097 train_score: 0.74000\n",
      "training confusion matrix\n",
      "[[4994    0]\n",
      " [1755    1]]\n",
      "testing confusion matrix\n",
      "[[1217    0]\n",
      " [ 471    0]]\n",
      "------------------------------------------\n"
     ]
    }
   ],
   "source": [
    "an.navie_bayes_hash_model(data.party,data.label)"
   ]
  },
  {
   "cell_type": "code",
   "execution_count": 30,
   "metadata": {},
   "outputs": [
    {
     "name": "stdout",
     "output_type": "stream",
     "text": [
      "Splitting\n",
      "Final size of train/test : 6750 / 1688\n",
      "Vectorizing\n",
      "model building\n",
      "begin grid\n"
     ]
    },
    {
     "name": "stderr",
     "output_type": "stream",
     "text": [
      "C:\\Users\\shiva\\Anaconda3\\lib\\site-packages\\sklearn\\model_selection\\_split.py:1978: FutureWarning: The default value of cv will change from 3 to 5 in version 0.22. Specify it explicitly to silence this warning.\n",
      "  warnings.warn(CV_WARNING, FutureWarning)\n"
     ]
    },
    {
     "name": "stdout",
     "output_type": "stream",
     "text": [
      "grid score 0.7398518518518519\n",
      "grid alpha 0.773\n",
      "Alpha: 0.773 test_Score: 0.72097 train_score: 0.73985\n",
      "training confusion matrix\n",
      "[[4994    0]\n",
      " [1756    0]]\n",
      "testing confusion matrix\n",
      "[[1217    0]\n",
      " [ 471    0]]\n",
      "------------------------------------------\n"
     ]
    }
   ],
   "source": [
    "an.navie_bayes_hash_model(data.context,data.label)"
   ]
  },
  {
   "cell_type": "code",
   "execution_count": 32,
   "metadata": {},
   "outputs": [
    {
     "data": {
      "text/plain": [
       "0"
      ]
     },
     "execution_count": 32,
     "metadata": {},
     "output_type": "execute_result"
    }
   ],
   "source": [
    "a=np.array([])\n",
    "a.size"
   ]
  },
  {
   "cell_type": "code",
   "execution_count": 33,
   "metadata": {},
   "outputs": [],
   "source": [
    "def mult_tfidf(x1,x2,y,x3=a):\n",
    "    from sklearn.feature_extraction.text import TfidfVectorizer\n",
    "\n",
    "    if x3.size==0:\n",
    "        train_x1,train_y1,test_x1,test_y1=an.split_data(x1,y)\n",
    "        train_x2,train_y2,test_x2,test_y2=an.split_data(x2,y)\n",
    "\n",
    "\n",
    "\n",
    "        tfidf_vectorizer = TfidfVectorizer(stop_words='english',max_df=0.7)   # a TFIDF vectorizer\n",
    "        tfidf_train_x1 = pd.DataFrame(tfidf_vectorizer.fit_transform(train_x1).todense())  #fitting the training data\n",
    "        tfidf_test_x1 = pd.DataFrame(tfidf_vectorizer.transform(test_x1).todense())\n",
    "\n",
    "        tfidf_train_x2 = pd.DataFrame(tfidf_vectorizer.fit_transform(train_x2).todense())  #fitting the training data\n",
    "        tfidf_test_x2 = pd.DataFrame(tfidf_vectorizer.transform(test_x2).todense()) \n",
    "\n",
    "        train=pd.concat([tfidf_train_x1,tfidf_train_x2],axis=1)\n",
    "        test=pd.concat([tfidf_test_x1,tfidf_test_x2],axis=1)\n",
    "        print(train.shape)\n",
    "        print(test.shape)\n",
    "        print(train_y2.shape)\n",
    "        print(test_y2.shape)\n",
    "\n",
    "        an.navie_bayes(train,train_y2,test,test_y2)\n",
    "    \n",
    "    else:\n",
    "        train_x1,train_y1,test_x1,test_y1=an.split_data(x1,y)\n",
    "        train_x2,train_y2,test_x2,test_y2=an.split_data(x2,y)\n",
    "        train_x3,train_y3,test_x3,test_y3=an.split_data(x3,y)\n",
    "        \n",
    "        tfidf_vectorizer = TfidfVectorizer(stop_words='english',max_df=0.7)   # a TFIDF vectorizer\n",
    "        tfidf_train_x1 = pd.DataFrame(tfidf_vectorizer.fit_transform(train_x1).todense())  #fitting the training data\n",
    "        tfidf_test_x1 = pd.DataFrame(tfidf_vectorizer.transform(test_x1).todense())\n",
    "\n",
    "        tfidf_train_x2 = pd.DataFrame(tfidf_vectorizer.fit_transform(train_x2).todense())  #fitting the training data\n",
    "        tfidf_test_x2 = pd.DataFrame(tfidf_vectorizer.transform(test_x2).todense()) \n",
    "        \n",
    "        tfidf_train_x3 = pd.DataFrame(tfidf_vectorizer.fit_transform(train_x3).todense())  #fitting the training data\n",
    "        tfidf_test_x3 = pd.DataFrame(tfidf_vectorizer.transform(test_x3).todense())\n",
    "        \n",
    "        train=pd.concat([tfidf_train_x1,tfidf_train_x2,tfidf_train_x3],axis=1)\n",
    "        test=pd.concat([tfidf_test_x1,tfidf_test_x2,tfidf_test_x3],axis=1)\n",
    "        \n",
    "        an.navie_bayes(train,train_y2,test,test_y2)\n"
   ]
  },
  {
   "cell_type": "code",
   "execution_count": null,
   "metadata": {},
   "outputs": [],
   "source": []
  },
  {
   "cell_type": "code",
   "execution_count": 34,
   "metadata": {},
   "outputs": [
    {
     "data": {
      "text/plain": [
       "Index(['label', 'statement', 'subject', 'speaker', 'speaker_job_title',\n",
       "       'state_info', 'party', 'context'],\n",
       "      dtype='object')"
      ]
     },
     "execution_count": 34,
     "metadata": {},
     "output_type": "execute_result"
    }
   ],
   "source": [
    "data.columns"
   ]
  },
  {
   "cell_type": "code",
   "execution_count": 35,
   "metadata": {},
   "outputs": [
    {
     "name": "stdout",
     "output_type": "stream",
     "text": [
      "Splitting\n",
      "Final size of train/test : 6750 / 1688\n",
      "Splitting\n",
      "Final size of train/test : 6750 / 1688\n",
      "(6750, 9451)\n",
      "(1688, 9451)\n",
      "(6750,)\n",
      "(1688,)\n",
      "model building\n",
      "begin grid\n"
     ]
    },
    {
     "name": "stderr",
     "output_type": "stream",
     "text": [
      "C:\\Users\\shiva\\Anaconda3\\lib\\site-packages\\sklearn\\model_selection\\_split.py:1978: FutureWarning: The default value of cv will change from 3 to 5 in version 0.22. Specify it explicitly to silence this warning.\n",
      "  warnings.warn(CV_WARNING, FutureWarning)\n"
     ]
    },
    {
     "name": "stdout",
     "output_type": "stream",
     "text": [
      "grid score 0.7394074074074074\n",
      "grid alpha 0.921\n",
      "Alpha: 0.921 test_Score: 0.72216 train_score: 0.75274\n",
      "training confusion matrix\n",
      "[[4993    1]\n",
      " [1668   88]]\n",
      "testing confusion matrix\n",
      "[[1216    1]\n",
      " [ 468    3]]\n",
      "------------------------------------------\n"
     ]
    }
   ],
   "source": [
    "#navie bayes tfdif model with 2 attribute\n",
    "mult_tfidf(data.statement,data.subject,data.label)\n"
   ]
  },
  {
   "cell_type": "code",
   "execution_count": 36,
   "metadata": {},
   "outputs": [
    {
     "name": "stdout",
     "output_type": "stream",
     "text": [
      "Splitting\n",
      "Final size of train/test : 6750 / 1688\n",
      "Splitting\n",
      "Final size of train/test : 6750 / 1688\n",
      "(6750, 9346)\n",
      "(1688, 9346)\n",
      "(6750,)\n",
      "(1688,)\n",
      "model building\n",
      "begin grid\n"
     ]
    },
    {
     "name": "stderr",
     "output_type": "stream",
     "text": [
      "C:\\Users\\shiva\\Anaconda3\\lib\\site-packages\\sklearn\\model_selection\\_split.py:1978: FutureWarning: The default value of cv will change from 3 to 5 in version 0.22. Specify it explicitly to silence this warning.\n",
      "  warnings.warn(CV_WARNING, FutureWarning)\n"
     ]
    },
    {
     "name": "stdout",
     "output_type": "stream",
     "text": [
      "grid score 0.7397037037037038\n",
      "grid alpha 0.844\n",
      "Alpha: 0.844 test_Score: 0.72156 train_score: 0.75659\n",
      "training confusion matrix\n",
      "[[4992    2]\n",
      " [1641  115]]\n",
      "testing confusion matrix\n",
      "[[1217    0]\n",
      " [ 470    1]]\n",
      "------------------------------------------\n"
     ]
    }
   ],
   "source": [
    "mult_tfidf(data.statement,data.state_info,data.label)"
   ]
  },
  {
   "cell_type": "code",
   "execution_count": 37,
   "metadata": {},
   "outputs": [
    {
     "name": "stdout",
     "output_type": "stream",
     "text": [
      "Splitting\n",
      "Final size of train/test : 6750 / 1688\n",
      "Splitting\n",
      "Final size of train/test : 6750 / 1688\n",
      "(6750, 9305)\n",
      "(1688, 9305)\n",
      "(6750,)\n",
      "(1688,)\n",
      "model building\n",
      "begin grid\n"
     ]
    },
    {
     "name": "stderr",
     "output_type": "stream",
     "text": [
      "C:\\Users\\shiva\\Anaconda3\\lib\\site-packages\\sklearn\\model_selection\\_split.py:1978: FutureWarning: The default value of cv will change from 3 to 5 in version 0.22. Specify it explicitly to silence this warning.\n",
      "  warnings.warn(CV_WARNING, FutureWarning)\n"
     ]
    },
    {
     "name": "stdout",
     "output_type": "stream",
     "text": [
      "grid score 0.7395555555555555\n",
      "grid alpha 0.966\n",
      "Alpha: 0.966 test_Score: 0.72097 train_score: 0.74933\n",
      "training confusion matrix\n",
      "[[4993    1]\n",
      " [1691   65]]\n",
      "testing confusion matrix\n",
      "[[1216    1]\n",
      " [ 470    1]]\n",
      "------------------------------------------\n"
     ]
    }
   ],
   "source": [
    "mult_tfidf(data.statement,data.party,data.label)"
   ]
  },
  {
   "cell_type": "code",
   "execution_count": 39,
   "metadata": {},
   "outputs": [],
   "source": [
    "def mult_tfidf(x1,x2,x3,x4,x5,x6,x7,y):\n",
    "    from sklearn.feature_extraction.text import TfidfVectorizer\n",
    "    train_x1,train_y1,test_x1,test_y1=an.split_data(x1,y)\n",
    "    train_x2,train_y2,test_x2,test_y2=an.split_data(x2,y)\n",
    "    train_x3,train_y3,test_x3,test_y3=an.split_data(x3,y)\n",
    "    train_x4,train_y4,test_x4,test_y4=an.split_data(x5,y)\n",
    "    train_x5,train_y5,test_x5,test_y5=an.split_data(x5,y)\n",
    "    train_x6,train_y6,test_x6,test_y6=an.split_data(x6,y)\n",
    "    train_x7,train_y7,test_x7,test_y7=an.split_data(x7,y)\n",
    "    \n",
    "    tfidf_vectorizer = TfidfVectorizer(stop_words='english',max_df=0.7)   # a TFIDF vectorize\n",
    "    \n",
    "    tfidf_train_x1 = pd.DataFrame(tfidf_vectorizer.fit_transform(train_x1).todense())  #fitting the training data\n",
    "    tfidf_test_x1 = pd.DataFrame(tfidf_vectorizer.transform(test_x1).todense())\n",
    "\n",
    "    tfidf_train_x2 = pd.DataFrame(tfidf_vectorizer.fit_transform(train_x2).todense())  #fitting the training data\n",
    "    tfidf_test_x2 = pd.DataFrame(tfidf_vectorizer.transform(test_x2).todense()) \n",
    "        \n",
    "    tfidf_train_x3 = pd.DataFrame(tfidf_vectorizer.fit_transform(train_x3).todense())  #fitting the training data\n",
    "    tfidf_test_x3 = pd.DataFrame(tfidf_vectorizer.transform(test_x3).todense())\n",
    "        \n",
    "    tfidf_train_x4 = pd.DataFrame(tfidf_vectorizer.fit_transform(train_x4).todense())  #fitting the training data\n",
    "    tfidf_test_x4 = pd.DataFrame(tfidf_vectorizer.transform(test_x4).todense())\n",
    "\n",
    "    tfidf_train_x5 = pd.DataFrame(tfidf_vectorizer.fit_transform(train_x5).todense())  #fitting the training data\n",
    "    tfidf_test_x5 = pd.DataFrame(tfidf_vectorizer.transform(test_x5).todense()) \n",
    "        \n",
    "    tfidf_train_x6 = pd.DataFrame(tfidf_vectorizer.fit_transform(train_x6).todense())  #fitting the training data\n",
    "    tfidf_test_x6 = pd.DataFrame(tfidf_vectorizer.transform(test_x6).todense())\n",
    "    \n",
    "    tfidf_train_x7 = pd.DataFrame(tfidf_vectorizer.fit_transform(train_x7).todense())  #fitting the training data\n",
    "    tfidf_test_x7 = pd.DataFrame(tfidf_vectorizer.transform(test_x7).todense())\n",
    "        \n",
    "    train=pd.concat([tfidf_train_x1,tfidf_train_x2,tfidf_train_x3,tfidf_train_x4,tfidf_train_x5,tfidf_train_x6,tfidf_train_x7],axis=1)\n",
    "    test=pd.concat([tfidf_test_x1,tfidf_test_x2,tfidf_test_x3,tfidf_test_x4,tfidf_test_x5,tfidf_test_x6,tfidf_test_x7],axis=1)\n",
    "        \n",
    "    an.navie_bayes(train,train_y7,test,test_y7)\n"
   ]
  },
  {
   "cell_type": "code",
   "execution_count": 40,
   "metadata": {},
   "outputs": [
    {
     "name": "stdout",
     "output_type": "stream",
     "text": [
      "Splitting\n",
      "Final size of train/test : 6750 / 1688\n",
      "Splitting\n",
      "Final size of train/test : 6750 / 1688\n",
      "Splitting\n",
      "Final size of train/test : 6750 / 1688\n",
      "Splitting\n",
      "Final size of train/test : 6750 / 1688\n",
      "Splitting\n",
      "Final size of train/test : 6750 / 1688\n",
      "Splitting\n",
      "Final size of train/test : 6750 / 1688\n",
      "Splitting\n",
      "Final size of train/test : 6750 / 1688\n",
      "model building\n",
      "begin grid\n"
     ]
    },
    {
     "name": "stderr",
     "output_type": "stream",
     "text": [
      "C:\\Users\\shiva\\Anaconda3\\lib\\site-packages\\sklearn\\model_selection\\_split.py:1978: FutureWarning: The default value of cv will change from 3 to 5 in version 0.22. Specify it explicitly to silence this warning.\n",
      "  warnings.warn(CV_WARNING, FutureWarning)\n"
     ]
    },
    {
     "name": "stdout",
     "output_type": "stream",
     "text": [
      "grid score 0.737037037037037\n",
      "grid alpha 0.993\n",
      "Alpha: 0.993 test_Score: 0.71860 train_score: 0.77437\n",
      "training confusion matrix\n",
      "[[4978   16]\n",
      " [1507  249]]\n",
      "testing confusion matrix\n",
      "[[1206   11]\n",
      " [ 464    7]]\n",
      "------------------------------------------\n"
     ]
    }
   ],
   "source": [
    "#navie bayes tfdif model with all attribute\n",
    "mult_tfidf(data.statement,data.subject,data.speaker,data.speaker_job_title,data.state_info,data.party,data.context,data.label)"
   ]
  }
 ],
 "metadata": {
  "kernelspec": {
   "display_name": "Python 3",
   "language": "python",
   "name": "python3"
  },
  "language_info": {
   "codemirror_mode": {
    "name": "ipython",
    "version": 3
   },
   "file_extension": ".py",
   "mimetype": "text/x-python",
   "name": "python",
   "nbconvert_exporter": "python",
   "pygments_lexer": "ipython3",
   "version": "3.7.4"
  }
 },
 "nbformat": 4,
 "nbformat_minor": 2
}
