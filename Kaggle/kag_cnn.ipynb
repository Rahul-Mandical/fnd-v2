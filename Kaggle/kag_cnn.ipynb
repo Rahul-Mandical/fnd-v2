{
  "nbformat": 4,
  "nbformat_minor": 0,
  "metadata": {
    "colab": {
      "name": "kag_cnn.ipynb",
      "provenance": [],
      "collapsed_sections": [],
      "machine_shape": "hm"
    },
    "kernelspec": {
      "name": "python3",
      "display_name": "Python 3"
    }
  },
  "cells": [
    {
      "cell_type": "code",
      "metadata": {
        "id": "fg3PhjVmkS8s",
        "colab_type": "code",
        "colab": {}
      },
      "source": [
        "a = []\n",
        "while(1):\n",
        "    a.append('1')"
      ],
      "execution_count": null,
      "outputs": []
    },
    {
      "cell_type": "code",
      "metadata": {
        "id": "PIUuYDCFlzw6",
        "colab_type": "code",
        "colab": {
          "resources": {
            "http://localhost:8080/nbextensions/google.colab/files.js": {
              "data": "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",
              "ok": true,
              "headers": [
                [
                  "content-type",
                  "application/javascript"
                ]
              ],
              "status": 200,
              "status_text": ""
            }
          },
          "base_uri": "https://localhost:8080/",
          "height": 74
        },
        "outputId": "d56f2061-bb9e-4bcc-f83c-e6f5f5ab9792"
      },
      "source": [
        "from google.colab import files \n",
        "uploaded = files.upload()"
      ],
      "execution_count": null,
      "outputs": [
        {
          "output_type": "display_data",
          "data": {
            "text/html": [
              "\n",
              "     <input type=\"file\" id=\"files-38cc9013-b575-41a1-bfc5-c9a0397e371e\" name=\"files[]\" multiple disabled />\n",
              "     <output id=\"result-38cc9013-b575-41a1-bfc5-c9a0397e371e\">\n",
              "      Upload widget is only available when the cell has been executed in the\n",
              "      current browser session. Please rerun this cell to enable.\n",
              "      </output>\n",
              "      <script src=\"/nbextensions/google.colab/files.js\"></script> "
            ],
            "text/plain": [
              "<IPython.core.display.HTML object>"
            ]
          },
          "metadata": {
            "tags": []
          }
        },
        {
          "output_type": "stream",
          "text": [
            "Saving train.csv to train.csv\n"
          ],
          "name": "stdout"
        }
      ]
    },
    {
      "cell_type": "code",
      "metadata": {
        "id": "YJ0ayy38uXCb",
        "colab_type": "code",
        "colab": {
          "base_uri": "https://localhost:8080/",
          "height": 170
        },
        "outputId": "d043b019-bc2c-4abd-cf99-d12482be3a24"
      },
      "source": [
        "import io \n",
        "import pandas as pd\n",
        "data = pd.read_csv(io.BytesIO(uploaded['train.csv'])) \n",
        "print(type(data))\n",
        "print(data.head())"
      ],
      "execution_count": null,
      "outputs": [
        {
          "output_type": "stream",
          "text": [
            "<class 'pandas.core.frame.DataFrame'>\n",
            "   id  ... label\n",
            "0   0  ...     1\n",
            "1   1  ...     0\n",
            "2   2  ...     1\n",
            "3   3  ...     1\n",
            "4   4  ...     1\n",
            "\n",
            "[5 rows x 5 columns]\n"
          ],
          "name": "stdout"
        }
      ]
    },
    {
      "cell_type": "code",
      "metadata": {
        "id": "r58iwoBtufC6",
        "colab_type": "code",
        "colab": {
          "resources": {
            "http://localhost:8080/nbextensions/google.colab/files.js": {
              "data": "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",
              "ok": true,
              "headers": [
                [
                  "content-type",
                  "application/javascript"
                ]
              ],
              "status": 200,
              "status_text": ""
            }
          },
          "base_uri": "https://localhost:8080/",
          "height": 74
        },
        "outputId": "05000b69-0997-4bc5-ea9e-0b3e6935bdd1"
      },
      "source": [
        "from google.colab import files \n",
        "uploaded = files.upload()"
      ],
      "execution_count": null,
      "outputs": [
        {
          "output_type": "display_data",
          "data": {
            "text/html": [
              "\n",
              "     <input type=\"file\" id=\"files-bd82debf-4201-46ab-9e49-437410bfe1fd\" name=\"files[]\" multiple disabled />\n",
              "     <output id=\"result-bd82debf-4201-46ab-9e49-437410bfe1fd\">\n",
              "      Upload widget is only available when the cell has been executed in the\n",
              "      current browser session. Please rerun this cell to enable.\n",
              "      </output>\n",
              "      <script src=\"/nbextensions/google.colab/files.js\"></script> "
            ],
            "text/plain": [
              "<IPython.core.display.HTML object>"
            ]
          },
          "metadata": {
            "tags": []
          }
        },
        {
          "output_type": "stream",
          "text": [
            "Saving test.csv to test (1).csv\n"
          ],
          "name": "stdout"
        }
      ]
    },
    {
      "cell_type": "code",
      "metadata": {
        "id": "1LzRY6aNyque",
        "colab_type": "code",
        "colab": {
          "base_uri": "https://localhost:8080/",
          "height": 272
        },
        "outputId": "23c22b65-cfa0-4d22-d3e4-42ec821507e0"
      },
      "source": [
        "import io \n",
        "import pandas as pd\n",
        "datatest = pd.read_csv(io.BytesIO(uploaded['test.csv'])) \n",
        "print(type(datatest))\n",
        "print(datatest.head)"
      ],
      "execution_count": null,
      "outputs": [
        {
          "output_type": "stream",
          "text": [
            "<class 'pandas.core.frame.DataFrame'>\n",
            "<bound method NDFrame.head of          id  ...                                               text\n",
            "0     20800  ...  PALO ALTO, Calif.  —   After years of scorning...\n",
            "1     20801  ...  Russian warships ready to strike terrorists ne...\n",
            "2     20802  ...  Videos #NoDAPL: Native American Leaders Vow to...\n",
            "3     20803  ...  If at first you don’t succeed, try a different...\n",
            "4     20804  ...  42 mins ago 1 Views 0 Comments 0 Likes 'For th...\n",
            "...     ...  ...                                                ...\n",
            "5195  25995  ...  Of all the dysfunctions that plague the world’...\n",
            "5196  25996  ...  WASHINGTON  —   Gov. John Kasich of Ohio on Tu...\n",
            "5197  25997  ...  Good morning. (Want to get California Today by...\n",
            "5198  25998  ...  « Previous - Next » 300 US Marines To Be Deplo...\n",
            "5199  25999  ...  Perhaps you’ve seen the new TV series whose pi...\n",
            "\n",
            "[5200 rows x 4 columns]>\n"
          ],
          "name": "stdout"
        }
      ]
    },
    {
      "cell_type": "code",
      "metadata": {
        "id": "O2L3CmZHyu10",
        "colab_type": "code",
        "colab": {
          "resources": {
            "http://localhost:8080/nbextensions/google.colab/files.js": {
              "data": "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",
              "ok": true,
              "headers": [
                [
                  "content-type",
                  "application/javascript"
                ]
              ],
              "status": 200,
              "status_text": ""
            }
          },
          "base_uri": "https://localhost:8080/",
          "height": 74
        },
        "outputId": "37b9fea5-8718-4326-8bfd-401e4e729523"
      },
      "source": [
        "from google.colab import files \n",
        "uploaded = files.upload()"
      ],
      "execution_count": null,
      "outputs": [
        {
          "output_type": "display_data",
          "data": {
            "text/html": [
              "\n",
              "     <input type=\"file\" id=\"files-55dd4cb3-d591-4346-81bf-4ae6fa711e5e\" name=\"files[]\" multiple disabled />\n",
              "     <output id=\"result-55dd4cb3-d591-4346-81bf-4ae6fa711e5e\">\n",
              "      Upload widget is only available when the cell has been executed in the\n",
              "      current browser session. Please rerun this cell to enable.\n",
              "      </output>\n",
              "      <script src=\"/nbextensions/google.colab/files.js\"></script> "
            ],
            "text/plain": [
              "<IPython.core.display.HTML object>"
            ]
          },
          "metadata": {
            "tags": []
          }
        },
        {
          "output_type": "stream",
          "text": [
            "Saving submit.csv to submit.csv\n"
          ],
          "name": "stdout"
        }
      ]
    },
    {
      "cell_type": "code",
      "metadata": {
        "id": "vBsVcnQ2y5Oi",
        "colab_type": "code",
        "colab": {
          "base_uri": "https://localhost:8080/",
          "height": 119
        },
        "outputId": "6af7c233-f7ba-40f6-cd5b-b7bccf12f921"
      },
      "source": [
        "import io \n",
        "import pandas as pd\n",
        "datasubmit = pd.read_csv(io.BytesIO(uploaded['submit.csv'])) \n",
        "print(datasubmit.head())"
      ],
      "execution_count": null,
      "outputs": [
        {
          "output_type": "stream",
          "text": [
            "      id  label\n",
            "0  20800      0\n",
            "1  20801      1\n",
            "2  20802      0\n",
            "3  20803      1\n",
            "4  20804      1\n"
          ],
          "name": "stdout"
        }
      ]
    },
    {
      "cell_type": "code",
      "metadata": {
        "id": "VGLyCQOBzQ4Y",
        "colab_type": "code",
        "colab": {
          "base_uri": "https://localhost:8080/",
          "height": 204
        },
        "outputId": "a9e1c3ca-b952-44ba-9486-bdabdfd83dbd"
      },
      "source": [
        "testdata=pd.merge(datatest,datasubmit,on='id')  #merging submit data file to original\n",
        "testdata.head()\n"
      ],
      "execution_count": null,
      "outputs": [
        {
          "output_type": "execute_result",
          "data": {
            "text/html": [
              "<div>\n",
              "<style scoped>\n",
              "    .dataframe tbody tr th:only-of-type {\n",
              "        vertical-align: middle;\n",
              "    }\n",
              "\n",
              "    .dataframe tbody tr th {\n",
              "        vertical-align: top;\n",
              "    }\n",
              "\n",
              "    .dataframe thead th {\n",
              "        text-align: right;\n",
              "    }\n",
              "</style>\n",
              "<table border=\"1\" class=\"dataframe\">\n",
              "  <thead>\n",
              "    <tr style=\"text-align: right;\">\n",
              "      <th></th>\n",
              "      <th>id</th>\n",
              "      <th>title</th>\n",
              "      <th>author</th>\n",
              "      <th>text</th>\n",
              "      <th>label</th>\n",
              "    </tr>\n",
              "  </thead>\n",
              "  <tbody>\n",
              "    <tr>\n",
              "      <th>0</th>\n",
              "      <td>20800</td>\n",
              "      <td>Specter of Trump Loosens Tongues, if Not Purse...</td>\n",
              "      <td>David Streitfeld</td>\n",
              "      <td>PALO ALTO, Calif.  —   After years of scorning...</td>\n",
              "      <td>0</td>\n",
              "    </tr>\n",
              "    <tr>\n",
              "      <th>1</th>\n",
              "      <td>20801</td>\n",
              "      <td>Russian warships ready to strike terrorists ne...</td>\n",
              "      <td>NaN</td>\n",
              "      <td>Russian warships ready to strike terrorists ne...</td>\n",
              "      <td>1</td>\n",
              "    </tr>\n",
              "    <tr>\n",
              "      <th>2</th>\n",
              "      <td>20802</td>\n",
              "      <td>#NoDAPL: Native American Leaders Vow to Stay A...</td>\n",
              "      <td>Common Dreams</td>\n",
              "      <td>Videos #NoDAPL: Native American Leaders Vow to...</td>\n",
              "      <td>0</td>\n",
              "    </tr>\n",
              "    <tr>\n",
              "      <th>3</th>\n",
              "      <td>20803</td>\n",
              "      <td>Tim Tebow Will Attempt Another Comeback, This ...</td>\n",
              "      <td>Daniel Victor</td>\n",
              "      <td>If at first you don’t succeed, try a different...</td>\n",
              "      <td>1</td>\n",
              "    </tr>\n",
              "    <tr>\n",
              "      <th>4</th>\n",
              "      <td>20804</td>\n",
              "      <td>Keiser Report: Meme Wars (E995)</td>\n",
              "      <td>Truth Broadcast Network</td>\n",
              "      <td>42 mins ago 1 Views 0 Comments 0 Likes 'For th...</td>\n",
              "      <td>1</td>\n",
              "    </tr>\n",
              "  </tbody>\n",
              "</table>\n",
              "</div>"
            ],
            "text/plain": [
              "      id  ... label\n",
              "0  20800  ...     0\n",
              "1  20801  ...     1\n",
              "2  20802  ...     0\n",
              "3  20803  ...     1\n",
              "4  20804  ...     1\n",
              "\n",
              "[5 rows x 5 columns]"
            ]
          },
          "metadata": {
            "tags": []
          },
          "execution_count": 8
        }
      ]
    },
    {
      "cell_type": "code",
      "metadata": {
        "id": "kOTwDUhTzWF5",
        "colab_type": "code",
        "colab": {
          "base_uri": "https://localhost:8080/",
          "height": 204
        },
        "outputId": "d31ad4db-84aa-4e3b-9438-b7df4177cac0"
      },
      "source": [
        "import pandas as pd    #create entire datasset by concat\n",
        "finalset=pd.concat([data,testdata])  \n",
        "finalset.head()"
      ],
      "execution_count": null,
      "outputs": [
        {
          "output_type": "execute_result",
          "data": {
            "text/html": [
              "<div>\n",
              "<style scoped>\n",
              "    .dataframe tbody tr th:only-of-type {\n",
              "        vertical-align: middle;\n",
              "    }\n",
              "\n",
              "    .dataframe tbody tr th {\n",
              "        vertical-align: top;\n",
              "    }\n",
              "\n",
              "    .dataframe thead th {\n",
              "        text-align: right;\n",
              "    }\n",
              "</style>\n",
              "<table border=\"1\" class=\"dataframe\">\n",
              "  <thead>\n",
              "    <tr style=\"text-align: right;\">\n",
              "      <th></th>\n",
              "      <th>id</th>\n",
              "      <th>title</th>\n",
              "      <th>author</th>\n",
              "      <th>text</th>\n",
              "      <th>label</th>\n",
              "    </tr>\n",
              "  </thead>\n",
              "  <tbody>\n",
              "    <tr>\n",
              "      <th>0</th>\n",
              "      <td>0</td>\n",
              "      <td>House Dem Aide: We Didn’t Even See Comey’s Let...</td>\n",
              "      <td>Darrell Lucus</td>\n",
              "      <td>House Dem Aide: We Didn’t Even See Comey’s Let...</td>\n",
              "      <td>1</td>\n",
              "    </tr>\n",
              "    <tr>\n",
              "      <th>1</th>\n",
              "      <td>1</td>\n",
              "      <td>FLYNN: Hillary Clinton, Big Woman on Campus - ...</td>\n",
              "      <td>Daniel J. Flynn</td>\n",
              "      <td>Ever get the feeling your life circles the rou...</td>\n",
              "      <td>0</td>\n",
              "    </tr>\n",
              "    <tr>\n",
              "      <th>2</th>\n",
              "      <td>2</td>\n",
              "      <td>Why the Truth Might Get You Fired</td>\n",
              "      <td>Consortiumnews.com</td>\n",
              "      <td>Why the Truth Might Get You Fired October 29, ...</td>\n",
              "      <td>1</td>\n",
              "    </tr>\n",
              "    <tr>\n",
              "      <th>3</th>\n",
              "      <td>3</td>\n",
              "      <td>15 Civilians Killed In Single US Airstrike Hav...</td>\n",
              "      <td>Jessica Purkiss</td>\n",
              "      <td>Videos 15 Civilians Killed In Single US Airstr...</td>\n",
              "      <td>1</td>\n",
              "    </tr>\n",
              "    <tr>\n",
              "      <th>4</th>\n",
              "      <td>4</td>\n",
              "      <td>Iranian woman jailed for fictional unpublished...</td>\n",
              "      <td>Howard Portnoy</td>\n",
              "      <td>Print \\nAn Iranian woman has been sentenced to...</td>\n",
              "      <td>1</td>\n",
              "    </tr>\n",
              "  </tbody>\n",
              "</table>\n",
              "</div>"
            ],
            "text/plain": [
              "   id  ... label\n",
              "0   0  ...     1\n",
              "1   1  ...     0\n",
              "2   2  ...     1\n",
              "3   3  ...     1\n",
              "4   4  ...     1\n",
              "\n",
              "[5 rows x 5 columns]"
            ]
          },
          "metadata": {
            "tags": []
          },
          "execution_count": 9
        }
      ]
    },
    {
      "cell_type": "code",
      "metadata": {
        "id": "5Y-OvNpuzbVT",
        "colab_type": "code",
        "colab": {
          "base_uri": "https://localhost:8080/",
          "height": 34
        },
        "outputId": "f210bac4-b8f3-4791-f2d3-58c14368109d"
      },
      "source": [
        "finalset.shape"
      ],
      "execution_count": null,
      "outputs": [
        {
          "output_type": "execute_result",
          "data": {
            "text/plain": [
              "(26000, 5)"
            ]
          },
          "metadata": {
            "tags": []
          },
          "execution_count": 10
        }
      ]
    },
    {
      "cell_type": "code",
      "metadata": {
        "id": "OtrFyvKazfWW",
        "colab_type": "code",
        "colab": {
          "base_uri": "https://localhost:8080/",
          "height": 170
        },
        "outputId": "a95ef8c6-5ccf-4131-e80f-275d6038f9ec"
      },
      "source": [
        "lastset=finalset.dropna()   #drop null values\n",
        "print(lastset.shape)\n",
        "print(lastset.head())"
      ],
      "execution_count": null,
      "outputs": [
        {
          "output_type": "stream",
          "text": [
            "(22860, 5)\n",
            "   id  ... label\n",
            "0   0  ...     1\n",
            "1   1  ...     0\n",
            "2   2  ...     1\n",
            "3   3  ...     1\n",
            "4   4  ...     1\n",
            "\n",
            "[5 rows x 5 columns]\n"
          ],
          "name": "stdout"
        }
      ]
    },
    {
      "cell_type": "code",
      "metadata": {
        "id": "LV_lM9gMzj8Y",
        "colab_type": "code",
        "colab": {
          "base_uri": "https://localhost:8080/",
          "height": 289
        },
        "outputId": "1c7f271a-e50a-45ee-e6b3-2bb8f83e2227"
      },
      "source": [
        "lastset.drop([\"id\"],axis=1,inplace=True)\n",
        "lastset.head()\n"
      ],
      "execution_count": null,
      "outputs": [
        {
          "output_type": "stream",
          "text": [
            "/usr/local/lib/python3.6/dist-packages/pandas/core/frame.py:4117: SettingWithCopyWarning: \n",
            "A value is trying to be set on a copy of a slice from a DataFrame\n",
            "\n",
            "See the caveats in the documentation: http://pandas.pydata.org/pandas-docs/stable/user_guide/indexing.html#returning-a-view-versus-a-copy\n",
            "  errors=errors,\n"
          ],
          "name": "stderr"
        },
        {
          "output_type": "execute_result",
          "data": {
            "text/html": [
              "<div>\n",
              "<style scoped>\n",
              "    .dataframe tbody tr th:only-of-type {\n",
              "        vertical-align: middle;\n",
              "    }\n",
              "\n",
              "    .dataframe tbody tr th {\n",
              "        vertical-align: top;\n",
              "    }\n",
              "\n",
              "    .dataframe thead th {\n",
              "        text-align: right;\n",
              "    }\n",
              "</style>\n",
              "<table border=\"1\" class=\"dataframe\">\n",
              "  <thead>\n",
              "    <tr style=\"text-align: right;\">\n",
              "      <th></th>\n",
              "      <th>title</th>\n",
              "      <th>author</th>\n",
              "      <th>text</th>\n",
              "      <th>label</th>\n",
              "    </tr>\n",
              "  </thead>\n",
              "  <tbody>\n",
              "    <tr>\n",
              "      <th>0</th>\n",
              "      <td>House Dem Aide: We Didn’t Even See Comey’s Let...</td>\n",
              "      <td>Darrell Lucus</td>\n",
              "      <td>House Dem Aide: We Didn’t Even See Comey’s Let...</td>\n",
              "      <td>1</td>\n",
              "    </tr>\n",
              "    <tr>\n",
              "      <th>1</th>\n",
              "      <td>FLYNN: Hillary Clinton, Big Woman on Campus - ...</td>\n",
              "      <td>Daniel J. Flynn</td>\n",
              "      <td>Ever get the feeling your life circles the rou...</td>\n",
              "      <td>0</td>\n",
              "    </tr>\n",
              "    <tr>\n",
              "      <th>2</th>\n",
              "      <td>Why the Truth Might Get You Fired</td>\n",
              "      <td>Consortiumnews.com</td>\n",
              "      <td>Why the Truth Might Get You Fired October 29, ...</td>\n",
              "      <td>1</td>\n",
              "    </tr>\n",
              "    <tr>\n",
              "      <th>3</th>\n",
              "      <td>15 Civilians Killed In Single US Airstrike Hav...</td>\n",
              "      <td>Jessica Purkiss</td>\n",
              "      <td>Videos 15 Civilians Killed In Single US Airstr...</td>\n",
              "      <td>1</td>\n",
              "    </tr>\n",
              "    <tr>\n",
              "      <th>4</th>\n",
              "      <td>Iranian woman jailed for fictional unpublished...</td>\n",
              "      <td>Howard Portnoy</td>\n",
              "      <td>Print \\nAn Iranian woman has been sentenced to...</td>\n",
              "      <td>1</td>\n",
              "    </tr>\n",
              "  </tbody>\n",
              "</table>\n",
              "</div>"
            ],
            "text/plain": [
              "                                               title  ... label\n",
              "0  House Dem Aide: We Didn’t Even See Comey’s Let...  ...     1\n",
              "1  FLYNN: Hillary Clinton, Big Woman on Campus - ...  ...     0\n",
              "2                  Why the Truth Might Get You Fired  ...     1\n",
              "3  15 Civilians Killed In Single US Airstrike Hav...  ...     1\n",
              "4  Iranian woman jailed for fictional unpublished...  ...     1\n",
              "\n",
              "[5 rows x 4 columns]"
            ]
          },
          "metadata": {
            "tags": []
          },
          "execution_count": 12
        }
      ]
    },
    {
      "cell_type": "code",
      "metadata": {
        "id": "ns8j5c0Gzovj",
        "colab_type": "code",
        "colab": {
          "base_uri": "https://localhost:8080/",
          "height": 34
        },
        "outputId": "c992097f-8ee7-4ca3-bb97-2e91fe6f3b74"
      },
      "source": [
        "lastset.shape"
      ],
      "execution_count": null,
      "outputs": [
        {
          "output_type": "execute_result",
          "data": {
            "text/plain": [
              "(22860, 4)"
            ]
          },
          "metadata": {
            "tags": []
          },
          "execution_count": 13
        }
      ]
    },
    {
      "cell_type": "code",
      "metadata": {
        "id": "PIorw-agztiI",
        "colab_type": "code",
        "colab": {
          "base_uri": "https://localhost:8080/",
          "height": 187
        },
        "outputId": "ba6264db-810d-4734-8efa-c8b61d1cbf6c"
      },
      "source": [
        "lastset_x=lastset.drop(columns=['label'])\n",
        "print(lastset_x.head())\n",
        "print(lastset_x.shape)\n",
        "print(lastset_x.columns)"
      ],
      "execution_count": null,
      "outputs": [
        {
          "output_type": "stream",
          "text": [
            "                                               title  ...                                               text\n",
            "0  House Dem Aide: We Didn’t Even See Comey’s Let...  ...  House Dem Aide: We Didn’t Even See Comey’s Let...\n",
            "1  FLYNN: Hillary Clinton, Big Woman on Campus - ...  ...  Ever get the feeling your life circles the rou...\n",
            "2                  Why the Truth Might Get You Fired  ...  Why the Truth Might Get You Fired October 29, ...\n",
            "3  15 Civilians Killed In Single US Airstrike Hav...  ...  Videos 15 Civilians Killed In Single US Airstr...\n",
            "4  Iranian woman jailed for fictional unpublished...  ...  Print \\nAn Iranian woman has been sentenced to...\n",
            "\n",
            "[5 rows x 3 columns]\n",
            "(22860, 3)\n",
            "Index(['title', 'author', 'text'], dtype='object')\n"
          ],
          "name": "stdout"
        }
      ]
    },
    {
      "cell_type": "code",
      "metadata": {
        "id": "xsBnszyjzzWu",
        "colab_type": "code",
        "colab": {
          "base_uri": "https://localhost:8080/",
          "height": 204
        },
        "outputId": "3cde2630-a807-4ede-a0eb-5b24158d2f81"
      },
      "source": [
        "lastset_y=lastset.iloc[:,3:]\n",
        "lastset_y.head()"
      ],
      "execution_count": null,
      "outputs": [
        {
          "output_type": "execute_result",
          "data": {
            "text/html": [
              "<div>\n",
              "<style scoped>\n",
              "    .dataframe tbody tr th:only-of-type {\n",
              "        vertical-align: middle;\n",
              "    }\n",
              "\n",
              "    .dataframe tbody tr th {\n",
              "        vertical-align: top;\n",
              "    }\n",
              "\n",
              "    .dataframe thead th {\n",
              "        text-align: right;\n",
              "    }\n",
              "</style>\n",
              "<table border=\"1\" class=\"dataframe\">\n",
              "  <thead>\n",
              "    <tr style=\"text-align: right;\">\n",
              "      <th></th>\n",
              "      <th>label</th>\n",
              "    </tr>\n",
              "  </thead>\n",
              "  <tbody>\n",
              "    <tr>\n",
              "      <th>0</th>\n",
              "      <td>1</td>\n",
              "    </tr>\n",
              "    <tr>\n",
              "      <th>1</th>\n",
              "      <td>0</td>\n",
              "    </tr>\n",
              "    <tr>\n",
              "      <th>2</th>\n",
              "      <td>1</td>\n",
              "    </tr>\n",
              "    <tr>\n",
              "      <th>3</th>\n",
              "      <td>1</td>\n",
              "    </tr>\n",
              "    <tr>\n",
              "      <th>4</th>\n",
              "      <td>1</td>\n",
              "    </tr>\n",
              "  </tbody>\n",
              "</table>\n",
              "</div>"
            ],
            "text/plain": [
              "   label\n",
              "0      1\n",
              "1      0\n",
              "2      1\n",
              "3      1\n",
              "4      1"
            ]
          },
          "metadata": {
            "tags": []
          },
          "execution_count": 15
        }
      ]
    },
    {
      "cell_type": "code",
      "metadata": {
        "id": "qFclgpKE1Teo",
        "colab_type": "code",
        "colab": {
          "base_uri": "https://localhost:8080/",
          "height": 136
        },
        "outputId": "929149f9-cd65-48a6-ecf9-6f554ae1e781"
      },
      "source": [
        "#train test split to form test from megaset\n",
        "from sklearn.model_selection import train_test_split\n",
        "\n",
        "X_train_temp, kag_test_x, y_train_temp, kag_test_y = train_test_split(lastset_x,lastset_y,test_size=0.1,random_state=12)\n",
        "print(X_train_temp.shape)\n",
        "print(kag_test_x.shape)\n",
        "\n",
        "# mega_test_x : Final testing file with statements\n",
        "# mega_test_y : Final testing file with ratings\n",
        "\n",
        "kag_train_x, kag_dev_x, kag_train_y, kag_dev_y = train_test_split(X_train_temp,y_train_temp,test_size=2286,random_state=12)\n",
        "\n",
        "print(kag_train_x.shape)\n",
        "print(kag_dev_x.shape)\n",
        "\n",
        "# mega_train_x : Training file with statements\n",
        "# mega_train_y : Training file with ratings\n",
        "# mega_dev_x   : Development testing file with statements\n",
        "# mega_dev_y   : Development testing file with ratings\n",
        "print(type(kag_train_x))\n",
        "print(kag_train_y.shape)\n",
        "print(\"Final size of train/dev/test : \",kag_train_x.shape,\"/\",kag_dev_x.shape,\"/\",kag_test_x.shape)"
      ],
      "execution_count": null,
      "outputs": [
        {
          "output_type": "stream",
          "text": [
            "(20574, 3)\n",
            "(2286, 3)\n",
            "(18288, 3)\n",
            "(2286, 3)\n",
            "<class 'pandas.core.frame.DataFrame'>\n",
            "(18288, 1)\n",
            "Final size of train/dev/test :  (18288, 3) / (2286, 3) / (2286, 3)\n"
          ],
          "name": "stdout"
        }
      ]
    },
    {
      "cell_type": "code",
      "metadata": {
        "id": "y-2SOdx-lsm4",
        "colab_type": "code",
        "colab": {
          "base_uri": "https://localhost:8080/",
          "height": 34
        },
        "outputId": "2b9bed48-e7cc-48ab-ef97-3cbd737580fc"
      },
      "source": [
        "kag_train_x.columns"
      ],
      "execution_count": null,
      "outputs": [
        {
          "output_type": "execute_result",
          "data": {
            "text/plain": [
              "Index(['title', 'author', 'text'], dtype='object')"
            ]
          },
          "metadata": {
            "tags": []
          },
          "execution_count": 17
        }
      ]
    },
    {
      "cell_type": "code",
      "metadata": {
        "id": "nfBBUAl7lxvE",
        "colab_type": "code",
        "colab": {
          "base_uri": "https://localhost:8080/",
          "height": 34
        },
        "outputId": "f3a681ff-04e6-4c47-915c-67d71bfead32"
      },
      "source": [
        "kag_train_y.columns"
      ],
      "execution_count": null,
      "outputs": [
        {
          "output_type": "execute_result",
          "data": {
            "text/plain": [
              "Index(['label'], dtype='object')"
            ]
          },
          "metadata": {
            "tags": []
          },
          "execution_count": 18
        }
      ]
    },
    {
      "cell_type": "code",
      "metadata": {
        "id": "cL4zuuEKmlNW",
        "colab_type": "code",
        "colab": {}
      },
      "source": [
        "kag_train_x.reset_index(inplace=True) #as i had problem with index number in dataset resetting it"
      ],
      "execution_count": null,
      "outputs": []
    },
    {
      "cell_type": "code",
      "metadata": {
        "id": "P4e2loZMm0rR",
        "colab_type": "code",
        "colab": {
          "base_uri": "https://localhost:8080/",
          "height": 34
        },
        "outputId": "cb708f8d-53b6-47da-f2d3-5933b4c62a23"
      },
      "source": [
        "kag_train_x.shape"
      ],
      "execution_count": null,
      "outputs": [
        {
          "output_type": "execute_result",
          "data": {
            "text/plain": [
              "(18288, 4)"
            ]
          },
          "metadata": {
            "tags": []
          },
          "execution_count": 20
        }
      ]
    },
    {
      "cell_type": "code",
      "metadata": {
        "id": "xp2clcykm4Oc",
        "colab_type": "code",
        "colab": {
          "base_uri": "https://localhost:8080/",
          "height": 54
        },
        "outputId": "118c12f1-5742-4305-9c7f-fc5b2d9641c3"
      },
      "source": [
        "kag_train_x.text[2]"
      ],
      "execution_count": null,
      "outputs": [
        {
          "output_type": "execute_result",
          "data": {
            "text/plain": [
              "'Former first daughter Chelsea Clinton defended Barron Trump after angry leftists started making fun of President Donald Trump’s youngest child during the inauguration. [“Barron Trump deserves the chance every child   be a kid,” Clinton wrote on Twitter.  In the same message, however, Clinton urged leftists to oppose Barron’s father for his policies. “Standing up for every kid also means opposing @POTUS policies that hurt kids,” she said: Leave Barron alone! pic. twitter.   —   Charlie Spiering (@charliespiering) January 23, 2017, '"
            ]
          },
          "metadata": {
            "tags": []
          },
          "execution_count": 21
        }
      ]
    },
    {
      "cell_type": "code",
      "metadata": {
        "id": "m99xn_gznJp7",
        "colab_type": "code",
        "colab": {
          "base_uri": "https://localhost:8080/",
          "height": 102
        },
        "outputId": "83648169-deca-47ea-9d66-6405402af1c0"
      },
      "source": [
        "kag_train_x.drop(columns=['index'],inplace=True)"
      ],
      "execution_count": null,
      "outputs": [
        {
          "output_type": "stream",
          "text": [
            "/usr/local/lib/python3.6/dist-packages/pandas/core/frame.py:4117: SettingWithCopyWarning: \n",
            "A value is trying to be set on a copy of a slice from a DataFrame\n",
            "\n",
            "See the caveats in the documentation: http://pandas.pydata.org/pandas-docs/stable/user_guide/indexing.html#returning-a-view-versus-a-copy\n",
            "  errors=errors,\n"
          ],
          "name": "stderr"
        }
      ]
    },
    {
      "cell_type": "code",
      "metadata": {
        "id": "0YPAI_y2nOKO",
        "colab_type": "code",
        "colab": {
          "base_uri": "https://localhost:8080/",
          "height": 204
        },
        "outputId": "176c325e-e77c-4d58-daff-d9d7bde1cc8c"
      },
      "source": [
        "kag_train_x.head()"
      ],
      "execution_count": null,
      "outputs": [
        {
          "output_type": "execute_result",
          "data": {
            "text/html": [
              "<div>\n",
              "<style scoped>\n",
              "    .dataframe tbody tr th:only-of-type {\n",
              "        vertical-align: middle;\n",
              "    }\n",
              "\n",
              "    .dataframe tbody tr th {\n",
              "        vertical-align: top;\n",
              "    }\n",
              "\n",
              "    .dataframe thead th {\n",
              "        text-align: right;\n",
              "    }\n",
              "</style>\n",
              "<table border=\"1\" class=\"dataframe\">\n",
              "  <thead>\n",
              "    <tr style=\"text-align: right;\">\n",
              "      <th></th>\n",
              "      <th>title</th>\n",
              "      <th>author</th>\n",
              "      <th>text</th>\n",
              "    </tr>\n",
              "  </thead>\n",
              "  <tbody>\n",
              "    <tr>\n",
              "      <th>0</th>\n",
              "      <td>US Prepares to Seek Arrest of Julian Assange -...</td>\n",
              "      <td>Lucas Nolan</td>\n",
              "      <td>U. S. authorities are preparing to seek the ar...</td>\n",
              "    </tr>\n",
              "    <tr>\n",
              "      <th>1</th>\n",
              "      <td>Your Evening Briefing: Bernie Sanders, Donald ...</td>\n",
              "      <td>Andrea Kannapell and Sandra Stevenson</td>\n",
              "      <td>(Want to get this briefing by email? Here’s th...</td>\n",
              "    </tr>\n",
              "    <tr>\n",
              "      <th>2</th>\n",
              "      <td>Chelsea Clinton Urges Leftists to Leave Barron...</td>\n",
              "      <td>Charlie Spiering</td>\n",
              "      <td>Former first daughter Chelsea Clinton defended...</td>\n",
              "    </tr>\n",
              "    <tr>\n",
              "      <th>3</th>\n",
              "      <td>MILO Book ’Dangerous’ Back on Sale Soars to #1...</td>\n",
              "      <td>Charlie Nash</td>\n",
              "      <td>Dangerous, the book by former Breitbart Senior...</td>\n",
              "    </tr>\n",
              "    <tr>\n",
              "      <th>4</th>\n",
              "      <td>Large Sections of Australia’s Great Reef Are N...</td>\n",
              "      <td>Damien Cave and Justin Gillis</td>\n",
              "      <td>SYDNEY, Australia  —   The Great Barrier Reef ...</td>\n",
              "    </tr>\n",
              "  </tbody>\n",
              "</table>\n",
              "</div>"
            ],
            "text/plain": [
              "                                               title  ...                                               text\n",
              "0  US Prepares to Seek Arrest of Julian Assange -...  ...  U. S. authorities are preparing to seek the ar...\n",
              "1  Your Evening Briefing: Bernie Sanders, Donald ...  ...  (Want to get this briefing by email? Here’s th...\n",
              "2  Chelsea Clinton Urges Leftists to Leave Barron...  ...  Former first daughter Chelsea Clinton defended...\n",
              "3  MILO Book ’Dangerous’ Back on Sale Soars to #1...  ...  Dangerous, the book by former Breitbart Senior...\n",
              "4  Large Sections of Australia’s Great Reef Are N...  ...  SYDNEY, Australia  —   The Great Barrier Reef ...\n",
              "\n",
              "[5 rows x 3 columns]"
            ]
          },
          "metadata": {
            "tags": []
          },
          "execution_count": 23
        }
      ]
    },
    {
      "cell_type": "code",
      "metadata": {
        "id": "B5XBhUscnjHE",
        "colab_type": "code",
        "colab": {
          "base_uri": "https://localhost:8080/",
          "height": 88
        },
        "outputId": "590d7de4-8fc9-4bb9-d51c-479f8e8ae6df"
      },
      "source": [
        "print(kag_train_x.text[2])\n",
        "print(kag_train_x.text[3])\n",
        "print(kag_train_x.text[4])"
      ],
      "execution_count": null,
      "outputs": [
        {
          "output_type": "stream",
          "text": [
            "Former first daughter Chelsea Clinton defended Barron Trump after angry leftists started making fun of President Donald Trump’s youngest child during the inauguration. [“Barron Trump deserves the chance every child   be a kid,” Clinton wrote on Twitter.  In the same message, however, Clinton urged leftists to oppose Barron’s father for his policies. “Standing up for every kid also means opposing @POTUS policies that hurt kids,” she said: Leave Barron alone! pic. twitter.   —   Charlie Spiering (@charliespiering) January 23, 2017, \n",
            "Dangerous, the book by former Breitbart Senior Editor Milo Yiannopoulos, was released for   for the second time on Sunday, overtaking both Chelsea Clinton and Ben Sasse’s books and soaring to #1 on the Amazon best sellers list within a day. [The book is now being published through Milo’s own “Dangerous Books” publishing house, after former publisher Simon and Schuster decided to drop the title. That decision was made despite the fact that the book had already received over 75, 000   according to Milo.    activists, journalists, and celebrities celebrated the cancellation of Dangerous months ago. However, the relaunched book has already surpassed Chelsea Clinton’s She Persisted, R. J. Palacio’s Wonder, Ben Sasse’s The Vanishing American Adult, and Margaret Atwood’s The Handmaid’s Tale, coming in at number four on the Amazon best sellers list at the time of this writing (UPDATE: Dangerous has now reached #1 on Amazon’s best sellers list). “This is the book the liberals didn’t want you to read, they did everything they could to stop it and nonetheless we persisted, and my fans have stuck by my side,” said Milo to Red Alert Politics. “I’m releasing the book on Independence Day because we’re freeing ourselves of political correctness, social justice warriors, censorship, the corrupt leftist media, and   feminism. ” Conservative commentator Ann Coulter has claimed that “Fat people will hate this book,” while PayPal   billionaire entrepreneur, and presidential adviser Peter Thiel allegedly declared, “If you don’t use your freedom of speech, one day you might find that it’s gone. Buy this book while it’s legal. ” Dangerous is currently available to   on Amazon in both hardcover and ebook formats, and will be released on July 4, with an audiobook narrated by Milo himself coming soon. Charlie Nash is a reporter for Breitbart Tech. You can follow him on Twitter @MrNashington or like his page at Facebook.\n",
            "SYDNEY, Australia  —   The Great Barrier Reef in Australia has long been one of the world’s most magnificent natural wonders, so enormous it can be seen from space, so beautiful it can move visitors to tears. But the reef, and the profusion of sea creatures living near it, are in profound trouble. Huge sections of the Great Barrier Reef, stretching across hundreds of miles of its most pristine northern sector, were recently found to be dead, killed last year by overheated seawater. More southerly sections around the middle of the reef that barely escaped then are bleaching now, a potential precursor to another   that could rob some of the reef’s most visited areas of color and life. “We didn’t expect to see this level of destruction to the Great Barrier Reef for another 30 years,” said Terry P. Hughes, director of a   center for coral reef studies at James Cook University in Australia and the lead author of a paper on the reef that is being published Thursday as the cover article of the journal Nature. “In the north, I saw hundreds of reefs  —   literally   of the reefs were dying and are now dead. ” The damage to the Great Barrier Reef, one of the world’s largest living structures, is part of a global calamity that has been unfolding intermittently for nearly two decades and seems to be intensifying. In the paper, dozens of scientists described the recent disaster as the third worldwide mass bleaching of coral reefs since 1998, but by far the most widespread and damaging. The state of coral reefs is a telling sign of the health of the seas. Their distress and death are yet another marker of the ravages of global climate change. If most of the world’s coral reefs die, as scientists fear is increasingly likely, some of the richest and most colorful life in the ocean could be lost, along with huge sums from reef tourism. In poorer countries, lives are at stake: Hundreds of millions of people get their protein primarily from reef fish, and the loss of that food supply could become a humanitarian crisis. With this latest global bleaching in its third year, reef scientists say they have no doubt as to the responsible party. They warned decades ago that the coral reefs would be at risk if human society kept burning fossil fuels at a runaway pace, releasing greenhouse gases that warm the ocean. Emissions continued to rise, and now the background ocean temperature is high enough that any temporary spike poses a critical risk to reefs. “Climate change is not a future threat,” Professor Hughes said. “On the Great Barrier Reef, it’s been happening for 18 years. ” Corals require warm water to thrive, but they are exquisitely sensitive to extra heat. Just two or three degrees Fahrenheit of excess warming can sometimes kill the tiny creatures. Globally, the ocean has warmed by about 1. 5 degrees Fahrenheit since the late 19th century, by a conservative calculation, and a bit more in the tropics, home to many reefs. An additional kick was supplied by an El Niño weather pattern that peaked in 2016 and temporarily warmed much of the surface of the planet, causing the hottest year in a historical record dating to 1880. It was obvious last year that the corals on many reefs were likely to die, but now formal scientific assessments are coming in. The paper in Nature documents vast coral bleaching in 2016 along a   section of the reef north of Cairns, a city on Australia’s eastern coast. Bleaching indicates that corals are under heat stress, but they do not always die and cooler water can help them recover. Subsequent surveys of the Great Barrier Reef, conducted late last year after the deadline for inclusion in the Nature paper, documented that extensive patches of reef had in fact died, and would not be likely to recover soon, if at all. Professor Hughes led those surveys. He said that he and his students cried when he showed them maps of the damage, which he had calculated in part by flying low in small planes and helicopters. His aerial surveys, combined with underwater measurements, found that 67 percent of the corals had died in a long stretch north of Port Douglas, and in patches, the mortality reached 83 percent. By luck, a storm stirred the waters in the central and southern parts of the reef at a critical moment, cooling them, and mortality there was much lower  —   about 6 percent in a stretch off Townsville, and even lower in the southernmost part of the reef. But an Australian government study released last week found that over all, last year brought “the highest sea surface temperatures across the Great Barrier Reef on record. ” Only 9 percent of the reef has avoided bleaching since 1998, Professor Hughes said, and now, the less remote, more heavily visited stretch from Cairns south is in trouble again. Water temperatures there remain so high that another round of mass bleaching is underway, the Great Barrier Reef Marine Park Authority  confirmed last week. Professor Hughes said he hoped the   this time would not be as serious as last year’s, but “   bleaching is   in Australia. ” The central and southern part of the reef had already been badly damaged by human activities like dredging and pollution. The Australian government has tried to combat these local threats with its Reef 2050 plan, restricting port development, dredging and agricultural runoff, among other risks. But Professor Hughes’s research found that, given the high temperatures, these national efforts to improve water quality were not enough. “The reefs in muddy water were just as fried as those in pristine water,” Professor Hughes said. “That’s not good news in terms of what you can do locally to prevent bleaching  —   the answer to that is not very much at all. You have to address climate change directly. ” With the election of Donald J. Trump as the American president, a recent global deal to tackle the problem, known as the Paris Agreement, seems to be in peril. Australia’s conservative government also continues to support fossil fuel development, including what many scientists and conservationists see as the reef’s most immediate threat  —   a proposed coal mine, expected to be among the world’s largest, to be built inland from the reef by the Adani Group, a conglomerate based in India. “The fact is, Australia is the largest coal exporter in the world, and the last thing we should be doing to our greatest national asset is making the situation worse,” said Imogen Zethoven, campaign director for the Australian Marine Conservation Society. Australia relies on the Great Barrier Reef for about 70, 000 jobs and billions of dollars annually in tourism revenue, and it is not yet clear how that economy will be affected by the reef’s deterioration. Even in   areas, large patches of the Great Barrier Reef survived, and guides will most likely take tourists there, avoiding the dead zones. The global reef crisis does not necessarily mean extinction for coral species. The corals may save themselves, as many other creatures are attempting to do, by moving toward the poles as the Earth warms, establishing new reefs in cooler water. But the changes humans are causing are so rapid, by geological standards, that it is not entirely clear that coral species will be able to keep up. And even if the corals do survive, that does not mean individual reefs will continue to thrive where they do now. Coral reefs are sensitive systems, built by unusual animals. The corals themselves are tiny polyps that act like farmers, capturing colorful   plants called algae that convert sunlight into food. The coral polyps form colonies and build a limestone scaffolding on which to live  —   a reef. But when the water near a reef gets too hot, the algae begin producing toxins, and the corals expel them in   turning ghostly white. If water temperatures drop soon enough, the corals can grow new algae and survive, but if not, they may succumb to starvation or disease. Even when the corals die, some reefs eventually recover. If water temperatures stay moderate, the damaged sections of the Great Barrier Reef may be covered with corals again in as few as 10 or 15 years. But the temperature of the ocean is now high enough that global mass bleaching events seem to be growing more frequent. If they become routine, many of the world’s   coral reefs may never be able to   themselves. Within a decade, certain kinds of branching and plate coral could be extinct, reef scientists say, along with a variety of small fish that rely on them for protection from predators. “I don’t think the Great Barrier Reef will ever again be as great as it used to be  —   at least not in our lifetimes,” said C. Mark Eakin, a reef expert with the National Oceanic and Atmospheric Administration, in Silver Spring, Md. Dr. Eakin was an author of the new paper and heads a program called Coral Reef Watch, producing predictive maps to warn when coral bleaching is imminent. Even though last year’s El Niño has ended, water temperatures are high enough that his maps are showing continued hot water across millions of square miles of the ocean. Kim M. Cobb, a climate scientist at the Georgia Institute of Technology who was not involved in the writing of the new paper, described it and the more recent findings as accurate, and depressing. She said she saw extensive coral devastation last year off Kiritimati Island, part of the Republic of Kiribati several thousand miles from Australia and a place she visits regularly in her research. With the international effort to fight climate change at risk of losing momentum, “ocean temperatures continue to march upward,” Dr. Cobb said. “The idea that we’re going to have 20 or 30 years before we reach the next bleaching and mortality event for the corals is basically a fantasy. ”\n"
          ],
          "name": "stdout"
        }
      ]
    },
    {
      "cell_type": "code",
      "metadata": {
        "id": "NY3OlIHVbKN5",
        "colab_type": "code",
        "colab": {}
      },
      "source": [
        "kag_train_x.to_csv('kag_train_x.csv',index=False)  #ignore (to download codes upto here) "
      ],
      "execution_count": null,
      "outputs": []
    },
    {
      "cell_type": "code",
      "metadata": {
        "id": "7ykVWCf0b-kV",
        "colab_type": "code",
        "colab": {}
      },
      "source": [
        "kag_train_y.to_csv('kag_train_y.csv',index=False) #ignore"
      ],
      "execution_count": null,
      "outputs": []
    },
    {
      "cell_type": "code",
      "metadata": {
        "id": "etFhkS9JcBic",
        "colab_type": "code",
        "colab": {}
      },
      "source": [
        "kag_test_x.to_csv('kag_test_x.csv',index=False) #ignore"
      ],
      "execution_count": null,
      "outputs": []
    },
    {
      "cell_type": "code",
      "metadata": {
        "id": "6BshFYhccChN",
        "colab_type": "code",
        "colab": {}
      },
      "source": [
        "kag_test_y.to_csv('kag_test_y.csv',index=False) #ignore all\n",
        "kag_dev_x.to_csv('kag_dev_x.csv',index=False)\n",
        "kag_dev_y.to_csv('kag_dev_y.csv',index=False)\n",
        "#kag_train_x.to_csv('kag_train_x.csv',index=False)"
      ],
      "execution_count": null,
      "outputs": []
    },
    {
      "cell_type": "code",
      "metadata": {
        "id": "siJ3wue67Fy5",
        "colab_type": "code",
        "colab": {
          "base_uri": "https://localhost:8080/",
          "height": 34
        },
        "outputId": "0974199d-67a3-4c25-e631-740894f3a669"
      },
      "source": [
        "import tensorflow\n",
        "import pandas as pd\n",
        "import keras"
      ],
      "execution_count": null,
      "outputs": [
        {
          "output_type": "stream",
          "text": [
            "Using TensorFlow backend.\n"
          ],
          "name": "stderr"
        }
      ]
    },
    {
      "cell_type": "code",
      "metadata": {
        "id": "pyZcH2dZ7OP1",
        "colab_type": "code",
        "colab": {
          "base_uri": "https://localhost:8080/",
          "height": 122
        },
        "outputId": "cda62f75-dfc9-4d59-f43c-842eae4a94a4"
      },
      "source": [
        "#tokenizing text attr\n",
        "from keras.preprocessing.text import Tokenizer\n",
        "\n",
        "tokenizer1 = Tokenizer()\n",
        "tokenizer1.fit_on_texts(kag_train_x.text)\n",
        "\n",
        "\n",
        "em_kag_train_text = tokenizer1.texts_to_sequences(kag_train_x.text)\n",
        "em_kag_test_text=tokenizer1.texts_to_sequences(kag_test_x.text)\n",
        "em_kag_dev_text = tokenizer1.texts_to_sequences(kag_dev_x.text)\n",
        "\n",
        "vocab_size = len(tokenizer1.word_index) + 1  # Adding 1 because of reserved 0 index\n",
        "print(vocab_size)\n",
        "#print(kag_train_x.title[2])\n",
        "print(len(em_kag_train_text))\n",
        "print(em_kag_train_text[3])\n",
        "print(len(em_kag_test_text))\n",
        "print(em_kag_test_text[3])"
      ],
      "execution_count": null,
      "outputs": [
        {
          "output_type": "stream",
          "text": [
            "215389\n",
            "18288\n",
            "[1210, 1, 530, 18, 176, 385, 564, 1213, 3289, 5509, 12, 555, 9, 9, 1, 392, 77, 11, 602, 31969, 184, 4172, 76, 4, 2404, 70740, 1429, 4, 7052, 2, 185, 11, 1, 2485, 309, 9400, 645, 442, 5, 144, 1, 530, 8, 80, 113, 589, 140, 9639, 170, 21495, 61445, 4011, 127, 63, 176, 5834, 5358, 4, 11967, 890, 2, 2127, 1, 2011, 7, 397, 12, 124, 545, 1, 288, 7, 1, 530, 36, 268, 637, 74, 3171, 173, 158, 2, 3289, 1557, 1423, 4, 3974, 3838, 1, 10315, 3, 1210, 337, 332, 316, 1, 54904, 530, 28, 268, 10111, 4172, 425, 43, 12167, 1182, 460, 115454, 2357, 2404, 70740, 1, 17637, 95, 3599, 4, 5857, 85510, 1, 54905, 5218, 490, 6, 19, 298, 344, 11, 1, 2485, 309, 9400, 645, 19, 1, 77, 3, 27, 1333, 3330, 1210, 28, 80, 1125, 185, 11, 11310, 309, 9400, 645, 558, 8, 1, 530, 1, 2256, 372, 160, 35, 2, 521, 31, 109, 587, 31, 81, 2, 504, 14, 4, 4329, 41, 12167, 4, 98, 1551, 21, 3325, 18, 98, 505, 10, 17, 3289, 2, 965, 4254, 570, 1179, 4506, 1, 530, 11, 2516, 144, 87, 565, 14688, 2183, 3, 141, 6418, 300, 329, 4744, 4902, 1, 2040, 4393, 138, 4, 6486, 10, 648, 5794, 4771, 5622, 28, 1024, 7, 34805, 50, 42, 1407, 27, 530, 10, 114, 19162, 2551, 8145, 4, 249, 1292, 2231, 9061, 2598, 1394, 728, 35, 139, 199, 94, 789, 3, 515, 49, 144, 35, 215, 335, 7, 101, 1073, 1083, 27, 530, 114, 101, 483, 10, 1210, 8, 1236, 947, 2, 11, 2485, 6, 184, 25349, 4, 24657, 21496, 4, 42, 22, 555, 11, 1038, 390, 13, 29, 28604, 21497, 18, 3289, 459, 490, 676, 3967, 9291, 8, 5, 1247, 9, 385, 1993, 35, 64, 363, 79, 11, 194, 10707, 37, 61, 23, 1060, 19, 407]\n",
            "2286\n",
            "[727, 28, 1416, 5, 195, 2894, 106, 313, 293, 758, 649, 9, 1, 5704, 3159, 199, 3, 23, 476, 751, 15, 1, 535, 71, 1246, 341, 195, 171, 696, 562, 3024, 313, 649, 1187, 5, 13141, 13983, 2592, 2, 1194, 347, 40, 29, 289, 11470, 2150, 76, 51, 127, 197, 3339, 7752, 809, 209, 2, 8968, 1, 138, 11, 194, 895, 2, 5, 22252, 3, 1398, 1042, 40, 76, 4, 406, 34, 90, 3, 51, 1401, 8456, 1, 231, 3, 20471, 234, 3, 673, 2778, 8, 6, 1324, 3, 7531, 6670, 401, 3541, 55, 195, 911, 61, 313, 293, 649, 1611, 38, 2791, 9, 141, 1307, 255, 108, 58365, 624, 38, 11743, 13983, 2894, 558, 8, 29, 126, 103, 4, 41, 20, 75, 508, 230, 310, 26, 1, 1917, 7, 1, 95, 157, 908, 2, 1678, 1, 225, 68, 3, 1, 100, 89, 33, 445, 1333, 2, 918, 7, 29, 297, 22, 1355, 73, 293, 649, 9, 104, 761, 3541, 3, 1, 6670, 401, 1, 4670, 3, 27, 1827, 4507, 18, 1, 6580, 1839, 3, 1, 297, 666, 15, 56, 293, 649, 12, 358, 5, 141, 448, 4, 25, 5, 1843, 49, 10, 1300, 3, 2894, 1416, 5, 2894, 13, 1, 231, 3, 329, 234, 3, 1843, 1674, 11, 398, 106, 313, 293, 758, 649, 9, 8486, 6, 1, 249, 126, 669, 1, 4407, 397, 2, 435, 62, 29, 297, 73, 355, 425, 406, 27, 439, 2, 126, 144, 195, 911, 20, 9028, 26, 5140, 6, 141, 1749, 172, 1, 6670, 401, 413, 8, 1922, 5673, 7, 313, 293, 649, 45, 202, 165, 39, 61, 27, 13, 93, 508, 230, 2, 180, 107, 1, 126, 10, 17, 1982, 42101, 564, 4611, 2, 1, 278, 1539, 106, 39, 391, 14, 8, 29, 2012, 340, 26, 5, 7207, 197, 32, 209, 2, 1296, 6, 1, 905, 132, 127, 75, 2, 3606, 47, 119, 649, 731, 2, 952, 11, 4609, 1347, 4, 2821, 224, 25, 2511, 71, 676, 2, 22, 68, 2395, 120, 76, 10, 90, 195, 911, 20, 5044, 26, 4877, 6, 3159, 20736, 172, 195, 171, 18, 391, 29, 401, 2, 1306, 22564, 141, 1749, 10, 2052, 311, 15, 1, 6670, 401, 14, 619, 135, 4087, 7510, 9, 3159, 4604, 18, 1, 68, 946, 68, 4, 5, 221, 4885, 305, 5071, 260, 3, 1, 342, 3035, 3, 96, 1, 4407, 293, 8, 25, 49, 3, 97, 8820, 1583, 4, 176, 905, 13303, 758, 2685, 13141, 13983, 2592, 2, 404, 43354, 3, 3159, 141, 3992, 2, 229, 1343, 3332, 347, 19, 1, 244, 3, 5, 18618, 7126, 273, 126]\n"
          ],
          "name": "stdout"
        }
      ]
    },
    {
      "cell_type": "code",
      "metadata": {
        "id": "3jAflfdojWe7",
        "colab_type": "code",
        "colab": {
          "base_uri": "https://localhost:8080/",
          "height": 54
        },
        "outputId": "9c0d5d2c-61c0-4fab-99f2-4b6d6c990e83"
      },
      "source": [
        "print(em_kag_train_text[2])"
      ],
      "execution_count": null,
      "outputs": [
        {
          "output_type": "stream",
          "text": [
            "[176, 92, 1124, 4172, 76, 3077, 10630, 39, 63, 2212, 6806, 593, 358, 2452, 3, 68, 165, 142, 7318, 819, 143, 1, 2140, 70739, 39, 5621, 1, 1008, 203, 819, 22, 5, 4069, 10, 76, 285, 11, 194, 6, 1, 187, 752, 316, 76, 2239, 6806, 2, 3038, 36507, 654, 9, 23, 677, 27727, 62, 9, 203, 4069, 65, 532, 4224, 6918, 677, 7, 2073, 1520, 10, 43, 17, 542, 10630, 1098, 1263, 194, 34, 3967, 19161, 20271, 800, 1779, 529]\n"
          ],
          "name": "stdout"
        }
      ]
    },
    {
      "cell_type": "code",
      "metadata": {
        "id": "DwvtuVm4gi3p",
        "colab_type": "code",
        "colab": {
          "base_uri": "https://localhost:8080/",
          "height": 153
        },
        "outputId": "f83b4196-1429-42e2-ec7e-f011dbd518c9"
      },
      "source": [
        "#padding text attr\n",
        "from keras.preprocessing.sequence import pad_sequences\n",
        "import numpy as np\n",
        "maxlen_text =0\n",
        "for i in em_kag_train_text:\n",
        "    if(len(i)>maxlen_text):\n",
        "        maxlen_text=len(i)\n",
        "print(maxlen_text)\n",
        "\n",
        "#t=np.asarray(em_kag_train_X)\n",
        "\n",
        "em_kag_train_padtext = pad_sequences(em_kag_train_text, padding='post', maxlen=maxlen_text)\n",
        "em_kag_test_padtext = pad_sequences(em_kag_test_text, padding='post', maxlen=maxlen_text)\n",
        "em_kag_dev_padtext = pad_sequences(em_kag_dev_text, padding='post', maxlen=maxlen_text)\n",
        "\n",
        "print('train')\n",
        "print(len(em_kag_train_padtext))\n",
        "print(em_kag_train_padtext.shape)\n",
        "print('test')\n",
        "print(len(em_kag_test_padtext))\n",
        "print(em_kag_test_padtext.shape)\n",
        "'''print('dev')\n",
        "print(len(em_kag_dev_padtext))\n",
        "print(em_kag_dev_padtext.shape)\n",
        "print(em_kag_train_padtext[1, :])'''"
      ],
      "execution_count": null,
      "outputs": [
        {
          "output_type": "stream",
          "text": [
            "21041\n",
            "train\n",
            "18288\n",
            "(18288, 21041)\n",
            "test\n",
            "2286\n",
            "(2286, 21041)\n"
          ],
          "name": "stdout"
        },
        {
          "output_type": "execute_result",
          "data": {
            "text/plain": [
              "\"print('dev')\\nprint(len(em_kag_dev_padtext))\\nprint(em_kag_dev_padtext.shape)\\nprint(em_kag_train_padtext[1, :])\""
            ]
          },
          "metadata": {
            "tags": []
          },
          "execution_count": 28
        }
      ]
    },
    {
      "cell_type": "code",
      "metadata": {
        "id": "l9VZqum_jT6W",
        "colab_type": "code",
        "colab": {
          "base_uri": "https://localhost:8080/",
          "height": 85
        },
        "outputId": "93ad1acc-1eaa-4468-bd05-f4afac9521bb"
      },
      "source": [
        "#tokenizing title attr\n",
        "from keras.preprocessing.text import Tokenizer\n",
        "\n",
        "tokenizer2 = Tokenizer()\n",
        "tokenizer2.fit_on_texts(kag_train_x.title)\n",
        "\n",
        "\n",
        "em_kag_train_title = tokenizer2.texts_to_sequences(kag_train_x.title)\n",
        "em_kag_test_title = tokenizer2.texts_to_sequences(kag_test_x.title)\n",
        "em_kag_dev_title = tokenizer2.texts_to_sequences(kag_dev_x.title)\n",
        "\n",
        "vocab_size = len(tokenizer2.word_index) + 1  # Adding 1 because of reserved 0 index\n",
        "print(vocab_size)\n",
        "#print(kag_train_x.title[2])\n",
        "print(len(em_kag_train_title))\n",
        "print(em_kag_train_title[3])\n",
        "print(len(em_kag_test_title))"
      ],
      "execution_count": null,
      "outputs": [
        {
          "output_type": "stream",
          "text": [
            "25906\n",
            "18288\n",
            "[318, 703, 5284, 114, 12, 2899, 2900, 5, 175, 12, 1361, 1504, 19, 6330, 10]\n",
            "2286\n"
          ],
          "name": "stdout"
        }
      ]
    },
    {
      "cell_type": "code",
      "metadata": {
        "id": "MMyardmlon58",
        "colab_type": "code",
        "colab": {
          "base_uri": "https://localhost:8080/",
          "height": 136
        },
        "outputId": "18f8af9a-3f27-4ba3-96d7-2364fd98e138"
      },
      "source": [
        "#padding title attr\n",
        "from keras.preprocessing.sequence import pad_sequences\n",
        "import numpy as np\n",
        "maxlen_title =0\n",
        "for i in em_kag_train_title:\n",
        "    if(len(i)>maxlen_title):\n",
        "        maxlen_title=len(i)\n",
        "print(maxlen_title)\n",
        "\n",
        "\n",
        "\n",
        "#t=np.asarray(em_kag_train_X)\n",
        "\n",
        "em_kag_train_padtitle = pad_sequences(em_kag_train_title, padding='post', maxlen=maxlen_title)\n",
        "em_kag_test_padtitle = pad_sequences(em_kag_test_title, padding='post', maxlen=maxlen_title)\n",
        "em_kag_dev_padtitle = pad_sequences(em_kag_dev_title, padding='post', maxlen=maxlen_title)\n",
        "\n",
        "print('train')\n",
        "print(len(em_kag_train_padtitle))\n",
        "print(em_kag_train_padtitle.shape)\n",
        "print('test')\n",
        "print(len(em_kag_test_padtitle))\n",
        "'''print('dev')\n",
        "print(len(em_kag_dev_padtitle))\n",
        "print(em_kag_dev_padtitle.shape)\n",
        "print(em_kag_train_padtitle[1, :])'''"
      ],
      "execution_count": null,
      "outputs": [
        {
          "output_type": "stream",
          "text": [
            "68\n",
            "train\n",
            "18288\n",
            "(18288, 68)\n",
            "test\n",
            "2286\n"
          ],
          "name": "stdout"
        },
        {
          "output_type": "execute_result",
          "data": {
            "text/plain": [
              "\"print('dev')\\nprint(len(em_kag_dev_padtitle))\\nprint(em_kag_dev_padtitle.shape)\\nprint(em_kag_train_padtitle[1, :])\""
            ]
          },
          "metadata": {
            "tags": []
          },
          "execution_count": 30
        }
      ]
    },
    {
      "cell_type": "code",
      "metadata": {
        "id": "BGe782vqoorC",
        "colab_type": "code",
        "colab": {
          "base_uri": "https://localhost:8080/",
          "height": 85
        },
        "outputId": "6945dd56-a847-430c-f580-bfa31525698c"
      },
      "source": [
        "#tokenizing author attr\n",
        "from keras.preprocessing.text import Tokenizer\n",
        "\n",
        "tokenizer3 = Tokenizer()\n",
        "tokenizer3.fit_on_texts(kag_train_x.author)\n",
        "\n",
        "\n",
        "em_kag_train_aut = tokenizer3.texts_to_sequences(kag_train_x.author)\n",
        "em_kag_test_aut = tokenizer3.texts_to_sequences(kag_test_x.author)\n",
        "em_kag_dev_aut = tokenizer3.texts_to_sequences(kag_dev_x.author)\n",
        "\n",
        "vocab_size = len(tokenizer3.word_index) + 1  # Adding 1 because of reserved 0 index\n",
        "print(vocab_size)\n",
        "#print(kag_train_x.title[2])\n",
        "print(len(em_kag_train_aut))\n",
        "print(em_kag_train_aut[3])\n",
        "print(em_kag_test_aut[3])"
      ],
      "execution_count": null,
      "outputs": [
        {
          "output_type": "stream",
          "text": [
            "4108\n",
            "18288\n",
            "[11, 88]\n",
            "[357, 358]\n"
          ],
          "name": "stdout"
        }
      ]
    },
    {
      "cell_type": "code",
      "metadata": {
        "id": "e5S1mjcDopIb",
        "colab_type": "code",
        "colab": {
          "base_uri": "https://localhost:8080/",
          "height": 170
        },
        "outputId": "4b017c0b-2c4c-485f-ddf2-375d2ce6e9e6"
      },
      "source": [
        "#padding author attr\n",
        "from keras.preprocessing.sequence import pad_sequences\n",
        "import numpy as np\n",
        "maxlen_aut =0\n",
        "for i in em_kag_train_aut:\n",
        "    if(len(i)>maxlen_aut):\n",
        "        maxlen_aut=len(i)\n",
        "print(maxlen_aut)\n",
        "\n",
        "\n",
        "#t=np.asarray(em_kag_train_X)\n",
        "\n",
        "em_kag_train_padaut = pad_sequences(em_kag_train_aut, padding='post', maxlen=maxlen_aut)\n",
        "em_kag_test_padaut = pad_sequences(em_kag_test_aut, padding='post', maxlen=maxlen_aut)\n",
        "em_kag_dev_padaut = pad_sequences(em_kag_dev_aut, padding='post', maxlen=maxlen_aut)\n",
        "\n",
        "print('train')\n",
        "print(len(em_kag_train_padaut))\n",
        "print(em_kag_train_padaut.shape)\n",
        "print('test')\n",
        "print(len(em_kag_test_padaut))\n",
        "print(em_kag_test_padaut[2,:])\n",
        "'''print('dev')\n",
        "print(len(em_kag_dev_padaut))\n",
        "print(em_kag_dev_padaut.shape)\n",
        "print(em_kag_train_padaut[1, :])'''"
      ],
      "execution_count": null,
      "outputs": [
        {
          "output_type": "stream",
          "text": [
            "24\n",
            "train\n",
            "18288\n",
            "(18288, 24)\n",
            "test\n",
            "2286\n",
            "[373 374   0   0   0   0   0   0   0   0   0   0   0   0   0   0   0   0\n",
            "   0   0   0   0   0   0]\n"
          ],
          "name": "stdout"
        },
        {
          "output_type": "execute_result",
          "data": {
            "text/plain": [
              "\"print('dev')\\nprint(len(em_kag_dev_padaut))\\nprint(em_kag_dev_padaut.shape)\\nprint(em_kag_train_padaut[1, :])\""
            ]
          },
          "metadata": {
            "tags": []
          },
          "execution_count": 32
        }
      ]
    },
    {
      "cell_type": "code",
      "metadata": {
        "id": "TxBzo7M28w_G",
        "colab_type": "code",
        "colab": {}
      },
      "source": [
        "import matplotlib.pyplot as plt\n",
        "plt.style.use('ggplot')\n",
        "\n",
        "def plot_history(history):\n",
        "    acc = history.history['acc']\n",
        "    val_acc = history.history['val_acc']\n",
        "    loss = history.history['loss']\n",
        "    val_loss = history.history['val_loss']\n",
        "    x = range(1, len(acc) + 1)\n",
        "\n",
        "    plt.figure(figsize=(12, 5))\n",
        "    plt.subplot(1, 2, 1)\n",
        "    plt.plot(x, acc, 'b', label='Training acc')\n",
        "    plt.plot(x, val_acc, 'r', label='Validation acc')\n",
        "    plt.title('Training and validation accuracy')\n",
        "    plt.legend()\n",
        "    plt.subplot(1, 2, 2)\n",
        "    plt.plot(x, loss, 'b', label='Training loss')\n",
        "    plt.plot(x, val_loss, 'r', label='Validation loss')\n",
        "    plt.title('Training and validation loss')\n",
        "    plt.legend()"
      ],
      "execution_count": null,
      "outputs": []
    },
    {
      "cell_type": "code",
      "metadata": {
        "id": "ovZhjb46brTe",
        "colab_type": "code",
        "colab": {
          "base_uri": "https://localhost:8080/",
          "height": 748
        },
        "outputId": "2b5f5611-f3fd-4320-ce29-849726bdba55"
      },
      "source": [
        "from keras.layers import Embedding\n",
        "from keras.layers import concatenate\n",
        "from keras.layers import Flatten\n",
        "from keras.layers import Input, Dense, MaxPooling1D\n",
        "from keras.models import Model\n",
        "from keras.layers import GlobalMaxPooling1D\n",
        "from keras.layers import Conv1D\n",
        "from keras.regularizers import l2\n",
        "from keras.layers import Dropout\n",
        "#from keras.regularizers import l2\n",
        "#from keras.layers import Dropout\n",
        "embedding_dim = 25\n",
        "h1=int(2/3*75)\n",
        "h2=int(2/3*h1)\n",
        "print(h1,h2)\n",
        "\n",
        "title_in = Input(shape=(68,), name='title_in')\n",
        "author_in = Input(shape=(24,), name='author_in')\n",
        "text_in = Input(shape=(21041,), name='text_in')\n",
        "\n",
        "title_embed = Embedding(output_dim=embedding_dim, input_dim=215389, input_length=68)(title_in)\n",
        "author_embed = Embedding(output_dim=embedding_dim, input_dim=215389, input_length=24)(author_in)\n",
        "text_embed = Embedding(output_dim=embedding_dim, input_dim=215389, input_length=21041)(text_in)\n",
        "\n",
        "title_conv1=Conv1D(128,5,padding='valid',activation='relu')(title_embed)\n",
        "author_conv1=Conv1D(128,5,padding='valid',activation='relu')(author_embed)\n",
        "text_conv1=Conv1D(128,5,padding='valid',activation='relu')(text_embed)\n",
        "\n",
        "\n",
        "title_pool1=GlobalMaxPooling1D()(title_conv1)\n",
        "author_pool1=GlobalMaxPooling1D()(author_conv1)\n",
        "text_pool1=GlobalMaxPooling1D()(text_conv1)\n",
        "\n",
        "\n",
        "\n",
        "\n",
        "all_in=concatenate([title_pool1,author_pool1,text_pool1])\n",
        "\n",
        "\n",
        "\n",
        "d1 = Dense(h1, activation='relu')(all_in)\n",
        "#drop= Dropout(0.2)(d1)\n",
        "d2 = Dense(h2, activation='relu')(d1)\n",
        "#drop1= Dropout(0.2)(d2)\n",
        "op = Dense(1, activation='sigmoid', name='op')(d2)\n",
        "\n",
        "\n",
        "\n",
        "\n",
        "model = Model(inputs=[title_in,author_in,text_in], outputs=[op])\n",
        "model.summary()"
      ],
      "execution_count": null,
      "outputs": [
        {
          "output_type": "stream",
          "text": [
            "50 33\n",
            "Model: \"model_3\"\n",
            "__________________________________________________________________________________________________\n",
            "Layer (type)                    Output Shape         Param #     Connected to                     \n",
            "==================================================================================================\n",
            "title_in (InputLayer)           (None, 68)           0                                            \n",
            "__________________________________________________________________________________________________\n",
            "author_in (InputLayer)          (None, 24)           0                                            \n",
            "__________________________________________________________________________________________________\n",
            "text_in (InputLayer)            (None, 21041)        0                                            \n",
            "__________________________________________________________________________________________________\n",
            "embedding_64 (Embedding)        (None, 68, 25)       5384725     title_in[0][0]                   \n",
            "__________________________________________________________________________________________________\n",
            "embedding_65 (Embedding)        (None, 24, 25)       5384725     author_in[0][0]                  \n",
            "__________________________________________________________________________________________________\n",
            "embedding_66 (Embedding)        (None, 21041, 25)    5384725     text_in[0][0]                    \n",
            "__________________________________________________________________________________________________\n",
            "conv1d_75 (Conv1D)              (None, 64, 128)      16128       embedding_64[0][0]               \n",
            "__________________________________________________________________________________________________\n",
            "conv1d_76 (Conv1D)              (None, 20, 128)      16128       embedding_65[0][0]               \n",
            "__________________________________________________________________________________________________\n",
            "conv1d_77 (Conv1D)              (None, 21037, 128)   16128       embedding_66[0][0]               \n",
            "__________________________________________________________________________________________________\n",
            "global_max_pooling1d_35 (Global (None, 128)          0           conv1d_75[0][0]                  \n",
            "__________________________________________________________________________________________________\n",
            "global_max_pooling1d_36 (Global (None, 128)          0           conv1d_76[0][0]                  \n",
            "__________________________________________________________________________________________________\n",
            "global_max_pooling1d_37 (Global (None, 128)          0           conv1d_77[0][0]                  \n",
            "__________________________________________________________________________________________________\n",
            "concatenate_15 (Concatenate)    (None, 384)          0           global_max_pooling1d_35[0][0]    \n",
            "                                                                 global_max_pooling1d_36[0][0]    \n",
            "                                                                 global_max_pooling1d_37[0][0]    \n",
            "__________________________________________________________________________________________________\n",
            "dense_5 (Dense)                 (None, 50)           19250       concatenate_15[0][0]             \n",
            "__________________________________________________________________________________________________\n",
            "dense_6 (Dense)                 (None, 33)           1683        dense_5[0][0]                    \n",
            "__________________________________________________________________________________________________\n",
            "op (Dense)                      (None, 1)            34          dense_6[0][0]                    \n",
            "==================================================================================================\n",
            "Total params: 16,223,526\n",
            "Trainable params: 16,223,526\n",
            "Non-trainable params: 0\n",
            "__________________________________________________________________________________________________\n"
          ],
          "name": "stdout"
        }
      ]
    },
    {
      "cell_type": "code",
      "metadata": {
        "id": "2Y3QmylnZILw",
        "colab_type": "code",
        "colab": {
          "base_uri": "https://localhost:8080/",
          "height": 935
        },
        "outputId": "39af7fce-4de6-4a87-c773-ef5f590227a8"
      },
      "source": [
        "model.compile(optimizer='adam',\n",
        "              loss='binary_crossentropy',metrics=['accuracy'])\n",
        "h=model.fit({'title_in': em_kag_train_padtitle, 'author_in': em_kag_train_padaut, 'text_in':em_kag_train_padtext},{'op': kag_train_y},\n",
        "          epochs=5, batch_size=32,validation_data=({'title_in': em_kag_dev_padtitle, 'author_in': em_kag_dev_padaut, 'text_in':em_kag_dev_padtext},{'op': kag_dev_y}))\n",
        "plot_history(h)"
      ],
      "execution_count": null,
      "outputs": [
        {
          "output_type": "stream",
          "text": [
            "WARNING:tensorflow:From /usr/local/lib/python3.6/dist-packages/keras/optimizers.py:793: The name tf.train.Optimizer is deprecated. Please use tf.compat.v1.train.Optimizer instead.\n",
            "\n",
            "WARNING:tensorflow:From /usr/local/lib/python3.6/dist-packages/keras/backend/tensorflow_backend.py:3657: The name tf.log is deprecated. Please use tf.math.log instead.\n",
            "\n",
            "WARNING:tensorflow:From /tensorflow-1.15.2/python3.6/tensorflow_core/python/ops/nn_impl.py:183: where (from tensorflow.python.ops.array_ops) is deprecated and will be removed in a future version.\n",
            "Instructions for updating:\n",
            "Use tf.where in 2.0, which has the same broadcast rule as np.where\n",
            "WARNING:tensorflow:From /usr/local/lib/python3.6/dist-packages/keras/backend/tensorflow_backend.py:1033: The name tf.assign_add is deprecated. Please use tf.compat.v1.assign_add instead.\n",
            "\n",
            "WARNING:tensorflow:From /usr/local/lib/python3.6/dist-packages/keras/backend/tensorflow_backend.py:1020: The name tf.assign is deprecated. Please use tf.compat.v1.assign instead.\n",
            "\n",
            "WARNING:tensorflow:From /usr/local/lib/python3.6/dist-packages/keras/backend/tensorflow_backend.py:3005: The name tf.Session is deprecated. Please use tf.compat.v1.Session instead.\n",
            "\n",
            "Train on 18288 samples, validate on 2286 samples\n",
            "Epoch 1/5\n",
            "WARNING:tensorflow:From /usr/local/lib/python3.6/dist-packages/keras/backend/tensorflow_backend.py:190: The name tf.get_default_session is deprecated. Please use tf.compat.v1.get_default_session instead.\n",
            "\n",
            "WARNING:tensorflow:From /usr/local/lib/python3.6/dist-packages/keras/backend/tensorflow_backend.py:197: The name tf.ConfigProto is deprecated. Please use tf.compat.v1.ConfigProto instead.\n",
            "\n",
            "WARNING:tensorflow:From /usr/local/lib/python3.6/dist-packages/keras/backend/tensorflow_backend.py:207: The name tf.global_variables is deprecated. Please use tf.compat.v1.global_variables instead.\n",
            "\n",
            "WARNING:tensorflow:From /usr/local/lib/python3.6/dist-packages/keras/backend/tensorflow_backend.py:216: The name tf.is_variable_initialized is deprecated. Please use tf.compat.v1.is_variable_initialized instead.\n",
            "\n",
            "WARNING:tensorflow:From /usr/local/lib/python3.6/dist-packages/keras/backend/tensorflow_backend.py:223: The name tf.variables_initializer is deprecated. Please use tf.compat.v1.variables_initializer instead.\n",
            "\n",
            "18288/18288 [==============================] - 911s 50ms/step - loss: 0.3148 - acc: 0.8759 - val_loss: 0.2365 - val_acc: 0.9230\n",
            "Epoch 2/5\n",
            "18288/18288 [==============================] - 904s 49ms/step - loss: 0.1824 - acc: 0.9329 - val_loss: 0.2700 - val_acc: 0.9033\n",
            "Epoch 3/5\n",
            "18288/18288 [==============================] - 909s 50ms/step - loss: 0.0597 - acc: 0.9817 - val_loss: 0.3264 - val_acc: 0.8906\n",
            "Epoch 4/5\n",
            "18288/18288 [==============================] - 906s 50ms/step - loss: 0.0229 - acc: 0.9933 - val_loss: 0.3856 - val_acc: 0.8828\n",
            "Epoch 5/5\n",
            "18288/18288 [==============================] - 903s 49ms/step - loss: 0.0148 - acc: 0.9959 - val_loss: 0.4437 - val_acc: 0.8845\n"
          ],
          "name": "stdout"
        },
        {
          "output_type": "display_data",
          "data": {
            "image/png": "[encoded data removed]",
            "text/plain": [
              "<Figure size 864x360 with 2 Axes>"
            ]
          },
          "metadata": {
            "tags": []
          }
        }
      ]
    }
  ]
}