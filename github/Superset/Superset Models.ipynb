{
 "cells": [
  {
   "cell_type": "code",
   "execution_count": 1,
   "metadata": {},
   "outputs": [
    {
     "name": "stdout",
     "output_type": "stream",
     "text": [
      "importing Jupyter notebook from auto_naive.ipynb\n",
      "importing Jupyter notebook from auto_pac.ipynb\n"
     ]
    }
   ],
   "source": [
    "import pandas as pd\n",
    "import numpy as np\n",
    "import import_ipynb\n",
    "import auto_naive as an\n",
    "import auto_pac as ap"
   ]
  },
  {
   "cell_type": "code",
   "execution_count": 2,
   "metadata": {},
   "outputs": [],
   "source": [
    "superset=pd.read_csv('datasets/superset.csv')"
   ]
  },
  {
   "cell_type": "code",
   "execution_count": 3,
   "metadata": {},
   "outputs": [
    {
     "data": {
      "text/html": [
       "<div>\n",
       "<style scoped>\n",
       "    .dataframe tbody tr th:only-of-type {\n",
       "        vertical-align: middle;\n",
       "    }\n",
       "\n",
       "    .dataframe tbody tr th {\n",
       "        vertical-align: top;\n",
       "    }\n",
       "\n",
       "    .dataframe thead th {\n",
       "        text-align: right;\n",
       "    }\n",
       "</style>\n",
       "<table border=\"1\" class=\"dataframe\">\n",
       "  <thead>\n",
       "    <tr style=\"text-align: right;\">\n",
       "      <th></th>\n",
       "      <th>label</th>\n",
       "      <th>statement</th>\n",
       "    </tr>\n",
       "  </thead>\n",
       "  <tbody>\n",
       "    <tr>\n",
       "      <td>0</td>\n",
       "      <td>fake</td>\n",
       "      <td>About 47 percent of able-bodied people in the ...</td>\n",
       "    </tr>\n",
       "    <tr>\n",
       "      <td>1</td>\n",
       "      <td>true</td>\n",
       "      <td>Says Dan Patrick has \"called immigration into ...</td>\n",
       "    </tr>\n",
       "    <tr>\n",
       "      <td>2</td>\n",
       "      <td>true</td>\n",
       "      <td>In 2008, \"only 54 percent of Latinos in Texas ...</td>\n",
       "    </tr>\n",
       "    <tr>\n",
       "      <td>3</td>\n",
       "      <td>true</td>\n",
       "      <td>Even after Obamacare is fully implemented, the...</td>\n",
       "    </tr>\n",
       "    <tr>\n",
       "      <td>4</td>\n",
       "      <td>true</td>\n",
       "      <td>McDonald's in England only sells organic milk ...</td>\n",
       "    </tr>\n",
       "    <tr>\n",
       "      <td>...</td>\n",
       "      <td>...</td>\n",
       "      <td>...</td>\n",
       "    </tr>\n",
       "    <tr>\n",
       "      <td>233408</td>\n",
       "      <td>fake</td>\n",
       "      <td>There are a larger number of shark attacks in ...</td>\n",
       "    </tr>\n",
       "    <tr>\n",
       "      <td>233409</td>\n",
       "      <td>fake</td>\n",
       "      <td>Democrats have now become the party of the [At...</td>\n",
       "    </tr>\n",
       "    <tr>\n",
       "      <td>233410</td>\n",
       "      <td>fake</td>\n",
       "      <td>Says an alternative to Social Security that op...</td>\n",
       "    </tr>\n",
       "    <tr>\n",
       "      <td>233411</td>\n",
       "      <td>fake</td>\n",
       "      <td>On lifting the U.S. Cuban embargo and allowing...</td>\n",
       "    </tr>\n",
       "    <tr>\n",
       "      <td>233412</td>\n",
       "      <td>fake</td>\n",
       "      <td>The Department of Veterans Affairs has a manua...</td>\n",
       "    </tr>\n",
       "  </tbody>\n",
       "</table>\n",
       "<p>233413 rows × 2 columns</p>\n",
       "</div>"
      ],
      "text/plain": [
       "       label                                          statement\n",
       "0       fake  About 47 percent of able-bodied people in the ...\n",
       "1       true  Says Dan Patrick has \"called immigration into ...\n",
       "2       true  In 2008, \"only 54 percent of Latinos in Texas ...\n",
       "3       true  Even after Obamacare is fully implemented, the...\n",
       "4       true  McDonald's in England only sells organic milk ...\n",
       "...      ...                                                ...\n",
       "233408  fake  There are a larger number of shark attacks in ...\n",
       "233409  fake  Democrats have now become the party of the [At...\n",
       "233410  fake  Says an alternative to Social Security that op...\n",
       "233411  fake  On lifting the U.S. Cuban embargo and allowing...\n",
       "233412  fake  The Department of Veterans Affairs has a manua...\n",
       "\n",
       "[233413 rows x 2 columns]"
      ]
     },
     "execution_count": 3,
     "metadata": {},
     "output_type": "execute_result"
    }
   ],
   "source": [
    "superset"
   ]
  },
  {
   "cell_type": "code",
   "execution_count": 4,
   "metadata": {},
   "outputs": [],
   "source": [
    "super_x=superset.statement\n",
    "super_y=superset.label"
   ]
  },
  {
   "cell_type": "code",
   "execution_count": 5,
   "metadata": {},
   "outputs": [
    {
     "name": "stdout",
     "output_type": "stream",
     "text": [
      "(233413,)\n",
      "(233413,)\n"
     ]
    }
   ],
   "source": [
    "print(super_x.shape)\n",
    "print(super_y.shape)"
   ]
  },
  {
   "cell_type": "code",
   "execution_count": 6,
   "metadata": {},
   "outputs": [],
   "source": [
    "import time \n"
   ]
  },
  {
   "cell_type": "code",
   "execution_count": 7,
   "metadata": {},
   "outputs": [
    {
     "name": "stdout",
     "output_type": "stream",
     "text": [
      "Splitting\n",
      "Final size of train/test : 186730 / 46683\n",
      "train_x : (186730,)\n",
      "train_y : (186730,)\n",
      "test_x : (46683,)\n",
      "test_y : (46683,)\n",
      "Vectorizing\n",
      "test_x : (46683,)\n",
      "train_x : (186730,)\n",
      "tfidf_train_x :  (186730, 473389)\n",
      "tfidf_test_x :  (46683, 473389)\n",
      "model building\n",
      "begin grid\n"
     ]
    },
    {
     "name": "stderr",
     "output_type": "stream",
     "text": [
      "C:\\Users\\Rahul\\Anaconda3\\lib\\site-packages\\sklearn\\model_selection\\_split.py:1978: FutureWarning: The default value of cv will change from 3 to 5 in version 0.22. Specify it explicitly to silence this warning.\n",
      "  warnings.warn(CV_WARNING, FutureWarning)\n"
     ]
    },
    {
     "name": "stdout",
     "output_type": "stream",
     "text": [
      "grid score 0.8443635195201628\n",
      "grid alpha 0.030000000000000002\n",
      "Alpha: 0.030 test_Score: 0.84626 train_score: 0.88718\n",
      "training confusion matrix\n",
      "[[67585 10977]\n",
      " [10089 98079]]\n",
      "testing confusion matrix\n",
      "[[15544  4017]\n",
      " [ 3160 23962]]\n",
      "------------------------------------------\n",
      "41.32438203493754\n"
     ]
    }
   ],
   "source": [
    "start=time.time()\n",
    "an.navie_bayes_tfidf_model(super_x,super_y,100)\n",
    "stop=time.time()\n",
    "print((stop-start)/60)"
   ]
  },
  {
   "cell_type": "code",
   "execution_count": 8,
   "metadata": {},
   "outputs": [
    {
     "name": "stdout",
     "output_type": "stream",
     "text": [
      "Final size of train/test : 186730 / 46683\n",
      "train accuracy: 0.9709687784501687\n",
      "train confusion matrix\n",
      "[[ 76207   2355]\n",
      " [  3066 105102]]\n",
      "test accuracy: 0.8553434869224343\n",
      "test confusion matrix\n",
      "[[16208  3353]\n",
      " [ 3400 23722]]\n",
      "1.2414656440416971\n"
     ]
    }
   ],
   "source": [
    "start=time.time()\n",
    "ap.pac_tfidf_model(super_x,super_y,stop=False)\n",
    "stop=time.time()\n",
    "print((stop-start)/60)"
   ]
  },
  {
   "cell_type": "code",
   "execution_count": 9,
   "metadata": {},
   "outputs": [
    {
     "name": "stdout",
     "output_type": "stream",
     "text": [
      "Final size of train/test : 186730 / 46683\n",
      "Early Stopping is being used\n",
      "train accuracy: 0.9432335457612596\n",
      "train confusion matrix\n",
      "[[ 74768   3794]\n",
      " [  6806 101362]]\n",
      "test accuracy: 0.8710665552770815\n",
      "test confusion matrix\n",
      "[[17028  2533]\n",
      " [ 3486 23636]]\n",
      "1.1519471724828085\n"
     ]
    }
   ],
   "source": [
    "start=time.time()\n",
    "ap.pac_tfidf_model(super_x,super_y,stop=True)\n",
    "stop=time.time()\n",
    "print((stop-start)/60)"
   ]
  },
  {
   "cell_type": "code",
   "execution_count": null,
   "metadata": {},
   "outputs": [],
   "source": []
  },
  {
   "cell_type": "code",
   "execution_count": null,
   "metadata": {},
   "outputs": [],
   "source": []
  }
 ],
 "metadata": {
  "kernelspec": {
   "display_name": "Python 3",
   "language": "python",
   "name": "python3"
  },
  "language_info": {
   "codemirror_mode": {
    "name": "ipython",
    "version": 3
   },
   "file_extension": ".py",
   "mimetype": "text/x-python",
   "name": "python",
   "nbconvert_exporter": "python",
   "pygments_lexer": "ipython3",
   "version": "3.7.4"
  }
 },
 "nbformat": 4,
 "nbformat_minor": 2
}
