{
 "cells": [
  {
   "cell_type": "code",
   "execution_count": 1,
   "metadata": {},
   "outputs": [],
   "source": [
    "import pandas as pd\n",
    "import dtale"
   ]
  },
  {
   "cell_type": "code",
   "execution_count": 2,
   "metadata": {},
   "outputs": [],
   "source": [
    "ckg=pd.read_csv('datasets/claims kg/ckg.csv')\n",
    "\n"
   ]
  },
  {
   "cell_type": "code",
   "execution_count": 3,
   "metadata": {},
   "outputs": [
    {
     "data": {
      "text/plain": [
       "(10000, 14)"
      ]
     },
     "execution_count": 3,
     "metadata": {},
     "output_type": "execute_result"
    }
   ],
   "source": [
    "ckg.shape # True and false problem"
   ]
  },
  {
   "cell_type": "code",
   "execution_count": 4,
   "metadata": {},
   "outputs": [
    {
     "data": {
      "text/plain": [
       "False    7366\n",
       "True     2634\n",
       "Name: ratingName, dtype: int64"
      ]
     },
     "execution_count": 4,
     "metadata": {},
     "output_type": "execute_result"
    }
   ],
   "source": [
    "ckg.ratingName.value_counts()\n"
   ]
  },
  {
   "cell_type": "code",
   "execution_count": 5,
   "metadata": {},
   "outputs": [
    {
     "data": {
      "text/plain": [
       "Index(['id', 'text', 'date', 'truthRating', 'ratingName', 'author', 'headline',\n",
       "       'named_entities_claim', 'named_entities_article', 'keywords', 'source',\n",
       "       'sourceURL', 'link', 'language'],\n",
       "      dtype='object')"
      ]
     },
     "execution_count": 5,
     "metadata": {},
     "output_type": "execute_result"
    }
   ],
   "source": [
    "ckg.columns"
   ]
  },
  {
   "cell_type": "code",
   "execution_count": 6,
   "metadata": {},
   "outputs": [
    {
     "data": {
      "text/plain": [
       "id                         0.00\n",
       "text                       0.00\n",
       "date                       0.00\n",
       "truthRating                0.00\n",
       "ratingName                 0.00\n",
       "author                     0.00\n",
       "headline                   0.00\n",
       "named_entities_claim       0.23\n",
       "named_entities_article    33.42\n",
       "keywords                   6.64\n",
       "source                     0.00\n",
       "sourceURL                  0.00\n",
       "link                       0.00\n",
       "language                   0.00\n",
       "dtype: float64"
      ]
     },
     "execution_count": 6,
     "metadata": {},
     "output_type": "execute_result"
    }
   ],
   "source": [
    "ckg.isna().sum()/(len(ckg))*100\n"
   ]
  },
  {
   "cell_type": "code",
   "execution_count": 7,
   "metadata": {},
   "outputs": [
    {
     "data": {
      "text/plain": [
       "0                                      politics, ted cruz\n",
       "1                            911 calls, domestic violence\n",
       "2                                             ASP Article\n",
       "3                               ASP Article, barack obama\n",
       "4                        ASP Article, Parental Nightmares\n",
       "                              ...                        \n",
       "9995             abortion, ar-15, political garbage chute\n",
       "9996    donald trump, election 2016, hillary clinton, ...\n",
       "9997    #notmypresident, anti-trump protests, fox news...\n",
       "9998                                      alcohol, health\n",
       "9999                                          ASP Article\n",
       "Name: keywords, Length: 10000, dtype: object"
      ]
     },
     "execution_count": 7,
     "metadata": {},
     "output_type": "execute_result"
    }
   ],
   "source": [
    "ckg.keywords\n",
    "#id not required\n",
    "#text is req\n",
    "#date is unknown not null , but ignore anyway\n",
    "#truthRating can be 1 or 3 where all 1 are false and 3 are true drop this\n",
    "#rating Name \n",
    "#author is also empty\n",
    "#headline is good\n",
    "#named_entities claim is from headline\n",
    "#named_entities article is from text\n",
    "#keywords  - discretion \n",
    "#source is unimportant , but left to discretion\n",
    "#source URl not required\n",
    "#link also not required\n",
    "#all lang are english\n",
    "\n"
   ]
  },
  {
   "cell_type": "code",
   "execution_count": 8,
   "metadata": {},
   "outputs": [
    {
     "data": {
      "text/plain": [
       "'\\nRoute 1 :\\nAttirbutes : text, rating Name, headline  , keywords , source(up to the person)\\n\\n\\n'"
      ]
     },
     "execution_count": 8,
     "metadata": {},
     "output_type": "execute_result"
    }
   ],
   "source": [
    "\"\"\"\n",
    "Route 1 :\n",
    "Attirbutes : text, rating Name, headline  , keywords , source(up to the person)\n",
    "\n",
    "\n",
    "\"\"\""
   ]
  },
  {
   "cell_type": "code",
   "execution_count": 9,
   "metadata": {},
   "outputs": [],
   "source": [
    "ckg.drop(columns=['id','date','truthRating','author','named_entities_claim','named_entities_article','sourceURL','link','language'],inplace=True)"
   ]
  },
  {
   "cell_type": "code",
   "execution_count": 10,
   "metadata": {},
   "outputs": [],
   "source": [
    "ckg.dropna(inplace=True)"
   ]
  },
  {
   "cell_type": "code",
   "execution_count": 11,
   "metadata": {},
   "outputs": [],
   "source": [
    "ckg.isna().sum()/(len(ckg))*100\n",
    "ckg.rename(columns={'ratingName':'label'},inplace=True)"
   ]
  },
  {
   "cell_type": "code",
   "execution_count": 12,
   "metadata": {},
   "outputs": [
    {
     "data": {
      "text/plain": [
       "Index(['text', 'label', 'headline', 'keywords', 'source'], dtype='object')"
      ]
     },
     "execution_count": 12,
     "metadata": {},
     "output_type": "execute_result"
    }
   ],
   "source": [
    "ckg.columns"
   ]
  },
  {
   "cell_type": "code",
   "execution_count": 13,
   "metadata": {},
   "outputs": [
    {
     "name": "stdout",
     "output_type": "stream",
     "text": [
      "(9336, 4)\n",
      "(9336,)\n"
     ]
    }
   ],
   "source": [
    "ckg_x=ckg.drop(columns=['label'])\n",
    "ckg_y=ckg['label']\n",
    "\n",
    "#splitting x and y . y is to be predicted !!\n",
    "print(ckg_x.shape)\n",
    "print(ckg_y.shape)\n"
   ]
  },
  {
   "cell_type": "code",
   "execution_count": 14,
   "metadata": {},
   "outputs": [
    {
     "data": {
      "text/plain": [
       "Index(['text', 'headline', 'keywords', 'source'], dtype='object')"
      ]
     },
     "execution_count": 14,
     "metadata": {},
     "output_type": "execute_result"
    }
   ],
   "source": [
    "ckg_x.columns"
   ]
  },
  {
   "cell_type": "code",
   "execution_count": 15,
   "metadata": {},
   "outputs": [
    {
     "name": "stdout",
     "output_type": "stream",
     "text": [
      "33608\n",
      "3736\n",
      "29872\n",
      "3736\n",
      "<class 'pandas.core.frame.DataFrame'>\n",
      "Final size of train/dev/test :  7468 / 934 / 934\n"
     ]
    }
   ],
   "source": [
    "#train test split to form test from megaset\n",
    "from sklearn.model_selection import train_test_split\n",
    "\n",
    "X_train_temp, ckg_test_x, y_train_temp, ckg_test_y = train_test_split(ckg_x,ckg_y,test_size=0.1,random_state=12)\n",
    "print(X_train_temp.size)\n",
    "print(ckg_test_x.size)\n",
    "\n",
    "# mega_test_x : Final testing file with statements\n",
    "# mega_test_y : Final testing file with ratings\n",
    "\n",
    "ckg_train_x, ckg_dev_x, ckg_train_y, ckg_dev_y = train_test_split(X_train_temp,y_train_temp,test_size=ckg_test_x['text'].size,random_state=12)\n",
    "\n",
    "print(ckg_train_x.size)\n",
    "print(ckg_dev_x.size)\n",
    "\n",
    "\n",
    "print(type(ckg_train_x))\n",
    "print(\"Final size of train/dev/test : \",ckg_train_x['text'].size,\"/\",ckg_dev_x['text'].size,\"/\",ckg_test_x['text'].size)"
   ]
  },
  {
   "cell_type": "code",
   "execution_count": 16,
   "metadata": {},
   "outputs": [
    {
     "name": "stderr",
     "output_type": "stream",
     "text": [
      "Using TensorFlow backend.\n"
     ]
    }
   ],
   "source": [
    "import tensorflow\n",
    "import pandas as pd\n",
    "import keras \n",
    "import numpy as np"
   ]
  },
  {
   "cell_type": "code",
   "execution_count": 17,
   "metadata": {},
   "outputs": [],
   "source": [
    "#use this tokenizer for data sent\n",
    "from keras.preprocessing.text import Tokenizer\n",
    "def tokenize(train_data,dev_data,test_data):\n",
    "  tokenizer = Tokenizer()\n",
    "  tokenizer.fit_on_texts(train_data)\n",
    "\n",
    "\n",
    "  em_data_train = tokenizer.texts_to_sequences(train_data)\n",
    "  em_data_dev= tokenizer.texts_to_sequences(dev_data)\n",
    "  em_data_test=tokenizer.texts_to_sequences(test_data)\n",
    "  #em_data_train=emeded training data\n",
    "  #em_data_dev=emeded dev data\n",
    "\n",
    "  vocab_size = len(tokenizer.word_index) + 1  # Adding 1 because of reserved 0 index\n",
    "  print(vocab_size)\n",
    "\n",
    "\n",
    "  return em_data_train,em_data_dev,em_data_test,vocab_size\n",
    "#it reurn the tokenzied train and dev data and the vocab size of the data  "
   ]
  },
  {
   "cell_type": "code",
   "execution_count": 18,
   "metadata": {},
   "outputs": [],
   "source": [
    "#padding the data to be sent \n",
    "from keras.preprocessing.sequence import pad_sequences\n",
    "\n",
    "def padding(token_train_data,token_dev_data,token_test_data):\n",
    "  maxlen=0\n",
    "  for i in token_train_data:\n",
    "    if(len(i)>maxlen):\n",
    "        maxlen=len(i)\n",
    "  print(maxlen)\n",
    "\n",
    "\n",
    "  em_data_train_pad= pad_sequences(token_train_data, padding='post', maxlen=maxlen)\n",
    "  em_data_dev_pad= pad_sequences(token_dev_data, padding='post', maxlen=maxlen)\n",
    "  em_data_test_pad= pad_sequences(token_test_data, padding='post', maxlen=maxlen)\n",
    "\n",
    "  return em_data_train_pad,em_data_dev_pad,em_data_test_pad,maxlen\n",
    "#it return the padded data and the max len of the data"
   ]
  },
  {
   "cell_type": "code",
   "execution_count": 19,
   "metadata": {},
   "outputs": [],
   "source": [
    "import matplotlib.pyplot as plt\n",
    "plt.style.use('ggplot')\n",
    "\n",
    "def plot_history(history):\n",
    "    acc = history.history['acc']\n",
    "    val_acc = history.history['val_acc']\n",
    "    loss = history.history['loss']\n",
    "    val_loss = history.history['val_loss']\n",
    "    x = range(1, len(acc) + 1)\n",
    "\n",
    "    plt.figure(figsize=(12, 5))\n",
    "    plt.subplot(1, 2, 1)\n",
    "    plt.plot(x, acc, 'b', label='Training acc')\n",
    "    plt.plot(x, val_acc, 'r', label='Validation acc')\n",
    "    plt.title('Training and validation accuracy')\n",
    "    plt.legend()\n",
    "    plt.subplot(1, 2, 2)\n",
    "    plt.plot(x, loss, 'b', label='Training loss')\n",
    "    plt.plot(x, val_loss, 'r', label='Validation loss')\n",
    "    plt.title('Training and validation loss')\n",
    "    plt.legend()"
   ]
  },
  {
   "cell_type": "code",
   "execution_count": 20,
   "metadata": {},
   "outputs": [
    {
     "name": "stdout",
     "output_type": "stream",
     "text": [
      "17521\n",
      "13380\n",
      "4083\n",
      "5\n"
     ]
    }
   ],
   "source": [
    "#sending the data to the tokenizer to tokenize the data\n",
    "em_data_train_text,em_data_dev_text,em_data_test_text,text_vocabsize=tokenize(ckg_train_x.text,ckg_dev_x.text,ckg_test_x.text)\n",
    "em_data_train_headline,em_data_dev_headline,em_data_test_headline,headline_vocabsize=tokenize(ckg_train_x.headline,ckg_dev_x.headline,ckg_test_x.headline)\n",
    "em_data_train_keywords,em_data_dev_keywords,em_data_test_keywords,keywords_vocabsize=tokenize(ckg_train_x.keywords,ckg_dev_x.keywords,ckg_test_x.keywords)\n",
    "em_data_train_source,em_data_dev_source,em_data_test_source,source_vocabsize=tokenize(ckg_train_x.source,ckg_dev_x.source,ckg_test_x.source)"
   ]
  },
  {
   "cell_type": "code",
   "execution_count": 21,
   "metadata": {},
   "outputs": [
    {
     "name": "stdout",
     "output_type": "stream",
     "text": [
      "123\n",
      "38\n",
      "24\n",
      "1\n"
     ]
    }
   ],
   "source": [
    "#sending the tokenized data to padding \n",
    "em_data_train_padtext,em_data_dev_padtext,em_data_test_padtext,text_maxlen=padding(em_data_train_text,em_data_dev_text,em_data_test_text)\n",
    "em_data_train_padheadline,em_data_dev_padheadline,em_data_test_padheadline,headline_maxlen=padding(em_data_train_headline,em_data_dev_headline,em_data_test_headline)\n",
    "em_data_train_padkeywords,em_data_dev_padkeywords,em_data_test_padkeywords,keywords_maxlen=padding(em_data_train_keywords,em_data_dev_keywords,em_data_test_keywords)\n",
    "em_data_train_padsource,em_data_dev_padsource,em_data_test_padsource,source_maxlen=padding(em_data_train_source,em_data_dev_source,em_data_test_source)"
   ]
  },
  {
   "cell_type": "code",
   "execution_count": 24,
   "metadata": {},
   "outputs": [
    {
     "name": "stdout",
     "output_type": "stream",
     "text": [
      "16 10\n",
      "Model: \"model_2\"\n",
      "__________________________________________________________________________________________________\n",
      "Layer (type)                    Output Shape         Param #     Connected to                     \n",
      "==================================================================================================\n",
      "text_in (InputLayer)            (None, 123)          0                                            \n",
      "__________________________________________________________________________________________________\n",
      "headline_in (InputLayer)        (None, 38)           0                                            \n",
      "__________________________________________________________________________________________________\n",
      "keywords_in (InputLayer)        (None, 24)           0                                            \n",
      "__________________________________________________________________________________________________\n",
      "source_in (InputLayer)          (None, 1)            0                                            \n",
      "__________________________________________________________________________________________________\n",
      "embedding_5 (Embedding)         (None, 123, 25)      438025      text_in[0][0]                    \n",
      "__________________________________________________________________________________________________\n",
      "embedding_6 (Embedding)         (None, 38, 25)       438025      headline_in[0][0]                \n",
      "__________________________________________________________________________________________________\n",
      "embedding_7 (Embedding)         (None, 24, 25)       438025      keywords_in[0][0]                \n",
      "__________________________________________________________________________________________________\n",
      "embedding_8 (Embedding)         (None, 1, 25)        438025      source_in[0][0]                  \n",
      "__________________________________________________________________________________________________\n",
      "conv1d_5 (Conv1D)               (None, 16, 25)       1984        embedding_5[0][0]                \n",
      "__________________________________________________________________________________________________\n",
      "conv1d_6 (Conv1D)               (None, 16, 25)       624         embedding_6[0][0]                \n",
      "__________________________________________________________________________________________________\n",
      "conv1d_7 (Conv1D)               (None, 16, 25)       400         embedding_7[0][0]                \n",
      "__________________________________________________________________________________________________\n",
      "conv1d_8 (Conv1D)               (None, 16, 25)       32          embedding_8[0][0]                \n",
      "__________________________________________________________________________________________________\n",
      "global_max_pooling1d_5 (GlobalM (None, 25)           0           conv1d_5[0][0]                   \n",
      "__________________________________________________________________________________________________\n",
      "global_max_pooling1d_6 (GlobalM (None, 25)           0           conv1d_6[0][0]                   \n",
      "__________________________________________________________________________________________________\n",
      "global_max_pooling1d_7 (GlobalM (None, 25)           0           conv1d_7[0][0]                   \n",
      "__________________________________________________________________________________________________\n",
      "global_max_pooling1d_8 (GlobalM (None, 25)           0           conv1d_8[0][0]                   \n",
      "__________________________________________________________________________________________________\n",
      "concatenate_2 (Concatenate)     (None, 100)          0           global_max_pooling1d_5[0][0]     \n",
      "                                                                 global_max_pooling1d_6[0][0]     \n",
      "                                                                 global_max_pooling1d_7[0][0]     \n",
      "                                                                 global_max_pooling1d_8[0][0]     \n",
      "__________________________________________________________________________________________________\n",
      "dense_2 (Dense)                 (None, 10)           1010        concatenate_2[0][0]              \n",
      "__________________________________________________________________________________________________\n",
      "dropout_2 (Dropout)             (None, 10)           0           dense_2[0][0]                    \n",
      "__________________________________________________________________________________________________\n",
      "op (Dense)                      (None, 1)            11          dropout_2[0][0]                  \n",
      "==================================================================================================\n",
      "Total params: 1,756,161\n",
      "Trainable params: 1,756,161\n",
      "Non-trainable params: 0\n",
      "__________________________________________________________________________________________________\n"
     ]
    }
   ],
   "source": [
    "from keras.layers import Embedding\n",
    "from keras.layers import concatenate\n",
    "from keras.layers import Flatten\n",
    "from keras.layers import Input, Dense\n",
    "from keras.models import Model\n",
    "from keras.layers import GlobalMaxPool1D,GlobalAveragePooling1D\n",
    "from keras.regularizers import l2\n",
    "from keras.layers import Dropout\n",
    "from keras.layers.convolutional import Conv1D  \n",
    "\n",
    "embedding_dim = 25\n",
    "h1=int(2/3*embedding_dim)\n",
    "h2=int(2/3*h1)\n",
    "print(h1,h2)\n",
    "\n",
    "text_in = Input(shape=(123,), name='text_in')\n",
    "headline_in = Input(shape=(38,), name='headline_in')\n",
    "keywords_in = Input(shape=(24,), name='keywords_in')\n",
    "source_in = Input(shape=(1,), name='source_in')\n",
    "\n",
    "text_embed = Embedding(output_dim=embedding_dim, input_dim=17521, input_length=123)(text_in)\n",
    "headline_embed = Embedding(output_dim=embedding_dim, input_dim=17521, input_length=38)(headline_in)\n",
    "keywords_embed = Embedding(output_dim=embedding_dim, input_dim=17521, input_length=24)(keywords_in)\n",
    "source_embed = Embedding(output_dim=embedding_dim, input_dim=17521, input_length=1)(source_in)\n",
    "\n",
    "\n",
    "te = Conv1D(h1,kernel_size=(1) ,activation='relu',data_format='channels_first')(text_embed)\n",
    "h = Conv1D(h1,kernel_size=(1) ,activation='relu',data_format='channels_first')(headline_embed)\n",
    "kw = Conv1D(h1,kernel_size=(1) ,activation='relu',data_format='channels_first')(keywords_embed)\n",
    "src= Conv1D(h1,kernel_size=(1) ,activation='relu',data_format='channels_first')(source_embed)\n",
    "\n",
    "\n",
    "text_pool = GlobalMaxPool1D()(te)\n",
    "headline_pool = GlobalMaxPool1D()(h)\n",
    "keywords_pool = GlobalMaxPool1D()(kw)\n",
    "source_pool = GlobalMaxPool1D()(src)\n",
    "\n",
    "all_d = concatenate([text_pool, headline_pool,keywords_pool,source_pool])\n",
    "\n",
    "d1 = Dense(10, activation='relu',kernel_regularizer=l2(0.01), bias_regularizer=l2(0.01),activity_regularizer=l2(0.1))(all_d)\n",
    "#d2 = Dense(44, activation='relu')(d1)\n",
    "drop= Dropout(0.4)(d1)\n",
    "op = Dense(1, activation='sigmoid', name='op')(drop)\n",
    "\n",
    "\n",
    "\n",
    "\n",
    "model = Model(inputs=[text_in,headline_in,keywords_in,source_in], outputs=[op])\n",
    "\n",
    "model.summary()"
   ]
  },
  {
   "cell_type": "code",
   "execution_count": 25,
   "metadata": {},
   "outputs": [
    {
     "name": "stderr",
     "output_type": "stream",
     "text": [
      "C:\\Users\\Rahul\\Anaconda3\\lib\\site-packages\\tensorflow_core\\python\\framework\\indexed_slices.py:424: UserWarning: Converting sparse IndexedSlices to a dense Tensor of unknown shape. This may consume a large amount of memory.\n",
      "  \"Converting sparse IndexedSlices to a dense Tensor of unknown shape. \"\n"
     ]
    },
    {
     "name": "stdout",
     "output_type": "stream",
     "text": [
      "Train on 7468 samples, validate on 934 samples\n",
      "Epoch 1/20\n",
      "7468/7468 [==============================] - 19s 3ms/step - loss: 0.6415 - acc: 0.7366 - val_loss: 0.5881 - val_acc: 0.7302\n",
      "Epoch 2/20\n",
      "7468/7468 [==============================] - 19s 3ms/step - loss: 0.5492 - acc: 0.7366 - val_loss: 0.5654 - val_acc: 0.7302\n",
      "Epoch 3/20\n",
      "7468/7468 [==============================] - 19s 3ms/step - loss: 0.4405 - acc: 0.7924 - val_loss: 0.5659 - val_acc: 0.7516\n",
      "Epoch 4/20\n",
      "7468/7468 [==============================] - 19s 3ms/step - loss: 0.3297 - acc: 0.9462 - val_loss: 0.5666 - val_acc: 0.7484\n",
      "Epoch 5/20\n",
      "7468/7468 [==============================] - 19s 3ms/step - loss: 0.2742 - acc: 0.9526 - val_loss: 0.5675 - val_acc: 0.7441\n",
      "Epoch 6/20\n",
      "7468/7468 [==============================] - 19s 3ms/step - loss: 0.2332 - acc: 0.9723 - val_loss: 0.5748 - val_acc: 0.7291\n",
      "Epoch 7/20\n",
      "7468/7468 [==============================] - 19s 3ms/step - loss: 0.2010 - acc: 0.9807 - val_loss: 0.5742 - val_acc: 0.7388\n",
      "Epoch 8/20\n",
      "7468/7468 [==============================] - 19s 3ms/step - loss: 0.1775 - acc: 0.9897 - val_loss: 0.5784 - val_acc: 0.7388\n",
      "Epoch 9/20\n",
      "7468/7468 [==============================] - 19s 3ms/step - loss: 0.1579 - acc: 0.9918 - val_loss: 0.5939 - val_acc: 0.7398\n",
      "Epoch 10/20\n",
      "7468/7468 [==============================] - 19s 3ms/step - loss: 0.1422 - acc: 0.9926 - val_loss: 0.6056 - val_acc: 0.7345\n",
      "Epoch 11/20\n",
      "7468/7468 [==============================] - 19s 3ms/step - loss: 0.1318 - acc: 0.9925 - val_loss: 0.5990 - val_acc: 0.7409\n",
      "Epoch 12/20\n",
      "7468/7468 [==============================] - 19s 3ms/step - loss: 0.1217 - acc: 0.9914 - val_loss: 0.6305 - val_acc: 0.7141\n",
      "Epoch 13/20\n",
      "7468/7468 [==============================] - 19s 3ms/step - loss: 0.1125 - acc: 0.9948 - val_loss: 0.6331 - val_acc: 0.7302\n",
      "Epoch 14/20\n",
      "7468/7468 [==============================] - 19s 3ms/step - loss: 0.1034 - acc: 0.9952 - val_loss: 0.6235 - val_acc: 0.7441\n",
      "Epoch 15/20\n",
      "7468/7468 [==============================] - 19s 3ms/step - loss: 0.0992 - acc: 0.9929 - val_loss: 0.6509 - val_acc: 0.7452\n",
      "Epoch 16/20\n",
      "7468/7468 [==============================] - 19s 3ms/step - loss: 0.0925 - acc: 0.9953 - val_loss: 0.6840 - val_acc: 0.7409\n",
      "Epoch 17/20\n",
      "7468/7468 [==============================] - 19s 3ms/step - loss: 0.0888 - acc: 0.9948 - val_loss: 0.7058 - val_acc: 0.7259\n",
      "Epoch 18/20\n",
      "7468/7468 [==============================] - 19s 3ms/step - loss: 0.0857 - acc: 0.9948 - val_loss: 0.7614 - val_acc: 0.7409\n",
      "Epoch 19/20\n",
      "7468/7468 [==============================] - 19s 3ms/step - loss: 0.0790 - acc: 0.9963 - val_loss: 0.7162 - val_acc: 0.7302\n",
      "Epoch 20/20\n",
      "7468/7468 [==============================] - 19s 3ms/step - loss: 0.0758 - acc: 0.9954 - val_loss: 0.7331 - val_acc: 0.7270\n"
     ]
    },
    {
     "data": {
      "image/png": "[encoded data removed]",
      "text/plain": [
       "<Figure size 864x360 with 2 Axes>"
      ]
     },
     "metadata": {
      "needs_background": "light"
     },
     "output_type": "display_data"
    }
   ],
   "source": [
    "model.compile(optimizer='adam',\n",
    "              loss='binary_crossentropy',metrics=['acc'])\n",
    "h=model.fit({'text_in': em_data_train_padtext, 'headline_in': em_data_train_padheadline, 'keywords_in':em_data_train_padkeywords,'source_in':em_data_train_padsource},{'op': ckg_train_y},\n",
    "          epochs=20, batch_size=8,validation_data=({'text_in': em_data_dev_padtext, 'headline_in': em_data_dev_padheadline, 'keywords_in':em_data_dev_padkeywords,'source_in':em_data_dev_padsource},{'op': ckg_dev_y}))\n",
    "plot_history(h)"
   ]
  },
  {
   "cell_type": "code",
   "execution_count": null,
   "metadata": {},
   "outputs": [],
   "source": []
  }
 ],
 "metadata": {
  "kernelspec": {
   "display_name": "Python 3",
   "language": "python",
   "name": "python3"
  },
  "language_info": {
   "codemirror_mode": {
    "name": "ipython",
    "version": 3
   },
   "file_extension": ".py",
   "mimetype": "text/x-python",
   "name": "python",
   "nbconvert_exporter": "python",
   "pygments_lexer": "ipython3",
   "version": "3.7.4"
  }
 },
 "nbformat": 4,
 "nbformat_minor": 2
}
