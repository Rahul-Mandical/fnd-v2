{
 "cells": [
  {
   "cell_type": "code",
   "execution_count": 3,
   "metadata": {
    "scrolled": true
   },
   "outputs": [],
   "source": [
    "import numpy as np\n",
    "import import_ipynb\n",
    "#import auto_naive as an\n",
    "import auto_pac as ap\n",
    "import pandas as pd\n",
    "\n",
    "#import dtale as d"
   ]
  },
  {
   "cell_type": "code",
   "execution_count": 4,
   "metadata": {},
   "outputs": [
    {
     "data": {
      "text/plain": [
       "Index(['label', 'statement', 'subject', 'speaker', 'speaker_job_title',\n",
       "       'state_info', 'party', 'context'],\n",
       "      dtype='object')"
      ]
     },
     "execution_count": 4,
     "metadata": {},
     "output_type": "execute_result"
    }
   ],
   "source": [
    "data=pd.read_csv('liar_data.csv')\n",
    "#data1=d.show(data)\n",
    "data.columns"
   ]
  },
  {
   "cell_type": "code",
   "execution_count": null,
   "metadata": {},
   "outputs": [],
   "source": [
    "#tfidf model building both early stoping and hashing"
   ]
  },
  {
   "cell_type": "code",
   "execution_count": 6,
   "metadata": {},
   "outputs": [
    {
     "name": "stdout",
     "output_type": "stream",
     "text": [
      "Final size of train/test : 6750 / 1688\n",
      "train accuracy: 0.9976296296296296\n",
      "train confusion matrix\n",
      "[[4990    4]\n",
      " [  12 1744]]\n",
      "test accuracy: 0.625\n",
      "test confusion matrix\n",
      "[[905 312]\n",
      " [321 150]]\n"
     ]
    }
   ],
   "source": [
    "ap.pac_tfidf_model(data.statement,data.label)"
   ]
  },
  {
   "cell_type": "code",
   "execution_count": 8,
   "metadata": {},
   "outputs": [
    {
     "name": "stdout",
     "output_type": "stream",
     "text": [
      "Final size of train/test : 6750 / 1688\n",
      "Early Stopping is being used\n",
      "train accuracy: 0.9241481481481482\n",
      "train confusion matrix\n",
      "[[4790  204]\n",
      " [ 308 1448]]\n",
      "test accuracy: 0.6404028436018957\n",
      "test confusion matrix\n",
      "[[951 266]\n",
      " [341 130]]\n"
     ]
    }
   ],
   "source": [
    "ap.pac_tfidf_model(data.statement,data.label,stop=True)"
   ]
  },
  {
   "cell_type": "code",
   "execution_count": 39,
   "metadata": {},
   "outputs": [
    {
     "name": "stdout",
     "output_type": "stream",
     "text": [
      "Final size of train/test : 6750 / 1688\n",
      "train accuracy: 0.7051851851851851\n",
      "train confusion matrix\n",
      "[[4610  384]\n",
      " [1606  150]]\n",
      "test accuracy: 0.6919431279620853\n",
      "test confusion matrix\n",
      "[[1132   85]\n",
      " [ 435   36]]\n"
     ]
    }
   ],
   "source": [
    "ap.pac_tfidf_model(data.subject,data.label)"
   ]
  },
  {
   "cell_type": "code",
   "execution_count": 50,
   "metadata": {},
   "outputs": [
    {
     "name": "stdout",
     "output_type": "stream",
     "text": [
      "Final size of train/test : 6750 / 1688\n",
      "Early Stopping is being used\n",
      "train accuracy: 0.6826666666666666\n",
      "train confusion matrix\n",
      "[[4327  667]\n",
      " [1475  281]]\n",
      "test accuracy: 0.6646919431279621\n",
      "test confusion matrix\n",
      "[[1058  159]\n",
      " [ 407   64]]\n"
     ]
    }
   ],
   "source": [
    "ap.pac_tfidf_model(data.subject,data.label,stop=True)"
   ]
  },
  {
   "cell_type": "code",
   "execution_count": null,
   "metadata": {},
   "outputs": [],
   "source": []
  },
  {
   "cell_type": "code",
   "execution_count": 51,
   "metadata": {},
   "outputs": [
    {
     "name": "stdout",
     "output_type": "stream",
     "text": [
      "Final size of train/test : 6750 / 1688\n",
      "train accuracy: 0.7579259259259259\n",
      "train confusion matrix\n",
      "[[4488  506]\n",
      " [1128  628]]\n",
      "test accuracy: 0.6575829383886256\n",
      "test confusion matrix\n",
      "[[1027  190]\n",
      " [ 388   83]]\n"
     ]
    }
   ],
   "source": [
    "ap.pac_tfidf_model(data.speaker,data.label)"
   ]
  },
  {
   "cell_type": "code",
   "execution_count": 52,
   "metadata": {},
   "outputs": [
    {
     "name": "stdout",
     "output_type": "stream",
     "text": [
      "Final size of train/test : 6750 / 1688\n",
      "Early Stopping is being used\n",
      "train accuracy: 0.7494814814814815\n",
      "train confusion matrix\n",
      "[[4586  408]\n",
      " [1283  473]]\n",
      "test accuracy: 0.6670616113744076\n",
      "test confusion matrix\n",
      "[[1075  142]\n",
      " [ 420   51]]\n"
     ]
    }
   ],
   "source": [
    "ap.pac_tfidf_model(data.speaker,data.label,stop=True)"
   ]
  },
  {
   "cell_type": "code",
   "execution_count": 53,
   "metadata": {},
   "outputs": [
    {
     "name": "stdout",
     "output_type": "stream",
     "text": [
      "Final size of train/test : 6750 / 1688\n",
      "train accuracy: 0.7007407407407408\n",
      "train confusion matrix\n",
      "[[4294  700]\n",
      " [1320  436]]\n",
      "test accuracy: 0.6481042654028436\n",
      "test confusion matrix\n",
      "[[1017  200]\n",
      " [ 394   77]]\n"
     ]
    }
   ],
   "source": [
    "ap.pac_tfidf_model(data.speaker_job_title,data.label)"
   ]
  },
  {
   "cell_type": "code",
   "execution_count": 65,
   "metadata": {},
   "outputs": [
    {
     "name": "stdout",
     "output_type": "stream",
     "text": [
      "Final size of train/test : 6750 / 1688\n",
      "Early Stopping is being used\n",
      "train accuracy: 0.6619259259259259\n",
      "train confusion matrix\n",
      "[[3866 1128]\n",
      " [1154  602]]\n",
      "test accuracy: 0.601303317535545\n",
      "test confusion matrix\n",
      "[[900 317]\n",
      " [356 115]]\n"
     ]
    }
   ],
   "source": [
    "ap.pac_tfidf_model(data.speaker_job_title,data.label,stop=True)"
   ]
  },
  {
   "cell_type": "code",
   "execution_count": 66,
   "metadata": {},
   "outputs": [
    {
     "name": "stdout",
     "output_type": "stream",
     "text": [
      "Final size of train/test : 6750 / 1688\n",
      "train accuracy: 0.6385185185185185\n",
      "train confusion matrix\n",
      "[[3830 1164]\n",
      " [1276  480]]\n",
      "test accuracy: 0.615521327014218\n",
      "test confusion matrix\n",
      "[[928 289]\n",
      " [360 111]]\n"
     ]
    }
   ],
   "source": [
    "ap.pac_tfidf_model(data.state_info,data.label)"
   ]
  },
  {
   "cell_type": "code",
   "execution_count": 67,
   "metadata": {},
   "outputs": [
    {
     "name": "stdout",
     "output_type": "stream",
     "text": [
      "Final size of train/test : 6750 / 1688\n",
      "Early Stopping is being used\n",
      "train accuracy: 0.7031111111111111\n",
      "train confusion matrix\n",
      "[[4595  399]\n",
      " [1605  151]]\n",
      "test accuracy: 0.6800947867298578\n",
      "test confusion matrix\n",
      "[[1109  108]\n",
      " [ 432   39]]\n"
     ]
    }
   ],
   "source": [
    "ap.pac_tfidf_model(data.state_info,data.label,stop=True)"
   ]
  },
  {
   "cell_type": "code",
   "execution_count": 68,
   "metadata": {},
   "outputs": [
    {
     "name": "stdout",
     "output_type": "stream",
     "text": [
      "Final size of train/test : 6750 / 1688\n",
      "train accuracy: 0.7402962962962963\n",
      "train confusion matrix\n",
      "[[4990    4]\n",
      " [1749    7]]\n",
      "test accuracy: 0.7186018957345972\n",
      "test confusion matrix\n",
      "[[1213    4]\n",
      " [ 471    0]]\n"
     ]
    }
   ],
   "source": [
    "ap.pac_tfidf_model(data.party,data.label)"
   ]
  },
  {
   "cell_type": "code",
   "execution_count": 69,
   "metadata": {},
   "outputs": [
    {
     "name": "stdout",
     "output_type": "stream",
     "text": [
      "Final size of train/test : 6750 / 1688\n",
      "Early Stopping is being used\n",
      "train accuracy: 0.7398518518518519\n",
      "train confusion matrix\n",
      "[[4993    1]\n",
      " [1755    1]]\n",
      "test accuracy: 0.7209715639810427\n",
      "test confusion matrix\n",
      "[[1217    0]\n",
      " [ 471    0]]\n"
     ]
    }
   ],
   "source": [
    "ap.pac_tfidf_model(data.party,data.label,stop=True)"
   ]
  },
  {
   "cell_type": "code",
   "execution_count": 70,
   "metadata": {},
   "outputs": [
    {
     "name": "stdout",
     "output_type": "stream",
     "text": [
      "Final size of train/test : 6750 / 1688\n",
      "train accuracy: 0.7601481481481481\n",
      "train confusion matrix\n",
      "[[4604  390]\n",
      " [1229  527]]\n",
      "test accuracy: 0.6558056872037915\n",
      "test confusion matrix\n",
      "[[1051  166]\n",
      " [ 415   56]]\n"
     ]
    }
   ],
   "source": [
    "ap.pac_tfidf_model(data.context,data.label)"
   ]
  },
  {
   "cell_type": "code",
   "execution_count": 71,
   "metadata": {},
   "outputs": [
    {
     "name": "stdout",
     "output_type": "stream",
     "text": [
      "Final size of train/test : 6750 / 1688\n",
      "Early Stopping is being used\n",
      "train accuracy: 0.7469629629629629\n",
      "train confusion matrix\n",
      "[[4568  426]\n",
      " [1282  474]]\n",
      "test accuracy: 0.659952606635071\n",
      "test confusion matrix\n",
      "[[1052  165]\n",
      " [ 409   62]]\n"
     ]
    }
   ],
   "source": [
    "ap.pac_tfidf_model(data.context,data.label,stop=True)"
   ]
  },
  {
   "cell_type": "code",
   "execution_count": 86,
   "metadata": {},
   "outputs": [],
   "source": [
    "#hashing model \n",
    "#ap.pac_hash_model(data.statement,data.label)\n",
    "#we ignoring the hashing models "
   ]
  },
  {
   "cell_type": "code",
   "execution_count": 85,
   "metadata": {},
   "outputs": [],
   "source": [
    "#ap.pac_hash_model(data.subject,data.label)"
   ]
  },
  {
   "cell_type": "code",
   "execution_count": 84,
   "metadata": {},
   "outputs": [],
   "source": [
    "#ap.pac_hash_model(data.speaker,data.label)"
   ]
  },
  {
   "cell_type": "code",
   "execution_count": 83,
   "metadata": {},
   "outputs": [],
   "source": [
    "#ap.pac_hash_model(data.speaker_job_title,data.label)"
   ]
  },
  {
   "cell_type": "code",
   "execution_count": 82,
   "metadata": {},
   "outputs": [],
   "source": [
    "#ap.pac_hash_model(data.state_info,data.label)"
   ]
  },
  {
   "cell_type": "code",
   "execution_count": 81,
   "metadata": {},
   "outputs": [],
   "source": [
    "#ap.pac_hash_model(data.subject,data.label)"
   ]
  },
  {
   "cell_type": "code",
   "execution_count": 80,
   "metadata": {
    "scrolled": true
   },
   "outputs": [],
   "source": [
    "#ap.pac_hash_model(data.subject,data.label)"
   ]
  },
  {
   "cell_type": "code",
   "execution_count": 77,
   "metadata": {},
   "outputs": [],
   "source": [
    "#pac model with all attributes\n",
    "def mult_tfidf_pac(x1,x2,x3,x4,x5,x6,x7,y,stop=False):\n",
    "    from sklearn.feature_extraction.text import TfidfVectorizer\n",
    "    train_x1,train_y1,test_x1,test_y1=an.split_data(x1,y)\n",
    "    train_x2,train_y2,test_x2,test_y2=an.split_data(x2,y)\n",
    "    train_x3,train_y3,test_x3,test_y3=an.split_data(x3,y)\n",
    "    train_x4,train_y4,test_x4,test_y4=an.split_data(x5,y)\n",
    "    train_x5,train_y5,test_x5,test_y5=an.split_data(x5,y)\n",
    "    train_x6,train_y6,test_x6,test_y6=an.split_data(x6,y)\n",
    "    train_x7,train_y7,test_x7,test_y7=an.split_data(x7,y)\n",
    "    \n",
    "    tfidf_vectorizer = TfidfVectorizer(stop_words='english',max_df=0.7)   # a TFIDF vectorize\n",
    "    \n",
    "    tfidf_train_x1 = pd.DataFrame(tfidf_vectorizer.fit_transform(train_x1).todense())  #fitting the training data\n",
    "    tfidf_test_x1 = pd.DataFrame(tfidf_vectorizer.transform(test_x1).todense())\n",
    "\n",
    "    tfidf_train_x2 = pd.DataFrame(tfidf_vectorizer.fit_transform(train_x2).todense())  #fitting the training data\n",
    "    tfidf_test_x2 = pd.DataFrame(tfidf_vectorizer.transform(test_x2).todense()) \n",
    "        \n",
    "    tfidf_train_x3 = pd.DataFrame(tfidf_vectorizer.fit_transform(train_x3).todense())  #fitting the training data\n",
    "    tfidf_test_x3 = pd.DataFrame(tfidf_vectorizer.transform(test_x3).todense())\n",
    "        \n",
    "    tfidf_train_x4 = pd.DataFrame(tfidf_vectorizer.fit_transform(train_x4).todense())  #fitting the training data\n",
    "    tfidf_test_x4 = pd.DataFrame(tfidf_vectorizer.transform(test_x4).todense())\n",
    "\n",
    "    tfidf_train_x5 = pd.DataFrame(tfidf_vectorizer.fit_transform(train_x5).todense())  #fitting the training data\n",
    "    tfidf_test_x5 = pd.DataFrame(tfidf_vectorizer.transform(test_x5).todense()) \n",
    "        \n",
    "    tfidf_train_x6 = pd.DataFrame(tfidf_vectorizer.fit_transform(train_x6).todense())  #fitting the training data\n",
    "    tfidf_test_x6 = pd.DataFrame(tfidf_vectorizer.transform(test_x6).todense())\n",
    "    \n",
    "    tfidf_train_x7 = pd.DataFrame(tfidf_vectorizer.fit_transform(train_x7).todense())  #fitting the training data\n",
    "    tfidf_test_x7 = pd.DataFrame(tfidf_vectorizer.transform(test_x7).todense())\n",
    "        \n",
    "    train=pd.concat([tfidf_train_x1,tfidf_train_x2,tfidf_train_x3,tfidf_train_x4,tfidf_train_x5,tfidf_train_x6,tfidf_train_x7],axis=1)\n",
    "    test=pd.concat([tfidf_test_x1,tfidf_test_x2,tfidf_test_x3,tfidf_test_x4,tfidf_test_x5,tfidf_test_x6,tfidf_test_x7],axis=1)\n",
    "        \n",
    "    ap.passive_aggressive(train,train_y7,test,test_y7,stop)\n"
   ]
  },
  {
   "cell_type": "code",
   "execution_count": 78,
   "metadata": {},
   "outputs": [
    {
     "name": "stdout",
     "output_type": "stream",
     "text": [
      "Splitting\n",
      "Final size of train/test : 6750 / 1688\n",
      "Splitting\n",
      "Final size of train/test : 6750 / 1688\n",
      "Splitting\n",
      "Final size of train/test : 6750 / 1688\n",
      "Splitting\n",
      "Final size of train/test : 6750 / 1688\n",
      "Splitting\n",
      "Final size of train/test : 6750 / 1688\n",
      "Splitting\n",
      "Final size of train/test : 6750 / 1688\n",
      "Splitting\n",
      "Final size of train/test : 6750 / 1688\n",
      "train accuracy: 0.9997037037037036\n",
      "train confusion matrix\n",
      "[[4993    1]\n",
      " [   1 1755]]\n",
      "test accuracy: 0.643957345971564\n",
      "test confusion matrix\n",
      "[[946 271]\n",
      " [330 141]]\n"
     ]
    }
   ],
   "source": [
    "#multiple attribute\n",
    "mult_tfidf_pac(data.statement,data.subject,data.speaker,data.speaker_job_title,data.state_info,data.party,data.context,data.label)"
   ]
  },
  {
   "cell_type": "code",
   "execution_count": 79,
   "metadata": {
    "scrolled": true
   },
   "outputs": [
    {
     "name": "stdout",
     "output_type": "stream",
     "text": [
      "Splitting\n",
      "Final size of train/test : 6750 / 1688\n",
      "Splitting\n",
      "Final size of train/test : 6750 / 1688\n",
      "Splitting\n",
      "Final size of train/test : 6750 / 1688\n",
      "Splitting\n",
      "Final size of train/test : 6750 / 1688\n",
      "Splitting\n",
      "Final size of train/test : 6750 / 1688\n",
      "Splitting\n",
      "Final size of train/test : 6750 / 1688\n",
      "Splitting\n",
      "Final size of train/test : 6750 / 1688\n",
      "Early Stopping is being used\n",
      "train accuracy: 0.8663703703703703\n",
      "train confusion matrix\n",
      "[[4602  392]\n",
      " [ 510 1246]]\n",
      "test accuracy: 0.6475118483412322\n",
      "test confusion matrix\n",
      "[[954 263]\n",
      " [332 139]]\n"
     ]
    }
   ],
   "source": [
    "mult_tfidf_pac(data.statement,data.subject,data.speaker,data.speaker_job_title,data.state_info,data.party,data.context,data.label,stop=True)"
   ]
  }
 ],
 "metadata": {
  "kernelspec": {
   "display_name": "Python 3",
   "language": "python",
   "name": "python3"
  },
  "language_info": {
   "codemirror_mode": {
    "name": "ipython",
    "version": 3
   },
   "file_extension": ".py",
   "mimetype": "text/x-python",
   "name": "python",
   "nbconvert_exporter": "python",
   "pygments_lexer": "ipython3",
   "version": "3.7.4"
  }
 },
 "nbformat": 4,
 "nbformat_minor": 2
}
